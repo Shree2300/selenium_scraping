{
 "cells": [
  {
   "cell_type": "code",
   "execution_count": 33,
   "metadata": {},
   "outputs": [],
   "source": [
    "import pandas as pd"
   ]
  },
  {
   "cell_type": "code",
   "execution_count": 34,
   "metadata": {},
   "outputs": [
    {
     "name": "stdout",
     "output_type": "stream",
     "text": [
      "Requirement already satisfied: selenium in c:\\users\\lenovo\\anaconda3\\lib\\site-packages (4.1.3)\n",
      "Requirement already satisfied: urllib3[secure,socks]~=1.26 in c:\\users\\lenovo\\anaconda3\\lib\\site-packages (from selenium) (1.26.9)\n",
      "Requirement already satisfied: trio~=0.17 in c:\\users\\lenovo\\anaconda3\\lib\\site-packages (from selenium) (0.20.0)\n",
      "Requirement already satisfied: trio-websocket~=0.9 in c:\\users\\lenovo\\anaconda3\\lib\\site-packages (from selenium) (0.9.2)\n",
      "Requirement already satisfied: idna>=2.0.0; extra == \"secure\" in c:\\users\\lenovo\\anaconda3\\lib\\site-packages (from urllib3[secure,socks]~=1.26->selenium) (2.10)\n",
      "Requirement already satisfied: cryptography>=1.3.4; extra == \"secure\" in c:\\users\\lenovo\\anaconda3\\lib\\site-packages (from urllib3[secure,socks]~=1.26->selenium) (3.1.1)\n",
      "Requirement already satisfied: certifi; extra == \"secure\" in c:\\users\\lenovo\\anaconda3\\lib\\site-packages (from urllib3[secure,socks]~=1.26->selenium) (2020.6.20)\n",
      "Requirement already satisfied: pyOpenSSL>=0.14; extra == \"secure\" in c:\\users\\lenovo\\anaconda3\\lib\\site-packages (from urllib3[secure,socks]~=1.26->selenium) (19.1.0)\n",
      "Requirement already satisfied: PySocks!=1.5.7,<2.0,>=1.5.6; extra == \"socks\" in c:\\users\\lenovo\\anaconda3\\lib\\site-packages (from urllib3[secure,socks]~=1.26->selenium) (1.7.1)\n",
      "Requirement already satisfied: sniffio in c:\\users\\lenovo\\anaconda3\\lib\\site-packages (from trio~=0.17->selenium) (1.2.0)\n",
      "Requirement already satisfied: outcome in c:\\users\\lenovo\\anaconda3\\lib\\site-packages (from trio~=0.17->selenium) (1.1.0)\n",
      "Requirement already satisfied: async-generator>=1.9 in c:\\users\\lenovo\\anaconda3\\lib\\site-packages (from trio~=0.17->selenium) (1.10)\n",
      "Requirement already satisfied: cffi>=1.14; os_name == \"nt\" and implementation_name != \"pypy\" in c:\\users\\lenovo\\anaconda3\\lib\\site-packages (from trio~=0.17->selenium) (1.14.3)\n",
      "Requirement already satisfied: sortedcontainers in c:\\users\\lenovo\\anaconda3\\lib\\site-packages (from trio~=0.17->selenium) (2.2.2)\n",
      "Requirement already satisfied: attrs>=19.2.0 in c:\\users\\lenovo\\anaconda3\\lib\\site-packages (from trio~=0.17->selenium) (20.3.0)\n",
      "Requirement already satisfied: wsproto>=0.14 in c:\\users\\lenovo\\anaconda3\\lib\\site-packages (from trio-websocket~=0.9->selenium) (1.1.0)\n",
      "Requirement already satisfied: six>=1.4.1 in c:\\users\\lenovo\\anaconda3\\lib\\site-packages (from cryptography>=1.3.4; extra == \"secure\"->urllib3[secure,socks]~=1.26->selenium) (1.15.0)\n",
      "Requirement already satisfied: pycparser in c:\\users\\lenovo\\anaconda3\\lib\\site-packages (from cffi>=1.14; os_name == \"nt\" and implementation_name != \"pypy\"->trio~=0.17->selenium) (2.20)\n",
      "Requirement already satisfied: h11<1,>=0.9.0 in c:\\users\\lenovo\\anaconda3\\lib\\site-packages (from wsproto>=0.14->trio-websocket~=0.9->selenium) (0.13.0)\n"
     ]
    }
   ],
   "source": [
    "!pip install selenium"
   ]
  },
  {
   "cell_type": "code",
   "execution_count": 35,
   "metadata": {},
   "outputs": [],
   "source": [
    "import selenium\n",
    "from selenium import webdriver \n",
    "import pandas as pd \n",
    "import warnings\n",
    "warnings.filterwarnings('ignore')"
   ]
  },
  {
   "cell_type": "code",
   "execution_count": 36,
   "metadata": {},
   "outputs": [],
   "source": [
    "driver=webdriver.Chrome(r\"C:/Users/Lenovo/Downloads/chromedriver_win32/chromedriver.exe\")"
   ]
  },
  {
   "cell_type": "code",
   "execution_count": 16,
   "metadata": {},
   "outputs": [],
   "source": [
    "url = \"https://www.naukri.com/\"\n",
    "driver.get(url)"
   ]
  },
  {
   "cell_type": "code",
   "execution_count": 17,
   "metadata": {},
   "outputs": [
    {
     "data": {
      "text/plain": [
       "<selenium.webdriver.remote.webelement.WebElement (session=\"ebfb619959580f396a8e485e6614f085\", element=\"ac19bb9e-6db8-4dc6-bd2e-9abf64466702\")>"
      ]
     },
     "execution_count": 17,
     "metadata": {},
     "output_type": "execute_result"
    }
   ],
   "source": [
    "search_job=driver.find_element_by_class_name('suggestor-input ')\n",
    "search_job"
   ]
  },
  {
   "cell_type": "code",
   "execution_count": 18,
   "metadata": {},
   "outputs": [],
   "source": [
    "search_job.send_keys(\"Data Analyst\")"
   ]
  },
  {
   "cell_type": "code",
   "execution_count": 19,
   "metadata": {},
   "outputs": [
    {
     "data": {
      "text/plain": [
       "<selenium.webdriver.remote.webelement.WebElement (session=\"ebfb619959580f396a8e485e6614f085\", element=\"18cd855a-0859-4210-9e0f-98d876d2026f\")>"
      ]
     },
     "execution_count": 19,
     "metadata": {},
     "output_type": "execute_result"
    }
   ],
   "source": [
    "#scraping the job-location\n",
    "search_locn=driver.find_element_by_xpath(\"/html/body/div/div[2]/div[3]/div/div/div[3]/div/div/div/input\")\n",
    "search_locn"
   ]
  },
  {
   "cell_type": "code",
   "execution_count": 20,
   "metadata": {},
   "outputs": [],
   "source": [
    "search_locn.send_keys(\"Bangalore\")"
   ]
  },
  {
   "cell_type": "code",
   "execution_count": 21,
   "metadata": {},
   "outputs": [],
   "source": [
    "search_btn=driver.find_element_by_xpath(\"/html/body/div/div[2]/div[3]/div/div/div[6]\")\n",
    "search_btn.click()"
   ]
  },
  {
   "cell_type": "code",
   "execution_count": 22,
   "metadata": {},
   "outputs": [
    {
     "data": {
      "text/plain": [
       "20"
      ]
     },
     "execution_count": 22,
     "metadata": {},
     "output_type": "execute_result"
    }
   ],
   "source": [
    "## Extracting job title \n",
    "title_tags=driver.find_elements_by_xpath(\"//a[@class='title fw500 ellipsis']\")\n",
    "len(title_tags)   "
   ]
  },
  {
   "cell_type": "code",
   "execution_count": 23,
   "metadata": {},
   "outputs": [
    {
     "data": {
      "text/plain": [
       "[<selenium.webdriver.remote.webelement.WebElement (session=\"ebfb619959580f396a8e485e6614f085\", element=\"77585077-4c46-4390-8578-c129b2ac78a2\")>,\n",
       " <selenium.webdriver.remote.webelement.WebElement (session=\"ebfb619959580f396a8e485e6614f085\", element=\"6981fea0-c323-4556-b768-0386a32bcb0b\")>,\n",
       " <selenium.webdriver.remote.webelement.WebElement (session=\"ebfb619959580f396a8e485e6614f085\", element=\"64fe0342-7b69-4210-9625-3045bab70a24\")>,\n",
       " <selenium.webdriver.remote.webelement.WebElement (session=\"ebfb619959580f396a8e485e6614f085\", element=\"930d2642-3983-426d-bccf-0f17beef560e\")>,\n",
       " <selenium.webdriver.remote.webelement.WebElement (session=\"ebfb619959580f396a8e485e6614f085\", element=\"66d75b79-7aa9-44f2-a7c3-ed0e78144821\")>,\n",
       " <selenium.webdriver.remote.webelement.WebElement (session=\"ebfb619959580f396a8e485e6614f085\", element=\"609e0fcb-09c3-4baa-9346-473f9f1431f9\")>,\n",
       " <selenium.webdriver.remote.webelement.WebElement (session=\"ebfb619959580f396a8e485e6614f085\", element=\"d3d022e7-d9bd-49fc-bb1a-51881ee86c6d\")>,\n",
       " <selenium.webdriver.remote.webelement.WebElement (session=\"ebfb619959580f396a8e485e6614f085\", element=\"80d09bd0-6c33-4496-92e6-1a5b5292fbf6\")>,\n",
       " <selenium.webdriver.remote.webelement.WebElement (session=\"ebfb619959580f396a8e485e6614f085\", element=\"f6438ecd-95cd-447e-89fa-5766da69da9f\")>,\n",
       " <selenium.webdriver.remote.webelement.WebElement (session=\"ebfb619959580f396a8e485e6614f085\", element=\"8b438ccd-8501-4d09-afe6-f6b027d08edd\")>,\n",
       " <selenium.webdriver.remote.webelement.WebElement (session=\"ebfb619959580f396a8e485e6614f085\", element=\"53f7cd4e-1201-4159-888f-09060832c671\")>,\n",
       " <selenium.webdriver.remote.webelement.WebElement (session=\"ebfb619959580f396a8e485e6614f085\", element=\"57c17856-1082-4594-a48c-056bbd20ca00\")>,\n",
       " <selenium.webdriver.remote.webelement.WebElement (session=\"ebfb619959580f396a8e485e6614f085\", element=\"d2829c33-0df1-4649-9a05-c754867892cf\")>,\n",
       " <selenium.webdriver.remote.webelement.WebElement (session=\"ebfb619959580f396a8e485e6614f085\", element=\"4f49d7be-1f3b-44bf-9795-55fae9448d4d\")>,\n",
       " <selenium.webdriver.remote.webelement.WebElement (session=\"ebfb619959580f396a8e485e6614f085\", element=\"b2fb9f2f-e518-407c-a07b-583f58409ec8\")>,\n",
       " <selenium.webdriver.remote.webelement.WebElement (session=\"ebfb619959580f396a8e485e6614f085\", element=\"e186ca52-527d-4b03-8dd0-afd1b45e2189\")>,\n",
       " <selenium.webdriver.remote.webelement.WebElement (session=\"ebfb619959580f396a8e485e6614f085\", element=\"a777e831-d64d-4a77-b6cc-60aa9f3b845d\")>,\n",
       " <selenium.webdriver.remote.webelement.WebElement (session=\"ebfb619959580f396a8e485e6614f085\", element=\"94cd2b46-8a29-4759-a693-c10b3cf61cd1\")>,\n",
       " <selenium.webdriver.remote.webelement.WebElement (session=\"ebfb619959580f396a8e485e6614f085\", element=\"c8b445bc-4642-499f-8585-e7f7b7b5d2d3\")>,\n",
       " <selenium.webdriver.remote.webelement.WebElement (session=\"ebfb619959580f396a8e485e6614f085\", element=\"3a2cb597-0f50-448f-8195-f0dd00bf6244\")>]"
      ]
     },
     "execution_count": 23,
     "metadata": {},
     "output_type": "execute_result"
    }
   ],
   "source": [
    "title_tags"
   ]
  },
  {
   "cell_type": "code",
   "execution_count": 24,
   "metadata": {},
   "outputs": [],
   "source": [
    "job_titles=[]"
   ]
  },
  {
   "cell_type": "code",
   "execution_count": 25,
   "metadata": {},
   "outputs": [
    {
     "data": {
      "text/plain": [
       "['Financial Data Analyst - Mandarin Language',\n",
       " 'Data Analyst',\n",
       " 'Junior Data Analyst/ Scientist- Fresher Position',\n",
       " 'Senior Data Analyst III',\n",
       " 'Hiring -Data Analyst, Business Analyst, MIS Analyst -3rd Party Payroll',\n",
       " 'Senior Data Analyst',\n",
       " 'Data Analyst - I/II',\n",
       " 'Senior Data Analyst - SQL | 3M-TCOE',\n",
       " 'Data Analyst',\n",
       " 'Azure Data Analyst',\n",
       " 'Data Analyst',\n",
       " 'Data Analyst - Quality',\n",
       " 'Data Analyst',\n",
       " 'Required Senior Data Analyst - Brickwork Ratings',\n",
       " 'Senior Data Analyst',\n",
       " 'Data Analyst 1',\n",
       " 'Sr.Data Analyst/ Scientist',\n",
       " 'Senior Data Analyst',\n",
       " 'Data Analyst/Senior Data Analyst',\n",
       " 'Senior Data Analyst - Flipkart Data science group']"
      ]
     },
     "execution_count": 25,
     "metadata": {},
     "output_type": "execute_result"
    }
   ],
   "source": [
    "for i in title_tags:\n",
    "    job_titles.append(i.text)\n",
    "len(job_titles)\n",
    "job_titles"
   ]
  },
  {
   "cell_type": "code",
   "execution_count": 26,
   "metadata": {},
   "outputs": [
    {
     "data": {
      "text/plain": [
       "20"
      ]
     },
     "execution_count": 26,
     "metadata": {},
     "output_type": "execute_result"
    }
   ],
   "source": [
    "company_tags=driver.find_elements_by_xpath(\"//a[@class='subTitle ellipsis fleft']\")\n",
    "len(company_tags)"
   ]
  },
  {
   "cell_type": "code",
   "execution_count": 27,
   "metadata": {},
   "outputs": [
    {
     "data": {
      "text/plain": [
       "[<selenium.webdriver.remote.webelement.WebElement (session=\"ebfb619959580f396a8e485e6614f085\", element=\"8f010a9c-77c6-499b-877e-004dfe1551dc\")>,\n",
       " <selenium.webdriver.remote.webelement.WebElement (session=\"ebfb619959580f396a8e485e6614f085\", element=\"43cfe1c1-3b36-4c56-b42b-36388e93674a\")>,\n",
       " <selenium.webdriver.remote.webelement.WebElement (session=\"ebfb619959580f396a8e485e6614f085\", element=\"67e2fd9e-9190-4976-a4e8-6d966bf93381\")>,\n",
       " <selenium.webdriver.remote.webelement.WebElement (session=\"ebfb619959580f396a8e485e6614f085\", element=\"f3594a03-597d-4fb2-9333-62b8283c1c4b\")>,\n",
       " <selenium.webdriver.remote.webelement.WebElement (session=\"ebfb619959580f396a8e485e6614f085\", element=\"d491baea-3b34-48f6-8695-44759ed516a3\")>,\n",
       " <selenium.webdriver.remote.webelement.WebElement (session=\"ebfb619959580f396a8e485e6614f085\", element=\"19ac44e7-ba98-421d-b727-c137ff979a57\")>,\n",
       " <selenium.webdriver.remote.webelement.WebElement (session=\"ebfb619959580f396a8e485e6614f085\", element=\"729b1f7a-fdfe-446f-ac0f-7c53930443cf\")>,\n",
       " <selenium.webdriver.remote.webelement.WebElement (session=\"ebfb619959580f396a8e485e6614f085\", element=\"db904daa-ac32-4374-a8bf-7a6ade70790f\")>,\n",
       " <selenium.webdriver.remote.webelement.WebElement (session=\"ebfb619959580f396a8e485e6614f085\", element=\"b02fdb33-72ff-4a7f-87a1-b0bb3b9b8817\")>,\n",
       " <selenium.webdriver.remote.webelement.WebElement (session=\"ebfb619959580f396a8e485e6614f085\", element=\"85225aaf-58fb-4b3b-807d-a3e25968c253\")>,\n",
       " <selenium.webdriver.remote.webelement.WebElement (session=\"ebfb619959580f396a8e485e6614f085\", element=\"0ffb78d9-c633-44e6-8d3d-da25db4f8c5b\")>,\n",
       " <selenium.webdriver.remote.webelement.WebElement (session=\"ebfb619959580f396a8e485e6614f085\", element=\"01ad2f1c-7530-47d8-ba61-2d1f74fb6121\")>,\n",
       " <selenium.webdriver.remote.webelement.WebElement (session=\"ebfb619959580f396a8e485e6614f085\", element=\"bfecb962-6d77-4c73-abbf-0c090b7ec6ea\")>,\n",
       " <selenium.webdriver.remote.webelement.WebElement (session=\"ebfb619959580f396a8e485e6614f085\", element=\"7c4fe79f-cb26-4bac-a575-005f651fd170\")>,\n",
       " <selenium.webdriver.remote.webelement.WebElement (session=\"ebfb619959580f396a8e485e6614f085\", element=\"b7269b7f-9768-49d6-b35d-4667cf923095\")>,\n",
       " <selenium.webdriver.remote.webelement.WebElement (session=\"ebfb619959580f396a8e485e6614f085\", element=\"33c525e6-cca8-4c6c-bd7f-8f336fb38ed9\")>,\n",
       " <selenium.webdriver.remote.webelement.WebElement (session=\"ebfb619959580f396a8e485e6614f085\", element=\"61758bb6-be95-4fa9-a118-273abc7e653d\")>,\n",
       " <selenium.webdriver.remote.webelement.WebElement (session=\"ebfb619959580f396a8e485e6614f085\", element=\"01879b34-79f4-4f8a-89e0-1d78aa4fca06\")>,\n",
       " <selenium.webdriver.remote.webelement.WebElement (session=\"ebfb619959580f396a8e485e6614f085\", element=\"5e88f50b-3013-4c70-908a-5899e1bebba5\")>,\n",
       " <selenium.webdriver.remote.webelement.WebElement (session=\"ebfb619959580f396a8e485e6614f085\", element=\"27e6e597-9637-4ecd-b917-5dc415a14b15\")>]"
      ]
     },
     "execution_count": 27,
     "metadata": {},
     "output_type": "execute_result"
    }
   ],
   "source": [
    "company_tags"
   ]
  },
  {
   "cell_type": "code",
   "execution_count": 30,
   "metadata": {},
   "outputs": [],
   "source": [
    "company_name=[]"
   ]
  },
  {
   "cell_type": "code",
   "execution_count": 31,
   "metadata": {},
   "outputs": [
    {
     "data": {
      "text/plain": [
       "[\"Moody's\",\n",
       " 'Vedantu Innovations',\n",
       " 'Sejal Consulting Hub',\n",
       " 'Flipkart',\n",
       " 'Flipkart',\n",
       " 'Thomson Reuters',\n",
       " 'Philips',\n",
       " 'TALENT500 TECH (INDIA) PRIVATE LIMITED',\n",
       " 'NTT DATA',\n",
       " 'NTT DATA',\n",
       " 'mfine',\n",
       " 'Enphase Energy',\n",
       " 'Technicolor Animation & Games',\n",
       " 'Brickwork Ratings',\n",
       " 'Nike India',\n",
       " 'Optum',\n",
       " 'Anicalls',\n",
       " 'Flipkart',\n",
       " 'BYJUS',\n",
       " 'Flipkart']"
      ]
     },
     "execution_count": 31,
     "metadata": {},
     "output_type": "execute_result"
    }
   ],
   "source": [
    "for i in company_tags:\n",
    "    company_name.append(i.text)\n",
    "len(company_name)\n",
    "company_name"
   ]
  },
  {
   "cell_type": "code",
   "execution_count": 41,
   "metadata": {},
   "outputs": [
    {
     "data": {
      "text/plain": [
       "20"
      ]
     },
     "execution_count": 41,
     "metadata": {},
     "output_type": "execute_result"
    }
   ],
   "source": [
    "###Extracting Experience\n",
    "exp_tags=driver.find_elements_by_xpath(\"//li[@class='fleft grey-text br2 placeHolderLi experience']\")\n",
    "len(exp_tags)"
   ]
  },
  {
   "cell_type": "code",
   "execution_count": 42,
   "metadata": {},
   "outputs": [
    {
     "data": {
      "text/plain": [
       "[<selenium.webdriver.remote.webelement.WebElement (session=\"ebfb619959580f396a8e485e6614f085\", element=\"6fa4eb49-d256-4620-a190-b9c13b840912\")>,\n",
       " <selenium.webdriver.remote.webelement.WebElement (session=\"ebfb619959580f396a8e485e6614f085\", element=\"06e04c37-9aaf-4f5c-ac93-4029899b321f\")>,\n",
       " <selenium.webdriver.remote.webelement.WebElement (session=\"ebfb619959580f396a8e485e6614f085\", element=\"01dd7801-0af5-4453-ba6c-c1a13a5de92b\")>,\n",
       " <selenium.webdriver.remote.webelement.WebElement (session=\"ebfb619959580f396a8e485e6614f085\", element=\"2513604a-b818-48a4-a529-f9ebf96c05b5\")>,\n",
       " <selenium.webdriver.remote.webelement.WebElement (session=\"ebfb619959580f396a8e485e6614f085\", element=\"aa23502d-104e-4ad9-9ac5-6824369ce36a\")>,\n",
       " <selenium.webdriver.remote.webelement.WebElement (session=\"ebfb619959580f396a8e485e6614f085\", element=\"8f1b6ffb-fb4d-420a-8f26-2517f67d54e5\")>,\n",
       " <selenium.webdriver.remote.webelement.WebElement (session=\"ebfb619959580f396a8e485e6614f085\", element=\"5eb51cd9-9c7c-488a-8046-295d8da5155b\")>,\n",
       " <selenium.webdriver.remote.webelement.WebElement (session=\"ebfb619959580f396a8e485e6614f085\", element=\"39b3975e-6094-47dc-9eee-f340cf0c6544\")>,\n",
       " <selenium.webdriver.remote.webelement.WebElement (session=\"ebfb619959580f396a8e485e6614f085\", element=\"e07cf583-c6d2-4c1f-9d20-6b4ff7f12eb6\")>,\n",
       " <selenium.webdriver.remote.webelement.WebElement (session=\"ebfb619959580f396a8e485e6614f085\", element=\"20222f14-f3a8-48ab-9a4d-f4ec38ffe2c6\")>,\n",
       " <selenium.webdriver.remote.webelement.WebElement (session=\"ebfb619959580f396a8e485e6614f085\", element=\"c9ccf249-6b78-4a79-bb8e-05e5a3ca45a9\")>,\n",
       " <selenium.webdriver.remote.webelement.WebElement (session=\"ebfb619959580f396a8e485e6614f085\", element=\"85d365d0-836e-4179-8e41-4dfac46ea360\")>,\n",
       " <selenium.webdriver.remote.webelement.WebElement (session=\"ebfb619959580f396a8e485e6614f085\", element=\"c436fc6e-f3e7-4f81-a0aa-71f4622d74c5\")>,\n",
       " <selenium.webdriver.remote.webelement.WebElement (session=\"ebfb619959580f396a8e485e6614f085\", element=\"c5e5fe2c-8de0-41b5-a5ea-59acba8b0558\")>,\n",
       " <selenium.webdriver.remote.webelement.WebElement (session=\"ebfb619959580f396a8e485e6614f085\", element=\"9eeadbf2-ea7f-4de4-920d-fe84edc6e8b9\")>,\n",
       " <selenium.webdriver.remote.webelement.WebElement (session=\"ebfb619959580f396a8e485e6614f085\", element=\"0fadd2b7-dc82-4bf2-ad3a-d72177ba5d80\")>,\n",
       " <selenium.webdriver.remote.webelement.WebElement (session=\"ebfb619959580f396a8e485e6614f085\", element=\"89d0bb82-386f-4c0f-85ce-e3b065fc7bcd\")>,\n",
       " <selenium.webdriver.remote.webelement.WebElement (session=\"ebfb619959580f396a8e485e6614f085\", element=\"38f7c35e-824d-4a24-8a04-e755c8790734\")>,\n",
       " <selenium.webdriver.remote.webelement.WebElement (session=\"ebfb619959580f396a8e485e6614f085\", element=\"36387557-5c47-409d-8274-466d6a82c980\")>,\n",
       " <selenium.webdriver.remote.webelement.WebElement (session=\"ebfb619959580f396a8e485e6614f085\", element=\"1775001e-464f-4d12-98b2-685d59a0376c\")>]"
      ]
     },
     "execution_count": 42,
     "metadata": {},
     "output_type": "execute_result"
    }
   ],
   "source": [
    "exp_tags"
   ]
  },
  {
   "cell_type": "code",
   "execution_count": 43,
   "metadata": {},
   "outputs": [
    {
     "data": {
      "text/plain": [
       "['0-2 Yrs',\n",
       " '0-3 Yrs',\n",
       " '0-3 Yrs',\n",
       " '3-4 Yrs',\n",
       " '1-6 Yrs',\n",
       " '3-8 Yrs',\n",
       " '3-6 Yrs',\n",
       " '4-9 Yrs',\n",
       " '5-8 Yrs',\n",
       " '2-5 Yrs',\n",
       " '1-5 Yrs',\n",
       " '4-9 Yrs',\n",
       " '2-6 Yrs',\n",
       " '2-3 Yrs',\n",
       " '3-7 Yrs',\n",
       " '4-9 Yrs',\n",
       " '5-9 Yrs',\n",
       " '3-7 Yrs',\n",
       " '1-3 Yrs',\n",
       " '3-6 Yrs']"
      ]
     },
     "execution_count": 43,
     "metadata": {},
     "output_type": "execute_result"
    }
   ],
   "source": [
    "experience=[]\n",
    "for i in exp_tags:\n",
    "    experience.append(i.text)\n",
    "len(experience)\n",
    "experience"
   ]
  },
  {
   "cell_type": "code",
   "execution_count": 44,
   "metadata": {},
   "outputs": [
    {
     "data": {
      "text/plain": [
       "20"
      ]
     },
     "execution_count": 44,
     "metadata": {},
     "output_type": "execute_result"
    }
   ],
   "source": [
    "len(experience)"
   ]
  },
  {
   "cell_type": "code",
   "execution_count": 45,
   "metadata": {},
   "outputs": [
    {
     "data": {
      "text/plain": [
       "20"
      ]
     },
     "execution_count": 45,
     "metadata": {},
     "output_type": "execute_result"
    }
   ],
   "source": [
    "##Extracting location\n",
    "locn_tags=driver.find_elements_by_xpath(\"//li[@class='fleft grey-text br2 placeHolderLi location']\")\n",
    "len(locn_tags)"
   ]
  },
  {
   "cell_type": "code",
   "execution_count": 47,
   "metadata": {},
   "outputs": [
    {
     "data": {
      "text/plain": [
       "[<selenium.webdriver.remote.webelement.WebElement (session=\"ebfb619959580f396a8e485e6614f085\", element=\"c8faf80e-b6f4-4972-b6c3-9a30bfbddd16\")>,\n",
       " <selenium.webdriver.remote.webelement.WebElement (session=\"ebfb619959580f396a8e485e6614f085\", element=\"030da0b3-a45c-40cc-b65e-4ba51ca1c5fa\")>,\n",
       " <selenium.webdriver.remote.webelement.WebElement (session=\"ebfb619959580f396a8e485e6614f085\", element=\"70adedb2-66ff-470b-a926-fd6b58371163\")>,\n",
       " <selenium.webdriver.remote.webelement.WebElement (session=\"ebfb619959580f396a8e485e6614f085\", element=\"de36214b-509b-44ac-a35e-c3eb436e941f\")>,\n",
       " <selenium.webdriver.remote.webelement.WebElement (session=\"ebfb619959580f396a8e485e6614f085\", element=\"c4744133-cd67-4ca0-be13-24ea6bfda9e0\")>,\n",
       " <selenium.webdriver.remote.webelement.WebElement (session=\"ebfb619959580f396a8e485e6614f085\", element=\"3854746b-57f1-4016-b364-8028c8fc8b23\")>,\n",
       " <selenium.webdriver.remote.webelement.WebElement (session=\"ebfb619959580f396a8e485e6614f085\", element=\"8efd9e67-94c6-4f50-8749-16e06f7c8ebb\")>,\n",
       " <selenium.webdriver.remote.webelement.WebElement (session=\"ebfb619959580f396a8e485e6614f085\", element=\"5674def7-fd28-42b4-8017-548754a8f68e\")>,\n",
       " <selenium.webdriver.remote.webelement.WebElement (session=\"ebfb619959580f396a8e485e6614f085\", element=\"615baccf-1a6c-493b-9558-fcd4f1a41bae\")>,\n",
       " <selenium.webdriver.remote.webelement.WebElement (session=\"ebfb619959580f396a8e485e6614f085\", element=\"80283426-1417-4b9a-abe3-3dde43f22a2b\")>,\n",
       " <selenium.webdriver.remote.webelement.WebElement (session=\"ebfb619959580f396a8e485e6614f085\", element=\"af144be7-bf07-4c00-9222-ba3628d75100\")>,\n",
       " <selenium.webdriver.remote.webelement.WebElement (session=\"ebfb619959580f396a8e485e6614f085\", element=\"9fd17ff4-ff58-4399-9931-227d96d03bdb\")>,\n",
       " <selenium.webdriver.remote.webelement.WebElement (session=\"ebfb619959580f396a8e485e6614f085\", element=\"292e2f1b-721c-43fb-b0f1-a9350f7caf01\")>,\n",
       " <selenium.webdriver.remote.webelement.WebElement (session=\"ebfb619959580f396a8e485e6614f085\", element=\"bef9f227-488b-4b69-9c77-f7b2f060cb8e\")>,\n",
       " <selenium.webdriver.remote.webelement.WebElement (session=\"ebfb619959580f396a8e485e6614f085\", element=\"234a6798-0e23-4778-96f0-cf6565063e21\")>,\n",
       " <selenium.webdriver.remote.webelement.WebElement (session=\"ebfb619959580f396a8e485e6614f085\", element=\"beb78918-e8a1-4f98-b419-d4e6e637ecff\")>,\n",
       " <selenium.webdriver.remote.webelement.WebElement (session=\"ebfb619959580f396a8e485e6614f085\", element=\"26fa97c3-3925-4616-917e-6fea811613bc\")>,\n",
       " <selenium.webdriver.remote.webelement.WebElement (session=\"ebfb619959580f396a8e485e6614f085\", element=\"685f43e0-3e7a-4135-9eed-9254956babf7\")>,\n",
       " <selenium.webdriver.remote.webelement.WebElement (session=\"ebfb619959580f396a8e485e6614f085\", element=\"3cd2deb4-72ba-4124-b80d-27534c3ff743\")>,\n",
       " <selenium.webdriver.remote.webelement.WebElement (session=\"ebfb619959580f396a8e485e6614f085\", element=\"9098e2f1-9c7a-4125-8f3f-e75de3fc347f\")>]"
      ]
     },
     "execution_count": 47,
     "metadata": {},
     "output_type": "execute_result"
    }
   ],
   "source": [
    "locn_tags"
   ]
  },
  {
   "cell_type": "code",
   "execution_count": 48,
   "metadata": {},
   "outputs": [
    {
     "data": {
      "text/plain": [
       "['Bangalore/Bengaluru',\n",
       " 'Bangalore/Bengaluru',\n",
       " 'Remote',\n",
       " 'Bangalore/Bengaluru',\n",
       " 'Bangalore/Bengaluru',\n",
       " 'Bangalore/Bengaluru',\n",
       " 'Bangalore/Bengaluru',\n",
       " 'Bangalore/Bengaluru',\n",
       " 'Bangalore/Bengaluru',\n",
       " 'Bangalore/Bengaluru',\n",
       " 'Bangalore/Bengaluru',\n",
       " 'Bangalore/Bengaluru',\n",
       " 'Bangalore/Bengaluru',\n",
       " 'Bangalore/Bengaluru',\n",
       " 'Bangalore/Bengaluru',\n",
       " 'Bangalore/Bengaluru',\n",
       " 'Bangalore/Bengaluru',\n",
       " 'Bangalore/Bengaluru',\n",
       " 'Bangalore/Bengaluru',\n",
       " 'Bangalore/Bengaluru']"
      ]
     },
     "execution_count": 48,
     "metadata": {},
     "output_type": "execute_result"
    }
   ],
   "source": [
    "location=[]\n",
    "for i in locn_tags:\n",
    "    location.append(i.text)\n",
    "len(location)\n",
    "location"
   ]
  },
  {
   "cell_type": "code",
   "execution_count": 50,
   "metadata": {},
   "outputs": [],
   "source": [
    "####Data Frame\n",
    "jobs=pd.DataFrame()\n",
    "jobs['Job Title']=job_titles\n",
    "jobs['Company']=company_name\n",
    "jobs['Experience']=experience\n",
    "jobs['Location']=location"
   ]
  },
  {
   "cell_type": "code",
   "execution_count": 53,
   "metadata": {},
   "outputs": [
    {
     "data": {
      "text/plain": [
       "20"
      ]
     },
     "execution_count": 53,
     "metadata": {},
     "output_type": "execute_result"
    }
   ],
   "source": [
    "\n",
    "len(jobs)"
   ]
  },
  {
   "cell_type": "code",
   "execution_count": 54,
   "metadata": {},
   "outputs": [
    {
     "data": {
      "text/html": [
       "<div>\n",
       "<style scoped>\n",
       "    .dataframe tbody tr th:only-of-type {\n",
       "        vertical-align: middle;\n",
       "    }\n",
       "\n",
       "    .dataframe tbody tr th {\n",
       "        vertical-align: top;\n",
       "    }\n",
       "\n",
       "    .dataframe thead th {\n",
       "        text-align: right;\n",
       "    }\n",
       "</style>\n",
       "<table border=\"1\" class=\"dataframe\">\n",
       "  <thead>\n",
       "    <tr style=\"text-align: right;\">\n",
       "      <th></th>\n",
       "      <th>Job Title</th>\n",
       "      <th>Company</th>\n",
       "      <th>Experience</th>\n",
       "      <th>Location</th>\n",
       "    </tr>\n",
       "  </thead>\n",
       "  <tbody>\n",
       "    <tr>\n",
       "      <th>0</th>\n",
       "      <td>Financial Data Analyst - Mandarin Language</td>\n",
       "      <td>Moody's</td>\n",
       "      <td>0-2 Yrs</td>\n",
       "      <td>Bangalore/Bengaluru</td>\n",
       "    </tr>\n",
       "    <tr>\n",
       "      <th>1</th>\n",
       "      <td>Data Analyst</td>\n",
       "      <td>Vedantu Innovations</td>\n",
       "      <td>0-3 Yrs</td>\n",
       "      <td>Bangalore/Bengaluru</td>\n",
       "    </tr>\n",
       "    <tr>\n",
       "      <th>2</th>\n",
       "      <td>Junior Data Analyst/ Scientist- Fresher Position</td>\n",
       "      <td>Sejal Consulting Hub</td>\n",
       "      <td>0-3 Yrs</td>\n",
       "      <td>Remote</td>\n",
       "    </tr>\n",
       "    <tr>\n",
       "      <th>3</th>\n",
       "      <td>Senior Data Analyst III</td>\n",
       "      <td>Flipkart</td>\n",
       "      <td>3-4 Yrs</td>\n",
       "      <td>Bangalore/Bengaluru</td>\n",
       "    </tr>\n",
       "    <tr>\n",
       "      <th>4</th>\n",
       "      <td>Hiring -Data Analyst, Business Analyst, MIS An...</td>\n",
       "      <td>Flipkart</td>\n",
       "      <td>1-6 Yrs</td>\n",
       "      <td>Bangalore/Bengaluru</td>\n",
       "    </tr>\n",
       "    <tr>\n",
       "      <th>5</th>\n",
       "      <td>Senior Data Analyst</td>\n",
       "      <td>Thomson Reuters</td>\n",
       "      <td>3-8 Yrs</td>\n",
       "      <td>Bangalore/Bengaluru</td>\n",
       "    </tr>\n",
       "    <tr>\n",
       "      <th>6</th>\n",
       "      <td>Data Analyst - I/II</td>\n",
       "      <td>Philips</td>\n",
       "      <td>3-6 Yrs</td>\n",
       "      <td>Bangalore/Bengaluru</td>\n",
       "    </tr>\n",
       "    <tr>\n",
       "      <th>7</th>\n",
       "      <td>Senior Data Analyst - SQL | 3M-TCOE</td>\n",
       "      <td>TALENT500 TECH (INDIA) PRIVATE LIMITED</td>\n",
       "      <td>4-9 Yrs</td>\n",
       "      <td>Bangalore/Bengaluru</td>\n",
       "    </tr>\n",
       "    <tr>\n",
       "      <th>8</th>\n",
       "      <td>Data Analyst</td>\n",
       "      <td>NTT DATA</td>\n",
       "      <td>5-8 Yrs</td>\n",
       "      <td>Bangalore/Bengaluru</td>\n",
       "    </tr>\n",
       "    <tr>\n",
       "      <th>9</th>\n",
       "      <td>Azure Data Analyst</td>\n",
       "      <td>NTT DATA</td>\n",
       "      <td>2-5 Yrs</td>\n",
       "      <td>Bangalore/Bengaluru</td>\n",
       "    </tr>\n",
       "    <tr>\n",
       "      <th>10</th>\n",
       "      <td>Data Analyst</td>\n",
       "      <td>mfine</td>\n",
       "      <td>1-5 Yrs</td>\n",
       "      <td>Bangalore/Bengaluru</td>\n",
       "    </tr>\n",
       "    <tr>\n",
       "      <th>11</th>\n",
       "      <td>Data Analyst - Quality</td>\n",
       "      <td>Enphase Energy</td>\n",
       "      <td>4-9 Yrs</td>\n",
       "      <td>Bangalore/Bengaluru</td>\n",
       "    </tr>\n",
       "    <tr>\n",
       "      <th>12</th>\n",
       "      <td>Data Analyst</td>\n",
       "      <td>Technicolor Animation &amp; Games</td>\n",
       "      <td>2-6 Yrs</td>\n",
       "      <td>Bangalore/Bengaluru</td>\n",
       "    </tr>\n",
       "    <tr>\n",
       "      <th>13</th>\n",
       "      <td>Required Senior Data Analyst - Brickwork Ratings</td>\n",
       "      <td>Brickwork Ratings</td>\n",
       "      <td>2-3 Yrs</td>\n",
       "      <td>Bangalore/Bengaluru</td>\n",
       "    </tr>\n",
       "    <tr>\n",
       "      <th>14</th>\n",
       "      <td>Senior Data Analyst</td>\n",
       "      <td>Nike India</td>\n",
       "      <td>3-7 Yrs</td>\n",
       "      <td>Bangalore/Bengaluru</td>\n",
       "    </tr>\n",
       "    <tr>\n",
       "      <th>15</th>\n",
       "      <td>Data Analyst 1</td>\n",
       "      <td>Optum</td>\n",
       "      <td>4-9 Yrs</td>\n",
       "      <td>Bangalore/Bengaluru</td>\n",
       "    </tr>\n",
       "    <tr>\n",
       "      <th>16</th>\n",
       "      <td>Sr.Data Analyst/ Scientist</td>\n",
       "      <td>Anicalls</td>\n",
       "      <td>5-9 Yrs</td>\n",
       "      <td>Bangalore/Bengaluru</td>\n",
       "    </tr>\n",
       "    <tr>\n",
       "      <th>17</th>\n",
       "      <td>Senior Data Analyst</td>\n",
       "      <td>Flipkart</td>\n",
       "      <td>3-7 Yrs</td>\n",
       "      <td>Bangalore/Bengaluru</td>\n",
       "    </tr>\n",
       "    <tr>\n",
       "      <th>18</th>\n",
       "      <td>Data Analyst/Senior Data Analyst</td>\n",
       "      <td>BYJUS</td>\n",
       "      <td>1-3 Yrs</td>\n",
       "      <td>Bangalore/Bengaluru</td>\n",
       "    </tr>\n",
       "    <tr>\n",
       "      <th>19</th>\n",
       "      <td>Senior Data Analyst - Flipkart Data science group</td>\n",
       "      <td>Flipkart</td>\n",
       "      <td>3-6 Yrs</td>\n",
       "      <td>Bangalore/Bengaluru</td>\n",
       "    </tr>\n",
       "  </tbody>\n",
       "</table>\n",
       "</div>"
      ],
      "text/plain": [
       "                                            Job Title  \\\n",
       "0          Financial Data Analyst - Mandarin Language   \n",
       "1                                        Data Analyst   \n",
       "2    Junior Data Analyst/ Scientist- Fresher Position   \n",
       "3                             Senior Data Analyst III   \n",
       "4   Hiring -Data Analyst, Business Analyst, MIS An...   \n",
       "5                                 Senior Data Analyst   \n",
       "6                                 Data Analyst - I/II   \n",
       "7                 Senior Data Analyst - SQL | 3M-TCOE   \n",
       "8                                        Data Analyst   \n",
       "9                                  Azure Data Analyst   \n",
       "10                                       Data Analyst   \n",
       "11                             Data Analyst - Quality   \n",
       "12                                       Data Analyst   \n",
       "13   Required Senior Data Analyst - Brickwork Ratings   \n",
       "14                                Senior Data Analyst   \n",
       "15                                     Data Analyst 1   \n",
       "16                         Sr.Data Analyst/ Scientist   \n",
       "17                                Senior Data Analyst   \n",
       "18                   Data Analyst/Senior Data Analyst   \n",
       "19  Senior Data Analyst - Flipkart Data science group   \n",
       "\n",
       "                                   Company Experience             Location  \n",
       "0                                  Moody's    0-2 Yrs  Bangalore/Bengaluru  \n",
       "1                      Vedantu Innovations    0-3 Yrs  Bangalore/Bengaluru  \n",
       "2                     Sejal Consulting Hub    0-3 Yrs               Remote  \n",
       "3                                 Flipkart    3-4 Yrs  Bangalore/Bengaluru  \n",
       "4                                 Flipkart    1-6 Yrs  Bangalore/Bengaluru  \n",
       "5                          Thomson Reuters    3-8 Yrs  Bangalore/Bengaluru  \n",
       "6                                  Philips    3-6 Yrs  Bangalore/Bengaluru  \n",
       "7   TALENT500 TECH (INDIA) PRIVATE LIMITED    4-9 Yrs  Bangalore/Bengaluru  \n",
       "8                                 NTT DATA    5-8 Yrs  Bangalore/Bengaluru  \n",
       "9                                 NTT DATA    2-5 Yrs  Bangalore/Bengaluru  \n",
       "10                                   mfine    1-5 Yrs  Bangalore/Bengaluru  \n",
       "11                          Enphase Energy    4-9 Yrs  Bangalore/Bengaluru  \n",
       "12           Technicolor Animation & Games    2-6 Yrs  Bangalore/Bengaluru  \n",
       "13                       Brickwork Ratings    2-3 Yrs  Bangalore/Bengaluru  \n",
       "14                              Nike India    3-7 Yrs  Bangalore/Bengaluru  \n",
       "15                                   Optum    4-9 Yrs  Bangalore/Bengaluru  \n",
       "16                                Anicalls    5-9 Yrs  Bangalore/Bengaluru  \n",
       "17                                Flipkart    3-7 Yrs  Bangalore/Bengaluru  \n",
       "18                                   BYJUS    1-3 Yrs  Bangalore/Bengaluru  \n",
       "19                                Flipkart    3-6 Yrs  Bangalore/Bengaluru  "
      ]
     },
     "execution_count": 54,
     "metadata": {},
     "output_type": "execute_result"
    }
   ],
   "source": [
    "jobs"
   ]
  },
  {
   "cell_type": "code",
   "execution_count": 57,
   "metadata": {},
   "outputs": [
    {
     "data": {
      "text/html": [
       "<div>\n",
       "<style scoped>\n",
       "    .dataframe tbody tr th:only-of-type {\n",
       "        vertical-align: middle;\n",
       "    }\n",
       "\n",
       "    .dataframe tbody tr th {\n",
       "        vertical-align: top;\n",
       "    }\n",
       "\n",
       "    .dataframe thead th {\n",
       "        text-align: right;\n",
       "    }\n",
       "</style>\n",
       "<table border=\"1\" class=\"dataframe\">\n",
       "  <thead>\n",
       "    <tr style=\"text-align: right;\">\n",
       "      <th></th>\n",
       "      <th>Job Title</th>\n",
       "      <th>Company</th>\n",
       "      <th>Experience</th>\n",
       "      <th>Location</th>\n",
       "    </tr>\n",
       "  </thead>\n",
       "  <tbody>\n",
       "    <tr>\n",
       "      <th>0</th>\n",
       "      <td>Financial Data Analyst - Mandarin Language</td>\n",
       "      <td>Moody's</td>\n",
       "      <td>0-2 Yrs</td>\n",
       "      <td>Bangalore/Bengaluru</td>\n",
       "    </tr>\n",
       "    <tr>\n",
       "      <th>1</th>\n",
       "      <td>Data Analyst</td>\n",
       "      <td>Vedantu Innovations</td>\n",
       "      <td>0-3 Yrs</td>\n",
       "      <td>Bangalore/Bengaluru</td>\n",
       "    </tr>\n",
       "    <tr>\n",
       "      <th>2</th>\n",
       "      <td>Junior Data Analyst/ Scientist- Fresher Position</td>\n",
       "      <td>Sejal Consulting Hub</td>\n",
       "      <td>0-3 Yrs</td>\n",
       "      <td>Remote</td>\n",
       "    </tr>\n",
       "    <tr>\n",
       "      <th>3</th>\n",
       "      <td>Senior Data Analyst III</td>\n",
       "      <td>Flipkart</td>\n",
       "      <td>3-4 Yrs</td>\n",
       "      <td>Bangalore/Bengaluru</td>\n",
       "    </tr>\n",
       "    <tr>\n",
       "      <th>4</th>\n",
       "      <td>Hiring -Data Analyst, Business Analyst, MIS An...</td>\n",
       "      <td>Flipkart</td>\n",
       "      <td>1-6 Yrs</td>\n",
       "      <td>Bangalore/Bengaluru</td>\n",
       "    </tr>\n",
       "    <tr>\n",
       "      <th>5</th>\n",
       "      <td>Senior Data Analyst</td>\n",
       "      <td>Thomson Reuters</td>\n",
       "      <td>3-8 Yrs</td>\n",
       "      <td>Bangalore/Bengaluru</td>\n",
       "    </tr>\n",
       "    <tr>\n",
       "      <th>6</th>\n",
       "      <td>Data Analyst - I/II</td>\n",
       "      <td>Philips</td>\n",
       "      <td>3-6 Yrs</td>\n",
       "      <td>Bangalore/Bengaluru</td>\n",
       "    </tr>\n",
       "    <tr>\n",
       "      <th>7</th>\n",
       "      <td>Senior Data Analyst - SQL | 3M-TCOE</td>\n",
       "      <td>TALENT500 TECH (INDIA) PRIVATE LIMITED</td>\n",
       "      <td>4-9 Yrs</td>\n",
       "      <td>Bangalore/Bengaluru</td>\n",
       "    </tr>\n",
       "    <tr>\n",
       "      <th>8</th>\n",
       "      <td>Data Analyst</td>\n",
       "      <td>NTT DATA</td>\n",
       "      <td>5-8 Yrs</td>\n",
       "      <td>Bangalore/Bengaluru</td>\n",
       "    </tr>\n",
       "    <tr>\n",
       "      <th>9</th>\n",
       "      <td>Azure Data Analyst</td>\n",
       "      <td>NTT DATA</td>\n",
       "      <td>2-5 Yrs</td>\n",
       "      <td>Bangalore/Bengaluru</td>\n",
       "    </tr>\n",
       "  </tbody>\n",
       "</table>\n",
       "</div>"
      ],
      "text/plain": [
       "                                           Job Title  \\\n",
       "0         Financial Data Analyst - Mandarin Language   \n",
       "1                                       Data Analyst   \n",
       "2   Junior Data Analyst/ Scientist- Fresher Position   \n",
       "3                            Senior Data Analyst III   \n",
       "4  Hiring -Data Analyst, Business Analyst, MIS An...   \n",
       "5                                Senior Data Analyst   \n",
       "6                                Data Analyst - I/II   \n",
       "7                Senior Data Analyst - SQL | 3M-TCOE   \n",
       "8                                       Data Analyst   \n",
       "9                                 Azure Data Analyst   \n",
       "\n",
       "                                  Company Experience             Location  \n",
       "0                                 Moody's    0-2 Yrs  Bangalore/Bengaluru  \n",
       "1                     Vedantu Innovations    0-3 Yrs  Bangalore/Bengaluru  \n",
       "2                    Sejal Consulting Hub    0-3 Yrs               Remote  \n",
       "3                                Flipkart    3-4 Yrs  Bangalore/Bengaluru  \n",
       "4                                Flipkart    1-6 Yrs  Bangalore/Bengaluru  \n",
       "5                         Thomson Reuters    3-8 Yrs  Bangalore/Bengaluru  \n",
       "6                                 Philips    3-6 Yrs  Bangalore/Bengaluru  \n",
       "7  TALENT500 TECH (INDIA) PRIVATE LIMITED    4-9 Yrs  Bangalore/Bengaluru  \n",
       "8                                NTT DATA    5-8 Yrs  Bangalore/Bengaluru  \n",
       "9                                NTT DATA    2-5 Yrs  Bangalore/Bengaluru  "
      ]
     },
     "execution_count": 57,
     "metadata": {},
     "output_type": "execute_result"
    }
   ],
   "source": [
    "jobs[0:10]"
   ]
  },
  {
   "cell_type": "code",
   "execution_count": 117,
   "metadata": {},
   "outputs": [],
   "source": [
    "##4 \n",
    "import selenium\n",
    "from selenium import webdriver \n",
    "import pandas as pd \n",
    "import warnings\n",
    "warnings.filterwarnings('ignore')"
   ]
  },
  {
   "cell_type": "code",
   "execution_count": 118,
   "metadata": {},
   "outputs": [],
   "source": [
    "driver=webdriver.Chrome(r\"C:/Users/Lenovo/Downloads/chromedriver_win32/chromedriver.exe\")"
   ]
  },
  {
   "cell_type": "code",
   "execution_count": 119,
   "metadata": {},
   "outputs": [],
   "source": [
    "url = \"https://www.flipkart.com/\"\n",
    "driver.get(url)"
   ]
  },
  {
   "cell_type": "code",
   "execution_count": 128,
   "metadata": {},
   "outputs": [
    {
     "data": {
      "text/plain": [
       "<selenium.webdriver.remote.webelement.WebElement (session=\"c39ebd1f10da03fdf3e00caaa5f67aa1\", element=\"cf433a2b-1dd8-4332-8679-7d065f70e506\")>"
      ]
     },
     "execution_count": 128,
     "metadata": {},
     "output_type": "execute_result"
    }
   ],
   "source": [
    "search_prod=driver.find_element_by_class_name(\"_3704LK\")\n",
    "search_prod"
   ]
  },
  {
   "cell_type": "code",
   "execution_count": 129,
   "metadata": {},
   "outputs": [],
   "source": [
    "search_prod.send_keys(\"sunglasses\")"
   ]
  },
  {
   "cell_type": "code",
   "execution_count": 130,
   "metadata": {},
   "outputs": [],
   "source": [
    "search_btn=driver.find_element_by_xpath(\"/html/body/div[1]/div/div[1]/div[1]/div[2]/div[2]/form/div/button\")\n",
    "search_btn.click()"
   ]
  },
  {
   "cell_type": "code",
   "execution_count": 131,
   "metadata": {},
   "outputs": [
    {
     "data": {
      "text/plain": [
       "40"
      ]
     },
     "execution_count": 131,
     "metadata": {},
     "output_type": "execute_result"
    }
   ],
   "source": [
    "##Extracting Brand\n",
    "brand_tags=driver.find_elements_by_xpath(\"//div[@class='_2WkVRV']\")\n",
    "len(brand_tags)"
   ]
  },
  {
   "cell_type": "code",
   "execution_count": 132,
   "metadata": {
    "scrolled": true
   },
   "outputs": [
    {
     "data": {
      "text/plain": [
       "[<selenium.webdriver.remote.webelement.WebElement (session=\"c39ebd1f10da03fdf3e00caaa5f67aa1\", element=\"9523a54c-5f54-463b-8e71-54689bc50a22\")>,\n",
       " <selenium.webdriver.remote.webelement.WebElement (session=\"c39ebd1f10da03fdf3e00caaa5f67aa1\", element=\"bd881218-566c-47fb-8fc5-7205949ff092\")>,\n",
       " <selenium.webdriver.remote.webelement.WebElement (session=\"c39ebd1f10da03fdf3e00caaa5f67aa1\", element=\"78598a21-55f8-42ea-b232-f84a70993b41\")>,\n",
       " <selenium.webdriver.remote.webelement.WebElement (session=\"c39ebd1f10da03fdf3e00caaa5f67aa1\", element=\"adbd3619-314d-46c1-8da6-634064941c06\")>,\n",
       " <selenium.webdriver.remote.webelement.WebElement (session=\"c39ebd1f10da03fdf3e00caaa5f67aa1\", element=\"a689c06c-711b-4444-a542-cb5036af4da5\")>,\n",
       " <selenium.webdriver.remote.webelement.WebElement (session=\"c39ebd1f10da03fdf3e00caaa5f67aa1\", element=\"0ad332f0-9887-4592-ab9b-8241a83c5325\")>,\n",
       " <selenium.webdriver.remote.webelement.WebElement (session=\"c39ebd1f10da03fdf3e00caaa5f67aa1\", element=\"ac1bddfe-7d47-4523-8704-f83d311f5348\")>,\n",
       " <selenium.webdriver.remote.webelement.WebElement (session=\"c39ebd1f10da03fdf3e00caaa5f67aa1\", element=\"8e23e51a-692c-4272-a9a1-e606e63d9f91\")>,\n",
       " <selenium.webdriver.remote.webelement.WebElement (session=\"c39ebd1f10da03fdf3e00caaa5f67aa1\", element=\"8ca1da8d-19b1-42aa-b8c6-b921a60daf0a\")>,\n",
       " <selenium.webdriver.remote.webelement.WebElement (session=\"c39ebd1f10da03fdf3e00caaa5f67aa1\", element=\"56d30805-c1d7-4ec4-8f73-493b05fe1729\")>,\n",
       " <selenium.webdriver.remote.webelement.WebElement (session=\"c39ebd1f10da03fdf3e00caaa5f67aa1\", element=\"ade3614c-30c2-42c6-8065-317bf6e206db\")>,\n",
       " <selenium.webdriver.remote.webelement.WebElement (session=\"c39ebd1f10da03fdf3e00caaa5f67aa1\", element=\"4f0ef61e-cb05-4df9-b189-57f12a88afe5\")>,\n",
       " <selenium.webdriver.remote.webelement.WebElement (session=\"c39ebd1f10da03fdf3e00caaa5f67aa1\", element=\"cdc1a4f2-8077-4162-a60e-419a4d2ab320\")>,\n",
       " <selenium.webdriver.remote.webelement.WebElement (session=\"c39ebd1f10da03fdf3e00caaa5f67aa1\", element=\"2183b936-76fb-4dda-8617-598d983154b2\")>,\n",
       " <selenium.webdriver.remote.webelement.WebElement (session=\"c39ebd1f10da03fdf3e00caaa5f67aa1\", element=\"f76f2b05-3e0c-416b-b447-8900f3abc436\")>,\n",
       " <selenium.webdriver.remote.webelement.WebElement (session=\"c39ebd1f10da03fdf3e00caaa5f67aa1\", element=\"8fde30a9-3e17-4967-962e-4c94af67c6e2\")>,\n",
       " <selenium.webdriver.remote.webelement.WebElement (session=\"c39ebd1f10da03fdf3e00caaa5f67aa1\", element=\"fa5698f7-c24f-4433-ac2a-133a20c71bbb\")>,\n",
       " <selenium.webdriver.remote.webelement.WebElement (session=\"c39ebd1f10da03fdf3e00caaa5f67aa1\", element=\"58e0f76d-1b2f-4da6-b387-2d2fcc73bf13\")>,\n",
       " <selenium.webdriver.remote.webelement.WebElement (session=\"c39ebd1f10da03fdf3e00caaa5f67aa1\", element=\"202ccdf6-8ded-4e0a-86c7-e43e9b1474c0\")>,\n",
       " <selenium.webdriver.remote.webelement.WebElement (session=\"c39ebd1f10da03fdf3e00caaa5f67aa1\", element=\"c8c761dc-c15b-4412-8cb2-a8868b289a4d\")>,\n",
       " <selenium.webdriver.remote.webelement.WebElement (session=\"c39ebd1f10da03fdf3e00caaa5f67aa1\", element=\"d4bf6c90-246a-414c-af2b-e06410dd601a\")>,\n",
       " <selenium.webdriver.remote.webelement.WebElement (session=\"c39ebd1f10da03fdf3e00caaa5f67aa1\", element=\"af21189a-2d2b-492f-bdcb-99e4da9458e1\")>,\n",
       " <selenium.webdriver.remote.webelement.WebElement (session=\"c39ebd1f10da03fdf3e00caaa5f67aa1\", element=\"5b787289-881f-4ea2-9257-6d062bc1d2c1\")>,\n",
       " <selenium.webdriver.remote.webelement.WebElement (session=\"c39ebd1f10da03fdf3e00caaa5f67aa1\", element=\"582b4e4b-ab7e-4313-9c29-ed88c1fd32e1\")>,\n",
       " <selenium.webdriver.remote.webelement.WebElement (session=\"c39ebd1f10da03fdf3e00caaa5f67aa1\", element=\"e6772e75-f72c-42c6-a1af-f08a5c9f262e\")>,\n",
       " <selenium.webdriver.remote.webelement.WebElement (session=\"c39ebd1f10da03fdf3e00caaa5f67aa1\", element=\"15af3601-c5f9-4961-ae36-1a65753da4c7\")>,\n",
       " <selenium.webdriver.remote.webelement.WebElement (session=\"c39ebd1f10da03fdf3e00caaa5f67aa1\", element=\"b5b00ab8-cbc4-4d3c-9d68-8565f9a6417c\")>,\n",
       " <selenium.webdriver.remote.webelement.WebElement (session=\"c39ebd1f10da03fdf3e00caaa5f67aa1\", element=\"cbc74809-5e66-4baf-8153-cebd6f43d584\")>,\n",
       " <selenium.webdriver.remote.webelement.WebElement (session=\"c39ebd1f10da03fdf3e00caaa5f67aa1\", element=\"52871547-2514-493a-a0b5-08d712ae1277\")>,\n",
       " <selenium.webdriver.remote.webelement.WebElement (session=\"c39ebd1f10da03fdf3e00caaa5f67aa1\", element=\"8293e9cf-7a37-446b-90ca-267328ef0c63\")>,\n",
       " <selenium.webdriver.remote.webelement.WebElement (session=\"c39ebd1f10da03fdf3e00caaa5f67aa1\", element=\"cb5e860d-f928-4420-8cac-aae8eea5eda5\")>,\n",
       " <selenium.webdriver.remote.webelement.WebElement (session=\"c39ebd1f10da03fdf3e00caaa5f67aa1\", element=\"f3fa680f-593e-4f9b-8e7a-4cf2f4638365\")>,\n",
       " <selenium.webdriver.remote.webelement.WebElement (session=\"c39ebd1f10da03fdf3e00caaa5f67aa1\", element=\"36908049-5739-489a-83fe-2c35334d65a6\")>,\n",
       " <selenium.webdriver.remote.webelement.WebElement (session=\"c39ebd1f10da03fdf3e00caaa5f67aa1\", element=\"a350933d-a56c-4531-92a7-e9533fcfd9d1\")>,\n",
       " <selenium.webdriver.remote.webelement.WebElement (session=\"c39ebd1f10da03fdf3e00caaa5f67aa1\", element=\"d07f8969-eaea-481e-a880-648e4c5e20a3\")>,\n",
       " <selenium.webdriver.remote.webelement.WebElement (session=\"c39ebd1f10da03fdf3e00caaa5f67aa1\", element=\"eef87b5e-90a2-4bf4-8b58-044f09702440\")>,\n",
       " <selenium.webdriver.remote.webelement.WebElement (session=\"c39ebd1f10da03fdf3e00caaa5f67aa1\", element=\"54fdcafa-1a36-4783-9d81-bcb5728a522f\")>,\n",
       " <selenium.webdriver.remote.webelement.WebElement (session=\"c39ebd1f10da03fdf3e00caaa5f67aa1\", element=\"fd86d2e6-73e0-4ea6-b868-9fd52cfdcf71\")>,\n",
       " <selenium.webdriver.remote.webelement.WebElement (session=\"c39ebd1f10da03fdf3e00caaa5f67aa1\", element=\"2e49437a-8e1e-49dd-9477-293ac5709aee\")>,\n",
       " <selenium.webdriver.remote.webelement.WebElement (session=\"c39ebd1f10da03fdf3e00caaa5f67aa1\", element=\"a401e2ac-d27c-4dda-875b-3e63309c5d77\")>]"
      ]
     },
     "execution_count": 132,
     "metadata": {},
     "output_type": "execute_result"
    }
   ],
   "source": [
    "brand_tags"
   ]
  },
  {
   "cell_type": "code",
   "execution_count": 133,
   "metadata": {
    "scrolled": true
   },
   "outputs": [
    {
     "data": {
      "text/plain": [
       "['SRPM',\n",
       " 'Elligator',\n",
       " 'New Specs',\n",
       " 'Singco India',\n",
       " 'Fastrack',\n",
       " 'SUNBEE',\n",
       " 'Lee Topper',\n",
       " 'ROZZETTA CRAFT',\n",
       " 'Fastrack',\n",
       " 'PIRASO',\n",
       " 'SHAAH COLLECTIONS',\n",
       " 'ROZZETTA CRAFT',\n",
       " 'SRPM',\n",
       " 'GANSTA',\n",
       " 'New Specs',\n",
       " 'SKYZA INDIA',\n",
       " 'SRPM',\n",
       " 'kingsunglasses',\n",
       " 'kingsunglasses',\n",
       " 'DAHAAZIL',\n",
       " 'PHENOMENAL',\n",
       " 'PIRASO',\n",
       " 'Lee Topper',\n",
       " 'VOYAGE',\n",
       " 'PIRASO',\n",
       " 'PIRASO',\n",
       " 'Elligator',\n",
       " 'LIZA ANGEL',\n",
       " 'hipe',\n",
       " 'ROZZETTA CRAFT',\n",
       " 'DEIXELS',\n",
       " 'Singco',\n",
       " 'Elligator',\n",
       " 'Silver Kartz',\n",
       " 'PIRASO',\n",
       " 'I Flash',\n",
       " 'Fastrack',\n",
       " 'kingsunglasses',\n",
       " 'Fastrack',\n",
       " 'DAHAAZIL']"
      ]
     },
     "execution_count": 133,
     "metadata": {},
     "output_type": "execute_result"
    }
   ],
   "source": [
    "brand_name=[]\n",
    "for i in brand_tags:\n",
    "    brand_name.append(i.text)\n",
    "len(brand_name)\n",
    "brand_name"
   ]
  },
  {
   "cell_type": "code",
   "execution_count": 134,
   "metadata": {},
   "outputs": [
    {
     "data": {
      "text/plain": [
       "40"
      ]
     },
     "execution_count": 134,
     "metadata": {},
     "output_type": "execute_result"
    }
   ],
   "source": [
    "##Extracting Product Description\n",
    "prod_tags=driver.find_elements_by_xpath(\"//a[@class='IRpwTa']\")\n",
    "len(prod_tags)"
   ]
  },
  {
   "cell_type": "code",
   "execution_count": 135,
   "metadata": {
    "scrolled": true
   },
   "outputs": [
    {
     "data": {
      "text/plain": [
       "[<selenium.webdriver.remote.webelement.WebElement (session=\"c39ebd1f10da03fdf3e00caaa5f67aa1\", element=\"2f7206e4-dc34-453c-ba4a-a436aa58b74a\")>,\n",
       " <selenium.webdriver.remote.webelement.WebElement (session=\"c39ebd1f10da03fdf3e00caaa5f67aa1\", element=\"5ac0366f-1742-4d90-bdae-56312ab4b21f\")>,\n",
       " <selenium.webdriver.remote.webelement.WebElement (session=\"c39ebd1f10da03fdf3e00caaa5f67aa1\", element=\"70067df7-bae5-41ed-a3a3-5e6e14ccf69a\")>,\n",
       " <selenium.webdriver.remote.webelement.WebElement (session=\"c39ebd1f10da03fdf3e00caaa5f67aa1\", element=\"1c1878ac-87ed-4712-8ed3-17065298245c\")>,\n",
       " <selenium.webdriver.remote.webelement.WebElement (session=\"c39ebd1f10da03fdf3e00caaa5f67aa1\", element=\"2cbb6669-254e-42af-9f30-4c9ea1b26c0a\")>,\n",
       " <selenium.webdriver.remote.webelement.WebElement (session=\"c39ebd1f10da03fdf3e00caaa5f67aa1\", element=\"73a43aa6-f8f0-40ef-805c-f228def342df\")>,\n",
       " <selenium.webdriver.remote.webelement.WebElement (session=\"c39ebd1f10da03fdf3e00caaa5f67aa1\", element=\"6bae61e4-f76a-4aa0-b9b7-a5973556196d\")>,\n",
       " <selenium.webdriver.remote.webelement.WebElement (session=\"c39ebd1f10da03fdf3e00caaa5f67aa1\", element=\"e73c8cfc-65fe-4e40-8362-6e60bbcc27a0\")>,\n",
       " <selenium.webdriver.remote.webelement.WebElement (session=\"c39ebd1f10da03fdf3e00caaa5f67aa1\", element=\"f6322734-5247-4c02-8cfe-609cea3e74b2\")>,\n",
       " <selenium.webdriver.remote.webelement.WebElement (session=\"c39ebd1f10da03fdf3e00caaa5f67aa1\", element=\"74e30f43-f811-44eb-9a5f-fc863527bc33\")>,\n",
       " <selenium.webdriver.remote.webelement.WebElement (session=\"c39ebd1f10da03fdf3e00caaa5f67aa1\", element=\"a46589c6-be83-42f9-9079-9e648268e35a\")>,\n",
       " <selenium.webdriver.remote.webelement.WebElement (session=\"c39ebd1f10da03fdf3e00caaa5f67aa1\", element=\"24a07412-afd1-4f54-b941-abc51260db28\")>,\n",
       " <selenium.webdriver.remote.webelement.WebElement (session=\"c39ebd1f10da03fdf3e00caaa5f67aa1\", element=\"de3ee825-1e19-4c8f-8319-3f5d51ed87d4\")>,\n",
       " <selenium.webdriver.remote.webelement.WebElement (session=\"c39ebd1f10da03fdf3e00caaa5f67aa1\", element=\"2a92c033-94af-4a27-afd5-b272a6e6503d\")>,\n",
       " <selenium.webdriver.remote.webelement.WebElement (session=\"c39ebd1f10da03fdf3e00caaa5f67aa1\", element=\"aff5f180-83dd-43e4-8054-05c192baa87e\")>,\n",
       " <selenium.webdriver.remote.webelement.WebElement (session=\"c39ebd1f10da03fdf3e00caaa5f67aa1\", element=\"65fa9e5e-aef7-47f6-be3d-a4a1f2070747\")>,\n",
       " <selenium.webdriver.remote.webelement.WebElement (session=\"c39ebd1f10da03fdf3e00caaa5f67aa1\", element=\"e5759cd5-1e40-4b37-9f04-fe2d260b4136\")>,\n",
       " <selenium.webdriver.remote.webelement.WebElement (session=\"c39ebd1f10da03fdf3e00caaa5f67aa1\", element=\"0d2db37c-e78a-4297-a6ee-538081b8acc0\")>,\n",
       " <selenium.webdriver.remote.webelement.WebElement (session=\"c39ebd1f10da03fdf3e00caaa5f67aa1\", element=\"1207187e-6a47-48f6-bbde-fd3e6066bfb3\")>,\n",
       " <selenium.webdriver.remote.webelement.WebElement (session=\"c39ebd1f10da03fdf3e00caaa5f67aa1\", element=\"bf6d4621-620d-4395-96e1-02cb56da8ba7\")>,\n",
       " <selenium.webdriver.remote.webelement.WebElement (session=\"c39ebd1f10da03fdf3e00caaa5f67aa1\", element=\"32d90424-1938-4a1b-93c8-d6d4bef3d87a\")>,\n",
       " <selenium.webdriver.remote.webelement.WebElement (session=\"c39ebd1f10da03fdf3e00caaa5f67aa1\", element=\"75253915-8550-4a1f-a180-08ac3be5d044\")>,\n",
       " <selenium.webdriver.remote.webelement.WebElement (session=\"c39ebd1f10da03fdf3e00caaa5f67aa1\", element=\"65339699-282b-4b25-a885-195df0fecdad\")>,\n",
       " <selenium.webdriver.remote.webelement.WebElement (session=\"c39ebd1f10da03fdf3e00caaa5f67aa1\", element=\"7c26433a-349b-4848-bb34-3fc1cec58e4d\")>,\n",
       " <selenium.webdriver.remote.webelement.WebElement (session=\"c39ebd1f10da03fdf3e00caaa5f67aa1\", element=\"b73c5e1b-37af-437e-ba88-e90caaa99ca0\")>,\n",
       " <selenium.webdriver.remote.webelement.WebElement (session=\"c39ebd1f10da03fdf3e00caaa5f67aa1\", element=\"50590692-c242-4d3f-9eab-c32345e04789\")>,\n",
       " <selenium.webdriver.remote.webelement.WebElement (session=\"c39ebd1f10da03fdf3e00caaa5f67aa1\", element=\"57fe618c-efe2-4237-a8b4-725863193f03\")>,\n",
       " <selenium.webdriver.remote.webelement.WebElement (session=\"c39ebd1f10da03fdf3e00caaa5f67aa1\", element=\"9cd6e21d-8a8c-40ad-9198-d145a98b84ec\")>,\n",
       " <selenium.webdriver.remote.webelement.WebElement (session=\"c39ebd1f10da03fdf3e00caaa5f67aa1\", element=\"15304de5-b354-4d3c-b20a-4f04252fbc44\")>,\n",
       " <selenium.webdriver.remote.webelement.WebElement (session=\"c39ebd1f10da03fdf3e00caaa5f67aa1\", element=\"fc2e2ada-69a1-4948-9927-046b03dd8416\")>,\n",
       " <selenium.webdriver.remote.webelement.WebElement (session=\"c39ebd1f10da03fdf3e00caaa5f67aa1\", element=\"5292ad26-c699-406c-9031-0df85997bc26\")>,\n",
       " <selenium.webdriver.remote.webelement.WebElement (session=\"c39ebd1f10da03fdf3e00caaa5f67aa1\", element=\"5c7cdef7-a057-4d29-896c-37d832f3a58f\")>,\n",
       " <selenium.webdriver.remote.webelement.WebElement (session=\"c39ebd1f10da03fdf3e00caaa5f67aa1\", element=\"e3e05f91-9ac3-4078-bf8c-457a1130c332\")>,\n",
       " <selenium.webdriver.remote.webelement.WebElement (session=\"c39ebd1f10da03fdf3e00caaa5f67aa1\", element=\"2c6ac299-5d82-4623-8a8f-500bee9858ca\")>,\n",
       " <selenium.webdriver.remote.webelement.WebElement (session=\"c39ebd1f10da03fdf3e00caaa5f67aa1\", element=\"3c48ef56-4587-4f14-9064-3a64d43ebdae\")>,\n",
       " <selenium.webdriver.remote.webelement.WebElement (session=\"c39ebd1f10da03fdf3e00caaa5f67aa1\", element=\"72b25818-3df5-453f-9a35-91f07372c59d\")>,\n",
       " <selenium.webdriver.remote.webelement.WebElement (session=\"c39ebd1f10da03fdf3e00caaa5f67aa1\", element=\"ef30e769-ec65-48df-b097-6664e602ad21\")>,\n",
       " <selenium.webdriver.remote.webelement.WebElement (session=\"c39ebd1f10da03fdf3e00caaa5f67aa1\", element=\"f0683016-52ce-4651-bc7c-f420a5ee3776\")>,\n",
       " <selenium.webdriver.remote.webelement.WebElement (session=\"c39ebd1f10da03fdf3e00caaa5f67aa1\", element=\"c8cd43ff-01fd-408d-bca0-0f9caa254ca7\")>,\n",
       " <selenium.webdriver.remote.webelement.WebElement (session=\"c39ebd1f10da03fdf3e00caaa5f67aa1\", element=\"e9203e9b-9c14-453e-a16a-19db2cfef014\")>]"
      ]
     },
     "execution_count": 135,
     "metadata": {},
     "output_type": "execute_result"
    }
   ],
   "source": [
    "prod_tags"
   ]
  },
  {
   "cell_type": "code",
   "execution_count": 136,
   "metadata": {
    "scrolled": true
   },
   "outputs": [
    {
     "data": {
      "text/plain": [
       "['UV Protection Wayfarer Sunglasses (50)',\n",
       " 'UV Protection Round Sunglasses (54)',\n",
       " 'UV Protection Rectangular Sunglasses (Free Size)',\n",
       " 'Gradient, Toughened Glass Lens, UV Protection Retro Squ...',\n",
       " 'UV Protection Wayfarer Sunglasses (Free Size)',\n",
       " 'UV Protection, Polarized Wayfarer Sunglasses (Free Size...',\n",
       " 'Riding Glasses Wrap-around Sunglasses (Free Size)',\n",
       " 'UV Protection, Gradient Retro Square Sunglasses (62)',\n",
       " 'UV Protection Rectangular Sunglasses (Free Size)',\n",
       " 'UV Protection Aviator Sunglasses (54)',\n",
       " 'UV Protection, Polarized, Mirrored Rectangular Sunglass...',\n",
       " 'UV Protection, Gradient Retro Square Sunglasses (62)',\n",
       " 'UV Protection Wayfarer Sunglasses (54)',\n",
       " 'UV Protection, Riding Glasses Wayfarer Sunglasses (53)',\n",
       " 'Mirrored, UV Protection, Riding Glasses, Others Round S...',\n",
       " 'UV Protection, Mirrored Spectacle Sunglasses (Free Siz...',\n",
       " 'Others Wayfarer, Retro Square Sunglasses (50)',\n",
       " 'UV Protection, Riding Glasses, Mirrored Wayfarer Sungla...',\n",
       " 'UV Protection Round Sunglasses (Free Size)',\n",
       " 'UV Protection, Night Vision, Riding Glasses Wayfarer, W...',\n",
       " 'UV Protection Retro Square Sunglasses (53)',\n",
       " 'UV Protection Wayfarer Sunglasses (32)',\n",
       " 'UV Protection Rectangular Sunglasses (Free Size)',\n",
       " 'Gradient, UV Protection Wayfarer Sunglasses (52)',\n",
       " 'UV Protection Aviator Sunglasses (54)',\n",
       " 'UV Protection Aviator Sunglasses (54)',\n",
       " 'UV Protection Round Sunglasses (53)',\n",
       " 'Riding Glasses, Night Vision Spectacle Sunglasses (Fre...',\n",
       " 'UV Protection Aviator Sunglasses (Free Size)',\n",
       " 'Polarized, Riding Glasses Sports, Wrap-around Sunglasse...',\n",
       " 'UV Protection Aviator, Wayfarer Sunglasses (Free Size)',\n",
       " 'UV Protection, Others Aviator Sunglasses (32)',\n",
       " 'Others Cat-eye, Retro Square, Wayfarer Sunglasses (54)',\n",
       " 'UV Protection Wayfarer Sunglasses (Free Size)',\n",
       " 'UV Protection Aviator Sunglasses (58)',\n",
       " 'Gradient, Night Vision, UV Protection, Others Wayfarer,...',\n",
       " 'UV Protection Wayfarer Sunglasses (55)',\n",
       " 'Mirrored, UV Protection Wayfarer Sunglasses (Free Size)',\n",
       " 'UV Protection Wayfarer Sunglasses (Free Size)',\n",
       " 'UV Protection, Night Vision, Riding Glasses Round Sungl...']"
      ]
     },
     "execution_count": 136,
     "metadata": {},
     "output_type": "execute_result"
    }
   ],
   "source": [
    "prod_descp=[]\n",
    "for i in prod_tags:\n",
    "    prod_descp.append(i.text)\n",
    "len(prod_descp)\n",
    "prod_descp"
   ]
  },
  {
   "cell_type": "code",
   "execution_count": 137,
   "metadata": {},
   "outputs": [
    {
     "data": {
      "text/plain": [
       "40"
      ]
     },
     "execution_count": 137,
     "metadata": {},
     "output_type": "execute_result"
    }
   ],
   "source": [
    "##Extracting price\n",
    "price_tags=driver.find_elements_by_xpath(\"//div[@class='_30jeq3']\")\n",
    "len(price_tags)"
   ]
  },
  {
   "cell_type": "code",
   "execution_count": 138,
   "metadata": {
    "scrolled": true
   },
   "outputs": [
    {
     "data": {
      "text/plain": [
       "[<selenium.webdriver.remote.webelement.WebElement (session=\"c39ebd1f10da03fdf3e00caaa5f67aa1\", element=\"262aac4d-37c2-40b7-aeb2-a163376e7e81\")>,\n",
       " <selenium.webdriver.remote.webelement.WebElement (session=\"c39ebd1f10da03fdf3e00caaa5f67aa1\", element=\"cd2ea1f3-d79e-43a4-98d3-ac36f544c608\")>,\n",
       " <selenium.webdriver.remote.webelement.WebElement (session=\"c39ebd1f10da03fdf3e00caaa5f67aa1\", element=\"c4e711c8-dc4e-463f-b14f-315c0d5a93ba\")>,\n",
       " <selenium.webdriver.remote.webelement.WebElement (session=\"c39ebd1f10da03fdf3e00caaa5f67aa1\", element=\"a4073934-84ea-48e8-998c-75b40ce1ce32\")>,\n",
       " <selenium.webdriver.remote.webelement.WebElement (session=\"c39ebd1f10da03fdf3e00caaa5f67aa1\", element=\"b272931b-458a-4271-9439-82f43f382504\")>,\n",
       " <selenium.webdriver.remote.webelement.WebElement (session=\"c39ebd1f10da03fdf3e00caaa5f67aa1\", element=\"2ecd4254-2f50-4501-ac06-5ca4d70160de\")>,\n",
       " <selenium.webdriver.remote.webelement.WebElement (session=\"c39ebd1f10da03fdf3e00caaa5f67aa1\", element=\"c8122248-dde9-4a1f-ac24-20b64e98aac5\")>,\n",
       " <selenium.webdriver.remote.webelement.WebElement (session=\"c39ebd1f10da03fdf3e00caaa5f67aa1\", element=\"6c5216d4-2291-42f2-b90b-91b836ce858a\")>,\n",
       " <selenium.webdriver.remote.webelement.WebElement (session=\"c39ebd1f10da03fdf3e00caaa5f67aa1\", element=\"70ac3e39-a15b-4b33-8a80-ec0158bfe52a\")>,\n",
       " <selenium.webdriver.remote.webelement.WebElement (session=\"c39ebd1f10da03fdf3e00caaa5f67aa1\", element=\"aa48cd47-7fce-40a6-b82e-ca8993b1cf7a\")>,\n",
       " <selenium.webdriver.remote.webelement.WebElement (session=\"c39ebd1f10da03fdf3e00caaa5f67aa1\", element=\"9e276e3d-d000-443a-838f-f352503feaf3\")>,\n",
       " <selenium.webdriver.remote.webelement.WebElement (session=\"c39ebd1f10da03fdf3e00caaa5f67aa1\", element=\"be331f83-bcf9-4458-acf6-739feabc397b\")>,\n",
       " <selenium.webdriver.remote.webelement.WebElement (session=\"c39ebd1f10da03fdf3e00caaa5f67aa1\", element=\"d23adc56-cb1a-426b-b29d-ea962d13b928\")>,\n",
       " <selenium.webdriver.remote.webelement.WebElement (session=\"c39ebd1f10da03fdf3e00caaa5f67aa1\", element=\"a9ba544b-3a6c-4bea-a5f8-870f3b1b96cd\")>,\n",
       " <selenium.webdriver.remote.webelement.WebElement (session=\"c39ebd1f10da03fdf3e00caaa5f67aa1\", element=\"ead784bd-3704-4e1f-9332-7276d166e4db\")>,\n",
       " <selenium.webdriver.remote.webelement.WebElement (session=\"c39ebd1f10da03fdf3e00caaa5f67aa1\", element=\"980372d6-784e-4444-81ab-cdbecbea348b\")>,\n",
       " <selenium.webdriver.remote.webelement.WebElement (session=\"c39ebd1f10da03fdf3e00caaa5f67aa1\", element=\"ebbc442b-f044-4481-821b-7a3e309dacf9\")>,\n",
       " <selenium.webdriver.remote.webelement.WebElement (session=\"c39ebd1f10da03fdf3e00caaa5f67aa1\", element=\"9c8e0236-929f-4fd5-a68d-97f06c551283\")>,\n",
       " <selenium.webdriver.remote.webelement.WebElement (session=\"c39ebd1f10da03fdf3e00caaa5f67aa1\", element=\"7436054c-dd64-4116-a44a-7c06ef1e67a9\")>,\n",
       " <selenium.webdriver.remote.webelement.WebElement (session=\"c39ebd1f10da03fdf3e00caaa5f67aa1\", element=\"418928e9-04b7-481c-90b0-3e423620bedf\")>,\n",
       " <selenium.webdriver.remote.webelement.WebElement (session=\"c39ebd1f10da03fdf3e00caaa5f67aa1\", element=\"f377c54d-c786-4bee-89f5-d7cd279285c1\")>,\n",
       " <selenium.webdriver.remote.webelement.WebElement (session=\"c39ebd1f10da03fdf3e00caaa5f67aa1\", element=\"2c48523e-3af6-4381-aacb-6f3621896722\")>,\n",
       " <selenium.webdriver.remote.webelement.WebElement (session=\"c39ebd1f10da03fdf3e00caaa5f67aa1\", element=\"ae119391-c559-4fbf-8b90-6e2ec4330f55\")>,\n",
       " <selenium.webdriver.remote.webelement.WebElement (session=\"c39ebd1f10da03fdf3e00caaa5f67aa1\", element=\"5ff48f89-b2d5-472d-a5d2-59ee960c990f\")>,\n",
       " <selenium.webdriver.remote.webelement.WebElement (session=\"c39ebd1f10da03fdf3e00caaa5f67aa1\", element=\"96471ff7-2c70-4fff-9c89-bd62b4309ee8\")>,\n",
       " <selenium.webdriver.remote.webelement.WebElement (session=\"c39ebd1f10da03fdf3e00caaa5f67aa1\", element=\"199fee5d-176b-4b93-bb94-5a6384fbe214\")>,\n",
       " <selenium.webdriver.remote.webelement.WebElement (session=\"c39ebd1f10da03fdf3e00caaa5f67aa1\", element=\"1ff5a5f6-72e0-4e86-81f3-bd24bba8426f\")>,\n",
       " <selenium.webdriver.remote.webelement.WebElement (session=\"c39ebd1f10da03fdf3e00caaa5f67aa1\", element=\"063404e6-90b4-4e3d-a410-5f64b1f27fc4\")>,\n",
       " <selenium.webdriver.remote.webelement.WebElement (session=\"c39ebd1f10da03fdf3e00caaa5f67aa1\", element=\"dd4ec908-560a-4441-96fb-734eb59e70a0\")>,\n",
       " <selenium.webdriver.remote.webelement.WebElement (session=\"c39ebd1f10da03fdf3e00caaa5f67aa1\", element=\"f2f3b5f4-a2c3-4cd1-b930-38e539f74892\")>,\n",
       " <selenium.webdriver.remote.webelement.WebElement (session=\"c39ebd1f10da03fdf3e00caaa5f67aa1\", element=\"8935157b-ad3a-484b-90a7-187069692978\")>,\n",
       " <selenium.webdriver.remote.webelement.WebElement (session=\"c39ebd1f10da03fdf3e00caaa5f67aa1\", element=\"c1566135-4294-495a-935e-3bde2c0b4c1b\")>,\n",
       " <selenium.webdriver.remote.webelement.WebElement (session=\"c39ebd1f10da03fdf3e00caaa5f67aa1\", element=\"57eb3d53-7c90-4116-bdd7-221a92bbae82\")>,\n",
       " <selenium.webdriver.remote.webelement.WebElement (session=\"c39ebd1f10da03fdf3e00caaa5f67aa1\", element=\"193cc21e-56ee-4623-acee-6c1d78852368\")>,\n",
       " <selenium.webdriver.remote.webelement.WebElement (session=\"c39ebd1f10da03fdf3e00caaa5f67aa1\", element=\"d41f1aaa-5dcb-4724-a3db-0ce70006a684\")>,\n",
       " <selenium.webdriver.remote.webelement.WebElement (session=\"c39ebd1f10da03fdf3e00caaa5f67aa1\", element=\"dcafcf27-82b5-4ca8-b250-237b60accbaf\")>,\n",
       " <selenium.webdriver.remote.webelement.WebElement (session=\"c39ebd1f10da03fdf3e00caaa5f67aa1\", element=\"263e8edd-81a4-48aa-804e-d1265dfa782f\")>,\n",
       " <selenium.webdriver.remote.webelement.WebElement (session=\"c39ebd1f10da03fdf3e00caaa5f67aa1\", element=\"5e3de813-ddde-42cd-8728-eabf65a6f23b\")>,\n",
       " <selenium.webdriver.remote.webelement.WebElement (session=\"c39ebd1f10da03fdf3e00caaa5f67aa1\", element=\"a4f5ca67-7734-4b65-9438-deb20366db27\")>,\n",
       " <selenium.webdriver.remote.webelement.WebElement (session=\"c39ebd1f10da03fdf3e00caaa5f67aa1\", element=\"884385c5-63c3-438a-9d3b-e63037dbd3f0\")>]"
      ]
     },
     "execution_count": 138,
     "metadata": {},
     "output_type": "execute_result"
    }
   ],
   "source": [
    "price_tags"
   ]
  },
  {
   "cell_type": "code",
   "execution_count": 139,
   "metadata": {
    "scrolled": true
   },
   "outputs": [
    {
     "data": {
      "text/plain": [
       "['₹198',\n",
       " '₹258',\n",
       " '₹232',\n",
       " '₹664',\n",
       " '₹719',\n",
       " '₹253',\n",
       " '₹275',\n",
       " '₹449',\n",
       " '₹639',\n",
       " '₹249',\n",
       " '₹165',\n",
       " '₹449',\n",
       " '₹170',\n",
       " '₹198',\n",
       " '₹263',\n",
       " '₹398',\n",
       " '₹178',\n",
       " '₹184',\n",
       " '₹289',\n",
       " '₹229',\n",
       " '₹289',\n",
       " '₹225',\n",
       " '₹199',\n",
       " '₹699',\n",
       " '₹249',\n",
       " '₹249',\n",
       " '₹189',\n",
       " '₹199',\n",
       " '₹179',\n",
       " '₹474',\n",
       " '₹229',\n",
       " '₹292',\n",
       " '₹164',\n",
       " '₹320',\n",
       " '₹349',\n",
       " '₹229',\n",
       " '₹683',\n",
       " '₹239',\n",
       " '₹719',\n",
       " '₹199']"
      ]
     },
     "execution_count": 139,
     "metadata": {},
     "output_type": "execute_result"
    }
   ],
   "source": [
    "price=[]\n",
    "for i in price_tags:\n",
    "    price.append(i.text)\n",
    "len(price)\n",
    "price"
   ]
  },
  {
   "cell_type": "code",
   "execution_count": 140,
   "metadata": {},
   "outputs": [
    {
     "data": {
      "text/plain": [
       "40"
      ]
     },
     "execution_count": 140,
     "metadata": {},
     "output_type": "execute_result"
    }
   ],
   "source": [
    "##exctracting discounts\n",
    "discounts_tags=driver.find_elements_by_xpath(\"//div[@class='_3Ay6Sb']\")\n",
    "len(discounts_tags)\n",
    "\n"
   ]
  },
  {
   "cell_type": "code",
   "execution_count": 141,
   "metadata": {
    "scrolled": true
   },
   "outputs": [
    {
     "data": {
      "text/plain": [
       "[<selenium.webdriver.remote.webelement.WebElement (session=\"c39ebd1f10da03fdf3e00caaa5f67aa1\", element=\"ef04faa2-4dec-4cf8-913d-58f8483a7416\")>,\n",
       " <selenium.webdriver.remote.webelement.WebElement (session=\"c39ebd1f10da03fdf3e00caaa5f67aa1\", element=\"594aa9b1-73e0-4163-8041-812698c4afb2\")>,\n",
       " <selenium.webdriver.remote.webelement.WebElement (session=\"c39ebd1f10da03fdf3e00caaa5f67aa1\", element=\"68716237-6990-4527-87db-5a09fbbe17f0\")>,\n",
       " <selenium.webdriver.remote.webelement.WebElement (session=\"c39ebd1f10da03fdf3e00caaa5f67aa1\", element=\"01d55a36-de75-4038-8bc2-7a8ca6b205d4\")>,\n",
       " <selenium.webdriver.remote.webelement.WebElement (session=\"c39ebd1f10da03fdf3e00caaa5f67aa1\", element=\"89f54934-1d10-4893-acd1-20e627e4df58\")>,\n",
       " <selenium.webdriver.remote.webelement.WebElement (session=\"c39ebd1f10da03fdf3e00caaa5f67aa1\", element=\"b3fbf293-0d0b-4963-9aed-00006cc257e4\")>,\n",
       " <selenium.webdriver.remote.webelement.WebElement (session=\"c39ebd1f10da03fdf3e00caaa5f67aa1\", element=\"6898eba2-c708-4bed-849b-b4d0581c1437\")>,\n",
       " <selenium.webdriver.remote.webelement.WebElement (session=\"c39ebd1f10da03fdf3e00caaa5f67aa1\", element=\"9b6ada89-76fe-4f43-afb4-a2b2d7bb8b9e\")>,\n",
       " <selenium.webdriver.remote.webelement.WebElement (session=\"c39ebd1f10da03fdf3e00caaa5f67aa1\", element=\"94115342-c9ea-4ebd-92a4-4945cea9809f\")>,\n",
       " <selenium.webdriver.remote.webelement.WebElement (session=\"c39ebd1f10da03fdf3e00caaa5f67aa1\", element=\"5289e1d9-7ae1-4c00-ba29-c7ab14a8a61d\")>,\n",
       " <selenium.webdriver.remote.webelement.WebElement (session=\"c39ebd1f10da03fdf3e00caaa5f67aa1\", element=\"ebda89b9-22ee-4dc1-b655-1e626359ca60\")>,\n",
       " <selenium.webdriver.remote.webelement.WebElement (session=\"c39ebd1f10da03fdf3e00caaa5f67aa1\", element=\"8bd10416-8838-4f83-93c2-ebbacdadac63\")>,\n",
       " <selenium.webdriver.remote.webelement.WebElement (session=\"c39ebd1f10da03fdf3e00caaa5f67aa1\", element=\"7145868d-00cd-4cf3-82d0-64e340bbe1f7\")>,\n",
       " <selenium.webdriver.remote.webelement.WebElement (session=\"c39ebd1f10da03fdf3e00caaa5f67aa1\", element=\"cd6c1e7b-bcbb-4d35-93d9-78afc56942b0\")>,\n",
       " <selenium.webdriver.remote.webelement.WebElement (session=\"c39ebd1f10da03fdf3e00caaa5f67aa1\", element=\"6faaf85e-03df-49c2-8acb-8a6282bc98fd\")>,\n",
       " <selenium.webdriver.remote.webelement.WebElement (session=\"c39ebd1f10da03fdf3e00caaa5f67aa1\", element=\"6792a427-a8e2-4984-9b3e-8f8b241cc243\")>,\n",
       " <selenium.webdriver.remote.webelement.WebElement (session=\"c39ebd1f10da03fdf3e00caaa5f67aa1\", element=\"f9413a08-0126-4a84-8a64-6735167ca723\")>,\n",
       " <selenium.webdriver.remote.webelement.WebElement (session=\"c39ebd1f10da03fdf3e00caaa5f67aa1\", element=\"e624141c-428e-4dbf-b19c-9cb361cefcb7\")>,\n",
       " <selenium.webdriver.remote.webelement.WebElement (session=\"c39ebd1f10da03fdf3e00caaa5f67aa1\", element=\"de860d63-6134-48c8-a43f-d73b923b504e\")>,\n",
       " <selenium.webdriver.remote.webelement.WebElement (session=\"c39ebd1f10da03fdf3e00caaa5f67aa1\", element=\"319fe60b-8336-4739-803d-51a60ab381fd\")>,\n",
       " <selenium.webdriver.remote.webelement.WebElement (session=\"c39ebd1f10da03fdf3e00caaa5f67aa1\", element=\"a0808651-f6a4-4de9-9847-b2ffcad80ee9\")>,\n",
       " <selenium.webdriver.remote.webelement.WebElement (session=\"c39ebd1f10da03fdf3e00caaa5f67aa1\", element=\"8456169e-054a-44dd-a813-3934888e573f\")>,\n",
       " <selenium.webdriver.remote.webelement.WebElement (session=\"c39ebd1f10da03fdf3e00caaa5f67aa1\", element=\"05517cc1-5d3c-4591-9523-a64f0242c666\")>,\n",
       " <selenium.webdriver.remote.webelement.WebElement (session=\"c39ebd1f10da03fdf3e00caaa5f67aa1\", element=\"6551826d-978d-40c9-981b-844b648a121b\")>,\n",
       " <selenium.webdriver.remote.webelement.WebElement (session=\"c39ebd1f10da03fdf3e00caaa5f67aa1\", element=\"6ff0d2e4-612e-4cc5-a36f-af7696327f99\")>,\n",
       " <selenium.webdriver.remote.webelement.WebElement (session=\"c39ebd1f10da03fdf3e00caaa5f67aa1\", element=\"9b843719-d8f2-403e-8ad8-e095ba17a7bd\")>,\n",
       " <selenium.webdriver.remote.webelement.WebElement (session=\"c39ebd1f10da03fdf3e00caaa5f67aa1\", element=\"88b2615e-1051-4a41-8d10-89c982e6b741\")>,\n",
       " <selenium.webdriver.remote.webelement.WebElement (session=\"c39ebd1f10da03fdf3e00caaa5f67aa1\", element=\"1c88d246-98fb-4373-9030-2c18474f7aa8\")>,\n",
       " <selenium.webdriver.remote.webelement.WebElement (session=\"c39ebd1f10da03fdf3e00caaa5f67aa1\", element=\"788e5c6c-263d-4994-b1a1-c25fcd44c2c8\")>,\n",
       " <selenium.webdriver.remote.webelement.WebElement (session=\"c39ebd1f10da03fdf3e00caaa5f67aa1\", element=\"f4634b0a-0e8c-47a2-8ab1-af6c511696c4\")>,\n",
       " <selenium.webdriver.remote.webelement.WebElement (session=\"c39ebd1f10da03fdf3e00caaa5f67aa1\", element=\"ff46984a-047c-4208-948f-9762d44fc24f\")>,\n",
       " <selenium.webdriver.remote.webelement.WebElement (session=\"c39ebd1f10da03fdf3e00caaa5f67aa1\", element=\"0d52584c-fedb-47e9-8474-6dbfa9ddaca9\")>,\n",
       " <selenium.webdriver.remote.webelement.WebElement (session=\"c39ebd1f10da03fdf3e00caaa5f67aa1\", element=\"a24123a5-4ae5-42bb-8ebc-390f64742340\")>,\n",
       " <selenium.webdriver.remote.webelement.WebElement (session=\"c39ebd1f10da03fdf3e00caaa5f67aa1\", element=\"aae973e7-aa5d-4d19-b57a-290bf709ad50\")>,\n",
       " <selenium.webdriver.remote.webelement.WebElement (session=\"c39ebd1f10da03fdf3e00caaa5f67aa1\", element=\"5268a22c-9d5d-403c-8bc2-d86efae1922c\")>,\n",
       " <selenium.webdriver.remote.webelement.WebElement (session=\"c39ebd1f10da03fdf3e00caaa5f67aa1\", element=\"c18c4b33-93f1-4f8f-8b35-407dd65bb26c\")>,\n",
       " <selenium.webdriver.remote.webelement.WebElement (session=\"c39ebd1f10da03fdf3e00caaa5f67aa1\", element=\"6e40a0d0-c6fa-4dbe-b165-ee6b8090eafa\")>,\n",
       " <selenium.webdriver.remote.webelement.WebElement (session=\"c39ebd1f10da03fdf3e00caaa5f67aa1\", element=\"b2bd41a9-2283-4252-aace-53880d3f8713\")>,\n",
       " <selenium.webdriver.remote.webelement.WebElement (session=\"c39ebd1f10da03fdf3e00caaa5f67aa1\", element=\"25d0e510-ecb7-4585-b4d6-68db5c3cb4af\")>,\n",
       " <selenium.webdriver.remote.webelement.WebElement (session=\"c39ebd1f10da03fdf3e00caaa5f67aa1\", element=\"51e2c2e0-c574-4f67-b6b3-d8909a95c584\")>]"
      ]
     },
     "execution_count": 141,
     "metadata": {},
     "output_type": "execute_result"
    }
   ],
   "source": [
    "discounts_tags"
   ]
  },
  {
   "cell_type": "code",
   "execution_count": 142,
   "metadata": {
    "scrolled": true
   },
   "outputs": [
    {
     "data": {
      "text/plain": [
       "['84% off',\n",
       " '89% off',\n",
       " '91% off',\n",
       " '77% off',\n",
       " '20% off',\n",
       " '80% off',\n",
       " '88% off',\n",
       " '77% off',\n",
       " '20% off',\n",
       " '84% off',\n",
       " '90% off',\n",
       " '82% off',\n",
       " '82% off',\n",
       " '88% off',\n",
       " '81% off',\n",
       " '60% off',\n",
       " '82% off',\n",
       " '84% off',\n",
       " '81% off',\n",
       " '77% off',\n",
       " '71% off',\n",
       " '85% off',\n",
       " '80% off',\n",
       " '61% off',\n",
       " '84% off',\n",
       " '84% off',\n",
       " '81% off',\n",
       " '80% off',\n",
       " '87% off',\n",
       " '76% off',\n",
       " '80% off',\n",
       " '85% off',\n",
       " '86% off',\n",
       " '78% off',\n",
       " '86% off',\n",
       " '84% off',\n",
       " '14% off',\n",
       " '88% off',\n",
       " '20% off',\n",
       " '80% off']"
      ]
     },
     "execution_count": 142,
     "metadata": {},
     "output_type": "execute_result"
    }
   ],
   "source": [
    "Disc=[]\n",
    "for i in discounts_tags:\n",
    "    Disc.append(i.text)\n",
    "len(Disc)\n",
    "Disc"
   ]
  },
  {
   "cell_type": "code",
   "execution_count": 143,
   "metadata": {},
   "outputs": [
    {
     "data": {
      "text/plain": [
       "40"
      ]
     },
     "execution_count": 143,
     "metadata": {},
     "output_type": "execute_result"
    }
   ],
   "source": [
    "len(Disc)"
   ]
  },
  {
   "cell_type": "code",
   "execution_count": 144,
   "metadata": {
    "scrolled": true
   },
   "outputs": [
    {
     "data": {
      "text/html": [
       "<div>\n",
       "<style scoped>\n",
       "    .dataframe tbody tr th:only-of-type {\n",
       "        vertical-align: middle;\n",
       "    }\n",
       "\n",
       "    .dataframe tbody tr th {\n",
       "        vertical-align: top;\n",
       "    }\n",
       "\n",
       "    .dataframe thead th {\n",
       "        text-align: right;\n",
       "    }\n",
       "</style>\n",
       "<table border=\"1\" class=\"dataframe\">\n",
       "  <thead>\n",
       "    <tr style=\"text-align: right;\">\n",
       "      <th></th>\n",
       "      <th>Brand</th>\n",
       "      <th>Product_description</th>\n",
       "      <th>Price</th>\n",
       "      <th>Discounts</th>\n",
       "    </tr>\n",
       "  </thead>\n",
       "  <tbody>\n",
       "    <tr>\n",
       "      <th>0</th>\n",
       "      <td>SRPM</td>\n",
       "      <td>UV Protection Wayfarer Sunglasses (50)</td>\n",
       "      <td>₹198</td>\n",
       "      <td>84% off</td>\n",
       "    </tr>\n",
       "    <tr>\n",
       "      <th>1</th>\n",
       "      <td>Elligator</td>\n",
       "      <td>UV Protection Round Sunglasses (54)</td>\n",
       "      <td>₹258</td>\n",
       "      <td>89% off</td>\n",
       "    </tr>\n",
       "    <tr>\n",
       "      <th>2</th>\n",
       "      <td>New Specs</td>\n",
       "      <td>UV Protection Rectangular Sunglasses (Free Size)</td>\n",
       "      <td>₹232</td>\n",
       "      <td>91% off</td>\n",
       "    </tr>\n",
       "    <tr>\n",
       "      <th>3</th>\n",
       "      <td>Singco India</td>\n",
       "      <td>Gradient, Toughened Glass Lens, UV Protection ...</td>\n",
       "      <td>₹664</td>\n",
       "      <td>77% off</td>\n",
       "    </tr>\n",
       "    <tr>\n",
       "      <th>4</th>\n",
       "      <td>Fastrack</td>\n",
       "      <td>UV Protection Wayfarer Sunglasses (Free Size)</td>\n",
       "      <td>₹719</td>\n",
       "      <td>20% off</td>\n",
       "    </tr>\n",
       "    <tr>\n",
       "      <th>5</th>\n",
       "      <td>SUNBEE</td>\n",
       "      <td>UV Protection, Polarized Wayfarer Sunglasses (...</td>\n",
       "      <td>₹253</td>\n",
       "      <td>80% off</td>\n",
       "    </tr>\n",
       "    <tr>\n",
       "      <th>6</th>\n",
       "      <td>Lee Topper</td>\n",
       "      <td>Riding Glasses Wrap-around Sunglasses (Free Size)</td>\n",
       "      <td>₹275</td>\n",
       "      <td>88% off</td>\n",
       "    </tr>\n",
       "    <tr>\n",
       "      <th>7</th>\n",
       "      <td>ROZZETTA CRAFT</td>\n",
       "      <td>UV Protection, Gradient Retro Square Sunglasse...</td>\n",
       "      <td>₹449</td>\n",
       "      <td>77% off</td>\n",
       "    </tr>\n",
       "    <tr>\n",
       "      <th>8</th>\n",
       "      <td>Fastrack</td>\n",
       "      <td>UV Protection Rectangular Sunglasses (Free Size)</td>\n",
       "      <td>₹639</td>\n",
       "      <td>20% off</td>\n",
       "    </tr>\n",
       "    <tr>\n",
       "      <th>9</th>\n",
       "      <td>PIRASO</td>\n",
       "      <td>UV Protection Aviator Sunglasses (54)</td>\n",
       "      <td>₹249</td>\n",
       "      <td>84% off</td>\n",
       "    </tr>\n",
       "    <tr>\n",
       "      <th>10</th>\n",
       "      <td>SHAAH COLLECTIONS</td>\n",
       "      <td>UV Protection, Polarized, Mirrored Rectangular...</td>\n",
       "      <td>₹165</td>\n",
       "      <td>90% off</td>\n",
       "    </tr>\n",
       "    <tr>\n",
       "      <th>11</th>\n",
       "      <td>ROZZETTA CRAFT</td>\n",
       "      <td>UV Protection, Gradient Retro Square Sunglasse...</td>\n",
       "      <td>₹449</td>\n",
       "      <td>82% off</td>\n",
       "    </tr>\n",
       "    <tr>\n",
       "      <th>12</th>\n",
       "      <td>SRPM</td>\n",
       "      <td>UV Protection Wayfarer Sunglasses (54)</td>\n",
       "      <td>₹170</td>\n",
       "      <td>82% off</td>\n",
       "    </tr>\n",
       "    <tr>\n",
       "      <th>13</th>\n",
       "      <td>GANSTA</td>\n",
       "      <td>UV Protection, Riding Glasses Wayfarer Sunglas...</td>\n",
       "      <td>₹198</td>\n",
       "      <td>88% off</td>\n",
       "    </tr>\n",
       "    <tr>\n",
       "      <th>14</th>\n",
       "      <td>New Specs</td>\n",
       "      <td>Mirrored, UV Protection, Riding Glasses, Other...</td>\n",
       "      <td>₹263</td>\n",
       "      <td>81% off</td>\n",
       "    </tr>\n",
       "    <tr>\n",
       "      <th>15</th>\n",
       "      <td>SKYZA INDIA</td>\n",
       "      <td>UV Protection, Mirrored Spectacle Sunglasses (...</td>\n",
       "      <td>₹398</td>\n",
       "      <td>60% off</td>\n",
       "    </tr>\n",
       "    <tr>\n",
       "      <th>16</th>\n",
       "      <td>SRPM</td>\n",
       "      <td>Others Wayfarer, Retro Square Sunglasses (50)</td>\n",
       "      <td>₹178</td>\n",
       "      <td>82% off</td>\n",
       "    </tr>\n",
       "    <tr>\n",
       "      <th>17</th>\n",
       "      <td>kingsunglasses</td>\n",
       "      <td>UV Protection, Riding Glasses, Mirrored Wayfar...</td>\n",
       "      <td>₹184</td>\n",
       "      <td>84% off</td>\n",
       "    </tr>\n",
       "    <tr>\n",
       "      <th>18</th>\n",
       "      <td>kingsunglasses</td>\n",
       "      <td>UV Protection Round Sunglasses (Free Size)</td>\n",
       "      <td>₹289</td>\n",
       "      <td>81% off</td>\n",
       "    </tr>\n",
       "    <tr>\n",
       "      <th>19</th>\n",
       "      <td>DAHAAZIL</td>\n",
       "      <td>UV Protection, Night Vision, Riding Glasses Wa...</td>\n",
       "      <td>₹229</td>\n",
       "      <td>77% off</td>\n",
       "    </tr>\n",
       "    <tr>\n",
       "      <th>20</th>\n",
       "      <td>PHENOMENAL</td>\n",
       "      <td>UV Protection Retro Square Sunglasses (53)</td>\n",
       "      <td>₹289</td>\n",
       "      <td>71% off</td>\n",
       "    </tr>\n",
       "    <tr>\n",
       "      <th>21</th>\n",
       "      <td>PIRASO</td>\n",
       "      <td>UV Protection Wayfarer Sunglasses (32)</td>\n",
       "      <td>₹225</td>\n",
       "      <td>85% off</td>\n",
       "    </tr>\n",
       "    <tr>\n",
       "      <th>22</th>\n",
       "      <td>Lee Topper</td>\n",
       "      <td>UV Protection Rectangular Sunglasses (Free Size)</td>\n",
       "      <td>₹199</td>\n",
       "      <td>80% off</td>\n",
       "    </tr>\n",
       "    <tr>\n",
       "      <th>23</th>\n",
       "      <td>VOYAGE</td>\n",
       "      <td>Gradient, UV Protection Wayfarer Sunglasses (52)</td>\n",
       "      <td>₹699</td>\n",
       "      <td>61% off</td>\n",
       "    </tr>\n",
       "    <tr>\n",
       "      <th>24</th>\n",
       "      <td>PIRASO</td>\n",
       "      <td>UV Protection Aviator Sunglasses (54)</td>\n",
       "      <td>₹249</td>\n",
       "      <td>84% off</td>\n",
       "    </tr>\n",
       "    <tr>\n",
       "      <th>25</th>\n",
       "      <td>PIRASO</td>\n",
       "      <td>UV Protection Aviator Sunglasses (54)</td>\n",
       "      <td>₹249</td>\n",
       "      <td>84% off</td>\n",
       "    </tr>\n",
       "    <tr>\n",
       "      <th>26</th>\n",
       "      <td>Elligator</td>\n",
       "      <td>UV Protection Round Sunglasses (53)</td>\n",
       "      <td>₹189</td>\n",
       "      <td>81% off</td>\n",
       "    </tr>\n",
       "    <tr>\n",
       "      <th>27</th>\n",
       "      <td>LIZA ANGEL</td>\n",
       "      <td>Riding Glasses, Night Vision Spectacle Sunglas...</td>\n",
       "      <td>₹199</td>\n",
       "      <td>80% off</td>\n",
       "    </tr>\n",
       "    <tr>\n",
       "      <th>28</th>\n",
       "      <td>hipe</td>\n",
       "      <td>UV Protection Aviator Sunglasses (Free Size)</td>\n",
       "      <td>₹179</td>\n",
       "      <td>87% off</td>\n",
       "    </tr>\n",
       "    <tr>\n",
       "      <th>29</th>\n",
       "      <td>ROZZETTA CRAFT</td>\n",
       "      <td>Polarized, Riding Glasses Sports, Wrap-around ...</td>\n",
       "      <td>₹474</td>\n",
       "      <td>76% off</td>\n",
       "    </tr>\n",
       "    <tr>\n",
       "      <th>30</th>\n",
       "      <td>DEIXELS</td>\n",
       "      <td>UV Protection Aviator, Wayfarer Sunglasses (Fr...</td>\n",
       "      <td>₹229</td>\n",
       "      <td>80% off</td>\n",
       "    </tr>\n",
       "    <tr>\n",
       "      <th>31</th>\n",
       "      <td>Singco</td>\n",
       "      <td>UV Protection, Others Aviator Sunglasses (32)</td>\n",
       "      <td>₹292</td>\n",
       "      <td>85% off</td>\n",
       "    </tr>\n",
       "    <tr>\n",
       "      <th>32</th>\n",
       "      <td>Elligator</td>\n",
       "      <td>Others Cat-eye, Retro Square, Wayfarer Sunglas...</td>\n",
       "      <td>₹164</td>\n",
       "      <td>86% off</td>\n",
       "    </tr>\n",
       "    <tr>\n",
       "      <th>33</th>\n",
       "      <td>Silver Kartz</td>\n",
       "      <td>UV Protection Wayfarer Sunglasses (Free Size)</td>\n",
       "      <td>₹320</td>\n",
       "      <td>78% off</td>\n",
       "    </tr>\n",
       "    <tr>\n",
       "      <th>34</th>\n",
       "      <td>PIRASO</td>\n",
       "      <td>UV Protection Aviator Sunglasses (58)</td>\n",
       "      <td>₹349</td>\n",
       "      <td>86% off</td>\n",
       "    </tr>\n",
       "    <tr>\n",
       "      <th>35</th>\n",
       "      <td>I Flash</td>\n",
       "      <td>Gradient, Night Vision, UV Protection, Others ...</td>\n",
       "      <td>₹229</td>\n",
       "      <td>84% off</td>\n",
       "    </tr>\n",
       "    <tr>\n",
       "      <th>36</th>\n",
       "      <td>Fastrack</td>\n",
       "      <td>UV Protection Wayfarer Sunglasses (55)</td>\n",
       "      <td>₹683</td>\n",
       "      <td>14% off</td>\n",
       "    </tr>\n",
       "    <tr>\n",
       "      <th>37</th>\n",
       "      <td>kingsunglasses</td>\n",
       "      <td>Mirrored, UV Protection Wayfarer Sunglasses (F...</td>\n",
       "      <td>₹239</td>\n",
       "      <td>88% off</td>\n",
       "    </tr>\n",
       "    <tr>\n",
       "      <th>38</th>\n",
       "      <td>Fastrack</td>\n",
       "      <td>UV Protection Wayfarer Sunglasses (Free Size)</td>\n",
       "      <td>₹719</td>\n",
       "      <td>20% off</td>\n",
       "    </tr>\n",
       "    <tr>\n",
       "      <th>39</th>\n",
       "      <td>DAHAAZIL</td>\n",
       "      <td>UV Protection, Night Vision, Riding Glasses Ro...</td>\n",
       "      <td>₹199</td>\n",
       "      <td>80% off</td>\n",
       "    </tr>\n",
       "  </tbody>\n",
       "</table>\n",
       "</div>"
      ],
      "text/plain": [
       "                Brand                                Product_description  \\\n",
       "0                SRPM             UV Protection Wayfarer Sunglasses (50)   \n",
       "1           Elligator                UV Protection Round Sunglasses (54)   \n",
       "2           New Specs   UV Protection Rectangular Sunglasses (Free Size)   \n",
       "3        Singco India  Gradient, Toughened Glass Lens, UV Protection ...   \n",
       "4            Fastrack      UV Protection Wayfarer Sunglasses (Free Size)   \n",
       "5              SUNBEE  UV Protection, Polarized Wayfarer Sunglasses (...   \n",
       "6          Lee Topper  Riding Glasses Wrap-around Sunglasses (Free Size)   \n",
       "7      ROZZETTA CRAFT  UV Protection, Gradient Retro Square Sunglasse...   \n",
       "8            Fastrack   UV Protection Rectangular Sunglasses (Free Size)   \n",
       "9              PIRASO              UV Protection Aviator Sunglasses (54)   \n",
       "10  SHAAH COLLECTIONS  UV Protection, Polarized, Mirrored Rectangular...   \n",
       "11     ROZZETTA CRAFT  UV Protection, Gradient Retro Square Sunglasse...   \n",
       "12               SRPM             UV Protection Wayfarer Sunglasses (54)   \n",
       "13             GANSTA  UV Protection, Riding Glasses Wayfarer Sunglas...   \n",
       "14          New Specs  Mirrored, UV Protection, Riding Glasses, Other...   \n",
       "15        SKYZA INDIA  UV Protection, Mirrored Spectacle Sunglasses (...   \n",
       "16               SRPM      Others Wayfarer, Retro Square Sunglasses (50)   \n",
       "17     kingsunglasses  UV Protection, Riding Glasses, Mirrored Wayfar...   \n",
       "18     kingsunglasses         UV Protection Round Sunglasses (Free Size)   \n",
       "19           DAHAAZIL  UV Protection, Night Vision, Riding Glasses Wa...   \n",
       "20         PHENOMENAL         UV Protection Retro Square Sunglasses (53)   \n",
       "21             PIRASO             UV Protection Wayfarer Sunglasses (32)   \n",
       "22         Lee Topper   UV Protection Rectangular Sunglasses (Free Size)   \n",
       "23             VOYAGE   Gradient, UV Protection Wayfarer Sunglasses (52)   \n",
       "24             PIRASO              UV Protection Aviator Sunglasses (54)   \n",
       "25             PIRASO              UV Protection Aviator Sunglasses (54)   \n",
       "26          Elligator                UV Protection Round Sunglasses (53)   \n",
       "27         LIZA ANGEL  Riding Glasses, Night Vision Spectacle Sunglas...   \n",
       "28               hipe       UV Protection Aviator Sunglasses (Free Size)   \n",
       "29     ROZZETTA CRAFT  Polarized, Riding Glasses Sports, Wrap-around ...   \n",
       "30            DEIXELS  UV Protection Aviator, Wayfarer Sunglasses (Fr...   \n",
       "31             Singco      UV Protection, Others Aviator Sunglasses (32)   \n",
       "32          Elligator  Others Cat-eye, Retro Square, Wayfarer Sunglas...   \n",
       "33       Silver Kartz      UV Protection Wayfarer Sunglasses (Free Size)   \n",
       "34             PIRASO              UV Protection Aviator Sunglasses (58)   \n",
       "35            I Flash  Gradient, Night Vision, UV Protection, Others ...   \n",
       "36           Fastrack             UV Protection Wayfarer Sunglasses (55)   \n",
       "37     kingsunglasses  Mirrored, UV Protection Wayfarer Sunglasses (F...   \n",
       "38           Fastrack      UV Protection Wayfarer Sunglasses (Free Size)   \n",
       "39           DAHAAZIL  UV Protection, Night Vision, Riding Glasses Ro...   \n",
       "\n",
       "   Price Discounts  \n",
       "0   ₹198   84% off  \n",
       "1   ₹258   89% off  \n",
       "2   ₹232   91% off  \n",
       "3   ₹664   77% off  \n",
       "4   ₹719   20% off  \n",
       "5   ₹253   80% off  \n",
       "6   ₹275   88% off  \n",
       "7   ₹449   77% off  \n",
       "8   ₹639   20% off  \n",
       "9   ₹249   84% off  \n",
       "10  ₹165   90% off  \n",
       "11  ₹449   82% off  \n",
       "12  ₹170   82% off  \n",
       "13  ₹198   88% off  \n",
       "14  ₹263   81% off  \n",
       "15  ₹398   60% off  \n",
       "16  ₹178   82% off  \n",
       "17  ₹184   84% off  \n",
       "18  ₹289   81% off  \n",
       "19  ₹229   77% off  \n",
       "20  ₹289   71% off  \n",
       "21  ₹225   85% off  \n",
       "22  ₹199   80% off  \n",
       "23  ₹699   61% off  \n",
       "24  ₹249   84% off  \n",
       "25  ₹249   84% off  \n",
       "26  ₹189   81% off  \n",
       "27  ₹199   80% off  \n",
       "28  ₹179   87% off  \n",
       "29  ₹474   76% off  \n",
       "30  ₹229   80% off  \n",
       "31  ₹292   85% off  \n",
       "32  ₹164   86% off  \n",
       "33  ₹320   78% off  \n",
       "34  ₹349   86% off  \n",
       "35  ₹229   84% off  \n",
       "36  ₹683   14% off  \n",
       "37  ₹239   88% off  \n",
       "38  ₹719   20% off  \n",
       "39  ₹199   80% off  "
      ]
     },
     "execution_count": 144,
     "metadata": {},
     "output_type": "execute_result"
    }
   ],
   "source": [
    "sunglasses_1=pd.DataFrame()\n",
    "sunglasses_1['Brand']=brand_name\n",
    "sunglasses_1['Product_description']=prod_descp\n",
    "sunglasses_1['Price']=price\n",
    "sunglasses_1['Discounts']=Disc\n",
    "sunglasses_1\n"
   ]
  },
  {
   "cell_type": "code",
   "execution_count": 145,
   "metadata": {},
   "outputs": [],
   "source": [
    "nxt = driver.find_element_by_xpath('/html/body/div[1]/div/div[3]/div[1]/div[2]/div[12]/div/div/nav/a[2]')\n",
    "nxt.click()"
   ]
  },
  {
   "cell_type": "code",
   "execution_count": 146,
   "metadata": {},
   "outputs": [
    {
     "data": {
      "text/plain": [
       "40"
      ]
     },
     "execution_count": 146,
     "metadata": {},
     "output_type": "execute_result"
    }
   ],
   "source": [
    "## exctracting brand names \n",
    "brand_tags=driver.find_elements_by_xpath(\"//div[@class='_2WkVRV']\")\n",
    "len(brand_tags)"
   ]
  },
  {
   "cell_type": "code",
   "execution_count": 147,
   "metadata": {
    "scrolled": true
   },
   "outputs": [
    {
     "data": {
      "text/plain": [
       "[<selenium.webdriver.remote.webelement.WebElement (session=\"c39ebd1f10da03fdf3e00caaa5f67aa1\", element=\"9daccb37-081f-4f64-958f-08df5be91984\")>,\n",
       " <selenium.webdriver.remote.webelement.WebElement (session=\"c39ebd1f10da03fdf3e00caaa5f67aa1\", element=\"430f162f-3db6-4892-86a5-e82f7f3f0540\")>,\n",
       " <selenium.webdriver.remote.webelement.WebElement (session=\"c39ebd1f10da03fdf3e00caaa5f67aa1\", element=\"2006ac38-8684-4c5a-96a4-702e7919bb10\")>,\n",
       " <selenium.webdriver.remote.webelement.WebElement (session=\"c39ebd1f10da03fdf3e00caaa5f67aa1\", element=\"126cae7f-d9a9-44fb-ba8c-b97a994cdf80\")>,\n",
       " <selenium.webdriver.remote.webelement.WebElement (session=\"c39ebd1f10da03fdf3e00caaa5f67aa1\", element=\"0538cd15-cc58-49f9-af14-9996fd1bf8c8\")>,\n",
       " <selenium.webdriver.remote.webelement.WebElement (session=\"c39ebd1f10da03fdf3e00caaa5f67aa1\", element=\"7ae97f79-921e-49dd-b842-a613727f9eb2\")>,\n",
       " <selenium.webdriver.remote.webelement.WebElement (session=\"c39ebd1f10da03fdf3e00caaa5f67aa1\", element=\"4f5f3156-3aae-497a-bc41-658ab891861a\")>,\n",
       " <selenium.webdriver.remote.webelement.WebElement (session=\"c39ebd1f10da03fdf3e00caaa5f67aa1\", element=\"3a3b3d5f-6fea-4294-a8f6-4b1260017324\")>,\n",
       " <selenium.webdriver.remote.webelement.WebElement (session=\"c39ebd1f10da03fdf3e00caaa5f67aa1\", element=\"94633e81-6d00-435c-923b-61c590b03f07\")>,\n",
       " <selenium.webdriver.remote.webelement.WebElement (session=\"c39ebd1f10da03fdf3e00caaa5f67aa1\", element=\"5218f782-ccf5-4a16-8b71-d054ab249bc6\")>,\n",
       " <selenium.webdriver.remote.webelement.WebElement (session=\"c39ebd1f10da03fdf3e00caaa5f67aa1\", element=\"b3a634be-30d2-4ea4-9762-16b934bb5d3e\")>,\n",
       " <selenium.webdriver.remote.webelement.WebElement (session=\"c39ebd1f10da03fdf3e00caaa5f67aa1\", element=\"1586f2f2-f943-4589-a300-0d46af37974f\")>,\n",
       " <selenium.webdriver.remote.webelement.WebElement (session=\"c39ebd1f10da03fdf3e00caaa5f67aa1\", element=\"b807cea6-4004-4ffc-bcb9-9464ef369266\")>,\n",
       " <selenium.webdriver.remote.webelement.WebElement (session=\"c39ebd1f10da03fdf3e00caaa5f67aa1\", element=\"c6225cf6-6ad0-44fe-9704-01a334639f4b\")>,\n",
       " <selenium.webdriver.remote.webelement.WebElement (session=\"c39ebd1f10da03fdf3e00caaa5f67aa1\", element=\"caa8b33e-7639-4aee-8683-9a6deb1390b3\")>,\n",
       " <selenium.webdriver.remote.webelement.WebElement (session=\"c39ebd1f10da03fdf3e00caaa5f67aa1\", element=\"3ec16ee9-0c9b-43ae-8083-6ada3649e93a\")>,\n",
       " <selenium.webdriver.remote.webelement.WebElement (session=\"c39ebd1f10da03fdf3e00caaa5f67aa1\", element=\"d8b4064e-d7d6-46fd-95a0-c3a35b11c831\")>,\n",
       " <selenium.webdriver.remote.webelement.WebElement (session=\"c39ebd1f10da03fdf3e00caaa5f67aa1\", element=\"2e9ec052-eb68-460b-9eb4-5c5317fc7718\")>,\n",
       " <selenium.webdriver.remote.webelement.WebElement (session=\"c39ebd1f10da03fdf3e00caaa5f67aa1\", element=\"b405c447-f214-405d-8eaa-09965ad6bbe1\")>,\n",
       " <selenium.webdriver.remote.webelement.WebElement (session=\"c39ebd1f10da03fdf3e00caaa5f67aa1\", element=\"1cd6402f-8dcb-4f25-a5bd-16cf0bff7702\")>,\n",
       " <selenium.webdriver.remote.webelement.WebElement (session=\"c39ebd1f10da03fdf3e00caaa5f67aa1\", element=\"eb8cc228-4b35-4c8b-8d51-0787ef0d2f7d\")>,\n",
       " <selenium.webdriver.remote.webelement.WebElement (session=\"c39ebd1f10da03fdf3e00caaa5f67aa1\", element=\"b33d7eed-efcc-4024-9459-cd55f96622bd\")>,\n",
       " <selenium.webdriver.remote.webelement.WebElement (session=\"c39ebd1f10da03fdf3e00caaa5f67aa1\", element=\"7849dc34-3737-4c43-9b52-84b5c46c7f4b\")>,\n",
       " <selenium.webdriver.remote.webelement.WebElement (session=\"c39ebd1f10da03fdf3e00caaa5f67aa1\", element=\"29bf9471-634f-43ad-88ee-d6496b2a19e2\")>,\n",
       " <selenium.webdriver.remote.webelement.WebElement (session=\"c39ebd1f10da03fdf3e00caaa5f67aa1\", element=\"d5122782-5c75-43aa-90b0-2b46cb59266f\")>,\n",
       " <selenium.webdriver.remote.webelement.WebElement (session=\"c39ebd1f10da03fdf3e00caaa5f67aa1\", element=\"8db73b5c-edf9-4065-9f8a-2ec64d1f10cd\")>,\n",
       " <selenium.webdriver.remote.webelement.WebElement (session=\"c39ebd1f10da03fdf3e00caaa5f67aa1\", element=\"cb749731-a76f-40dd-90c6-e1b624437524\")>,\n",
       " <selenium.webdriver.remote.webelement.WebElement (session=\"c39ebd1f10da03fdf3e00caaa5f67aa1\", element=\"d3ed2431-5ac1-43f3-9541-1726c7efa6e9\")>,\n",
       " <selenium.webdriver.remote.webelement.WebElement (session=\"c39ebd1f10da03fdf3e00caaa5f67aa1\", element=\"9ebf0eb4-3325-4b9c-97ab-1cb386490f54\")>,\n",
       " <selenium.webdriver.remote.webelement.WebElement (session=\"c39ebd1f10da03fdf3e00caaa5f67aa1\", element=\"04f96be3-e12b-4a26-9466-c41b7dd9eb34\")>,\n",
       " <selenium.webdriver.remote.webelement.WebElement (session=\"c39ebd1f10da03fdf3e00caaa5f67aa1\", element=\"cb1de602-106c-4633-9d3d-6f5b84ab7721\")>,\n",
       " <selenium.webdriver.remote.webelement.WebElement (session=\"c39ebd1f10da03fdf3e00caaa5f67aa1\", element=\"a0dc7c0a-8f33-4403-bb74-86ce3e0df50c\")>,\n",
       " <selenium.webdriver.remote.webelement.WebElement (session=\"c39ebd1f10da03fdf3e00caaa5f67aa1\", element=\"f6393f17-ddf5-4fc9-bde2-bb82295c4ffa\")>,\n",
       " <selenium.webdriver.remote.webelement.WebElement (session=\"c39ebd1f10da03fdf3e00caaa5f67aa1\", element=\"f2cf1656-1902-4fac-9b35-7abae2437488\")>,\n",
       " <selenium.webdriver.remote.webelement.WebElement (session=\"c39ebd1f10da03fdf3e00caaa5f67aa1\", element=\"f6409544-c831-4d55-b284-5904783c3fb2\")>,\n",
       " <selenium.webdriver.remote.webelement.WebElement (session=\"c39ebd1f10da03fdf3e00caaa5f67aa1\", element=\"3ab4a38d-f69b-429c-a5b2-0f23b5b864eb\")>,\n",
       " <selenium.webdriver.remote.webelement.WebElement (session=\"c39ebd1f10da03fdf3e00caaa5f67aa1\", element=\"10728cb6-10d7-4b1b-aef1-5536e6f98b4b\")>,\n",
       " <selenium.webdriver.remote.webelement.WebElement (session=\"c39ebd1f10da03fdf3e00caaa5f67aa1\", element=\"b9b064c7-3bf0-404e-94a9-1beb2e50c407\")>,\n",
       " <selenium.webdriver.remote.webelement.WebElement (session=\"c39ebd1f10da03fdf3e00caaa5f67aa1\", element=\"7711a304-920f-43d2-8b65-14180c63b255\")>,\n",
       " <selenium.webdriver.remote.webelement.WebElement (session=\"c39ebd1f10da03fdf3e00caaa5f67aa1\", element=\"d5b06b57-0834-4c11-811c-4ee581dc03a0\")>]"
      ]
     },
     "execution_count": 147,
     "metadata": {},
     "output_type": "execute_result"
    }
   ],
   "source": [
    "brand_tags"
   ]
  },
  {
   "cell_type": "code",
   "execution_count": 148,
   "metadata": {
    "scrolled": true
   },
   "outputs": [
    {
     "data": {
      "text/plain": [
       "['SHAAH COLLECTIONS',\n",
       " 'kingsunglasses',\n",
       " 'SUNBEE',\n",
       " 'SKYZA INDIA',\n",
       " 'New Specs',\n",
       " 'New Specs',\n",
       " 'Singco India',\n",
       " 'IZAAN MART',\n",
       " 'SUNBEE',\n",
       " 'elegante',\n",
       " 'kingsunglasses',\n",
       " 'LIZA ANGEL',\n",
       " 'ROZZETTA CRAFT',\n",
       " 'ROZZETTA CRAFT',\n",
       " 'hipe',\n",
       " 'NuVew',\n",
       " 'SHAAH COLLECTIONS',\n",
       " 'ROYAL SON',\n",
       " 'NuVew',\n",
       " 'EYEWEARLABS',\n",
       " 'PHENOMENAL',\n",
       " 'ROYAL SON',\n",
       " 'AISLIN',\n",
       " 'AISLIN',\n",
       " 'SRPM',\n",
       " 'hipe',\n",
       " 'kingsunglasses',\n",
       " 'NuVew',\n",
       " 'New Specs',\n",
       " 'Fastrack',\n",
       " 'kingsunglasses',\n",
       " 'ROZZETTA CRAFT',\n",
       " 'PIRASO',\n",
       " 'kingsunglasses',\n",
       " 'PHENOMENAL',\n",
       " 'ROYAL SON',\n",
       " 'ROZZETTA CRAFT',\n",
       " 'ROZZETTA CRAFT',\n",
       " 'PHENOMENAL',\n",
       " 'AISLIN']"
      ]
     },
     "execution_count": 148,
     "metadata": {},
     "output_type": "execute_result"
    }
   ],
   "source": [
    "brand_name=[]\n",
    "for i in brand_tags:\n",
    "    brand_name.append(i.text)\n",
    "len(brand_name)\n",
    "brand_name"
   ]
  },
  {
   "cell_type": "code",
   "execution_count": 149,
   "metadata": {},
   "outputs": [
    {
     "data": {
      "text/plain": [
       "38"
      ]
     },
     "execution_count": 149,
     "metadata": {},
     "output_type": "execute_result"
    }
   ],
   "source": [
    "###Extracting Product Description\n",
    "prod_tags=driver.find_elements_by_xpath(\"//a[@class='IRpwTa']\")\n",
    "len(prod_tags)"
   ]
  },
  {
   "cell_type": "code",
   "execution_count": 150,
   "metadata": {
    "scrolled": true
   },
   "outputs": [
    {
     "data": {
      "text/plain": [
       "[<selenium.webdriver.remote.webelement.WebElement (session=\"c39ebd1f10da03fdf3e00caaa5f67aa1\", element=\"231dbafa-a2d2-4bda-afbd-5df68ba699d6\")>,\n",
       " <selenium.webdriver.remote.webelement.WebElement (session=\"c39ebd1f10da03fdf3e00caaa5f67aa1\", element=\"6861a281-07e3-45c3-9d4d-b501aa99ad06\")>,\n",
       " <selenium.webdriver.remote.webelement.WebElement (session=\"c39ebd1f10da03fdf3e00caaa5f67aa1\", element=\"77d649a0-4f70-4c23-a71c-35b3a0271f98\")>,\n",
       " <selenium.webdriver.remote.webelement.WebElement (session=\"c39ebd1f10da03fdf3e00caaa5f67aa1\", element=\"79b014fe-7bab-451c-a4a9-1b5f31495688\")>,\n",
       " <selenium.webdriver.remote.webelement.WebElement (session=\"c39ebd1f10da03fdf3e00caaa5f67aa1\", element=\"51463877-3f54-4e6b-9a28-fa611fca41e1\")>,\n",
       " <selenium.webdriver.remote.webelement.WebElement (session=\"c39ebd1f10da03fdf3e00caaa5f67aa1\", element=\"4b67849b-d3d3-4e56-9b1f-078e966a02a1\")>,\n",
       " <selenium.webdriver.remote.webelement.WebElement (session=\"c39ebd1f10da03fdf3e00caaa5f67aa1\", element=\"b664c908-4df7-4070-834b-81da47bf5fc1\")>,\n",
       " <selenium.webdriver.remote.webelement.WebElement (session=\"c39ebd1f10da03fdf3e00caaa5f67aa1\", element=\"892b96d6-e6f8-4fcf-863b-5860595569c4\")>,\n",
       " <selenium.webdriver.remote.webelement.WebElement (session=\"c39ebd1f10da03fdf3e00caaa5f67aa1\", element=\"7d7a49e8-19d9-42b4-989d-bbfb7db8fdc7\")>,\n",
       " <selenium.webdriver.remote.webelement.WebElement (session=\"c39ebd1f10da03fdf3e00caaa5f67aa1\", element=\"fdce7f48-4240-4761-9093-8bc9d79e99a5\")>,\n",
       " <selenium.webdriver.remote.webelement.WebElement (session=\"c39ebd1f10da03fdf3e00caaa5f67aa1\", element=\"3ddbd9c4-d0e3-4838-9d3b-fb881f1e0707\")>,\n",
       " <selenium.webdriver.remote.webelement.WebElement (session=\"c39ebd1f10da03fdf3e00caaa5f67aa1\", element=\"55ca3f09-b785-453c-b690-9b8feb056cc8\")>,\n",
       " <selenium.webdriver.remote.webelement.WebElement (session=\"c39ebd1f10da03fdf3e00caaa5f67aa1\", element=\"f858d821-1d7d-4326-8bf2-c0f382d4cb35\")>,\n",
       " <selenium.webdriver.remote.webelement.WebElement (session=\"c39ebd1f10da03fdf3e00caaa5f67aa1\", element=\"d5d234c1-b78e-4188-b437-cb573aee5235\")>,\n",
       " <selenium.webdriver.remote.webelement.WebElement (session=\"c39ebd1f10da03fdf3e00caaa5f67aa1\", element=\"0a1dc3b1-0126-4df0-bb71-ac1e6efecaa3\")>,\n",
       " <selenium.webdriver.remote.webelement.WebElement (session=\"c39ebd1f10da03fdf3e00caaa5f67aa1\", element=\"75c9b2d9-4535-43af-8dc7-b98604b75798\")>,\n",
       " <selenium.webdriver.remote.webelement.WebElement (session=\"c39ebd1f10da03fdf3e00caaa5f67aa1\", element=\"df8bb102-cf33-4ca5-8f82-8c22b51cc4a6\")>,\n",
       " <selenium.webdriver.remote.webelement.WebElement (session=\"c39ebd1f10da03fdf3e00caaa5f67aa1\", element=\"964ff618-52cf-4eb1-a494-914d4bb579a3\")>,\n",
       " <selenium.webdriver.remote.webelement.WebElement (session=\"c39ebd1f10da03fdf3e00caaa5f67aa1\", element=\"a4d12fd6-6c12-472e-845d-ae2c03694ee2\")>,\n",
       " <selenium.webdriver.remote.webelement.WebElement (session=\"c39ebd1f10da03fdf3e00caaa5f67aa1\", element=\"5ee3593f-21e0-44db-90f1-15eb7cd00f49\")>,\n",
       " <selenium.webdriver.remote.webelement.WebElement (session=\"c39ebd1f10da03fdf3e00caaa5f67aa1\", element=\"2411311e-e199-43c8-ac2a-4f8947b39348\")>,\n",
       " <selenium.webdriver.remote.webelement.WebElement (session=\"c39ebd1f10da03fdf3e00caaa5f67aa1\", element=\"1ec08119-703e-405e-ac1b-928b2c28f55f\")>,\n",
       " <selenium.webdriver.remote.webelement.WebElement (session=\"c39ebd1f10da03fdf3e00caaa5f67aa1\", element=\"b7501c99-98f7-4359-95ae-13f4c91bd1ad\")>,\n",
       " <selenium.webdriver.remote.webelement.WebElement (session=\"c39ebd1f10da03fdf3e00caaa5f67aa1\", element=\"25bf9caf-d7d8-45dc-9513-a0a0bcab7e95\")>,\n",
       " <selenium.webdriver.remote.webelement.WebElement (session=\"c39ebd1f10da03fdf3e00caaa5f67aa1\", element=\"523aa114-71c7-45c9-aa69-105e3e99528a\")>,\n",
       " <selenium.webdriver.remote.webelement.WebElement (session=\"c39ebd1f10da03fdf3e00caaa5f67aa1\", element=\"00aed6e4-5e25-49ea-bf10-4c9253ec1090\")>,\n",
       " <selenium.webdriver.remote.webelement.WebElement (session=\"c39ebd1f10da03fdf3e00caaa5f67aa1\", element=\"f5cdbd91-023c-4b7d-bfcb-ae62fc2be4c2\")>,\n",
       " <selenium.webdriver.remote.webelement.WebElement (session=\"c39ebd1f10da03fdf3e00caaa5f67aa1\", element=\"8292dae2-15a1-4005-8296-f36d6177a3cb\")>,\n",
       " <selenium.webdriver.remote.webelement.WebElement (session=\"c39ebd1f10da03fdf3e00caaa5f67aa1\", element=\"609130dd-2148-4fcf-ac4c-41330416bb1c\")>,\n",
       " <selenium.webdriver.remote.webelement.WebElement (session=\"c39ebd1f10da03fdf3e00caaa5f67aa1\", element=\"a7ec26d7-18c7-4435-83d7-0a09b0483ecd\")>,\n",
       " <selenium.webdriver.remote.webelement.WebElement (session=\"c39ebd1f10da03fdf3e00caaa5f67aa1\", element=\"0de7f415-9ebd-4520-803a-ae9939651744\")>,\n",
       " <selenium.webdriver.remote.webelement.WebElement (session=\"c39ebd1f10da03fdf3e00caaa5f67aa1\", element=\"cff72c52-24f7-4c5a-b4b3-860c72fbb7da\")>,\n",
       " <selenium.webdriver.remote.webelement.WebElement (session=\"c39ebd1f10da03fdf3e00caaa5f67aa1\", element=\"714ae5bf-a4e9-4166-bb77-5c6f99584b6f\")>,\n",
       " <selenium.webdriver.remote.webelement.WebElement (session=\"c39ebd1f10da03fdf3e00caaa5f67aa1\", element=\"dcac6da4-239f-4a97-a58b-908434cdd298\")>,\n",
       " <selenium.webdriver.remote.webelement.WebElement (session=\"c39ebd1f10da03fdf3e00caaa5f67aa1\", element=\"8583c908-1af6-4704-9009-894e5bb29a10\")>,\n",
       " <selenium.webdriver.remote.webelement.WebElement (session=\"c39ebd1f10da03fdf3e00caaa5f67aa1\", element=\"4ef66c42-9ef5-4d34-9d0a-2b59acb19d45\")>,\n",
       " <selenium.webdriver.remote.webelement.WebElement (session=\"c39ebd1f10da03fdf3e00caaa5f67aa1\", element=\"1493be71-fad5-4363-ac9b-60c7f001cd9b\")>,\n",
       " <selenium.webdriver.remote.webelement.WebElement (session=\"c39ebd1f10da03fdf3e00caaa5f67aa1\", element=\"f3a83c74-3f74-4e52-afbc-65b9147f01e1\")>]"
      ]
     },
     "execution_count": 150,
     "metadata": {},
     "output_type": "execute_result"
    }
   ],
   "source": [
    "prod_tags"
   ]
  },
  {
   "cell_type": "code",
   "execution_count": 151,
   "metadata": {
    "scrolled": true
   },
   "outputs": [
    {
     "data": {
      "text/plain": [
       "['UV Protection, Polarized, Mirrored Rectangular Sunglass...',\n",
       " 'UV Protection Round Sunglasses (54)',\n",
       " 'UV Protection, Polarized, Mirrored Retro Square Sunglas...',\n",
       " 'UV Protection Aviator Sunglasses (Free Size)',\n",
       " 'UV Protection Round Sunglasses (Free Size)',\n",
       " 'Riding Glasses, UV Protection, Others Aviator Sunglasse...',\n",
       " 'UV Protection Rectangular Sunglasses (55)',\n",
       " 'UV Protection, Polarized, Mirrored Round Sunglasses (Fr...',\n",
       " 'Polarized, Riding Glasses, Night Vision Sports, Wrap-ar...',\n",
       " 'UV Protection, Night Vision Wayfarer Sunglasses (Free S...',\n",
       " 'UV Protection, Riding Glasses, Night Vision Spectacle ...',\n",
       " 'UV Protection, Gradient Rectangular Sunglasses (Free Si...',\n",
       " 'UV Protection, Gradient Rectangular Sunglasses (Free Si...',\n",
       " 'UV Protection, Gradient, Mirrored, Riding Glasses Aviat...',\n",
       " 'UV Protection, Night Vision, Riding Glasses Aviator Sun...',\n",
       " 'UV Protection Round Sunglasses (Free Size)',\n",
       " 'Mirrored Aviator Sunglasses (55)',\n",
       " 'UV Protection Sports Sunglasses (62)',\n",
       " 'UV Protection Clubmaster Sunglasses (Free Size)',\n",
       " 'UV Protection, Gradient Wayfarer Sunglasses (55)',\n",
       " 'UV Protection, Gradient Round, Cat-eye Sunglasses (60)',\n",
       " 'Toughened Glass Lens, UV Protection Rectangular Sunglas...',\n",
       " 'UV Protection Wayfarer Sunglasses (53)',\n",
       " 'UV Protection Sports Sunglasses (Free Size)',\n",
       " 'UV Protection Rectangular Sunglasses (55)',\n",
       " 'UV Protection Cat-eye Sunglasses (60)',\n",
       " 'UV Protection, Mirrored Sports Sunglasses (Free Size)',\n",
       " 'UV Protection Wayfarer Sunglasses (52)',\n",
       " 'UV Protection Round Sunglasses (Free Size)',\n",
       " 'Polarized, UV Protection Wayfarer Sunglasses (Free Size...',\n",
       " 'UV Protection Butterfly Sunglasses (65)',\n",
       " 'Mirrored, UV Protection Wayfarer, Rectangular Sunglasse...',\n",
       " 'UV Protection Retro Square Sunglasses (Free Size)',\n",
       " 'Polarized, UV Protection, Gradient Over-sized, Butterfl...',\n",
       " 'UV Protection Rectangular Sunglasses (Free Size)',\n",
       " 'UV Protection Retro Square Sunglasses (Free Size)',\n",
       " 'UV Protection, Mirrored Clubmaster Sunglasses (Free Siz...',\n",
       " 'Toughened Glass Lens, UV Protection Aviator, Wrap-aroun...']"
      ]
     },
     "execution_count": 151,
     "metadata": {},
     "output_type": "execute_result"
    }
   ],
   "source": [
    "prod_descp=[]\n",
    "for i in prod_tags:\n",
    "    prod_descp.append(i.text)\n",
    "len(prod_descp)\n",
    "prod_descp"
   ]
  },
  {
   "cell_type": "code",
   "execution_count": 152,
   "metadata": {},
   "outputs": [
    {
     "data": {
      "text/plain": [
       "40"
      ]
     },
     "execution_count": 152,
     "metadata": {},
     "output_type": "execute_result"
    }
   ],
   "source": [
    "##Extracting price\n",
    "price_tags=driver.find_elements_by_xpath(\"//div[@class='_30jeq3']\")\n",
    "len(price_tags)\n",
    "\n"
   ]
  },
  {
   "cell_type": "code",
   "execution_count": 153,
   "metadata": {
    "scrolled": true
   },
   "outputs": [
    {
     "data": {
      "text/plain": [
       "[<selenium.webdriver.remote.webelement.WebElement (session=\"c39ebd1f10da03fdf3e00caaa5f67aa1\", element=\"e1430fdc-31d7-4e21-bd31-49930a34d6a7\")>,\n",
       " <selenium.webdriver.remote.webelement.WebElement (session=\"c39ebd1f10da03fdf3e00caaa5f67aa1\", element=\"453daaed-bc09-41e5-921e-79a751ad3933\")>,\n",
       " <selenium.webdriver.remote.webelement.WebElement (session=\"c39ebd1f10da03fdf3e00caaa5f67aa1\", element=\"b32b3dec-a625-438a-b436-14ac7767ca4f\")>,\n",
       " <selenium.webdriver.remote.webelement.WebElement (session=\"c39ebd1f10da03fdf3e00caaa5f67aa1\", element=\"4b5097bc-706e-41c4-91b5-afdd2bf86906\")>,\n",
       " <selenium.webdriver.remote.webelement.WebElement (session=\"c39ebd1f10da03fdf3e00caaa5f67aa1\", element=\"5b514b40-841d-4d74-bc82-e6fb20a29354\")>,\n",
       " <selenium.webdriver.remote.webelement.WebElement (session=\"c39ebd1f10da03fdf3e00caaa5f67aa1\", element=\"4473387e-0666-4251-a6a8-35b09a8f8408\")>,\n",
       " <selenium.webdriver.remote.webelement.WebElement (session=\"c39ebd1f10da03fdf3e00caaa5f67aa1\", element=\"c7954812-27e5-4b7b-a85f-bfebf420ae51\")>,\n",
       " <selenium.webdriver.remote.webelement.WebElement (session=\"c39ebd1f10da03fdf3e00caaa5f67aa1\", element=\"e15b30dc-bad0-4995-b413-6d44daea40f6\")>,\n",
       " <selenium.webdriver.remote.webelement.WebElement (session=\"c39ebd1f10da03fdf3e00caaa5f67aa1\", element=\"052d6b3b-3b40-44f4-a94f-afa5036d0687\")>,\n",
       " <selenium.webdriver.remote.webelement.WebElement (session=\"c39ebd1f10da03fdf3e00caaa5f67aa1\", element=\"68d36367-03eb-4a10-a0de-87fe68627ff7\")>,\n",
       " <selenium.webdriver.remote.webelement.WebElement (session=\"c39ebd1f10da03fdf3e00caaa5f67aa1\", element=\"251d9bf1-70b4-462f-be66-d921a83a0d93\")>,\n",
       " <selenium.webdriver.remote.webelement.WebElement (session=\"c39ebd1f10da03fdf3e00caaa5f67aa1\", element=\"92303151-e952-44ee-a4a0-1e74dd5c162b\")>,\n",
       " <selenium.webdriver.remote.webelement.WebElement (session=\"c39ebd1f10da03fdf3e00caaa5f67aa1\", element=\"b0d4bc6e-4247-4583-950b-c1a4d7d928f5\")>,\n",
       " <selenium.webdriver.remote.webelement.WebElement (session=\"c39ebd1f10da03fdf3e00caaa5f67aa1\", element=\"c001d2d4-d941-4cc1-9bc2-6b9ffdc6c517\")>,\n",
       " <selenium.webdriver.remote.webelement.WebElement (session=\"c39ebd1f10da03fdf3e00caaa5f67aa1\", element=\"0da6aca4-aea6-4cb2-8c5a-370eb3e0bc6f\")>,\n",
       " <selenium.webdriver.remote.webelement.WebElement (session=\"c39ebd1f10da03fdf3e00caaa5f67aa1\", element=\"9e633a75-288a-4d62-8b69-a772df5ccfff\")>,\n",
       " <selenium.webdriver.remote.webelement.WebElement (session=\"c39ebd1f10da03fdf3e00caaa5f67aa1\", element=\"ff01528a-0daa-48c2-8ce0-e8d9d7a28856\")>,\n",
       " <selenium.webdriver.remote.webelement.WebElement (session=\"c39ebd1f10da03fdf3e00caaa5f67aa1\", element=\"0a4b9057-9b00-442f-8776-67f30b97f905\")>,\n",
       " <selenium.webdriver.remote.webelement.WebElement (session=\"c39ebd1f10da03fdf3e00caaa5f67aa1\", element=\"edca33b4-b9ad-4ca1-8e52-69a8281fef36\")>,\n",
       " <selenium.webdriver.remote.webelement.WebElement (session=\"c39ebd1f10da03fdf3e00caaa5f67aa1\", element=\"9d99f7e5-cdcc-43d7-872c-a586943837ff\")>,\n",
       " <selenium.webdriver.remote.webelement.WebElement (session=\"c39ebd1f10da03fdf3e00caaa5f67aa1\", element=\"1dd5074a-9648-49f6-b975-434e41d2162d\")>,\n",
       " <selenium.webdriver.remote.webelement.WebElement (session=\"c39ebd1f10da03fdf3e00caaa5f67aa1\", element=\"40d6b1cc-c23d-41da-9409-e8fb8c6065c9\")>,\n",
       " <selenium.webdriver.remote.webelement.WebElement (session=\"c39ebd1f10da03fdf3e00caaa5f67aa1\", element=\"c6256515-9dbe-4c1a-bb93-78cbf2a2b0d0\")>,\n",
       " <selenium.webdriver.remote.webelement.WebElement (session=\"c39ebd1f10da03fdf3e00caaa5f67aa1\", element=\"40ad5451-73f7-4d52-8f79-c67374ba29aa\")>,\n",
       " <selenium.webdriver.remote.webelement.WebElement (session=\"c39ebd1f10da03fdf3e00caaa5f67aa1\", element=\"5b12347d-5768-4e42-a7d4-0c4a89fefba2\")>,\n",
       " <selenium.webdriver.remote.webelement.WebElement (session=\"c39ebd1f10da03fdf3e00caaa5f67aa1\", element=\"247d685c-aaa4-4be0-8e80-4afa32e8467b\")>,\n",
       " <selenium.webdriver.remote.webelement.WebElement (session=\"c39ebd1f10da03fdf3e00caaa5f67aa1\", element=\"5c6937f4-26dd-4b7b-9e1e-983207b7cc98\")>,\n",
       " <selenium.webdriver.remote.webelement.WebElement (session=\"c39ebd1f10da03fdf3e00caaa5f67aa1\", element=\"5fb07358-08d2-4711-b85d-530125956e79\")>,\n",
       " <selenium.webdriver.remote.webelement.WebElement (session=\"c39ebd1f10da03fdf3e00caaa5f67aa1\", element=\"5325878e-a056-465c-9bb6-840f5c4ff1f8\")>,\n",
       " <selenium.webdriver.remote.webelement.WebElement (session=\"c39ebd1f10da03fdf3e00caaa5f67aa1\", element=\"11a27f43-5d0f-4cc9-a66f-5e86ba33dae1\")>,\n",
       " <selenium.webdriver.remote.webelement.WebElement (session=\"c39ebd1f10da03fdf3e00caaa5f67aa1\", element=\"ba77fc90-9710-4548-ac3f-8d89bb14813d\")>,\n",
       " <selenium.webdriver.remote.webelement.WebElement (session=\"c39ebd1f10da03fdf3e00caaa5f67aa1\", element=\"fb28a267-40e9-41bc-81a3-2d34cf3adfb6\")>,\n",
       " <selenium.webdriver.remote.webelement.WebElement (session=\"c39ebd1f10da03fdf3e00caaa5f67aa1\", element=\"3c8a1f96-e340-4021-8c12-c9849bf56ccb\")>,\n",
       " <selenium.webdriver.remote.webelement.WebElement (session=\"c39ebd1f10da03fdf3e00caaa5f67aa1\", element=\"8673ec6a-93c0-40e4-bfb1-55ad9cef3f79\")>,\n",
       " <selenium.webdriver.remote.webelement.WebElement (session=\"c39ebd1f10da03fdf3e00caaa5f67aa1\", element=\"d92f3fa9-4108-44a2-ba7e-ff42930cc374\")>,\n",
       " <selenium.webdriver.remote.webelement.WebElement (session=\"c39ebd1f10da03fdf3e00caaa5f67aa1\", element=\"89ee5ab8-fe36-4f60-9be5-7dd91501270b\")>,\n",
       " <selenium.webdriver.remote.webelement.WebElement (session=\"c39ebd1f10da03fdf3e00caaa5f67aa1\", element=\"012c563d-e256-43c1-9494-da3811b6342e\")>,\n",
       " <selenium.webdriver.remote.webelement.WebElement (session=\"c39ebd1f10da03fdf3e00caaa5f67aa1\", element=\"817f5567-5acb-4136-9a73-fd38636ba565\")>,\n",
       " <selenium.webdriver.remote.webelement.WebElement (session=\"c39ebd1f10da03fdf3e00caaa5f67aa1\", element=\"d6975563-2b41-4036-a88d-be9dfb77d35c\")>,\n",
       " <selenium.webdriver.remote.webelement.WebElement (session=\"c39ebd1f10da03fdf3e00caaa5f67aa1\", element=\"b421b5d1-6ebd-4085-a671-ecb66578e462\")>]"
      ]
     },
     "execution_count": 153,
     "metadata": {},
     "output_type": "execute_result"
    }
   ],
   "source": [
    "price_tags"
   ]
  },
  {
   "cell_type": "code",
   "execution_count": 154,
   "metadata": {
    "scrolled": true
   },
   "outputs": [
    {
     "data": {
      "text/plain": [
       "['₹181',\n",
       " '₹186',\n",
       " '₹230',\n",
       " '₹315',\n",
       " '₹183',\n",
       " '₹239',\n",
       " '₹208',\n",
       " '₹330',\n",
       " '₹284',\n",
       " '₹499',\n",
       " '₹258',\n",
       " '₹199',\n",
       " '₹379',\n",
       " '₹330',\n",
       " '₹209',\n",
       " '₹188',\n",
       " '₹284',\n",
       " '₹379',\n",
       " '₹327',\n",
       " '₹1,598',\n",
       " '₹307',\n",
       " '₹217',\n",
       " '₹458',\n",
       " '₹775',\n",
       " '₹233',\n",
       " '₹258',\n",
       " '₹162',\n",
       " '₹377',\n",
       " '₹155',\n",
       " '₹639',\n",
       " '₹179',\n",
       " '₹425',\n",
       " '₹399',\n",
       " '₹258',\n",
       " '₹328',\n",
       " '₹1,234',\n",
       " '₹303',\n",
       " '₹474',\n",
       " '₹307',\n",
       " '₹998']"
      ]
     },
     "execution_count": 154,
     "metadata": {},
     "output_type": "execute_result"
    }
   ],
   "source": [
    "price=[]\n",
    "for i in price_tags:\n",
    "    price.append(i.text)\n",
    "len(price)\n",
    "price"
   ]
  },
  {
   "cell_type": "code",
   "execution_count": 155,
   "metadata": {},
   "outputs": [
    {
     "data": {
      "text/plain": [
       "40"
      ]
     },
     "execution_count": 155,
     "metadata": {},
     "output_type": "execute_result"
    }
   ],
   "source": [
    "##exctracting discounts\n",
    "discounts_tags=driver.find_elements_by_xpath(\"//div[@class='_3Ay6Sb']\")\n",
    "len(discounts_tags)\n",
    "\n"
   ]
  },
  {
   "cell_type": "code",
   "execution_count": 156,
   "metadata": {
    "scrolled": true
   },
   "outputs": [
    {
     "data": {
      "text/plain": [
       "[<selenium.webdriver.remote.webelement.WebElement (session=\"c39ebd1f10da03fdf3e00caaa5f67aa1\", element=\"01ea61b4-0db0-4a12-8837-833257c383ed\")>,\n",
       " <selenium.webdriver.remote.webelement.WebElement (session=\"c39ebd1f10da03fdf3e00caaa5f67aa1\", element=\"520744f8-58de-485a-a95a-906984aedd4d\")>,\n",
       " <selenium.webdriver.remote.webelement.WebElement (session=\"c39ebd1f10da03fdf3e00caaa5f67aa1\", element=\"d8cbd057-cf96-4eac-be1a-74dc84b7b24e\")>,\n",
       " <selenium.webdriver.remote.webelement.WebElement (session=\"c39ebd1f10da03fdf3e00caaa5f67aa1\", element=\"76ae85a9-209b-4287-a3d2-c95d6ce65d0c\")>,\n",
       " <selenium.webdriver.remote.webelement.WebElement (session=\"c39ebd1f10da03fdf3e00caaa5f67aa1\", element=\"037945b4-77bf-49ae-90a2-92087ae2617f\")>,\n",
       " <selenium.webdriver.remote.webelement.WebElement (session=\"c39ebd1f10da03fdf3e00caaa5f67aa1\", element=\"8a165de6-01b0-4291-a0db-db9867d2e6a6\")>,\n",
       " <selenium.webdriver.remote.webelement.WebElement (session=\"c39ebd1f10da03fdf3e00caaa5f67aa1\", element=\"f8fb8eb0-9360-406a-92fb-7d0794216a70\")>,\n",
       " <selenium.webdriver.remote.webelement.WebElement (session=\"c39ebd1f10da03fdf3e00caaa5f67aa1\", element=\"e8496a1c-58e9-4a9d-82a1-a93a97b6cdac\")>,\n",
       " <selenium.webdriver.remote.webelement.WebElement (session=\"c39ebd1f10da03fdf3e00caaa5f67aa1\", element=\"8d64d40f-3438-4da0-885e-2c70f1f02b21\")>,\n",
       " <selenium.webdriver.remote.webelement.WebElement (session=\"c39ebd1f10da03fdf3e00caaa5f67aa1\", element=\"00726175-344e-4637-aef4-b8a1f280064b\")>,\n",
       " <selenium.webdriver.remote.webelement.WebElement (session=\"c39ebd1f10da03fdf3e00caaa5f67aa1\", element=\"066b0120-2e3a-4515-8557-7959616552b2\")>,\n",
       " <selenium.webdriver.remote.webelement.WebElement (session=\"c39ebd1f10da03fdf3e00caaa5f67aa1\", element=\"08b669c3-7dac-48b1-88ee-90fa05f27362\")>,\n",
       " <selenium.webdriver.remote.webelement.WebElement (session=\"c39ebd1f10da03fdf3e00caaa5f67aa1\", element=\"34bb1778-97f5-4c6c-9276-608aa2987565\")>,\n",
       " <selenium.webdriver.remote.webelement.WebElement (session=\"c39ebd1f10da03fdf3e00caaa5f67aa1\", element=\"b9f5b77b-3a63-418d-9ffe-231d0307a20a\")>,\n",
       " <selenium.webdriver.remote.webelement.WebElement (session=\"c39ebd1f10da03fdf3e00caaa5f67aa1\", element=\"23e5453f-3306-485d-ae70-9c5b7b2e32f4\")>,\n",
       " <selenium.webdriver.remote.webelement.WebElement (session=\"c39ebd1f10da03fdf3e00caaa5f67aa1\", element=\"cc72f062-307e-4406-b189-a64a2b1c9d3a\")>,\n",
       " <selenium.webdriver.remote.webelement.WebElement (session=\"c39ebd1f10da03fdf3e00caaa5f67aa1\", element=\"8b67179f-0141-4f82-abc8-82462280ed14\")>,\n",
       " <selenium.webdriver.remote.webelement.WebElement (session=\"c39ebd1f10da03fdf3e00caaa5f67aa1\", element=\"83cf55ae-9616-4513-82c5-9070b4b5bc6c\")>,\n",
       " <selenium.webdriver.remote.webelement.WebElement (session=\"c39ebd1f10da03fdf3e00caaa5f67aa1\", element=\"6c960aa8-1ddc-49fd-a630-ae875a2a51c3\")>,\n",
       " <selenium.webdriver.remote.webelement.WebElement (session=\"c39ebd1f10da03fdf3e00caaa5f67aa1\", element=\"7f9f119d-e8b5-40df-b21a-ad660cbd2ba9\")>,\n",
       " <selenium.webdriver.remote.webelement.WebElement (session=\"c39ebd1f10da03fdf3e00caaa5f67aa1\", element=\"cc0d4135-4668-4fda-a21c-b195070d50d1\")>,\n",
       " <selenium.webdriver.remote.webelement.WebElement (session=\"c39ebd1f10da03fdf3e00caaa5f67aa1\", element=\"443ca3f0-cb2c-4ea6-960e-f1acce0bf1af\")>,\n",
       " <selenium.webdriver.remote.webelement.WebElement (session=\"c39ebd1f10da03fdf3e00caaa5f67aa1\", element=\"724aee52-0218-4820-b89d-cb159b7edeb1\")>,\n",
       " <selenium.webdriver.remote.webelement.WebElement (session=\"c39ebd1f10da03fdf3e00caaa5f67aa1\", element=\"3a0f26b8-a178-4aad-8b59-79ee10b52ce8\")>,\n",
       " <selenium.webdriver.remote.webelement.WebElement (session=\"c39ebd1f10da03fdf3e00caaa5f67aa1\", element=\"80bcd809-2617-403e-a377-fb829c82f8f4\")>,\n",
       " <selenium.webdriver.remote.webelement.WebElement (session=\"c39ebd1f10da03fdf3e00caaa5f67aa1\", element=\"d30d2d49-da71-4a48-a348-dc41bf765428\")>,\n",
       " <selenium.webdriver.remote.webelement.WebElement (session=\"c39ebd1f10da03fdf3e00caaa5f67aa1\", element=\"4b388f26-cc82-4335-92d4-afee7e4edb5f\")>,\n",
       " <selenium.webdriver.remote.webelement.WebElement (session=\"c39ebd1f10da03fdf3e00caaa5f67aa1\", element=\"7ced39be-19a2-471f-abfc-2ca6cf9691eb\")>,\n",
       " <selenium.webdriver.remote.webelement.WebElement (session=\"c39ebd1f10da03fdf3e00caaa5f67aa1\", element=\"9248b075-82c6-4e91-bcb7-636995d3f761\")>,\n",
       " <selenium.webdriver.remote.webelement.WebElement (session=\"c39ebd1f10da03fdf3e00caaa5f67aa1\", element=\"02f8024c-dab9-4420-bb1a-b076117dd7d4\")>,\n",
       " <selenium.webdriver.remote.webelement.WebElement (session=\"c39ebd1f10da03fdf3e00caaa5f67aa1\", element=\"76a3a821-97a5-4687-800e-6e3ad1289d00\")>,\n",
       " <selenium.webdriver.remote.webelement.WebElement (session=\"c39ebd1f10da03fdf3e00caaa5f67aa1\", element=\"a4c07b97-0b94-4014-bcb9-ea3fcd231096\")>,\n",
       " <selenium.webdriver.remote.webelement.WebElement (session=\"c39ebd1f10da03fdf3e00caaa5f67aa1\", element=\"7c36b686-44ae-4714-ade6-d8f3505f13cf\")>,\n",
       " <selenium.webdriver.remote.webelement.WebElement (session=\"c39ebd1f10da03fdf3e00caaa5f67aa1\", element=\"148463e3-b2a0-44a9-bbcf-59da9a61376e\")>,\n",
       " <selenium.webdriver.remote.webelement.WebElement (session=\"c39ebd1f10da03fdf3e00caaa5f67aa1\", element=\"a5333c67-9371-4edc-9f8b-6df0f473524b\")>,\n",
       " <selenium.webdriver.remote.webelement.WebElement (session=\"c39ebd1f10da03fdf3e00caaa5f67aa1\", element=\"fa45e9e5-ca99-4ddf-b623-6b4c09d63877\")>,\n",
       " <selenium.webdriver.remote.webelement.WebElement (session=\"c39ebd1f10da03fdf3e00caaa5f67aa1\", element=\"7aa29265-0115-4862-8d69-c5fa2e88d9e5\")>,\n",
       " <selenium.webdriver.remote.webelement.WebElement (session=\"c39ebd1f10da03fdf3e00caaa5f67aa1\", element=\"2a899194-5bb3-4625-8e0c-8a260cac0011\")>,\n",
       " <selenium.webdriver.remote.webelement.WebElement (session=\"c39ebd1f10da03fdf3e00caaa5f67aa1\", element=\"048c2b27-e244-4baa-8bbf-baa0fe963bf1\")>,\n",
       " <selenium.webdriver.remote.webelement.WebElement (session=\"c39ebd1f10da03fdf3e00caaa5f67aa1\", element=\"0bfe9454-a46e-4555-9698-e34cbe7753f2\")>]"
      ]
     },
     "execution_count": 156,
     "metadata": {},
     "output_type": "execute_result"
    }
   ],
   "source": [
    "discounts_tags"
   ]
  },
  {
   "cell_type": "code",
   "execution_count": 157,
   "metadata": {
    "scrolled": true
   },
   "outputs": [
    {
     "data": {
      "text/plain": [
       "['81% off',\n",
       " '81% off',\n",
       " '82% off',\n",
       " '60% off',\n",
       " '88% off',\n",
       " '81% off',\n",
       " '86% off',\n",
       " '83% off',\n",
       " '83% off',\n",
       " '78% off',\n",
       " '82% off',\n",
       " '60% off',\n",
       " '81% off',\n",
       " '85% off',\n",
       " '79% off',\n",
       " '74% off',\n",
       " '83% off',\n",
       " '74% off',\n",
       " '73% off',\n",
       " '36% off',\n",
       " '84% off',\n",
       " '78% off',\n",
       " '73% off',\n",
       " '76% off',\n",
       " '76% off',\n",
       " '86% off',\n",
       " '87% off',\n",
       " '73% off',\n",
       " '88% off',\n",
       " '20% off',\n",
       " '82% off',\n",
       " '78% off',\n",
       " '84% off',\n",
       " '87% off',\n",
       " '83% off',\n",
       " '58% off',\n",
       " '79% off',\n",
       " '78% off',\n",
       " '84% off',\n",
       " '73% off']"
      ]
     },
     "execution_count": 157,
     "metadata": {},
     "output_type": "execute_result"
    }
   ],
   "source": [
    "Disc=[]\n",
    "for i in discounts_tags:\n",
    "    Disc.append(i.text)\n",
    "len(Disc)\n",
    "Disc"
   ]
  },
  {
   "cell_type": "code",
   "execution_count": 158,
   "metadata": {},
   "outputs": [
    {
     "data": {
      "text/plain": [
       "40"
      ]
     },
     "execution_count": 158,
     "metadata": {},
     "output_type": "execute_result"
    }
   ],
   "source": [
    "len(Disc)"
   ]
  },
  {
   "cell_type": "code",
   "execution_count": 159,
   "metadata": {
    "scrolled": true
   },
   "outputs": [
    {
     "data": {
      "text/html": [
       "<div>\n",
       "<style scoped>\n",
       "    .dataframe tbody tr th:only-of-type {\n",
       "        vertical-align: middle;\n",
       "    }\n",
       "\n",
       "    .dataframe tbody tr th {\n",
       "        vertical-align: top;\n",
       "    }\n",
       "\n",
       "    .dataframe thead th {\n",
       "        text-align: right;\n",
       "    }\n",
       "</style>\n",
       "<table border=\"1\" class=\"dataframe\">\n",
       "  <thead>\n",
       "    <tr style=\"text-align: right;\">\n",
       "      <th></th>\n",
       "      <th>Brand</th>\n",
       "      <th>Product_description</th>\n",
       "      <th>Price</th>\n",
       "      <th>Discounts</th>\n",
       "    </tr>\n",
       "  </thead>\n",
       "  <tbody>\n",
       "    <tr>\n",
       "      <th>0</th>\n",
       "      <td>SHAAH COLLECTIONS</td>\n",
       "      <td>UV Protection, Polarized, Mirrored Rectangular...</td>\n",
       "      <td>₹181</td>\n",
       "      <td>81% off</td>\n",
       "    </tr>\n",
       "    <tr>\n",
       "      <th>1</th>\n",
       "      <td>kingsunglasses</td>\n",
       "      <td>UV Protection Round Sunglasses (54)</td>\n",
       "      <td>₹186</td>\n",
       "      <td>81% off</td>\n",
       "    </tr>\n",
       "    <tr>\n",
       "      <th>2</th>\n",
       "      <td>SUNBEE</td>\n",
       "      <td>UV Protection, Polarized, Mirrored Retro Squar...</td>\n",
       "      <td>₹230</td>\n",
       "      <td>82% off</td>\n",
       "    </tr>\n",
       "    <tr>\n",
       "      <th>3</th>\n",
       "      <td>SKYZA INDIA</td>\n",
       "      <td>UV Protection Aviator Sunglasses (Free Size)</td>\n",
       "      <td>₹315</td>\n",
       "      <td>60% off</td>\n",
       "    </tr>\n",
       "    <tr>\n",
       "      <th>4</th>\n",
       "      <td>New Specs</td>\n",
       "      <td>UV Protection Round Sunglasses (Free Size)</td>\n",
       "      <td>₹183</td>\n",
       "      <td>88% off</td>\n",
       "    </tr>\n",
       "    <tr>\n",
       "      <th>5</th>\n",
       "      <td>New Specs</td>\n",
       "      <td>Riding Glasses, UV Protection, Others Aviator ...</td>\n",
       "      <td>₹239</td>\n",
       "      <td>81% off</td>\n",
       "    </tr>\n",
       "    <tr>\n",
       "      <th>6</th>\n",
       "      <td>Singco India</td>\n",
       "      <td>UV Protection Rectangular Sunglasses (55)</td>\n",
       "      <td>₹208</td>\n",
       "      <td>86% off</td>\n",
       "    </tr>\n",
       "    <tr>\n",
       "      <th>7</th>\n",
       "      <td>IZAAN MART</td>\n",
       "      <td>UV Protection, Polarized, Mirrored Round Sungl...</td>\n",
       "      <td>₹330</td>\n",
       "      <td>83% off</td>\n",
       "    </tr>\n",
       "    <tr>\n",
       "      <th>8</th>\n",
       "      <td>SUNBEE</td>\n",
       "      <td>Polarized, Riding Glasses, Night Vision Sports...</td>\n",
       "      <td>₹284</td>\n",
       "      <td>83% off</td>\n",
       "    </tr>\n",
       "    <tr>\n",
       "      <th>9</th>\n",
       "      <td>elegante</td>\n",
       "      <td>UV Protection, Night Vision Wayfarer Sunglasse...</td>\n",
       "      <td>₹499</td>\n",
       "      <td>78% off</td>\n",
       "    </tr>\n",
       "    <tr>\n",
       "      <th>10</th>\n",
       "      <td>kingsunglasses</td>\n",
       "      <td>UV Protection, Riding Glasses, Night Vision Sp...</td>\n",
       "      <td>₹258</td>\n",
       "      <td>82% off</td>\n",
       "    </tr>\n",
       "    <tr>\n",
       "      <th>11</th>\n",
       "      <td>LIZA ANGEL</td>\n",
       "      <td>UV Protection, Gradient Rectangular Sunglasses...</td>\n",
       "      <td>₹199</td>\n",
       "      <td>60% off</td>\n",
       "    </tr>\n",
       "    <tr>\n",
       "      <th>12</th>\n",
       "      <td>ROZZETTA CRAFT</td>\n",
       "      <td>UV Protection, Gradient Rectangular Sunglasses...</td>\n",
       "      <td>₹379</td>\n",
       "      <td>81% off</td>\n",
       "    </tr>\n",
       "    <tr>\n",
       "      <th>13</th>\n",
       "      <td>ROZZETTA CRAFT</td>\n",
       "      <td>UV Protection, Gradient, Mirrored, Riding Glas...</td>\n",
       "      <td>₹330</td>\n",
       "      <td>85% off</td>\n",
       "    </tr>\n",
       "    <tr>\n",
       "      <th>14</th>\n",
       "      <td>hipe</td>\n",
       "      <td>UV Protection, Night Vision, Riding Glasses Av...</td>\n",
       "      <td>₹209</td>\n",
       "      <td>79% off</td>\n",
       "    </tr>\n",
       "    <tr>\n",
       "      <th>15</th>\n",
       "      <td>NuVew</td>\n",
       "      <td>UV Protection Round Sunglasses (Free Size)</td>\n",
       "      <td>₹188</td>\n",
       "      <td>74% off</td>\n",
       "    </tr>\n",
       "    <tr>\n",
       "      <th>16</th>\n",
       "      <td>SHAAH COLLECTIONS</td>\n",
       "      <td>Mirrored Aviator Sunglasses (55)</td>\n",
       "      <td>₹284</td>\n",
       "      <td>83% off</td>\n",
       "    </tr>\n",
       "    <tr>\n",
       "      <th>17</th>\n",
       "      <td>ROYAL SON</td>\n",
       "      <td>UV Protection Sports Sunglasses (62)</td>\n",
       "      <td>₹379</td>\n",
       "      <td>74% off</td>\n",
       "    </tr>\n",
       "    <tr>\n",
       "      <th>18</th>\n",
       "      <td>NuVew</td>\n",
       "      <td>UV Protection Clubmaster Sunglasses (Free Size)</td>\n",
       "      <td>₹327</td>\n",
       "      <td>73% off</td>\n",
       "    </tr>\n",
       "    <tr>\n",
       "      <th>19</th>\n",
       "      <td>EYEWEARLABS</td>\n",
       "      <td>UV Protection, Gradient Wayfarer Sunglasses (55)</td>\n",
       "      <td>₹1,598</td>\n",
       "      <td>36% off</td>\n",
       "    </tr>\n",
       "    <tr>\n",
       "      <th>20</th>\n",
       "      <td>PHENOMENAL</td>\n",
       "      <td>UV Protection, Gradient Round, Cat-eye Sunglas...</td>\n",
       "      <td>₹307</td>\n",
       "      <td>84% off</td>\n",
       "    </tr>\n",
       "    <tr>\n",
       "      <th>21</th>\n",
       "      <td>ROYAL SON</td>\n",
       "      <td>Toughened Glass Lens, UV Protection Rectangula...</td>\n",
       "      <td>₹217</td>\n",
       "      <td>78% off</td>\n",
       "    </tr>\n",
       "    <tr>\n",
       "      <th>22</th>\n",
       "      <td>AISLIN</td>\n",
       "      <td>UV Protection Wayfarer Sunglasses (53)</td>\n",
       "      <td>₹458</td>\n",
       "      <td>73% off</td>\n",
       "    </tr>\n",
       "    <tr>\n",
       "      <th>23</th>\n",
       "      <td>AISLIN</td>\n",
       "      <td>UV Protection Sports Sunglasses (Free Size)</td>\n",
       "      <td>₹775</td>\n",
       "      <td>76% off</td>\n",
       "    </tr>\n",
       "    <tr>\n",
       "      <th>24</th>\n",
       "      <td>SRPM</td>\n",
       "      <td>UV Protection Rectangular Sunglasses (55)</td>\n",
       "      <td>₹233</td>\n",
       "      <td>76% off</td>\n",
       "    </tr>\n",
       "    <tr>\n",
       "      <th>25</th>\n",
       "      <td>hipe</td>\n",
       "      <td>UV Protection Cat-eye Sunglasses (60)</td>\n",
       "      <td>₹258</td>\n",
       "      <td>86% off</td>\n",
       "    </tr>\n",
       "    <tr>\n",
       "      <th>26</th>\n",
       "      <td>kingsunglasses</td>\n",
       "      <td>UV Protection, Mirrored Sports Sunglasses (Fre...</td>\n",
       "      <td>₹162</td>\n",
       "      <td>87% off</td>\n",
       "    </tr>\n",
       "    <tr>\n",
       "      <th>27</th>\n",
       "      <td>NuVew</td>\n",
       "      <td>UV Protection Wayfarer Sunglasses (52)</td>\n",
       "      <td>₹377</td>\n",
       "      <td>73% off</td>\n",
       "    </tr>\n",
       "    <tr>\n",
       "      <th>28</th>\n",
       "      <td>New Specs</td>\n",
       "      <td>UV Protection Round Sunglasses (Free Size)</td>\n",
       "      <td>₹155</td>\n",
       "      <td>88% off</td>\n",
       "    </tr>\n",
       "    <tr>\n",
       "      <th>29</th>\n",
       "      <td>Fastrack</td>\n",
       "      <td>Polarized, UV Protection Wayfarer Sunglasses (...</td>\n",
       "      <td>₹639</td>\n",
       "      <td>20% off</td>\n",
       "    </tr>\n",
       "  </tbody>\n",
       "</table>\n",
       "</div>"
      ],
      "text/plain": [
       "                Brand                                Product_description  \\\n",
       "0   SHAAH COLLECTIONS  UV Protection, Polarized, Mirrored Rectangular...   \n",
       "1      kingsunglasses                UV Protection Round Sunglasses (54)   \n",
       "2              SUNBEE  UV Protection, Polarized, Mirrored Retro Squar...   \n",
       "3         SKYZA INDIA       UV Protection Aviator Sunglasses (Free Size)   \n",
       "4           New Specs         UV Protection Round Sunglasses (Free Size)   \n",
       "5           New Specs  Riding Glasses, UV Protection, Others Aviator ...   \n",
       "6        Singco India          UV Protection Rectangular Sunglasses (55)   \n",
       "7          IZAAN MART  UV Protection, Polarized, Mirrored Round Sungl...   \n",
       "8              SUNBEE  Polarized, Riding Glasses, Night Vision Sports...   \n",
       "9            elegante  UV Protection, Night Vision Wayfarer Sunglasse...   \n",
       "10     kingsunglasses  UV Protection, Riding Glasses, Night Vision Sp...   \n",
       "11         LIZA ANGEL  UV Protection, Gradient Rectangular Sunglasses...   \n",
       "12     ROZZETTA CRAFT  UV Protection, Gradient Rectangular Sunglasses...   \n",
       "13     ROZZETTA CRAFT  UV Protection, Gradient, Mirrored, Riding Glas...   \n",
       "14               hipe  UV Protection, Night Vision, Riding Glasses Av...   \n",
       "15              NuVew         UV Protection Round Sunglasses (Free Size)   \n",
       "16  SHAAH COLLECTIONS                   Mirrored Aviator Sunglasses (55)   \n",
       "17          ROYAL SON               UV Protection Sports Sunglasses (62)   \n",
       "18              NuVew    UV Protection Clubmaster Sunglasses (Free Size)   \n",
       "19        EYEWEARLABS   UV Protection, Gradient Wayfarer Sunglasses (55)   \n",
       "20         PHENOMENAL  UV Protection, Gradient Round, Cat-eye Sunglas...   \n",
       "21          ROYAL SON  Toughened Glass Lens, UV Protection Rectangula...   \n",
       "22             AISLIN             UV Protection Wayfarer Sunglasses (53)   \n",
       "23             AISLIN        UV Protection Sports Sunglasses (Free Size)   \n",
       "24               SRPM          UV Protection Rectangular Sunglasses (55)   \n",
       "25               hipe              UV Protection Cat-eye Sunglasses (60)   \n",
       "26     kingsunglasses  UV Protection, Mirrored Sports Sunglasses (Fre...   \n",
       "27              NuVew             UV Protection Wayfarer Sunglasses (52)   \n",
       "28          New Specs         UV Protection Round Sunglasses (Free Size)   \n",
       "29           Fastrack  Polarized, UV Protection Wayfarer Sunglasses (...   \n",
       "\n",
       "     Price Discounts  \n",
       "0     ₹181   81% off  \n",
       "1     ₹186   81% off  \n",
       "2     ₹230   82% off  \n",
       "3     ₹315   60% off  \n",
       "4     ₹183   88% off  \n",
       "5     ₹239   81% off  \n",
       "6     ₹208   86% off  \n",
       "7     ₹330   83% off  \n",
       "8     ₹284   83% off  \n",
       "9     ₹499   78% off  \n",
       "10    ₹258   82% off  \n",
       "11    ₹199   60% off  \n",
       "12    ₹379   81% off  \n",
       "13    ₹330   85% off  \n",
       "14    ₹209   79% off  \n",
       "15    ₹188   74% off  \n",
       "16    ₹284   83% off  \n",
       "17    ₹379   74% off  \n",
       "18    ₹327   73% off  \n",
       "19  ₹1,598   36% off  \n",
       "20    ₹307   84% off  \n",
       "21    ₹217   78% off  \n",
       "22    ₹458   73% off  \n",
       "23    ₹775   76% off  \n",
       "24    ₹233   76% off  \n",
       "25    ₹258   86% off  \n",
       "26    ₹162   87% off  \n",
       "27    ₹377   73% off  \n",
       "28    ₹155   88% off  \n",
       "29    ₹639   20% off  "
      ]
     },
     "execution_count": 159,
     "metadata": {},
     "output_type": "execute_result"
    }
   ],
   "source": [
    "sunglasses_2=pd.DataFrame()\n",
    "sunglasses_2['Brand']=brand_name[0:30]\n",
    "sunglasses_2['Product_description']=prod_descp[0:30]\n",
    "sunglasses_2['Price']=price[0:30]\n",
    "sunglasses_2['Discounts']=Disc[0:30]\n",
    "sunglasses_2"
   ]
  },
  {
   "cell_type": "code",
   "execution_count": 160,
   "metadata": {},
   "outputs": [],
   "source": [
    "nxt = driver.find_element_by_xpath('/html/body/div[1]/div/div[3]/div[1]/div[2]/div[12]/div/div/nav/a[4]')\n",
    "nxt.click()"
   ]
  },
  {
   "cell_type": "code",
   "execution_count": 161,
   "metadata": {},
   "outputs": [
    {
     "data": {
      "text/plain": [
       "40"
      ]
     },
     "execution_count": 161,
     "metadata": {},
     "output_type": "execute_result"
    }
   ],
   "source": [
    "##Extracting Brand\n",
    "brand_tags=driver.find_elements_by_xpath(\"//div[@class='_2WkVRV']\")\n",
    "len(brand_tags)\n",
    "\n"
   ]
  },
  {
   "cell_type": "code",
   "execution_count": 162,
   "metadata": {
    "scrolled": true
   },
   "outputs": [
    {
     "data": {
      "text/plain": [
       "[<selenium.webdriver.remote.webelement.WebElement (session=\"c39ebd1f10da03fdf3e00caaa5f67aa1\", element=\"6a59f072-0bef-4720-9e9d-5039144bf0f7\")>,\n",
       " <selenium.webdriver.remote.webelement.WebElement (session=\"c39ebd1f10da03fdf3e00caaa5f67aa1\", element=\"bb587861-dcef-41e2-b16c-70015610a285\")>,\n",
       " <selenium.webdriver.remote.webelement.WebElement (session=\"c39ebd1f10da03fdf3e00caaa5f67aa1\", element=\"c36be90c-e45d-4cae-ad04-ec5c80037f01\")>,\n",
       " <selenium.webdriver.remote.webelement.WebElement (session=\"c39ebd1f10da03fdf3e00caaa5f67aa1\", element=\"46ed25d9-17b5-44d2-9045-5b91301419b8\")>,\n",
       " <selenium.webdriver.remote.webelement.WebElement (session=\"c39ebd1f10da03fdf3e00caaa5f67aa1\", element=\"4e9f36da-22c2-4743-bbb3-dc33884e5b0b\")>,\n",
       " <selenium.webdriver.remote.webelement.WebElement (session=\"c39ebd1f10da03fdf3e00caaa5f67aa1\", element=\"7df76dfd-5a3d-4aeb-8df7-57182d636a3d\")>,\n",
       " <selenium.webdriver.remote.webelement.WebElement (session=\"c39ebd1f10da03fdf3e00caaa5f67aa1\", element=\"f5efba97-aad9-46b7-8e14-054debfcd8de\")>,\n",
       " <selenium.webdriver.remote.webelement.WebElement (session=\"c39ebd1f10da03fdf3e00caaa5f67aa1\", element=\"4494a4e5-94c2-4777-85c3-e9b7bc985481\")>,\n",
       " <selenium.webdriver.remote.webelement.WebElement (session=\"c39ebd1f10da03fdf3e00caaa5f67aa1\", element=\"62de5d2c-b7d4-442e-87d8-cd636476ea30\")>,\n",
       " <selenium.webdriver.remote.webelement.WebElement (session=\"c39ebd1f10da03fdf3e00caaa5f67aa1\", element=\"52ab1677-d8ed-4b31-a1ed-bf767c6d5593\")>,\n",
       " <selenium.webdriver.remote.webelement.WebElement (session=\"c39ebd1f10da03fdf3e00caaa5f67aa1\", element=\"00c1e098-6413-4e0b-9720-5d2e3bedf67a\")>,\n",
       " <selenium.webdriver.remote.webelement.WebElement (session=\"c39ebd1f10da03fdf3e00caaa5f67aa1\", element=\"c69fa2e0-0344-4775-859f-876cb5cc4f6f\")>,\n",
       " <selenium.webdriver.remote.webelement.WebElement (session=\"c39ebd1f10da03fdf3e00caaa5f67aa1\", element=\"cc28ccbb-5615-45b2-bac6-8050e6bbd94c\")>,\n",
       " <selenium.webdriver.remote.webelement.WebElement (session=\"c39ebd1f10da03fdf3e00caaa5f67aa1\", element=\"3ac55907-1140-4bf5-a6dd-fafb12f0df68\")>,\n",
       " <selenium.webdriver.remote.webelement.WebElement (session=\"c39ebd1f10da03fdf3e00caaa5f67aa1\", element=\"07bb2842-fcee-434e-bb61-30816deeb55c\")>,\n",
       " <selenium.webdriver.remote.webelement.WebElement (session=\"c39ebd1f10da03fdf3e00caaa5f67aa1\", element=\"6acc7129-498a-4b8a-9a1c-c3c2c9cbd562\")>,\n",
       " <selenium.webdriver.remote.webelement.WebElement (session=\"c39ebd1f10da03fdf3e00caaa5f67aa1\", element=\"2c29f931-2dcf-4557-a5c8-ae5034ba6c40\")>,\n",
       " <selenium.webdriver.remote.webelement.WebElement (session=\"c39ebd1f10da03fdf3e00caaa5f67aa1\", element=\"a6fa949c-2eb5-445a-b641-206c22ebfafd\")>,\n",
       " <selenium.webdriver.remote.webelement.WebElement (session=\"c39ebd1f10da03fdf3e00caaa5f67aa1\", element=\"23795946-4743-47db-ad25-aa428bc186b8\")>,\n",
       " <selenium.webdriver.remote.webelement.WebElement (session=\"c39ebd1f10da03fdf3e00caaa5f67aa1\", element=\"5378db0c-694a-4772-a41b-bc1cba46c5a9\")>]"
      ]
     },
     "execution_count": 162,
     "metadata": {},
     "output_type": "execute_result"
    }
   ],
   "source": [
    "brand_tags[0:20]"
   ]
  },
  {
   "cell_type": "code",
   "execution_count": 163,
   "metadata": {
    "scrolled": true
   },
   "outputs": [
    {
     "data": {
      "text/plain": [
       "['Fastrack',\n",
       " 'PHENOMENAL',\n",
       " 'SRPM',\n",
       " 'VILLAIN',\n",
       " 'PHENOMENAL',\n",
       " 'AISLIN',\n",
       " 'kingsunglasses',\n",
       " 'IZAAN MART',\n",
       " 'Fastrack',\n",
       " 'Silver Kartz',\n",
       " 'AISLIN',\n",
       " 'AISLIN',\n",
       " 'ROZZETTA CRAFT',\n",
       " 'Fastrack',\n",
       " 'Singco India',\n",
       " 'ROZZETTA CRAFT',\n",
       " 'NuVew',\n",
       " 'kingsunglasses',\n",
       " 'kingsunglasses',\n",
       " 'NuVew']"
      ]
     },
     "execution_count": 163,
     "metadata": {},
     "output_type": "execute_result"
    }
   ],
   "source": [
    "brand_name=[]\n",
    "for i in brand_tags:\n",
    "    brand_name.append(i.text)\n",
    "len(brand_name)\n",
    "brand_name[0:20]"
   ]
  },
  {
   "cell_type": "code",
   "execution_count": 164,
   "metadata": {
    "scrolled": true
   },
   "outputs": [
    {
     "data": {
      "text/plain": [
       "['Fastrack',\n",
       " 'PHENOMENAL',\n",
       " 'SRPM',\n",
       " 'VILLAIN',\n",
       " 'PHENOMENAL',\n",
       " 'AISLIN',\n",
       " 'kingsunglasses',\n",
       " 'IZAAN MART',\n",
       " 'Fastrack',\n",
       " 'Silver Kartz',\n",
       " 'AISLIN',\n",
       " 'AISLIN',\n",
       " 'ROZZETTA CRAFT',\n",
       " 'Fastrack',\n",
       " 'Singco India',\n",
       " 'ROZZETTA CRAFT',\n",
       " 'NuVew',\n",
       " 'kingsunglasses',\n",
       " 'kingsunglasses',\n",
       " 'NuVew']"
      ]
     },
     "execution_count": 164,
     "metadata": {},
     "output_type": "execute_result"
    }
   ],
   "source": [
    "brand_name=[]\n",
    "for i in brand_tags:\n",
    "    brand_name.append(i.text)\n",
    "len(brand_name)\n",
    "brand_name[0:20]"
   ]
  },
  {
   "cell_type": "code",
   "execution_count": 165,
   "metadata": {},
   "outputs": [
    {
     "data": {
      "text/plain": [
       "39"
      ]
     },
     "execution_count": 165,
     "metadata": {},
     "output_type": "execute_result"
    }
   ],
   "source": [
    "##Extracting Product Description\n",
    "prod_tags=driver.find_elements_by_xpath(\"//a[@class='IRpwTa']\")\n",
    "len(prod_tags)"
   ]
  },
  {
   "cell_type": "code",
   "execution_count": 166,
   "metadata": {
    "scrolled": true
   },
   "outputs": [
    {
     "data": {
      "text/plain": [
       "[<selenium.webdriver.remote.webelement.WebElement (session=\"c39ebd1f10da03fdf3e00caaa5f67aa1\", element=\"ab3e0fd0-3575-490d-990f-f36670b7492e\")>,\n",
       " <selenium.webdriver.remote.webelement.WebElement (session=\"c39ebd1f10da03fdf3e00caaa5f67aa1\", element=\"1f469ef1-9192-4f38-9bee-a65d963f20b4\")>,\n",
       " <selenium.webdriver.remote.webelement.WebElement (session=\"c39ebd1f10da03fdf3e00caaa5f67aa1\", element=\"ca05a15a-5bf9-41c8-9b10-0cdeb4666eda\")>,\n",
       " <selenium.webdriver.remote.webelement.WebElement (session=\"c39ebd1f10da03fdf3e00caaa5f67aa1\", element=\"f1022524-6ca2-4ba2-8eb0-f30501272bb9\")>,\n",
       " <selenium.webdriver.remote.webelement.WebElement (session=\"c39ebd1f10da03fdf3e00caaa5f67aa1\", element=\"578dc1ac-06f9-44a3-9377-d7b8c6b6eb86\")>,\n",
       " <selenium.webdriver.remote.webelement.WebElement (session=\"c39ebd1f10da03fdf3e00caaa5f67aa1\", element=\"af14363c-d214-43d2-9a83-0095e63be522\")>,\n",
       " <selenium.webdriver.remote.webelement.WebElement (session=\"c39ebd1f10da03fdf3e00caaa5f67aa1\", element=\"3616e72f-1126-497a-8d2d-857319c08628\")>,\n",
       " <selenium.webdriver.remote.webelement.WebElement (session=\"c39ebd1f10da03fdf3e00caaa5f67aa1\", element=\"722bc648-f9ae-45e8-92a1-e87f771ee4b8\")>,\n",
       " <selenium.webdriver.remote.webelement.WebElement (session=\"c39ebd1f10da03fdf3e00caaa5f67aa1\", element=\"c78ba965-5420-4eb0-a0c7-0c25dac2517b\")>,\n",
       " <selenium.webdriver.remote.webelement.WebElement (session=\"c39ebd1f10da03fdf3e00caaa5f67aa1\", element=\"7abb82b0-3e28-4bdd-a8e2-d3b5b3f77c6b\")>,\n",
       " <selenium.webdriver.remote.webelement.WebElement (session=\"c39ebd1f10da03fdf3e00caaa5f67aa1\", element=\"c8284b98-016d-4dd1-a1fe-336373f178a0\")>,\n",
       " <selenium.webdriver.remote.webelement.WebElement (session=\"c39ebd1f10da03fdf3e00caaa5f67aa1\", element=\"409235ff-9ff0-434a-a310-2e6c24123d8c\")>,\n",
       " <selenium.webdriver.remote.webelement.WebElement (session=\"c39ebd1f10da03fdf3e00caaa5f67aa1\", element=\"a0b3468b-2f41-42be-b229-0f7779a6e809\")>,\n",
       " <selenium.webdriver.remote.webelement.WebElement (session=\"c39ebd1f10da03fdf3e00caaa5f67aa1\", element=\"4c90d112-ea11-4436-b23e-e1d1f30d7952\")>,\n",
       " <selenium.webdriver.remote.webelement.WebElement (session=\"c39ebd1f10da03fdf3e00caaa5f67aa1\", element=\"bb29b1c2-7b9d-4d70-9392-32f0c8581fdd\")>,\n",
       " <selenium.webdriver.remote.webelement.WebElement (session=\"c39ebd1f10da03fdf3e00caaa5f67aa1\", element=\"e8bbfbdb-4300-4f55-91b0-c07d3b4fd416\")>,\n",
       " <selenium.webdriver.remote.webelement.WebElement (session=\"c39ebd1f10da03fdf3e00caaa5f67aa1\", element=\"7c36b9e0-5c89-4cb1-a0dc-797ad961e4f7\")>,\n",
       " <selenium.webdriver.remote.webelement.WebElement (session=\"c39ebd1f10da03fdf3e00caaa5f67aa1\", element=\"ef02b64e-e329-4673-9cb5-620f8359eced\")>,\n",
       " <selenium.webdriver.remote.webelement.WebElement (session=\"c39ebd1f10da03fdf3e00caaa5f67aa1\", element=\"94c68442-990e-42e2-abeb-34922fdd0a68\")>,\n",
       " <selenium.webdriver.remote.webelement.WebElement (session=\"c39ebd1f10da03fdf3e00caaa5f67aa1\", element=\"70310ecd-deee-4457-91ab-271d10ba90d2\")>]"
      ]
     },
     "execution_count": 166,
     "metadata": {},
     "output_type": "execute_result"
    }
   ],
   "source": [
    "prod_tags[0:20]"
   ]
  },
  {
   "cell_type": "code",
   "execution_count": 167,
   "metadata": {
    "scrolled": true
   },
   "outputs": [
    {
     "data": {
      "text/plain": [
       "['UV Protection Wayfarer Sunglasses (Free Size)',\n",
       " 'UV Protection, Mirrored Retro Square Sunglasses (53)',\n",
       " 'Night Vision, UV Protection Round Sunglasses (54)',\n",
       " 'Others Wayfarer Sunglasses (Free Size)',\n",
       " 'UV Protection, Mirrored Retro Square Sunglasses (53)',\n",
       " 'Toughened Glass Lens, UV Protection Wayfarer, Rectangul...',\n",
       " 'Mirrored, UV Protection Wayfarer Sunglasses (53)',\n",
       " 'UV Protection, Night Vision Aviator Sunglasses (Free Si...',\n",
       " 'UV Protection Wayfarer Sunglasses (Free Size)',\n",
       " 'UV Protection Aviator Sunglasses (88)',\n",
       " 'Toughened Glass Lens, UV Protection Aviator Sunglasses ...',\n",
       " 'UV Protection, Gradient Round, Cat-eye Sunglasses (60)',\n",
       " 'UV Protection, Gradient Retro Square Sunglasses (Free S...',\n",
       " 'Gradient, UV Protection Wayfarer Sunglasses (Free Size)',\n",
       " 'Gradient, Toughened Glass Lens, UV Protection Retro Squ...',\n",
       " 'Polarized, UV Protection Wrap-around, Sports Sunglasses...',\n",
       " 'UV Protection, Mirrored Sports Sunglasses (62)',\n",
       " 'UV Protection Rectangular Sunglasses (Free Size)',\n",
       " 'Mirrored, UV Protection Aviator Sunglasses (56)',\n",
       " 'UV Protection Aviator Sunglasses (57)']"
      ]
     },
     "execution_count": 167,
     "metadata": {},
     "output_type": "execute_result"
    }
   ],
   "source": [
    "prod_descp=[]\n",
    "for i in prod_tags:\n",
    "    prod_descp.append(i.text)\n",
    "len(prod_descp)\n",
    "prod_descp[0:20]"
   ]
  },
  {
   "cell_type": "code",
   "execution_count": 168,
   "metadata": {},
   "outputs": [
    {
     "data": {
      "text/plain": [
       "40"
      ]
     },
     "execution_count": 168,
     "metadata": {},
     "output_type": "execute_result"
    }
   ],
   "source": [
    "##Extracting price\n",
    "price_tags=driver.find_elements_by_xpath(\"//div[@class='_30jeq3']\")\n",
    "len(price_tags)"
   ]
  },
  {
   "cell_type": "code",
   "execution_count": 169,
   "metadata": {
    "scrolled": true
   },
   "outputs": [
    {
     "data": {
      "text/plain": [
       "[<selenium.webdriver.remote.webelement.WebElement (session=\"c39ebd1f10da03fdf3e00caaa5f67aa1\", element=\"3c34ef6d-140d-4ff5-ae84-36675ce813ce\")>,\n",
       " <selenium.webdriver.remote.webelement.WebElement (session=\"c39ebd1f10da03fdf3e00caaa5f67aa1\", element=\"6e3fc0bf-4890-45ee-9eba-a0bb2c95ef8e\")>,\n",
       " <selenium.webdriver.remote.webelement.WebElement (session=\"c39ebd1f10da03fdf3e00caaa5f67aa1\", element=\"6e3bcc6a-7466-4fe4-94b5-191a99b2beb1\")>,\n",
       " <selenium.webdriver.remote.webelement.WebElement (session=\"c39ebd1f10da03fdf3e00caaa5f67aa1\", element=\"ab19a2da-be22-4284-9379-629cb61e0ee8\")>,\n",
       " <selenium.webdriver.remote.webelement.WebElement (session=\"c39ebd1f10da03fdf3e00caaa5f67aa1\", element=\"87551fd0-6015-48ea-8f5e-6b3b9e0b4428\")>,\n",
       " <selenium.webdriver.remote.webelement.WebElement (session=\"c39ebd1f10da03fdf3e00caaa5f67aa1\", element=\"94651e23-8385-4e23-bac6-646e7da6165f\")>,\n",
       " <selenium.webdriver.remote.webelement.WebElement (session=\"c39ebd1f10da03fdf3e00caaa5f67aa1\", element=\"51e8ae69-e053-4daf-b903-63cab89267ec\")>,\n",
       " <selenium.webdriver.remote.webelement.WebElement (session=\"c39ebd1f10da03fdf3e00caaa5f67aa1\", element=\"96f6f3bb-ca95-4aa4-ae77-d7996dcc6b7d\")>,\n",
       " <selenium.webdriver.remote.webelement.WebElement (session=\"c39ebd1f10da03fdf3e00caaa5f67aa1\", element=\"f592c88b-e2f6-4d40-8f5b-1e52bdc83d50\")>,\n",
       " <selenium.webdriver.remote.webelement.WebElement (session=\"c39ebd1f10da03fdf3e00caaa5f67aa1\", element=\"8e4d8da8-d451-4289-9b92-2aa63d06c17c\")>,\n",
       " <selenium.webdriver.remote.webelement.WebElement (session=\"c39ebd1f10da03fdf3e00caaa5f67aa1\", element=\"0c267e0c-c572-4066-9e54-497643bef624\")>,\n",
       " <selenium.webdriver.remote.webelement.WebElement (session=\"c39ebd1f10da03fdf3e00caaa5f67aa1\", element=\"f4179a9f-7065-4137-bd9d-d1a2996dc3bc\")>,\n",
       " <selenium.webdriver.remote.webelement.WebElement (session=\"c39ebd1f10da03fdf3e00caaa5f67aa1\", element=\"1fc9df7d-6cde-4075-abfd-8fbb7be88806\")>,\n",
       " <selenium.webdriver.remote.webelement.WebElement (session=\"c39ebd1f10da03fdf3e00caaa5f67aa1\", element=\"fdd4fe20-8325-4abe-8ffe-040df673a7c2\")>,\n",
       " <selenium.webdriver.remote.webelement.WebElement (session=\"c39ebd1f10da03fdf3e00caaa5f67aa1\", element=\"1d1825b6-afc0-4cf2-b026-698556af7f07\")>,\n",
       " <selenium.webdriver.remote.webelement.WebElement (session=\"c39ebd1f10da03fdf3e00caaa5f67aa1\", element=\"a4551723-4e8d-44de-857b-60157ab7c3e2\")>,\n",
       " <selenium.webdriver.remote.webelement.WebElement (session=\"c39ebd1f10da03fdf3e00caaa5f67aa1\", element=\"33540653-d855-4829-9646-ee3e75046f30\")>,\n",
       " <selenium.webdriver.remote.webelement.WebElement (session=\"c39ebd1f10da03fdf3e00caaa5f67aa1\", element=\"2b629ed9-3e90-4963-a9ff-2b3b21b3e7f9\")>,\n",
       " <selenium.webdriver.remote.webelement.WebElement (session=\"c39ebd1f10da03fdf3e00caaa5f67aa1\", element=\"0f55c953-602c-49c6-a965-958c2e9a3837\")>,\n",
       " <selenium.webdriver.remote.webelement.WebElement (session=\"c39ebd1f10da03fdf3e00caaa5f67aa1\", element=\"1f9655a2-eb66-4e0f-904d-c84339eea359\")>]"
      ]
     },
     "execution_count": 169,
     "metadata": {},
     "output_type": "execute_result"
    }
   ],
   "source": [
    "price_tags[0:20]"
   ]
  },
  {
   "cell_type": "code",
   "execution_count": 170,
   "metadata": {
    "scrolled": false
   },
   "outputs": [
    {
     "data": {
      "text/plain": [
       "['₹639',\n",
       " '₹317',\n",
       " '₹199',\n",
       " '₹522',\n",
       " '₹317',\n",
       " '₹775',\n",
       " '₹258',\n",
       " '₹399',\n",
       " '₹639',\n",
       " '₹320',\n",
       " '₹785',\n",
       " '₹458',\n",
       " '₹307',\n",
       " '₹639',\n",
       " '₹664',\n",
       " '₹475',\n",
       " '₹327',\n",
       " '₹180',\n",
       " '₹219',\n",
       " '₹175']"
      ]
     },
     "execution_count": 170,
     "metadata": {},
     "output_type": "execute_result"
    }
   ],
   "source": [
    "price=[]\n",
    "for i in price_tags:\n",
    "    price.append(i.text)\n",
    "len(price)\n",
    "price[0:20]"
   ]
  },
  {
   "cell_type": "code",
   "execution_count": 171,
   "metadata": {},
   "outputs": [
    {
     "data": {
      "text/plain": [
       "40"
      ]
     },
     "execution_count": 171,
     "metadata": {},
     "output_type": "execute_result"
    }
   ],
   "source": [
    "##exctracting discounts\n",
    "discounts_tags=driver.find_elements_by_xpath(\"//div[@class='_3Ay6Sb']\")\n",
    "len(discounts_tags)\n",
    "\n"
   ]
  },
  {
   "cell_type": "code",
   "execution_count": 172,
   "metadata": {
    "scrolled": true
   },
   "outputs": [
    {
     "data": {
      "text/plain": [
       "[<selenium.webdriver.remote.webelement.WebElement (session=\"c39ebd1f10da03fdf3e00caaa5f67aa1\", element=\"ab3e0fd0-3575-490d-990f-f36670b7492e\")>,\n",
       " <selenium.webdriver.remote.webelement.WebElement (session=\"c39ebd1f10da03fdf3e00caaa5f67aa1\", element=\"1f469ef1-9192-4f38-9bee-a65d963f20b4\")>,\n",
       " <selenium.webdriver.remote.webelement.WebElement (session=\"c39ebd1f10da03fdf3e00caaa5f67aa1\", element=\"ca05a15a-5bf9-41c8-9b10-0cdeb4666eda\")>,\n",
       " <selenium.webdriver.remote.webelement.WebElement (session=\"c39ebd1f10da03fdf3e00caaa5f67aa1\", element=\"f1022524-6ca2-4ba2-8eb0-f30501272bb9\")>,\n",
       " <selenium.webdriver.remote.webelement.WebElement (session=\"c39ebd1f10da03fdf3e00caaa5f67aa1\", element=\"578dc1ac-06f9-44a3-9377-d7b8c6b6eb86\")>,\n",
       " <selenium.webdriver.remote.webelement.WebElement (session=\"c39ebd1f10da03fdf3e00caaa5f67aa1\", element=\"af14363c-d214-43d2-9a83-0095e63be522\")>,\n",
       " <selenium.webdriver.remote.webelement.WebElement (session=\"c39ebd1f10da03fdf3e00caaa5f67aa1\", element=\"3616e72f-1126-497a-8d2d-857319c08628\")>,\n",
       " <selenium.webdriver.remote.webelement.WebElement (session=\"c39ebd1f10da03fdf3e00caaa5f67aa1\", element=\"722bc648-f9ae-45e8-92a1-e87f771ee4b8\")>,\n",
       " <selenium.webdriver.remote.webelement.WebElement (session=\"c39ebd1f10da03fdf3e00caaa5f67aa1\", element=\"c78ba965-5420-4eb0-a0c7-0c25dac2517b\")>,\n",
       " <selenium.webdriver.remote.webelement.WebElement (session=\"c39ebd1f10da03fdf3e00caaa5f67aa1\", element=\"7abb82b0-3e28-4bdd-a8e2-d3b5b3f77c6b\")>,\n",
       " <selenium.webdriver.remote.webelement.WebElement (session=\"c39ebd1f10da03fdf3e00caaa5f67aa1\", element=\"c8284b98-016d-4dd1-a1fe-336373f178a0\")>,\n",
       " <selenium.webdriver.remote.webelement.WebElement (session=\"c39ebd1f10da03fdf3e00caaa5f67aa1\", element=\"409235ff-9ff0-434a-a310-2e6c24123d8c\")>,\n",
       " <selenium.webdriver.remote.webelement.WebElement (session=\"c39ebd1f10da03fdf3e00caaa5f67aa1\", element=\"a0b3468b-2f41-42be-b229-0f7779a6e809\")>,\n",
       " <selenium.webdriver.remote.webelement.WebElement (session=\"c39ebd1f10da03fdf3e00caaa5f67aa1\", element=\"4c90d112-ea11-4436-b23e-e1d1f30d7952\")>,\n",
       " <selenium.webdriver.remote.webelement.WebElement (session=\"c39ebd1f10da03fdf3e00caaa5f67aa1\", element=\"bb29b1c2-7b9d-4d70-9392-32f0c8581fdd\")>,\n",
       " <selenium.webdriver.remote.webelement.WebElement (session=\"c39ebd1f10da03fdf3e00caaa5f67aa1\", element=\"e8bbfbdb-4300-4f55-91b0-c07d3b4fd416\")>,\n",
       " <selenium.webdriver.remote.webelement.WebElement (session=\"c39ebd1f10da03fdf3e00caaa5f67aa1\", element=\"7c36b9e0-5c89-4cb1-a0dc-797ad961e4f7\")>,\n",
       " <selenium.webdriver.remote.webelement.WebElement (session=\"c39ebd1f10da03fdf3e00caaa5f67aa1\", element=\"ef02b64e-e329-4673-9cb5-620f8359eced\")>,\n",
       " <selenium.webdriver.remote.webelement.WebElement (session=\"c39ebd1f10da03fdf3e00caaa5f67aa1\", element=\"94c68442-990e-42e2-abeb-34922fdd0a68\")>,\n",
       " <selenium.webdriver.remote.webelement.WebElement (session=\"c39ebd1f10da03fdf3e00caaa5f67aa1\", element=\"70310ecd-deee-4457-91ab-271d10ba90d2\")>]"
      ]
     },
     "execution_count": 172,
     "metadata": {},
     "output_type": "execute_result"
    }
   ],
   "source": [
    "prod_tags[0:20]"
   ]
  },
  {
   "cell_type": "code",
   "execution_count": 173,
   "metadata": {},
   "outputs": [
    {
     "data": {
      "text/plain": [
       "['₹639',\n",
       " '₹317',\n",
       " '₹199',\n",
       " '₹522',\n",
       " '₹317',\n",
       " '₹775',\n",
       " '₹258',\n",
       " '₹399',\n",
       " '₹639',\n",
       " '₹320',\n",
       " '₹785',\n",
       " '₹458',\n",
       " '₹307',\n",
       " '₹639',\n",
       " '₹664',\n",
       " '₹475',\n",
       " '₹327',\n",
       " '₹180',\n",
       " '₹219',\n",
       " '₹175']"
      ]
     },
     "execution_count": 173,
     "metadata": {},
     "output_type": "execute_result"
    }
   ],
   "source": [
    "price=[]\n",
    "for i in price_tags:\n",
    "    price.append(i.text)\n",
    "len(price)\n",
    "price[0:20]"
   ]
  },
  {
   "cell_type": "code",
   "execution_count": 174,
   "metadata": {},
   "outputs": [
    {
     "data": {
      "text/plain": [
       "40"
      ]
     },
     "execution_count": 174,
     "metadata": {},
     "output_type": "execute_result"
    }
   ],
   "source": [
    "##exctracting discounts\n",
    "discounts_tags=driver.find_elements_by_xpath(\"//div[@class='_3Ay6Sb']\")\n",
    "len(discounts_tags)\n",
    "\n"
   ]
  },
  {
   "cell_type": "code",
   "execution_count": 175,
   "metadata": {
    "scrolled": true
   },
   "outputs": [
    {
     "data": {
      "text/plain": [
       "[<selenium.webdriver.remote.webelement.WebElement (session=\"c39ebd1f10da03fdf3e00caaa5f67aa1\", element=\"de91f0b9-ec1b-4663-a6b6-a5209e767be0\")>,\n",
       " <selenium.webdriver.remote.webelement.WebElement (session=\"c39ebd1f10da03fdf3e00caaa5f67aa1\", element=\"fd8c78c4-45ac-46e3-a239-5c91d712f33c\")>,\n",
       " <selenium.webdriver.remote.webelement.WebElement (session=\"c39ebd1f10da03fdf3e00caaa5f67aa1\", element=\"12aceebd-de83-4341-ad73-9dc79cc6f187\")>,\n",
       " <selenium.webdriver.remote.webelement.WebElement (session=\"c39ebd1f10da03fdf3e00caaa5f67aa1\", element=\"8b5a2a2c-d5d0-47da-a520-b4c5180e8661\")>,\n",
       " <selenium.webdriver.remote.webelement.WebElement (session=\"c39ebd1f10da03fdf3e00caaa5f67aa1\", element=\"4b38b39e-0d29-491c-8b9d-703114ee0b0e\")>,\n",
       " <selenium.webdriver.remote.webelement.WebElement (session=\"c39ebd1f10da03fdf3e00caaa5f67aa1\", element=\"b4cc3c48-a416-4870-94e8-e7d6a084c9b1\")>,\n",
       " <selenium.webdriver.remote.webelement.WebElement (session=\"c39ebd1f10da03fdf3e00caaa5f67aa1\", element=\"1b06a95e-76e3-4a5c-beef-10cb94443b70\")>,\n",
       " <selenium.webdriver.remote.webelement.WebElement (session=\"c39ebd1f10da03fdf3e00caaa5f67aa1\", element=\"962adfb9-d8f3-4cb5-ac26-2363cd03cab5\")>,\n",
       " <selenium.webdriver.remote.webelement.WebElement (session=\"c39ebd1f10da03fdf3e00caaa5f67aa1\", element=\"34dc8472-d6d2-4e65-830c-f8afadf4848a\")>,\n",
       " <selenium.webdriver.remote.webelement.WebElement (session=\"c39ebd1f10da03fdf3e00caaa5f67aa1\", element=\"4a0d57e7-f4ec-4c63-b09e-aa9581e31b4c\")>,\n",
       " <selenium.webdriver.remote.webelement.WebElement (session=\"c39ebd1f10da03fdf3e00caaa5f67aa1\", element=\"c867dbf1-0c6f-4e01-aad2-129cd2674927\")>,\n",
       " <selenium.webdriver.remote.webelement.WebElement (session=\"c39ebd1f10da03fdf3e00caaa5f67aa1\", element=\"78ad5f68-a4e2-488c-95f3-5a637561728a\")>,\n",
       " <selenium.webdriver.remote.webelement.WebElement (session=\"c39ebd1f10da03fdf3e00caaa5f67aa1\", element=\"489c4f40-7d4b-4590-b83b-db04022bad07\")>,\n",
       " <selenium.webdriver.remote.webelement.WebElement (session=\"c39ebd1f10da03fdf3e00caaa5f67aa1\", element=\"2828b495-5113-4f51-a9a2-ecbb4841e0fa\")>,\n",
       " <selenium.webdriver.remote.webelement.WebElement (session=\"c39ebd1f10da03fdf3e00caaa5f67aa1\", element=\"0bf88056-4fee-48db-902b-8d99cfe51bda\")>,\n",
       " <selenium.webdriver.remote.webelement.WebElement (session=\"c39ebd1f10da03fdf3e00caaa5f67aa1\", element=\"63a675c1-875c-4582-88c9-10c425fce118\")>,\n",
       " <selenium.webdriver.remote.webelement.WebElement (session=\"c39ebd1f10da03fdf3e00caaa5f67aa1\", element=\"2e040949-0b55-410a-9a9e-43f9d0fcbb26\")>,\n",
       " <selenium.webdriver.remote.webelement.WebElement (session=\"c39ebd1f10da03fdf3e00caaa5f67aa1\", element=\"80141d60-3daa-4c1c-bfe2-bb311c7b2dbe\")>,\n",
       " <selenium.webdriver.remote.webelement.WebElement (session=\"c39ebd1f10da03fdf3e00caaa5f67aa1\", element=\"596c6584-66f0-44d0-b512-33a2a3e62891\")>,\n",
       " <selenium.webdriver.remote.webelement.WebElement (session=\"c39ebd1f10da03fdf3e00caaa5f67aa1\", element=\"c4b3063d-eaa6-4fb0-b4e9-ae90a9966fd4\")>,\n",
       " <selenium.webdriver.remote.webelement.WebElement (session=\"c39ebd1f10da03fdf3e00caaa5f67aa1\", element=\"3a0ecb94-bc9c-4684-933b-caa86e1f516f\")>,\n",
       " <selenium.webdriver.remote.webelement.WebElement (session=\"c39ebd1f10da03fdf3e00caaa5f67aa1\", element=\"0bd4d550-b461-47eb-ba99-c6993759856c\")>,\n",
       " <selenium.webdriver.remote.webelement.WebElement (session=\"c39ebd1f10da03fdf3e00caaa5f67aa1\", element=\"431fc961-4e8b-44eb-b3ff-77530c5be7d8\")>,\n",
       " <selenium.webdriver.remote.webelement.WebElement (session=\"c39ebd1f10da03fdf3e00caaa5f67aa1\", element=\"2d960237-f902-49b6-bc28-a9aeb63726c3\")>,\n",
       " <selenium.webdriver.remote.webelement.WebElement (session=\"c39ebd1f10da03fdf3e00caaa5f67aa1\", element=\"c9e0c2e3-904c-41e9-bf38-1fb5a98222ac\")>,\n",
       " <selenium.webdriver.remote.webelement.WebElement (session=\"c39ebd1f10da03fdf3e00caaa5f67aa1\", element=\"af46e8a1-bb5d-4500-90c7-d860a64e88fd\")>,\n",
       " <selenium.webdriver.remote.webelement.WebElement (session=\"c39ebd1f10da03fdf3e00caaa5f67aa1\", element=\"cc890212-b5ef-4e96-8a9e-1c14e496080d\")>,\n",
       " <selenium.webdriver.remote.webelement.WebElement (session=\"c39ebd1f10da03fdf3e00caaa5f67aa1\", element=\"eeff827d-63ec-4516-abc4-a903ecb6b408\")>,\n",
       " <selenium.webdriver.remote.webelement.WebElement (session=\"c39ebd1f10da03fdf3e00caaa5f67aa1\", element=\"29fed324-d628-48ac-b0ee-0067329b283c\")>,\n",
       " <selenium.webdriver.remote.webelement.WebElement (session=\"c39ebd1f10da03fdf3e00caaa5f67aa1\", element=\"b2c58a99-4d25-4f95-a7bd-1d037227c60f\")>,\n",
       " <selenium.webdriver.remote.webelement.WebElement (session=\"c39ebd1f10da03fdf3e00caaa5f67aa1\", element=\"048f9657-007f-4985-9a25-c178a956b79b\")>,\n",
       " <selenium.webdriver.remote.webelement.WebElement (session=\"c39ebd1f10da03fdf3e00caaa5f67aa1\", element=\"380d0401-6149-47b3-8383-5a67576b88d5\")>,\n",
       " <selenium.webdriver.remote.webelement.WebElement (session=\"c39ebd1f10da03fdf3e00caaa5f67aa1\", element=\"b113b810-ab13-490f-8552-4714dc3380d9\")>,\n",
       " <selenium.webdriver.remote.webelement.WebElement (session=\"c39ebd1f10da03fdf3e00caaa5f67aa1\", element=\"6f3843c5-b84b-4c52-825c-e30c7461a626\")>,\n",
       " <selenium.webdriver.remote.webelement.WebElement (session=\"c39ebd1f10da03fdf3e00caaa5f67aa1\", element=\"50c879d9-376e-4049-a362-6b0c1df0c5a6\")>,\n",
       " <selenium.webdriver.remote.webelement.WebElement (session=\"c39ebd1f10da03fdf3e00caaa5f67aa1\", element=\"c3df683a-d5f7-4e75-ba60-1eaa2f85ac0c\")>,\n",
       " <selenium.webdriver.remote.webelement.WebElement (session=\"c39ebd1f10da03fdf3e00caaa5f67aa1\", element=\"005bda83-5103-4f65-8f66-fe743dca8aee\")>,\n",
       " <selenium.webdriver.remote.webelement.WebElement (session=\"c39ebd1f10da03fdf3e00caaa5f67aa1\", element=\"1ae7d836-8e42-4e4c-bc20-7eecd9ce1017\")>,\n",
       " <selenium.webdriver.remote.webelement.WebElement (session=\"c39ebd1f10da03fdf3e00caaa5f67aa1\", element=\"886c80ed-5614-4106-8ae4-913128af47e7\")>,\n",
       " <selenium.webdriver.remote.webelement.WebElement (session=\"c39ebd1f10da03fdf3e00caaa5f67aa1\", element=\"2be96bf2-17fc-4f39-9d91-d1472d6d6fd3\")>]"
      ]
     },
     "execution_count": 175,
     "metadata": {},
     "output_type": "execute_result"
    }
   ],
   "source": [
    "discounts_tags"
   ]
  },
  {
   "cell_type": "code",
   "execution_count": 176,
   "metadata": {
    "scrolled": true
   },
   "outputs": [
    {
     "data": {
      "text/plain": [
       "['20% off',\n",
       " '84% off',\n",
       " '80% off',\n",
       " '47% off',\n",
       " '84% off',\n",
       " '79% off',\n",
       " '87% off',\n",
       " '66% off',\n",
       " '20% off',\n",
       " '73% off',\n",
       " '78% off',\n",
       " '73% off',\n",
       " '84% off',\n",
       " '20% off',\n",
       " '77% off',\n",
       " '76% off',\n",
       " '73% off',\n",
       " '83% off',\n",
       " '83% off',\n",
       " '76% off',\n",
       " '68% off',\n",
       " '88% off',\n",
       " '85% off',\n",
       " '76% off',\n",
       " '82% off',\n",
       " '76% off',\n",
       " '84% off',\n",
       " '73% off',\n",
       " '69% off',\n",
       " '78% off',\n",
       " '88% off',\n",
       " '77% off',\n",
       " '87% off',\n",
       " '86% off',\n",
       " '88% off',\n",
       " '73% off',\n",
       " '86% off',\n",
       " '73% off',\n",
       " '84% off',\n",
       " '76% off']"
      ]
     },
     "execution_count": 176,
     "metadata": {},
     "output_type": "execute_result"
    }
   ],
   "source": [
    "Disc=[]\n",
    "for i in discounts_tags:\n",
    "    Disc.append(i.text)\n",
    "len(Disc)\n",
    "Disc"
   ]
  },
  {
   "cell_type": "code",
   "execution_count": 177,
   "metadata": {},
   "outputs": [
    {
     "data": {
      "text/plain": [
       "40"
      ]
     },
     "execution_count": 177,
     "metadata": {},
     "output_type": "execute_result"
    }
   ],
   "source": [
    "len(Disc)"
   ]
  },
  {
   "cell_type": "code",
   "execution_count": 178,
   "metadata": {},
   "outputs": [
    {
     "data": {
      "text/plain": [
       "['20% off',\n",
       " '84% off',\n",
       " '80% off',\n",
       " '47% off',\n",
       " '84% off',\n",
       " '79% off',\n",
       " '87% off',\n",
       " '66% off',\n",
       " '20% off',\n",
       " '73% off',\n",
       " '78% off',\n",
       " '73% off',\n",
       " '84% off',\n",
       " '20% off',\n",
       " '77% off',\n",
       " '76% off',\n",
       " '73% off',\n",
       " '83% off',\n",
       " '83% off',\n",
       " '76% off']"
      ]
     },
     "execution_count": 178,
     "metadata": {},
     "output_type": "execute_result"
    }
   ],
   "source": [
    "Disc[0:20]"
   ]
  },
  {
   "cell_type": "code",
   "execution_count": 179,
   "metadata": {
    "collapsed": true
   },
   "outputs": [
    {
     "data": {
      "text/html": [
       "<div>\n",
       "<style scoped>\n",
       "    .dataframe tbody tr th:only-of-type {\n",
       "        vertical-align: middle;\n",
       "    }\n",
       "\n",
       "    .dataframe tbody tr th {\n",
       "        vertical-align: top;\n",
       "    }\n",
       "\n",
       "    .dataframe thead th {\n",
       "        text-align: right;\n",
       "    }\n",
       "</style>\n",
       "<table border=\"1\" class=\"dataframe\">\n",
       "  <thead>\n",
       "    <tr style=\"text-align: right;\">\n",
       "      <th></th>\n",
       "      <th>Brand</th>\n",
       "      <th>Product_description</th>\n",
       "      <th>Price</th>\n",
       "      <th>Discounts</th>\n",
       "    </tr>\n",
       "  </thead>\n",
       "  <tbody>\n",
       "    <tr>\n",
       "      <th>0</th>\n",
       "      <td>Fastrack</td>\n",
       "      <td>UV Protection Wayfarer Sunglasses (Free Size)</td>\n",
       "      <td>₹639</td>\n",
       "      <td>20% off</td>\n",
       "    </tr>\n",
       "    <tr>\n",
       "      <th>1</th>\n",
       "      <td>PHENOMENAL</td>\n",
       "      <td>UV Protection, Mirrored Retro Square Sunglasse...</td>\n",
       "      <td>₹317</td>\n",
       "      <td>84% off</td>\n",
       "    </tr>\n",
       "    <tr>\n",
       "      <th>2</th>\n",
       "      <td>SRPM</td>\n",
       "      <td>Night Vision, UV Protection Round Sunglasses (54)</td>\n",
       "      <td>₹199</td>\n",
       "      <td>80% off</td>\n",
       "    </tr>\n",
       "    <tr>\n",
       "      <th>3</th>\n",
       "      <td>VILLAIN</td>\n",
       "      <td>Others Wayfarer Sunglasses (Free Size)</td>\n",
       "      <td>₹522</td>\n",
       "      <td>47% off</td>\n",
       "    </tr>\n",
       "    <tr>\n",
       "      <th>4</th>\n",
       "      <td>PHENOMENAL</td>\n",
       "      <td>UV Protection, Mirrored Retro Square Sunglasse...</td>\n",
       "      <td>₹317</td>\n",
       "      <td>84% off</td>\n",
       "    </tr>\n",
       "    <tr>\n",
       "      <th>5</th>\n",
       "      <td>AISLIN</td>\n",
       "      <td>Toughened Glass Lens, UV Protection Wayfarer, ...</td>\n",
       "      <td>₹775</td>\n",
       "      <td>79% off</td>\n",
       "    </tr>\n",
       "    <tr>\n",
       "      <th>6</th>\n",
       "      <td>kingsunglasses</td>\n",
       "      <td>Mirrored, UV Protection Wayfarer Sunglasses (53)</td>\n",
       "      <td>₹258</td>\n",
       "      <td>87% off</td>\n",
       "    </tr>\n",
       "    <tr>\n",
       "      <th>7</th>\n",
       "      <td>IZAAN MART</td>\n",
       "      <td>UV Protection, Night Vision Aviator Sunglasses...</td>\n",
       "      <td>₹399</td>\n",
       "      <td>66% off</td>\n",
       "    </tr>\n",
       "    <tr>\n",
       "      <th>8</th>\n",
       "      <td>Fastrack</td>\n",
       "      <td>UV Protection Wayfarer Sunglasses (Free Size)</td>\n",
       "      <td>₹639</td>\n",
       "      <td>20% off</td>\n",
       "    </tr>\n",
       "    <tr>\n",
       "      <th>9</th>\n",
       "      <td>Silver Kartz</td>\n",
       "      <td>UV Protection Aviator Sunglasses (88)</td>\n",
       "      <td>₹320</td>\n",
       "      <td>73% off</td>\n",
       "    </tr>\n",
       "    <tr>\n",
       "      <th>10</th>\n",
       "      <td>AISLIN</td>\n",
       "      <td>Toughened Glass Lens, UV Protection Aviator Su...</td>\n",
       "      <td>₹785</td>\n",
       "      <td>78% off</td>\n",
       "    </tr>\n",
       "    <tr>\n",
       "      <th>11</th>\n",
       "      <td>AISLIN</td>\n",
       "      <td>UV Protection, Gradient Round, Cat-eye Sunglas...</td>\n",
       "      <td>₹458</td>\n",
       "      <td>73% off</td>\n",
       "    </tr>\n",
       "    <tr>\n",
       "      <th>12</th>\n",
       "      <td>ROZZETTA CRAFT</td>\n",
       "      <td>UV Protection, Gradient Retro Square Sunglasse...</td>\n",
       "      <td>₹307</td>\n",
       "      <td>84% off</td>\n",
       "    </tr>\n",
       "    <tr>\n",
       "      <th>13</th>\n",
       "      <td>Fastrack</td>\n",
       "      <td>Gradient, UV Protection Wayfarer Sunglasses (F...</td>\n",
       "      <td>₹639</td>\n",
       "      <td>20% off</td>\n",
       "    </tr>\n",
       "    <tr>\n",
       "      <th>14</th>\n",
       "      <td>Singco India</td>\n",
       "      <td>Gradient, Toughened Glass Lens, UV Protection ...</td>\n",
       "      <td>₹664</td>\n",
       "      <td>77% off</td>\n",
       "    </tr>\n",
       "    <tr>\n",
       "      <th>15</th>\n",
       "      <td>ROZZETTA CRAFT</td>\n",
       "      <td>Polarized, UV Protection Wrap-around, Sports S...</td>\n",
       "      <td>₹475</td>\n",
       "      <td>76% off</td>\n",
       "    </tr>\n",
       "    <tr>\n",
       "      <th>16</th>\n",
       "      <td>NuVew</td>\n",
       "      <td>UV Protection, Mirrored Sports Sunglasses (62)</td>\n",
       "      <td>₹327</td>\n",
       "      <td>73% off</td>\n",
       "    </tr>\n",
       "    <tr>\n",
       "      <th>17</th>\n",
       "      <td>kingsunglasses</td>\n",
       "      <td>UV Protection Rectangular Sunglasses (Free Size)</td>\n",
       "      <td>₹180</td>\n",
       "      <td>83% off</td>\n",
       "    </tr>\n",
       "    <tr>\n",
       "      <th>18</th>\n",
       "      <td>kingsunglasses</td>\n",
       "      <td>Mirrored, UV Protection Aviator Sunglasses (56)</td>\n",
       "      <td>₹219</td>\n",
       "      <td>83% off</td>\n",
       "    </tr>\n",
       "    <tr>\n",
       "      <th>19</th>\n",
       "      <td>NuVew</td>\n",
       "      <td>UV Protection Aviator Sunglasses (57)</td>\n",
       "      <td>₹175</td>\n",
       "      <td>76% off</td>\n",
       "    </tr>\n",
       "    <tr>\n",
       "      <th>20</th>\n",
       "      <td>ROYAL SON</td>\n",
       "      <td>UV Protection Rectangular, Retro Square Sungla...</td>\n",
       "      <td>₹474</td>\n",
       "      <td>68% off</td>\n",
       "    </tr>\n",
       "    <tr>\n",
       "      <th>21</th>\n",
       "      <td>Elligator</td>\n",
       "      <td>UV Protection Aviator Sunglasses (55)</td>\n",
       "      <td>₹293</td>\n",
       "      <td>88% off</td>\n",
       "    </tr>\n",
       "    <tr>\n",
       "      <th>22</th>\n",
       "      <td>GANSTA</td>\n",
       "      <td>UV Protection Aviator Sunglasses (57)</td>\n",
       "      <td>₹284</td>\n",
       "      <td>85% off</td>\n",
       "    </tr>\n",
       "    <tr>\n",
       "      <th>23</th>\n",
       "      <td>AISLIN</td>\n",
       "      <td>UV Protection, Gradient Round Sunglasses (Free...</td>\n",
       "      <td>₹775</td>\n",
       "      <td>76% off</td>\n",
       "    </tr>\n",
       "    <tr>\n",
       "      <th>24</th>\n",
       "      <td>ROZZETTA CRAFT</td>\n",
       "      <td>Mirrored Wayfarer Sunglasses (55)</td>\n",
       "      <td>₹342</td>\n",
       "      <td>82% off</td>\n",
       "    </tr>\n",
       "    <tr>\n",
       "      <th>25</th>\n",
       "      <td>hipe</td>\n",
       "      <td>UV Protection, Mirrored Round Sunglasses (Free...</td>\n",
       "      <td>₹233</td>\n",
       "      <td>76% off</td>\n",
       "    </tr>\n",
       "    <tr>\n",
       "      <th>26</th>\n",
       "      <td>kingsunglasses</td>\n",
       "      <td>Night Vision, Riding Glasses, UV Protection Wr...</td>\n",
       "      <td>₹239</td>\n",
       "      <td>84% off</td>\n",
       "    </tr>\n",
       "    <tr>\n",
       "      <th>27</th>\n",
       "      <td>VAST</td>\n",
       "      <td>UV Protection, Gradient Butterfly, Retro Squar...</td>\n",
       "      <td>₹799</td>\n",
       "      <td>73% off</td>\n",
       "    </tr>\n",
       "    <tr>\n",
       "      <th>28</th>\n",
       "      <td>AISLIN</td>\n",
       "      <td>Polarized, Riding Glasses, Night Vision Sports...</td>\n",
       "      <td>₹458</td>\n",
       "      <td>69% off</td>\n",
       "    </tr>\n",
       "    <tr>\n",
       "      <th>29</th>\n",
       "      <td>elegante</td>\n",
       "      <td>Mirrored Round Sunglasses (53)</td>\n",
       "      <td>₹499</td>\n",
       "      <td>78% off</td>\n",
       "    </tr>\n",
       "  </tbody>\n",
       "</table>\n",
       "</div>"
      ],
      "text/plain": [
       "             Brand                                Product_description Price  \\\n",
       "0         Fastrack      UV Protection Wayfarer Sunglasses (Free Size)  ₹639   \n",
       "1       PHENOMENAL  UV Protection, Mirrored Retro Square Sunglasse...  ₹317   \n",
       "2             SRPM  Night Vision, UV Protection Round Sunglasses (54)  ₹199   \n",
       "3          VILLAIN             Others Wayfarer Sunglasses (Free Size)  ₹522   \n",
       "4       PHENOMENAL  UV Protection, Mirrored Retro Square Sunglasse...  ₹317   \n",
       "5           AISLIN  Toughened Glass Lens, UV Protection Wayfarer, ...  ₹775   \n",
       "6   kingsunglasses   Mirrored, UV Protection Wayfarer Sunglasses (53)  ₹258   \n",
       "7       IZAAN MART  UV Protection, Night Vision Aviator Sunglasses...  ₹399   \n",
       "8         Fastrack      UV Protection Wayfarer Sunglasses (Free Size)  ₹639   \n",
       "9     Silver Kartz              UV Protection Aviator Sunglasses (88)  ₹320   \n",
       "10          AISLIN  Toughened Glass Lens, UV Protection Aviator Su...  ₹785   \n",
       "11          AISLIN  UV Protection, Gradient Round, Cat-eye Sunglas...  ₹458   \n",
       "12  ROZZETTA CRAFT  UV Protection, Gradient Retro Square Sunglasse...  ₹307   \n",
       "13        Fastrack  Gradient, UV Protection Wayfarer Sunglasses (F...  ₹639   \n",
       "14    Singco India  Gradient, Toughened Glass Lens, UV Protection ...  ₹664   \n",
       "15  ROZZETTA CRAFT  Polarized, UV Protection Wrap-around, Sports S...  ₹475   \n",
       "16           NuVew     UV Protection, Mirrored Sports Sunglasses (62)  ₹327   \n",
       "17  kingsunglasses   UV Protection Rectangular Sunglasses (Free Size)  ₹180   \n",
       "18  kingsunglasses    Mirrored, UV Protection Aviator Sunglasses (56)  ₹219   \n",
       "19           NuVew              UV Protection Aviator Sunglasses (57)  ₹175   \n",
       "20       ROYAL SON  UV Protection Rectangular, Retro Square Sungla...  ₹474   \n",
       "21       Elligator              UV Protection Aviator Sunglasses (55)  ₹293   \n",
       "22          GANSTA              UV Protection Aviator Sunglasses (57)  ₹284   \n",
       "23          AISLIN  UV Protection, Gradient Round Sunglasses (Free...  ₹775   \n",
       "24  ROZZETTA CRAFT                  Mirrored Wayfarer Sunglasses (55)  ₹342   \n",
       "25            hipe  UV Protection, Mirrored Round Sunglasses (Free...  ₹233   \n",
       "26  kingsunglasses  Night Vision, Riding Glasses, UV Protection Wr...  ₹239   \n",
       "27            VAST  UV Protection, Gradient Butterfly, Retro Squar...  ₹799   \n",
       "28          AISLIN  Polarized, Riding Glasses, Night Vision Sports...  ₹458   \n",
       "29        elegante                     Mirrored Round Sunglasses (53)  ₹499   \n",
       "\n",
       "   Discounts  \n",
       "0    20% off  \n",
       "1    84% off  \n",
       "2    80% off  \n",
       "3    47% off  \n",
       "4    84% off  \n",
       "5    79% off  \n",
       "6    87% off  \n",
       "7    66% off  \n",
       "8    20% off  \n",
       "9    73% off  \n",
       "10   78% off  \n",
       "11   73% off  \n",
       "12   84% off  \n",
       "13   20% off  \n",
       "14   77% off  \n",
       "15   76% off  \n",
       "16   73% off  \n",
       "17   83% off  \n",
       "18   83% off  \n",
       "19   76% off  \n",
       "20   68% off  \n",
       "21   88% off  \n",
       "22   85% off  \n",
       "23   76% off  \n",
       "24   82% off  \n",
       "25   76% off  \n",
       "26   84% off  \n",
       "27   73% off  \n",
       "28   69% off  \n",
       "29   78% off  "
      ]
     },
     "execution_count": 179,
     "metadata": {},
     "output_type": "execute_result"
    }
   ],
   "source": [
    "sunglasses_3=pd.DataFrame()\n",
    "sunglasses_3['Brand']=brand_name[0:30]\n",
    "sunglasses_3['Product_description']=prod_descp[0:30]\n",
    "sunglasses_3['Price']=price[0:30]\n",
    "sunglasses_3['Discounts']=Disc[0:30]\n",
    "sunglasses_3"
   ]
  },
  {
   "cell_type": "code",
   "execution_count": 181,
   "metadata": {
    "scrolled": true
   },
   "outputs": [
    {
     "data": {
      "text/html": [
       "<div>\n",
       "<style scoped>\n",
       "    .dataframe tbody tr th:only-of-type {\n",
       "        vertical-align: middle;\n",
       "    }\n",
       "\n",
       "    .dataframe tbody tr th {\n",
       "        vertical-align: top;\n",
       "    }\n",
       "\n",
       "    .dataframe thead th {\n",
       "        text-align: right;\n",
       "    }\n",
       "</style>\n",
       "<table border=\"1\" class=\"dataframe\">\n",
       "  <thead>\n",
       "    <tr style=\"text-align: right;\">\n",
       "      <th></th>\n",
       "      <th>Brand</th>\n",
       "      <th>Product_description</th>\n",
       "      <th>Price</th>\n",
       "      <th>Discounts</th>\n",
       "    </tr>\n",
       "  </thead>\n",
       "  <tbody>\n",
       "    <tr>\n",
       "      <th>0</th>\n",
       "      <td>SRPM</td>\n",
       "      <td>UV Protection Wayfarer Sunglasses (50)</td>\n",
       "      <td>₹198</td>\n",
       "      <td>84% off</td>\n",
       "    </tr>\n",
       "    <tr>\n",
       "      <th>1</th>\n",
       "      <td>Elligator</td>\n",
       "      <td>UV Protection Round Sunglasses (54)</td>\n",
       "      <td>₹258</td>\n",
       "      <td>89% off</td>\n",
       "    </tr>\n",
       "    <tr>\n",
       "      <th>2</th>\n",
       "      <td>New Specs</td>\n",
       "      <td>UV Protection Rectangular Sunglasses (Free Size)</td>\n",
       "      <td>₹232</td>\n",
       "      <td>91% off</td>\n",
       "    </tr>\n",
       "    <tr>\n",
       "      <th>3</th>\n",
       "      <td>Singco India</td>\n",
       "      <td>Gradient, Toughened Glass Lens, UV Protection ...</td>\n",
       "      <td>₹664</td>\n",
       "      <td>77% off</td>\n",
       "    </tr>\n",
       "    <tr>\n",
       "      <th>4</th>\n",
       "      <td>Fastrack</td>\n",
       "      <td>UV Protection Wayfarer Sunglasses (Free Size)</td>\n",
       "      <td>₹719</td>\n",
       "      <td>20% off</td>\n",
       "    </tr>\n",
       "    <tr>\n",
       "      <th>...</th>\n",
       "      <td>...</td>\n",
       "      <td>...</td>\n",
       "      <td>...</td>\n",
       "      <td>...</td>\n",
       "    </tr>\n",
       "    <tr>\n",
       "      <th>25</th>\n",
       "      <td>hipe</td>\n",
       "      <td>UV Protection, Mirrored Round Sunglasses (Free...</td>\n",
       "      <td>₹233</td>\n",
       "      <td>76% off</td>\n",
       "    </tr>\n",
       "    <tr>\n",
       "      <th>26</th>\n",
       "      <td>kingsunglasses</td>\n",
       "      <td>Night Vision, Riding Glasses, UV Protection Wr...</td>\n",
       "      <td>₹239</td>\n",
       "      <td>84% off</td>\n",
       "    </tr>\n",
       "    <tr>\n",
       "      <th>27</th>\n",
       "      <td>VAST</td>\n",
       "      <td>UV Protection, Gradient Butterfly, Retro Squar...</td>\n",
       "      <td>₹799</td>\n",
       "      <td>73% off</td>\n",
       "    </tr>\n",
       "    <tr>\n",
       "      <th>28</th>\n",
       "      <td>AISLIN</td>\n",
       "      <td>Polarized, Riding Glasses, Night Vision Sports...</td>\n",
       "      <td>₹458</td>\n",
       "      <td>69% off</td>\n",
       "    </tr>\n",
       "    <tr>\n",
       "      <th>29</th>\n",
       "      <td>elegante</td>\n",
       "      <td>Mirrored Round Sunglasses (53)</td>\n",
       "      <td>₹499</td>\n",
       "      <td>78% off</td>\n",
       "    </tr>\n",
       "  </tbody>\n",
       "</table>\n",
       "<p>100 rows × 4 columns</p>\n",
       "</div>"
      ],
      "text/plain": [
       "             Brand                                Product_description Price  \\\n",
       "0             SRPM             UV Protection Wayfarer Sunglasses (50)  ₹198   \n",
       "1        Elligator                UV Protection Round Sunglasses (54)  ₹258   \n",
       "2        New Specs   UV Protection Rectangular Sunglasses (Free Size)  ₹232   \n",
       "3     Singco India  Gradient, Toughened Glass Lens, UV Protection ...  ₹664   \n",
       "4         Fastrack      UV Protection Wayfarer Sunglasses (Free Size)  ₹719   \n",
       "..             ...                                                ...   ...   \n",
       "25            hipe  UV Protection, Mirrored Round Sunglasses (Free...  ₹233   \n",
       "26  kingsunglasses  Night Vision, Riding Glasses, UV Protection Wr...  ₹239   \n",
       "27            VAST  UV Protection, Gradient Butterfly, Retro Squar...  ₹799   \n",
       "28          AISLIN  Polarized, Riding Glasses, Night Vision Sports...  ₹458   \n",
       "29        elegante                     Mirrored Round Sunglasses (53)  ₹499   \n",
       "\n",
       "   Discounts  \n",
       "0    84% off  \n",
       "1    89% off  \n",
       "2    91% off  \n",
       "3    77% off  \n",
       "4    20% off  \n",
       "..       ...  \n",
       "25   76% off  \n",
       "26   84% off  \n",
       "27   73% off  \n",
       "28   69% off  \n",
       "29   78% off  \n",
       "\n",
       "[100 rows x 4 columns]"
      ]
     },
     "execution_count": 181,
     "metadata": {},
     "output_type": "execute_result"
    }
   ],
   "source": [
    "\n",
    "df_sunglasses = pd.concat([sunglasses_1,sunglasses_2,\n",
    "sunglasses_3])\n",
    "\n",
    "df_sunglasses"
   ]
  },
  {
   "cell_type": "code",
   "execution_count": 186,
   "metadata": {
    "scrolled": true
   },
   "outputs": [
    {
     "data": {
      "text/html": [
       "<div>\n",
       "<style scoped>\n",
       "    .dataframe tbody tr th:only-of-type {\n",
       "        vertical-align: middle;\n",
       "    }\n",
       "\n",
       "    .dataframe tbody tr th {\n",
       "        vertical-align: top;\n",
       "    }\n",
       "\n",
       "    .dataframe thead th {\n",
       "        text-align: right;\n",
       "    }\n",
       "</style>\n",
       "<table border=\"1\" class=\"dataframe\">\n",
       "  <thead>\n",
       "    <tr style=\"text-align: right;\">\n",
       "      <th></th>\n",
       "      <th>Brand</th>\n",
       "      <th>Product_description</th>\n",
       "      <th>Price</th>\n",
       "      <th>Discounts</th>\n",
       "    </tr>\n",
       "  </thead>\n",
       "  <tbody>\n",
       "    <tr>\n",
       "      <th>0</th>\n",
       "      <td>SRPM</td>\n",
       "      <td>UV Protection Wayfarer Sunglasses (50)</td>\n",
       "      <td>₹198</td>\n",
       "      <td>84% off</td>\n",
       "    </tr>\n",
       "    <tr>\n",
       "      <th>1</th>\n",
       "      <td>Elligator</td>\n",
       "      <td>UV Protection Round Sunglasses (54)</td>\n",
       "      <td>₹258</td>\n",
       "      <td>89% off</td>\n",
       "    </tr>\n",
       "    <tr>\n",
       "      <th>2</th>\n",
       "      <td>New Specs</td>\n",
       "      <td>UV Protection Rectangular Sunglasses (Free Size)</td>\n",
       "      <td>₹232</td>\n",
       "      <td>91% off</td>\n",
       "    </tr>\n",
       "    <tr>\n",
       "      <th>3</th>\n",
       "      <td>Singco India</td>\n",
       "      <td>Gradient, Toughened Glass Lens, UV Protection ...</td>\n",
       "      <td>₹664</td>\n",
       "      <td>77% off</td>\n",
       "    </tr>\n",
       "    <tr>\n",
       "      <th>4</th>\n",
       "      <td>Fastrack</td>\n",
       "      <td>UV Protection Wayfarer Sunglasses (Free Size)</td>\n",
       "      <td>₹719</td>\n",
       "      <td>20% off</td>\n",
       "    </tr>\n",
       "    <tr>\n",
       "      <th>5</th>\n",
       "      <td>SUNBEE</td>\n",
       "      <td>UV Protection, Polarized Wayfarer Sunglasses (...</td>\n",
       "      <td>₹253</td>\n",
       "      <td>80% off</td>\n",
       "    </tr>\n",
       "    <tr>\n",
       "      <th>6</th>\n",
       "      <td>Lee Topper</td>\n",
       "      <td>Riding Glasses Wrap-around Sunglasses (Free Size)</td>\n",
       "      <td>₹275</td>\n",
       "      <td>88% off</td>\n",
       "    </tr>\n",
       "    <tr>\n",
       "      <th>7</th>\n",
       "      <td>ROZZETTA CRAFT</td>\n",
       "      <td>UV Protection, Gradient Retro Square Sunglasse...</td>\n",
       "      <td>₹449</td>\n",
       "      <td>77% off</td>\n",
       "    </tr>\n",
       "    <tr>\n",
       "      <th>8</th>\n",
       "      <td>Fastrack</td>\n",
       "      <td>UV Protection Rectangular Sunglasses (Free Size)</td>\n",
       "      <td>₹639</td>\n",
       "      <td>20% off</td>\n",
       "    </tr>\n",
       "    <tr>\n",
       "      <th>9</th>\n",
       "      <td>PIRASO</td>\n",
       "      <td>UV Protection Aviator Sunglasses (54)</td>\n",
       "      <td>₹249</td>\n",
       "      <td>84% off</td>\n",
       "    </tr>\n",
       "    <tr>\n",
       "      <th>10</th>\n",
       "      <td>SHAAH COLLECTIONS</td>\n",
       "      <td>UV Protection, Polarized, Mirrored Rectangular...</td>\n",
       "      <td>₹165</td>\n",
       "      <td>90% off</td>\n",
       "    </tr>\n",
       "    <tr>\n",
       "      <th>11</th>\n",
       "      <td>ROZZETTA CRAFT</td>\n",
       "      <td>UV Protection, Gradient Retro Square Sunglasse...</td>\n",
       "      <td>₹449</td>\n",
       "      <td>82% off</td>\n",
       "    </tr>\n",
       "    <tr>\n",
       "      <th>12</th>\n",
       "      <td>SRPM</td>\n",
       "      <td>UV Protection Wayfarer Sunglasses (54)</td>\n",
       "      <td>₹170</td>\n",
       "      <td>82% off</td>\n",
       "    </tr>\n",
       "    <tr>\n",
       "      <th>13</th>\n",
       "      <td>GANSTA</td>\n",
       "      <td>UV Protection, Riding Glasses Wayfarer Sunglas...</td>\n",
       "      <td>₹198</td>\n",
       "      <td>88% off</td>\n",
       "    </tr>\n",
       "    <tr>\n",
       "      <th>14</th>\n",
       "      <td>New Specs</td>\n",
       "      <td>Mirrored, UV Protection, Riding Glasses, Other...</td>\n",
       "      <td>₹263</td>\n",
       "      <td>81% off</td>\n",
       "    </tr>\n",
       "    <tr>\n",
       "      <th>15</th>\n",
       "      <td>SKYZA INDIA</td>\n",
       "      <td>UV Protection, Mirrored Spectacle Sunglasses (...</td>\n",
       "      <td>₹398</td>\n",
       "      <td>60% off</td>\n",
       "    </tr>\n",
       "    <tr>\n",
       "      <th>16</th>\n",
       "      <td>SRPM</td>\n",
       "      <td>Others Wayfarer, Retro Square Sunglasses (50)</td>\n",
       "      <td>₹178</td>\n",
       "      <td>82% off</td>\n",
       "    </tr>\n",
       "    <tr>\n",
       "      <th>17</th>\n",
       "      <td>kingsunglasses</td>\n",
       "      <td>UV Protection, Riding Glasses, Mirrored Wayfar...</td>\n",
       "      <td>₹184</td>\n",
       "      <td>84% off</td>\n",
       "    </tr>\n",
       "    <tr>\n",
       "      <th>18</th>\n",
       "      <td>kingsunglasses</td>\n",
       "      <td>UV Protection Round Sunglasses (Free Size)</td>\n",
       "      <td>₹289</td>\n",
       "      <td>81% off</td>\n",
       "    </tr>\n",
       "    <tr>\n",
       "      <th>19</th>\n",
       "      <td>DAHAAZIL</td>\n",
       "      <td>UV Protection, Night Vision, Riding Glasses Wa...</td>\n",
       "      <td>₹229</td>\n",
       "      <td>77% off</td>\n",
       "    </tr>\n",
       "    <tr>\n",
       "      <th>20</th>\n",
       "      <td>PHENOMENAL</td>\n",
       "      <td>UV Protection Retro Square Sunglasses (53)</td>\n",
       "      <td>₹289</td>\n",
       "      <td>71% off</td>\n",
       "    </tr>\n",
       "    <tr>\n",
       "      <th>21</th>\n",
       "      <td>PIRASO</td>\n",
       "      <td>UV Protection Wayfarer Sunglasses (32)</td>\n",
       "      <td>₹225</td>\n",
       "      <td>85% off</td>\n",
       "    </tr>\n",
       "    <tr>\n",
       "      <th>22</th>\n",
       "      <td>Lee Topper</td>\n",
       "      <td>UV Protection Rectangular Sunglasses (Free Size)</td>\n",
       "      <td>₹199</td>\n",
       "      <td>80% off</td>\n",
       "    </tr>\n",
       "    <tr>\n",
       "      <th>23</th>\n",
       "      <td>VOYAGE</td>\n",
       "      <td>Gradient, UV Protection Wayfarer Sunglasses (52)</td>\n",
       "      <td>₹699</td>\n",
       "      <td>61% off</td>\n",
       "    </tr>\n",
       "    <tr>\n",
       "      <th>24</th>\n",
       "      <td>PIRASO</td>\n",
       "      <td>UV Protection Aviator Sunglasses (54)</td>\n",
       "      <td>₹249</td>\n",
       "      <td>84% off</td>\n",
       "    </tr>\n",
       "    <tr>\n",
       "      <th>25</th>\n",
       "      <td>PIRASO</td>\n",
       "      <td>UV Protection Aviator Sunglasses (54)</td>\n",
       "      <td>₹249</td>\n",
       "      <td>84% off</td>\n",
       "    </tr>\n",
       "    <tr>\n",
       "      <th>26</th>\n",
       "      <td>Elligator</td>\n",
       "      <td>UV Protection Round Sunglasses (53)</td>\n",
       "      <td>₹189</td>\n",
       "      <td>81% off</td>\n",
       "    </tr>\n",
       "    <tr>\n",
       "      <th>27</th>\n",
       "      <td>LIZA ANGEL</td>\n",
       "      <td>Riding Glasses, Night Vision Spectacle Sunglas...</td>\n",
       "      <td>₹199</td>\n",
       "      <td>80% off</td>\n",
       "    </tr>\n",
       "    <tr>\n",
       "      <th>28</th>\n",
       "      <td>hipe</td>\n",
       "      <td>UV Protection Aviator Sunglasses (Free Size)</td>\n",
       "      <td>₹179</td>\n",
       "      <td>87% off</td>\n",
       "    </tr>\n",
       "    <tr>\n",
       "      <th>29</th>\n",
       "      <td>ROZZETTA CRAFT</td>\n",
       "      <td>Polarized, Riding Glasses Sports, Wrap-around ...</td>\n",
       "      <td>₹474</td>\n",
       "      <td>76% off</td>\n",
       "    </tr>\n",
       "    <tr>\n",
       "      <th>30</th>\n",
       "      <td>DEIXELS</td>\n",
       "      <td>UV Protection Aviator, Wayfarer Sunglasses (Fr...</td>\n",
       "      <td>₹229</td>\n",
       "      <td>80% off</td>\n",
       "    </tr>\n",
       "    <tr>\n",
       "      <th>31</th>\n",
       "      <td>Singco</td>\n",
       "      <td>UV Protection, Others Aviator Sunglasses (32)</td>\n",
       "      <td>₹292</td>\n",
       "      <td>85% off</td>\n",
       "    </tr>\n",
       "    <tr>\n",
       "      <th>32</th>\n",
       "      <td>Elligator</td>\n",
       "      <td>Others Cat-eye, Retro Square, Wayfarer Sunglas...</td>\n",
       "      <td>₹164</td>\n",
       "      <td>86% off</td>\n",
       "    </tr>\n",
       "    <tr>\n",
       "      <th>33</th>\n",
       "      <td>Silver Kartz</td>\n",
       "      <td>UV Protection Wayfarer Sunglasses (Free Size)</td>\n",
       "      <td>₹320</td>\n",
       "      <td>78% off</td>\n",
       "    </tr>\n",
       "    <tr>\n",
       "      <th>34</th>\n",
       "      <td>PIRASO</td>\n",
       "      <td>UV Protection Aviator Sunglasses (58)</td>\n",
       "      <td>₹349</td>\n",
       "      <td>86% off</td>\n",
       "    </tr>\n",
       "    <tr>\n",
       "      <th>35</th>\n",
       "      <td>I Flash</td>\n",
       "      <td>Gradient, Night Vision, UV Protection, Others ...</td>\n",
       "      <td>₹229</td>\n",
       "      <td>84% off</td>\n",
       "    </tr>\n",
       "    <tr>\n",
       "      <th>36</th>\n",
       "      <td>Fastrack</td>\n",
       "      <td>UV Protection Wayfarer Sunglasses (55)</td>\n",
       "      <td>₹683</td>\n",
       "      <td>14% off</td>\n",
       "    </tr>\n",
       "    <tr>\n",
       "      <th>37</th>\n",
       "      <td>kingsunglasses</td>\n",
       "      <td>Mirrored, UV Protection Wayfarer Sunglasses (F...</td>\n",
       "      <td>₹239</td>\n",
       "      <td>88% off</td>\n",
       "    </tr>\n",
       "    <tr>\n",
       "      <th>38</th>\n",
       "      <td>Fastrack</td>\n",
       "      <td>UV Protection Wayfarer Sunglasses (Free Size)</td>\n",
       "      <td>₹719</td>\n",
       "      <td>20% off</td>\n",
       "    </tr>\n",
       "    <tr>\n",
       "      <th>39</th>\n",
       "      <td>DAHAAZIL</td>\n",
       "      <td>UV Protection, Night Vision, Riding Glasses Ro...</td>\n",
       "      <td>₹199</td>\n",
       "      <td>80% off</td>\n",
       "    </tr>\n",
       "    <tr>\n",
       "      <th>0</th>\n",
       "      <td>SHAAH COLLECTIONS</td>\n",
       "      <td>UV Protection, Polarized, Mirrored Rectangular...</td>\n",
       "      <td>₹181</td>\n",
       "      <td>81% off</td>\n",
       "    </tr>\n",
       "    <tr>\n",
       "      <th>1</th>\n",
       "      <td>kingsunglasses</td>\n",
       "      <td>UV Protection Round Sunglasses (54)</td>\n",
       "      <td>₹186</td>\n",
       "      <td>81% off</td>\n",
       "    </tr>\n",
       "    <tr>\n",
       "      <th>2</th>\n",
       "      <td>SUNBEE</td>\n",
       "      <td>UV Protection, Polarized, Mirrored Retro Squar...</td>\n",
       "      <td>₹230</td>\n",
       "      <td>82% off</td>\n",
       "    </tr>\n",
       "    <tr>\n",
       "      <th>3</th>\n",
       "      <td>SKYZA INDIA</td>\n",
       "      <td>UV Protection Aviator Sunglasses (Free Size)</td>\n",
       "      <td>₹315</td>\n",
       "      <td>60% off</td>\n",
       "    </tr>\n",
       "    <tr>\n",
       "      <th>4</th>\n",
       "      <td>New Specs</td>\n",
       "      <td>UV Protection Round Sunglasses (Free Size)</td>\n",
       "      <td>₹183</td>\n",
       "      <td>88% off</td>\n",
       "    </tr>\n",
       "    <tr>\n",
       "      <th>5</th>\n",
       "      <td>New Specs</td>\n",
       "      <td>Riding Glasses, UV Protection, Others Aviator ...</td>\n",
       "      <td>₹239</td>\n",
       "      <td>81% off</td>\n",
       "    </tr>\n",
       "    <tr>\n",
       "      <th>6</th>\n",
       "      <td>Singco India</td>\n",
       "      <td>UV Protection Rectangular Sunglasses (55)</td>\n",
       "      <td>₹208</td>\n",
       "      <td>86% off</td>\n",
       "    </tr>\n",
       "    <tr>\n",
       "      <th>7</th>\n",
       "      <td>IZAAN MART</td>\n",
       "      <td>UV Protection, Polarized, Mirrored Round Sungl...</td>\n",
       "      <td>₹330</td>\n",
       "      <td>83% off</td>\n",
       "    </tr>\n",
       "    <tr>\n",
       "      <th>8</th>\n",
       "      <td>SUNBEE</td>\n",
       "      <td>Polarized, Riding Glasses, Night Vision Sports...</td>\n",
       "      <td>₹284</td>\n",
       "      <td>83% off</td>\n",
       "    </tr>\n",
       "    <tr>\n",
       "      <th>9</th>\n",
       "      <td>elegante</td>\n",
       "      <td>UV Protection, Night Vision Wayfarer Sunglasse...</td>\n",
       "      <td>₹499</td>\n",
       "      <td>78% off</td>\n",
       "    </tr>\n",
       "  </tbody>\n",
       "</table>\n",
       "</div>"
      ],
      "text/plain": [
       "                Brand                                Product_description  \\\n",
       "0                SRPM             UV Protection Wayfarer Sunglasses (50)   \n",
       "1           Elligator                UV Protection Round Sunglasses (54)   \n",
       "2           New Specs   UV Protection Rectangular Sunglasses (Free Size)   \n",
       "3        Singco India  Gradient, Toughened Glass Lens, UV Protection ...   \n",
       "4            Fastrack      UV Protection Wayfarer Sunglasses (Free Size)   \n",
       "5              SUNBEE  UV Protection, Polarized Wayfarer Sunglasses (...   \n",
       "6          Lee Topper  Riding Glasses Wrap-around Sunglasses (Free Size)   \n",
       "7      ROZZETTA CRAFT  UV Protection, Gradient Retro Square Sunglasse...   \n",
       "8            Fastrack   UV Protection Rectangular Sunglasses (Free Size)   \n",
       "9              PIRASO              UV Protection Aviator Sunglasses (54)   \n",
       "10  SHAAH COLLECTIONS  UV Protection, Polarized, Mirrored Rectangular...   \n",
       "11     ROZZETTA CRAFT  UV Protection, Gradient Retro Square Sunglasse...   \n",
       "12               SRPM             UV Protection Wayfarer Sunglasses (54)   \n",
       "13             GANSTA  UV Protection, Riding Glasses Wayfarer Sunglas...   \n",
       "14          New Specs  Mirrored, UV Protection, Riding Glasses, Other...   \n",
       "15        SKYZA INDIA  UV Protection, Mirrored Spectacle Sunglasses (...   \n",
       "16               SRPM      Others Wayfarer, Retro Square Sunglasses (50)   \n",
       "17     kingsunglasses  UV Protection, Riding Glasses, Mirrored Wayfar...   \n",
       "18     kingsunglasses         UV Protection Round Sunglasses (Free Size)   \n",
       "19           DAHAAZIL  UV Protection, Night Vision, Riding Glasses Wa...   \n",
       "20         PHENOMENAL         UV Protection Retro Square Sunglasses (53)   \n",
       "21             PIRASO             UV Protection Wayfarer Sunglasses (32)   \n",
       "22         Lee Topper   UV Protection Rectangular Sunglasses (Free Size)   \n",
       "23             VOYAGE   Gradient, UV Protection Wayfarer Sunglasses (52)   \n",
       "24             PIRASO              UV Protection Aviator Sunglasses (54)   \n",
       "25             PIRASO              UV Protection Aviator Sunglasses (54)   \n",
       "26          Elligator                UV Protection Round Sunglasses (53)   \n",
       "27         LIZA ANGEL  Riding Glasses, Night Vision Spectacle Sunglas...   \n",
       "28               hipe       UV Protection Aviator Sunglasses (Free Size)   \n",
       "29     ROZZETTA CRAFT  Polarized, Riding Glasses Sports, Wrap-around ...   \n",
       "30            DEIXELS  UV Protection Aviator, Wayfarer Sunglasses (Fr...   \n",
       "31             Singco      UV Protection, Others Aviator Sunglasses (32)   \n",
       "32          Elligator  Others Cat-eye, Retro Square, Wayfarer Sunglas...   \n",
       "33       Silver Kartz      UV Protection Wayfarer Sunglasses (Free Size)   \n",
       "34             PIRASO              UV Protection Aviator Sunglasses (58)   \n",
       "35            I Flash  Gradient, Night Vision, UV Protection, Others ...   \n",
       "36           Fastrack             UV Protection Wayfarer Sunglasses (55)   \n",
       "37     kingsunglasses  Mirrored, UV Protection Wayfarer Sunglasses (F...   \n",
       "38           Fastrack      UV Protection Wayfarer Sunglasses (Free Size)   \n",
       "39           DAHAAZIL  UV Protection, Night Vision, Riding Glasses Ro...   \n",
       "0   SHAAH COLLECTIONS  UV Protection, Polarized, Mirrored Rectangular...   \n",
       "1      kingsunglasses                UV Protection Round Sunglasses (54)   \n",
       "2              SUNBEE  UV Protection, Polarized, Mirrored Retro Squar...   \n",
       "3         SKYZA INDIA       UV Protection Aviator Sunglasses (Free Size)   \n",
       "4           New Specs         UV Protection Round Sunglasses (Free Size)   \n",
       "5           New Specs  Riding Glasses, UV Protection, Others Aviator ...   \n",
       "6        Singco India          UV Protection Rectangular Sunglasses (55)   \n",
       "7          IZAAN MART  UV Protection, Polarized, Mirrored Round Sungl...   \n",
       "8              SUNBEE  Polarized, Riding Glasses, Night Vision Sports...   \n",
       "9            elegante  UV Protection, Night Vision Wayfarer Sunglasse...   \n",
       "\n",
       "   Price Discounts  \n",
       "0   ₹198   84% off  \n",
       "1   ₹258   89% off  \n",
       "2   ₹232   91% off  \n",
       "3   ₹664   77% off  \n",
       "4   ₹719   20% off  \n",
       "5   ₹253   80% off  \n",
       "6   ₹275   88% off  \n",
       "7   ₹449   77% off  \n",
       "8   ₹639   20% off  \n",
       "9   ₹249   84% off  \n",
       "10  ₹165   90% off  \n",
       "11  ₹449   82% off  \n",
       "12  ₹170   82% off  \n",
       "13  ₹198   88% off  \n",
       "14  ₹263   81% off  \n",
       "15  ₹398   60% off  \n",
       "16  ₹178   82% off  \n",
       "17  ₹184   84% off  \n",
       "18  ₹289   81% off  \n",
       "19  ₹229   77% off  \n",
       "20  ₹289   71% off  \n",
       "21  ₹225   85% off  \n",
       "22  ₹199   80% off  \n",
       "23  ₹699   61% off  \n",
       "24  ₹249   84% off  \n",
       "25  ₹249   84% off  \n",
       "26  ₹189   81% off  \n",
       "27  ₹199   80% off  \n",
       "28  ₹179   87% off  \n",
       "29  ₹474   76% off  \n",
       "30  ₹229   80% off  \n",
       "31  ₹292   85% off  \n",
       "32  ₹164   86% off  \n",
       "33  ₹320   78% off  \n",
       "34  ₹349   86% off  \n",
       "35  ₹229   84% off  \n",
       "36  ₹683   14% off  \n",
       "37  ₹239   88% off  \n",
       "38  ₹719   20% off  \n",
       "39  ₹199   80% off  \n",
       "0   ₹181   81% off  \n",
       "1   ₹186   81% off  \n",
       "2   ₹230   82% off  \n",
       "3   ₹315   60% off  \n",
       "4   ₹183   88% off  \n",
       "5   ₹239   81% off  \n",
       "6   ₹208   86% off  \n",
       "7   ₹330   83% off  \n",
       "8   ₹284   83% off  \n",
       "9   ₹499   78% off  "
      ]
     },
     "execution_count": 186,
     "metadata": {},
     "output_type": "execute_result"
    }
   ],
   "source": [
    "df_sunglasses.head(50)\n",
    "\n",
    "\n"
   ]
  },
  {
   "cell_type": "code",
   "execution_count": null,
   "metadata": {},
   "outputs": [],
   "source": []
  },
  {
   "cell_type": "code",
   "execution_count": null,
   "metadata": {},
   "outputs": [],
   "source": []
  },
  {
   "cell_type": "code",
   "execution_count": 220,
   "metadata": {},
   "outputs": [],
   "source": [
    "###5\n",
    "import selenium\n",
    "from selenium import webdriver \n",
    "import pandas as pd \n",
    "import warnings\n",
    "warnings.filterwarnings('ignore')\n",
    "\n",
    "\n"
   ]
  },
  {
   "cell_type": "code",
   "execution_count": 221,
   "metadata": {},
   "outputs": [],
   "source": [
    "driver=webdriver.Chrome(r\"C:/Users/Lenovo/Downloads/chromedriver_win32/chromedriver.exe\")"
   ]
  },
  {
   "cell_type": "code",
   "execution_count": 222,
   "metadata": {},
   "outputs": [],
   "source": [
    "url = \"https://www.flipkart.com/apple-iphone-11-black-64-gb-includes- earpods-power adapter/p/itm0f37c2240b217?pid=MOBFKCTSVZAXUHGR&lid=LSTMOBFKCTSVZAXUHGREPBFGI&marketplace\"\n",
    "driver.get(url)"
   ]
  },
  {
   "cell_type": "code",
   "execution_count": 223,
   "metadata": {},
   "outputs": [],
   "source": [
    "search_btn=driver.find_element_by_xpath(\"/html/body/div[1]/div/div[3]/div[1]/div[2]/div[8]/div/div/div[5]/div/a/div/span\")\n",
    "search_btn.click()\n",
    "\n"
   ]
  },
  {
   "cell_type": "code",
   "execution_count": 224,
   "metadata": {},
   "outputs": [
    {
     "data": {
      "text/plain": [
       "10"
      ]
     },
     "execution_count": 224,
     "metadata": {},
     "output_type": "execute_result"
    }
   ],
   "source": [
    "##Extracting Rating \n",
    "brand_Rating=driver.find_elements_by_xpath(\"//div[@class='_3LWZlK _1BLPMq']\")\n",
    "len(brand_Rating)"
   ]
  },
  {
   "cell_type": "code",
   "execution_count": 225,
   "metadata": {
    "scrolled": false
   },
   "outputs": [
    {
     "data": {
      "text/plain": [
       "[<selenium.webdriver.remote.webelement.WebElement (session=\"cda0051eaaf40eb966fab3b55b4de9bb\", element=\"7c782ede-30f2-46ba-a02f-ad4288e2b94e\")>,\n",
       " <selenium.webdriver.remote.webelement.WebElement (session=\"cda0051eaaf40eb966fab3b55b4de9bb\", element=\"a41a3d69-5a90-4561-840e-81dc0cd1dd3d\")>,\n",
       " <selenium.webdriver.remote.webelement.WebElement (session=\"cda0051eaaf40eb966fab3b55b4de9bb\", element=\"f218b0bf-a8ec-40ad-ac4a-c682ac7c2141\")>,\n",
       " <selenium.webdriver.remote.webelement.WebElement (session=\"cda0051eaaf40eb966fab3b55b4de9bb\", element=\"a47c4c2e-dc63-419f-9920-377670cd3599\")>,\n",
       " <selenium.webdriver.remote.webelement.WebElement (session=\"cda0051eaaf40eb966fab3b55b4de9bb\", element=\"25493a57-94fb-4a05-8302-e94e6dcc3b71\")>,\n",
       " <selenium.webdriver.remote.webelement.WebElement (session=\"cda0051eaaf40eb966fab3b55b4de9bb\", element=\"bd9b1806-dd38-471e-862f-d21505027c59\")>,\n",
       " <selenium.webdriver.remote.webelement.WebElement (session=\"cda0051eaaf40eb966fab3b55b4de9bb\", element=\"2a7e9448-aa2a-42ca-8663-b6ea3bf262b9\")>,\n",
       " <selenium.webdriver.remote.webelement.WebElement (session=\"cda0051eaaf40eb966fab3b55b4de9bb\", element=\"433fe8d6-238e-4be8-9042-6c69891a03cd\")>,\n",
       " <selenium.webdriver.remote.webelement.WebElement (session=\"cda0051eaaf40eb966fab3b55b4de9bb\", element=\"228e0acf-f659-4ad6-acc5-7b1e081de5bd\")>,\n",
       " <selenium.webdriver.remote.webelement.WebElement (session=\"cda0051eaaf40eb966fab3b55b4de9bb\", element=\"328b73f3-181a-49b6-8219-2986fd4f9746\")>]"
      ]
     },
     "execution_count": 225,
     "metadata": {},
     "output_type": "execute_result"
    }
   ],
   "source": [
    "brand_Rating"
   ]
  },
  {
   "cell_type": "code",
   "execution_count": 226,
   "metadata": {},
   "outputs": [
    {
     "data": {
      "text/plain": [
       "['5', '5', '5', '5', '5', '5', '5', '4', '5', '5']"
      ]
     },
     "execution_count": 226,
     "metadata": {},
     "output_type": "execute_result"
    }
   ],
   "source": [
    "brand_Ratings=[]\n",
    "for i in brand_Rating:\n",
    "    brand_Ratings.append(i.text)\n",
    "len(brand_Ratings)\n",
    "brand_Ratings\n"
   ]
  },
  {
   "cell_type": "code",
   "execution_count": 236,
   "metadata": {},
   "outputs": [
    {
     "data": {
      "text/plain": [
       "10"
      ]
     },
     "execution_count": 236,
     "metadata": {},
     "output_type": "execute_result"
    }
   ],
   "source": [
    "##Extracting rating tags\n",
    "brand_Rating_tags=driver.find_elements_by_xpath(\"//p[@class='_2-N8zT']\")\n",
    "len(brand_Rating_tags)"
   ]
  },
  {
   "cell_type": "code",
   "execution_count": 237,
   "metadata": {
    "scrolled": true
   },
   "outputs": [
    {
     "data": {
      "text/plain": [
       "[<selenium.webdriver.remote.webelement.WebElement (session=\"cda0051eaaf40eb966fab3b55b4de9bb\", element=\"aa67a23a-ff8b-4eae-bad6-d12d7db159ca\")>,\n",
       " <selenium.webdriver.remote.webelement.WebElement (session=\"cda0051eaaf40eb966fab3b55b4de9bb\", element=\"28dbfee4-0c57-4e8d-b2cc-93c12c5cf768\")>,\n",
       " <selenium.webdriver.remote.webelement.WebElement (session=\"cda0051eaaf40eb966fab3b55b4de9bb\", element=\"fa5703bf-50b7-4ac7-a2c9-8a79edbded63\")>,\n",
       " <selenium.webdriver.remote.webelement.WebElement (session=\"cda0051eaaf40eb966fab3b55b4de9bb\", element=\"1647535c-d35d-472a-8f5d-d4b7dec44732\")>,\n",
       " <selenium.webdriver.remote.webelement.WebElement (session=\"cda0051eaaf40eb966fab3b55b4de9bb\", element=\"d47cfce3-f35b-4a14-acc0-27e293cb42fd\")>,\n",
       " <selenium.webdriver.remote.webelement.WebElement (session=\"cda0051eaaf40eb966fab3b55b4de9bb\", element=\"bacb9a83-db68-4984-8a30-d6fa42b7e6fe\")>,\n",
       " <selenium.webdriver.remote.webelement.WebElement (session=\"cda0051eaaf40eb966fab3b55b4de9bb\", element=\"94c1daef-0674-45ee-896c-cf299e70af73\")>,\n",
       " <selenium.webdriver.remote.webelement.WebElement (session=\"cda0051eaaf40eb966fab3b55b4de9bb\", element=\"23fc0bdb-b1c2-4bd4-a33c-230bc6288f5b\")>,\n",
       " <selenium.webdriver.remote.webelement.WebElement (session=\"cda0051eaaf40eb966fab3b55b4de9bb\", element=\"eaa7e3b9-8c7b-4faa-a1f3-9be4de2dc8f7\")>,\n",
       " <selenium.webdriver.remote.webelement.WebElement (session=\"cda0051eaaf40eb966fab3b55b4de9bb\", element=\"b4dce294-22b4-40d9-94d7-e4d1acccf334\")>]"
      ]
     },
     "execution_count": 237,
     "metadata": {},
     "output_type": "execute_result"
    }
   ],
   "source": [
    "brand_Rating_tags"
   ]
  },
  {
   "cell_type": "code",
   "execution_count": 238,
   "metadata": {},
   "outputs": [
    {
     "data": {
      "text/plain": [
       "['Brilliant',\n",
       " 'Simply awesome',\n",
       " 'Best in the market!',\n",
       " 'Perfect product!',\n",
       " 'Fabulous!',\n",
       " 'Worth every penny',\n",
       " 'Great product',\n",
       " 'Good choice',\n",
       " 'Highly recommended',\n",
       " 'Worth every penny']"
      ]
     },
     "execution_count": 238,
     "metadata": {},
     "output_type": "execute_result"
    }
   ],
   "source": [
    "tags=[]\n",
    "for i in brand_Rating_tags:\n",
    "    tags.append(i.text)\n",
    "len(tags)\n",
    "tags"
   ]
  },
  {
   "cell_type": "code",
   "execution_count": 243,
   "metadata": {},
   "outputs": [
    {
     "data": {
      "text/plain": [
       "10"
      ]
     },
     "execution_count": 243,
     "metadata": {},
     "output_type": "execute_result"
    }
   ],
   "source": [
    "#### extracting review description \n",
    "brand_review_descp=driver.find_elements_by_xpath(\"//div[@class='t-ZTKy']\")\n",
    "len(brand_review_descp)"
   ]
  },
  {
   "cell_type": "code",
   "execution_count": 245,
   "metadata": {
    "scrolled": true
   },
   "outputs": [
    {
     "data": {
      "text/plain": [
       "[<selenium.webdriver.remote.webelement.WebElement (session=\"cda0051eaaf40eb966fab3b55b4de9bb\", element=\"afc897c1-312d-4a10-a762-a06da654d638\")>,\n",
       " <selenium.webdriver.remote.webelement.WebElement (session=\"cda0051eaaf40eb966fab3b55b4de9bb\", element=\"d41ef21d-0e2e-43ef-87d3-28c099bf239a\")>,\n",
       " <selenium.webdriver.remote.webelement.WebElement (session=\"cda0051eaaf40eb966fab3b55b4de9bb\", element=\"0459d585-c7a9-4b41-9a0c-7426d72609a3\")>,\n",
       " <selenium.webdriver.remote.webelement.WebElement (session=\"cda0051eaaf40eb966fab3b55b4de9bb\", element=\"ad3985aa-50d0-4920-b4f7-250d1550b426\")>,\n",
       " <selenium.webdriver.remote.webelement.WebElement (session=\"cda0051eaaf40eb966fab3b55b4de9bb\", element=\"e6f97538-cd0a-49be-a150-7154d6156ddc\")>,\n",
       " <selenium.webdriver.remote.webelement.WebElement (session=\"cda0051eaaf40eb966fab3b55b4de9bb\", element=\"63a37bdd-b8e2-45e7-95d6-a0a18d70ff53\")>,\n",
       " <selenium.webdriver.remote.webelement.WebElement (session=\"cda0051eaaf40eb966fab3b55b4de9bb\", element=\"badbc377-fc96-4cf5-8b28-95e45133663a\")>,\n",
       " <selenium.webdriver.remote.webelement.WebElement (session=\"cda0051eaaf40eb966fab3b55b4de9bb\", element=\"95f2f80d-913e-4912-8c80-76f4d2456438\")>,\n",
       " <selenium.webdriver.remote.webelement.WebElement (session=\"cda0051eaaf40eb966fab3b55b4de9bb\", element=\"b516cc5d-b2e0-47cd-adec-7555da4a6085\")>,\n",
       " <selenium.webdriver.remote.webelement.WebElement (session=\"cda0051eaaf40eb966fab3b55b4de9bb\", element=\"89fb37a9-0732-4a17-956c-d54a62af683d\")>]"
      ]
     },
     "execution_count": 245,
     "metadata": {},
     "output_type": "execute_result"
    }
   ],
   "source": [
    "brand_review_descp"
   ]
  },
  {
   "cell_type": "code",
   "execution_count": 244,
   "metadata": {
    "scrolled": true
   },
   "outputs": [
    {
     "data": {
      "text/plain": [
       "['The Best Phone for the Money\\n\\nThe iPhone 11 offers superb cameras, a more durable design and excellent battery life for an affordable price.\\n\\nCompelling ultra-wide camera\\nNew Night mode is excellent\\nLong battery life',\n",
       " 'Really satisfied with the Product I received... It’s totally genuine and the packaging was also really good so if ur planning to buy just go for it.',\n",
       " 'Great iPhone very snappy experience as apple kind. Upgraded from iPhone 7.\\nPros\\n-Camera top class\\n- Battery top performed\\n-Chipset no need to say as apple kind\\n-Security as you expect from apple\\n- Display super bright industry leading colour\\naccuracy and super responsive\\n-Build quality as expect from apple sturdy\\npremium durable beautiful stylish.\\n-Os most stable os in smartphone industry\\n\\nCons\\n-No 5G\\n-Display is not based on OLED technology\\n-Charger headphones and 1 apple stic...\\nREAD MORE',\n",
       " 'Amazing phone with great cameras and better battery which gives you the best performance. I just love the camera .',\n",
       " 'This is my first iOS phone. I am very happy with this product. Very much satisfied with this. I love this phone.',\n",
       " 'Previously I was using one plus 3t it was a great phone\\nAnd then I decided to upgrade I am stuck between Samsung s10 plus or iPhone 11\\nI have seen the specs and everything were good except the display it’s somewhere between 720-1080 and it’s not even an amoled it’s an LCD display\\nBut I decided to go with iPhone because I have never used an IOS device I have Been an android user from the past 9 years I ordered IPhone 11 (128gb) product red\\nMy experience after using 3 weeks\\n1. The delivery ...\\nREAD MORE',\n",
       " 'Amazing Powerful and Durable Gadget.\\n\\nI’m am very happy with the camera picture quality, Amazing face id unlocked in dark room, Strong battery with perfect screen size as you can carry easily in pocket. This is my third iPhone.\\n\\nI shifted from android Samsung Note series to iPhone because of the strong build quality and peace of mind for next 3-4 years.\\n\\nDon’t think to much just go for it and I suggest you to go for minimum 128gb variant or more 256gb.\\n\\nI’ve attached my puppy pics and no fi...\\nREAD MORE',\n",
       " 'So far it’s been an AMAZING experience coming back to iOS after nearly a decade but it’s not as versatile as android though phone is sturdy dropped it accidentally a couple of times and nothing happened fortunately camera is awesome',\n",
       " 'What a camera .....just awesome ..you can feel this iPhone just awesome . Good for gaming also ...try pubg in hd it’s just wow',\n",
       " 'i11 is worthy to buy, too much happy with the product. Thank u flipkart I received the item on time..loved it..']"
      ]
     },
     "execution_count": 244,
     "metadata": {},
     "output_type": "execute_result"
    }
   ],
   "source": [
    "review_description =[]\n",
    "for i in brand_review_descp:\n",
    "    review_description.append(i.text)\n",
    "len(review_description)\n",
    "review_description"
   ]
  },
  {
   "cell_type": "code",
   "execution_count": 260,
   "metadata": {},
   "outputs": [
    {
     "data": {
      "text/html": [
       "<div>\n",
       "<style scoped>\n",
       "    .dataframe tbody tr th:only-of-type {\n",
       "        vertical-align: middle;\n",
       "    }\n",
       "\n",
       "    .dataframe tbody tr th {\n",
       "        vertical-align: top;\n",
       "    }\n",
       "\n",
       "    .dataframe thead th {\n",
       "        text-align: right;\n",
       "    }\n",
       "</style>\n",
       "<table border=\"1\" class=\"dataframe\">\n",
       "  <thead>\n",
       "    <tr style=\"text-align: right;\">\n",
       "      <th></th>\n",
       "      <th>Ratings</th>\n",
       "      <th>Rating_tags</th>\n",
       "      <th>Rating_Description</th>\n",
       "    </tr>\n",
       "  </thead>\n",
       "  <tbody>\n",
       "    <tr>\n",
       "      <th>0</th>\n",
       "      <td>5</td>\n",
       "      <td>Brilliant</td>\n",
       "      <td>The Best Phone for the Money\\n\\nThe iPhone 11 ...</td>\n",
       "    </tr>\n",
       "    <tr>\n",
       "      <th>1</th>\n",
       "      <td>5</td>\n",
       "      <td>Simply awesome</td>\n",
       "      <td>Really satisfied with the Product I received.....</td>\n",
       "    </tr>\n",
       "    <tr>\n",
       "      <th>2</th>\n",
       "      <td>5</td>\n",
       "      <td>Best in the market!</td>\n",
       "      <td>Great iPhone very snappy experience as apple k...</td>\n",
       "    </tr>\n",
       "    <tr>\n",
       "      <th>3</th>\n",
       "      <td>5</td>\n",
       "      <td>Perfect product!</td>\n",
       "      <td>Amazing phone with great cameras and better ba...</td>\n",
       "    </tr>\n",
       "    <tr>\n",
       "      <th>4</th>\n",
       "      <td>5</td>\n",
       "      <td>Fabulous!</td>\n",
       "      <td>This is my first iOS phone. I am very happy wi...</td>\n",
       "    </tr>\n",
       "    <tr>\n",
       "      <th>5</th>\n",
       "      <td>5</td>\n",
       "      <td>Worth every penny</td>\n",
       "      <td>Previously I was using one plus 3t it was a gr...</td>\n",
       "    </tr>\n",
       "    <tr>\n",
       "      <th>6</th>\n",
       "      <td>5</td>\n",
       "      <td>Great product</td>\n",
       "      <td>Amazing Powerful and Durable Gadget.\\n\\nI’m am...</td>\n",
       "    </tr>\n",
       "    <tr>\n",
       "      <th>7</th>\n",
       "      <td>4</td>\n",
       "      <td>Good choice</td>\n",
       "      <td>So far it’s been an AMAZING experience coming ...</td>\n",
       "    </tr>\n",
       "    <tr>\n",
       "      <th>8</th>\n",
       "      <td>5</td>\n",
       "      <td>Highly recommended</td>\n",
       "      <td>What a camera .....just awesome ..you can feel...</td>\n",
       "    </tr>\n",
       "    <tr>\n",
       "      <th>9</th>\n",
       "      <td>5</td>\n",
       "      <td>Worth every penny</td>\n",
       "      <td>i11 is worthy to buy, too much happy with the ...</td>\n",
       "    </tr>\n",
       "  </tbody>\n",
       "</table>\n",
       "</div>"
      ],
      "text/plain": [
       "  Ratings          Rating_tags  \\\n",
       "0       5            Brilliant   \n",
       "1       5       Simply awesome   \n",
       "2       5  Best in the market!   \n",
       "3       5     Perfect product!   \n",
       "4       5            Fabulous!   \n",
       "5       5    Worth every penny   \n",
       "6       5        Great product   \n",
       "7       4          Good choice   \n",
       "8       5   Highly recommended   \n",
       "9       5    Worth every penny   \n",
       "\n",
       "                                  Rating_Description  \n",
       "0  The Best Phone for the Money\\n\\nThe iPhone 11 ...  \n",
       "1  Really satisfied with the Product I received.....  \n",
       "2  Great iPhone very snappy experience as apple k...  \n",
       "3  Amazing phone with great cameras and better ba...  \n",
       "4  This is my first iOS phone. I am very happy wi...  \n",
       "5  Previously I was using one plus 3t it was a gr...  \n",
       "6  Amazing Powerful and Durable Gadget.\\n\\nI’m am...  \n",
       "7  So far it’s been an AMAZING experience coming ...  \n",
       "8  What a camera .....just awesome ..you can feel...  \n",
       "9  i11 is worthy to buy, too much happy with the ...  "
      ]
     },
     "execution_count": 260,
     "metadata": {},
     "output_type": "execute_result"
    }
   ],
   "source": [
    "review_1=pd.DataFrame()\n",
    "review_1['Ratings']=brand_Ratings\n",
    "review_1['Rating_tags']=tags\n",
    "review_1['Rating_Description']=review_description\n",
    "review_1"
   ]
  },
  {
   "cell_type": "code",
   "execution_count": null,
   "metadata": {},
   "outputs": [],
   "source": []
  },
  {
   "cell_type": "code",
   "execution_count": 277,
   "metadata": {},
   "outputs": [],
   "source": [
    "next_pg=driver.find_element_by_xpath(\"/html/body/div[1]/div/div[3]/div/div/div[2]/div[13]/div/div/nav/a[2]\")\n",
    "next_pg.click()\n",
    "\n"
   ]
  },
  {
   "cell_type": "code",
   "execution_count": 278,
   "metadata": {},
   "outputs": [
    {
     "data": {
      "text/plain": [
       "10"
      ]
     },
     "execution_count": 278,
     "metadata": {},
     "output_type": "execute_result"
    }
   ],
   "source": [
    "##Extracting Rating \n",
    "brand_Rating_2=driver.find_elements_by_xpath(\"//div[@class='_3LWZlK _1BLPMq']\")\n",
    "len(brand_Rating_2)"
   ]
  },
  {
   "cell_type": "code",
   "execution_count": 279,
   "metadata": {
    "scrolled": true
   },
   "outputs": [
    {
     "data": {
      "text/plain": [
       "[<selenium.webdriver.remote.webelement.WebElement (session=\"cda0051eaaf40eb966fab3b55b4de9bb\", element=\"91cd9d73-f5c8-43c8-aaee-b0234c99486a\")>,\n",
       " <selenium.webdriver.remote.webelement.WebElement (session=\"cda0051eaaf40eb966fab3b55b4de9bb\", element=\"3dd91471-1264-4340-bba0-a1a5c8cd7483\")>,\n",
       " <selenium.webdriver.remote.webelement.WebElement (session=\"cda0051eaaf40eb966fab3b55b4de9bb\", element=\"3158661c-91b3-4bfb-a855-1db0bd540a35\")>,\n",
       " <selenium.webdriver.remote.webelement.WebElement (session=\"cda0051eaaf40eb966fab3b55b4de9bb\", element=\"ba27dcc9-7333-408c-bbda-2d67f03f73d0\")>,\n",
       " <selenium.webdriver.remote.webelement.WebElement (session=\"cda0051eaaf40eb966fab3b55b4de9bb\", element=\"67cfcc58-c768-4a8f-9479-3b4e8aa36915\")>,\n",
       " <selenium.webdriver.remote.webelement.WebElement (session=\"cda0051eaaf40eb966fab3b55b4de9bb\", element=\"c32ce94d-7360-4a6a-a097-e893ba0e75cf\")>,\n",
       " <selenium.webdriver.remote.webelement.WebElement (session=\"cda0051eaaf40eb966fab3b55b4de9bb\", element=\"9d8ed7e7-8898-4424-8d9a-03ac3c88fc12\")>,\n",
       " <selenium.webdriver.remote.webelement.WebElement (session=\"cda0051eaaf40eb966fab3b55b4de9bb\", element=\"22033d46-0a4c-49e6-b964-97c4588ec428\")>,\n",
       " <selenium.webdriver.remote.webelement.WebElement (session=\"cda0051eaaf40eb966fab3b55b4de9bb\", element=\"dd4d3602-1a38-44bc-9278-7c7200ed434b\")>,\n",
       " <selenium.webdriver.remote.webelement.WebElement (session=\"cda0051eaaf40eb966fab3b55b4de9bb\", element=\"fa884c4c-0b0d-4c6d-8781-83f24e37691c\")>]"
      ]
     },
     "execution_count": 279,
     "metadata": {},
     "output_type": "execute_result"
    }
   ],
   "source": [
    "brand_Rating_2"
   ]
  },
  {
   "cell_type": "code",
   "execution_count": 280,
   "metadata": {},
   "outputs": [
    {
     "data": {
      "text/plain": [
       "['5', '5', '5', '5', '5', '5', '5', '5', '5', '5']"
      ]
     },
     "execution_count": 280,
     "metadata": {},
     "output_type": "execute_result"
    }
   ],
   "source": [
    "brand_Ratings_2=[]\n",
    "for i in brand_Rating_2:\n",
    "    brand_Ratings_2.append(i.text)\n",
    "len(brand_Ratings_2)\n",
    "brand_Ratings_2\n"
   ]
  },
  {
   "cell_type": "code",
   "execution_count": 281,
   "metadata": {},
   "outputs": [
    {
     "data": {
      "text/plain": [
       "10"
      ]
     },
     "execution_count": 281,
     "metadata": {},
     "output_type": "execute_result"
    }
   ],
   "source": [
    "##Extracting rating tags\n",
    "brand_Rating_tags_2=driver.find_elements_by_xpath(\"//p[@class='_2-N8zT']\")\n",
    "len(brand_Rating_tags_2)"
   ]
  },
  {
   "cell_type": "code",
   "execution_count": 282,
   "metadata": {
    "scrolled": true
   },
   "outputs": [
    {
     "data": {
      "text/plain": [
       "[<selenium.webdriver.remote.webelement.WebElement (session=\"cda0051eaaf40eb966fab3b55b4de9bb\", element=\"5cf7ae7b-7e64-4ed3-8459-25f68cd517a1\")>,\n",
       " <selenium.webdriver.remote.webelement.WebElement (session=\"cda0051eaaf40eb966fab3b55b4de9bb\", element=\"d95e0ce4-558d-40a8-a649-8226558ed663\")>,\n",
       " <selenium.webdriver.remote.webelement.WebElement (session=\"cda0051eaaf40eb966fab3b55b4de9bb\", element=\"7bba39a2-d349-4972-9516-3b919464fb5d\")>,\n",
       " <selenium.webdriver.remote.webelement.WebElement (session=\"cda0051eaaf40eb966fab3b55b4de9bb\", element=\"0d6a4f2c-f3d0-4eb3-9b82-544b9de82529\")>,\n",
       " <selenium.webdriver.remote.webelement.WebElement (session=\"cda0051eaaf40eb966fab3b55b4de9bb\", element=\"cea76f02-a4b2-45ed-957f-f2b39f57cc1e\")>,\n",
       " <selenium.webdriver.remote.webelement.WebElement (session=\"cda0051eaaf40eb966fab3b55b4de9bb\", element=\"871d664e-8d13-4a1c-b3e7-72413e1ad1a9\")>,\n",
       " <selenium.webdriver.remote.webelement.WebElement (session=\"cda0051eaaf40eb966fab3b55b4de9bb\", element=\"bf18ffd8-178f-4c8b-957a-3a33ad6cc4cb\")>,\n",
       " <selenium.webdriver.remote.webelement.WebElement (session=\"cda0051eaaf40eb966fab3b55b4de9bb\", element=\"c4ed7f24-66a5-4d70-9b47-f778e1ffecc3\")>,\n",
       " <selenium.webdriver.remote.webelement.WebElement (session=\"cda0051eaaf40eb966fab3b55b4de9bb\", element=\"b86e1296-7817-496d-9604-34f9c439f436\")>,\n",
       " <selenium.webdriver.remote.webelement.WebElement (session=\"cda0051eaaf40eb966fab3b55b4de9bb\", element=\"5a0a19e7-772c-4d3c-8d2b-0daac78decf0\")>]"
      ]
     },
     "execution_count": 282,
     "metadata": {},
     "output_type": "execute_result"
    }
   ],
   "source": [
    "brand_Rating_tags_2"
   ]
  },
  {
   "cell_type": "code",
   "execution_count": 283,
   "metadata": {},
   "outputs": [
    {
     "data": {
      "text/plain": [
       "['Highly recommended',\n",
       " 'Perfect product!',\n",
       " 'Perfect product!',\n",
       " 'Highly recommended',\n",
       " 'Perfect product!',\n",
       " 'Worth every penny',\n",
       " 'Simply awesome',\n",
       " 'Worth every penny',\n",
       " 'Classy product',\n",
       " 'Worth every penny']"
      ]
     },
     "execution_count": 283,
     "metadata": {},
     "output_type": "execute_result"
    }
   ],
   "source": [
    "tags_2=[]\n",
    "for i in brand_Rating_tags_2:\n",
    "    tags_2.append(i.text)\n",
    "len(tags_2)\n",
    "tags_2"
   ]
  },
  {
   "cell_type": "code",
   "execution_count": 284,
   "metadata": {},
   "outputs": [
    {
     "data": {
      "text/plain": [
       "10"
      ]
     },
     "execution_count": 284,
     "metadata": {},
     "output_type": "execute_result"
    }
   ],
   "source": [
    "#### extracting review description \n",
    "brand_review_descp_2=driver.find_elements_by_xpath(\"//div[@class='t-ZTKy']\")\n",
    "len(brand_review_descp_2)"
   ]
  },
  {
   "cell_type": "code",
   "execution_count": 285,
   "metadata": {},
   "outputs": [
    {
     "data": {
      "text/plain": [
       "[<selenium.webdriver.remote.webelement.WebElement (session=\"cda0051eaaf40eb966fab3b55b4de9bb\", element=\"6ab819ec-9288-4613-ab76-59dbfb979932\")>,\n",
       " <selenium.webdriver.remote.webelement.WebElement (session=\"cda0051eaaf40eb966fab3b55b4de9bb\", element=\"e3d99a80-3e91-4b77-89a9-88b9c8ff53e9\")>,\n",
       " <selenium.webdriver.remote.webelement.WebElement (session=\"cda0051eaaf40eb966fab3b55b4de9bb\", element=\"525dd0dc-fd24-4819-b844-dfe2f2c1b35d\")>,\n",
       " <selenium.webdriver.remote.webelement.WebElement (session=\"cda0051eaaf40eb966fab3b55b4de9bb\", element=\"e15bc270-b14a-4a29-85d2-842a3cd554e7\")>,\n",
       " <selenium.webdriver.remote.webelement.WebElement (session=\"cda0051eaaf40eb966fab3b55b4de9bb\", element=\"a16f1a70-2495-4cd8-8bfc-77c07c6af6f6\")>,\n",
       " <selenium.webdriver.remote.webelement.WebElement (session=\"cda0051eaaf40eb966fab3b55b4de9bb\", element=\"73ffe869-304f-405d-b204-59604764b520\")>,\n",
       " <selenium.webdriver.remote.webelement.WebElement (session=\"cda0051eaaf40eb966fab3b55b4de9bb\", element=\"e6433ec9-9f37-4940-b684-3b6ba1d5c414\")>,\n",
       " <selenium.webdriver.remote.webelement.WebElement (session=\"cda0051eaaf40eb966fab3b55b4de9bb\", element=\"1ce0d011-ffce-4f07-b5ad-51dcba0f39ff\")>,\n",
       " <selenium.webdriver.remote.webelement.WebElement (session=\"cda0051eaaf40eb966fab3b55b4de9bb\", element=\"d15cfc39-2b2f-4ecb-b8b8-07feceec8907\")>,\n",
       " <selenium.webdriver.remote.webelement.WebElement (session=\"cda0051eaaf40eb966fab3b55b4de9bb\", element=\"b0f2a5e7-ae89-4224-97c8-071d78980999\")>]"
      ]
     },
     "execution_count": 285,
     "metadata": {},
     "output_type": "execute_result"
    }
   ],
   "source": [
    "brand_review_descp_2"
   ]
  },
  {
   "cell_type": "code",
   "execution_count": 286,
   "metadata": {
    "scrolled": true
   },
   "outputs": [
    {
     "data": {
      "text/plain": [
       "['iphone 11 is a very good phone to buy only if you can compromise for the display. The display on this is device is pretty good but you can get other options with better displays in this price segment.\\nIf you can survive with an HD+ LCD panel with thicker bezels and a notch up top then this is a very good phone for you.\\nCameras are awesome, battery backup excellent, great performance and a decent premium look. Good job Apple !',\n",
       " 'It’s a must buy who is looking for an upgrade from previous generation of iPhones. If you are using XR then still you can hold on for sometime and upgrade to 2020 model else this phone is a must buy . Camera quality is amazing and wide angle is something to count upon. Performance wise it’s amazing and feels premium while holding in hand. So a big YES for this device. Go for 128 GB variant as the 4K videos will occupy lots of space and the storage can get over very quickly. Try to buy it with...\\nREAD MORE',\n",
       " 'Value for money❤️❤️\\nIts awesome mobile phone in the world ...\\nDisplay was very good and bright ..\\nTrust me freinds you r never regret after Buying..\\nJust go for it....\\nI love this phone and i switch to iphone x to 11',\n",
       " \"It's my first time to use iOS phone and I am loving my upgradation 😍😍 I love the color, I love the assebility of the phone....I need to learn more about its functionality, but as far as I have seen, it's quite easy and it has a lot of functions to work on, specially if you are a content writer or a blogger you get a lot of content creation platforms and they are really amazing.\\n\\nThis phone not only for good quality photography but a lot of other task too.😍💯\",\n",
       " \"Iphone is just awesome.. battery backup is very very nice.. continuously for 10 hours we can use it.camera is just awesome.. display is just fab.i love it alot..i had to wait 15 days for it as i pre ordered it..overalll it's worth the price..these all images are clicked by my iPhone..and i love it.\",\n",
       " 'Best budget Iphone till date ❤️ go for it guys without second thought. Let me explain you guys about Camera, Display, battery, and performance.\\n\\nCamera: at this price range there is no comparison of camera, you’ll love the picture quality as well as video quality. I am a Vlogger I wanted an iPhone with 4k video by front camera and I got this phone and I am more than happy 😃\\n\\nBattery: I use this phone roughly as I am active social media person and I have a youtube channel. so the battery ba...\\nREAD MORE',\n",
       " 'Excellent camera, good performance, no lag. The lcd display is also good.. but difference come when we watch movie in prime and Netflix, the colours are not vibrant.. as we see in amoled display.. and the charger in box is of 5 watts.. takes more than 3 hours to charge from 0 to 100.. so guys be prepare to buy 18 watts charger . Finally I am an android user, it was my first Iapple phone, I promise u guys the iOS is so smooth.. overall the phone is damn good.... close eyes to buy it.. thanks t...\\nREAD MORE',\n",
       " 'Smooth like butter, camera like fantabulous, sound is crystal clear & its red color is damn attractive, i am just loving it. Must buy if you love photography.\\n\\nLucky to get it in sale, thank you Flipkart.',\n",
       " 'Totally in love with this ❤ the camera quality is amazing just love it 😘😘😘 itsss dammnnnnnn amazing... Must buy iPhone 11 this is my best experience ever ☀👌👌🧡🧡🧡🧡🧡 thanku apple ❤',\n",
       " 'It’s been almost a month since I have been using this phone. I upgraded from an iPhone 8. The main issue with my 8 was battery and this phone is just awesome when it comes to battery. It lasts a day and a half for me with my regular use , internet connected always with 4g\\nCan’t move forward without saying this. Battery of this phone is a life saver when I am traveling or at work when I don’t get the option to charge\\nCamera is superb. Front cam selfies and back cam photos are just awesome.\\n...\\nREAD MORE']"
      ]
     },
     "execution_count": 286,
     "metadata": {},
     "output_type": "execute_result"
    }
   ],
   "source": [
    "review_description_2 =[]\n",
    "for i in brand_review_descp_2:\n",
    "    review_description_2.append(i.text)\n",
    "len(review_description_2)\n",
    "review_description_2"
   ]
  },
  {
   "cell_type": "code",
   "execution_count": 287,
   "metadata": {},
   "outputs": [
    {
     "data": {
      "text/html": [
       "<div>\n",
       "<style scoped>\n",
       "    .dataframe tbody tr th:only-of-type {\n",
       "        vertical-align: middle;\n",
       "    }\n",
       "\n",
       "    .dataframe tbody tr th {\n",
       "        vertical-align: top;\n",
       "    }\n",
       "\n",
       "    .dataframe thead th {\n",
       "        text-align: right;\n",
       "    }\n",
       "</style>\n",
       "<table border=\"1\" class=\"dataframe\">\n",
       "  <thead>\n",
       "    <tr style=\"text-align: right;\">\n",
       "      <th></th>\n",
       "      <th>Ratings</th>\n",
       "      <th>Rating_tags</th>\n",
       "      <th>Rating_Description</th>\n",
       "    </tr>\n",
       "  </thead>\n",
       "  <tbody>\n",
       "    <tr>\n",
       "      <th>0</th>\n",
       "      <td>5</td>\n",
       "      <td>Brilliant</td>\n",
       "      <td>The Best Phone for the Money\\n\\nThe iPhone 11 ...</td>\n",
       "    </tr>\n",
       "    <tr>\n",
       "      <th>1</th>\n",
       "      <td>5</td>\n",
       "      <td>Simply awesome</td>\n",
       "      <td>Really satisfied with the Product I received.....</td>\n",
       "    </tr>\n",
       "    <tr>\n",
       "      <th>2</th>\n",
       "      <td>5</td>\n",
       "      <td>Best in the market!</td>\n",
       "      <td>Great iPhone very snappy experience as apple k...</td>\n",
       "    </tr>\n",
       "    <tr>\n",
       "      <th>3</th>\n",
       "      <td>5</td>\n",
       "      <td>Perfect product!</td>\n",
       "      <td>Amazing phone with great cameras and better ba...</td>\n",
       "    </tr>\n",
       "    <tr>\n",
       "      <th>4</th>\n",
       "      <td>5</td>\n",
       "      <td>Fabulous!</td>\n",
       "      <td>This is my first iOS phone. I am very happy wi...</td>\n",
       "    </tr>\n",
       "    <tr>\n",
       "      <th>5</th>\n",
       "      <td>5</td>\n",
       "      <td>Worth every penny</td>\n",
       "      <td>Previously I was using one plus 3t it was a gr...</td>\n",
       "    </tr>\n",
       "    <tr>\n",
       "      <th>6</th>\n",
       "      <td>5</td>\n",
       "      <td>Great product</td>\n",
       "      <td>Amazing Powerful and Durable Gadget.\\n\\nI’m am...</td>\n",
       "    </tr>\n",
       "    <tr>\n",
       "      <th>7</th>\n",
       "      <td>4</td>\n",
       "      <td>Good choice</td>\n",
       "      <td>So far it’s been an AMAZING experience coming ...</td>\n",
       "    </tr>\n",
       "    <tr>\n",
       "      <th>8</th>\n",
       "      <td>5</td>\n",
       "      <td>Highly recommended</td>\n",
       "      <td>What a camera .....just awesome ..you can feel...</td>\n",
       "    </tr>\n",
       "    <tr>\n",
       "      <th>9</th>\n",
       "      <td>5</td>\n",
       "      <td>Worth every penny</td>\n",
       "      <td>i11 is worthy to buy, too much happy with the ...</td>\n",
       "    </tr>\n",
       "  </tbody>\n",
       "</table>\n",
       "</div>"
      ],
      "text/plain": [
       "  Ratings          Rating_tags  \\\n",
       "0       5            Brilliant   \n",
       "1       5       Simply awesome   \n",
       "2       5  Best in the market!   \n",
       "3       5     Perfect product!   \n",
       "4       5            Fabulous!   \n",
       "5       5    Worth every penny   \n",
       "6       5        Great product   \n",
       "7       4          Good choice   \n",
       "8       5   Highly recommended   \n",
       "9       5    Worth every penny   \n",
       "\n",
       "                                  Rating_Description  \n",
       "0  The Best Phone for the Money\\n\\nThe iPhone 11 ...  \n",
       "1  Really satisfied with the Product I received.....  \n",
       "2  Great iPhone very snappy experience as apple k...  \n",
       "3  Amazing phone with great cameras and better ba...  \n",
       "4  This is my first iOS phone. I am very happy wi...  \n",
       "5  Previously I was using one plus 3t it was a gr...  \n",
       "6  Amazing Powerful and Durable Gadget.\\n\\nI’m am...  \n",
       "7  So far it’s been an AMAZING experience coming ...  \n",
       "8  What a camera .....just awesome ..you can feel...  \n",
       "9  i11 is worthy to buy, too much happy with the ...  "
      ]
     },
     "execution_count": 287,
     "metadata": {},
     "output_type": "execute_result"
    }
   ],
   "source": [
    "review_2=pd.DataFrame()\n",
    "review_2['Ratings']=brand_Ratings\n",
    "review_2['Rating_tags']=tags\n",
    "review_2['Rating_Description']=review_description\n",
    "review_2"
   ]
  },
  {
   "cell_type": "code",
   "execution_count": 289,
   "metadata": {},
   "outputs": [],
   "source": [
    "next_pg=driver.find_element_by_xpath(\"/html/body/div[1]/div/div[3]/div/div/div[2]/div[13]/div/div/nav/a[4]\")\n",
    "next_pg.click()\n"
   ]
  },
  {
   "cell_type": "code",
   "execution_count": 290,
   "metadata": {},
   "outputs": [
    {
     "data": {
      "text/plain": [
       "10"
      ]
     },
     "execution_count": 290,
     "metadata": {},
     "output_type": "execute_result"
    }
   ],
   "source": [
    "##Extracting Rating \n",
    "brand_Rating_3=driver.find_elements_by_xpath(\"//div[@class='_3LWZlK _1BLPMq']\")\n",
    "len(brand_Rating_3)"
   ]
  },
  {
   "cell_type": "code",
   "execution_count": 291,
   "metadata": {
    "scrolled": true
   },
   "outputs": [
    {
     "data": {
      "text/plain": [
       "[<selenium.webdriver.remote.webelement.WebElement (session=\"cda0051eaaf40eb966fab3b55b4de9bb\", element=\"9b4614a5-2c38-4b44-b801-682d604ffe39\")>,\n",
       " <selenium.webdriver.remote.webelement.WebElement (session=\"cda0051eaaf40eb966fab3b55b4de9bb\", element=\"4f8d0d06-b59b-47b6-8898-c38942be4541\")>,\n",
       " <selenium.webdriver.remote.webelement.WebElement (session=\"cda0051eaaf40eb966fab3b55b4de9bb\", element=\"21427b9b-6c45-4b74-9fbc-2602cd7b19b9\")>,\n",
       " <selenium.webdriver.remote.webelement.WebElement (session=\"cda0051eaaf40eb966fab3b55b4de9bb\", element=\"e806edbb-6f6b-434a-bd9f-e98dcf55cbd3\")>,\n",
       " <selenium.webdriver.remote.webelement.WebElement (session=\"cda0051eaaf40eb966fab3b55b4de9bb\", element=\"6af592df-6cd0-473e-9bd2-73e7255e76f9\")>,\n",
       " <selenium.webdriver.remote.webelement.WebElement (session=\"cda0051eaaf40eb966fab3b55b4de9bb\", element=\"a653d129-8692-4cf9-8f99-514401ab2d9e\")>,\n",
       " <selenium.webdriver.remote.webelement.WebElement (session=\"cda0051eaaf40eb966fab3b55b4de9bb\", element=\"7e2b3837-e700-46e1-9a37-cdabbf3b2d22\")>,\n",
       " <selenium.webdriver.remote.webelement.WebElement (session=\"cda0051eaaf40eb966fab3b55b4de9bb\", element=\"52924d0e-1ff7-4568-b544-8d33684788ef\")>,\n",
       " <selenium.webdriver.remote.webelement.WebElement (session=\"cda0051eaaf40eb966fab3b55b4de9bb\", element=\"5261dbad-ad77-4dd0-8113-119b734ffc72\")>,\n",
       " <selenium.webdriver.remote.webelement.WebElement (session=\"cda0051eaaf40eb966fab3b55b4de9bb\", element=\"46737001-2d49-4096-964e-cfea2c22349c\")>]"
      ]
     },
     "execution_count": 291,
     "metadata": {},
     "output_type": "execute_result"
    }
   ],
   "source": [
    "brand_Rating_3"
   ]
  },
  {
   "cell_type": "code",
   "execution_count": 292,
   "metadata": {},
   "outputs": [
    {
     "data": {
      "text/plain": [
       "['5', '5', '4', '5', '5', '5', '5', '5', '4', '5']"
      ]
     },
     "execution_count": 292,
     "metadata": {},
     "output_type": "execute_result"
    }
   ],
   "source": [
    "brand_Ratings_3=[]\n",
    "for i in brand_Rating_3:\n",
    "    brand_Ratings_3.append(i.text)\n",
    "len(brand_Ratings_3)\n",
    "brand_Ratings_3\n"
   ]
  },
  {
   "cell_type": "code",
   "execution_count": 293,
   "metadata": {},
   "outputs": [
    {
     "data": {
      "text/plain": [
       "10"
      ]
     },
     "execution_count": 293,
     "metadata": {},
     "output_type": "execute_result"
    }
   ],
   "source": [
    "##Extracting rating tags\n",
    "brand_Rating_tags_3=driver.find_elements_by_xpath(\"//p[@class='_2-N8zT']\")\n",
    "len(brand_Rating_tags_3)"
   ]
  },
  {
   "cell_type": "code",
   "execution_count": 294,
   "metadata": {
    "scrolled": true
   },
   "outputs": [
    {
     "data": {
      "text/plain": [
       "[<selenium.webdriver.remote.webelement.WebElement (session=\"cda0051eaaf40eb966fab3b55b4de9bb\", element=\"1a2465ae-7dcc-45f1-8fc9-a4e67b3b4ed0\")>,\n",
       " <selenium.webdriver.remote.webelement.WebElement (session=\"cda0051eaaf40eb966fab3b55b4de9bb\", element=\"c15e84ea-c787-4f8b-a5bb-09ebab31d136\")>,\n",
       " <selenium.webdriver.remote.webelement.WebElement (session=\"cda0051eaaf40eb966fab3b55b4de9bb\", element=\"9a93de6c-a1a6-4df7-8b53-a60803d248bb\")>,\n",
       " <selenium.webdriver.remote.webelement.WebElement (session=\"cda0051eaaf40eb966fab3b55b4de9bb\", element=\"e4c22ad8-c256-4021-ac06-e5b3cada01f1\")>,\n",
       " <selenium.webdriver.remote.webelement.WebElement (session=\"cda0051eaaf40eb966fab3b55b4de9bb\", element=\"af1a3128-6c5a-4de8-a562-b1f2be170a35\")>,\n",
       " <selenium.webdriver.remote.webelement.WebElement (session=\"cda0051eaaf40eb966fab3b55b4de9bb\", element=\"0723a7f9-20a8-4184-b7bd-53833bad4fc8\")>,\n",
       " <selenium.webdriver.remote.webelement.WebElement (session=\"cda0051eaaf40eb966fab3b55b4de9bb\", element=\"8f582e77-71a6-4489-8ec6-0011fab43120\")>,\n",
       " <selenium.webdriver.remote.webelement.WebElement (session=\"cda0051eaaf40eb966fab3b55b4de9bb\", element=\"eb8b752d-c0d1-4232-b5e8-60f511dba99c\")>,\n",
       " <selenium.webdriver.remote.webelement.WebElement (session=\"cda0051eaaf40eb966fab3b55b4de9bb\", element=\"4c2e5c88-ddfc-4621-a782-adf8704550aa\")>,\n",
       " <selenium.webdriver.remote.webelement.WebElement (session=\"cda0051eaaf40eb966fab3b55b4de9bb\", element=\"c29b7c0b-9e8a-40e7-849a-ecb509896bc7\")>]"
      ]
     },
     "execution_count": 294,
     "metadata": {},
     "output_type": "execute_result"
    }
   ],
   "source": [
    "brand_Rating_tags_3"
   ]
  },
  {
   "cell_type": "code",
   "execution_count": 295,
   "metadata": {},
   "outputs": [
    {
     "data": {
      "text/plain": [
       "['Terrific',\n",
       " 'Wonderful',\n",
       " 'Nice product',\n",
       " 'Perfect product!',\n",
       " 'Classy product',\n",
       " 'Brilliant',\n",
       " 'Perfect product!',\n",
       " 'Great product',\n",
       " 'Good choice',\n",
       " 'Must buy!']"
      ]
     },
     "execution_count": 295,
     "metadata": {},
     "output_type": "execute_result"
    }
   ],
   "source": [
    "tags_3=[]\n",
    "for i in brand_Rating_tags_3:\n",
    "    tags_3.append(i.text)\n",
    "len(tags_3)\n",
    "tags_3"
   ]
  },
  {
   "cell_type": "code",
   "execution_count": 296,
   "metadata": {},
   "outputs": [
    {
     "data": {
      "text/plain": [
       "10"
      ]
     },
     "execution_count": 296,
     "metadata": {},
     "output_type": "execute_result"
    }
   ],
   "source": [
    "#### extracting review description \n",
    "brand_review_descp_3=driver.find_elements_by_xpath(\"//div[@class='t-ZTKy']\")\n",
    "len(brand_review_descp_3)"
   ]
  },
  {
   "cell_type": "code",
   "execution_count": 297,
   "metadata": {
    "scrolled": true
   },
   "outputs": [
    {
     "data": {
      "text/plain": [
       "[<selenium.webdriver.remote.webelement.WebElement (session=\"cda0051eaaf40eb966fab3b55b4de9bb\", element=\"16515ae0-548a-46e4-9e3a-63eef651f866\")>,\n",
       " <selenium.webdriver.remote.webelement.WebElement (session=\"cda0051eaaf40eb966fab3b55b4de9bb\", element=\"40330abc-e3dc-4d24-a917-95a2ef8c0b39\")>,\n",
       " <selenium.webdriver.remote.webelement.WebElement (session=\"cda0051eaaf40eb966fab3b55b4de9bb\", element=\"2ff81cee-df0b-4d17-a936-a5b162b00953\")>,\n",
       " <selenium.webdriver.remote.webelement.WebElement (session=\"cda0051eaaf40eb966fab3b55b4de9bb\", element=\"eb50ba6d-c857-43e4-9cdc-d3a0db18ea7a\")>,\n",
       " <selenium.webdriver.remote.webelement.WebElement (session=\"cda0051eaaf40eb966fab3b55b4de9bb\", element=\"203303e4-740f-4607-819a-6146c3d29f29\")>,\n",
       " <selenium.webdriver.remote.webelement.WebElement (session=\"cda0051eaaf40eb966fab3b55b4de9bb\", element=\"60bfcdf9-be51-4810-a3e7-3738bb8437a1\")>,\n",
       " <selenium.webdriver.remote.webelement.WebElement (session=\"cda0051eaaf40eb966fab3b55b4de9bb\", element=\"da604738-0bfe-43ae-bb5d-c1534fa3aa1c\")>,\n",
       " <selenium.webdriver.remote.webelement.WebElement (session=\"cda0051eaaf40eb966fab3b55b4de9bb\", element=\"1fc8ab2f-cba8-4f4f-9e5c-4270589ccc8a\")>,\n",
       " <selenium.webdriver.remote.webelement.WebElement (session=\"cda0051eaaf40eb966fab3b55b4de9bb\", element=\"8da2e33f-d5ca-4495-9182-62b41035c7b2\")>,\n",
       " <selenium.webdriver.remote.webelement.WebElement (session=\"cda0051eaaf40eb966fab3b55b4de9bb\", element=\"6a528ada-c7a1-4081-b5cf-00e2c838e600\")>]"
      ]
     },
     "execution_count": 297,
     "metadata": {},
     "output_type": "execute_result"
    }
   ],
   "source": [
    "brand_review_descp_3"
   ]
  },
  {
   "cell_type": "code",
   "execution_count": 298,
   "metadata": {
    "scrolled": true
   },
   "outputs": [
    {
     "data": {
      "text/plain": [
       "['Really worth of money. i just love it. It is the best phone ever.',\n",
       " 'This is my first ever I phone. Before this I was using my google nexus 5. But moving from android to iOS is a great experience. It’s worth at this price. I will highly recommend it if you want to move to iOS. The best part of this phone is it’s camera and it’s battery life. This two things have won my heart. I loved it. Happy to have it in my hand. Still exploring its features. And can’t forget to mention Flipkart service. Very prompt service and fast delivery.',\n",
       " 'Awesome Phone. Slightly high price but worth. Better than iPhone XR.\\nCamera is superb and wide angle camera is very clear.\\n12MP selfie camera is also very good.\\nA13 Chip gives a very good and smooth performance.',\n",
       " 'Battery backup is extraordinary, camera is decent & performance offered by A13 bionic is awsome. The display is good in practical usage like the visibility of display is very good in direct sun light compare to pro models. Iam extremely satisfied for the money I spent.',\n",
       " 'Superb Product !!!\\nA big and worthy upgrade from mi 3S to iphone 11 .\\nTotally loved it !',\n",
       " 'I have migrated from OP 7pro... and trust me, iPhone 11 is totally worth it.. following are the reasons:-\\n1)there is ABSOLUTELY NO ISSUE WITH THE DISPLAY... its crisp, sharp and I found it to be much much better than OP7 pro. Netflix, Prime video all run crisply... you won’t miss a thing. True Tone works flawlessly...the display brightness is perfect. OP have not calibrated their screens properly.\\n2) iPhone 11 series have really good cameras... others have spoken in depth about them.\\n3) bat...\\nREAD MORE',\n",
       " 'It is just awesome mobile for this price from Apple,\\n\\nAfter 10 days review\\n\\nBattery enough for 1 day even 24*7 Internet will be on and mostly internet usage\\n\\nCamera is just awesome cool , android 64 MP is equal to this just 12 MP\\n\\nA13 Bionic chip will give more high performance without hanging\\n\\nAudio stereo speakers will give Dolby atoms sound with crystal clear\\n\\nVideo recording is like cinematic shots of every sec can be a 4K 60fps. Just awesome this phone\\niPhone 11 loved one',\n",
       " \"Again back to apple iphone after a gap of 2-3 years. It's pleasure to use iOS and the quality product by Apple. Iphone 11 still works like a beast in 2021 also. It really capable of doing day to day usage as well as hard core gaming. Battery is awesome. I'm really too much satisfied with it. Apart fto the very gorgious IPS LCD (AMOLED will be better) everything is mind boggling. Iphone💕.\",\n",
       " 'Looking so good 👍 😍 super 👌 stylish 😎 phone\\nClean box 📦 good 👍 delivery 👌 fast delivery\\nOriginal box Original iphone 📱 👌 😍😍😍',\n",
       " 'It’s an amazing product from apple and the camera is simply superb. Phone is faster.Night shot is simply superb and detailing and colour differentiation from camera is an added advantage\\n\\nThis review I have written from iPhone 11 only and I am glad to say outside.\\n\\nCons wise if we see HD+ display only, no battery percentage indicator as in older iPhone 8.\\nNo assistive touch control button in it\\nNo oleophobic coating on back panel glass and finger prints are visible but since I bought mint gr...\\nREAD MORE']"
      ]
     },
     "execution_count": 298,
     "metadata": {},
     "output_type": "execute_result"
    }
   ],
   "source": [
    "review_description_3 =[]\n",
    "for i in brand_review_descp_3:\n",
    "    review_description_3.append(i.text)\n",
    "len(review_description_3)\n",
    "review_description_3"
   ]
  },
  {
   "cell_type": "code",
   "execution_count": 299,
   "metadata": {},
   "outputs": [
    {
     "data": {
      "text/html": [
       "<div>\n",
       "<style scoped>\n",
       "    .dataframe tbody tr th:only-of-type {\n",
       "        vertical-align: middle;\n",
       "    }\n",
       "\n",
       "    .dataframe tbody tr th {\n",
       "        vertical-align: top;\n",
       "    }\n",
       "\n",
       "    .dataframe thead th {\n",
       "        text-align: right;\n",
       "    }\n",
       "</style>\n",
       "<table border=\"1\" class=\"dataframe\">\n",
       "  <thead>\n",
       "    <tr style=\"text-align: right;\">\n",
       "      <th></th>\n",
       "      <th>Ratings</th>\n",
       "      <th>Rating_tags</th>\n",
       "      <th>Rating_Description</th>\n",
       "    </tr>\n",
       "  </thead>\n",
       "  <tbody>\n",
       "    <tr>\n",
       "      <th>0</th>\n",
       "      <td>5</td>\n",
       "      <td>Brilliant</td>\n",
       "      <td>The Best Phone for the Money\\n\\nThe iPhone 11 ...</td>\n",
       "    </tr>\n",
       "    <tr>\n",
       "      <th>1</th>\n",
       "      <td>5</td>\n",
       "      <td>Simply awesome</td>\n",
       "      <td>Really satisfied with the Product I received.....</td>\n",
       "    </tr>\n",
       "    <tr>\n",
       "      <th>2</th>\n",
       "      <td>5</td>\n",
       "      <td>Best in the market!</td>\n",
       "      <td>Great iPhone very snappy experience as apple k...</td>\n",
       "    </tr>\n",
       "    <tr>\n",
       "      <th>3</th>\n",
       "      <td>5</td>\n",
       "      <td>Perfect product!</td>\n",
       "      <td>Amazing phone with great cameras and better ba...</td>\n",
       "    </tr>\n",
       "    <tr>\n",
       "      <th>4</th>\n",
       "      <td>5</td>\n",
       "      <td>Fabulous!</td>\n",
       "      <td>This is my first iOS phone. I am very happy wi...</td>\n",
       "    </tr>\n",
       "    <tr>\n",
       "      <th>5</th>\n",
       "      <td>5</td>\n",
       "      <td>Worth every penny</td>\n",
       "      <td>Previously I was using one plus 3t it was a gr...</td>\n",
       "    </tr>\n",
       "    <tr>\n",
       "      <th>6</th>\n",
       "      <td>5</td>\n",
       "      <td>Great product</td>\n",
       "      <td>Amazing Powerful and Durable Gadget.\\n\\nI’m am...</td>\n",
       "    </tr>\n",
       "    <tr>\n",
       "      <th>7</th>\n",
       "      <td>4</td>\n",
       "      <td>Good choice</td>\n",
       "      <td>So far it’s been an AMAZING experience coming ...</td>\n",
       "    </tr>\n",
       "    <tr>\n",
       "      <th>8</th>\n",
       "      <td>5</td>\n",
       "      <td>Highly recommended</td>\n",
       "      <td>What a camera .....just awesome ..you can feel...</td>\n",
       "    </tr>\n",
       "    <tr>\n",
       "      <th>9</th>\n",
       "      <td>5</td>\n",
       "      <td>Worth every penny</td>\n",
       "      <td>i11 is worthy to buy, too much happy with the ...</td>\n",
       "    </tr>\n",
       "  </tbody>\n",
       "</table>\n",
       "</div>"
      ],
      "text/plain": [
       "  Ratings          Rating_tags  \\\n",
       "0       5            Brilliant   \n",
       "1       5       Simply awesome   \n",
       "2       5  Best in the market!   \n",
       "3       5     Perfect product!   \n",
       "4       5            Fabulous!   \n",
       "5       5    Worth every penny   \n",
       "6       5        Great product   \n",
       "7       4          Good choice   \n",
       "8       5   Highly recommended   \n",
       "9       5    Worth every penny   \n",
       "\n",
       "                                  Rating_Description  \n",
       "0  The Best Phone for the Money\\n\\nThe iPhone 11 ...  \n",
       "1  Really satisfied with the Product I received.....  \n",
       "2  Great iPhone very snappy experience as apple k...  \n",
       "3  Amazing phone with great cameras and better ba...  \n",
       "4  This is my first iOS phone. I am very happy wi...  \n",
       "5  Previously I was using one plus 3t it was a gr...  \n",
       "6  Amazing Powerful and Durable Gadget.\\n\\nI’m am...  \n",
       "7  So far it’s been an AMAZING experience coming ...  \n",
       "8  What a camera .....just awesome ..you can feel...  \n",
       "9  i11 is worthy to buy, too much happy with the ...  "
      ]
     },
     "execution_count": 299,
     "metadata": {},
     "output_type": "execute_result"
    }
   ],
   "source": [
    "review_3=pd.DataFrame()\n",
    "review_3['Ratings']=brand_Ratings\n",
    "review_3['Rating_tags']=tags\n",
    "review_3['Rating_Description']=review_description\n",
    "review_3"
   ]
  },
  {
   "cell_type": "code",
   "execution_count": 300,
   "metadata": {},
   "outputs": [],
   "source": [
    "next_pg=driver.find_element_by_xpath(\"/html/body/div[1]/div/div[3]/div/div/div[2]/div[13]/div/div/nav/a[5]\")\n",
    "next_pg.click()\n"
   ]
  },
  {
   "cell_type": "code",
   "execution_count": 301,
   "metadata": {},
   "outputs": [
    {
     "data": {
      "text/plain": [
       "10"
      ]
     },
     "execution_count": 301,
     "metadata": {},
     "output_type": "execute_result"
    }
   ],
   "source": [
    "##Extracting Rating \n",
    "brand_Rating_4=driver.find_elements_by_xpath(\"//div[@class='_3LWZlK _1BLPMq']\")\n",
    "len(brand_Rating_4)"
   ]
  },
  {
   "cell_type": "code",
   "execution_count": 302,
   "metadata": {},
   "outputs": [
    {
     "data": {
      "text/plain": [
       "[<selenium.webdriver.remote.webelement.WebElement (session=\"cda0051eaaf40eb966fab3b55b4de9bb\", element=\"13d0a996-0e3e-4318-925b-ffa8890b36ee\")>,\n",
       " <selenium.webdriver.remote.webelement.WebElement (session=\"cda0051eaaf40eb966fab3b55b4de9bb\", element=\"9609bcb7-d638-478f-b71b-e8575cb30b98\")>,\n",
       " <selenium.webdriver.remote.webelement.WebElement (session=\"cda0051eaaf40eb966fab3b55b4de9bb\", element=\"b4f77acd-7221-4280-84c6-1e031164c643\")>,\n",
       " <selenium.webdriver.remote.webelement.WebElement (session=\"cda0051eaaf40eb966fab3b55b4de9bb\", element=\"285028e0-1df3-4b60-b4ca-252aaacf92fe\")>,\n",
       " <selenium.webdriver.remote.webelement.WebElement (session=\"cda0051eaaf40eb966fab3b55b4de9bb\", element=\"87e515e3-b0fe-453d-a363-6d36863bcb42\")>,\n",
       " <selenium.webdriver.remote.webelement.WebElement (session=\"cda0051eaaf40eb966fab3b55b4de9bb\", element=\"1b42f33f-c544-4255-ae3d-0c072f1dde1a\")>,\n",
       " <selenium.webdriver.remote.webelement.WebElement (session=\"cda0051eaaf40eb966fab3b55b4de9bb\", element=\"bd504f1d-3067-49a1-a4b4-f3e27decaa68\")>,\n",
       " <selenium.webdriver.remote.webelement.WebElement (session=\"cda0051eaaf40eb966fab3b55b4de9bb\", element=\"b5734f0e-f43a-439f-9013-6e5a09444731\")>,\n",
       " <selenium.webdriver.remote.webelement.WebElement (session=\"cda0051eaaf40eb966fab3b55b4de9bb\", element=\"08e36bc5-4850-4dce-befb-2db312470513\")>,\n",
       " <selenium.webdriver.remote.webelement.WebElement (session=\"cda0051eaaf40eb966fab3b55b4de9bb\", element=\"553e1a48-7f96-4304-9efc-8f74c1c06a09\")>]"
      ]
     },
     "execution_count": 302,
     "metadata": {},
     "output_type": "execute_result"
    }
   ],
   "source": [
    "brand_Rating_4\n"
   ]
  },
  {
   "cell_type": "code",
   "execution_count": 303,
   "metadata": {},
   "outputs": [
    {
     "data": {
      "text/plain": [
       "['5', '5', '5', '5', '5', '5', '5', '5', '5', '4']"
      ]
     },
     "execution_count": 303,
     "metadata": {},
     "output_type": "execute_result"
    }
   ],
   "source": [
    "brand_Ratings_4=[]\n",
    "for i in brand_Rating_4:\n",
    "    brand_Ratings_4.append(i.text)\n",
    "len(brand_Ratings_4)\n",
    "brand_Ratings_4\n"
   ]
  },
  {
   "cell_type": "code",
   "execution_count": 304,
   "metadata": {},
   "outputs": [
    {
     "data": {
      "text/plain": [
       "10"
      ]
     },
     "execution_count": 304,
     "metadata": {},
     "output_type": "execute_result"
    }
   ],
   "source": [
    "##Extracting rating tags\n",
    "brand_Rating_tags_4=driver.find_elements_by_xpath(\"//p[@class='_2-N8zT']\")\n",
    "len(brand_Rating_tags_4)"
   ]
  },
  {
   "cell_type": "code",
   "execution_count": 305,
   "metadata": {},
   "outputs": [
    {
     "data": {
      "text/plain": [
       "[<selenium.webdriver.remote.webelement.WebElement (session=\"cda0051eaaf40eb966fab3b55b4de9bb\", element=\"6f5e0020-274f-494a-9ddd-f8c31c156106\")>,\n",
       " <selenium.webdriver.remote.webelement.WebElement (session=\"cda0051eaaf40eb966fab3b55b4de9bb\", element=\"f88e95fd-96a3-4203-b717-b2d3d7dd4a91\")>,\n",
       " <selenium.webdriver.remote.webelement.WebElement (session=\"cda0051eaaf40eb966fab3b55b4de9bb\", element=\"32d0d717-4c85-477f-8535-984f37a8b752\")>,\n",
       " <selenium.webdriver.remote.webelement.WebElement (session=\"cda0051eaaf40eb966fab3b55b4de9bb\", element=\"5c143240-fbf1-4602-895f-671c8ba491a7\")>,\n",
       " <selenium.webdriver.remote.webelement.WebElement (session=\"cda0051eaaf40eb966fab3b55b4de9bb\", element=\"220f8a7f-68f1-4a6a-a928-6acc82e871f4\")>,\n",
       " <selenium.webdriver.remote.webelement.WebElement (session=\"cda0051eaaf40eb966fab3b55b4de9bb\", element=\"ee396fbb-e277-4b96-ba8b-fc2f682ec0fd\")>,\n",
       " <selenium.webdriver.remote.webelement.WebElement (session=\"cda0051eaaf40eb966fab3b55b4de9bb\", element=\"af4a61ab-b899-44d2-b021-9b75b137738f\")>,\n",
       " <selenium.webdriver.remote.webelement.WebElement (session=\"cda0051eaaf40eb966fab3b55b4de9bb\", element=\"28a12790-fd60-47d3-89ab-e4d6bb4bc54b\")>,\n",
       " <selenium.webdriver.remote.webelement.WebElement (session=\"cda0051eaaf40eb966fab3b55b4de9bb\", element=\"f6ee8e2a-8d53-4545-b7a2-0fb7d1fbf1ed\")>,\n",
       " <selenium.webdriver.remote.webelement.WebElement (session=\"cda0051eaaf40eb966fab3b55b4de9bb\", element=\"9baae3fc-2034-4ac8-97fb-729379855c02\")>]"
      ]
     },
     "execution_count": 305,
     "metadata": {},
     "output_type": "execute_result"
    }
   ],
   "source": [
    "brand_Rating_tags_4"
   ]
  },
  {
   "cell_type": "code",
   "execution_count": 306,
   "metadata": {},
   "outputs": [
    {
     "data": {
      "text/plain": [
       "['Perfect product!',\n",
       " 'Wonderful',\n",
       " 'Terrific purchase',\n",
       " 'Simply awesome',\n",
       " 'Great product',\n",
       " 'Terrific purchase',\n",
       " 'Mind-blowing purchase',\n",
       " 'Excellent',\n",
       " 'Simply awesome',\n",
       " 'Good quality product']"
      ]
     },
     "execution_count": 306,
     "metadata": {},
     "output_type": "execute_result"
    }
   ],
   "source": [
    "tags_4=[]\n",
    "for i in brand_Rating_tags_4:\n",
    "    tags_4.append(i.text)\n",
    "len(tags_4)\n",
    "tags_4"
   ]
  },
  {
   "cell_type": "code",
   "execution_count": 307,
   "metadata": {},
   "outputs": [
    {
     "data": {
      "text/plain": [
       "10"
      ]
     },
     "execution_count": 307,
     "metadata": {},
     "output_type": "execute_result"
    }
   ],
   "source": [
    "#### extracting review description \n",
    "brand_review_descp_4=driver.find_elements_by_xpath(\"//div[@class='t-ZTKy']\")\n",
    "len(brand_review_descp_4)"
   ]
  },
  {
   "cell_type": "code",
   "execution_count": 308,
   "metadata": {
    "scrolled": true
   },
   "outputs": [
    {
     "data": {
      "text/plain": [
       "[<selenium.webdriver.remote.webelement.WebElement (session=\"cda0051eaaf40eb966fab3b55b4de9bb\", element=\"524abed1-fa48-49b2-9900-afa6a29cce56\")>,\n",
       " <selenium.webdriver.remote.webelement.WebElement (session=\"cda0051eaaf40eb966fab3b55b4de9bb\", element=\"19d14cf8-6112-4bdc-b2dd-da100f6cb63d\")>,\n",
       " <selenium.webdriver.remote.webelement.WebElement (session=\"cda0051eaaf40eb966fab3b55b4de9bb\", element=\"47c95135-a00e-4d21-9e0c-22a3a42befc1\")>,\n",
       " <selenium.webdriver.remote.webelement.WebElement (session=\"cda0051eaaf40eb966fab3b55b4de9bb\", element=\"b8857e8c-b926-4d15-a8b8-654cf4ef7a36\")>,\n",
       " <selenium.webdriver.remote.webelement.WebElement (session=\"cda0051eaaf40eb966fab3b55b4de9bb\", element=\"8dd5cea6-5109-41e1-b5fb-cd5ed774ced7\")>,\n",
       " <selenium.webdriver.remote.webelement.WebElement (session=\"cda0051eaaf40eb966fab3b55b4de9bb\", element=\"069747f4-0b36-4ab9-8bbe-0605ec0f4732\")>,\n",
       " <selenium.webdriver.remote.webelement.WebElement (session=\"cda0051eaaf40eb966fab3b55b4de9bb\", element=\"f07df8f0-7337-494d-8dcb-a89b8c5f88b7\")>,\n",
       " <selenium.webdriver.remote.webelement.WebElement (session=\"cda0051eaaf40eb966fab3b55b4de9bb\", element=\"5ccfa1fc-a21c-46af-9c39-8b768aebe9d3\")>,\n",
       " <selenium.webdriver.remote.webelement.WebElement (session=\"cda0051eaaf40eb966fab3b55b4de9bb\", element=\"1acfe70c-6d05-48fd-be68-87a73e29abcb\")>,\n",
       " <selenium.webdriver.remote.webelement.WebElement (session=\"cda0051eaaf40eb966fab3b55b4de9bb\", element=\"671d4f95-643b-42f1-84ea-051bd26117c7\")>]"
      ]
     },
     "execution_count": 308,
     "metadata": {},
     "output_type": "execute_result"
    }
   ],
   "source": [
    "brand_review_descp_4"
   ]
  },
  {
   "cell_type": "code",
   "execution_count": 309,
   "metadata": {
    "scrolled": true
   },
   "outputs": [
    {
     "data": {
      "text/plain": [
       "['After 1 month use I found camera quality best compared to my previous Samsung note 10+.Display not good as note 10 also charging too slow.Apple should add fast charger like 11 plus and pro.Best phone for daily use',\n",
       " 'I just directly switch from iphone 6s to iphone 11 .The best premium smartphone I recommend to everyone. Excellent quality and colors the iphone have in 11 series.\\nCamera quality is just awesome and the major feel when we hold in our hands. The sound quality and volume is also higher then the previous models.\\nI will recommend to buy iphone 11 instead of pro models , there is nothing much difference as this model contains everything which fulfill our needs.\\n\\nOnly one thing that I dislike abo...\\nREAD MORE',\n",
       " 'Upgraded from iphone 6 to 11 best phone for iphone users battery is much better than other iphones camera is awesome love to use it.camera is so clear in night.',\n",
       " \"It's very high performances devise i am like the service of flipkart delevary very fast and packing very nice perfect phone\",\n",
       " 'Well you all know the specifications . One of a kind. Best iPhone till date. Many enhancements to the camera app with many options. Love the glass body with matte finish in the lens area on the back. Lovely colours to choose from. Best battery in an iPhone till date, enough to last more than a day in normal usage. I tested my iPhone 11 battery and lasted for than 24 hours after full charge still with 30% battery charge left. Watched movies for some time. Normal usage on calls, browsing, musi...\\nREAD MORE',\n",
       " 'The built quality is not very premium.\\nThe battery back is great .\\nThe LCD panel is not so sharp but the brightness level is very High .\\nCamera is super duper awesome.\\nThe red colour which people think is bright is actually very soothing and excellent colour to choose from .\\nThe A13 Bionic chip is really a flagship processor and can beat any phone which even has 12 gb ram .\\nCamera module is very great and looks very stylish.',\n",
       " 'This will help you more. See if you are planning to buy iPhone 11. I will say. Yes. But there are some plans I just want to disclose before you buy. 1) If you are an existing iPhone X/XS/XS Max/ XR user, better you guys do not think it to buy. You guys have more or less better gadget. 2) If you are an android user and planning to buy premium phone. I will suggest them to please buy iPhone instead of buying an Android. I bet you will never go back to android after using IOS. Now I want to shar...\\nREAD MORE',\n",
       " 'Amazing camera and feel super machine I am not describe my feeling but this is amazing Phone I am so lucky I have this',\n",
       " 'Really good actually this is my first apple product am using its really awesome performance wise excellent. Am really happy with this iphone11',\n",
       " 'it is very good at performance. Camera is best like before and very smooth response even in water. Don’t buy 12 mini buy iPhone 11 , it is far better than 12 mini believe me ! Have a nice day \\uf8ff ☺️']"
      ]
     },
     "execution_count": 309,
     "metadata": {},
     "output_type": "execute_result"
    }
   ],
   "source": [
    "review_description_4 =[]\n",
    "for i in brand_review_descp_4:\n",
    "    review_description_4.append(i.text)\n",
    "len(review_description_4)\n",
    "review_description_4"
   ]
  },
  {
   "cell_type": "code",
   "execution_count": 310,
   "metadata": {},
   "outputs": [
    {
     "data": {
      "text/html": [
       "<div>\n",
       "<style scoped>\n",
       "    .dataframe tbody tr th:only-of-type {\n",
       "        vertical-align: middle;\n",
       "    }\n",
       "\n",
       "    .dataframe tbody tr th {\n",
       "        vertical-align: top;\n",
       "    }\n",
       "\n",
       "    .dataframe thead th {\n",
       "        text-align: right;\n",
       "    }\n",
       "</style>\n",
       "<table border=\"1\" class=\"dataframe\">\n",
       "  <thead>\n",
       "    <tr style=\"text-align: right;\">\n",
       "      <th></th>\n",
       "      <th>Ratings</th>\n",
       "      <th>Rating_tags</th>\n",
       "      <th>Rating_Description</th>\n",
       "    </tr>\n",
       "  </thead>\n",
       "  <tbody>\n",
       "    <tr>\n",
       "      <th>0</th>\n",
       "      <td>5</td>\n",
       "      <td>Brilliant</td>\n",
       "      <td>The Best Phone for the Money\\n\\nThe iPhone 11 ...</td>\n",
       "    </tr>\n",
       "    <tr>\n",
       "      <th>1</th>\n",
       "      <td>5</td>\n",
       "      <td>Simply awesome</td>\n",
       "      <td>Really satisfied with the Product I received.....</td>\n",
       "    </tr>\n",
       "    <tr>\n",
       "      <th>2</th>\n",
       "      <td>5</td>\n",
       "      <td>Best in the market!</td>\n",
       "      <td>Great iPhone very snappy experience as apple k...</td>\n",
       "    </tr>\n",
       "    <tr>\n",
       "      <th>3</th>\n",
       "      <td>5</td>\n",
       "      <td>Perfect product!</td>\n",
       "      <td>Amazing phone with great cameras and better ba...</td>\n",
       "    </tr>\n",
       "    <tr>\n",
       "      <th>4</th>\n",
       "      <td>5</td>\n",
       "      <td>Fabulous!</td>\n",
       "      <td>This is my first iOS phone. I am very happy wi...</td>\n",
       "    </tr>\n",
       "    <tr>\n",
       "      <th>5</th>\n",
       "      <td>5</td>\n",
       "      <td>Worth every penny</td>\n",
       "      <td>Previously I was using one plus 3t it was a gr...</td>\n",
       "    </tr>\n",
       "    <tr>\n",
       "      <th>6</th>\n",
       "      <td>5</td>\n",
       "      <td>Great product</td>\n",
       "      <td>Amazing Powerful and Durable Gadget.\\n\\nI’m am...</td>\n",
       "    </tr>\n",
       "    <tr>\n",
       "      <th>7</th>\n",
       "      <td>4</td>\n",
       "      <td>Good choice</td>\n",
       "      <td>So far it’s been an AMAZING experience coming ...</td>\n",
       "    </tr>\n",
       "    <tr>\n",
       "      <th>8</th>\n",
       "      <td>5</td>\n",
       "      <td>Highly recommended</td>\n",
       "      <td>What a camera .....just awesome ..you can feel...</td>\n",
       "    </tr>\n",
       "    <tr>\n",
       "      <th>9</th>\n",
       "      <td>5</td>\n",
       "      <td>Worth every penny</td>\n",
       "      <td>i11 is worthy to buy, too much happy with the ...</td>\n",
       "    </tr>\n",
       "  </tbody>\n",
       "</table>\n",
       "</div>"
      ],
      "text/plain": [
       "  Ratings          Rating_tags  \\\n",
       "0       5            Brilliant   \n",
       "1       5       Simply awesome   \n",
       "2       5  Best in the market!   \n",
       "3       5     Perfect product!   \n",
       "4       5            Fabulous!   \n",
       "5       5    Worth every penny   \n",
       "6       5        Great product   \n",
       "7       4          Good choice   \n",
       "8       5   Highly recommended   \n",
       "9       5    Worth every penny   \n",
       "\n",
       "                                  Rating_Description  \n",
       "0  The Best Phone for the Money\\n\\nThe iPhone 11 ...  \n",
       "1  Really satisfied with the Product I received.....  \n",
       "2  Great iPhone very snappy experience as apple k...  \n",
       "3  Amazing phone with great cameras and better ba...  \n",
       "4  This is my first iOS phone. I am very happy wi...  \n",
       "5  Previously I was using one plus 3t it was a gr...  \n",
       "6  Amazing Powerful and Durable Gadget.\\n\\nI’m am...  \n",
       "7  So far it’s been an AMAZING experience coming ...  \n",
       "8  What a camera .....just awesome ..you can feel...  \n",
       "9  i11 is worthy to buy, too much happy with the ...  "
      ]
     },
     "execution_count": 310,
     "metadata": {},
     "output_type": "execute_result"
    }
   ],
   "source": [
    "review_4=pd.DataFrame()\n",
    "review_4['Ratings']=brand_Ratings\n",
    "review_4['Rating_tags']=tags\n",
    "review_4['Rating_Description']=review_description\n",
    "review_4"
   ]
  },
  {
   "cell_type": "code",
   "execution_count": 311,
   "metadata": {},
   "outputs": [],
   "source": [
    "next_pg=driver.find_element_by_xpath(\"/html/body/div[1]/div/div[3]/div/div/div[2]/div[13]/div/div/nav/a[6]\")\n",
    "next_pg.click()"
   ]
  },
  {
   "cell_type": "code",
   "execution_count": 314,
   "metadata": {},
   "outputs": [
    {
     "data": {
      "text/plain": [
       "9"
      ]
     },
     "execution_count": 314,
     "metadata": {},
     "output_type": "execute_result"
    }
   ],
   "source": [
    "##Extracting Rating \n",
    "brand_Rating_5=driver.find_elements_by_xpath(\"//div[@class='_3LWZlK _1BLPMq']\")\n",
    "len(brand_Rating_5)"
   ]
  },
  {
   "cell_type": "code",
   "execution_count": 315,
   "metadata": {},
   "outputs": [
    {
     "data": {
      "text/plain": [
       "[<selenium.webdriver.remote.webelement.WebElement (session=\"cda0051eaaf40eb966fab3b55b4de9bb\", element=\"4fc74556-42c0-48e7-a5d7-efdac9d72b2f\")>,\n",
       " <selenium.webdriver.remote.webelement.WebElement (session=\"cda0051eaaf40eb966fab3b55b4de9bb\", element=\"de5d30e2-54aa-4f4c-88b4-7f9ebfc0de44\")>,\n",
       " <selenium.webdriver.remote.webelement.WebElement (session=\"cda0051eaaf40eb966fab3b55b4de9bb\", element=\"eb94b7e8-02a6-4feb-a75f-82899e078e0a\")>,\n",
       " <selenium.webdriver.remote.webelement.WebElement (session=\"cda0051eaaf40eb966fab3b55b4de9bb\", element=\"08b7eb32-8eae-46f0-a920-0f61ec13f027\")>,\n",
       " <selenium.webdriver.remote.webelement.WebElement (session=\"cda0051eaaf40eb966fab3b55b4de9bb\", element=\"b60d923d-ed5f-4aa3-9956-88cd2b93af97\")>,\n",
       " <selenium.webdriver.remote.webelement.WebElement (session=\"cda0051eaaf40eb966fab3b55b4de9bb\", element=\"9509c48c-88f4-48d4-943d-e680424ced61\")>,\n",
       " <selenium.webdriver.remote.webelement.WebElement (session=\"cda0051eaaf40eb966fab3b55b4de9bb\", element=\"f4190f5c-92f9-414e-89d4-23587119b028\")>,\n",
       " <selenium.webdriver.remote.webelement.WebElement (session=\"cda0051eaaf40eb966fab3b55b4de9bb\", element=\"0fc3daf8-325c-4e54-b0bf-326fbb97c74c\")>,\n",
       " <selenium.webdriver.remote.webelement.WebElement (session=\"cda0051eaaf40eb966fab3b55b4de9bb\", element=\"54f8a37c-eeb4-4c9c-9e36-7ad30309a16e\")>]"
      ]
     },
     "execution_count": 315,
     "metadata": {},
     "output_type": "execute_result"
    }
   ],
   "source": [
    "brand_Rating_5"
   ]
  },
  {
   "cell_type": "code",
   "execution_count": 316,
   "metadata": {},
   "outputs": [
    {
     "data": {
      "text/plain": [
       "['5', '5', '5', '5', '5', '5', '5', '5', '4']"
      ]
     },
     "execution_count": 316,
     "metadata": {},
     "output_type": "execute_result"
    }
   ],
   "source": [
    "brand_Ratings_5=[]\n",
    "for i in brand_Rating_5:\n",
    "    brand_Ratings_5.append(i.text)\n",
    "len(brand_Ratings_5)\n",
    "brand_Ratings_5\n"
   ]
  },
  {
   "cell_type": "code",
   "execution_count": 317,
   "metadata": {},
   "outputs": [
    {
     "data": {
      "text/plain": [
       "10"
      ]
     },
     "execution_count": 317,
     "metadata": {},
     "output_type": "execute_result"
    }
   ],
   "source": [
    "##Extracting rating tags\n",
    "brand_Rating_tags_5=driver.find_elements_by_xpath(\"//p[@class='_2-N8zT']\")\n",
    "len(brand_Rating_tags_5)"
   ]
  },
  {
   "cell_type": "code",
   "execution_count": 318,
   "metadata": {},
   "outputs": [
    {
     "data": {
      "text/plain": [
       "[<selenium.webdriver.remote.webelement.WebElement (session=\"cda0051eaaf40eb966fab3b55b4de9bb\", element=\"174cec29-5b10-43ca-9fca-bc37555b6877\")>,\n",
       " <selenium.webdriver.remote.webelement.WebElement (session=\"cda0051eaaf40eb966fab3b55b4de9bb\", element=\"054fe086-af90-4f84-9811-df466ebb867b\")>,\n",
       " <selenium.webdriver.remote.webelement.WebElement (session=\"cda0051eaaf40eb966fab3b55b4de9bb\", element=\"76c1849d-f327-4e52-9c0c-1b3c5116dfbf\")>,\n",
       " <selenium.webdriver.remote.webelement.WebElement (session=\"cda0051eaaf40eb966fab3b55b4de9bb\", element=\"13204a1c-bdb2-404b-94cf-df3080ac53c3\")>,\n",
       " <selenium.webdriver.remote.webelement.WebElement (session=\"cda0051eaaf40eb966fab3b55b4de9bb\", element=\"583ae414-ff63-448e-af82-0d9be21446f1\")>,\n",
       " <selenium.webdriver.remote.webelement.WebElement (session=\"cda0051eaaf40eb966fab3b55b4de9bb\", element=\"4faa4da3-e6ce-4bd6-a595-50c28368ae53\")>,\n",
       " <selenium.webdriver.remote.webelement.WebElement (session=\"cda0051eaaf40eb966fab3b55b4de9bb\", element=\"410136e9-2645-4d6b-8742-12f21d95ee43\")>,\n",
       " <selenium.webdriver.remote.webelement.WebElement (session=\"cda0051eaaf40eb966fab3b55b4de9bb\", element=\"5d0a80fd-dcc1-4d70-828d-821fb4f63eb4\")>,\n",
       " <selenium.webdriver.remote.webelement.WebElement (session=\"cda0051eaaf40eb966fab3b55b4de9bb\", element=\"81e8df31-753d-456c-b9f0-c67dc2bb3452\")>,\n",
       " <selenium.webdriver.remote.webelement.WebElement (session=\"cda0051eaaf40eb966fab3b55b4de9bb\", element=\"88e140a2-cee3-4d80-81a4-93361f54ad05\")>]"
      ]
     },
     "execution_count": 318,
     "metadata": {},
     "output_type": "execute_result"
    }
   ],
   "source": [
    "brand_Rating_tags_5"
   ]
  },
  {
   "cell_type": "code",
   "execution_count": 319,
   "metadata": {},
   "outputs": [
    {
     "data": {
      "text/plain": [
       "['Very poor',\n",
       " 'Perfect product!',\n",
       " 'Classy product',\n",
       " 'Fabulous!',\n",
       " 'Must buy!',\n",
       " 'Fabulous!',\n",
       " 'Mind-blowing purchase',\n",
       " 'Wonderful',\n",
       " 'Must buy!',\n",
       " 'Very Good']"
      ]
     },
     "execution_count": 319,
     "metadata": {},
     "output_type": "execute_result"
    }
   ],
   "source": [
    "tags_5=[]\n",
    "for i in brand_Rating_tags_5:\n",
    "    tags_5.append(i.text)\n",
    "len(tags_5)\n",
    "tags_5"
   ]
  },
  {
   "cell_type": "code",
   "execution_count": 320,
   "metadata": {},
   "outputs": [
    {
     "data": {
      "text/plain": [
       "10"
      ]
     },
     "execution_count": 320,
     "metadata": {},
     "output_type": "execute_result"
    }
   ],
   "source": [
    "#### extracting review description \n",
    "brand_review_descp_5=driver.find_elements_by_xpath(\"//div[@class='t-ZTKy']\")\n",
    "len(brand_review_descp_5)"
   ]
  },
  {
   "cell_type": "code",
   "execution_count": 321,
   "metadata": {},
   "outputs": [
    {
     "data": {
      "text/plain": [
       "[<selenium.webdriver.remote.webelement.WebElement (session=\"cda0051eaaf40eb966fab3b55b4de9bb\", element=\"8df360d4-67a9-46c8-8343-c8e6d6ef62d5\")>,\n",
       " <selenium.webdriver.remote.webelement.WebElement (session=\"cda0051eaaf40eb966fab3b55b4de9bb\", element=\"5b66e30d-9287-4c5a-be53-2ee5c75b7269\")>,\n",
       " <selenium.webdriver.remote.webelement.WebElement (session=\"cda0051eaaf40eb966fab3b55b4de9bb\", element=\"4007db27-d2c7-43d8-b57b-ac237f40980f\")>,\n",
       " <selenium.webdriver.remote.webelement.WebElement (session=\"cda0051eaaf40eb966fab3b55b4de9bb\", element=\"e43e167c-bdbe-4e92-b70b-cbd5b3430b40\")>,\n",
       " <selenium.webdriver.remote.webelement.WebElement (session=\"cda0051eaaf40eb966fab3b55b4de9bb\", element=\"c9fa5690-cd33-4c0e-8e27-3942e65fbe88\")>,\n",
       " <selenium.webdriver.remote.webelement.WebElement (session=\"cda0051eaaf40eb966fab3b55b4de9bb\", element=\"2da6624d-7300-49de-a648-16307e75d04d\")>,\n",
       " <selenium.webdriver.remote.webelement.WebElement (session=\"cda0051eaaf40eb966fab3b55b4de9bb\", element=\"f534aa7e-3dc3-4294-b984-1e8cf93091cd\")>,\n",
       " <selenium.webdriver.remote.webelement.WebElement (session=\"cda0051eaaf40eb966fab3b55b4de9bb\", element=\"5558008f-9f34-468f-9f6a-377933ae1720\")>,\n",
       " <selenium.webdriver.remote.webelement.WebElement (session=\"cda0051eaaf40eb966fab3b55b4de9bb\", element=\"4febd505-5794-4636-99b6-5e39f14f1aca\")>,\n",
       " <selenium.webdriver.remote.webelement.WebElement (session=\"cda0051eaaf40eb966fab3b55b4de9bb\", element=\"1a470b55-c62a-4697-a8ff-49109a74ccc2\")>]"
      ]
     },
     "execution_count": 321,
     "metadata": {},
     "output_type": "execute_result"
    }
   ],
   "source": [
    "brand_review_descp_5"
   ]
  },
  {
   "cell_type": "code",
   "execution_count": 322,
   "metadata": {
    "scrolled": true
   },
   "outputs": [
    {
     "data": {
      "text/plain": [
       "['Reviewing again after 5 months. At the beginning the battery and performance was good but it degraded soon. Also I was facing heating issues. The mobile will heat up like a stove sometimes. You cannot even play Pubg even in low settings properly, performance is not a problem but heating is. Also if you play that game for 10 mins the brightness will be automatically down due to over heating even when the auto brightness is set to off. This will not be solved even if u manually increase the bri...\\nREAD MORE',\n",
       " 'In love with this iphone great performance,camera ,battery everything. Go for it have a uncompareble battery backup, no doubts in iPhone camera here You can see the picture which is shot on my iPhone In love with this iphone great performance,camera ,battery everything. Go for it have a uncompareble battery backup, no doubts in iPhone camera here You can see the picture which is shot on my iPhone In love with this iphone great performance,camera ,battery everything. Go for it have a uncompare...\\nREAD MORE',\n",
       " 'We are on apple ecosystem for almost eight years now with couple of iPads and iPhones, including Xr.\\n\\nBought iPhone 11 as a gift to my daughter who loves it. We chose for a purple coloured one. Believe me it is gorgeous and towards the lighter shade. Dazzling and brilliant!\\n\\nThe phone is great and does excellent RAM management like any other Apple device.\\n\\nThe screen, though a LCD and lesser ppi as compared to other flagship phones of competitor brands, is a delight to watch with perfect re...\\nREAD MORE',\n",
       " 'Everything is perfect pictures come out so clearly and at first I wasn’t sure when I got it then when I started to use it and get the hang of it it was amazing!! I can’t wait to see what the next future phones will be like. The screen display on this bad boy are unbelievable they are so clear and never fail me. The performance is super cool there is a lot of cool features as well I like this phone because I feel that it is easy to use and one of my favorite things about this phone is the Face...\\nREAD MORE',\n",
       " 'Best Apple iPhone that i have bought at a very reasonable price, camera quality is next level just awesome n of superior quality android phones not even close(RIP) to that and also battery is really good but packaging by Flipkart of iPhone was very poor of such a expensive product, firstly im bit worried about the quality of product if i purchased it through online how was the product but i think now this was mine best decision to bought it through Flipkart online because i got genuine Apple...\\nREAD MORE',\n",
       " \"I can say I'm damn impressed with iPhone 11. As they says iPhone 11 have the toughest glass ever in the smartphone which you'll find on the front and back and it's totally smooth. The fit and finish is full apple quality - there's no sense that any cheaping out has happened in the construction. Without saying it's camera features this review won't complete. The iPhone 11 has a dual camera system, consisting of a wide angle len's that's pretty much same as found on the iPhone XR last year, but...\\nREAD MORE\",\n",
       " 'Best Quality Product OF iPhone Series , Sound Quality & Camera quality is very awesome, Battery Life is very Sufficient for 24 hr Backup With Full Internet Access , I love this this Product too much , It is very fast & making me Very fast in all my daily Routine\\nHighlights;\\n1.Camera: 5 STAR\\n2.Video Recording: 5 star\\n3.Night mODE sHOOTING & Camera:4 star\\n4. Audio Quality: Awesome\\n5. Battery : 5 Star\\n6. Touch:5 Star\\n7. Processor: Very Fast\\nThe M...\\nREAD MORE',\n",
       " 'Superfast delivery by Flipkart. Thanks.\\n\\n1. iPhone 11 is a pretty solid phone for the money you are paying.\\n2. All the bad reviews about the display is confusing. It’s not that bad.\\n3. I switched from a Oneplus 7t. I have no complaints about the display quality of iPhone. Yes, it’s not OLED, so, we are missing on the deep blacks. But that’s it. It is a very colour accurate display. Gets adequately bright and I could not find any pixelation.\\n4. Performance is one of the best, if not best, in ...\\nREAD MORE',\n",
       " 'I rate this product 5* as it has got amazing user experience with the best performing A13 bionic processor. The screen responds and graphics rendering is top notch. With casual gaming and internet browsing, the battery lasts for approx. 1 day. Camera is very good. You will fall in love with the portrait mode. You can call me a loyal Apple customer or whatever but I won’t stop praising the products and overall experience. That user experience matters and is worth every penny you pay.\\n\\nBelow ar...\\nREAD MORE',\n",
       " 'impressive super phone and best in class camera ,sound and face unlock is super fast just see and phone is unlock and fast in daily apps use']"
      ]
     },
     "execution_count": 322,
     "metadata": {},
     "output_type": "execute_result"
    }
   ],
   "source": [
    "review_description_5 =[]\n",
    "for i in brand_review_descp_5:\n",
    "    review_description_5.append(i.text)\n",
    "len(review_description_5)\n",
    "review_description_5"
   ]
  },
  {
   "cell_type": "code",
   "execution_count": 323,
   "metadata": {},
   "outputs": [
    {
     "data": {
      "text/html": [
       "<div>\n",
       "<style scoped>\n",
       "    .dataframe tbody tr th:only-of-type {\n",
       "        vertical-align: middle;\n",
       "    }\n",
       "\n",
       "    .dataframe tbody tr th {\n",
       "        vertical-align: top;\n",
       "    }\n",
       "\n",
       "    .dataframe thead th {\n",
       "        text-align: right;\n",
       "    }\n",
       "</style>\n",
       "<table border=\"1\" class=\"dataframe\">\n",
       "  <thead>\n",
       "    <tr style=\"text-align: right;\">\n",
       "      <th></th>\n",
       "      <th>Ratings</th>\n",
       "      <th>Rating_tags</th>\n",
       "      <th>Rating_Description</th>\n",
       "    </tr>\n",
       "  </thead>\n",
       "  <tbody>\n",
       "    <tr>\n",
       "      <th>0</th>\n",
       "      <td>5</td>\n",
       "      <td>Brilliant</td>\n",
       "      <td>The Best Phone for the Money\\n\\nThe iPhone 11 ...</td>\n",
       "    </tr>\n",
       "    <tr>\n",
       "      <th>1</th>\n",
       "      <td>5</td>\n",
       "      <td>Simply awesome</td>\n",
       "      <td>Really satisfied with the Product I received.....</td>\n",
       "    </tr>\n",
       "    <tr>\n",
       "      <th>2</th>\n",
       "      <td>5</td>\n",
       "      <td>Best in the market!</td>\n",
       "      <td>Great iPhone very snappy experience as apple k...</td>\n",
       "    </tr>\n",
       "    <tr>\n",
       "      <th>3</th>\n",
       "      <td>5</td>\n",
       "      <td>Perfect product!</td>\n",
       "      <td>Amazing phone with great cameras and better ba...</td>\n",
       "    </tr>\n",
       "    <tr>\n",
       "      <th>4</th>\n",
       "      <td>5</td>\n",
       "      <td>Fabulous!</td>\n",
       "      <td>This is my first iOS phone. I am very happy wi...</td>\n",
       "    </tr>\n",
       "    <tr>\n",
       "      <th>5</th>\n",
       "      <td>5</td>\n",
       "      <td>Worth every penny</td>\n",
       "      <td>Previously I was using one plus 3t it was a gr...</td>\n",
       "    </tr>\n",
       "    <tr>\n",
       "      <th>6</th>\n",
       "      <td>5</td>\n",
       "      <td>Great product</td>\n",
       "      <td>Amazing Powerful and Durable Gadget.\\n\\nI’m am...</td>\n",
       "    </tr>\n",
       "    <tr>\n",
       "      <th>7</th>\n",
       "      <td>4</td>\n",
       "      <td>Good choice</td>\n",
       "      <td>So far it’s been an AMAZING experience coming ...</td>\n",
       "    </tr>\n",
       "    <tr>\n",
       "      <th>8</th>\n",
       "      <td>5</td>\n",
       "      <td>Highly recommended</td>\n",
       "      <td>What a camera .....just awesome ..you can feel...</td>\n",
       "    </tr>\n",
       "    <tr>\n",
       "      <th>9</th>\n",
       "      <td>5</td>\n",
       "      <td>Worth every penny</td>\n",
       "      <td>i11 is worthy to buy, too much happy with the ...</td>\n",
       "    </tr>\n",
       "  </tbody>\n",
       "</table>\n",
       "</div>"
      ],
      "text/plain": [
       "  Ratings          Rating_tags  \\\n",
       "0       5            Brilliant   \n",
       "1       5       Simply awesome   \n",
       "2       5  Best in the market!   \n",
       "3       5     Perfect product!   \n",
       "4       5            Fabulous!   \n",
       "5       5    Worth every penny   \n",
       "6       5        Great product   \n",
       "7       4          Good choice   \n",
       "8       5   Highly recommended   \n",
       "9       5    Worth every penny   \n",
       "\n",
       "                                  Rating_Description  \n",
       "0  The Best Phone for the Money\\n\\nThe iPhone 11 ...  \n",
       "1  Really satisfied with the Product I received.....  \n",
       "2  Great iPhone very snappy experience as apple k...  \n",
       "3  Amazing phone with great cameras and better ba...  \n",
       "4  This is my first iOS phone. I am very happy wi...  \n",
       "5  Previously I was using one plus 3t it was a gr...  \n",
       "6  Amazing Powerful and Durable Gadget.\\n\\nI’m am...  \n",
       "7  So far it’s been an AMAZING experience coming ...  \n",
       "8  What a camera .....just awesome ..you can feel...  \n",
       "9  i11 is worthy to buy, too much happy with the ...  "
      ]
     },
     "execution_count": 323,
     "metadata": {},
     "output_type": "execute_result"
    }
   ],
   "source": [
    "review_5=pd.DataFrame()\n",
    "review_5['Ratings']=brand_Ratings\n",
    "review_5['Rating_tags']=tags\n",
    "review_5['Rating_Description']=review_description\n",
    "review_5"
   ]
  },
  {
   "cell_type": "code",
   "execution_count": 324,
   "metadata": {},
   "outputs": [],
   "source": [
    "next_pg=driver.find_element_by_xpath(\"/html/body/div[1]/div/div[3]/div/div/div[2]/div[13]/div/div/nav/a[7]\")\n",
    "next_pg.click()"
   ]
  },
  {
   "cell_type": "code",
   "execution_count": 325,
   "metadata": {},
   "outputs": [
    {
     "data": {
      "text/plain": [
       "10"
      ]
     },
     "execution_count": 325,
     "metadata": {},
     "output_type": "execute_result"
    }
   ],
   "source": [
    "##Extracting Rating \n",
    "brand_Rating_6=driver.find_elements_by_xpath(\"//div[@class='_3LWZlK _1BLPMq']\")\n",
    "len(brand_Rating_6)"
   ]
  },
  {
   "cell_type": "code",
   "execution_count": 326,
   "metadata": {
    "scrolled": true
   },
   "outputs": [
    {
     "data": {
      "text/plain": [
       "[<selenium.webdriver.remote.webelement.WebElement (session=\"cda0051eaaf40eb966fab3b55b4de9bb\", element=\"973303e4-9c13-4b2d-a4e3-6b95d882add4\")>,\n",
       " <selenium.webdriver.remote.webelement.WebElement (session=\"cda0051eaaf40eb966fab3b55b4de9bb\", element=\"98bba20f-0d43-4dad-992e-fa47c87ab8f3\")>,\n",
       " <selenium.webdriver.remote.webelement.WebElement (session=\"cda0051eaaf40eb966fab3b55b4de9bb\", element=\"ea0cc255-c697-4d5c-83c2-5898d7036026\")>,\n",
       " <selenium.webdriver.remote.webelement.WebElement (session=\"cda0051eaaf40eb966fab3b55b4de9bb\", element=\"2dbe20e2-a93a-4998-bd7a-6eb6cb8bab7e\")>,\n",
       " <selenium.webdriver.remote.webelement.WebElement (session=\"cda0051eaaf40eb966fab3b55b4de9bb\", element=\"4cc48820-7d3a-4f2b-97b1-8e3152a0de03\")>,\n",
       " <selenium.webdriver.remote.webelement.WebElement (session=\"cda0051eaaf40eb966fab3b55b4de9bb\", element=\"e2e5a64c-bf7c-48c8-a065-6d49021fd5b4\")>,\n",
       " <selenium.webdriver.remote.webelement.WebElement (session=\"cda0051eaaf40eb966fab3b55b4de9bb\", element=\"14b8e216-9861-4c59-b552-f2c6518aeaab\")>,\n",
       " <selenium.webdriver.remote.webelement.WebElement (session=\"cda0051eaaf40eb966fab3b55b4de9bb\", element=\"f7b1c6e6-7e4c-4f80-987c-453932ec387b\")>,\n",
       " <selenium.webdriver.remote.webelement.WebElement (session=\"cda0051eaaf40eb966fab3b55b4de9bb\", element=\"402ac97f-9bd5-464e-9861-66df113c75f3\")>,\n",
       " <selenium.webdriver.remote.webelement.WebElement (session=\"cda0051eaaf40eb966fab3b55b4de9bb\", element=\"e32f77be-7dad-4563-b57d-8189434f53d2\")>]"
      ]
     },
     "execution_count": 326,
     "metadata": {},
     "output_type": "execute_result"
    }
   ],
   "source": [
    "brand_Rating_6"
   ]
  },
  {
   "cell_type": "code",
   "execution_count": 327,
   "metadata": {},
   "outputs": [
    {
     "data": {
      "text/plain": [
       "['5', '5', '5', '5', '4', '5', '5', '5', '5', '5']"
      ]
     },
     "execution_count": 327,
     "metadata": {},
     "output_type": "execute_result"
    }
   ],
   "source": [
    "brand_Ratings_6=[]\n",
    "for i in brand_Rating_6:\n",
    "    brand_Ratings_6.append(i.text)\n",
    "len(brand_Ratings_6)\n",
    "brand_Ratings_6\n"
   ]
  },
  {
   "cell_type": "code",
   "execution_count": 328,
   "metadata": {},
   "outputs": [
    {
     "data": {
      "text/plain": [
       "10"
      ]
     },
     "execution_count": 328,
     "metadata": {},
     "output_type": "execute_result"
    }
   ],
   "source": [
    "##Extracting rating tags\n",
    "brand_Rating_tags_6=driver.find_elements_by_xpath(\"//p[@class='_2-N8zT']\")\n",
    "len(brand_Rating_tags_6)"
   ]
  },
  {
   "cell_type": "code",
   "execution_count": 329,
   "metadata": {
    "scrolled": true
   },
   "outputs": [
    {
     "data": {
      "text/plain": [
       "[<selenium.webdriver.remote.webelement.WebElement (session=\"cda0051eaaf40eb966fab3b55b4de9bb\", element=\"135af32f-9027-45fc-8637-c63a53b06039\")>,\n",
       " <selenium.webdriver.remote.webelement.WebElement (session=\"cda0051eaaf40eb966fab3b55b4de9bb\", element=\"0c1580a5-acf5-43a8-8e10-9b0ac7825a38\")>,\n",
       " <selenium.webdriver.remote.webelement.WebElement (session=\"cda0051eaaf40eb966fab3b55b4de9bb\", element=\"b1bbf8fa-5d68-4440-b2d0-5041b625b3c2\")>,\n",
       " <selenium.webdriver.remote.webelement.WebElement (session=\"cda0051eaaf40eb966fab3b55b4de9bb\", element=\"be60c4c5-4503-4571-bc35-61d8958181df\")>,\n",
       " <selenium.webdriver.remote.webelement.WebElement (session=\"cda0051eaaf40eb966fab3b55b4de9bb\", element=\"3de4fb9e-7fe3-4b1f-81ea-7f64a07e1e30\")>,\n",
       " <selenium.webdriver.remote.webelement.WebElement (session=\"cda0051eaaf40eb966fab3b55b4de9bb\", element=\"5eacf2b0-eda9-4787-b67c-7f5f1b50cfe6\")>,\n",
       " <selenium.webdriver.remote.webelement.WebElement (session=\"cda0051eaaf40eb966fab3b55b4de9bb\", element=\"f56c55e3-f846-4fe9-8d46-e1d827cc3b04\")>,\n",
       " <selenium.webdriver.remote.webelement.WebElement (session=\"cda0051eaaf40eb966fab3b55b4de9bb\", element=\"3baa32f2-6ee6-43bb-afd0-88d3cbe73c04\")>,\n",
       " <selenium.webdriver.remote.webelement.WebElement (session=\"cda0051eaaf40eb966fab3b55b4de9bb\", element=\"1826f030-262f-4dfa-8b4e-917558fe4293\")>,\n",
       " <selenium.webdriver.remote.webelement.WebElement (session=\"cda0051eaaf40eb966fab3b55b4de9bb\", element=\"35ecde29-66f0-4330-ab48-51c7571e02a8\")>]"
      ]
     },
     "execution_count": 329,
     "metadata": {},
     "output_type": "execute_result"
    }
   ],
   "source": [
    "brand_Rating_tags_6"
   ]
  },
  {
   "cell_type": "code",
   "execution_count": 330,
   "metadata": {},
   "outputs": [
    {
     "data": {
      "text/plain": [
       "['Wonderful',\n",
       " 'Classy product',\n",
       " 'Just wow!',\n",
       " 'Awesome',\n",
       " 'Pretty good',\n",
       " 'Terrific purchase',\n",
       " 'Awesome',\n",
       " 'Classy product',\n",
       " 'Brilliant',\n",
       " 'Terrific']"
      ]
     },
     "execution_count": 330,
     "metadata": {},
     "output_type": "execute_result"
    }
   ],
   "source": [
    "tags_6=[]\n",
    "for i in brand_Rating_tags_6:\n",
    "    tags_6.append(i.text)\n",
    "len(tags_6)\n",
    "tags_6"
   ]
  },
  {
   "cell_type": "code",
   "execution_count": 331,
   "metadata": {},
   "outputs": [
    {
     "data": {
      "text/plain": [
       "10"
      ]
     },
     "execution_count": 331,
     "metadata": {},
     "output_type": "execute_result"
    }
   ],
   "source": [
    "#### extracting review description \n",
    "brand_review_descp_6=driver.find_elements_by_xpath(\"//div[@class='t-ZTKy']\")\n",
    "len(brand_review_descp_6)"
   ]
  },
  {
   "cell_type": "code",
   "execution_count": 332,
   "metadata": {},
   "outputs": [
    {
     "data": {
      "text/plain": [
       "[<selenium.webdriver.remote.webelement.WebElement (session=\"cda0051eaaf40eb966fab3b55b4de9bb\", element=\"8fe76c71-1046-4112-9098-7ac739d82170\")>,\n",
       " <selenium.webdriver.remote.webelement.WebElement (session=\"cda0051eaaf40eb966fab3b55b4de9bb\", element=\"3a3e1445-5900-4dd3-af8b-c2162fbfbc7d\")>,\n",
       " <selenium.webdriver.remote.webelement.WebElement (session=\"cda0051eaaf40eb966fab3b55b4de9bb\", element=\"e8d1586c-49bd-4a5e-8e39-572a30c7bc83\")>,\n",
       " <selenium.webdriver.remote.webelement.WebElement (session=\"cda0051eaaf40eb966fab3b55b4de9bb\", element=\"03cece1d-140b-4754-8bc1-fbabb77d9116\")>,\n",
       " <selenium.webdriver.remote.webelement.WebElement (session=\"cda0051eaaf40eb966fab3b55b4de9bb\", element=\"cfa9a641-1b08-4ebe-98bc-15266053b6a9\")>,\n",
       " <selenium.webdriver.remote.webelement.WebElement (session=\"cda0051eaaf40eb966fab3b55b4de9bb\", element=\"c29346e2-4e0a-4960-9503-e7278a797df2\")>,\n",
       " <selenium.webdriver.remote.webelement.WebElement (session=\"cda0051eaaf40eb966fab3b55b4de9bb\", element=\"e51344e0-ab37-41da-a3df-6e5efd4d36cf\")>,\n",
       " <selenium.webdriver.remote.webelement.WebElement (session=\"cda0051eaaf40eb966fab3b55b4de9bb\", element=\"d659e4ee-36eb-4ce9-beaa-401c736f534d\")>,\n",
       " <selenium.webdriver.remote.webelement.WebElement (session=\"cda0051eaaf40eb966fab3b55b4de9bb\", element=\"62a9ee64-8384-47f7-bf88-5652e6fad97a\")>,\n",
       " <selenium.webdriver.remote.webelement.WebElement (session=\"cda0051eaaf40eb966fab3b55b4de9bb\", element=\"f2ea88bc-25ef-4423-be3c-2d6397800b4c\")>]"
      ]
     },
     "execution_count": 332,
     "metadata": {},
     "output_type": "execute_result"
    }
   ],
   "source": [
    "brand_review_descp_6"
   ]
  },
  {
   "cell_type": "code",
   "execution_count": 333,
   "metadata": {
    "scrolled": true
   },
   "outputs": [
    {
     "data": {
      "text/plain": [
       "['Super and marvellous phone look very cute and nice sound. I love this phone i think white is good colur.Excellent camer 5*😍😘♥️♥️',\n",
       " 'Well while switching from android to iOS the first thing you need to be careful about is that you will loose all your whatsapp chat backups as both are different operating systems. Camera clarity is awesome and though being an lcd screen clarity and resolution is good. Battery backup is also good unlike previous gen iPhone. So far the experience is good will Padre after a few months of usage.\\n\\nP.S the black is more of a dark grey shade and not jet black',\n",
       " 'Best in class. Battery backup is good especially when you play games like Pubg COD. But it is sort of heavy when you hold in hands. Portrait mode is best to click pictures. Stage light effect is awesome. Try to click photos outside in nature because photos inside home or room will not give you the quality in any phone even in DSLR.',\n",
       " 'Very excited to have this phone. This phone has the real power unlike the android phones having SD 855 . The battery life is very good and the camera quality is excellent as comapred to redmi and other phones except google pixel. I M enjoying every single bit of it. Would recommed only if you have the budget.',\n",
       " 'I was using Iphone 6s and also Oneplus 6t. Both mobiles were perfectly alright in Photos, gaming, and smooth interface . My 6s mobile getting battery issue. thought upgrade to 11. Really like this mobile of its Internal storage (compare to 6s) , camera and its touch feeling. Its a worth buying mobile for me.',\n",
       " 'Its Very awesome product working and good camera quality and all about best product and also flipkart is very great deal and offer nice price',\n",
       " 'I am using this phone for 5 days and its one of the best camera out there ❤️ the screen is not oled and i am coming from iphone xs so its little bit not up to the mark i would say\\nBut overall value for money💕😍the battery back up is far better than my iphone xs and its worth in my apple ecosystem💫❤️if u are an apple User and have the eco system then go for it❤️though i will be getting the new iphone but its pretty good💫',\n",
       " 'Best and amazing product.....phone looks so premium.... battary is also good as expected .... Wide angle camera is so addictive ...if you are a IOS lover....then this phone will be the best choice for you all!!💯🔥',\n",
       " 'Excellent camera and display touching very nice and smooth very improvement against iPhone XR and new processor is very fast',\n",
       " \"I got this beast today. And I must say the picture quality of its camera is awesome. Both the cameras works fine.\\n\\nAs for as the processing is concerned, it runs without any lag. You can play and do whatever you want without a glitch.\\n\\nThe battery runs for a day with medium and high workload.\\n\\nThe display is good and the speakers are working fine.\\n\\nThe earphones doesn't have any base and you can use it for calling mostly.\\n\\nThe charging time is approximately for 90 minutes for full charging...\\nREAD MORE\"]"
      ]
     },
     "execution_count": 333,
     "metadata": {},
     "output_type": "execute_result"
    }
   ],
   "source": [
    "review_description_6 =[]\n",
    "for i in brand_review_descp_6:\n",
    "    review_description_6.append(i.text)\n",
    "len(review_description_6)\n",
    "review_description_6"
   ]
  },
  {
   "cell_type": "code",
   "execution_count": 334,
   "metadata": {},
   "outputs": [
    {
     "data": {
      "text/html": [
       "<div>\n",
       "<style scoped>\n",
       "    .dataframe tbody tr th:only-of-type {\n",
       "        vertical-align: middle;\n",
       "    }\n",
       "\n",
       "    .dataframe tbody tr th {\n",
       "        vertical-align: top;\n",
       "    }\n",
       "\n",
       "    .dataframe thead th {\n",
       "        text-align: right;\n",
       "    }\n",
       "</style>\n",
       "<table border=\"1\" class=\"dataframe\">\n",
       "  <thead>\n",
       "    <tr style=\"text-align: right;\">\n",
       "      <th></th>\n",
       "      <th>Ratings</th>\n",
       "      <th>Rating_tags</th>\n",
       "      <th>Rating_Description</th>\n",
       "    </tr>\n",
       "  </thead>\n",
       "  <tbody>\n",
       "    <tr>\n",
       "      <th>0</th>\n",
       "      <td>5</td>\n",
       "      <td>Brilliant</td>\n",
       "      <td>The Best Phone for the Money\\n\\nThe iPhone 11 ...</td>\n",
       "    </tr>\n",
       "    <tr>\n",
       "      <th>1</th>\n",
       "      <td>5</td>\n",
       "      <td>Simply awesome</td>\n",
       "      <td>Really satisfied with the Product I received.....</td>\n",
       "    </tr>\n",
       "    <tr>\n",
       "      <th>2</th>\n",
       "      <td>5</td>\n",
       "      <td>Best in the market!</td>\n",
       "      <td>Great iPhone very snappy experience as apple k...</td>\n",
       "    </tr>\n",
       "    <tr>\n",
       "      <th>3</th>\n",
       "      <td>5</td>\n",
       "      <td>Perfect product!</td>\n",
       "      <td>Amazing phone with great cameras and better ba...</td>\n",
       "    </tr>\n",
       "    <tr>\n",
       "      <th>4</th>\n",
       "      <td>5</td>\n",
       "      <td>Fabulous!</td>\n",
       "      <td>This is my first iOS phone. I am very happy wi...</td>\n",
       "    </tr>\n",
       "    <tr>\n",
       "      <th>5</th>\n",
       "      <td>5</td>\n",
       "      <td>Worth every penny</td>\n",
       "      <td>Previously I was using one plus 3t it was a gr...</td>\n",
       "    </tr>\n",
       "    <tr>\n",
       "      <th>6</th>\n",
       "      <td>5</td>\n",
       "      <td>Great product</td>\n",
       "      <td>Amazing Powerful and Durable Gadget.\\n\\nI’m am...</td>\n",
       "    </tr>\n",
       "    <tr>\n",
       "      <th>7</th>\n",
       "      <td>4</td>\n",
       "      <td>Good choice</td>\n",
       "      <td>So far it’s been an AMAZING experience coming ...</td>\n",
       "    </tr>\n",
       "    <tr>\n",
       "      <th>8</th>\n",
       "      <td>5</td>\n",
       "      <td>Highly recommended</td>\n",
       "      <td>What a camera .....just awesome ..you can feel...</td>\n",
       "    </tr>\n",
       "    <tr>\n",
       "      <th>9</th>\n",
       "      <td>5</td>\n",
       "      <td>Worth every penny</td>\n",
       "      <td>i11 is worthy to buy, too much happy with the ...</td>\n",
       "    </tr>\n",
       "  </tbody>\n",
       "</table>\n",
       "</div>"
      ],
      "text/plain": [
       "  Ratings          Rating_tags  \\\n",
       "0       5            Brilliant   \n",
       "1       5       Simply awesome   \n",
       "2       5  Best in the market!   \n",
       "3       5     Perfect product!   \n",
       "4       5            Fabulous!   \n",
       "5       5    Worth every penny   \n",
       "6       5        Great product   \n",
       "7       4          Good choice   \n",
       "8       5   Highly recommended   \n",
       "9       5    Worth every penny   \n",
       "\n",
       "                                  Rating_Description  \n",
       "0  The Best Phone for the Money\\n\\nThe iPhone 11 ...  \n",
       "1  Really satisfied with the Product I received.....  \n",
       "2  Great iPhone very snappy experience as apple k...  \n",
       "3  Amazing phone with great cameras and better ba...  \n",
       "4  This is my first iOS phone. I am very happy wi...  \n",
       "5  Previously I was using one plus 3t it was a gr...  \n",
       "6  Amazing Powerful and Durable Gadget.\\n\\nI’m am...  \n",
       "7  So far it’s been an AMAZING experience coming ...  \n",
       "8  What a camera .....just awesome ..you can feel...  \n",
       "9  i11 is worthy to buy, too much happy with the ...  "
      ]
     },
     "execution_count": 334,
     "metadata": {},
     "output_type": "execute_result"
    }
   ],
   "source": [
    "review_6=pd.DataFrame()\n",
    "review_6['Ratings']=brand_Ratings\n",
    "review_6['Rating_tags']=tags\n",
    "review_6['Rating_Description']=review_description\n",
    "review_6"
   ]
  },
  {
   "cell_type": "code",
   "execution_count": 335,
   "metadata": {},
   "outputs": [],
   "source": [
    "next_pg=driver.find_element_by_xpath(\"/html/body/div[1]/div/div[3]/div/div/div[2]/div[13]/div/div/nav/a[7]\")\n",
    "next_pg.click()"
   ]
  },
  {
   "cell_type": "code",
   "execution_count": 339,
   "metadata": {},
   "outputs": [
    {
     "data": {
      "text/plain": [
       "9"
      ]
     },
     "execution_count": 339,
     "metadata": {},
     "output_type": "execute_result"
    }
   ],
   "source": [
    "##Extracting Rating \n",
    "brand_Rating_7=driver.find_elements_by_xpath(\"//div[@class='_3LWZlK _1BLPMq']\")\n",
    "len(brand_Rating_7)"
   ]
  },
  {
   "cell_type": "code",
   "execution_count": 340,
   "metadata": {},
   "outputs": [
    {
     "data": {
      "text/plain": [
       "[<selenium.webdriver.remote.webelement.WebElement (session=\"cda0051eaaf40eb966fab3b55b4de9bb\", element=\"ee034e94-c08a-4809-b59f-b25ed494d52f\")>,\n",
       " <selenium.webdriver.remote.webelement.WebElement (session=\"cda0051eaaf40eb966fab3b55b4de9bb\", element=\"9854693a-35aa-46ed-9043-e64ee0174981\")>,\n",
       " <selenium.webdriver.remote.webelement.WebElement (session=\"cda0051eaaf40eb966fab3b55b4de9bb\", element=\"6895e5cf-f06a-460b-ae94-324f783304a6\")>,\n",
       " <selenium.webdriver.remote.webelement.WebElement (session=\"cda0051eaaf40eb966fab3b55b4de9bb\", element=\"e936cabf-a0b5-45c2-9de4-7edca740fcec\")>,\n",
       " <selenium.webdriver.remote.webelement.WebElement (session=\"cda0051eaaf40eb966fab3b55b4de9bb\", element=\"78ba324f-a642-458d-a7fd-b6e9d7ba215e\")>,\n",
       " <selenium.webdriver.remote.webelement.WebElement (session=\"cda0051eaaf40eb966fab3b55b4de9bb\", element=\"dd82a945-bb4c-46f4-84cb-4f161d903195\")>,\n",
       " <selenium.webdriver.remote.webelement.WebElement (session=\"cda0051eaaf40eb966fab3b55b4de9bb\", element=\"8dd768a0-b15f-4b0c-ba95-48e498b42cbe\")>,\n",
       " <selenium.webdriver.remote.webelement.WebElement (session=\"cda0051eaaf40eb966fab3b55b4de9bb\", element=\"112d9708-6aa6-4139-875b-c3b3d3b14231\")>,\n",
       " <selenium.webdriver.remote.webelement.WebElement (session=\"cda0051eaaf40eb966fab3b55b4de9bb\", element=\"82f3eb9f-193e-4589-9a72-66c83b0a595a\")>]"
      ]
     },
     "execution_count": 340,
     "metadata": {},
     "output_type": "execute_result"
    }
   ],
   "source": [
    "brand_Rating_7"
   ]
  },
  {
   "cell_type": "code",
   "execution_count": 341,
   "metadata": {},
   "outputs": [
    {
     "data": {
      "text/plain": [
       "['5', '5', '5', '5', '5', '5', '5', '4', '5']"
      ]
     },
     "execution_count": 341,
     "metadata": {},
     "output_type": "execute_result"
    }
   ],
   "source": [
    "brand_Ratings_7=[]\n",
    "for i in brand_Rating_7:\n",
    "    brand_Ratings_7.append(i.text)\n",
    "len(brand_Ratings_7)\n",
    "brand_Ratings_7\n"
   ]
  },
  {
   "cell_type": "code",
   "execution_count": 342,
   "metadata": {},
   "outputs": [
    {
     "data": {
      "text/plain": [
       "10"
      ]
     },
     "execution_count": 342,
     "metadata": {},
     "output_type": "execute_result"
    }
   ],
   "source": [
    "##Extracting rating tags\n",
    "brand_Rating_tags_7=driver.find_elements_by_xpath(\"//p[@class='_2-N8zT']\")\n",
    "len(brand_Rating_tags_7)"
   ]
  },
  {
   "cell_type": "code",
   "execution_count": 343,
   "metadata": {
    "scrolled": true
   },
   "outputs": [
    {
     "data": {
      "text/plain": [
       "[<selenium.webdriver.remote.webelement.WebElement (session=\"cda0051eaaf40eb966fab3b55b4de9bb\", element=\"751cf44a-4417-47f2-8992-d2c1ec90dc62\")>,\n",
       " <selenium.webdriver.remote.webelement.WebElement (session=\"cda0051eaaf40eb966fab3b55b4de9bb\", element=\"bdcd7a03-f849-4f8f-83db-8702918bfa09\")>,\n",
       " <selenium.webdriver.remote.webelement.WebElement (session=\"cda0051eaaf40eb966fab3b55b4de9bb\", element=\"45253f00-219b-4c68-909b-d03e64a5b6d0\")>,\n",
       " <selenium.webdriver.remote.webelement.WebElement (session=\"cda0051eaaf40eb966fab3b55b4de9bb\", element=\"ab1f2450-3718-4d50-8729-787a8a2dd5e5\")>,\n",
       " <selenium.webdriver.remote.webelement.WebElement (session=\"cda0051eaaf40eb966fab3b55b4de9bb\", element=\"a4655dfc-1479-4ef8-b8a5-a7b439d1fa10\")>,\n",
       " <selenium.webdriver.remote.webelement.WebElement (session=\"cda0051eaaf40eb966fab3b55b4de9bb\", element=\"16ca82a6-15d4-4084-af92-a18fac2ef531\")>,\n",
       " <selenium.webdriver.remote.webelement.WebElement (session=\"cda0051eaaf40eb966fab3b55b4de9bb\", element=\"72e8f49f-bfc6-47d4-b599-520c544f1d54\")>,\n",
       " <selenium.webdriver.remote.webelement.WebElement (session=\"cda0051eaaf40eb966fab3b55b4de9bb\", element=\"3712ef10-07c3-46ba-a496-ed5e977f9c74\")>,\n",
       " <selenium.webdriver.remote.webelement.WebElement (session=\"cda0051eaaf40eb966fab3b55b4de9bb\", element=\"739fe304-427f-4c2e-a0b2-63259548ddb5\")>,\n",
       " <selenium.webdriver.remote.webelement.WebElement (session=\"cda0051eaaf40eb966fab3b55b4de9bb\", element=\"8d06a809-e590-4a89-9c57-9f0315f4eb27\")>]"
      ]
     },
     "execution_count": 343,
     "metadata": {},
     "output_type": "execute_result"
    }
   ],
   "source": [
    "brand_Rating_tags_7"
   ]
  },
  {
   "cell_type": "code",
   "execution_count": 344,
   "metadata": {},
   "outputs": [
    {
     "data": {
      "text/plain": [
       "['Perfect product!',\n",
       " 'Awesome',\n",
       " 'Perfect product!',\n",
       " 'Highly recommended',\n",
       " 'Very poor',\n",
       " 'Fabulous!',\n",
       " 'Excellent',\n",
       " 'Must buy!',\n",
       " 'Value-for-money',\n",
       " 'Best in the market!']"
      ]
     },
     "execution_count": 344,
     "metadata": {},
     "output_type": "execute_result"
    }
   ],
   "source": [
    "tags_7=[]\n",
    "for i in brand_Rating_tags_7:\n",
    "    tags_7.append(i.text)\n",
    "len(tags_7)\n",
    "tags_7"
   ]
  },
  {
   "cell_type": "code",
   "execution_count": 345,
   "metadata": {},
   "outputs": [
    {
     "data": {
      "text/plain": [
       "10"
      ]
     },
     "execution_count": 345,
     "metadata": {},
     "output_type": "execute_result"
    }
   ],
   "source": [
    "#### extracting review description \n",
    "brand_review_descp_7=driver.find_elements_by_xpath(\"//div[@class='t-ZTKy']\")\n",
    "len(brand_review_descp_7)"
   ]
  },
  {
   "cell_type": "code",
   "execution_count": 346,
   "metadata": {},
   "outputs": [
    {
     "data": {
      "text/plain": [
       "[<selenium.webdriver.remote.webelement.WebElement (session=\"cda0051eaaf40eb966fab3b55b4de9bb\", element=\"8e8e29fd-6e14-4ac9-b0a3-ef401ef879dd\")>,\n",
       " <selenium.webdriver.remote.webelement.WebElement (session=\"cda0051eaaf40eb966fab3b55b4de9bb\", element=\"cb41f2b6-f77e-4efc-9cc6-8a4236237c8d\")>,\n",
       " <selenium.webdriver.remote.webelement.WebElement (session=\"cda0051eaaf40eb966fab3b55b4de9bb\", element=\"56bb79c9-4b76-4870-86d7-a635014a79b6\")>,\n",
       " <selenium.webdriver.remote.webelement.WebElement (session=\"cda0051eaaf40eb966fab3b55b4de9bb\", element=\"a39889a4-7176-4b52-ab19-e8182cf9edde\")>,\n",
       " <selenium.webdriver.remote.webelement.WebElement (session=\"cda0051eaaf40eb966fab3b55b4de9bb\", element=\"a92f56ea-de1e-4dbf-9ff0-dd3acaec43c9\")>,\n",
       " <selenium.webdriver.remote.webelement.WebElement (session=\"cda0051eaaf40eb966fab3b55b4de9bb\", element=\"9b3f2521-4b0e-4983-b82e-0327f8e95569\")>,\n",
       " <selenium.webdriver.remote.webelement.WebElement (session=\"cda0051eaaf40eb966fab3b55b4de9bb\", element=\"9da7e2ce-2026-4bd6-812f-86b158f02c5b\")>,\n",
       " <selenium.webdriver.remote.webelement.WebElement (session=\"cda0051eaaf40eb966fab3b55b4de9bb\", element=\"f09f8cb9-9b90-4865-9303-7569f08977ab\")>,\n",
       " <selenium.webdriver.remote.webelement.WebElement (session=\"cda0051eaaf40eb966fab3b55b4de9bb\", element=\"38acad33-e942-4db5-b0af-39b5173bcfd3\")>,\n",
       " <selenium.webdriver.remote.webelement.WebElement (session=\"cda0051eaaf40eb966fab3b55b4de9bb\", element=\"a9d61bda-d458-4724-9590-b901040b6777\")>]"
      ]
     },
     "execution_count": 346,
     "metadata": {},
     "output_type": "execute_result"
    }
   ],
   "source": [
    "brand_review_descp_7"
   ]
  },
  {
   "cell_type": "code",
   "execution_count": 347,
   "metadata": {
    "scrolled": true
   },
   "outputs": [
    {
     "data": {
      "text/plain": [
       "['Awesome purchase. Amazing phone with good battery backup. It’s a top notch device. White colour looks amazing. Phone has a few extra feature than iPhone XR. Overall, this is value for money',\n",
       " 'Always love the apple products, upgraded from old iPhone 6S plus to this after having my first baby. I just love to click baby’s photos with it. Overall I just love this phone. Battery back up is okay, sound quality is good. Haven’t tested yet waterproof yet. Only one thing I hate is apple could have given charger & headphones in box.',\n",
       " 'Value for money\\n5 star rating\\nExcellent camera\\nBattery backup full day in single charge.\\n\\nTougher and water resistant design, glossy back.\\nThe screen has excellent brightness and contrast.\\nApple A13 Bionic is the fastest smartphone chip on the planet.\\nExcellent battery life, fast charging support.\\nStereo speakers with great quality.',\n",
       " 'Thanks Flipkart For this amazing deal! I had a dream of owning a iphone since i had known about.\\nIm very happy with my purchase & it is totally worth it.\\nAmazing experience all over !!\\n\\nAnyone who’s thinking of buying it in 2021, i would simply say go for it without any second thoughts ❤️',\n",
       " 'Please DONT buy from here,\\n\\nI purchased Apple iPhone 11. with an exchange of IPhone 7, the exchange did not go well, iPhone 7 had a small scratch out side screen which i could never identify till date, but the FLIPKART person could, so he reduced 50% from exchange rate. I decided not to trade in, but paid money.\\n\\niPhone 11 Detail Below\\n---------------------------------------------\\nIt came with no charging, then i have put for charging, it took lot of time for charging, the phone also showe...\\nREAD MORE',\n",
       " 'awesome phone to have. it has got many smart features apart from mind blowing looks, camera, display, battery and sound. have fallen in love with this phone. must buy phone if you have got enough money. thanks to flipkart and apple of course..',\n",
       " 'Its a fabulous mobile look awesome performance unbeaten camera like dslr battery good i think this is a beast of mobile',\n",
       " 'Dear friends... I want to share my experience with you about this amazing I phone 11....this is my first iPhone and special things about this mobile is it has great camera, battery backup and awesome display.... I mean everything is perfect.loved it 👍👍👍',\n",
       " \"Just got this iphone 11\\nAnd it is most powerful mobile phone I have used ever\\n\\nSo,go for it if you want a phone with best specification like camera,battery backup,display, A13 bionic chip\\n\\nThat's my review about this phone but yours can be differ from me....\",\n",
       " \"The best all rounder iphone. Flipkart is doing a great job. They're delivery services are blazing fast. I got delivery on the same day. Genuine Apple Product. Working great. Talking about review There's no need of review for iphones. They're simply the best.\"]"
      ]
     },
     "execution_count": 347,
     "metadata": {},
     "output_type": "execute_result"
    }
   ],
   "source": [
    "review_description_7=[]\n",
    "for i in brand_review_descp_7:\n",
    "    review_description_7.append(i.text)\n",
    "len(review_description_7)\n",
    "review_description_7"
   ]
  },
  {
   "cell_type": "code",
   "execution_count": 348,
   "metadata": {},
   "outputs": [
    {
     "data": {
      "text/html": [
       "<div>\n",
       "<style scoped>\n",
       "    .dataframe tbody tr th:only-of-type {\n",
       "        vertical-align: middle;\n",
       "    }\n",
       "\n",
       "    .dataframe tbody tr th {\n",
       "        vertical-align: top;\n",
       "    }\n",
       "\n",
       "    .dataframe thead th {\n",
       "        text-align: right;\n",
       "    }\n",
       "</style>\n",
       "<table border=\"1\" class=\"dataframe\">\n",
       "  <thead>\n",
       "    <tr style=\"text-align: right;\">\n",
       "      <th></th>\n",
       "      <th>Ratings</th>\n",
       "      <th>Rating_tags</th>\n",
       "      <th>Rating_Description</th>\n",
       "    </tr>\n",
       "  </thead>\n",
       "  <tbody>\n",
       "    <tr>\n",
       "      <th>0</th>\n",
       "      <td>5</td>\n",
       "      <td>Brilliant</td>\n",
       "      <td>The Best Phone for the Money\\n\\nThe iPhone 11 ...</td>\n",
       "    </tr>\n",
       "    <tr>\n",
       "      <th>1</th>\n",
       "      <td>5</td>\n",
       "      <td>Simply awesome</td>\n",
       "      <td>Really satisfied with the Product I received.....</td>\n",
       "    </tr>\n",
       "    <tr>\n",
       "      <th>2</th>\n",
       "      <td>5</td>\n",
       "      <td>Best in the market!</td>\n",
       "      <td>Great iPhone very snappy experience as apple k...</td>\n",
       "    </tr>\n",
       "    <tr>\n",
       "      <th>3</th>\n",
       "      <td>5</td>\n",
       "      <td>Perfect product!</td>\n",
       "      <td>Amazing phone with great cameras and better ba...</td>\n",
       "    </tr>\n",
       "    <tr>\n",
       "      <th>4</th>\n",
       "      <td>5</td>\n",
       "      <td>Fabulous!</td>\n",
       "      <td>This is my first iOS phone. I am very happy wi...</td>\n",
       "    </tr>\n",
       "    <tr>\n",
       "      <th>5</th>\n",
       "      <td>5</td>\n",
       "      <td>Worth every penny</td>\n",
       "      <td>Previously I was using one plus 3t it was a gr...</td>\n",
       "    </tr>\n",
       "    <tr>\n",
       "      <th>6</th>\n",
       "      <td>5</td>\n",
       "      <td>Great product</td>\n",
       "      <td>Amazing Powerful and Durable Gadget.\\n\\nI’m am...</td>\n",
       "    </tr>\n",
       "    <tr>\n",
       "      <th>7</th>\n",
       "      <td>4</td>\n",
       "      <td>Good choice</td>\n",
       "      <td>So far it’s been an AMAZING experience coming ...</td>\n",
       "    </tr>\n",
       "    <tr>\n",
       "      <th>8</th>\n",
       "      <td>5</td>\n",
       "      <td>Highly recommended</td>\n",
       "      <td>What a camera .....just awesome ..you can feel...</td>\n",
       "    </tr>\n",
       "    <tr>\n",
       "      <th>9</th>\n",
       "      <td>5</td>\n",
       "      <td>Worth every penny</td>\n",
       "      <td>i11 is worthy to buy, too much happy with the ...</td>\n",
       "    </tr>\n",
       "  </tbody>\n",
       "</table>\n",
       "</div>"
      ],
      "text/plain": [
       "  Ratings          Rating_tags  \\\n",
       "0       5            Brilliant   \n",
       "1       5       Simply awesome   \n",
       "2       5  Best in the market!   \n",
       "3       5     Perfect product!   \n",
       "4       5            Fabulous!   \n",
       "5       5    Worth every penny   \n",
       "6       5        Great product   \n",
       "7       4          Good choice   \n",
       "8       5   Highly recommended   \n",
       "9       5    Worth every penny   \n",
       "\n",
       "                                  Rating_Description  \n",
       "0  The Best Phone for the Money\\n\\nThe iPhone 11 ...  \n",
       "1  Really satisfied with the Product I received.....  \n",
       "2  Great iPhone very snappy experience as apple k...  \n",
       "3  Amazing phone with great cameras and better ba...  \n",
       "4  This is my first iOS phone. I am very happy wi...  \n",
       "5  Previously I was using one plus 3t it was a gr...  \n",
       "6  Amazing Powerful and Durable Gadget.\\n\\nI’m am...  \n",
       "7  So far it’s been an AMAZING experience coming ...  \n",
       "8  What a camera .....just awesome ..you can feel...  \n",
       "9  i11 is worthy to buy, too much happy with the ...  "
      ]
     },
     "execution_count": 348,
     "metadata": {},
     "output_type": "execute_result"
    }
   ],
   "source": [
    "review_7=pd.DataFrame()\n",
    "review_7['Ratings']=brand_Ratings\n",
    "review_7['Rating_tags']=tags\n",
    "review_7['Rating_Description']=review_description\n",
    "review_7"
   ]
  },
  {
   "cell_type": "code",
   "execution_count": 349,
   "metadata": {},
   "outputs": [],
   "source": [
    "next_pg=driver.find_element_by_xpath(\"/html/body/div[1]/div/div[3]/div/div/div[2]/div[13]/div/div/nav/a[7]\")\n",
    "next_pg.click()"
   ]
  },
  {
   "cell_type": "code",
   "execution_count": 350,
   "metadata": {},
   "outputs": [
    {
     "data": {
      "text/plain": [
       "9"
      ]
     },
     "execution_count": 350,
     "metadata": {},
     "output_type": "execute_result"
    }
   ],
   "source": [
    "##Extracting Rating \n",
    "brand_Rating_8=driver.find_elements_by_xpath(\"//div[@class='_3LWZlK _1BLPMq']\")\n",
    "len(brand_Rating_8)"
   ]
  },
  {
   "cell_type": "code",
   "execution_count": 351,
   "metadata": {
    "scrolled": true
   },
   "outputs": [
    {
     "data": {
      "text/plain": [
       "[<selenium.webdriver.remote.webelement.WebElement (session=\"cda0051eaaf40eb966fab3b55b4de9bb\", element=\"20e28912-0003-47f8-9c75-015186f446d6\")>,\n",
       " <selenium.webdriver.remote.webelement.WebElement (session=\"cda0051eaaf40eb966fab3b55b4de9bb\", element=\"026a340f-794c-4c51-9adf-b31ab5a361e1\")>,\n",
       " <selenium.webdriver.remote.webelement.WebElement (session=\"cda0051eaaf40eb966fab3b55b4de9bb\", element=\"43fadfca-2958-482b-83c3-dcfd79b40edc\")>,\n",
       " <selenium.webdriver.remote.webelement.WebElement (session=\"cda0051eaaf40eb966fab3b55b4de9bb\", element=\"7e38ef3b-48a5-4b6b-8e07-19cf25b927b1\")>,\n",
       " <selenium.webdriver.remote.webelement.WebElement (session=\"cda0051eaaf40eb966fab3b55b4de9bb\", element=\"2fe9d169-cf15-44b1-bbf3-8ca611dff8c3\")>,\n",
       " <selenium.webdriver.remote.webelement.WebElement (session=\"cda0051eaaf40eb966fab3b55b4de9bb\", element=\"641df9f5-16a1-43df-9ac9-7cac84c4684a\")>,\n",
       " <selenium.webdriver.remote.webelement.WebElement (session=\"cda0051eaaf40eb966fab3b55b4de9bb\", element=\"34db20e1-b1fa-46dd-94ba-69562803df11\")>,\n",
       " <selenium.webdriver.remote.webelement.WebElement (session=\"cda0051eaaf40eb966fab3b55b4de9bb\", element=\"388c6262-1a3c-401a-938d-4cd9f09c0dc5\")>,\n",
       " <selenium.webdriver.remote.webelement.WebElement (session=\"cda0051eaaf40eb966fab3b55b4de9bb\", element=\"0243d306-3b27-4b2c-8b8c-3d6a886f68df\")>]"
      ]
     },
     "execution_count": 351,
     "metadata": {},
     "output_type": "execute_result"
    }
   ],
   "source": [
    "brand_Rating_8"
   ]
  },
  {
   "cell_type": "code",
   "execution_count": 352,
   "metadata": {},
   "outputs": [
    {
     "data": {
      "text/plain": [
       "['5', '5', '4', '5', '5', '5', '4', '5', '5']"
      ]
     },
     "execution_count": 352,
     "metadata": {},
     "output_type": "execute_result"
    }
   ],
   "source": [
    "brand_Ratings_8=[]\n",
    "for i in brand_Rating_8:\n",
    "    brand_Ratings_8.append(i.text)\n",
    "len(brand_Ratings_8)\n",
    "brand_Ratings_8\n"
   ]
  },
  {
   "cell_type": "code",
   "execution_count": 353,
   "metadata": {},
   "outputs": [
    {
     "data": {
      "text/plain": [
       "10"
      ]
     },
     "execution_count": 353,
     "metadata": {},
     "output_type": "execute_result"
    }
   ],
   "source": [
    "##Extracting rating tags\n",
    "brand_Rating_tags_8=driver.find_elements_by_xpath(\"//p[@class='_2-N8zT']\")\n",
    "len(brand_Rating_tags_8)"
   ]
  },
  {
   "cell_type": "code",
   "execution_count": 354,
   "metadata": {
    "scrolled": true
   },
   "outputs": [
    {
     "data": {
      "text/plain": [
       "[<selenium.webdriver.remote.webelement.WebElement (session=\"cda0051eaaf40eb966fab3b55b4de9bb\", element=\"cf30316d-4197-416b-878e-385b3dc77e48\")>,\n",
       " <selenium.webdriver.remote.webelement.WebElement (session=\"cda0051eaaf40eb966fab3b55b4de9bb\", element=\"44329066-e9e5-4130-9178-935a4a461eaf\")>,\n",
       " <selenium.webdriver.remote.webelement.WebElement (session=\"cda0051eaaf40eb966fab3b55b4de9bb\", element=\"a2f4a38c-8d76-4086-a62e-964ac4a5f2dd\")>,\n",
       " <selenium.webdriver.remote.webelement.WebElement (session=\"cda0051eaaf40eb966fab3b55b4de9bb\", element=\"a5091f52-c706-403a-b51b-d1d53dad6774\")>,\n",
       " <selenium.webdriver.remote.webelement.WebElement (session=\"cda0051eaaf40eb966fab3b55b4de9bb\", element=\"b844c430-c420-4554-976c-a60c4caa50e4\")>,\n",
       " <selenium.webdriver.remote.webelement.WebElement (session=\"cda0051eaaf40eb966fab3b55b4de9bb\", element=\"9ea578c1-ef7b-4909-a43a-f93e6801e59c\")>,\n",
       " <selenium.webdriver.remote.webelement.WebElement (session=\"cda0051eaaf40eb966fab3b55b4de9bb\", element=\"45dc0c18-ddb8-44db-8ce6-60126633ca6c\")>,\n",
       " <selenium.webdriver.remote.webelement.WebElement (session=\"cda0051eaaf40eb966fab3b55b4de9bb\", element=\"9ded837f-0bc8-4586-8da8-f74ab824553e\")>,\n",
       " <selenium.webdriver.remote.webelement.WebElement (session=\"cda0051eaaf40eb966fab3b55b4de9bb\", element=\"d656eb28-9d79-4ce3-94c4-e1ca18f49697\")>,\n",
       " <selenium.webdriver.remote.webelement.WebElement (session=\"cda0051eaaf40eb966fab3b55b4de9bb\", element=\"00f842c5-0ab6-4a0c-ba44-3767a688a424\")>]"
      ]
     },
     "execution_count": 354,
     "metadata": {},
     "output_type": "execute_result"
    }
   ],
   "source": [
    "brand_Rating_tags_8"
   ]
  },
  {
   "cell_type": "code",
   "execution_count": 355,
   "metadata": {},
   "outputs": [
    {
     "data": {
      "text/plain": [
       "['Brilliant',\n",
       " 'Terrific purchase',\n",
       " 'Good quality product',\n",
       " 'Best in the market!',\n",
       " 'Perfect product!',\n",
       " 'Awesome',\n",
       " 'Value-for-money',\n",
       " 'Worthless',\n",
       " 'Super!',\n",
       " 'Mind-blowing purchase']"
      ]
     },
     "execution_count": 355,
     "metadata": {},
     "output_type": "execute_result"
    }
   ],
   "source": [
    "tags_8=[]\n",
    "for i in brand_Rating_tags_8:\n",
    "    tags_8.append(i.text)\n",
    "len(tags_8)\n",
    "tags_8"
   ]
  },
  {
   "cell_type": "code",
   "execution_count": 356,
   "metadata": {},
   "outputs": [
    {
     "data": {
      "text/plain": [
       "10"
      ]
     },
     "execution_count": 356,
     "metadata": {},
     "output_type": "execute_result"
    }
   ],
   "source": [
    "#### extracting review description \n",
    "brand_review_descp_8=driver.find_elements_by_xpath(\"//div[@class='t-ZTKy']\")\n",
    "len(brand_review_descp_8)"
   ]
  },
  {
   "cell_type": "code",
   "execution_count": 357,
   "metadata": {
    "scrolled": true
   },
   "outputs": [
    {
     "data": {
      "text/plain": [
       "[<selenium.webdriver.remote.webelement.WebElement (session=\"cda0051eaaf40eb966fab3b55b4de9bb\", element=\"8235d394-597e-496e-8470-17c17e574d92\")>,\n",
       " <selenium.webdriver.remote.webelement.WebElement (session=\"cda0051eaaf40eb966fab3b55b4de9bb\", element=\"7c53fdef-c6e8-4211-91c7-5744a3c9d0f2\")>,\n",
       " <selenium.webdriver.remote.webelement.WebElement (session=\"cda0051eaaf40eb966fab3b55b4de9bb\", element=\"4e0e7e08-aa4d-45d1-9fb5-5b22df517ea1\")>,\n",
       " <selenium.webdriver.remote.webelement.WebElement (session=\"cda0051eaaf40eb966fab3b55b4de9bb\", element=\"0517ee0b-ff77-4678-81b0-a08f81378fa5\")>,\n",
       " <selenium.webdriver.remote.webelement.WebElement (session=\"cda0051eaaf40eb966fab3b55b4de9bb\", element=\"6decf0b1-097f-4d2c-9572-5892f83b8e23\")>,\n",
       " <selenium.webdriver.remote.webelement.WebElement (session=\"cda0051eaaf40eb966fab3b55b4de9bb\", element=\"040e4562-aba2-4529-95d0-fcf9f7941181\")>,\n",
       " <selenium.webdriver.remote.webelement.WebElement (session=\"cda0051eaaf40eb966fab3b55b4de9bb\", element=\"190e3aed-c79c-416f-a71f-37add91161a1\")>,\n",
       " <selenium.webdriver.remote.webelement.WebElement (session=\"cda0051eaaf40eb966fab3b55b4de9bb\", element=\"d24c2106-4da1-42f6-b971-72e756d63c54\")>,\n",
       " <selenium.webdriver.remote.webelement.WebElement (session=\"cda0051eaaf40eb966fab3b55b4de9bb\", element=\"998d5c17-e7ae-4c74-8497-abf3d5309195\")>,\n",
       " <selenium.webdriver.remote.webelement.WebElement (session=\"cda0051eaaf40eb966fab3b55b4de9bb\", element=\"5b6316d6-e6ab-4807-b20a-321381ab68d2\")>]"
      ]
     },
     "execution_count": 357,
     "metadata": {},
     "output_type": "execute_result"
    }
   ],
   "source": [
    "brand_review_descp_8"
   ]
  },
  {
   "cell_type": "code",
   "execution_count": 359,
   "metadata": {
    "scrolled": true
   },
   "outputs": [
    {
     "data": {
      "text/plain": [
       "['Amazing phone and on great deal I received with super fast delivery by Flipkart...',\n",
       " 'finally an iPhone with very nice battery backup. update from iPhone 7 and happy to have it. camera is not up to the mark in low light but overall a recommended phone if your budget allows 😀',\n",
       " \"I'm switching this phone to oppo reno 10x zoom\\nIt's really impressive\\nRarely I'm missing smooth display touch response like oppo reno but\\nI really loved it.\\nCamera really impressive\",\n",
       " 'Damn this phone is a blast . Upgraded from android to ios and is a duperb experience. Battery backup is top notch and display also pretty good',\n",
       " 'Worth the money’ starting first from its performance it beats out all phones , second the smoothness of camera is awesome, contrast ratio is much than expected. Price will not matter if u r a quality person, if not other phones are available with better discount',\n",
       " 'I dreamt about this day from a long time.... Getting an iPhone with my own money.... Super happy and worth spending every penny',\n",
       " \"I'm Really happy with the product\\nDelivery was fast as well\\n..it was a gift for my sister and she loved it so much.\",\n",
       " \"Phone is awesome no doubt. But Camera & Display is not great. Performance is mind blowing.\\nBut the phone is heating too much when charging or when you regularly used. It's experience after using 1 week. It's heating extrem when I play PUBG for 30 minutes.\\nGo for iPhone 11 pro or 12. Otherwise go for Android phone you will get much better phone in less price.\",\n",
       " 'Did an upgrade from 6s plus to iphone 11.\\nAo far the experience is well and good. Felt smoother than 6s plus. The camera quality is superb. Battery backup is descent. Not a heavy user, and gets power more than a day. Go for it if you need an alrounder iphone in a competitve price.',\n",
       " 'First thanks to Flipkart for this amazing deal and phone is outstanding. I upgraded from iPhone 7 and this is like very big upgrade. But the packaging was very basic I expected a good packaging as they only wrapped one layer of bubble wrap which I don’t think is enough to protect this expensive phone. And I recommend this phone and seller as well.\\n\\nAnd I’m posting this review after using it for 4 days.']"
      ]
     },
     "execution_count": 359,
     "metadata": {},
     "output_type": "execute_result"
    }
   ],
   "source": [
    "review_description_8 =[]\n",
    "for i in brand_review_descp_8:\n",
    "    review_description_8.append(i.text)\n",
    "len(review_description_8)\n",
    "review_description_8"
   ]
  },
  {
   "cell_type": "code",
   "execution_count": 360,
   "metadata": {},
   "outputs": [
    {
     "data": {
      "text/html": [
       "<div>\n",
       "<style scoped>\n",
       "    .dataframe tbody tr th:only-of-type {\n",
       "        vertical-align: middle;\n",
       "    }\n",
       "\n",
       "    .dataframe tbody tr th {\n",
       "        vertical-align: top;\n",
       "    }\n",
       "\n",
       "    .dataframe thead th {\n",
       "        text-align: right;\n",
       "    }\n",
       "</style>\n",
       "<table border=\"1\" class=\"dataframe\">\n",
       "  <thead>\n",
       "    <tr style=\"text-align: right;\">\n",
       "      <th></th>\n",
       "      <th>Ratings</th>\n",
       "      <th>Rating_tags</th>\n",
       "      <th>Rating_Description</th>\n",
       "    </tr>\n",
       "  </thead>\n",
       "  <tbody>\n",
       "    <tr>\n",
       "      <th>0</th>\n",
       "      <td>5</td>\n",
       "      <td>Brilliant</td>\n",
       "      <td>The Best Phone for the Money\\n\\nThe iPhone 11 ...</td>\n",
       "    </tr>\n",
       "    <tr>\n",
       "      <th>1</th>\n",
       "      <td>5</td>\n",
       "      <td>Simply awesome</td>\n",
       "      <td>Really satisfied with the Product I received.....</td>\n",
       "    </tr>\n",
       "    <tr>\n",
       "      <th>2</th>\n",
       "      <td>5</td>\n",
       "      <td>Best in the market!</td>\n",
       "      <td>Great iPhone very snappy experience as apple k...</td>\n",
       "    </tr>\n",
       "    <tr>\n",
       "      <th>3</th>\n",
       "      <td>5</td>\n",
       "      <td>Perfect product!</td>\n",
       "      <td>Amazing phone with great cameras and better ba...</td>\n",
       "    </tr>\n",
       "    <tr>\n",
       "      <th>4</th>\n",
       "      <td>5</td>\n",
       "      <td>Fabulous!</td>\n",
       "      <td>This is my first iOS phone. I am very happy wi...</td>\n",
       "    </tr>\n",
       "    <tr>\n",
       "      <th>5</th>\n",
       "      <td>5</td>\n",
       "      <td>Worth every penny</td>\n",
       "      <td>Previously I was using one plus 3t it was a gr...</td>\n",
       "    </tr>\n",
       "    <tr>\n",
       "      <th>6</th>\n",
       "      <td>5</td>\n",
       "      <td>Great product</td>\n",
       "      <td>Amazing Powerful and Durable Gadget.\\n\\nI’m am...</td>\n",
       "    </tr>\n",
       "    <tr>\n",
       "      <th>7</th>\n",
       "      <td>4</td>\n",
       "      <td>Good choice</td>\n",
       "      <td>So far it’s been an AMAZING experience coming ...</td>\n",
       "    </tr>\n",
       "    <tr>\n",
       "      <th>8</th>\n",
       "      <td>5</td>\n",
       "      <td>Highly recommended</td>\n",
       "      <td>What a camera .....just awesome ..you can feel...</td>\n",
       "    </tr>\n",
       "    <tr>\n",
       "      <th>9</th>\n",
       "      <td>5</td>\n",
       "      <td>Worth every penny</td>\n",
       "      <td>i11 is worthy to buy, too much happy with the ...</td>\n",
       "    </tr>\n",
       "  </tbody>\n",
       "</table>\n",
       "</div>"
      ],
      "text/plain": [
       "  Ratings          Rating_tags  \\\n",
       "0       5            Brilliant   \n",
       "1       5       Simply awesome   \n",
       "2       5  Best in the market!   \n",
       "3       5     Perfect product!   \n",
       "4       5            Fabulous!   \n",
       "5       5    Worth every penny   \n",
       "6       5        Great product   \n",
       "7       4          Good choice   \n",
       "8       5   Highly recommended   \n",
       "9       5    Worth every penny   \n",
       "\n",
       "                                  Rating_Description  \n",
       "0  The Best Phone for the Money\\n\\nThe iPhone 11 ...  \n",
       "1  Really satisfied with the Product I received.....  \n",
       "2  Great iPhone very snappy experience as apple k...  \n",
       "3  Amazing phone with great cameras and better ba...  \n",
       "4  This is my first iOS phone. I am very happy wi...  \n",
       "5  Previously I was using one plus 3t it was a gr...  \n",
       "6  Amazing Powerful and Durable Gadget.\\n\\nI’m am...  \n",
       "7  So far it’s been an AMAZING experience coming ...  \n",
       "8  What a camera .....just awesome ..you can feel...  \n",
       "9  i11 is worthy to buy, too much happy with the ...  "
      ]
     },
     "execution_count": 360,
     "metadata": {},
     "output_type": "execute_result"
    }
   ],
   "source": [
    "review_8=pd.DataFrame()\n",
    "review_8['Ratings']=brand_Ratings\n",
    "review_8['Rating_tags']=tags\n",
    "review_8['Rating_Description']=review_description\n",
    "review_8"
   ]
  },
  {
   "cell_type": "code",
   "execution_count": 361,
   "metadata": {},
   "outputs": [],
   "source": [
    "next_pg=driver.find_element_by_xpath(\"/html/body/div[1]/div/div[3]/div/div/div[2]/div[13]/div/div/nav/a[7]\")\n",
    "next_pg.click()"
   ]
  },
  {
   "cell_type": "code",
   "execution_count": 362,
   "metadata": {},
   "outputs": [
    {
     "data": {
      "text/plain": [
       "9"
      ]
     },
     "execution_count": 362,
     "metadata": {},
     "output_type": "execute_result"
    }
   ],
   "source": [
    "##Extracting Rating \n",
    "brand_Rating_9=driver.find_elements_by_xpath(\"//div[@class='_3LWZlK _1BLPMq']\")\n",
    "len(brand_Rating_9)"
   ]
  },
  {
   "cell_type": "code",
   "execution_count": 363,
   "metadata": {
    "scrolled": true
   },
   "outputs": [
    {
     "data": {
      "text/plain": [
       "[<selenium.webdriver.remote.webelement.WebElement (session=\"cda0051eaaf40eb966fab3b55b4de9bb\", element=\"eb0d4451-a431-4568-94bc-d2bf94d820db\")>,\n",
       " <selenium.webdriver.remote.webelement.WebElement (session=\"cda0051eaaf40eb966fab3b55b4de9bb\", element=\"c22f8cdb-f52b-49fc-bd79-7458521ca99f\")>,\n",
       " <selenium.webdriver.remote.webelement.WebElement (session=\"cda0051eaaf40eb966fab3b55b4de9bb\", element=\"94b89e41-6197-4620-bb16-fe7c043cd345\")>,\n",
       " <selenium.webdriver.remote.webelement.WebElement (session=\"cda0051eaaf40eb966fab3b55b4de9bb\", element=\"2ac6dd97-bff7-40d3-a6d8-7ff98c3afdd1\")>,\n",
       " <selenium.webdriver.remote.webelement.WebElement (session=\"cda0051eaaf40eb966fab3b55b4de9bb\", element=\"9d5376c6-d19d-4ca8-aeb5-297e7f8583fa\")>,\n",
       " <selenium.webdriver.remote.webelement.WebElement (session=\"cda0051eaaf40eb966fab3b55b4de9bb\", element=\"3b0790ed-2a98-45c2-a0e1-e96f86c96357\")>,\n",
       " <selenium.webdriver.remote.webelement.WebElement (session=\"cda0051eaaf40eb966fab3b55b4de9bb\", element=\"24fbe836-e314-45a6-ae19-26e645b91a6e\")>,\n",
       " <selenium.webdriver.remote.webelement.WebElement (session=\"cda0051eaaf40eb966fab3b55b4de9bb\", element=\"a4f3a060-c8ea-4920-9a6b-ac2307015415\")>,\n",
       " <selenium.webdriver.remote.webelement.WebElement (session=\"cda0051eaaf40eb966fab3b55b4de9bb\", element=\"936f69ee-8964-43cf-9db2-8c57240215de\")>]"
      ]
     },
     "execution_count": 363,
     "metadata": {},
     "output_type": "execute_result"
    }
   ],
   "source": [
    "brand_Rating_9"
   ]
  },
  {
   "cell_type": "code",
   "execution_count": 364,
   "metadata": {},
   "outputs": [
    {
     "data": {
      "text/plain": [
       "['5', '5', '5', '5', '5', '5', '5', '5', '5']"
      ]
     },
     "execution_count": 364,
     "metadata": {},
     "output_type": "execute_result"
    }
   ],
   "source": [
    "brand_Ratings_9=[]\n",
    "for i in brand_Rating_9:\n",
    "    brand_Ratings_9.append(i.text)\n",
    "len(brand_Ratings_9)\n",
    "brand_Ratings_9\n"
   ]
  },
  {
   "cell_type": "code",
   "execution_count": 365,
   "metadata": {},
   "outputs": [
    {
     "data": {
      "text/plain": [
       "10"
      ]
     },
     "execution_count": 365,
     "metadata": {},
     "output_type": "execute_result"
    }
   ],
   "source": [
    "##Extracting rating tags\n",
    "brand_Rating_tags_9=driver.find_elements_by_xpath(\"//p[@class='_2-N8zT']\")\n",
    "len(brand_Rating_tags_9)"
   ]
  },
  {
   "cell_type": "code",
   "execution_count": 366,
   "metadata": {},
   "outputs": [
    {
     "data": {
      "text/plain": [
       "[<selenium.webdriver.remote.webelement.WebElement (session=\"cda0051eaaf40eb966fab3b55b4de9bb\", element=\"ae9df880-ee57-48b1-a3bc-9a9c36a2972e\")>,\n",
       " <selenium.webdriver.remote.webelement.WebElement (session=\"cda0051eaaf40eb966fab3b55b4de9bb\", element=\"546d9d74-424a-41d5-99aa-7a208ff4c2b0\")>,\n",
       " <selenium.webdriver.remote.webelement.WebElement (session=\"cda0051eaaf40eb966fab3b55b4de9bb\", element=\"c76027b2-61c5-4cc0-a4d1-efed061b83d1\")>,\n",
       " <selenium.webdriver.remote.webelement.WebElement (session=\"cda0051eaaf40eb966fab3b55b4de9bb\", element=\"54e3e0c1-77f6-4127-bd92-b35be9e327b6\")>,\n",
       " <selenium.webdriver.remote.webelement.WebElement (session=\"cda0051eaaf40eb966fab3b55b4de9bb\", element=\"089455ef-8405-422f-b3e9-9e615ab28f4e\")>,\n",
       " <selenium.webdriver.remote.webelement.WebElement (session=\"cda0051eaaf40eb966fab3b55b4de9bb\", element=\"8ff5a82d-96e6-43d0-9e19-759c3a854d39\")>,\n",
       " <selenium.webdriver.remote.webelement.WebElement (session=\"cda0051eaaf40eb966fab3b55b4de9bb\", element=\"fe553c6b-d8c9-4cf6-a116-e09e3a761590\")>,\n",
       " <selenium.webdriver.remote.webelement.WebElement (session=\"cda0051eaaf40eb966fab3b55b4de9bb\", element=\"d946cfa2-3446-408a-90f3-5ac4d2f03937\")>,\n",
       " <selenium.webdriver.remote.webelement.WebElement (session=\"cda0051eaaf40eb966fab3b55b4de9bb\", element=\"217d2a10-b752-48a2-8b8b-e6466f773a50\")>,\n",
       " <selenium.webdriver.remote.webelement.WebElement (session=\"cda0051eaaf40eb966fab3b55b4de9bb\", element=\"eb8e3254-0824-47f3-97ef-d65ea77cf5b1\")>]"
      ]
     },
     "execution_count": 366,
     "metadata": {},
     "output_type": "execute_result"
    }
   ],
   "source": [
    "brand_Rating_tags_9"
   ]
  },
  {
   "cell_type": "code",
   "execution_count": 367,
   "metadata": {},
   "outputs": [
    {
     "data": {
      "text/plain": [
       "['Super!',\n",
       " 'Awesome',\n",
       " 'Just wow!',\n",
       " 'Worth every penny',\n",
       " 'Mind-blowing purchase',\n",
       " 'Waste of money!',\n",
       " 'Worth every penny',\n",
       " 'Excellent',\n",
       " 'Just wow!',\n",
       " 'Wonderful']"
      ]
     },
     "execution_count": 367,
     "metadata": {},
     "output_type": "execute_result"
    }
   ],
   "source": [
    "tags_9=[]\n",
    "for i in brand_Rating_tags_9:\n",
    "    tags_9.append(i.text)\n",
    "len(tags_9)\n",
    "tags_9\n"
   ]
  },
  {
   "cell_type": "code",
   "execution_count": 368,
   "metadata": {},
   "outputs": [
    {
     "data": {
      "text/plain": [
       "10"
      ]
     },
     "execution_count": 368,
     "metadata": {},
     "output_type": "execute_result"
    }
   ],
   "source": [
    "#### extracting review description \n",
    "brand_review_descp_9=driver.find_elements_by_xpath(\"//div[@class='t-ZTKy']\")\n",
    "len(brand_review_descp_9)"
   ]
  },
  {
   "cell_type": "code",
   "execution_count": null,
   "metadata": {},
   "outputs": [],
   "source": [
    "brand_review_descp_9"
   ]
  },
  {
   "cell_type": "code",
   "execution_count": 369,
   "metadata": {
    "scrolled": true
   },
   "outputs": [
    {
     "data": {
      "text/plain": [
       "['This is my first ever iPhone.\\nAnd I truly don’t regret switching to IOS from my Android.\\n\\nIt is easily an alternative to a DSLR camera.\\nIf you’re obsessed with photos and videos, just don’t think twice or don’t compare to other androids(Samsung S10 lite or OnePlus 8/8T), as it’s far better from them in every field.\\nComparing will only make you confused.\\n\\nI am getting an average Screen on Time of around 10 hours with 30 percent left. I haven’t let my device discharged below 30 % as it aff...\\nREAD MORE',\n",
       " 'Can’t beat the software and hardware integration of apple.\\nPerforms like a beast. Great quality camera\\n6-7 hours screen on time which is good. Nothing much to complaint about the screen. Good connectivity speeds.\\nGreat buy and Flipkart’s delivery top notch as usual',\n",
       " 'Great iphone.\\nI am writing this review after 2 months of usage.\\nCamera is excellent, especially the nightmode\\nDisplay perfect\\nBattery backup awesome\\nSound quality very good\\nOverall Apple gives you a perfect iphone in this range.\\nReally in love with iPhone 11',\n",
       " 'iPhone is delivered on time. Display is great u won’t feel that it’s a hd panel. Quality is excellent. Sounds is great it has stereo setup. Camera is good. iOS 14.2 comes in the box. U roughly get 113 gb free if u buy 128 gb. This is my second iPhone and i love it. Value for money.',\n",
       " 'beautiful shining, battery performance is too good.\\nonly the draw back is my expectations not meeted front cam but back cam is superb.',\n",
       " 'Mobile is not getting charge.Mobile cannot be stated',\n",
       " 'Here is the thing\\n\\nThe only reason why you should buy this phone is for the camera, iOS, and if you have headaches looking at AMOLED display.\\n\\nI’m not an avid gamer but watch a lot of movies on smartphone. However, my migraine attacks increased considerably after using AMOLED Smartphone. That’s why I made a calculated decision to buy iPhone 11. It has the best LCD display and the blacks, though not as natural as an AMOLED, is better than some of the other smartphones.\\n\\nAdding to this the ste...\\nREAD MORE',\n",
       " \"It was amazing experience for me. Honestly i am using iPhone first time so I don't have that much past experience about that. But after using 7 days this mobile i want to give some honest feedback.\\n1- Display 9 out of 10\\n2- Camera 9.5 out of 10\\n3- Battery 7 out of 10\\n4- Performance 9.5 out of 10\\n5- Features & Functions 10 out of 10\\n6- Outer looks and colour 10 out of 10\\nRest i think i will understand after using this for few months.\\nI will highly recommend you guys if you have budget then you...\\nREAD MORE\",\n",
       " 'Not mere a phone , Its more than that for fun and enjoy life. Just grab it. Best luck',\n",
       " \"Ok, so after almost 3 years I am again back into Apple Ecosystem. Switching from Android to iOS has just one disadvantage imo, and that's you can't take your WhatsApp data restored to iOS. Everything starts fresh, pretty sad. I am so glad that I chose iPhone 11 over 12. With 5G nowhere in India for at least an year will have an added advantage to iPhone 11. Spending extra 25k just for A14 chipset and OLED display is not a clever choice. Anyways, a fantastic phone with everything fit perfectly...\\nREAD MORE\"]"
      ]
     },
     "execution_count": 369,
     "metadata": {},
     "output_type": "execute_result"
    }
   ],
   "source": [
    "review_description_9 =[]\n",
    "for i in brand_review_descp_9:\n",
    "    review_description_9.append(i.text)\n",
    "len(review_description_9)\n",
    "review_description_9"
   ]
  },
  {
   "cell_type": "code",
   "execution_count": 370,
   "metadata": {},
   "outputs": [
    {
     "data": {
      "text/html": [
       "<div>\n",
       "<style scoped>\n",
       "    .dataframe tbody tr th:only-of-type {\n",
       "        vertical-align: middle;\n",
       "    }\n",
       "\n",
       "    .dataframe tbody tr th {\n",
       "        vertical-align: top;\n",
       "    }\n",
       "\n",
       "    .dataframe thead th {\n",
       "        text-align: right;\n",
       "    }\n",
       "</style>\n",
       "<table border=\"1\" class=\"dataframe\">\n",
       "  <thead>\n",
       "    <tr style=\"text-align: right;\">\n",
       "      <th></th>\n",
       "      <th>Ratings</th>\n",
       "      <th>Rating_tags</th>\n",
       "      <th>Rating_Description</th>\n",
       "    </tr>\n",
       "  </thead>\n",
       "  <tbody>\n",
       "    <tr>\n",
       "      <th>0</th>\n",
       "      <td>5</td>\n",
       "      <td>Brilliant</td>\n",
       "      <td>The Best Phone for the Money\\n\\nThe iPhone 11 ...</td>\n",
       "    </tr>\n",
       "    <tr>\n",
       "      <th>1</th>\n",
       "      <td>5</td>\n",
       "      <td>Simply awesome</td>\n",
       "      <td>Really satisfied with the Product I received.....</td>\n",
       "    </tr>\n",
       "    <tr>\n",
       "      <th>2</th>\n",
       "      <td>5</td>\n",
       "      <td>Best in the market!</td>\n",
       "      <td>Great iPhone very snappy experience as apple k...</td>\n",
       "    </tr>\n",
       "    <tr>\n",
       "      <th>3</th>\n",
       "      <td>5</td>\n",
       "      <td>Perfect product!</td>\n",
       "      <td>Amazing phone with great cameras and better ba...</td>\n",
       "    </tr>\n",
       "    <tr>\n",
       "      <th>4</th>\n",
       "      <td>5</td>\n",
       "      <td>Fabulous!</td>\n",
       "      <td>This is my first iOS phone. I am very happy wi...</td>\n",
       "    </tr>\n",
       "    <tr>\n",
       "      <th>5</th>\n",
       "      <td>5</td>\n",
       "      <td>Worth every penny</td>\n",
       "      <td>Previously I was using one plus 3t it was a gr...</td>\n",
       "    </tr>\n",
       "    <tr>\n",
       "      <th>6</th>\n",
       "      <td>5</td>\n",
       "      <td>Great product</td>\n",
       "      <td>Amazing Powerful and Durable Gadget.\\n\\nI’m am...</td>\n",
       "    </tr>\n",
       "    <tr>\n",
       "      <th>7</th>\n",
       "      <td>4</td>\n",
       "      <td>Good choice</td>\n",
       "      <td>So far it’s been an AMAZING experience coming ...</td>\n",
       "    </tr>\n",
       "    <tr>\n",
       "      <th>8</th>\n",
       "      <td>5</td>\n",
       "      <td>Highly recommended</td>\n",
       "      <td>What a camera .....just awesome ..you can feel...</td>\n",
       "    </tr>\n",
       "    <tr>\n",
       "      <th>9</th>\n",
       "      <td>5</td>\n",
       "      <td>Worth every penny</td>\n",
       "      <td>i11 is worthy to buy, too much happy with the ...</td>\n",
       "    </tr>\n",
       "  </tbody>\n",
       "</table>\n",
       "</div>"
      ],
      "text/plain": [
       "  Ratings          Rating_tags  \\\n",
       "0       5            Brilliant   \n",
       "1       5       Simply awesome   \n",
       "2       5  Best in the market!   \n",
       "3       5     Perfect product!   \n",
       "4       5            Fabulous!   \n",
       "5       5    Worth every penny   \n",
       "6       5        Great product   \n",
       "7       4          Good choice   \n",
       "8       5   Highly recommended   \n",
       "9       5    Worth every penny   \n",
       "\n",
       "                                  Rating_Description  \n",
       "0  The Best Phone for the Money\\n\\nThe iPhone 11 ...  \n",
       "1  Really satisfied with the Product I received.....  \n",
       "2  Great iPhone very snappy experience as apple k...  \n",
       "3  Amazing phone with great cameras and better ba...  \n",
       "4  This is my first iOS phone. I am very happy wi...  \n",
       "5  Previously I was using one plus 3t it was a gr...  \n",
       "6  Amazing Powerful and Durable Gadget.\\n\\nI’m am...  \n",
       "7  So far it’s been an AMAZING experience coming ...  \n",
       "8  What a camera .....just awesome ..you can feel...  \n",
       "9  i11 is worthy to buy, too much happy with the ...  "
      ]
     },
     "execution_count": 370,
     "metadata": {},
     "output_type": "execute_result"
    }
   ],
   "source": [
    "review_9=pd.DataFrame()\n",
    "review_9['Ratings']=brand_Ratings\n",
    "review_9['Rating_tags']=tags\n",
    "review_9['Rating_Description']=review_description\n",
    "review_9"
   ]
  },
  {
   "cell_type": "code",
   "execution_count": 371,
   "metadata": {},
   "outputs": [],
   "source": [
    "next_pg=driver.find_element_by_xpath(\"/html/body/div[1]/div/div[3]/div/div/div[2]/div[13]/div/div/nav/a[7]\")\n",
    "next_pg.click()"
   ]
  },
  {
   "cell_type": "code",
   "execution_count": 372,
   "metadata": {},
   "outputs": [
    {
     "data": {
      "text/plain": [
       "10"
      ]
     },
     "execution_count": 372,
     "metadata": {},
     "output_type": "execute_result"
    }
   ],
   "source": [
    "##Extracting Rating \n",
    "brand_Rating_10=driver.find_elements_by_xpath(\"//div[@class='_3LWZlK _1BLPMq']\")\n",
    "len(brand_Rating_10)"
   ]
  },
  {
   "cell_type": "code",
   "execution_count": 373,
   "metadata": {
    "scrolled": true
   },
   "outputs": [
    {
     "data": {
      "text/plain": [
       "[<selenium.webdriver.remote.webelement.WebElement (session=\"cda0051eaaf40eb966fab3b55b4de9bb\", element=\"d5cdb69c-671c-4fb1-b917-3fd611f2c860\")>,\n",
       " <selenium.webdriver.remote.webelement.WebElement (session=\"cda0051eaaf40eb966fab3b55b4de9bb\", element=\"777e0a34-254c-42ef-9162-8e6f3f1af8bb\")>,\n",
       " <selenium.webdriver.remote.webelement.WebElement (session=\"cda0051eaaf40eb966fab3b55b4de9bb\", element=\"8df33259-2781-4ddf-abae-281fc3087710\")>,\n",
       " <selenium.webdriver.remote.webelement.WebElement (session=\"cda0051eaaf40eb966fab3b55b4de9bb\", element=\"9516b6c5-c578-4e46-987f-5327f453e92f\")>,\n",
       " <selenium.webdriver.remote.webelement.WebElement (session=\"cda0051eaaf40eb966fab3b55b4de9bb\", element=\"b23aa2cd-0385-427d-9b29-08a847c3ff73\")>,\n",
       " <selenium.webdriver.remote.webelement.WebElement (session=\"cda0051eaaf40eb966fab3b55b4de9bb\", element=\"b5cd7e56-6710-47ce-afea-edaa6d39f13d\")>,\n",
       " <selenium.webdriver.remote.webelement.WebElement (session=\"cda0051eaaf40eb966fab3b55b4de9bb\", element=\"a74c3d2b-58d4-43d3-8741-42d8b1878e65\")>,\n",
       " <selenium.webdriver.remote.webelement.WebElement (session=\"cda0051eaaf40eb966fab3b55b4de9bb\", element=\"22021488-b6ba-4e71-b84e-fe02c8c112af\")>,\n",
       " <selenium.webdriver.remote.webelement.WebElement (session=\"cda0051eaaf40eb966fab3b55b4de9bb\", element=\"5fd638ae-aed3-4943-8dd6-bdb4b6eda396\")>,\n",
       " <selenium.webdriver.remote.webelement.WebElement (session=\"cda0051eaaf40eb966fab3b55b4de9bb\", element=\"7b8868e5-9927-4e2d-90d2-3aafed54c427\")>]"
      ]
     },
     "execution_count": 373,
     "metadata": {},
     "output_type": "execute_result"
    }
   ],
   "source": [
    "brand_Rating_10"
   ]
  },
  {
   "cell_type": "code",
   "execution_count": 374,
   "metadata": {},
   "outputs": [
    {
     "data": {
      "text/plain": [
       "['4', '5', '5', '5', '5', '5', '4', '5', '5', '5']"
      ]
     },
     "execution_count": 374,
     "metadata": {},
     "output_type": "execute_result"
    }
   ],
   "source": [
    "brand_Ratings_10=[]\n",
    "for i in brand_Rating_10:\n",
    "    brand_Ratings_10.append(i.text)\n",
    "len(brand_Ratings_10)\n",
    "brand_Ratings_10\n"
   ]
  },
  {
   "cell_type": "code",
   "execution_count": 375,
   "metadata": {},
   "outputs": [
    {
     "data": {
      "text/plain": [
       "10"
      ]
     },
     "execution_count": 375,
     "metadata": {},
     "output_type": "execute_result"
    }
   ],
   "source": [
    "##Extracting rating tags\n",
    "brand_Rating_tags_10=driver.find_elements_by_xpath(\"//p[@class='_2-N8zT']\")\n",
    "len(brand_Rating_tags_10)"
   ]
  },
  {
   "cell_type": "code",
   "execution_count": 376,
   "metadata": {
    "scrolled": true
   },
   "outputs": [
    {
     "data": {
      "text/plain": [
       "[<selenium.webdriver.remote.webelement.WebElement (session=\"cda0051eaaf40eb966fab3b55b4de9bb\", element=\"090a756f-a509-43c6-b529-9f14256273bb\")>,\n",
       " <selenium.webdriver.remote.webelement.WebElement (session=\"cda0051eaaf40eb966fab3b55b4de9bb\", element=\"93bc9a1f-fb18-43a3-828d-1de696bc989e\")>,\n",
       " <selenium.webdriver.remote.webelement.WebElement (session=\"cda0051eaaf40eb966fab3b55b4de9bb\", element=\"8d7b7769-706a-493d-9258-3847edcbf794\")>,\n",
       " <selenium.webdriver.remote.webelement.WebElement (session=\"cda0051eaaf40eb966fab3b55b4de9bb\", element=\"3c1ff186-1667-4123-8a83-c8d47140870f\")>,\n",
       " <selenium.webdriver.remote.webelement.WebElement (session=\"cda0051eaaf40eb966fab3b55b4de9bb\", element=\"1636e67b-3a1b-4ae7-96de-555566c0a00e\")>,\n",
       " <selenium.webdriver.remote.webelement.WebElement (session=\"cda0051eaaf40eb966fab3b55b4de9bb\", element=\"6ffbc906-026f-4c2b-bd20-61ad81197f29\")>,\n",
       " <selenium.webdriver.remote.webelement.WebElement (session=\"cda0051eaaf40eb966fab3b55b4de9bb\", element=\"39e2cea1-81d3-460c-bd7f-b8a4280e011a\")>,\n",
       " <selenium.webdriver.remote.webelement.WebElement (session=\"cda0051eaaf40eb966fab3b55b4de9bb\", element=\"ff796bc7-92a0-483b-b1a6-7a41167d4910\")>,\n",
       " <selenium.webdriver.remote.webelement.WebElement (session=\"cda0051eaaf40eb966fab3b55b4de9bb\", element=\"58a334ec-5b61-44e4-9041-6d6a9bf4269e\")>,\n",
       " <selenium.webdriver.remote.webelement.WebElement (session=\"cda0051eaaf40eb966fab3b55b4de9bb\", element=\"a4dece43-9840-4124-95c1-fd526cc21445\")>]"
      ]
     },
     "execution_count": 376,
     "metadata": {},
     "output_type": "execute_result"
    }
   ],
   "source": [
    "brand_Rating_tags_10"
   ]
  },
  {
   "cell_type": "code",
   "execution_count": 377,
   "metadata": {},
   "outputs": [
    {
     "data": {
      "text/plain": [
       "['Nice product',\n",
       " 'Mind-blowing purchase',\n",
       " 'Classy product',\n",
       " 'Terrific',\n",
       " 'Excellent',\n",
       " 'Brilliant',\n",
       " 'Pretty good',\n",
       " 'Excellent',\n",
       " 'Worth every penny',\n",
       " 'Mind-blowing purchase']"
      ]
     },
     "execution_count": 377,
     "metadata": {},
     "output_type": "execute_result"
    }
   ],
   "source": [
    "tags_10=[]\n",
    "for i in brand_Rating_tags_10:\n",
    "    tags_10.append(i.text)\n",
    "len(tags_10)\n",
    "tags_10"
   ]
  },
  {
   "cell_type": "code",
   "execution_count": 378,
   "metadata": {},
   "outputs": [
    {
     "data": {
      "text/plain": [
       "10"
      ]
     },
     "execution_count": 378,
     "metadata": {},
     "output_type": "execute_result"
    }
   ],
   "source": [
    "#### extracting review description \n",
    "brand_review_descp_10=driver.find_elements_by_xpath(\"//div[@class='t-ZTKy']\")\n",
    "len(brand_review_descp_10)"
   ]
  },
  {
   "cell_type": "code",
   "execution_count": 379,
   "metadata": {
    "scrolled": true
   },
   "outputs": [
    {
     "data": {
      "text/plain": [
       "[<selenium.webdriver.remote.webelement.WebElement (session=\"cda0051eaaf40eb966fab3b55b4de9bb\", element=\"62b6135e-3ed7-42f4-ba28-01fe75b23ebf\")>,\n",
       " <selenium.webdriver.remote.webelement.WebElement (session=\"cda0051eaaf40eb966fab3b55b4de9bb\", element=\"2aac7fab-34b2-4875-9b0a-75d322d2bb03\")>,\n",
       " <selenium.webdriver.remote.webelement.WebElement (session=\"cda0051eaaf40eb966fab3b55b4de9bb\", element=\"23a7eac5-c505-4317-b25f-579b68b17d63\")>,\n",
       " <selenium.webdriver.remote.webelement.WebElement (session=\"cda0051eaaf40eb966fab3b55b4de9bb\", element=\"7b5e77bc-c4c8-4c75-a62f-e3b879fe2a83\")>,\n",
       " <selenium.webdriver.remote.webelement.WebElement (session=\"cda0051eaaf40eb966fab3b55b4de9bb\", element=\"909ae95a-0790-43dd-a38e-5ca6095e10f0\")>,\n",
       " <selenium.webdriver.remote.webelement.WebElement (session=\"cda0051eaaf40eb966fab3b55b4de9bb\", element=\"dd188a2e-dd3e-475e-90fd-14c0bcd7e051\")>,\n",
       " <selenium.webdriver.remote.webelement.WebElement (session=\"cda0051eaaf40eb966fab3b55b4de9bb\", element=\"8af4de11-4c81-4f06-995e-6da657b79516\")>,\n",
       " <selenium.webdriver.remote.webelement.WebElement (session=\"cda0051eaaf40eb966fab3b55b4de9bb\", element=\"4f0aaec1-ef72-4404-9ed6-980b3cacf5ad\")>,\n",
       " <selenium.webdriver.remote.webelement.WebElement (session=\"cda0051eaaf40eb966fab3b55b4de9bb\", element=\"4e586513-eee9-4f12-8e8e-805bb224670f\")>,\n",
       " <selenium.webdriver.remote.webelement.WebElement (session=\"cda0051eaaf40eb966fab3b55b4de9bb\", element=\"937b5ffc-e1a0-4744-bb39-663443d62062\")>]"
      ]
     },
     "execution_count": 379,
     "metadata": {},
     "output_type": "execute_result"
    }
   ],
   "source": [
    "brand_review_descp_10"
   ]
  },
  {
   "cell_type": "code",
   "execution_count": 380,
   "metadata": {
    "scrolled": true
   },
   "outputs": [
    {
     "data": {
      "text/plain": [
       "[\"If you are looking for a premium phone under 55k, this is the one for you.Got the iPhone 11 during the Republic day sale. Performance is top notch in this price range. Camera's do a perfect job in taking good quality photos and videos. Battery backup too is satisfactory. Writing this review after using for a week. Any further observations would be updated.\",\n",
       " 'awesome Phone Smooth Touch Too good Sexyy looks one word Awesome',\n",
       " 'Gifted my man on his 30th birthday 🎂 He loves it.. Him happy so i am more than happy 😍😘❤️🥰',\n",
       " 'I bought iPhone 11 On March 2021, And I am Writing this review after using the phone for 4 Months. I would Say Everything is fine, Top Performance, Nice Camera as Anyone would Expect from any series of iPhone but when the Question comes to Battery it is complicated. The Battery is fully optimised and it comes 3110 mAh capacity but the problem is with the charger. Honestly Apple Removed charger from in Box items in the name of Environment and they are also forcing us to buy any 20W PD 3rd part...\\nREAD MORE',\n",
       " \"Just go for it.\\nThis phone is really amazing. I ordered it for my wife and we click photos on this thing which are better than dslr. I own OnePlus 6t but it's camera sucks. iPhone is really amazing when it comes to camera. It's worth spending 50k on this. Cons- only display is lcd. While using u don't feel it but if u compare with other phone then u can see difference quite easily.\\nChanging from Android to iphone is bit difficult coz most of things u don't know but I liked it. Some of the a...\\nREAD MORE\",\n",
       " 'A wort full value for money decision it’s . Simply go for it in 2021 its still a good decision . Awesome camera , Super smothered performance, Heck of build quality. And Most important it protects your privacy.',\n",
       " \"I've used this phone for over a month now and here are my takeaways.\\nI would like to first talk about the best things about this phone and then the cons of it.\\n\\nPros:\\nThis phone is a performance beast. It handles large games and applications effortlessly and you won't find any stutters or lags while playing graphic intensive games like pubg, cod , mortal kombat and asphalt.\\n\\nThis phone has only 4gb ram and yet the ram management is amazing, it can keep 3 heavy games in memory without reload...\\nREAD MORE\",\n",
       " 'A perfect phone and a good battery super camera and the sound is dynamic overall the phone is perfect for upgrading from lower iPhone model to iPhone 11',\n",
       " 'Undoubtedly Iphone 11 is the most successful model till now and its performance is extraordinary and the security features are very impressive, display is more vibrant sound quality Camera Quality 5*****, but Iphone should add accessories too and act like scrooge.',\n",
       " 'Excellent camera 📸 And Display touching very Nice And Smooth and very improvement against\\nI phone 11 and new processor is very fast']"
      ]
     },
     "execution_count": 380,
     "metadata": {},
     "output_type": "execute_result"
    }
   ],
   "source": [
    "review_description_10 =[]\n",
    "for i in brand_review_descp_10:\n",
    "    review_description_10.append(i.text)\n",
    "len(review_description_10)\n",
    "review_description_10"
   ]
  },
  {
   "cell_type": "code",
   "execution_count": 381,
   "metadata": {
    "scrolled": true
   },
   "outputs": [
    {
     "data": {
      "text/html": [
       "<div>\n",
       "<style scoped>\n",
       "    .dataframe tbody tr th:only-of-type {\n",
       "        vertical-align: middle;\n",
       "    }\n",
       "\n",
       "    .dataframe tbody tr th {\n",
       "        vertical-align: top;\n",
       "    }\n",
       "\n",
       "    .dataframe thead th {\n",
       "        text-align: right;\n",
       "    }\n",
       "</style>\n",
       "<table border=\"1\" class=\"dataframe\">\n",
       "  <thead>\n",
       "    <tr style=\"text-align: right;\">\n",
       "      <th></th>\n",
       "      <th>Ratings</th>\n",
       "      <th>Rating_tags</th>\n",
       "      <th>Rating_Description</th>\n",
       "    </tr>\n",
       "  </thead>\n",
       "  <tbody>\n",
       "    <tr>\n",
       "      <th>0</th>\n",
       "      <td>5</td>\n",
       "      <td>Brilliant</td>\n",
       "      <td>The Best Phone for the Money\\n\\nThe iPhone 11 ...</td>\n",
       "    </tr>\n",
       "    <tr>\n",
       "      <th>1</th>\n",
       "      <td>5</td>\n",
       "      <td>Simply awesome</td>\n",
       "      <td>Really satisfied with the Product I received.....</td>\n",
       "    </tr>\n",
       "    <tr>\n",
       "      <th>2</th>\n",
       "      <td>5</td>\n",
       "      <td>Best in the market!</td>\n",
       "      <td>Great iPhone very snappy experience as apple k...</td>\n",
       "    </tr>\n",
       "    <tr>\n",
       "      <th>3</th>\n",
       "      <td>5</td>\n",
       "      <td>Perfect product!</td>\n",
       "      <td>Amazing phone with great cameras and better ba...</td>\n",
       "    </tr>\n",
       "    <tr>\n",
       "      <th>4</th>\n",
       "      <td>5</td>\n",
       "      <td>Fabulous!</td>\n",
       "      <td>This is my first iOS phone. I am very happy wi...</td>\n",
       "    </tr>\n",
       "    <tr>\n",
       "      <th>5</th>\n",
       "      <td>5</td>\n",
       "      <td>Worth every penny</td>\n",
       "      <td>Previously I was using one plus 3t it was a gr...</td>\n",
       "    </tr>\n",
       "    <tr>\n",
       "      <th>6</th>\n",
       "      <td>5</td>\n",
       "      <td>Great product</td>\n",
       "      <td>Amazing Powerful and Durable Gadget.\\n\\nI’m am...</td>\n",
       "    </tr>\n",
       "    <tr>\n",
       "      <th>7</th>\n",
       "      <td>4</td>\n",
       "      <td>Good choice</td>\n",
       "      <td>So far it’s been an AMAZING experience coming ...</td>\n",
       "    </tr>\n",
       "    <tr>\n",
       "      <th>8</th>\n",
       "      <td>5</td>\n",
       "      <td>Highly recommended</td>\n",
       "      <td>What a camera .....just awesome ..you can feel...</td>\n",
       "    </tr>\n",
       "    <tr>\n",
       "      <th>9</th>\n",
       "      <td>5</td>\n",
       "      <td>Worth every penny</td>\n",
       "      <td>i11 is worthy to buy, too much happy with the ...</td>\n",
       "    </tr>\n",
       "  </tbody>\n",
       "</table>\n",
       "</div>"
      ],
      "text/plain": [
       "  Ratings          Rating_tags  \\\n",
       "0       5            Brilliant   \n",
       "1       5       Simply awesome   \n",
       "2       5  Best in the market!   \n",
       "3       5     Perfect product!   \n",
       "4       5            Fabulous!   \n",
       "5       5    Worth every penny   \n",
       "6       5        Great product   \n",
       "7       4          Good choice   \n",
       "8       5   Highly recommended   \n",
       "9       5    Worth every penny   \n",
       "\n",
       "                                  Rating_Description  \n",
       "0  The Best Phone for the Money\\n\\nThe iPhone 11 ...  \n",
       "1  Really satisfied with the Product I received.....  \n",
       "2  Great iPhone very snappy experience as apple k...  \n",
       "3  Amazing phone with great cameras and better ba...  \n",
       "4  This is my first iOS phone. I am very happy wi...  \n",
       "5  Previously I was using one plus 3t it was a gr...  \n",
       "6  Amazing Powerful and Durable Gadget.\\n\\nI’m am...  \n",
       "7  So far it’s been an AMAZING experience coming ...  \n",
       "8  What a camera .....just awesome ..you can feel...  \n",
       "9  i11 is worthy to buy, too much happy with the ...  "
      ]
     },
     "execution_count": 381,
     "metadata": {},
     "output_type": "execute_result"
    }
   ],
   "source": [
    "review_10=pd.DataFrame()\n",
    "review_10['Ratings']=brand_Ratings\n",
    "review_10['Rating_tags']=tags\n",
    "review_10['Rating_Description']=review_description\n",
    "review_10"
   ]
  },
  {
   "cell_type": "code",
   "execution_count": 383,
   "metadata": {
    "scrolled": true
   },
   "outputs": [
    {
     "data": {
      "text/html": [
       "<div>\n",
       "<style scoped>\n",
       "    .dataframe tbody tr th:only-of-type {\n",
       "        vertical-align: middle;\n",
       "    }\n",
       "\n",
       "    .dataframe tbody tr th {\n",
       "        vertical-align: top;\n",
       "    }\n",
       "\n",
       "    .dataframe thead th {\n",
       "        text-align: right;\n",
       "    }\n",
       "</style>\n",
       "<table border=\"1\" class=\"dataframe\">\n",
       "  <thead>\n",
       "    <tr style=\"text-align: right;\">\n",
       "      <th></th>\n",
       "      <th>Ratings</th>\n",
       "      <th>Rating_tags</th>\n",
       "      <th>Rating_Description</th>\n",
       "    </tr>\n",
       "  </thead>\n",
       "  <tbody>\n",
       "    <tr>\n",
       "      <th>0</th>\n",
       "      <td>5</td>\n",
       "      <td>Brilliant</td>\n",
       "      <td>The Best Phone for the Money\\n\\nThe iPhone 11 ...</td>\n",
       "    </tr>\n",
       "    <tr>\n",
       "      <th>1</th>\n",
       "      <td>5</td>\n",
       "      <td>Simply awesome</td>\n",
       "      <td>Really satisfied with the Product I received.....</td>\n",
       "    </tr>\n",
       "    <tr>\n",
       "      <th>2</th>\n",
       "      <td>5</td>\n",
       "      <td>Best in the market!</td>\n",
       "      <td>Great iPhone very snappy experience as apple k...</td>\n",
       "    </tr>\n",
       "    <tr>\n",
       "      <th>3</th>\n",
       "      <td>5</td>\n",
       "      <td>Perfect product!</td>\n",
       "      <td>Amazing phone with great cameras and better ba...</td>\n",
       "    </tr>\n",
       "    <tr>\n",
       "      <th>4</th>\n",
       "      <td>5</td>\n",
       "      <td>Fabulous!</td>\n",
       "      <td>This is my first iOS phone. I am very happy wi...</td>\n",
       "    </tr>\n",
       "    <tr>\n",
       "      <th>...</th>\n",
       "      <td>...</td>\n",
       "      <td>...</td>\n",
       "      <td>...</td>\n",
       "    </tr>\n",
       "    <tr>\n",
       "      <th>5</th>\n",
       "      <td>5</td>\n",
       "      <td>Worth every penny</td>\n",
       "      <td>Previously I was using one plus 3t it was a gr...</td>\n",
       "    </tr>\n",
       "    <tr>\n",
       "      <th>6</th>\n",
       "      <td>5</td>\n",
       "      <td>Great product</td>\n",
       "      <td>Amazing Powerful and Durable Gadget.\\n\\nI’m am...</td>\n",
       "    </tr>\n",
       "    <tr>\n",
       "      <th>7</th>\n",
       "      <td>4</td>\n",
       "      <td>Good choice</td>\n",
       "      <td>So far it’s been an AMAZING experience coming ...</td>\n",
       "    </tr>\n",
       "    <tr>\n",
       "      <th>8</th>\n",
       "      <td>5</td>\n",
       "      <td>Highly recommended</td>\n",
       "      <td>What a camera .....just awesome ..you can feel...</td>\n",
       "    </tr>\n",
       "    <tr>\n",
       "      <th>9</th>\n",
       "      <td>5</td>\n",
       "      <td>Worth every penny</td>\n",
       "      <td>i11 is worthy to buy, too much happy with the ...</td>\n",
       "    </tr>\n",
       "  </tbody>\n",
       "</table>\n",
       "<p>100 rows × 3 columns</p>\n",
       "</div>"
      ],
      "text/plain": [
       "   Ratings          Rating_tags  \\\n",
       "0        5            Brilliant   \n",
       "1        5       Simply awesome   \n",
       "2        5  Best in the market!   \n",
       "3        5     Perfect product!   \n",
       "4        5            Fabulous!   \n",
       "..     ...                  ...   \n",
       "5        5    Worth every penny   \n",
       "6        5        Great product   \n",
       "7        4          Good choice   \n",
       "8        5   Highly recommended   \n",
       "9        5    Worth every penny   \n",
       "\n",
       "                                   Rating_Description  \n",
       "0   The Best Phone for the Money\\n\\nThe iPhone 11 ...  \n",
       "1   Really satisfied with the Product I received.....  \n",
       "2   Great iPhone very snappy experience as apple k...  \n",
       "3   Amazing phone with great cameras and better ba...  \n",
       "4   This is my first iOS phone. I am very happy wi...  \n",
       "..                                                ...  \n",
       "5   Previously I was using one plus 3t it was a gr...  \n",
       "6   Amazing Powerful and Durable Gadget.\\n\\nI’m am...  \n",
       "7   So far it’s been an AMAZING experience coming ...  \n",
       "8   What a camera .....just awesome ..you can feel...  \n",
       "9   i11 is worthy to buy, too much happy with the ...  \n",
       "\n",
       "[100 rows x 3 columns]"
      ]
     },
     "execution_count": 383,
     "metadata": {},
     "output_type": "execute_result"
    }
   ],
   "source": [
    "\n",
    "df_Review = pd.concat([review_1,review_2,review_3,review_4,review_5,review_6,review_7,review_8,review_9,review_10,review_10])\n",
    "\n",
    "df_Review[0:100]"
   ]
  },
  {
   "cell_type": "code",
   "execution_count": 384,
   "metadata": {},
   "outputs": [],
   "source": [
    "####6\n",
    "import selenium\n",
    "from selenium import webdriver \n",
    "import pandas as pd \n",
    "import warnings\n",
    "warnings.filterwarnings('ignore')\n"
   ]
  },
  {
   "cell_type": "code",
   "execution_count": 385,
   "metadata": {},
   "outputs": [],
   "source": [
    "driver=webdriver.Chrome(r\"C:/Users/Lenovo/Downloads/chromedriver_win32/chromedriver.exe\")\n"
   ]
  },
  {
   "cell_type": "code",
   "execution_count": 386,
   "metadata": {},
   "outputs": [],
   "source": [
    "url = \"https://www.flipkart.com/\"\n",
    "driver.get(url)"
   ]
  },
  {
   "cell_type": "code",
   "execution_count": 387,
   "metadata": {},
   "outputs": [
    {
     "data": {
      "text/plain": [
       "<selenium.webdriver.remote.webelement.WebElement (session=\"73ba1df09adbe58ada8d4ca8bd7738e5\", element=\"d6e935c3-ebf7-40b4-8813-6767b514cb06\")>"
      ]
     },
     "execution_count": 387,
     "metadata": {},
     "output_type": "execute_result"
    }
   ],
   "source": [
    "search_prod=driver.find_element_by_class_name(\"_3704LK\")\n",
    "search_prod"
   ]
  },
  {
   "cell_type": "code",
   "execution_count": 388,
   "metadata": {},
   "outputs": [],
   "source": [
    "search_prod.send_keys(\"sneakers\")"
   ]
  },
  {
   "cell_type": "code",
   "execution_count": 394,
   "metadata": {},
   "outputs": [],
   "source": [
    "search_btn=driver.find_element_by_xpath(\"//button[@class='L0Z3Pu']\")\n",
    "search_btn.click()"
   ]
  },
  {
   "cell_type": "code",
   "execution_count": 395,
   "metadata": {},
   "outputs": [
    {
     "data": {
      "text/plain": [
       "40"
      ]
     },
     "execution_count": 395,
     "metadata": {},
     "output_type": "execute_result"
    }
   ],
   "source": [
    "#### extracting brand name \n",
    "brand_name=driver.find_elements_by_xpath(\"//div[@class='_2WkVRV']\")\n",
    "len(brand_name)"
   ]
  },
  {
   "cell_type": "code",
   "execution_count": 396,
   "metadata": {
    "scrolled": true
   },
   "outputs": [
    {
     "data": {
      "text/plain": [
       "[<selenium.webdriver.remote.webelement.WebElement (session=\"73ba1df09adbe58ada8d4ca8bd7738e5\", element=\"ffc5508b-9fa4-4cd3-ae46-0fd0499e8106\")>,\n",
       " <selenium.webdriver.remote.webelement.WebElement (session=\"73ba1df09adbe58ada8d4ca8bd7738e5\", element=\"53909dc9-8ae4-4d84-a963-5ad46d799e6a\")>,\n",
       " <selenium.webdriver.remote.webelement.WebElement (session=\"73ba1df09adbe58ada8d4ca8bd7738e5\", element=\"c3bb5deb-f09f-4a28-9a8f-aa69319e1a11\")>,\n",
       " <selenium.webdriver.remote.webelement.WebElement (session=\"73ba1df09adbe58ada8d4ca8bd7738e5\", element=\"6bd42ef0-b1ab-4769-8586-1713ea93ecf6\")>,\n",
       " <selenium.webdriver.remote.webelement.WebElement (session=\"73ba1df09adbe58ada8d4ca8bd7738e5\", element=\"14ada937-a43c-4bd3-a1e8-81a2727ef592\")>,\n",
       " <selenium.webdriver.remote.webelement.WebElement (session=\"73ba1df09adbe58ada8d4ca8bd7738e5\", element=\"840d65a3-b8b1-46ad-b480-87354347cacb\")>,\n",
       " <selenium.webdriver.remote.webelement.WebElement (session=\"73ba1df09adbe58ada8d4ca8bd7738e5\", element=\"3f9c78e6-18a5-45dd-9e12-47e85523a23e\")>,\n",
       " <selenium.webdriver.remote.webelement.WebElement (session=\"73ba1df09adbe58ada8d4ca8bd7738e5\", element=\"0ed27e4c-973f-4c8b-9002-27cec7d2db85\")>,\n",
       " <selenium.webdriver.remote.webelement.WebElement (session=\"73ba1df09adbe58ada8d4ca8bd7738e5\", element=\"52b13207-c78c-400f-a3c0-57966c54d43a\")>,\n",
       " <selenium.webdriver.remote.webelement.WebElement (session=\"73ba1df09adbe58ada8d4ca8bd7738e5\", element=\"14d3809a-798e-48ee-ac65-80895883388f\")>,\n",
       " <selenium.webdriver.remote.webelement.WebElement (session=\"73ba1df09adbe58ada8d4ca8bd7738e5\", element=\"ff463215-b2ed-44a8-8152-c2c0957fb238\")>,\n",
       " <selenium.webdriver.remote.webelement.WebElement (session=\"73ba1df09adbe58ada8d4ca8bd7738e5\", element=\"7176b257-29df-469a-a856-d9cdbe222ec3\")>,\n",
       " <selenium.webdriver.remote.webelement.WebElement (session=\"73ba1df09adbe58ada8d4ca8bd7738e5\", element=\"e8bcf743-b6cc-4000-b47c-4629c3438136\")>,\n",
       " <selenium.webdriver.remote.webelement.WebElement (session=\"73ba1df09adbe58ada8d4ca8bd7738e5\", element=\"32287b2a-aa2d-40b8-9629-d89901aedf1d\")>,\n",
       " <selenium.webdriver.remote.webelement.WebElement (session=\"73ba1df09adbe58ada8d4ca8bd7738e5\", element=\"210974ce-8f78-4b67-acb2-0f86fdac534a\")>,\n",
       " <selenium.webdriver.remote.webelement.WebElement (session=\"73ba1df09adbe58ada8d4ca8bd7738e5\", element=\"6dbca0be-25bd-4860-b59b-0db54530020f\")>,\n",
       " <selenium.webdriver.remote.webelement.WebElement (session=\"73ba1df09adbe58ada8d4ca8bd7738e5\", element=\"3ec65c07-114d-4c35-95d1-07d0e6aba679\")>,\n",
       " <selenium.webdriver.remote.webelement.WebElement (session=\"73ba1df09adbe58ada8d4ca8bd7738e5\", element=\"f3fea86f-b097-4f6d-b52f-794baa0fb68f\")>,\n",
       " <selenium.webdriver.remote.webelement.WebElement (session=\"73ba1df09adbe58ada8d4ca8bd7738e5\", element=\"d3247389-264e-41b5-a760-e5c102712051\")>,\n",
       " <selenium.webdriver.remote.webelement.WebElement (session=\"73ba1df09adbe58ada8d4ca8bd7738e5\", element=\"3ccae0c1-01b7-4b61-a8fd-962dc5d8a24b\")>,\n",
       " <selenium.webdriver.remote.webelement.WebElement (session=\"73ba1df09adbe58ada8d4ca8bd7738e5\", element=\"a9bb016e-fa61-4dec-a011-041f95cdc45b\")>,\n",
       " <selenium.webdriver.remote.webelement.WebElement (session=\"73ba1df09adbe58ada8d4ca8bd7738e5\", element=\"cee90529-e751-4129-a61d-9ff2f78c16d1\")>,\n",
       " <selenium.webdriver.remote.webelement.WebElement (session=\"73ba1df09adbe58ada8d4ca8bd7738e5\", element=\"9d88af27-d055-4668-aa4c-4922442bc0ff\")>,\n",
       " <selenium.webdriver.remote.webelement.WebElement (session=\"73ba1df09adbe58ada8d4ca8bd7738e5\", element=\"ca79509c-4510-4050-ad36-2b5332216ebd\")>,\n",
       " <selenium.webdriver.remote.webelement.WebElement (session=\"73ba1df09adbe58ada8d4ca8bd7738e5\", element=\"5f9ca94b-c765-43de-9dc2-7fba17112529\")>,\n",
       " <selenium.webdriver.remote.webelement.WebElement (session=\"73ba1df09adbe58ada8d4ca8bd7738e5\", element=\"06d44e79-c424-49c5-8bbe-5b5827641072\")>,\n",
       " <selenium.webdriver.remote.webelement.WebElement (session=\"73ba1df09adbe58ada8d4ca8bd7738e5\", element=\"9f4ac74e-6863-4763-a587-f6afb112867a\")>,\n",
       " <selenium.webdriver.remote.webelement.WebElement (session=\"73ba1df09adbe58ada8d4ca8bd7738e5\", element=\"e27b77b7-56a4-4a96-b75a-70ced2d1b7f7\")>,\n",
       " <selenium.webdriver.remote.webelement.WebElement (session=\"73ba1df09adbe58ada8d4ca8bd7738e5\", element=\"6b993c67-6911-432c-8e56-22e10118d99d\")>,\n",
       " <selenium.webdriver.remote.webelement.WebElement (session=\"73ba1df09adbe58ada8d4ca8bd7738e5\", element=\"abf8de56-b924-40f4-b941-954859db6f11\")>,\n",
       " <selenium.webdriver.remote.webelement.WebElement (session=\"73ba1df09adbe58ada8d4ca8bd7738e5\", element=\"70d7441b-7211-4027-ac60-59bd4e4ad545\")>,\n",
       " <selenium.webdriver.remote.webelement.WebElement (session=\"73ba1df09adbe58ada8d4ca8bd7738e5\", element=\"da93b58c-af17-41fb-807e-23b3551c6b78\")>,\n",
       " <selenium.webdriver.remote.webelement.WebElement (session=\"73ba1df09adbe58ada8d4ca8bd7738e5\", element=\"ce7ff42e-f60c-4f7f-86e6-c8a7ca5a6956\")>,\n",
       " <selenium.webdriver.remote.webelement.WebElement (session=\"73ba1df09adbe58ada8d4ca8bd7738e5\", element=\"6ef50ed6-3093-44fc-b815-9cf2e4a67341\")>,\n",
       " <selenium.webdriver.remote.webelement.WebElement (session=\"73ba1df09adbe58ada8d4ca8bd7738e5\", element=\"487ac164-794c-4372-9067-a865f9594276\")>,\n",
       " <selenium.webdriver.remote.webelement.WebElement (session=\"73ba1df09adbe58ada8d4ca8bd7738e5\", element=\"38ebee7d-8bd8-49ec-9ef5-1e0f8eb1af79\")>,\n",
       " <selenium.webdriver.remote.webelement.WebElement (session=\"73ba1df09adbe58ada8d4ca8bd7738e5\", element=\"fffed9b7-63d8-4f5d-807b-91611b7394f3\")>,\n",
       " <selenium.webdriver.remote.webelement.WebElement (session=\"73ba1df09adbe58ada8d4ca8bd7738e5\", element=\"befb79f2-c0fb-41b4-b424-aaa58b7825cf\")>,\n",
       " <selenium.webdriver.remote.webelement.WebElement (session=\"73ba1df09adbe58ada8d4ca8bd7738e5\", element=\"c94a6abf-730e-4162-adec-6ae973a9573c\")>,\n",
       " <selenium.webdriver.remote.webelement.WebElement (session=\"73ba1df09adbe58ada8d4ca8bd7738e5\", element=\"4f4ace5f-d125-4571-a7ae-0d32beedda55\")>]"
      ]
     },
     "execution_count": 396,
     "metadata": {},
     "output_type": "execute_result"
    }
   ],
   "source": [
    "brand_name"
   ]
  },
  {
   "cell_type": "code",
   "execution_count": 399,
   "metadata": {
    "scrolled": true
   },
   "outputs": [
    {
     "data": {
      "text/plain": [
       "['Roadster',\n",
       " 'Smoky',\n",
       " 'URBANBOX',\n",
       " 'Chevit',\n",
       " 'KWIK FIT',\n",
       " 'kardam&sons',\n",
       " 'corsac',\n",
       " 'Smoky',\n",
       " 'Chevit',\n",
       " 'BRUTON',\n",
       " 'ASTEROID',\n",
       " 'Numenzo',\n",
       " 'Layasa',\n",
       " 'Shoes Bank',\n",
       " 'Labbin',\n",
       " 'RapidBox',\n",
       " 'Chevit',\n",
       " 'luxury fashion',\n",
       " 'World Wear Footwear',\n",
       " 'Bacan',\n",
       " 'Stefano Rads',\n",
       " 'ASTEROID',\n",
       " 'SCATCHITE',\n",
       " 'Navtrend',\n",
       " 'CLYMB',\n",
       " 'Chevit',\n",
       " 'luxury fashion',\n",
       " 'Bacan',\n",
       " 'D-SNEAKERZ',\n",
       " 'Magnolia',\n",
       " 'BRUTON',\n",
       " 'Nilatin',\n",
       " 'Zsyto',\n",
       " 'World Wear Footwear',\n",
       " 'BRUTON',\n",
       " 'Numenzo',\n",
       " 'Chevit',\n",
       " 'Magnolia',\n",
       " 'BIRDE',\n",
       " 'Bacan']"
      ]
     },
     "execution_count": 399,
     "metadata": {},
     "output_type": "execute_result"
    }
   ],
   "source": [
    "brand=[]\n",
    "for i in brand_name:\n",
    "    brand.append(i.text)\n",
    "len(brand)  \n",
    "brand\n"
   ]
  },
  {
   "cell_type": "code",
   "execution_count": 401,
   "metadata": {},
   "outputs": [
    {
     "data": {
      "text/plain": [
       "33"
      ]
     },
     "execution_count": 401,
     "metadata": {},
     "output_type": "execute_result"
    }
   ],
   "source": [
    "#### extracting product description \n",
    "brand_descp=driver.find_elements_by_xpath(\"//a[@class='IRpwTa']\")\n",
    "len(brand_descp)"
   ]
  },
  {
   "cell_type": "code",
   "execution_count": 402,
   "metadata": {
    "scrolled": true
   },
   "outputs": [
    {
     "data": {
      "text/plain": [
       "[<selenium.webdriver.remote.webelement.WebElement (session=\"73ba1df09adbe58ada8d4ca8bd7738e5\", element=\"8dd92ffc-28d6-4f2c-8c38-602ecfffb589\")>,\n",
       " <selenium.webdriver.remote.webelement.WebElement (session=\"73ba1df09adbe58ada8d4ca8bd7738e5\", element=\"80a8da1a-f2fe-489e-b307-7c11e4d5448a\")>,\n",
       " <selenium.webdriver.remote.webelement.WebElement (session=\"73ba1df09adbe58ada8d4ca8bd7738e5\", element=\"4991addd-1879-4b8d-a254-56953cb5bc1b\")>,\n",
       " <selenium.webdriver.remote.webelement.WebElement (session=\"73ba1df09adbe58ada8d4ca8bd7738e5\", element=\"81e06a7d-5baa-4515-9f3d-6e8675a8f02c\")>,\n",
       " <selenium.webdriver.remote.webelement.WebElement (session=\"73ba1df09adbe58ada8d4ca8bd7738e5\", element=\"32877b54-be70-430c-9fa9-71f4c79b315d\")>,\n",
       " <selenium.webdriver.remote.webelement.WebElement (session=\"73ba1df09adbe58ada8d4ca8bd7738e5\", element=\"034162d5-1f60-498f-a639-77da01c24596\")>,\n",
       " <selenium.webdriver.remote.webelement.WebElement (session=\"73ba1df09adbe58ada8d4ca8bd7738e5\", element=\"7cac6ca9-3103-4c42-805d-9463adca5fc7\")>,\n",
       " <selenium.webdriver.remote.webelement.WebElement (session=\"73ba1df09adbe58ada8d4ca8bd7738e5\", element=\"97b549e3-5dbf-44b1-a1c3-c9bd561cb9d4\")>,\n",
       " <selenium.webdriver.remote.webelement.WebElement (session=\"73ba1df09adbe58ada8d4ca8bd7738e5\", element=\"3c55761a-3399-468b-a6d6-db8b98f0a642\")>,\n",
       " <selenium.webdriver.remote.webelement.WebElement (session=\"73ba1df09adbe58ada8d4ca8bd7738e5\", element=\"de790288-e4b1-4097-b844-3fbfd4848b24\")>,\n",
       " <selenium.webdriver.remote.webelement.WebElement (session=\"73ba1df09adbe58ada8d4ca8bd7738e5\", element=\"efc7a0dd-2117-4ba4-a3c5-f273c4c2f95a\")>,\n",
       " <selenium.webdriver.remote.webelement.WebElement (session=\"73ba1df09adbe58ada8d4ca8bd7738e5\", element=\"76b3c779-fa41-4876-b59a-25eaea408fc7\")>,\n",
       " <selenium.webdriver.remote.webelement.WebElement (session=\"73ba1df09adbe58ada8d4ca8bd7738e5\", element=\"49132f68-5ed0-4306-91a5-09c75c0dbdca\")>,\n",
       " <selenium.webdriver.remote.webelement.WebElement (session=\"73ba1df09adbe58ada8d4ca8bd7738e5\", element=\"ddca76f3-cc3f-4d49-ba21-f6f83f2a3e7b\")>,\n",
       " <selenium.webdriver.remote.webelement.WebElement (session=\"73ba1df09adbe58ada8d4ca8bd7738e5\", element=\"6a1cb4b9-0445-405f-bf8d-8f5067b64af9\")>,\n",
       " <selenium.webdriver.remote.webelement.WebElement (session=\"73ba1df09adbe58ada8d4ca8bd7738e5\", element=\"e5c79046-046a-4793-9383-de972deb7eba\")>,\n",
       " <selenium.webdriver.remote.webelement.WebElement (session=\"73ba1df09adbe58ada8d4ca8bd7738e5\", element=\"087510f2-c396-4387-b23b-4db01149b5d9\")>,\n",
       " <selenium.webdriver.remote.webelement.WebElement (session=\"73ba1df09adbe58ada8d4ca8bd7738e5\", element=\"e9a6875b-2651-4b45-be82-af058f7d9485\")>,\n",
       " <selenium.webdriver.remote.webelement.WebElement (session=\"73ba1df09adbe58ada8d4ca8bd7738e5\", element=\"eaa0ecdf-082e-4f82-a198-323a8db73e1d\")>,\n",
       " <selenium.webdriver.remote.webelement.WebElement (session=\"73ba1df09adbe58ada8d4ca8bd7738e5\", element=\"f3bb1cae-83bc-41fb-8341-1e3dbf4a66d7\")>,\n",
       " <selenium.webdriver.remote.webelement.WebElement (session=\"73ba1df09adbe58ada8d4ca8bd7738e5\", element=\"f272546f-93fa-470a-80dc-5d062791c9ee\")>,\n",
       " <selenium.webdriver.remote.webelement.WebElement (session=\"73ba1df09adbe58ada8d4ca8bd7738e5\", element=\"17e83801-b492-4ff5-aee8-5deb975ae425\")>,\n",
       " <selenium.webdriver.remote.webelement.WebElement (session=\"73ba1df09adbe58ada8d4ca8bd7738e5\", element=\"67fa6b75-3b31-4267-8ec6-9ecc2ed02fd1\")>,\n",
       " <selenium.webdriver.remote.webelement.WebElement (session=\"73ba1df09adbe58ada8d4ca8bd7738e5\", element=\"58768477-82dc-4e1d-8eba-6e862c3b589d\")>,\n",
       " <selenium.webdriver.remote.webelement.WebElement (session=\"73ba1df09adbe58ada8d4ca8bd7738e5\", element=\"235fd083-f18f-434c-ab70-7a1915c8c7cb\")>,\n",
       " <selenium.webdriver.remote.webelement.WebElement (session=\"73ba1df09adbe58ada8d4ca8bd7738e5\", element=\"e379e6a1-4776-405f-aab4-967e110cbe1d\")>,\n",
       " <selenium.webdriver.remote.webelement.WebElement (session=\"73ba1df09adbe58ada8d4ca8bd7738e5\", element=\"7830f824-767f-4383-b231-8479af613442\")>,\n",
       " <selenium.webdriver.remote.webelement.WebElement (session=\"73ba1df09adbe58ada8d4ca8bd7738e5\", element=\"baff0b3a-5e9d-4bdc-b9df-6486ed019dd9\")>,\n",
       " <selenium.webdriver.remote.webelement.WebElement (session=\"73ba1df09adbe58ada8d4ca8bd7738e5\", element=\"8b5591c8-85a8-43fc-9556-6af8e668b50a\")>,\n",
       " <selenium.webdriver.remote.webelement.WebElement (session=\"73ba1df09adbe58ada8d4ca8bd7738e5\", element=\"88ebc8bb-f6fc-47d6-8f43-51a622d61d7b\")>,\n",
       " <selenium.webdriver.remote.webelement.WebElement (session=\"73ba1df09adbe58ada8d4ca8bd7738e5\", element=\"b350d04d-9c99-4f56-894d-48347ce583c7\")>,\n",
       " <selenium.webdriver.remote.webelement.WebElement (session=\"73ba1df09adbe58ada8d4ca8bd7738e5\", element=\"f8b58c27-2ef3-4ed9-b204-7b25d78bd19f\")>,\n",
       " <selenium.webdriver.remote.webelement.WebElement (session=\"73ba1df09adbe58ada8d4ca8bd7738e5\", element=\"025f70b3-28c0-481d-b2a8-8b5db11bcb64\")>]"
      ]
     },
     "execution_count": 402,
     "metadata": {},
     "output_type": "execute_result"
    }
   ],
   "source": [
    "brand_descp"
   ]
  },
  {
   "cell_type": "code",
   "execution_count": 403,
   "metadata": {
    "scrolled": true
   },
   "outputs": [
    {
     "data": {
      "text/plain": [
       "['Men Blue Solid Sneakers Sneakers For Men',\n",
       " 'Trendy Sneakers For Men',\n",
       " 'Super Stylish & Trendy Combo Pack of 02 Pairs Sneakers ...',\n",
       " 'Kwik FIT casual sneaker shoes and partywear shoes Casua...',\n",
       " 'casual sneaker shoes for men luxury fashion casual snea...',\n",
       " 'STYLISH MENS BLACK SNEAKER Sneakers For Men',\n",
       " '13 Sneakers For Men',\n",
       " '516 Trendy Star Perfect Sneakers For Men',\n",
       " 'Modern Trendy Sneakers Shoes Sneakers For Men',\n",
       " \"Original Luxury Branded Fashionable Men's Casual Walkin...\",\n",
       " 'Sneakers For Men',\n",
       " 'Sneakers For Men',\n",
       " \"White Sneaker For Men's/Boy's Sneakers For Men\",\n",
       " 'Sneakers For Men',\n",
       " 'Perfect & Affordable Combo Pack of 02 Pairs Sneakers Ou...',\n",
       " 'Luxury Fashionable casual sneaker shoes Sneakers For Me...',\n",
       " '5013-Latest Collection Stylish & Trendy of casuals Snea...',\n",
       " 'Sneakers For Men',\n",
       " \"Original Luxury Branded Fashionable Men's Casual Walkin...\",\n",
       " 'Sneakers Sneakers For Men',\n",
       " 'Sneakers For Men',\n",
       " 'Sneakers For Men',\n",
       " 'Sneakers For Men',\n",
       " \"Casual , Partywear Sneakers Shoes For Men's And Boys Wh...\",\n",
       " 'Sneakers For Men',\n",
       " 'Lattest Sneakers Shoe Sneakers For Men',\n",
       " 'Sneakers For Men',\n",
       " '5011-Latest Collection Stylish & Trendy Casual Sneakers...',\n",
       " 'Sneaker Sneakers For Men',\n",
       " 'Sneakers For Men',\n",
       " 'Sneakers For Men',\n",
       " 'Sports Running Shoes Sneakers For Men',\n",
       " 'Sneakers For Men']"
      ]
     },
     "execution_count": 403,
     "metadata": {},
     "output_type": "execute_result"
    }
   ],
   "source": [
    "descp=[]\n",
    "for i in brand_descp:\n",
    "   descp.append(i.text)\n",
    "len(descp)  \n",
    "descp\n"
   ]
  },
  {
   "cell_type": "code",
   "execution_count": 404,
   "metadata": {},
   "outputs": [
    {
     "data": {
      "text/plain": [
       "40"
      ]
     },
     "execution_count": 404,
     "metadata": {},
     "output_type": "execute_result"
    }
   ],
   "source": [
    "\n",
    "#### extracting product price\n",
    "brand_price=driver.find_elements_by_xpath(\"//div[@class='_30jeq3']\")\n",
    "len(brand_price)"
   ]
  },
  {
   "cell_type": "code",
   "execution_count": 405,
   "metadata": {
    "scrolled": true
   },
   "outputs": [
    {
     "data": {
      "text/plain": [
       "[<selenium.webdriver.remote.webelement.WebElement (session=\"73ba1df09adbe58ada8d4ca8bd7738e5\", element=\"6e0fb822-99ea-4a90-972c-f0ec7e461a3f\")>,\n",
       " <selenium.webdriver.remote.webelement.WebElement (session=\"73ba1df09adbe58ada8d4ca8bd7738e5\", element=\"a9f74db9-02fa-448b-9553-7362627e66c8\")>,\n",
       " <selenium.webdriver.remote.webelement.WebElement (session=\"73ba1df09adbe58ada8d4ca8bd7738e5\", element=\"97ad59ee-6ec2-4a54-8476-e227ac9d50b0\")>,\n",
       " <selenium.webdriver.remote.webelement.WebElement (session=\"73ba1df09adbe58ada8d4ca8bd7738e5\", element=\"91ab081f-4642-4a31-b8e4-38434c995acc\")>,\n",
       " <selenium.webdriver.remote.webelement.WebElement (session=\"73ba1df09adbe58ada8d4ca8bd7738e5\", element=\"1f521469-8923-4e5f-abfa-bb4cf8281dd9\")>,\n",
       " <selenium.webdriver.remote.webelement.WebElement (session=\"73ba1df09adbe58ada8d4ca8bd7738e5\", element=\"df05d4b8-3072-484e-9618-bb5e30de16ac\")>,\n",
       " <selenium.webdriver.remote.webelement.WebElement (session=\"73ba1df09adbe58ada8d4ca8bd7738e5\", element=\"d95b67c0-c887-4593-8da4-5e5a88db6fc1\")>,\n",
       " <selenium.webdriver.remote.webelement.WebElement (session=\"73ba1df09adbe58ada8d4ca8bd7738e5\", element=\"4fead18b-15c8-440b-91ae-b1ec67f6ff0d\")>,\n",
       " <selenium.webdriver.remote.webelement.WebElement (session=\"73ba1df09adbe58ada8d4ca8bd7738e5\", element=\"6052f030-e864-48d7-ad40-66640c06fff3\")>,\n",
       " <selenium.webdriver.remote.webelement.WebElement (session=\"73ba1df09adbe58ada8d4ca8bd7738e5\", element=\"78a1634a-2789-4d14-9206-a3f29a772b45\")>,\n",
       " <selenium.webdriver.remote.webelement.WebElement (session=\"73ba1df09adbe58ada8d4ca8bd7738e5\", element=\"d211598e-db45-48e4-8765-eaf0b458de0f\")>,\n",
       " <selenium.webdriver.remote.webelement.WebElement (session=\"73ba1df09adbe58ada8d4ca8bd7738e5\", element=\"7ae71e45-245e-4f4d-b049-fe28649da8bf\")>,\n",
       " <selenium.webdriver.remote.webelement.WebElement (session=\"73ba1df09adbe58ada8d4ca8bd7738e5\", element=\"b67bbd21-d129-4950-93bc-d60ea767d407\")>,\n",
       " <selenium.webdriver.remote.webelement.WebElement (session=\"73ba1df09adbe58ada8d4ca8bd7738e5\", element=\"81dc1dfa-484f-4fa8-8734-43f0b34ed8eb\")>,\n",
       " <selenium.webdriver.remote.webelement.WebElement (session=\"73ba1df09adbe58ada8d4ca8bd7738e5\", element=\"945589d4-7d74-4c82-a027-9565e7ac980f\")>,\n",
       " <selenium.webdriver.remote.webelement.WebElement (session=\"73ba1df09adbe58ada8d4ca8bd7738e5\", element=\"3ee86900-49c1-4f0b-8235-cacdae5c660d\")>,\n",
       " <selenium.webdriver.remote.webelement.WebElement (session=\"73ba1df09adbe58ada8d4ca8bd7738e5\", element=\"81a688ab-7277-4d41-8c06-8703dd0522a6\")>,\n",
       " <selenium.webdriver.remote.webelement.WebElement (session=\"73ba1df09adbe58ada8d4ca8bd7738e5\", element=\"ad78d1ff-51da-4ab1-be27-32a61e7e5308\")>,\n",
       " <selenium.webdriver.remote.webelement.WebElement (session=\"73ba1df09adbe58ada8d4ca8bd7738e5\", element=\"6d42a3f4-ffc4-419a-a7f8-bf206467c63d\")>,\n",
       " <selenium.webdriver.remote.webelement.WebElement (session=\"73ba1df09adbe58ada8d4ca8bd7738e5\", element=\"3983edfb-3312-4a0b-9261-b3e386b0f4f0\")>,\n",
       " <selenium.webdriver.remote.webelement.WebElement (session=\"73ba1df09adbe58ada8d4ca8bd7738e5\", element=\"2e72bd95-96e6-459c-9b70-400afee018e5\")>,\n",
       " <selenium.webdriver.remote.webelement.WebElement (session=\"73ba1df09adbe58ada8d4ca8bd7738e5\", element=\"c5b40aea-6b97-45c7-a99a-131c5620e079\")>,\n",
       " <selenium.webdriver.remote.webelement.WebElement (session=\"73ba1df09adbe58ada8d4ca8bd7738e5\", element=\"6af42be8-7bc7-4639-9ace-dc365538d9bc\")>,\n",
       " <selenium.webdriver.remote.webelement.WebElement (session=\"73ba1df09adbe58ada8d4ca8bd7738e5\", element=\"650f024d-7361-46a7-b620-eebe9041fd26\")>,\n",
       " <selenium.webdriver.remote.webelement.WebElement (session=\"73ba1df09adbe58ada8d4ca8bd7738e5\", element=\"df227286-8dd0-44aa-af16-dbb0ae9863f5\")>,\n",
       " <selenium.webdriver.remote.webelement.WebElement (session=\"73ba1df09adbe58ada8d4ca8bd7738e5\", element=\"f0d0b260-e1a4-41aa-a77c-75ae0e285f04\")>,\n",
       " <selenium.webdriver.remote.webelement.WebElement (session=\"73ba1df09adbe58ada8d4ca8bd7738e5\", element=\"03fd887f-4716-4d9a-aa1e-ecdafdd331bb\")>,\n",
       " <selenium.webdriver.remote.webelement.WebElement (session=\"73ba1df09adbe58ada8d4ca8bd7738e5\", element=\"da963f81-fa7c-4eb7-9355-dc9c701e9b4e\")>,\n",
       " <selenium.webdriver.remote.webelement.WebElement (session=\"73ba1df09adbe58ada8d4ca8bd7738e5\", element=\"f0ad7f4d-c5d7-472e-9ce0-5eb9e0fa4c40\")>,\n",
       " <selenium.webdriver.remote.webelement.WebElement (session=\"73ba1df09adbe58ada8d4ca8bd7738e5\", element=\"db0a420d-4eb3-4fbb-a30f-4f4ed48aefe8\")>,\n",
       " <selenium.webdriver.remote.webelement.WebElement (session=\"73ba1df09adbe58ada8d4ca8bd7738e5\", element=\"d9431bab-5f4c-4103-b7c1-4c5ebbfaaa71\")>,\n",
       " <selenium.webdriver.remote.webelement.WebElement (session=\"73ba1df09adbe58ada8d4ca8bd7738e5\", element=\"5231da89-c618-4a0e-bc42-2f502f10fca3\")>,\n",
       " <selenium.webdriver.remote.webelement.WebElement (session=\"73ba1df09adbe58ada8d4ca8bd7738e5\", element=\"16d5959f-c3d5-4a32-9fc8-c0f826604ab9\")>,\n",
       " <selenium.webdriver.remote.webelement.WebElement (session=\"73ba1df09adbe58ada8d4ca8bd7738e5\", element=\"a7d55ab5-4700-4c82-91e4-f91f1c2eaa8a\")>,\n",
       " <selenium.webdriver.remote.webelement.WebElement (session=\"73ba1df09adbe58ada8d4ca8bd7738e5\", element=\"375c5c13-c802-408c-a518-be508e0e8473\")>,\n",
       " <selenium.webdriver.remote.webelement.WebElement (session=\"73ba1df09adbe58ada8d4ca8bd7738e5\", element=\"1d4e296c-f46a-4a8d-917a-c5349ca15bfb\")>,\n",
       " <selenium.webdriver.remote.webelement.WebElement (session=\"73ba1df09adbe58ada8d4ca8bd7738e5\", element=\"096cc6b2-5e42-4e8d-a645-553bc90c18b7\")>,\n",
       " <selenium.webdriver.remote.webelement.WebElement (session=\"73ba1df09adbe58ada8d4ca8bd7738e5\", element=\"16bdcbe4-1bf1-476c-ade4-2dc6a640d421\")>,\n",
       " <selenium.webdriver.remote.webelement.WebElement (session=\"73ba1df09adbe58ada8d4ca8bd7738e5\", element=\"a16f0e01-026e-4302-ac9f-54278aa6d8bb\")>,\n",
       " <selenium.webdriver.remote.webelement.WebElement (session=\"73ba1df09adbe58ada8d4ca8bd7738e5\", element=\"71ab4ed4-eb18-43f7-9a51-b266575ee7c6\")>]"
      ]
     },
     "execution_count": 405,
     "metadata": {},
     "output_type": "execute_result"
    }
   ],
   "source": [
    "brand_price"
   ]
  },
  {
   "cell_type": "code",
   "execution_count": 406,
   "metadata": {
    "scrolled": true
   },
   "outputs": [
    {
     "data": {
      "text/plain": [
       "['₹1,139',\n",
       " '₹499',\n",
       " '₹197',\n",
       " '₹469',\n",
       " '₹347',\n",
       " '₹349',\n",
       " '₹449',\n",
       " '₹499',\n",
       " '₹186',\n",
       " '₹209',\n",
       " '₹424',\n",
       " '₹379',\n",
       " '₹399',\n",
       " '₹299',\n",
       " '₹424',\n",
       " '₹590',\n",
       " '₹389',\n",
       " '₹343',\n",
       " '₹159',\n",
       " '₹449',\n",
       " '₹192',\n",
       " '₹449',\n",
       " '₹348',\n",
       " '₹549',\n",
       " '₹566',\n",
       " '₹186',\n",
       " '₹349',\n",
       " '₹449',\n",
       " '₹249',\n",
       " '₹374',\n",
       " '₹249',\n",
       " '₹449',\n",
       " '₹298',\n",
       " '₹159',\n",
       " '₹249',\n",
       " '₹399',\n",
       " '₹249',\n",
       " '₹374',\n",
       " '₹301',\n",
       " '₹449']"
      ]
     },
     "execution_count": 406,
     "metadata": {},
     "output_type": "execute_result"
    }
   ],
   "source": [
    "price=[]\n",
    "for i in brand_price:\n",
    "   price.append(i.text)\n",
    "len(price)  \n",
    "price\n"
   ]
  },
  {
   "cell_type": "code",
   "execution_count": 407,
   "metadata": {},
   "outputs": [
    {
     "data": {
      "text/plain": [
       "40"
      ]
     },
     "execution_count": 407,
     "metadata": {},
     "output_type": "execute_result"
    }
   ],
   "source": [
    "\n",
    "#### extracting product discount\n",
    "brand_disc=driver.find_elements_by_xpath(\"//div[@class='_3Ay6Sb']\")\n",
    "len(brand_disc)"
   ]
  },
  {
   "cell_type": "code",
   "execution_count": 408,
   "metadata": {
    "scrolled": true
   },
   "outputs": [
    {
     "data": {
      "text/plain": [
       "[<selenium.webdriver.remote.webelement.WebElement (session=\"73ba1df09adbe58ada8d4ca8bd7738e5\", element=\"b2cd07ae-eeb1-4b28-9267-88ca48b4a56e\")>,\n",
       " <selenium.webdriver.remote.webelement.WebElement (session=\"73ba1df09adbe58ada8d4ca8bd7738e5\", element=\"528cb859-1c83-454d-b24a-0dd7ccc473c5\")>,\n",
       " <selenium.webdriver.remote.webelement.WebElement (session=\"73ba1df09adbe58ada8d4ca8bd7738e5\", element=\"c35e211b-2ac2-421a-892d-ffe55c3fbfa3\")>,\n",
       " <selenium.webdriver.remote.webelement.WebElement (session=\"73ba1df09adbe58ada8d4ca8bd7738e5\", element=\"3dfb764f-31c9-4e8a-9f07-da0138ee2f48\")>,\n",
       " <selenium.webdriver.remote.webelement.WebElement (session=\"73ba1df09adbe58ada8d4ca8bd7738e5\", element=\"6c6c575b-5644-4710-9b46-1f4d3b07b80e\")>,\n",
       " <selenium.webdriver.remote.webelement.WebElement (session=\"73ba1df09adbe58ada8d4ca8bd7738e5\", element=\"a34a9079-a8e1-4e92-a2fa-a6ef2fb81eab\")>,\n",
       " <selenium.webdriver.remote.webelement.WebElement (session=\"73ba1df09adbe58ada8d4ca8bd7738e5\", element=\"169fa283-6126-4d42-b9cf-e24cff5e3f3b\")>,\n",
       " <selenium.webdriver.remote.webelement.WebElement (session=\"73ba1df09adbe58ada8d4ca8bd7738e5\", element=\"d2b637a9-adc7-4954-9760-defeafde8874\")>,\n",
       " <selenium.webdriver.remote.webelement.WebElement (session=\"73ba1df09adbe58ada8d4ca8bd7738e5\", element=\"35b733dc-0c99-438e-8029-974c0c54e703\")>,\n",
       " <selenium.webdriver.remote.webelement.WebElement (session=\"73ba1df09adbe58ada8d4ca8bd7738e5\", element=\"acb9f1bb-4bfa-45ab-a8bf-620383f1eb23\")>,\n",
       " <selenium.webdriver.remote.webelement.WebElement (session=\"73ba1df09adbe58ada8d4ca8bd7738e5\", element=\"70dbf478-d357-4b6c-ac24-5f4afd090aaa\")>,\n",
       " <selenium.webdriver.remote.webelement.WebElement (session=\"73ba1df09adbe58ada8d4ca8bd7738e5\", element=\"7f3f37b0-6f8e-4d55-ab94-08506d6f0918\")>,\n",
       " <selenium.webdriver.remote.webelement.WebElement (session=\"73ba1df09adbe58ada8d4ca8bd7738e5\", element=\"052c783f-55af-44ab-bc0b-04045370e1f8\")>,\n",
       " <selenium.webdriver.remote.webelement.WebElement (session=\"73ba1df09adbe58ada8d4ca8bd7738e5\", element=\"8a6c0230-1402-4d3e-bb30-b5d39ab782e5\")>,\n",
       " <selenium.webdriver.remote.webelement.WebElement (session=\"73ba1df09adbe58ada8d4ca8bd7738e5\", element=\"a8db3b85-adbe-41a5-b822-f87dc4cfb748\")>,\n",
       " <selenium.webdriver.remote.webelement.WebElement (session=\"73ba1df09adbe58ada8d4ca8bd7738e5\", element=\"d2aa925c-4efa-4354-a346-5e263a06ca2b\")>,\n",
       " <selenium.webdriver.remote.webelement.WebElement (session=\"73ba1df09adbe58ada8d4ca8bd7738e5\", element=\"f33daf8b-165a-47a1-bc0e-b7c08e522237\")>,\n",
       " <selenium.webdriver.remote.webelement.WebElement (session=\"73ba1df09adbe58ada8d4ca8bd7738e5\", element=\"8a78a899-f3f5-40f7-8e59-8663a70d73b1\")>,\n",
       " <selenium.webdriver.remote.webelement.WebElement (session=\"73ba1df09adbe58ada8d4ca8bd7738e5\", element=\"3f01ddeb-b8f0-4f00-bebe-898d3a406a29\")>,\n",
       " <selenium.webdriver.remote.webelement.WebElement (session=\"73ba1df09adbe58ada8d4ca8bd7738e5\", element=\"c2dfda2d-e929-4e49-b0d0-31fae8896c61\")>,\n",
       " <selenium.webdriver.remote.webelement.WebElement (session=\"73ba1df09adbe58ada8d4ca8bd7738e5\", element=\"93a1d67f-7a1b-4063-b086-d01be503b200\")>,\n",
       " <selenium.webdriver.remote.webelement.WebElement (session=\"73ba1df09adbe58ada8d4ca8bd7738e5\", element=\"dec9aac0-f6a1-421c-9496-8ccad95dbea1\")>,\n",
       " <selenium.webdriver.remote.webelement.WebElement (session=\"73ba1df09adbe58ada8d4ca8bd7738e5\", element=\"cb68fd92-7d68-4ad1-bbca-e3938f12741b\")>,\n",
       " <selenium.webdriver.remote.webelement.WebElement (session=\"73ba1df09adbe58ada8d4ca8bd7738e5\", element=\"9cb5c018-5e4f-4cb2-a268-0ce8dadfed0a\")>,\n",
       " <selenium.webdriver.remote.webelement.WebElement (session=\"73ba1df09adbe58ada8d4ca8bd7738e5\", element=\"c1d5caa8-60c4-434d-9ce4-349512aef0c9\")>,\n",
       " <selenium.webdriver.remote.webelement.WebElement (session=\"73ba1df09adbe58ada8d4ca8bd7738e5\", element=\"fe49e679-4bb2-4578-8c0c-fdd12a4ba785\")>,\n",
       " <selenium.webdriver.remote.webelement.WebElement (session=\"73ba1df09adbe58ada8d4ca8bd7738e5\", element=\"e8460a62-eeeb-42a7-9845-1c5c1c15ebbf\")>,\n",
       " <selenium.webdriver.remote.webelement.WebElement (session=\"73ba1df09adbe58ada8d4ca8bd7738e5\", element=\"b015a5e7-ac2f-469b-9dce-8debcba9d575\")>,\n",
       " <selenium.webdriver.remote.webelement.WebElement (session=\"73ba1df09adbe58ada8d4ca8bd7738e5\", element=\"c409d306-090c-47f8-b6c2-0f4e883e4fc2\")>,\n",
       " <selenium.webdriver.remote.webelement.WebElement (session=\"73ba1df09adbe58ada8d4ca8bd7738e5\", element=\"9626815a-3101-4ce2-916f-bcd3a1cf0e7f\")>,\n",
       " <selenium.webdriver.remote.webelement.WebElement (session=\"73ba1df09adbe58ada8d4ca8bd7738e5\", element=\"2d1eebed-84b7-41f8-a7ed-9bec728595bd\")>,\n",
       " <selenium.webdriver.remote.webelement.WebElement (session=\"73ba1df09adbe58ada8d4ca8bd7738e5\", element=\"1f2aba3c-c04c-409d-adcd-97b9c138cf38\")>,\n",
       " <selenium.webdriver.remote.webelement.WebElement (session=\"73ba1df09adbe58ada8d4ca8bd7738e5\", element=\"e58971cc-d727-4ba3-8a47-210b9f16ae35\")>,\n",
       " <selenium.webdriver.remote.webelement.WebElement (session=\"73ba1df09adbe58ada8d4ca8bd7738e5\", element=\"06370268-231b-429f-907f-0f5fe384dd1d\")>,\n",
       " <selenium.webdriver.remote.webelement.WebElement (session=\"73ba1df09adbe58ada8d4ca8bd7738e5\", element=\"8d11b829-36f7-46ab-bf15-98e534edee04\")>,\n",
       " <selenium.webdriver.remote.webelement.WebElement (session=\"73ba1df09adbe58ada8d4ca8bd7738e5\", element=\"93f70dd6-f260-493a-9601-869feb3af80c\")>,\n",
       " <selenium.webdriver.remote.webelement.WebElement (session=\"73ba1df09adbe58ada8d4ca8bd7738e5\", element=\"ccc31cb7-d820-47af-8065-b9a1d137a5ae\")>,\n",
       " <selenium.webdriver.remote.webelement.WebElement (session=\"73ba1df09adbe58ada8d4ca8bd7738e5\", element=\"1c5f8963-0746-4b22-ae17-ffd9a9510c2d\")>,\n",
       " <selenium.webdriver.remote.webelement.WebElement (session=\"73ba1df09adbe58ada8d4ca8bd7738e5\", element=\"48a1f86a-26ce-49b6-a8fa-a0d854a61b52\")>,\n",
       " <selenium.webdriver.remote.webelement.WebElement (session=\"73ba1df09adbe58ada8d4ca8bd7738e5\", element=\"27e8f608-3c21-4327-80b3-175c306e2490\")>]"
      ]
     },
     "execution_count": 408,
     "metadata": {},
     "output_type": "execute_result"
    }
   ],
   "source": [
    "brand_disc"
   ]
  },
  {
   "cell_type": "code",
   "execution_count": 409,
   "metadata": {
    "scrolled": true
   },
   "outputs": [
    {
     "data": {
      "text/plain": [
       "['59% off',\n",
       " '58% off',\n",
       " '80% off',\n",
       " '70% off',\n",
       " '82% off',\n",
       " '73% off',\n",
       " '70% off',\n",
       " '58% off',\n",
       " '76% off',\n",
       " '83% off',\n",
       " '78% off',\n",
       " '70% off',\n",
       " '60% off',\n",
       " '70% off',\n",
       " '57% off',\n",
       " '40% off',\n",
       " '78% off',\n",
       " '73% off',\n",
       " '68% off',\n",
       " '55% off',\n",
       " '72% off',\n",
       " '55% off',\n",
       " '65% off',\n",
       " '81% off',\n",
       " '62% off',\n",
       " '76% off',\n",
       " '82% off',\n",
       " '55% off',\n",
       " '62% off',\n",
       " '62% off',\n",
       " '80% off',\n",
       " '77% off',\n",
       " '77% off',\n",
       " '68% off',\n",
       " '80% off',\n",
       " '60% off',\n",
       " '68% off',\n",
       " '62% off',\n",
       " '69% off',\n",
       " '55% off']"
      ]
     },
     "execution_count": 409,
     "metadata": {},
     "output_type": "execute_result"
    }
   ],
   "source": [
    "discount=[]\n",
    "for i in brand_disc:\n",
    "   discount.append(i.text)\n",
    "len(discount)  \n",
    "discount"
   ]
  },
  {
   "cell_type": "code",
   "execution_count": 417,
   "metadata": {},
   "outputs": [
    {
     "data": {
      "text/html": [
       "<div>\n",
       "<style scoped>\n",
       "    .dataframe tbody tr th:only-of-type {\n",
       "        vertical-align: middle;\n",
       "    }\n",
       "\n",
       "    .dataframe tbody tr th {\n",
       "        vertical-align: top;\n",
       "    }\n",
       "\n",
       "    .dataframe thead th {\n",
       "        text-align: right;\n",
       "    }\n",
       "</style>\n",
       "<table border=\"1\" class=\"dataframe\">\n",
       "  <thead>\n",
       "    <tr style=\"text-align: right;\">\n",
       "      <th></th>\n",
       "      <th>Brand_name</th>\n",
       "      <th>Brand_Description</th>\n",
       "      <th>Brand_Price</th>\n",
       "      <th>Brand_Discount</th>\n",
       "    </tr>\n",
       "  </thead>\n",
       "  <tbody>\n",
       "    <tr>\n",
       "      <th>0</th>\n",
       "      <td>Roadster</td>\n",
       "      <td>Men Blue Solid Sneakers Sneakers For Men</td>\n",
       "      <td>₹1,139</td>\n",
       "      <td>59% off</td>\n",
       "    </tr>\n",
       "    <tr>\n",
       "      <th>1</th>\n",
       "      <td>Smoky</td>\n",
       "      <td>Trendy Sneakers For Men</td>\n",
       "      <td>₹499</td>\n",
       "      <td>58% off</td>\n",
       "    </tr>\n",
       "    <tr>\n",
       "      <th>2</th>\n",
       "      <td>URBANBOX</td>\n",
       "      <td>Super Stylish &amp; Trendy Combo Pack of 02 Pairs ...</td>\n",
       "      <td>₹197</td>\n",
       "      <td>80% off</td>\n",
       "    </tr>\n",
       "    <tr>\n",
       "      <th>3</th>\n",
       "      <td>Chevit</td>\n",
       "      <td>Kwik FIT casual sneaker shoes and partywear sh...</td>\n",
       "      <td>₹469</td>\n",
       "      <td>70% off</td>\n",
       "    </tr>\n",
       "    <tr>\n",
       "      <th>4</th>\n",
       "      <td>KWIK FIT</td>\n",
       "      <td>casual sneaker shoes for men luxury fashion ca...</td>\n",
       "      <td>₹347</td>\n",
       "      <td>82% off</td>\n",
       "    </tr>\n",
       "    <tr>\n",
       "      <th>5</th>\n",
       "      <td>kardam&amp;sons</td>\n",
       "      <td>STYLISH MENS BLACK SNEAKER Sneakers For Men</td>\n",
       "      <td>₹349</td>\n",
       "      <td>73% off</td>\n",
       "    </tr>\n",
       "    <tr>\n",
       "      <th>6</th>\n",
       "      <td>corsac</td>\n",
       "      <td>13 Sneakers For Men</td>\n",
       "      <td>₹449</td>\n",
       "      <td>70% off</td>\n",
       "    </tr>\n",
       "    <tr>\n",
       "      <th>7</th>\n",
       "      <td>Smoky</td>\n",
       "      <td>516 Trendy Star Perfect Sneakers For Men</td>\n",
       "      <td>₹499</td>\n",
       "      <td>58% off</td>\n",
       "    </tr>\n",
       "    <tr>\n",
       "      <th>8</th>\n",
       "      <td>Chevit</td>\n",
       "      <td>Modern Trendy Sneakers Shoes Sneakers For Men</td>\n",
       "      <td>₹186</td>\n",
       "      <td>76% off</td>\n",
       "    </tr>\n",
       "    <tr>\n",
       "      <th>9</th>\n",
       "      <td>BRUTON</td>\n",
       "      <td>Original Luxury Branded Fashionable Men's Casu...</td>\n",
       "      <td>₹209</td>\n",
       "      <td>83% off</td>\n",
       "    </tr>\n",
       "    <tr>\n",
       "      <th>10</th>\n",
       "      <td>ASTEROID</td>\n",
       "      <td>Sneakers For Men</td>\n",
       "      <td>₹424</td>\n",
       "      <td>78% off</td>\n",
       "    </tr>\n",
       "    <tr>\n",
       "      <th>11</th>\n",
       "      <td>Numenzo</td>\n",
       "      <td>Sneakers For Men</td>\n",
       "      <td>₹379</td>\n",
       "      <td>70% off</td>\n",
       "    </tr>\n",
       "    <tr>\n",
       "      <th>12</th>\n",
       "      <td>Layasa</td>\n",
       "      <td>White Sneaker For Men's/Boy's Sneakers For Men</td>\n",
       "      <td>₹399</td>\n",
       "      <td>60% off</td>\n",
       "    </tr>\n",
       "    <tr>\n",
       "      <th>13</th>\n",
       "      <td>Shoes Bank</td>\n",
       "      <td>Sneakers For Men</td>\n",
       "      <td>₹299</td>\n",
       "      <td>70% off</td>\n",
       "    </tr>\n",
       "    <tr>\n",
       "      <th>14</th>\n",
       "      <td>Labbin</td>\n",
       "      <td>Perfect &amp; Affordable Combo Pack of 02 Pairs Sn...</td>\n",
       "      <td>₹424</td>\n",
       "      <td>57% off</td>\n",
       "    </tr>\n",
       "    <tr>\n",
       "      <th>15</th>\n",
       "      <td>RapidBox</td>\n",
       "      <td>Luxury Fashionable casual sneaker shoes Sneake...</td>\n",
       "      <td>₹590</td>\n",
       "      <td>40% off</td>\n",
       "    </tr>\n",
       "    <tr>\n",
       "      <th>16</th>\n",
       "      <td>Chevit</td>\n",
       "      <td>5013-Latest Collection Stylish &amp; Trendy of cas...</td>\n",
       "      <td>₹389</td>\n",
       "      <td>78% off</td>\n",
       "    </tr>\n",
       "    <tr>\n",
       "      <th>17</th>\n",
       "      <td>luxury fashion</td>\n",
       "      <td>Sneakers For Men</td>\n",
       "      <td>₹343</td>\n",
       "      <td>73% off</td>\n",
       "    </tr>\n",
       "    <tr>\n",
       "      <th>18</th>\n",
       "      <td>World Wear Footwear</td>\n",
       "      <td>Original Luxury Branded Fashionable Men's Casu...</td>\n",
       "      <td>₹159</td>\n",
       "      <td>68% off</td>\n",
       "    </tr>\n",
       "    <tr>\n",
       "      <th>19</th>\n",
       "      <td>Bacan</td>\n",
       "      <td>Sneakers Sneakers For Men</td>\n",
       "      <td>₹449</td>\n",
       "      <td>55% off</td>\n",
       "    </tr>\n",
       "    <tr>\n",
       "      <th>20</th>\n",
       "      <td>Stefano Rads</td>\n",
       "      <td>Sneakers For Men</td>\n",
       "      <td>₹192</td>\n",
       "      <td>72% off</td>\n",
       "    </tr>\n",
       "    <tr>\n",
       "      <th>21</th>\n",
       "      <td>ASTEROID</td>\n",
       "      <td>Sneakers For Men</td>\n",
       "      <td>₹449</td>\n",
       "      <td>55% off</td>\n",
       "    </tr>\n",
       "    <tr>\n",
       "      <th>22</th>\n",
       "      <td>SCATCHITE</td>\n",
       "      <td>Sneakers For Men</td>\n",
       "      <td>₹348</td>\n",
       "      <td>65% off</td>\n",
       "    </tr>\n",
       "    <tr>\n",
       "      <th>23</th>\n",
       "      <td>Navtrend</td>\n",
       "      <td>Casual , Partywear Sneakers Shoes For Men's An...</td>\n",
       "      <td>₹549</td>\n",
       "      <td>81% off</td>\n",
       "    </tr>\n",
       "    <tr>\n",
       "      <th>24</th>\n",
       "      <td>CLYMB</td>\n",
       "      <td>Sneakers For Men</td>\n",
       "      <td>₹566</td>\n",
       "      <td>62% off</td>\n",
       "    </tr>\n",
       "    <tr>\n",
       "      <th>25</th>\n",
       "      <td>Chevit</td>\n",
       "      <td>Lattest Sneakers Shoe Sneakers For Men</td>\n",
       "      <td>₹186</td>\n",
       "      <td>76% off</td>\n",
       "    </tr>\n",
       "    <tr>\n",
       "      <th>26</th>\n",
       "      <td>luxury fashion</td>\n",
       "      <td>Sneakers For Men</td>\n",
       "      <td>₹349</td>\n",
       "      <td>82% off</td>\n",
       "    </tr>\n",
       "    <tr>\n",
       "      <th>27</th>\n",
       "      <td>Bacan</td>\n",
       "      <td>5011-Latest Collection Stylish &amp; Trendy Casual...</td>\n",
       "      <td>₹449</td>\n",
       "      <td>55% off</td>\n",
       "    </tr>\n",
       "    <tr>\n",
       "      <th>28</th>\n",
       "      <td>D-SNEAKERZ</td>\n",
       "      <td>Sneaker Sneakers For Men</td>\n",
       "      <td>₹249</td>\n",
       "      <td>62% off</td>\n",
       "    </tr>\n",
       "    <tr>\n",
       "      <th>29</th>\n",
       "      <td>Magnolia</td>\n",
       "      <td>Sneakers For Men</td>\n",
       "      <td>₹374</td>\n",
       "      <td>62% off</td>\n",
       "    </tr>\n",
       "    <tr>\n",
       "      <th>30</th>\n",
       "      <td>BRUTON</td>\n",
       "      <td>Sneakers For Men</td>\n",
       "      <td>₹249</td>\n",
       "      <td>80% off</td>\n",
       "    </tr>\n",
       "    <tr>\n",
       "      <th>31</th>\n",
       "      <td>Nilatin</td>\n",
       "      <td>Sports Running Shoes Sneakers For Men</td>\n",
       "      <td>₹449</td>\n",
       "      <td>77% off</td>\n",
       "    </tr>\n",
       "    <tr>\n",
       "      <th>32</th>\n",
       "      <td>Zsyto</td>\n",
       "      <td>Sneakers For Men</td>\n",
       "      <td>₹298</td>\n",
       "      <td>77% off</td>\n",
       "    </tr>\n",
       "  </tbody>\n",
       "</table>\n",
       "</div>"
      ],
      "text/plain": [
       "             Brand_name                                  Brand_Description  \\\n",
       "0              Roadster           Men Blue Solid Sneakers Sneakers For Men   \n",
       "1                 Smoky                            Trendy Sneakers For Men   \n",
       "2              URBANBOX  Super Stylish & Trendy Combo Pack of 02 Pairs ...   \n",
       "3                Chevit  Kwik FIT casual sneaker shoes and partywear sh...   \n",
       "4              KWIK FIT  casual sneaker shoes for men luxury fashion ca...   \n",
       "5           kardam&sons        STYLISH MENS BLACK SNEAKER Sneakers For Men   \n",
       "6                corsac                                13 Sneakers For Men   \n",
       "7                 Smoky           516 Trendy Star Perfect Sneakers For Men   \n",
       "8                Chevit      Modern Trendy Sneakers Shoes Sneakers For Men   \n",
       "9                BRUTON  Original Luxury Branded Fashionable Men's Casu...   \n",
       "10             ASTEROID                                   Sneakers For Men   \n",
       "11              Numenzo                                   Sneakers For Men   \n",
       "12               Layasa     White Sneaker For Men's/Boy's Sneakers For Men   \n",
       "13           Shoes Bank                                   Sneakers For Men   \n",
       "14               Labbin  Perfect & Affordable Combo Pack of 02 Pairs Sn...   \n",
       "15             RapidBox  Luxury Fashionable casual sneaker shoes Sneake...   \n",
       "16               Chevit  5013-Latest Collection Stylish & Trendy of cas...   \n",
       "17       luxury fashion                                   Sneakers For Men   \n",
       "18  World Wear Footwear  Original Luxury Branded Fashionable Men's Casu...   \n",
       "19                Bacan                          Sneakers Sneakers For Men   \n",
       "20         Stefano Rads                                   Sneakers For Men   \n",
       "21             ASTEROID                                   Sneakers For Men   \n",
       "22            SCATCHITE                                   Sneakers For Men   \n",
       "23             Navtrend  Casual , Partywear Sneakers Shoes For Men's An...   \n",
       "24                CLYMB                                   Sneakers For Men   \n",
       "25               Chevit             Lattest Sneakers Shoe Sneakers For Men   \n",
       "26       luxury fashion                                   Sneakers For Men   \n",
       "27                Bacan  5011-Latest Collection Stylish & Trendy Casual...   \n",
       "28           D-SNEAKERZ                           Sneaker Sneakers For Men   \n",
       "29             Magnolia                                   Sneakers For Men   \n",
       "30               BRUTON                                   Sneakers For Men   \n",
       "31              Nilatin              Sports Running Shoes Sneakers For Men   \n",
       "32                Zsyto                                   Sneakers For Men   \n",
       "\n",
       "   Brand_Price Brand_Discount  \n",
       "0       ₹1,139        59% off  \n",
       "1         ₹499        58% off  \n",
       "2         ₹197        80% off  \n",
       "3         ₹469        70% off  \n",
       "4         ₹347        82% off  \n",
       "5         ₹349        73% off  \n",
       "6         ₹449        70% off  \n",
       "7         ₹499        58% off  \n",
       "8         ₹186        76% off  \n",
       "9         ₹209        83% off  \n",
       "10        ₹424        78% off  \n",
       "11        ₹379        70% off  \n",
       "12        ₹399        60% off  \n",
       "13        ₹299        70% off  \n",
       "14        ₹424        57% off  \n",
       "15        ₹590        40% off  \n",
       "16        ₹389        78% off  \n",
       "17        ₹343        73% off  \n",
       "18        ₹159        68% off  \n",
       "19        ₹449        55% off  \n",
       "20        ₹192        72% off  \n",
       "21        ₹449        55% off  \n",
       "22        ₹348        65% off  \n",
       "23        ₹549        81% off  \n",
       "24        ₹566        62% off  \n",
       "25        ₹186        76% off  \n",
       "26        ₹349        82% off  \n",
       "27        ₹449        55% off  \n",
       "28        ₹249        62% off  \n",
       "29        ₹374        62% off  \n",
       "30        ₹249        80% off  \n",
       "31        ₹449        77% off  \n",
       "32        ₹298        77% off  "
      ]
     },
     "execution_count": 417,
     "metadata": {},
     "output_type": "execute_result"
    }
   ],
   "source": [
    "sneakers_1=pd.DataFrame()\n",
    "sneakers_1['Brand_name']=brand[0:33]\n",
    "sneakers_1['Brand_Description']=descp\n",
    "sneakers_1['Brand_Price']=price[0:33]\n",
    "sneakers_1['Brand_Discount']=discount[0:33]\n",
    "sneakers_1"
   ]
  },
  {
   "cell_type": "code",
   "execution_count": 418,
   "metadata": {},
   "outputs": [],
   "source": [
    "next_pg=driver.find_element_by_xpath(\"/html/body/div[1]/div/div[3]/div[1]/div[2]/div[12]/div/div/nav/a[2]\")\n",
    "next_pg.click()"
   ]
  },
  {
   "cell_type": "code",
   "execution_count": 419,
   "metadata": {},
   "outputs": [
    {
     "data": {
      "text/plain": [
       "40"
      ]
     },
     "execution_count": 419,
     "metadata": {},
     "output_type": "execute_result"
    }
   ],
   "source": [
    "##extracting brand name \n",
    "brand_name=driver.find_elements_by_xpath(\"//div[@class='_2WkVRV']\")\n",
    "len(brand_name)"
   ]
  },
  {
   "cell_type": "code",
   "execution_count": 420,
   "metadata": {
    "scrolled": true
   },
   "outputs": [
    {
     "data": {
      "text/plain": [
       "[<selenium.webdriver.remote.webelement.WebElement (session=\"73ba1df09adbe58ada8d4ca8bd7738e5\", element=\"b547992c-74ba-4826-ae1b-f7cc4d9aa2c2\")>,\n",
       " <selenium.webdriver.remote.webelement.WebElement (session=\"73ba1df09adbe58ada8d4ca8bd7738e5\", element=\"19915f5a-5ce5-4662-9de8-664c3b0d2b76\")>,\n",
       " <selenium.webdriver.remote.webelement.WebElement (session=\"73ba1df09adbe58ada8d4ca8bd7738e5\", element=\"a16bab0b-b69f-4475-8dfd-8d517207b094\")>,\n",
       " <selenium.webdriver.remote.webelement.WebElement (session=\"73ba1df09adbe58ada8d4ca8bd7738e5\", element=\"d121a582-c5db-4fbd-bda8-1d53f309e6ae\")>,\n",
       " <selenium.webdriver.remote.webelement.WebElement (session=\"73ba1df09adbe58ada8d4ca8bd7738e5\", element=\"e12c3aee-142f-4ce4-ad06-432a482ef8e5\")>,\n",
       " <selenium.webdriver.remote.webelement.WebElement (session=\"73ba1df09adbe58ada8d4ca8bd7738e5\", element=\"9cc8acff-a873-4dc3-8bc7-7bd8357a1d77\")>,\n",
       " <selenium.webdriver.remote.webelement.WebElement (session=\"73ba1df09adbe58ada8d4ca8bd7738e5\", element=\"be167f51-620c-44f0-92e2-03c8169a6ce5\")>,\n",
       " <selenium.webdriver.remote.webelement.WebElement (session=\"73ba1df09adbe58ada8d4ca8bd7738e5\", element=\"042c13a6-f059-4799-b526-e7b714f0184e\")>,\n",
       " <selenium.webdriver.remote.webelement.WebElement (session=\"73ba1df09adbe58ada8d4ca8bd7738e5\", element=\"8f3a80d8-17d3-4208-8a88-16b004c3e9cf\")>,\n",
       " <selenium.webdriver.remote.webelement.WebElement (session=\"73ba1df09adbe58ada8d4ca8bd7738e5\", element=\"725c9dfb-bba3-464e-8ccf-7e260bd84c4f\")>,\n",
       " <selenium.webdriver.remote.webelement.WebElement (session=\"73ba1df09adbe58ada8d4ca8bd7738e5\", element=\"dec391f7-313d-4b76-a82f-17da53642f0e\")>,\n",
       " <selenium.webdriver.remote.webelement.WebElement (session=\"73ba1df09adbe58ada8d4ca8bd7738e5\", element=\"786531f3-9789-4cae-a30c-8c51e40dda9f\")>,\n",
       " <selenium.webdriver.remote.webelement.WebElement (session=\"73ba1df09adbe58ada8d4ca8bd7738e5\", element=\"2c3caad2-951d-42c9-866b-031fc941d1b5\")>,\n",
       " <selenium.webdriver.remote.webelement.WebElement (session=\"73ba1df09adbe58ada8d4ca8bd7738e5\", element=\"98c301de-55a2-46be-9be0-45500cac55c0\")>,\n",
       " <selenium.webdriver.remote.webelement.WebElement (session=\"73ba1df09adbe58ada8d4ca8bd7738e5\", element=\"fb79b26d-7a71-4697-8159-c95be34ccf77\")>,\n",
       " <selenium.webdriver.remote.webelement.WebElement (session=\"73ba1df09adbe58ada8d4ca8bd7738e5\", element=\"b7cd3876-4d44-49fa-b405-57aedc2fd6d8\")>,\n",
       " <selenium.webdriver.remote.webelement.WebElement (session=\"73ba1df09adbe58ada8d4ca8bd7738e5\", element=\"1b88e5c1-ff45-462c-a50c-582ea8ea9f66\")>,\n",
       " <selenium.webdriver.remote.webelement.WebElement (session=\"73ba1df09adbe58ada8d4ca8bd7738e5\", element=\"b50dfdbd-6df9-436e-8055-02e311ac96d1\")>,\n",
       " <selenium.webdriver.remote.webelement.WebElement (session=\"73ba1df09adbe58ada8d4ca8bd7738e5\", element=\"6fb1e0df-e1a1-48e8-98d3-355d0de2fecc\")>,\n",
       " <selenium.webdriver.remote.webelement.WebElement (session=\"73ba1df09adbe58ada8d4ca8bd7738e5\", element=\"8ad1c832-9c93-4675-b00c-74168e877138\")>,\n",
       " <selenium.webdriver.remote.webelement.WebElement (session=\"73ba1df09adbe58ada8d4ca8bd7738e5\", element=\"9536215d-1e82-4c60-8346-b1dce83d74e6\")>,\n",
       " <selenium.webdriver.remote.webelement.WebElement (session=\"73ba1df09adbe58ada8d4ca8bd7738e5\", element=\"f5849cdb-3167-4ee2-97b9-84d9f38cd5d9\")>,\n",
       " <selenium.webdriver.remote.webelement.WebElement (session=\"73ba1df09adbe58ada8d4ca8bd7738e5\", element=\"550bc85d-aff6-43d1-b7d4-f5f0f3bff190\")>,\n",
       " <selenium.webdriver.remote.webelement.WebElement (session=\"73ba1df09adbe58ada8d4ca8bd7738e5\", element=\"60680fa8-20f6-4509-9832-2bdcab5dde13\")>,\n",
       " <selenium.webdriver.remote.webelement.WebElement (session=\"73ba1df09adbe58ada8d4ca8bd7738e5\", element=\"8b158257-85cb-49cb-87a1-bd63dda7dc02\")>,\n",
       " <selenium.webdriver.remote.webelement.WebElement (session=\"73ba1df09adbe58ada8d4ca8bd7738e5\", element=\"9933face-2254-4701-aa87-3115bfdde77b\")>,\n",
       " <selenium.webdriver.remote.webelement.WebElement (session=\"73ba1df09adbe58ada8d4ca8bd7738e5\", element=\"2bc50875-1311-45b4-86e8-06f9e18b7b22\")>,\n",
       " <selenium.webdriver.remote.webelement.WebElement (session=\"73ba1df09adbe58ada8d4ca8bd7738e5\", element=\"90c2b01f-3f61-43f2-af15-cb072e62ddbd\")>,\n",
       " <selenium.webdriver.remote.webelement.WebElement (session=\"73ba1df09adbe58ada8d4ca8bd7738e5\", element=\"bc2df33e-fb09-431c-8854-7ba495ecda03\")>,\n",
       " <selenium.webdriver.remote.webelement.WebElement (session=\"73ba1df09adbe58ada8d4ca8bd7738e5\", element=\"94376e9d-d284-41df-8d02-45cbe5adc861\")>,\n",
       " <selenium.webdriver.remote.webelement.WebElement (session=\"73ba1df09adbe58ada8d4ca8bd7738e5\", element=\"1e54a7fb-dd93-4451-8156-917a1eb2dfad\")>,\n",
       " <selenium.webdriver.remote.webelement.WebElement (session=\"73ba1df09adbe58ada8d4ca8bd7738e5\", element=\"c3d50adb-ee12-4206-a7d7-f1e94446c814\")>,\n",
       " <selenium.webdriver.remote.webelement.WebElement (session=\"73ba1df09adbe58ada8d4ca8bd7738e5\", element=\"835db360-2286-4ae5-b27e-c6e55f81fb7f\")>,\n",
       " <selenium.webdriver.remote.webelement.WebElement (session=\"73ba1df09adbe58ada8d4ca8bd7738e5\", element=\"68a87f13-ce3a-4b0e-8edb-983e41bf66fd\")>,\n",
       " <selenium.webdriver.remote.webelement.WebElement (session=\"73ba1df09adbe58ada8d4ca8bd7738e5\", element=\"bf45714b-342b-49a1-972e-9c54b63f0071\")>,\n",
       " <selenium.webdriver.remote.webelement.WebElement (session=\"73ba1df09adbe58ada8d4ca8bd7738e5\", element=\"3a36b6b7-3c95-45e7-b29b-162c7480b2dd\")>,\n",
       " <selenium.webdriver.remote.webelement.WebElement (session=\"73ba1df09adbe58ada8d4ca8bd7738e5\", element=\"2da406f3-6585-416f-93c2-6d4880a21da3\")>,\n",
       " <selenium.webdriver.remote.webelement.WebElement (session=\"73ba1df09adbe58ada8d4ca8bd7738e5\", element=\"1a1d18c8-9940-4f96-bf2b-e7423043be69\")>,\n",
       " <selenium.webdriver.remote.webelement.WebElement (session=\"73ba1df09adbe58ada8d4ca8bd7738e5\", element=\"2e372f97-b6db-4406-a6e4-d8f4f13bde6e\")>,\n",
       " <selenium.webdriver.remote.webelement.WebElement (session=\"73ba1df09adbe58ada8d4ca8bd7738e5\", element=\"f4e47d28-d51f-4d64-914d-0f9b74d483c1\")>]"
      ]
     },
     "execution_count": 420,
     "metadata": {},
     "output_type": "execute_result"
    }
   ],
   "source": [
    "brand_name"
   ]
  },
  {
   "cell_type": "code",
   "execution_count": 421,
   "metadata": {
    "scrolled": true
   },
   "outputs": [
    {
     "data": {
      "text/plain": [
       "['BIRDE',\n",
       " 'Chevit',\n",
       " 'India hub',\n",
       " 'EMPTILE',\n",
       " 'RED TAPE',\n",
       " 'India hub',\n",
       " 'Kraasa',\n",
       " 'Robbie jones',\n",
       " 'World Wear Footwear',\n",
       " 'Elevarse',\n",
       " 'Kraasa',\n",
       " 'Strollin',\n",
       " 'corsac',\n",
       " 'Rzisbo',\n",
       " 'aadi',\n",
       " 'Robbie jones',\n",
       " 'CLYMB',\n",
       " 'World Wear Footwear',\n",
       " 'World Wear Footwear',\n",
       " 'Nilatin',\n",
       " 'Airland',\n",
       " 'Hida',\n",
       " 'TR',\n",
       " 'RapidBox',\n",
       " 'Xtoon',\n",
       " 'bluemaker',\n",
       " 'Vellinto',\n",
       " 'Numenzo',\n",
       " 'Echor',\n",
       " 'Gentax',\n",
       " 'NIKE',\n",
       " 'Navtrend',\n",
       " 'Echor',\n",
       " 'BRUTON',\n",
       " 'PUMA',\n",
       " 'Numenzo',\n",
       " 'Chevit',\n",
       " 'D-SNEAKERZ',\n",
       " 'LuvShus',\n",
       " 'BS FASHION']"
      ]
     },
     "execution_count": 421,
     "metadata": {},
     "output_type": "execute_result"
    }
   ],
   "source": [
    "brand=[]\n",
    "for i in brand_name:\n",
    "    brand.append(i.text)\n",
    "len(brand)  \n",
    "brand"
   ]
  },
  {
   "cell_type": "code",
   "execution_count": 422,
   "metadata": {},
   "outputs": [
    {
     "data": {
      "text/plain": [
       "32"
      ]
     },
     "execution_count": 422,
     "metadata": {},
     "output_type": "execute_result"
    }
   ],
   "source": [
    "#### extracting product description \n",
    "brand_descp=driver.find_elements_by_xpath(\"//a[@class='IRpwTa']\")\n",
    "len(brand_descp)"
   ]
  },
  {
   "cell_type": "code",
   "execution_count": 423,
   "metadata": {
    "scrolled": true
   },
   "outputs": [
    {
     "data": {
      "text/plain": [
       "[<selenium.webdriver.remote.webelement.WebElement (session=\"73ba1df09adbe58ada8d4ca8bd7738e5\", element=\"3b55f0ed-68f8-483c-9eea-4e17b69dffb2\")>,\n",
       " <selenium.webdriver.remote.webelement.WebElement (session=\"73ba1df09adbe58ada8d4ca8bd7738e5\", element=\"ace9b453-5335-4578-830d-bef665b9bf7d\")>,\n",
       " <selenium.webdriver.remote.webelement.WebElement (session=\"73ba1df09adbe58ada8d4ca8bd7738e5\", element=\"cda416ef-af2f-4852-bc35-0ce1903e1d21\")>,\n",
       " <selenium.webdriver.remote.webelement.WebElement (session=\"73ba1df09adbe58ada8d4ca8bd7738e5\", element=\"c76a8352-9583-4079-ae7a-fb1c9cf7d6eb\")>,\n",
       " <selenium.webdriver.remote.webelement.WebElement (session=\"73ba1df09adbe58ada8d4ca8bd7738e5\", element=\"1c556e11-3888-43d1-b352-fa67985b0030\")>,\n",
       " <selenium.webdriver.remote.webelement.WebElement (session=\"73ba1df09adbe58ada8d4ca8bd7738e5\", element=\"03c94849-c2d8-44e9-b206-28641dc883a9\")>,\n",
       " <selenium.webdriver.remote.webelement.WebElement (session=\"73ba1df09adbe58ada8d4ca8bd7738e5\", element=\"f5a8aae8-1a66-423c-98d6-1bc907f1b20d\")>,\n",
       " <selenium.webdriver.remote.webelement.WebElement (session=\"73ba1df09adbe58ada8d4ca8bd7738e5\", element=\"356f16fa-c24c-469e-967a-4e7acd33c0d5\")>,\n",
       " <selenium.webdriver.remote.webelement.WebElement (session=\"73ba1df09adbe58ada8d4ca8bd7738e5\", element=\"fa19d997-436d-4632-a5d6-86e909a2bc27\")>,\n",
       " <selenium.webdriver.remote.webelement.WebElement (session=\"73ba1df09adbe58ada8d4ca8bd7738e5\", element=\"93e56eca-5d58-4943-b477-71ce50ba9eb0\")>,\n",
       " <selenium.webdriver.remote.webelement.WebElement (session=\"73ba1df09adbe58ada8d4ca8bd7738e5\", element=\"89064d2f-ac08-4775-8c21-c885fb087d5d\")>,\n",
       " <selenium.webdriver.remote.webelement.WebElement (session=\"73ba1df09adbe58ada8d4ca8bd7738e5\", element=\"ed403a07-27a5-4000-a5be-2b4362427ade\")>,\n",
       " <selenium.webdriver.remote.webelement.WebElement (session=\"73ba1df09adbe58ada8d4ca8bd7738e5\", element=\"645443a2-caac-48dc-b608-0981e6f9f963\")>,\n",
       " <selenium.webdriver.remote.webelement.WebElement (session=\"73ba1df09adbe58ada8d4ca8bd7738e5\", element=\"f7d99839-14cd-4ff8-9075-2320c367d275\")>,\n",
       " <selenium.webdriver.remote.webelement.WebElement (session=\"73ba1df09adbe58ada8d4ca8bd7738e5\", element=\"72f44511-9891-4aa6-854d-38b867f78ccb\")>,\n",
       " <selenium.webdriver.remote.webelement.WebElement (session=\"73ba1df09adbe58ada8d4ca8bd7738e5\", element=\"51348237-0c2c-42e1-8d08-c5a45867e65a\")>,\n",
       " <selenium.webdriver.remote.webelement.WebElement (session=\"73ba1df09adbe58ada8d4ca8bd7738e5\", element=\"165df099-9892-4dec-92d0-db33b654ede1\")>,\n",
       " <selenium.webdriver.remote.webelement.WebElement (session=\"73ba1df09adbe58ada8d4ca8bd7738e5\", element=\"396f50c4-c1fb-4e22-90e9-c5a9cab466b9\")>,\n",
       " <selenium.webdriver.remote.webelement.WebElement (session=\"73ba1df09adbe58ada8d4ca8bd7738e5\", element=\"6be6c2d9-202a-492b-a74c-ad77291d0009\")>,\n",
       " <selenium.webdriver.remote.webelement.WebElement (session=\"73ba1df09adbe58ada8d4ca8bd7738e5\", element=\"6bd70e07-114a-49b8-8d6e-5dbe56981f18\")>,\n",
       " <selenium.webdriver.remote.webelement.WebElement (session=\"73ba1df09adbe58ada8d4ca8bd7738e5\", element=\"827cee1c-6a65-4cda-868d-c54084ba0d9e\")>,\n",
       " <selenium.webdriver.remote.webelement.WebElement (session=\"73ba1df09adbe58ada8d4ca8bd7738e5\", element=\"92ccd6e3-746c-47a9-9417-ee64efa9b2b6\")>,\n",
       " <selenium.webdriver.remote.webelement.WebElement (session=\"73ba1df09adbe58ada8d4ca8bd7738e5\", element=\"bfe28833-df27-40c8-87cc-fecf4736fb07\")>,\n",
       " <selenium.webdriver.remote.webelement.WebElement (session=\"73ba1df09adbe58ada8d4ca8bd7738e5\", element=\"9493ad1a-93c3-4110-b377-ce3415031b8a\")>,\n",
       " <selenium.webdriver.remote.webelement.WebElement (session=\"73ba1df09adbe58ada8d4ca8bd7738e5\", element=\"6072f4f8-ecae-42ec-9c88-01c5ff7fc80d\")>,\n",
       " <selenium.webdriver.remote.webelement.WebElement (session=\"73ba1df09adbe58ada8d4ca8bd7738e5\", element=\"6a1c50e6-1edb-45a8-b726-d93c26721789\")>,\n",
       " <selenium.webdriver.remote.webelement.WebElement (session=\"73ba1df09adbe58ada8d4ca8bd7738e5\", element=\"403a80c5-df4e-4ebe-b619-ea850306c8ca\")>,\n",
       " <selenium.webdriver.remote.webelement.WebElement (session=\"73ba1df09adbe58ada8d4ca8bd7738e5\", element=\"e23fb940-9292-4df2-90e6-221db81c8bd7\")>,\n",
       " <selenium.webdriver.remote.webelement.WebElement (session=\"73ba1df09adbe58ada8d4ca8bd7738e5\", element=\"458e293a-405f-4515-96ff-e9900dbd467d\")>,\n",
       " <selenium.webdriver.remote.webelement.WebElement (session=\"73ba1df09adbe58ada8d4ca8bd7738e5\", element=\"3c5c1567-979e-42ff-a59b-717c253d466b\")>,\n",
       " <selenium.webdriver.remote.webelement.WebElement (session=\"73ba1df09adbe58ada8d4ca8bd7738e5\", element=\"4309a522-0a47-461c-9726-6257ca91e6e6\")>,\n",
       " <selenium.webdriver.remote.webelement.WebElement (session=\"73ba1df09adbe58ada8d4ca8bd7738e5\", element=\"9d41df44-7508-4dcb-a25e-b7424cb5e2a2\")>]"
      ]
     },
     "execution_count": 423,
     "metadata": {},
     "output_type": "execute_result"
    }
   ],
   "source": [
    "brand_descp"
   ]
  },
  {
   "cell_type": "code",
   "execution_count": 424,
   "metadata": {
    "scrolled": true
   },
   "outputs": [
    {
     "data": {
      "text/plain": [
       "['Sports Running Shoes Sneakers For Men',\n",
       " 'Super 445 Fashion Sneakers For Men',\n",
       " 'Sneakers For Men',\n",
       " \"Trendy white casual for men's and boys Sneakers For Men\",\n",
       " 'casual sneaker shoes for men kardam&sons Sneakers For M...',\n",
       " 'Series 7 Sneakers For Men',\n",
       " 'Sneakers For Men',\n",
       " 'Men 5014 Latest Collection Stylish Casual Sports Loafer...',\n",
       " 'Sneakers For Men',\n",
       " 'Casuals, Canvas, Partywear Sneakers For Men',\n",
       " 'Sneakers For Men',\n",
       " 'Sneakers For Men',\n",
       " 'Sneakers For Men',\n",
       " 'Sneakers For Men',\n",
       " 'Latest Collection-1227 Stylish Casual Sports Sneakers F...',\n",
       " 'Latest Collection-1215 Stylish Casual Sports Sneakers F...',\n",
       " 'Sneakers For Men',\n",
       " 'sneaker men red 1258 - 9 Sneakers For Men',\n",
       " 'Sneakers For Men',\n",
       " \"white Casual shoes,Sneakers for men's Sneakers For Men\",\n",
       " 'casual for men Sneakers For Men',\n",
       " 'Casual Sneakrs For Men Sneakers For Men',\n",
       " 'Sneakers For Men',\n",
       " \"Men's Sneakers Fashion Lightweight Running Shoes Tennis...\",\n",
       " 'Court Royale 2 Next Nature Sneakers For Men',\n",
       " \"Men's Sneakers Fashion Lightweight Running Shoes Tennis...\",\n",
       " 'Combo Pack Of 4 Casual Shoes Loafer Shoes Sneakers For ...',\n",
       " 'BMW MMS X-Ray Speed Sneakers For Men',\n",
       " 'Sneakers For Men',\n",
       " 'Unique & Perfect Collection Combo Pack of 02 Shoes for ...',\n",
       " \"Casual , Partywear Sneakers Shoes For Men's And Boys Wh...\",\n",
       " 'Men Casual Shoe New Trend With Fashion Panda Desgined L...']"
      ]
     },
     "execution_count": 424,
     "metadata": {},
     "output_type": "execute_result"
    }
   ],
   "source": [
    "descp=[]\n",
    "for i in brand_descp:\n",
    "   descp.append(i.text)\n",
    "len(descp)  \n",
    "descp"
   ]
  },
  {
   "cell_type": "code",
   "execution_count": 425,
   "metadata": {},
   "outputs": [
    {
     "data": {
      "text/plain": [
       "40"
      ]
     },
     "execution_count": 425,
     "metadata": {},
     "output_type": "execute_result"
    }
   ],
   "source": [
    "\n",
    "#### extracting product price\n",
    "brand_price=driver.find_elements_by_xpath(\"//div[@class='_30jeq3']\")\n",
    "len(brand_price)"
   ]
  },
  {
   "cell_type": "code",
   "execution_count": 426,
   "metadata": {
    "scrolled": true
   },
   "outputs": [
    {
     "data": {
      "text/plain": [
       "[<selenium.webdriver.remote.webelement.WebElement (session=\"73ba1df09adbe58ada8d4ca8bd7738e5\", element=\"adb22c5b-70c8-483b-af71-55389bbfdf0f\")>,\n",
       " <selenium.webdriver.remote.webelement.WebElement (session=\"73ba1df09adbe58ada8d4ca8bd7738e5\", element=\"88f0ac28-00ad-413c-8887-deda2e994edf\")>,\n",
       " <selenium.webdriver.remote.webelement.WebElement (session=\"73ba1df09adbe58ada8d4ca8bd7738e5\", element=\"1a1e4409-e2dd-4b1f-894e-619d663e8045\")>,\n",
       " <selenium.webdriver.remote.webelement.WebElement (session=\"73ba1df09adbe58ada8d4ca8bd7738e5\", element=\"58eb922e-524c-4b61-8a24-9fa5b2300e73\")>,\n",
       " <selenium.webdriver.remote.webelement.WebElement (session=\"73ba1df09adbe58ada8d4ca8bd7738e5\", element=\"c6cada5e-96aa-45d2-9ce3-f0b7a5f08af5\")>,\n",
       " <selenium.webdriver.remote.webelement.WebElement (session=\"73ba1df09adbe58ada8d4ca8bd7738e5\", element=\"91b30a42-00f1-4610-b9f1-88762937dd2b\")>,\n",
       " <selenium.webdriver.remote.webelement.WebElement (session=\"73ba1df09adbe58ada8d4ca8bd7738e5\", element=\"ef1e89e8-388e-4f35-a67e-1ce22fb3f47b\")>,\n",
       " <selenium.webdriver.remote.webelement.WebElement (session=\"73ba1df09adbe58ada8d4ca8bd7738e5\", element=\"106a4289-9b2c-4098-a244-3e4998af85cc\")>,\n",
       " <selenium.webdriver.remote.webelement.WebElement (session=\"73ba1df09adbe58ada8d4ca8bd7738e5\", element=\"4c414c84-0a7d-482a-a49a-2213b10958bd\")>,\n",
       " <selenium.webdriver.remote.webelement.WebElement (session=\"73ba1df09adbe58ada8d4ca8bd7738e5\", element=\"c1b7a8bb-26a2-4051-a7e0-1ad49e10e713\")>,\n",
       " <selenium.webdriver.remote.webelement.WebElement (session=\"73ba1df09adbe58ada8d4ca8bd7738e5\", element=\"51203cb6-44cb-4966-9f99-d8c898ab465a\")>,\n",
       " <selenium.webdriver.remote.webelement.WebElement (session=\"73ba1df09adbe58ada8d4ca8bd7738e5\", element=\"e894787d-17e7-4a53-9970-933182b0ad55\")>,\n",
       " <selenium.webdriver.remote.webelement.WebElement (session=\"73ba1df09adbe58ada8d4ca8bd7738e5\", element=\"6d988d50-04b1-4145-ab1b-40fe73ba3752\")>,\n",
       " <selenium.webdriver.remote.webelement.WebElement (session=\"73ba1df09adbe58ada8d4ca8bd7738e5\", element=\"08530cd5-c9e9-4d81-b7f8-9916dd2d4d62\")>,\n",
       " <selenium.webdriver.remote.webelement.WebElement (session=\"73ba1df09adbe58ada8d4ca8bd7738e5\", element=\"4274d12b-d245-4f0c-baba-65aa3c1703dd\")>,\n",
       " <selenium.webdriver.remote.webelement.WebElement (session=\"73ba1df09adbe58ada8d4ca8bd7738e5\", element=\"4b121ab9-1ffa-4c12-b6d9-409e05706e8f\")>,\n",
       " <selenium.webdriver.remote.webelement.WebElement (session=\"73ba1df09adbe58ada8d4ca8bd7738e5\", element=\"1ea5f04b-bb70-439a-bf45-5cc94158e32a\")>,\n",
       " <selenium.webdriver.remote.webelement.WebElement (session=\"73ba1df09adbe58ada8d4ca8bd7738e5\", element=\"1b013066-464d-47ec-a077-8c340dbe936c\")>,\n",
       " <selenium.webdriver.remote.webelement.WebElement (session=\"73ba1df09adbe58ada8d4ca8bd7738e5\", element=\"40d4c150-8413-43e9-81f8-dbb63c1d6e20\")>,\n",
       " <selenium.webdriver.remote.webelement.WebElement (session=\"73ba1df09adbe58ada8d4ca8bd7738e5\", element=\"75881805-8e2c-411a-870c-0376d38cca09\")>,\n",
       " <selenium.webdriver.remote.webelement.WebElement (session=\"73ba1df09adbe58ada8d4ca8bd7738e5\", element=\"a36f4e96-a6a7-46a7-a818-9a8dbf400a51\")>,\n",
       " <selenium.webdriver.remote.webelement.WebElement (session=\"73ba1df09adbe58ada8d4ca8bd7738e5\", element=\"496382c1-2982-49e2-b9e0-1ea128a01e3b\")>,\n",
       " <selenium.webdriver.remote.webelement.WebElement (session=\"73ba1df09adbe58ada8d4ca8bd7738e5\", element=\"99a217d2-c87d-4ff3-a523-7a54199d5c30\")>,\n",
       " <selenium.webdriver.remote.webelement.WebElement (session=\"73ba1df09adbe58ada8d4ca8bd7738e5\", element=\"cd1c72aa-fbe0-4035-9382-b2e20d778a0e\")>,\n",
       " <selenium.webdriver.remote.webelement.WebElement (session=\"73ba1df09adbe58ada8d4ca8bd7738e5\", element=\"645af428-00da-407a-ad5d-e9c10adb5228\")>,\n",
       " <selenium.webdriver.remote.webelement.WebElement (session=\"73ba1df09adbe58ada8d4ca8bd7738e5\", element=\"0e8f1404-bef5-4786-81b6-c7bcf0f1952d\")>,\n",
       " <selenium.webdriver.remote.webelement.WebElement (session=\"73ba1df09adbe58ada8d4ca8bd7738e5\", element=\"4fa28867-0377-4b93-ae17-cab699e2fc63\")>,\n",
       " <selenium.webdriver.remote.webelement.WebElement (session=\"73ba1df09adbe58ada8d4ca8bd7738e5\", element=\"e0729385-9769-494c-b2a7-3fe0bb7e54af\")>,\n",
       " <selenium.webdriver.remote.webelement.WebElement (session=\"73ba1df09adbe58ada8d4ca8bd7738e5\", element=\"3630300e-26f3-4bbc-bd83-2a3630233e26\")>,\n",
       " <selenium.webdriver.remote.webelement.WebElement (session=\"73ba1df09adbe58ada8d4ca8bd7738e5\", element=\"9131e2af-9fb0-4ea2-8883-0baad07905a7\")>,\n",
       " <selenium.webdriver.remote.webelement.WebElement (session=\"73ba1df09adbe58ada8d4ca8bd7738e5\", element=\"014b36fa-d17d-4f2f-8e83-48018bd305ee\")>,\n",
       " <selenium.webdriver.remote.webelement.WebElement (session=\"73ba1df09adbe58ada8d4ca8bd7738e5\", element=\"1a9ea906-99af-4727-a2b6-f5412f219576\")>,\n",
       " <selenium.webdriver.remote.webelement.WebElement (session=\"73ba1df09adbe58ada8d4ca8bd7738e5\", element=\"7a500851-7a50-4277-ae2a-55e9b1b56102\")>,\n",
       " <selenium.webdriver.remote.webelement.WebElement (session=\"73ba1df09adbe58ada8d4ca8bd7738e5\", element=\"0d0cbbe0-cc89-44ae-8212-a47e88691943\")>,\n",
       " <selenium.webdriver.remote.webelement.WebElement (session=\"73ba1df09adbe58ada8d4ca8bd7738e5\", element=\"3419282d-614a-49fd-9264-70d123dc9cc1\")>,\n",
       " <selenium.webdriver.remote.webelement.WebElement (session=\"73ba1df09adbe58ada8d4ca8bd7738e5\", element=\"e98b9cfc-ce4a-4237-9269-7117905d4145\")>,\n",
       " <selenium.webdriver.remote.webelement.WebElement (session=\"73ba1df09adbe58ada8d4ca8bd7738e5\", element=\"7fac4367-27b9-46a5-86d3-39e1f1b0be35\")>,\n",
       " <selenium.webdriver.remote.webelement.WebElement (session=\"73ba1df09adbe58ada8d4ca8bd7738e5\", element=\"ba413f60-25ff-4e4a-a54f-e2642e0c934c\")>,\n",
       " <selenium.webdriver.remote.webelement.WebElement (session=\"73ba1df09adbe58ada8d4ca8bd7738e5\", element=\"165720ab-12f4-4a80-8b1f-18771e6de053\")>,\n",
       " <selenium.webdriver.remote.webelement.WebElement (session=\"73ba1df09adbe58ada8d4ca8bd7738e5\", element=\"b2593365-de54-41d2-bf3b-598294f23055\")>]"
      ]
     },
     "execution_count": 426,
     "metadata": {},
     "output_type": "execute_result"
    }
   ],
   "source": [
    "brand_price"
   ]
  },
  {
   "cell_type": "code",
   "execution_count": 427,
   "metadata": {
    "scrolled": true
   },
   "outputs": [
    {
     "data": {
      "text/plain": [
       "['₹301',\n",
       " '₹282',\n",
       " '₹354',\n",
       " '₹398',\n",
       " '₹1,099',\n",
       " '₹349',\n",
       " '₹449',\n",
       " '₹424',\n",
       " '₹209',\n",
       " '₹349',\n",
       " '₹449',\n",
       " '₹369',\n",
       " '₹499',\n",
       " '₹444',\n",
       " '₹269',\n",
       " '₹424',\n",
       " '₹566',\n",
       " '₹209',\n",
       " '₹159',\n",
       " '₹449',\n",
       " '₹170',\n",
       " '₹534',\n",
       " '₹354',\n",
       " '₹590',\n",
       " '₹449',\n",
       " '₹399',\n",
       " '₹586',\n",
       " '₹379',\n",
       " '₹449',\n",
       " '₹248',\n",
       " '₹2,626',\n",
       " '₹549',\n",
       " '₹449',\n",
       " '₹449',\n",
       " '₹4,149',\n",
       " '₹399',\n",
       " '₹374',\n",
       " '₹334',\n",
       " '₹354',\n",
       " '₹949']"
      ]
     },
     "execution_count": 427,
     "metadata": {},
     "output_type": "execute_result"
    }
   ],
   "source": [
    "price=[]\n",
    "for i in brand_price:\n",
    "   price.append(i.text)\n",
    "len(price)  \n",
    "price"
   ]
  },
  {
   "cell_type": "code",
   "execution_count": 428,
   "metadata": {},
   "outputs": [
    {
     "data": {
      "text/plain": [
       "40"
      ]
     },
     "execution_count": 428,
     "metadata": {},
     "output_type": "execute_result"
    }
   ],
   "source": [
    "\n",
    "#### extracting product discount\n",
    "brand_disc=driver.find_elements_by_xpath(\"//div[@class='_3Ay6Sb']\")\n",
    "len(brand_disc)"
   ]
  },
  {
   "cell_type": "code",
   "execution_count": 429,
   "metadata": {
    "scrolled": true
   },
   "outputs": [
    {
     "data": {
      "text/plain": [
       "[<selenium.webdriver.remote.webelement.WebElement (session=\"73ba1df09adbe58ada8d4ca8bd7738e5\", element=\"e492e544-3440-458e-b19e-80f5515dcdc0\")>,\n",
       " <selenium.webdriver.remote.webelement.WebElement (session=\"73ba1df09adbe58ada8d4ca8bd7738e5\", element=\"9b00977b-f4cc-4e9b-a900-5a3b46adc643\")>,\n",
       " <selenium.webdriver.remote.webelement.WebElement (session=\"73ba1df09adbe58ada8d4ca8bd7738e5\", element=\"c5128e86-6288-4ba4-88f4-ae95d3266ce8\")>,\n",
       " <selenium.webdriver.remote.webelement.WebElement (session=\"73ba1df09adbe58ada8d4ca8bd7738e5\", element=\"90ff8e32-55f2-4016-b68b-36806305a7a3\")>,\n",
       " <selenium.webdriver.remote.webelement.WebElement (session=\"73ba1df09adbe58ada8d4ca8bd7738e5\", element=\"ee7507ad-4dd5-45dc-b6c8-1d2379b0b6bc\")>,\n",
       " <selenium.webdriver.remote.webelement.WebElement (session=\"73ba1df09adbe58ada8d4ca8bd7738e5\", element=\"d6c8c38f-f372-4c89-8dd0-3ee53319d39c\")>,\n",
       " <selenium.webdriver.remote.webelement.WebElement (session=\"73ba1df09adbe58ada8d4ca8bd7738e5\", element=\"d8815601-2c0e-48ad-a7fa-0d1bd11f4969\")>,\n",
       " <selenium.webdriver.remote.webelement.WebElement (session=\"73ba1df09adbe58ada8d4ca8bd7738e5\", element=\"99c9e369-f6ad-4b45-8bca-09ebcddf557e\")>,\n",
       " <selenium.webdriver.remote.webelement.WebElement (session=\"73ba1df09adbe58ada8d4ca8bd7738e5\", element=\"4a4a78e9-4f4b-4136-b7d6-b4042e415163\")>,\n",
       " <selenium.webdriver.remote.webelement.WebElement (session=\"73ba1df09adbe58ada8d4ca8bd7738e5\", element=\"ce2e3388-cb3f-4520-990d-0313baccf07c\")>,\n",
       " <selenium.webdriver.remote.webelement.WebElement (session=\"73ba1df09adbe58ada8d4ca8bd7738e5\", element=\"dc503d12-da23-4257-984c-cd852df52d0f\")>,\n",
       " <selenium.webdriver.remote.webelement.WebElement (session=\"73ba1df09adbe58ada8d4ca8bd7738e5\", element=\"37107105-59e7-46a9-bc55-0ddece0c7d19\")>,\n",
       " <selenium.webdriver.remote.webelement.WebElement (session=\"73ba1df09adbe58ada8d4ca8bd7738e5\", element=\"2ce1eee1-2ddc-4158-8824-2def1fe8c0f8\")>,\n",
       " <selenium.webdriver.remote.webelement.WebElement (session=\"73ba1df09adbe58ada8d4ca8bd7738e5\", element=\"1ae25462-d026-43fd-bfe0-0ce8d8e7ab0e\")>,\n",
       " <selenium.webdriver.remote.webelement.WebElement (session=\"73ba1df09adbe58ada8d4ca8bd7738e5\", element=\"86be9a18-078a-4f77-9d24-f3843a0996f6\")>,\n",
       " <selenium.webdriver.remote.webelement.WebElement (session=\"73ba1df09adbe58ada8d4ca8bd7738e5\", element=\"7a7883ee-b9ef-4d92-b636-22f0aad72cf0\")>,\n",
       " <selenium.webdriver.remote.webelement.WebElement (session=\"73ba1df09adbe58ada8d4ca8bd7738e5\", element=\"32698f8d-4fd0-4d88-97ca-fad514ea6228\")>,\n",
       " <selenium.webdriver.remote.webelement.WebElement (session=\"73ba1df09adbe58ada8d4ca8bd7738e5\", element=\"72cd71dc-1761-4fa6-a6d6-3b13b5c0464e\")>,\n",
       " <selenium.webdriver.remote.webelement.WebElement (session=\"73ba1df09adbe58ada8d4ca8bd7738e5\", element=\"568bd9a5-2cd7-496e-af9c-5acee01c95da\")>,\n",
       " <selenium.webdriver.remote.webelement.WebElement (session=\"73ba1df09adbe58ada8d4ca8bd7738e5\", element=\"70a88959-c119-4130-8889-15d7fc72098d\")>,\n",
       " <selenium.webdriver.remote.webelement.WebElement (session=\"73ba1df09adbe58ada8d4ca8bd7738e5\", element=\"6fee45c6-c18c-452a-a44c-d34a0381fdbf\")>,\n",
       " <selenium.webdriver.remote.webelement.WebElement (session=\"73ba1df09adbe58ada8d4ca8bd7738e5\", element=\"9aff34f6-7604-4481-9d2f-784191f22d39\")>,\n",
       " <selenium.webdriver.remote.webelement.WebElement (session=\"73ba1df09adbe58ada8d4ca8bd7738e5\", element=\"2fb89e72-8246-458f-8024-b076b0c7787b\")>,\n",
       " <selenium.webdriver.remote.webelement.WebElement (session=\"73ba1df09adbe58ada8d4ca8bd7738e5\", element=\"52962fdc-113b-4742-9e00-46885db2ac71\")>,\n",
       " <selenium.webdriver.remote.webelement.WebElement (session=\"73ba1df09adbe58ada8d4ca8bd7738e5\", element=\"6456d37c-3f77-4f69-b075-5a3b61953b1c\")>,\n",
       " <selenium.webdriver.remote.webelement.WebElement (session=\"73ba1df09adbe58ada8d4ca8bd7738e5\", element=\"8fe346f6-5bd7-438d-9808-8aca3b43a26d\")>,\n",
       " <selenium.webdriver.remote.webelement.WebElement (session=\"73ba1df09adbe58ada8d4ca8bd7738e5\", element=\"cc6391bd-ecbf-451c-bf12-5d90ec7622e0\")>,\n",
       " <selenium.webdriver.remote.webelement.WebElement (session=\"73ba1df09adbe58ada8d4ca8bd7738e5\", element=\"88c1a2b1-57ee-41d6-adf7-150ff1eeace6\")>,\n",
       " <selenium.webdriver.remote.webelement.WebElement (session=\"73ba1df09adbe58ada8d4ca8bd7738e5\", element=\"a6d965f3-b458-40ec-890b-1e932841ed55\")>,\n",
       " <selenium.webdriver.remote.webelement.WebElement (session=\"73ba1df09adbe58ada8d4ca8bd7738e5\", element=\"8ce643c7-f75b-4616-8760-ff5bdc56d9d0\")>,\n",
       " <selenium.webdriver.remote.webelement.WebElement (session=\"73ba1df09adbe58ada8d4ca8bd7738e5\", element=\"a32f1f23-f786-4708-af4e-486ab9489953\")>,\n",
       " <selenium.webdriver.remote.webelement.WebElement (session=\"73ba1df09adbe58ada8d4ca8bd7738e5\", element=\"721f4cb4-d608-4159-8a9c-bc3d7c9de4bb\")>,\n",
       " <selenium.webdriver.remote.webelement.WebElement (session=\"73ba1df09adbe58ada8d4ca8bd7738e5\", element=\"4ce1c741-e91c-4949-82f4-7264af1ce104\")>,\n",
       " <selenium.webdriver.remote.webelement.WebElement (session=\"73ba1df09adbe58ada8d4ca8bd7738e5\", element=\"f20105a6-2d30-4032-b5ab-a44776fc669b\")>,\n",
       " <selenium.webdriver.remote.webelement.WebElement (session=\"73ba1df09adbe58ada8d4ca8bd7738e5\", element=\"f8c6d644-68e0-4c10-923c-e7afe04e553e\")>,\n",
       " <selenium.webdriver.remote.webelement.WebElement (session=\"73ba1df09adbe58ada8d4ca8bd7738e5\", element=\"c3a26be8-7bae-4542-9b63-7532db797d58\")>,\n",
       " <selenium.webdriver.remote.webelement.WebElement (session=\"73ba1df09adbe58ada8d4ca8bd7738e5\", element=\"d3d92171-28c0-400b-a811-40cef7dae1db\")>,\n",
       " <selenium.webdriver.remote.webelement.WebElement (session=\"73ba1df09adbe58ada8d4ca8bd7738e5\", element=\"6e2591d2-3fd4-4a2f-8123-08d4cba18e14\")>,\n",
       " <selenium.webdriver.remote.webelement.WebElement (session=\"73ba1df09adbe58ada8d4ca8bd7738e5\", element=\"dcaf3636-983d-456d-b42a-4d8ab018e036\")>,\n",
       " <selenium.webdriver.remote.webelement.WebElement (session=\"73ba1df09adbe58ada8d4ca8bd7738e5\", element=\"a43ad124-837d-4f3d-8287-e7f3c9a1cd01\")>]"
      ]
     },
     "execution_count": 429,
     "metadata": {},
     "output_type": "execute_result"
    }
   ],
   "source": [
    "brand_disc"
   ]
  },
  {
   "cell_type": "code",
   "execution_count": 430,
   "metadata": {
    "scrolled": true
   },
   "outputs": [
    {
     "data": {
      "text/plain": [
       "['69% off',\n",
       " '43% off',\n",
       " '82% off',\n",
       " '80% off',\n",
       " '76% off',\n",
       " '73% off',\n",
       " '55% off',\n",
       " '57% off',\n",
       " '58% off',\n",
       " '65% off',\n",
       " '55% off',\n",
       " '63% off',\n",
       " '66% off',\n",
       " '55% off',\n",
       " '86% off',\n",
       " '57% off',\n",
       " '62% off',\n",
       " '58% off',\n",
       " '68% off',\n",
       " '77% off',\n",
       " '65% off',\n",
       " '46% off',\n",
       " '76% off',\n",
       " '40% off',\n",
       " '70% off',\n",
       " '60% off',\n",
       " '54% off',\n",
       " '70% off',\n",
       " '55% off',\n",
       " '75% off',\n",
       " '34% off',\n",
       " '81% off',\n",
       " '55% off',\n",
       " '87% off',\n",
       " '40% off',\n",
       " '60% off',\n",
       " '75% off',\n",
       " '66% off',\n",
       " '64% off',\n",
       " '56% off']"
      ]
     },
     "execution_count": 430,
     "metadata": {},
     "output_type": "execute_result"
    }
   ],
   "source": [
    "discount=[]\n",
    "for i in brand_disc:\n",
    "   discount.append(i.text)\n",
    "len(discount)  \n",
    "discount"
   ]
  },
  {
   "cell_type": "code",
   "execution_count": 431,
   "metadata": {},
   "outputs": [
    {
     "data": {
      "text/html": [
       "<div>\n",
       "<style scoped>\n",
       "    .dataframe tbody tr th:only-of-type {\n",
       "        vertical-align: middle;\n",
       "    }\n",
       "\n",
       "    .dataframe tbody tr th {\n",
       "        vertical-align: top;\n",
       "    }\n",
       "\n",
       "    .dataframe thead th {\n",
       "        text-align: right;\n",
       "    }\n",
       "</style>\n",
       "<table border=\"1\" class=\"dataframe\">\n",
       "  <thead>\n",
       "    <tr style=\"text-align: right;\">\n",
       "      <th></th>\n",
       "      <th>Brand_name</th>\n",
       "      <th>Brand_Description</th>\n",
       "      <th>Brand_Price</th>\n",
       "      <th>Brand_Discount</th>\n",
       "    </tr>\n",
       "  </thead>\n",
       "  <tbody>\n",
       "    <tr>\n",
       "      <th>0</th>\n",
       "      <td>BIRDE</td>\n",
       "      <td>Sports Running Shoes Sneakers For Men</td>\n",
       "      <td>₹301</td>\n",
       "      <td>69% off</td>\n",
       "    </tr>\n",
       "    <tr>\n",
       "      <th>1</th>\n",
       "      <td>Chevit</td>\n",
       "      <td>Super 445 Fashion Sneakers For Men</td>\n",
       "      <td>₹282</td>\n",
       "      <td>43% off</td>\n",
       "    </tr>\n",
       "    <tr>\n",
       "      <th>2</th>\n",
       "      <td>India hub</td>\n",
       "      <td>Sneakers For Men</td>\n",
       "      <td>₹354</td>\n",
       "      <td>82% off</td>\n",
       "    </tr>\n",
       "    <tr>\n",
       "      <th>3</th>\n",
       "      <td>EMPTILE</td>\n",
       "      <td>Trendy white casual for men's and boys Sneaker...</td>\n",
       "      <td>₹398</td>\n",
       "      <td>80% off</td>\n",
       "    </tr>\n",
       "    <tr>\n",
       "      <th>4</th>\n",
       "      <td>RED TAPE</td>\n",
       "      <td>casual sneaker shoes for men kardam&amp;sons Sneak...</td>\n",
       "      <td>₹1,099</td>\n",
       "      <td>76% off</td>\n",
       "    </tr>\n",
       "    <tr>\n",
       "      <th>5</th>\n",
       "      <td>India hub</td>\n",
       "      <td>Series 7 Sneakers For Men</td>\n",
       "      <td>₹349</td>\n",
       "      <td>73% off</td>\n",
       "    </tr>\n",
       "    <tr>\n",
       "      <th>6</th>\n",
       "      <td>Kraasa</td>\n",
       "      <td>Sneakers For Men</td>\n",
       "      <td>₹449</td>\n",
       "      <td>55% off</td>\n",
       "    </tr>\n",
       "    <tr>\n",
       "      <th>7</th>\n",
       "      <td>Robbie jones</td>\n",
       "      <td>Men 5014 Latest Collection Stylish Casual Spor...</td>\n",
       "      <td>₹424</td>\n",
       "      <td>57% off</td>\n",
       "    </tr>\n",
       "    <tr>\n",
       "      <th>8</th>\n",
       "      <td>World Wear Footwear</td>\n",
       "      <td>Sneakers For Men</td>\n",
       "      <td>₹209</td>\n",
       "      <td>58% off</td>\n",
       "    </tr>\n",
       "    <tr>\n",
       "      <th>9</th>\n",
       "      <td>Elevarse</td>\n",
       "      <td>Casuals, Canvas, Partywear Sneakers For Men</td>\n",
       "      <td>₹349</td>\n",
       "      <td>65% off</td>\n",
       "    </tr>\n",
       "    <tr>\n",
       "      <th>10</th>\n",
       "      <td>Kraasa</td>\n",
       "      <td>Sneakers For Men</td>\n",
       "      <td>₹449</td>\n",
       "      <td>55% off</td>\n",
       "    </tr>\n",
       "    <tr>\n",
       "      <th>11</th>\n",
       "      <td>Strollin</td>\n",
       "      <td>Sneakers For Men</td>\n",
       "      <td>₹369</td>\n",
       "      <td>63% off</td>\n",
       "    </tr>\n",
       "    <tr>\n",
       "      <th>12</th>\n",
       "      <td>corsac</td>\n",
       "      <td>Sneakers For Men</td>\n",
       "      <td>₹499</td>\n",
       "      <td>66% off</td>\n",
       "    </tr>\n",
       "    <tr>\n",
       "      <th>13</th>\n",
       "      <td>Rzisbo</td>\n",
       "      <td>Sneakers For Men</td>\n",
       "      <td>₹444</td>\n",
       "      <td>55% off</td>\n",
       "    </tr>\n",
       "    <tr>\n",
       "      <th>14</th>\n",
       "      <td>aadi</td>\n",
       "      <td>Latest Collection-1227 Stylish Casual Sports S...</td>\n",
       "      <td>₹269</td>\n",
       "      <td>86% off</td>\n",
       "    </tr>\n",
       "    <tr>\n",
       "      <th>15</th>\n",
       "      <td>Robbie jones</td>\n",
       "      <td>Latest Collection-1215 Stylish Casual Sports S...</td>\n",
       "      <td>₹424</td>\n",
       "      <td>57% off</td>\n",
       "    </tr>\n",
       "    <tr>\n",
       "      <th>16</th>\n",
       "      <td>CLYMB</td>\n",
       "      <td>Sneakers For Men</td>\n",
       "      <td>₹566</td>\n",
       "      <td>62% off</td>\n",
       "    </tr>\n",
       "    <tr>\n",
       "      <th>17</th>\n",
       "      <td>World Wear Footwear</td>\n",
       "      <td>sneaker men red 1258 - 9 Sneakers For Men</td>\n",
       "      <td>₹209</td>\n",
       "      <td>58% off</td>\n",
       "    </tr>\n",
       "    <tr>\n",
       "      <th>18</th>\n",
       "      <td>World Wear Footwear</td>\n",
       "      <td>Sneakers For Men</td>\n",
       "      <td>₹159</td>\n",
       "      <td>68% off</td>\n",
       "    </tr>\n",
       "    <tr>\n",
       "      <th>19</th>\n",
       "      <td>Nilatin</td>\n",
       "      <td>white Casual shoes,Sneakers for men's Sneakers...</td>\n",
       "      <td>₹449</td>\n",
       "      <td>77% off</td>\n",
       "    </tr>\n",
       "    <tr>\n",
       "      <th>20</th>\n",
       "      <td>Airland</td>\n",
       "      <td>casual for men Sneakers For Men</td>\n",
       "      <td>₹170</td>\n",
       "      <td>65% off</td>\n",
       "    </tr>\n",
       "    <tr>\n",
       "      <th>21</th>\n",
       "      <td>Hida</td>\n",
       "      <td>Casual Sneakrs For Men Sneakers For Men</td>\n",
       "      <td>₹534</td>\n",
       "      <td>46% off</td>\n",
       "    </tr>\n",
       "    <tr>\n",
       "      <th>22</th>\n",
       "      <td>TR</td>\n",
       "      <td>Sneakers For Men</td>\n",
       "      <td>₹354</td>\n",
       "      <td>76% off</td>\n",
       "    </tr>\n",
       "    <tr>\n",
       "      <th>23</th>\n",
       "      <td>RapidBox</td>\n",
       "      <td>Men's Sneakers Fashion Lightweight Running Sho...</td>\n",
       "      <td>₹590</td>\n",
       "      <td>40% off</td>\n",
       "    </tr>\n",
       "    <tr>\n",
       "      <th>24</th>\n",
       "      <td>Xtoon</td>\n",
       "      <td>Court Royale 2 Next Nature Sneakers For Men</td>\n",
       "      <td>₹449</td>\n",
       "      <td>70% off</td>\n",
       "    </tr>\n",
       "    <tr>\n",
       "      <th>25</th>\n",
       "      <td>bluemaker</td>\n",
       "      <td>Men's Sneakers Fashion Lightweight Running Sho...</td>\n",
       "      <td>₹399</td>\n",
       "      <td>60% off</td>\n",
       "    </tr>\n",
       "    <tr>\n",
       "      <th>26</th>\n",
       "      <td>Vellinto</td>\n",
       "      <td>Combo Pack Of 4 Casual Shoes Loafer Shoes Snea...</td>\n",
       "      <td>₹586</td>\n",
       "      <td>54% off</td>\n",
       "    </tr>\n",
       "    <tr>\n",
       "      <th>27</th>\n",
       "      <td>Numenzo</td>\n",
       "      <td>BMW MMS X-Ray Speed Sneakers For Men</td>\n",
       "      <td>₹379</td>\n",
       "      <td>70% off</td>\n",
       "    </tr>\n",
       "    <tr>\n",
       "      <th>28</th>\n",
       "      <td>Echor</td>\n",
       "      <td>Sneakers For Men</td>\n",
       "      <td>₹449</td>\n",
       "      <td>55% off</td>\n",
       "    </tr>\n",
       "    <tr>\n",
       "      <th>29</th>\n",
       "      <td>Gentax</td>\n",
       "      <td>Unique &amp; Perfect Collection Combo Pack of 02 S...</td>\n",
       "      <td>₹248</td>\n",
       "      <td>75% off</td>\n",
       "    </tr>\n",
       "    <tr>\n",
       "      <th>30</th>\n",
       "      <td>NIKE</td>\n",
       "      <td>Casual , Partywear Sneakers Shoes For Men's An...</td>\n",
       "      <td>₹2,626</td>\n",
       "      <td>34% off</td>\n",
       "    </tr>\n",
       "    <tr>\n",
       "      <th>31</th>\n",
       "      <td>Navtrend</td>\n",
       "      <td>Men Casual Shoe New Trend With Fashion Panda D...</td>\n",
       "      <td>₹549</td>\n",
       "      <td>81% off</td>\n",
       "    </tr>\n",
       "  </tbody>\n",
       "</table>\n",
       "</div>"
      ],
      "text/plain": [
       "             Brand_name                                  Brand_Description  \\\n",
       "0                 BIRDE              Sports Running Shoes Sneakers For Men   \n",
       "1                Chevit                 Super 445 Fashion Sneakers For Men   \n",
       "2             India hub                                   Sneakers For Men   \n",
       "3               EMPTILE  Trendy white casual for men's and boys Sneaker...   \n",
       "4              RED TAPE  casual sneaker shoes for men kardam&sons Sneak...   \n",
       "5             India hub                          Series 7 Sneakers For Men   \n",
       "6                Kraasa                                   Sneakers For Men   \n",
       "7          Robbie jones  Men 5014 Latest Collection Stylish Casual Spor...   \n",
       "8   World Wear Footwear                                   Sneakers For Men   \n",
       "9              Elevarse        Casuals, Canvas, Partywear Sneakers For Men   \n",
       "10               Kraasa                                   Sneakers For Men   \n",
       "11             Strollin                                   Sneakers For Men   \n",
       "12               corsac                                   Sneakers For Men   \n",
       "13               Rzisbo                                   Sneakers For Men   \n",
       "14                 aadi  Latest Collection-1227 Stylish Casual Sports S...   \n",
       "15         Robbie jones  Latest Collection-1215 Stylish Casual Sports S...   \n",
       "16                CLYMB                                   Sneakers For Men   \n",
       "17  World Wear Footwear          sneaker men red 1258 - 9 Sneakers For Men   \n",
       "18  World Wear Footwear                                   Sneakers For Men   \n",
       "19              Nilatin  white Casual shoes,Sneakers for men's Sneakers...   \n",
       "20              Airland                    casual for men Sneakers For Men   \n",
       "21                 Hida            Casual Sneakrs For Men Sneakers For Men   \n",
       "22                   TR                                   Sneakers For Men   \n",
       "23             RapidBox  Men's Sneakers Fashion Lightweight Running Sho...   \n",
       "24                Xtoon        Court Royale 2 Next Nature Sneakers For Men   \n",
       "25            bluemaker  Men's Sneakers Fashion Lightweight Running Sho...   \n",
       "26             Vellinto  Combo Pack Of 4 Casual Shoes Loafer Shoes Snea...   \n",
       "27              Numenzo               BMW MMS X-Ray Speed Sneakers For Men   \n",
       "28                Echor                                   Sneakers For Men   \n",
       "29               Gentax  Unique & Perfect Collection Combo Pack of 02 S...   \n",
       "30                 NIKE  Casual , Partywear Sneakers Shoes For Men's An...   \n",
       "31             Navtrend  Men Casual Shoe New Trend With Fashion Panda D...   \n",
       "\n",
       "   Brand_Price Brand_Discount  \n",
       "0         ₹301        69% off  \n",
       "1         ₹282        43% off  \n",
       "2         ₹354        82% off  \n",
       "3         ₹398        80% off  \n",
       "4       ₹1,099        76% off  \n",
       "5         ₹349        73% off  \n",
       "6         ₹449        55% off  \n",
       "7         ₹424        57% off  \n",
       "8         ₹209        58% off  \n",
       "9         ₹349        65% off  \n",
       "10        ₹449        55% off  \n",
       "11        ₹369        63% off  \n",
       "12        ₹499        66% off  \n",
       "13        ₹444        55% off  \n",
       "14        ₹269        86% off  \n",
       "15        ₹424        57% off  \n",
       "16        ₹566        62% off  \n",
       "17        ₹209        58% off  \n",
       "18        ₹159        68% off  \n",
       "19        ₹449        77% off  \n",
       "20        ₹170        65% off  \n",
       "21        ₹534        46% off  \n",
       "22        ₹354        76% off  \n",
       "23        ₹590        40% off  \n",
       "24        ₹449        70% off  \n",
       "25        ₹399        60% off  \n",
       "26        ₹586        54% off  \n",
       "27        ₹379        70% off  \n",
       "28        ₹449        55% off  \n",
       "29        ₹248        75% off  \n",
       "30      ₹2,626        34% off  \n",
       "31        ₹549        81% off  "
      ]
     },
     "execution_count": 431,
     "metadata": {},
     "output_type": "execute_result"
    }
   ],
   "source": [
    "sneakers_2=pd.DataFrame()\n",
    "sneakers_2['Brand_name']=brand[0:32]\n",
    "sneakers_2['Brand_Description']=descp\n",
    "sneakers_2['Brand_Price']=price[0:32]\n",
    "sneakers_2['Brand_Discount']=discount[0:32]\n",
    "sneakers_2"
   ]
  },
  {
   "cell_type": "code",
   "execution_count": 432,
   "metadata": {},
   "outputs": [],
   "source": [
    "next_pg=driver.find_element_by_xpath(\"/html/body/div[1]/div/div[3]/div[1]/div[2]/div[12]/div/div/nav/a[4]\")\n",
    "next_pg.click()"
   ]
  },
  {
   "cell_type": "code",
   "execution_count": 433,
   "metadata": {},
   "outputs": [
    {
     "data": {
      "text/plain": [
       "40"
      ]
     },
     "execution_count": 433,
     "metadata": {},
     "output_type": "execute_result"
    }
   ],
   "source": [
    "##extracting brand name \n",
    "brand_name=driver.find_elements_by_xpath(\"//div[@class='_2WkVRV']\")\n",
    "len(brand_name)"
   ]
  },
  {
   "cell_type": "code",
   "execution_count": 434,
   "metadata": {
    "scrolled": true
   },
   "outputs": [
    {
     "data": {
      "text/plain": [
       "[<selenium.webdriver.remote.webelement.WebElement (session=\"73ba1df09adbe58ada8d4ca8bd7738e5\", element=\"90f31242-c01f-44c7-93a2-1fb304e158a5\")>,\n",
       " <selenium.webdriver.remote.webelement.WebElement (session=\"73ba1df09adbe58ada8d4ca8bd7738e5\", element=\"8a459d7c-57d8-41b8-8ab4-e4a460e7b469\")>,\n",
       " <selenium.webdriver.remote.webelement.WebElement (session=\"73ba1df09adbe58ada8d4ca8bd7738e5\", element=\"651e0007-6c6c-424f-8aa7-27293bbde387\")>,\n",
       " <selenium.webdriver.remote.webelement.WebElement (session=\"73ba1df09adbe58ada8d4ca8bd7738e5\", element=\"a6f25282-96b9-4ca9-95e2-ae9d0dec24ec\")>,\n",
       " <selenium.webdriver.remote.webelement.WebElement (session=\"73ba1df09adbe58ada8d4ca8bd7738e5\", element=\"0a325b0d-085d-489b-9b99-5bc05cf1bbe7\")>,\n",
       " <selenium.webdriver.remote.webelement.WebElement (session=\"73ba1df09adbe58ada8d4ca8bd7738e5\", element=\"d5f11a35-b295-4c18-a746-cac31550c69b\")>,\n",
       " <selenium.webdriver.remote.webelement.WebElement (session=\"73ba1df09adbe58ada8d4ca8bd7738e5\", element=\"a2666084-4598-40cb-b17b-a63f9e6ff7ef\")>,\n",
       " <selenium.webdriver.remote.webelement.WebElement (session=\"73ba1df09adbe58ada8d4ca8bd7738e5\", element=\"7e0629e4-109a-4799-a456-3f8f4e1b2c00\")>,\n",
       " <selenium.webdriver.remote.webelement.WebElement (session=\"73ba1df09adbe58ada8d4ca8bd7738e5\", element=\"04e4e16b-03c6-49ca-bac6-eca73a79d0f0\")>,\n",
       " <selenium.webdriver.remote.webelement.WebElement (session=\"73ba1df09adbe58ada8d4ca8bd7738e5\", element=\"d0b7f8e5-da1e-4bce-a6d6-32735db7093a\")>,\n",
       " <selenium.webdriver.remote.webelement.WebElement (session=\"73ba1df09adbe58ada8d4ca8bd7738e5\", element=\"ad4a45d7-3058-4cd7-9e73-e6d064f78021\")>,\n",
       " <selenium.webdriver.remote.webelement.WebElement (session=\"73ba1df09adbe58ada8d4ca8bd7738e5\", element=\"1b6c7ade-61a2-48f1-9c0e-4a9c1664d269\")>,\n",
       " <selenium.webdriver.remote.webelement.WebElement (session=\"73ba1df09adbe58ada8d4ca8bd7738e5\", element=\"0526c3e6-ded6-469a-b2be-a9704f84088c\")>,\n",
       " <selenium.webdriver.remote.webelement.WebElement (session=\"73ba1df09adbe58ada8d4ca8bd7738e5\", element=\"3e7febbe-c2ed-41ee-9964-dc45fac202f6\")>,\n",
       " <selenium.webdriver.remote.webelement.WebElement (session=\"73ba1df09adbe58ada8d4ca8bd7738e5\", element=\"5c107a47-bae4-40f1-9986-85a3789f3b60\")>,\n",
       " <selenium.webdriver.remote.webelement.WebElement (session=\"73ba1df09adbe58ada8d4ca8bd7738e5\", element=\"7a1d74ff-bf1f-4a27-9778-a8f5e0fef80a\")>,\n",
       " <selenium.webdriver.remote.webelement.WebElement (session=\"73ba1df09adbe58ada8d4ca8bd7738e5\", element=\"e7a9c1c5-bd2d-4bce-8868-cdcbcb4b451a\")>,\n",
       " <selenium.webdriver.remote.webelement.WebElement (session=\"73ba1df09adbe58ada8d4ca8bd7738e5\", element=\"4723752e-3220-47f8-adfe-c79a115c179f\")>,\n",
       " <selenium.webdriver.remote.webelement.WebElement (session=\"73ba1df09adbe58ada8d4ca8bd7738e5\", element=\"e5ee15b7-459c-41eb-b095-68ebf55c139e\")>,\n",
       " <selenium.webdriver.remote.webelement.WebElement (session=\"73ba1df09adbe58ada8d4ca8bd7738e5\", element=\"50f02c1c-945a-4723-9acc-a67281b6e105\")>,\n",
       " <selenium.webdriver.remote.webelement.WebElement (session=\"73ba1df09adbe58ada8d4ca8bd7738e5\", element=\"78b3a333-deac-4c8a-bf0c-61a481dabb3b\")>,\n",
       " <selenium.webdriver.remote.webelement.WebElement (session=\"73ba1df09adbe58ada8d4ca8bd7738e5\", element=\"8fb9fc88-4b63-4ca1-9b85-4e7348090561\")>,\n",
       " <selenium.webdriver.remote.webelement.WebElement (session=\"73ba1df09adbe58ada8d4ca8bd7738e5\", element=\"685f5c70-0739-43f5-ae83-2d96ec866ca3\")>,\n",
       " <selenium.webdriver.remote.webelement.WebElement (session=\"73ba1df09adbe58ada8d4ca8bd7738e5\", element=\"9a4e9e78-d338-4a6a-9b3d-7c2cfc7e2924\")>,\n",
       " <selenium.webdriver.remote.webelement.WebElement (session=\"73ba1df09adbe58ada8d4ca8bd7738e5\", element=\"3decc7c8-ae66-468e-9235-5628ea0d448c\")>,\n",
       " <selenium.webdriver.remote.webelement.WebElement (session=\"73ba1df09adbe58ada8d4ca8bd7738e5\", element=\"b3a32e1f-3b4b-49ca-a69b-c12d57a35918\")>,\n",
       " <selenium.webdriver.remote.webelement.WebElement (session=\"73ba1df09adbe58ada8d4ca8bd7738e5\", element=\"6ce0f545-f1ea-4221-9189-48c0e743ae00\")>,\n",
       " <selenium.webdriver.remote.webelement.WebElement (session=\"73ba1df09adbe58ada8d4ca8bd7738e5\", element=\"7529b6fd-2024-4157-84b3-8032ce3b5f31\")>,\n",
       " <selenium.webdriver.remote.webelement.WebElement (session=\"73ba1df09adbe58ada8d4ca8bd7738e5\", element=\"81261a87-2d9d-442f-a9b5-fe2064719d17\")>,\n",
       " <selenium.webdriver.remote.webelement.WebElement (session=\"73ba1df09adbe58ada8d4ca8bd7738e5\", element=\"2bd4bc4d-4b17-4a18-a13b-b9939975f2a9\")>,\n",
       " <selenium.webdriver.remote.webelement.WebElement (session=\"73ba1df09adbe58ada8d4ca8bd7738e5\", element=\"35e577c2-0508-4908-b906-8dba9fc1674f\")>,\n",
       " <selenium.webdriver.remote.webelement.WebElement (session=\"73ba1df09adbe58ada8d4ca8bd7738e5\", element=\"ebe0990d-2e4b-467e-bd4d-44c059c88dff\")>,\n",
       " <selenium.webdriver.remote.webelement.WebElement (session=\"73ba1df09adbe58ada8d4ca8bd7738e5\", element=\"4d7b6bd8-4753-4f23-8a95-6cd8b86b8470\")>,\n",
       " <selenium.webdriver.remote.webelement.WebElement (session=\"73ba1df09adbe58ada8d4ca8bd7738e5\", element=\"cf9a0134-0335-4dcf-a88d-4ab1c843347a\")>,\n",
       " <selenium.webdriver.remote.webelement.WebElement (session=\"73ba1df09adbe58ada8d4ca8bd7738e5\", element=\"55a90037-e16c-4b2d-bd84-0957b3d8eafa\")>,\n",
       " <selenium.webdriver.remote.webelement.WebElement (session=\"73ba1df09adbe58ada8d4ca8bd7738e5\", element=\"fd48524a-d58a-4e53-b200-01110de22ab4\")>,\n",
       " <selenium.webdriver.remote.webelement.WebElement (session=\"73ba1df09adbe58ada8d4ca8bd7738e5\", element=\"88afbfd5-059e-448f-a941-95a45d151ad1\")>,\n",
       " <selenium.webdriver.remote.webelement.WebElement (session=\"73ba1df09adbe58ada8d4ca8bd7738e5\", element=\"61533390-39bf-48dc-9ca0-e632575fcdfe\")>,\n",
       " <selenium.webdriver.remote.webelement.WebElement (session=\"73ba1df09adbe58ada8d4ca8bd7738e5\", element=\"41135811-628f-4433-b8c1-41e5edec86ce\")>,\n",
       " <selenium.webdriver.remote.webelement.WebElement (session=\"73ba1df09adbe58ada8d4ca8bd7738e5\", element=\"105d69c7-2801-4008-bfb0-e00befef8a67\")>]"
      ]
     },
     "execution_count": 434,
     "metadata": {},
     "output_type": "execute_result"
    }
   ],
   "source": [
    "brand_name"
   ]
  },
  {
   "cell_type": "code",
   "execution_count": 435,
   "metadata": {
    "scrolled": true
   },
   "outputs": [
    {
     "data": {
      "text/plain": [
       "['PUMA',\n",
       " 'Gentax',\n",
       " 'Chevit',\n",
       " 'Brucharm',\n",
       " 'D-SNEAKERZ',\n",
       " 'SPARX',\n",
       " 'LuvShus',\n",
       " 'Red Rose',\n",
       " 'Skechers',\n",
       " 'Robbie jones',\n",
       " 'AMICO',\n",
       " 'HRX by Hrithik Roshan',\n",
       " 'HOTSTYLE',\n",
       " 'Xtoon',\n",
       " 'LE GREEM',\n",
       " 'PROVOGUE',\n",
       " 'Navtrend',\n",
       " 'Arohi',\n",
       " 'Robbie jones',\n",
       " 'asics',\n",
       " 'Absolute comfort',\n",
       " 'BRUTON',\n",
       " 'T-ROCK',\n",
       " 'SLAZENGER',\n",
       " 'PUMA',\n",
       " 'Robbie jones',\n",
       " 'DUCATI',\n",
       " 'REEBOK CLASSICS',\n",
       " 'Trendmode',\n",
       " 'HOTSTYLE',\n",
       " 'KNIGHT WALKERS',\n",
       " 'DUCATI',\n",
       " 'Magnolia',\n",
       " 'RODDICK SHOES',\n",
       " 'TR',\n",
       " 'RED CHIEF',\n",
       " 'EZDEZARIO',\n",
       " 'Airland',\n",
       " 'CLYMB',\n",
       " 'otoos']"
      ]
     },
     "execution_count": 435,
     "metadata": {},
     "output_type": "execute_result"
    }
   ],
   "source": [
    "brand=[]\n",
    "for i in brand_name:\n",
    "    brand.append(i.text)\n",
    "len(brand)  \n",
    "brand"
   ]
  },
  {
   "cell_type": "code",
   "execution_count": 456,
   "metadata": {},
   "outputs": [
    {
     "data": {
      "text/plain": [
       "33"
      ]
     },
     "execution_count": 456,
     "metadata": {},
     "output_type": "execute_result"
    }
   ],
   "source": [
    "#### extracting product description \n",
    "brand_descp=driver.find_elements_by_xpath((\"//a[@class='IRpwTa']\"))\n",
    "len(brand_descp)"
   ]
  },
  {
   "cell_type": "code",
   "execution_count": 451,
   "metadata": {
    "scrolled": true
   },
   "outputs": [
    {
     "data": {
      "text/plain": [
       "[<selenium.webdriver.remote.webelement.WebElement (session=\"73ba1df09adbe58ada8d4ca8bd7738e5\", element=\"58d02f13-96ac-4f95-9bef-70077968ee38\")>,\n",
       " <selenium.webdriver.remote.webelement.WebElement (session=\"73ba1df09adbe58ada8d4ca8bd7738e5\", element=\"ae2299b6-6bd2-4694-aec3-bff3fee7d312\")>,\n",
       " <selenium.webdriver.remote.webelement.WebElement (session=\"73ba1df09adbe58ada8d4ca8bd7738e5\", element=\"2b22aeab-1391-4eeb-8b40-31423d2f7238\")>,\n",
       " <selenium.webdriver.remote.webelement.WebElement (session=\"73ba1df09adbe58ada8d4ca8bd7738e5\", element=\"b4f8745f-be58-499d-8f2b-bb817cc3c29a\")>,\n",
       " <selenium.webdriver.remote.webelement.WebElement (session=\"73ba1df09adbe58ada8d4ca8bd7738e5\", element=\"679a68d4-5896-48eb-8304-c204f393f0f2\")>,\n",
       " <selenium.webdriver.remote.webelement.WebElement (session=\"73ba1df09adbe58ada8d4ca8bd7738e5\", element=\"8f6aaff2-495e-4900-97d8-5acfe20594dc\")>,\n",
       " <selenium.webdriver.remote.webelement.WebElement (session=\"73ba1df09adbe58ada8d4ca8bd7738e5\", element=\"16a57cef-8cd0-4656-ba45-17b970412017\")>,\n",
       " <selenium.webdriver.remote.webelement.WebElement (session=\"73ba1df09adbe58ada8d4ca8bd7738e5\", element=\"854f9a45-8e80-4502-895e-752006c04e5b\")>,\n",
       " <selenium.webdriver.remote.webelement.WebElement (session=\"73ba1df09adbe58ada8d4ca8bd7738e5\", element=\"d4533185-4040-4d70-b674-62c0325f478f\")>,\n",
       " <selenium.webdriver.remote.webelement.WebElement (session=\"73ba1df09adbe58ada8d4ca8bd7738e5\", element=\"fe85678e-620f-4efb-9911-b02098e45a1f\")>,\n",
       " <selenium.webdriver.remote.webelement.WebElement (session=\"73ba1df09adbe58ada8d4ca8bd7738e5\", element=\"f25c8458-486b-4e79-bc60-c82f273ffa43\")>,\n",
       " <selenium.webdriver.remote.webelement.WebElement (session=\"73ba1df09adbe58ada8d4ca8bd7738e5\", element=\"40464c5f-21ba-4bb9-ac1d-30994e74248c\")>,\n",
       " <selenium.webdriver.remote.webelement.WebElement (session=\"73ba1df09adbe58ada8d4ca8bd7738e5\", element=\"f5c7ec3e-7494-48c8-804f-8f830ee943db\")>,\n",
       " <selenium.webdriver.remote.webelement.WebElement (session=\"73ba1df09adbe58ada8d4ca8bd7738e5\", element=\"5c4c307d-7f06-4d8b-ba83-aa9c265f684a\")>,\n",
       " <selenium.webdriver.remote.webelement.WebElement (session=\"73ba1df09adbe58ada8d4ca8bd7738e5\", element=\"9829b1b0-fc13-4c9a-96f9-9048bdc1e11b\")>,\n",
       " <selenium.webdriver.remote.webelement.WebElement (session=\"73ba1df09adbe58ada8d4ca8bd7738e5\", element=\"4d32aef8-a87f-4e38-a1ef-93bb66bc084e\")>,\n",
       " <selenium.webdriver.remote.webelement.WebElement (session=\"73ba1df09adbe58ada8d4ca8bd7738e5\", element=\"55a4054d-d853-43ac-a181-fd17105d872b\")>,\n",
       " <selenium.webdriver.remote.webelement.WebElement (session=\"73ba1df09adbe58ada8d4ca8bd7738e5\", element=\"dac659c8-77a4-4b98-ae91-ebc7db9490e9\")>,\n",
       " <selenium.webdriver.remote.webelement.WebElement (session=\"73ba1df09adbe58ada8d4ca8bd7738e5\", element=\"c6d4f4aa-d071-4368-91de-c6889efd928f\")>,\n",
       " <selenium.webdriver.remote.webelement.WebElement (session=\"73ba1df09adbe58ada8d4ca8bd7738e5\", element=\"3e31abdf-c0dc-45e8-998a-dd5448efd849\")>,\n",
       " <selenium.webdriver.remote.webelement.WebElement (session=\"73ba1df09adbe58ada8d4ca8bd7738e5\", element=\"d1eac5c2-e9da-44d3-9a79-69461e2419ba\")>,\n",
       " <selenium.webdriver.remote.webelement.WebElement (session=\"73ba1df09adbe58ada8d4ca8bd7738e5\", element=\"89812b3f-4984-43ae-84f9-767dfe5c446e\")>,\n",
       " <selenium.webdriver.remote.webelement.WebElement (session=\"73ba1df09adbe58ada8d4ca8bd7738e5\", element=\"e267b71c-5708-49cc-8248-f35619ba8b1f\")>,\n",
       " <selenium.webdriver.remote.webelement.WebElement (session=\"73ba1df09adbe58ada8d4ca8bd7738e5\", element=\"9467c346-a1a1-4579-8a15-4b731693e651\")>,\n",
       " <selenium.webdriver.remote.webelement.WebElement (session=\"73ba1df09adbe58ada8d4ca8bd7738e5\", element=\"c810e5d7-a053-4145-894e-0b023986fd11\")>,\n",
       " <selenium.webdriver.remote.webelement.WebElement (session=\"73ba1df09adbe58ada8d4ca8bd7738e5\", element=\"7196027e-963b-47b4-8a9d-0a01e6880e72\")>,\n",
       " <selenium.webdriver.remote.webelement.WebElement (session=\"73ba1df09adbe58ada8d4ca8bd7738e5\", element=\"43a68500-1260-4bee-ac7c-3b2a815df85f\")>,\n",
       " <selenium.webdriver.remote.webelement.WebElement (session=\"73ba1df09adbe58ada8d4ca8bd7738e5\", element=\"c2142b9f-e257-4e5b-9357-23b76a6cfb0f\")>,\n",
       " <selenium.webdriver.remote.webelement.WebElement (session=\"73ba1df09adbe58ada8d4ca8bd7738e5\", element=\"a78d2dfb-e538-4aea-9efa-d2e25ee3e458\")>,\n",
       " <selenium.webdriver.remote.webelement.WebElement (session=\"73ba1df09adbe58ada8d4ca8bd7738e5\", element=\"456eb166-b9dc-4f0d-beb4-da080a30fced\")>,\n",
       " <selenium.webdriver.remote.webelement.WebElement (session=\"73ba1df09adbe58ada8d4ca8bd7738e5\", element=\"313ee70f-6635-477a-941b-63d326a96b18\")>,\n",
       " <selenium.webdriver.remote.webelement.WebElement (session=\"73ba1df09adbe58ada8d4ca8bd7738e5\", element=\"bce42a9e-7dca-49aa-aaf2-6d136d2319cc\")>,\n",
       " <selenium.webdriver.remote.webelement.WebElement (session=\"73ba1df09adbe58ada8d4ca8bd7738e5\", element=\"46972179-bd4b-4572-bfef-7dde19a5e46d\")>]"
      ]
     },
     "execution_count": 451,
     "metadata": {},
     "output_type": "execute_result"
    }
   ],
   "source": [
    "brand_descp"
   ]
  },
  {
   "cell_type": "code",
   "execution_count": 438,
   "metadata": {
    "scrolled": true
   },
   "outputs": [
    {
     "data": {
      "text/plain": [
       "['BMW MMS X-Ray Speed Sneakers For Men',\n",
       " 'Unique & Perfect Collection Combo Pack of 02 Shoes for ...',\n",
       " 'Comfortable Outdoors/Gym&Workout/Running Shoes/Attracti...',\n",
       " \"Casual , Partywear Sneakers Shoes For Men's And Boys Wh...\",\n",
       " 'SM-671 Sneakers For Men',\n",
       " 'Men Casual Shoe New Trend With Fashion Panda Desgined L...',\n",
       " 'Sneakers For Men',\n",
       " 'Summits - Brisbane Sneakers For Men',\n",
       " 'Sneakers For Men',\n",
       " 'Sneakers For Men',\n",
       " 'Sneakers For Men',\n",
       " 'Sneakers For Men',\n",
       " \"white Casual shoes,Sneakers for men's Sneakers For Men\",\n",
       " 'Comfortable & Ultra Light Weight Sneaker Sneakers For M...',\n",
       " 'Sneakers For Men',\n",
       " 'Sneakers For Men',\n",
       " 'GEL-NANDI 360 Sneakers For Men',\n",
       " 'Combo Pack Of 2 Latest Stylish Casual Shoes for Men Lac...',\n",
       " 'Sneakers For Men',\n",
       " 'Casual Sneakers White Shoes For Men Sneakers For Men',\n",
       " 'Sneakers For Men',\n",
       " 'CL LTHR Sneakers For Men',\n",
       " 'Sneakers For Men',\n",
       " 'CR-1 Sneakers For Men',\n",
       " 'Sneakers For Men',\n",
       " 'Sneakers For Men',\n",
       " 'Sneakers For Men',\n",
       " 'Fashion Outdoor Canvas Casual Light Weight Lace-up Even...',\n",
       " 'Sneakers For Men',\n",
       " 'RC1975 022 Corporate Casuals For Men',\n",
       " 'Shoes in Black Color Party wear/Outdoor/Casual Shoes Fo...',\n",
       " 'Sneakers For Men',\n",
       " 'Khalifa/Walking/Outdoor/Sneakers Sneakers For Men']"
      ]
     },
     "execution_count": 438,
     "metadata": {},
     "output_type": "execute_result"
    }
   ],
   "source": [
    "descp=[]\n",
    "for i in brand_descp:\n",
    "   descp.append(i.text)\n",
    "len(descp)  \n",
    "descp"
   ]
  },
  {
   "cell_type": "code",
   "execution_count": 439,
   "metadata": {},
   "outputs": [
    {
     "data": {
      "text/plain": [
       "40"
      ]
     },
     "execution_count": 439,
     "metadata": {},
     "output_type": "execute_result"
    }
   ],
   "source": [
    "\n",
    "#### extracting product price\n",
    "brand_price=driver.find_elements_by_xpath(\"//div[@class='_30jeq3']\")\n",
    "len(brand_price)"
   ]
  },
  {
   "cell_type": "code",
   "execution_count": 440,
   "metadata": {
    "scrolled": true
   },
   "outputs": [
    {
     "data": {
      "text/plain": [
       "[<selenium.webdriver.remote.webelement.WebElement (session=\"73ba1df09adbe58ada8d4ca8bd7738e5\", element=\"80797d4f-731c-4078-8db5-9b90260d15ab\")>,\n",
       " <selenium.webdriver.remote.webelement.WebElement (session=\"73ba1df09adbe58ada8d4ca8bd7738e5\", element=\"716ee6bc-f522-42dc-b5ec-7d33d02022e0\")>,\n",
       " <selenium.webdriver.remote.webelement.WebElement (session=\"73ba1df09adbe58ada8d4ca8bd7738e5\", element=\"06bd9480-1f4b-408d-bd03-a43cf55e7678\")>,\n",
       " <selenium.webdriver.remote.webelement.WebElement (session=\"73ba1df09adbe58ada8d4ca8bd7738e5\", element=\"33025ebb-70a8-4af3-96eb-b897c04e0673\")>,\n",
       " <selenium.webdriver.remote.webelement.WebElement (session=\"73ba1df09adbe58ada8d4ca8bd7738e5\", element=\"f0fbbfd0-443b-4bef-8e23-2875a1408c12\")>,\n",
       " <selenium.webdriver.remote.webelement.WebElement (session=\"73ba1df09adbe58ada8d4ca8bd7738e5\", element=\"04f55e87-6ee6-4b7c-a924-4d531d97dec0\")>,\n",
       " <selenium.webdriver.remote.webelement.WebElement (session=\"73ba1df09adbe58ada8d4ca8bd7738e5\", element=\"d59b84a8-3fbe-4178-9f11-6036593e035a\")>,\n",
       " <selenium.webdriver.remote.webelement.WebElement (session=\"73ba1df09adbe58ada8d4ca8bd7738e5\", element=\"1a55091c-9cfd-4384-b4c7-b7230406753f\")>,\n",
       " <selenium.webdriver.remote.webelement.WebElement (session=\"73ba1df09adbe58ada8d4ca8bd7738e5\", element=\"d9b31d3d-bf9c-4ca6-b64b-24529d164f93\")>,\n",
       " <selenium.webdriver.remote.webelement.WebElement (session=\"73ba1df09adbe58ada8d4ca8bd7738e5\", element=\"cdf96fee-d80a-49ae-8d4a-92a33a3c1b6c\")>,\n",
       " <selenium.webdriver.remote.webelement.WebElement (session=\"73ba1df09adbe58ada8d4ca8bd7738e5\", element=\"c29afb88-afce-463e-8ca9-5f5da75eef8e\")>,\n",
       " <selenium.webdriver.remote.webelement.WebElement (session=\"73ba1df09adbe58ada8d4ca8bd7738e5\", element=\"fd1ac081-3ad3-4c73-bf14-b1911a072a75\")>,\n",
       " <selenium.webdriver.remote.webelement.WebElement (session=\"73ba1df09adbe58ada8d4ca8bd7738e5\", element=\"b8f36667-f438-4f3e-9c80-0300de60e421\")>,\n",
       " <selenium.webdriver.remote.webelement.WebElement (session=\"73ba1df09adbe58ada8d4ca8bd7738e5\", element=\"c2e1bdc6-0544-4d53-9f39-1619858a4fd5\")>,\n",
       " <selenium.webdriver.remote.webelement.WebElement (session=\"73ba1df09adbe58ada8d4ca8bd7738e5\", element=\"573cff39-2915-4207-893e-b51d167f9c02\")>,\n",
       " <selenium.webdriver.remote.webelement.WebElement (session=\"73ba1df09adbe58ada8d4ca8bd7738e5\", element=\"94c99bac-f6cd-4c41-9f1e-92259f385e78\")>,\n",
       " <selenium.webdriver.remote.webelement.WebElement (session=\"73ba1df09adbe58ada8d4ca8bd7738e5\", element=\"4faa5d1c-9503-4e8f-ab80-1403eb10fdef\")>,\n",
       " <selenium.webdriver.remote.webelement.WebElement (session=\"73ba1df09adbe58ada8d4ca8bd7738e5\", element=\"b1e4db7c-1d43-4ac8-91e4-5657aa84a709\")>,\n",
       " <selenium.webdriver.remote.webelement.WebElement (session=\"73ba1df09adbe58ada8d4ca8bd7738e5\", element=\"edae41fd-5c56-442f-b998-20a880ae018d\")>,\n",
       " <selenium.webdriver.remote.webelement.WebElement (session=\"73ba1df09adbe58ada8d4ca8bd7738e5\", element=\"7dd3050e-7b17-43c3-998b-d2f85ff75b79\")>,\n",
       " <selenium.webdriver.remote.webelement.WebElement (session=\"73ba1df09adbe58ada8d4ca8bd7738e5\", element=\"8ad6f6a4-101c-42ba-9080-1c1d9beafcd5\")>,\n",
       " <selenium.webdriver.remote.webelement.WebElement (session=\"73ba1df09adbe58ada8d4ca8bd7738e5\", element=\"e862d064-bb11-4b52-a081-b83e07e66b1d\")>,\n",
       " <selenium.webdriver.remote.webelement.WebElement (session=\"73ba1df09adbe58ada8d4ca8bd7738e5\", element=\"4e92f884-8b90-435e-a2f1-46b37a27b5b5\")>,\n",
       " <selenium.webdriver.remote.webelement.WebElement (session=\"73ba1df09adbe58ada8d4ca8bd7738e5\", element=\"f5298213-0481-45f2-83d8-7b37318b5b76\")>,\n",
       " <selenium.webdriver.remote.webelement.WebElement (session=\"73ba1df09adbe58ada8d4ca8bd7738e5\", element=\"50340605-e5d0-4820-892a-7b7588005131\")>,\n",
       " <selenium.webdriver.remote.webelement.WebElement (session=\"73ba1df09adbe58ada8d4ca8bd7738e5\", element=\"c3c4382d-f2fc-42eb-b344-da139657602c\")>,\n",
       " <selenium.webdriver.remote.webelement.WebElement (session=\"73ba1df09adbe58ada8d4ca8bd7738e5\", element=\"e5ae4584-29c0-4686-b609-dbe575fd9cb3\")>,\n",
       " <selenium.webdriver.remote.webelement.WebElement (session=\"73ba1df09adbe58ada8d4ca8bd7738e5\", element=\"7a9a6e2c-5970-4321-8dfa-d1b62415c5f2\")>,\n",
       " <selenium.webdriver.remote.webelement.WebElement (session=\"73ba1df09adbe58ada8d4ca8bd7738e5\", element=\"a33f99c8-089d-4216-bebe-3ee3284b0bd1\")>,\n",
       " <selenium.webdriver.remote.webelement.WebElement (session=\"73ba1df09adbe58ada8d4ca8bd7738e5\", element=\"641b7acd-7d62-4d30-90c5-d4cb655fe985\")>,\n",
       " <selenium.webdriver.remote.webelement.WebElement (session=\"73ba1df09adbe58ada8d4ca8bd7738e5\", element=\"bd8a688f-17ba-407e-8a45-6b581c6a87d2\")>,\n",
       " <selenium.webdriver.remote.webelement.WebElement (session=\"73ba1df09adbe58ada8d4ca8bd7738e5\", element=\"4ce03bf1-cc85-4af4-bd4d-7452b742c606\")>,\n",
       " <selenium.webdriver.remote.webelement.WebElement (session=\"73ba1df09adbe58ada8d4ca8bd7738e5\", element=\"54e55315-4191-4ac4-baf2-3732c984ca26\")>,\n",
       " <selenium.webdriver.remote.webelement.WebElement (session=\"73ba1df09adbe58ada8d4ca8bd7738e5\", element=\"6c8e906c-c408-46fe-aa0f-87a8abf15d2e\")>,\n",
       " <selenium.webdriver.remote.webelement.WebElement (session=\"73ba1df09adbe58ada8d4ca8bd7738e5\", element=\"2371fc76-8001-4ea0-ac71-8355ce7eb876\")>,\n",
       " <selenium.webdriver.remote.webelement.WebElement (session=\"73ba1df09adbe58ada8d4ca8bd7738e5\", element=\"f184f9c4-c232-4919-b491-7ab9fc3dff1b\")>,\n",
       " <selenium.webdriver.remote.webelement.WebElement (session=\"73ba1df09adbe58ada8d4ca8bd7738e5\", element=\"d69f8bba-6cc3-46c7-9893-77555f12e68d\")>,\n",
       " <selenium.webdriver.remote.webelement.WebElement (session=\"73ba1df09adbe58ada8d4ca8bd7738e5\", element=\"2c39ff39-e9d8-4c99-833d-177afc9cc3d8\")>,\n",
       " <selenium.webdriver.remote.webelement.WebElement (session=\"73ba1df09adbe58ada8d4ca8bd7738e5\", element=\"37155a9b-c4b2-4601-a0d0-9f2e141dc02b\")>,\n",
       " <selenium.webdriver.remote.webelement.WebElement (session=\"73ba1df09adbe58ada8d4ca8bd7738e5\", element=\"1967ab2e-cabb-4edf-a59b-6bf98a2dd1ff\")>]"
      ]
     },
     "execution_count": 440,
     "metadata": {},
     "output_type": "execute_result"
    }
   ],
   "source": [
    "brand_price"
   ]
  },
  {
   "cell_type": "code",
   "execution_count": 441,
   "metadata": {
    "scrolled": true
   },
   "outputs": [
    {
     "data": {
      "text/plain": [
       "['₹4,149',\n",
       " '₹248',\n",
       " '₹374',\n",
       " '₹840',\n",
       " '₹334',\n",
       " '₹939',\n",
       " '₹354',\n",
       " '₹449',\n",
       " '₹2,078',\n",
       " '₹424',\n",
       " '₹499',\n",
       " '₹1,549',\n",
       " '₹195',\n",
       " '₹448',\n",
       " '₹399',\n",
       " '₹709',\n",
       " '₹548',\n",
       " '₹379',\n",
       " '₹424',\n",
       " '₹4,801',\n",
       " '₹159',\n",
       " '₹449',\n",
       " '₹249',\n",
       " '₹749',\n",
       " '₹1,749',\n",
       " '₹424',\n",
       " '₹1,239',\n",
       " '₹3,547',\n",
       " '₹300',\n",
       " '₹199',\n",
       " '₹598',\n",
       " '₹1,329',\n",
       " '₹374',\n",
       " '₹398',\n",
       " '₹291',\n",
       " '₹3,595',\n",
       " '₹349',\n",
       " '₹171',\n",
       " '₹566',\n",
       " '₹625']"
      ]
     },
     "execution_count": 441,
     "metadata": {},
     "output_type": "execute_result"
    }
   ],
   "source": [
    "price=[]\n",
    "for i in brand_price:\n",
    "   price.append(i.text)\n",
    "len(price)  \n",
    "price"
   ]
  },
  {
   "cell_type": "code",
   "execution_count": 442,
   "metadata": {},
   "outputs": [
    {
     "data": {
      "text/plain": [
       "40"
      ]
     },
     "execution_count": 442,
     "metadata": {},
     "output_type": "execute_result"
    }
   ],
   "source": [
    "\n",
    "#### extracting product discount\n",
    "brand_disc=driver.find_elements_by_xpath(\"//div[@class='_3Ay6Sb']\")\n",
    "len(brand_disc)"
   ]
  },
  {
   "cell_type": "code",
   "execution_count": 443,
   "metadata": {
    "scrolled": true
   },
   "outputs": [
    {
     "data": {
      "text/plain": [
       "[<selenium.webdriver.remote.webelement.WebElement (session=\"73ba1df09adbe58ada8d4ca8bd7738e5\", element=\"cbfdb204-efed-41b4-b51b-d1a53d203df2\")>,\n",
       " <selenium.webdriver.remote.webelement.WebElement (session=\"73ba1df09adbe58ada8d4ca8bd7738e5\", element=\"2759a563-f613-49a6-b6aa-97fc6fdf5991\")>,\n",
       " <selenium.webdriver.remote.webelement.WebElement (session=\"73ba1df09adbe58ada8d4ca8bd7738e5\", element=\"d2edc242-1ebc-48eb-8d37-c3c184c02843\")>,\n",
       " <selenium.webdriver.remote.webelement.WebElement (session=\"73ba1df09adbe58ada8d4ca8bd7738e5\", element=\"c006ec20-882e-4695-a870-de5f22d78520\")>,\n",
       " <selenium.webdriver.remote.webelement.WebElement (session=\"73ba1df09adbe58ada8d4ca8bd7738e5\", element=\"e5cec44e-a4ca-4052-a61b-f741c1583178\")>,\n",
       " <selenium.webdriver.remote.webelement.WebElement (session=\"73ba1df09adbe58ada8d4ca8bd7738e5\", element=\"0be5e77a-9d94-4f3f-b610-65030e13071a\")>,\n",
       " <selenium.webdriver.remote.webelement.WebElement (session=\"73ba1df09adbe58ada8d4ca8bd7738e5\", element=\"a211eadb-7b97-4232-92cc-6a6f50a76a64\")>,\n",
       " <selenium.webdriver.remote.webelement.WebElement (session=\"73ba1df09adbe58ada8d4ca8bd7738e5\", element=\"219f5d7d-e215-49e8-9c7b-aaa16e749e3d\")>,\n",
       " <selenium.webdriver.remote.webelement.WebElement (session=\"73ba1df09adbe58ada8d4ca8bd7738e5\", element=\"c6bf5d86-e294-43f2-93c1-cc0cad93ed4b\")>,\n",
       " <selenium.webdriver.remote.webelement.WebElement (session=\"73ba1df09adbe58ada8d4ca8bd7738e5\", element=\"823e0fdf-ac24-44cf-91b6-21e3c7026d3d\")>,\n",
       " <selenium.webdriver.remote.webelement.WebElement (session=\"73ba1df09adbe58ada8d4ca8bd7738e5\", element=\"54c57073-c983-4736-bd38-9729b4ce50e0\")>,\n",
       " <selenium.webdriver.remote.webelement.WebElement (session=\"73ba1df09adbe58ada8d4ca8bd7738e5\", element=\"3f63f364-fd61-493a-8447-13c3a368e2f5\")>,\n",
       " <selenium.webdriver.remote.webelement.WebElement (session=\"73ba1df09adbe58ada8d4ca8bd7738e5\", element=\"4142ad19-4758-4d29-8987-1ecbab6891a1\")>,\n",
       " <selenium.webdriver.remote.webelement.WebElement (session=\"73ba1df09adbe58ada8d4ca8bd7738e5\", element=\"12c40794-1167-42f2-87f5-92f879e3cce6\")>,\n",
       " <selenium.webdriver.remote.webelement.WebElement (session=\"73ba1df09adbe58ada8d4ca8bd7738e5\", element=\"9313d9f5-8774-4082-b004-42d75c2f43f8\")>,\n",
       " <selenium.webdriver.remote.webelement.WebElement (session=\"73ba1df09adbe58ada8d4ca8bd7738e5\", element=\"8a0ba369-06b5-40f6-9f6e-faf77f1b521c\")>,\n",
       " <selenium.webdriver.remote.webelement.WebElement (session=\"73ba1df09adbe58ada8d4ca8bd7738e5\", element=\"9f4f1e7a-8fbe-457e-a19f-62c75c7a4a14\")>,\n",
       " <selenium.webdriver.remote.webelement.WebElement (session=\"73ba1df09adbe58ada8d4ca8bd7738e5\", element=\"ad8e30f9-c1cd-47bd-bdad-effbedc22d66\")>,\n",
       " <selenium.webdriver.remote.webelement.WebElement (session=\"73ba1df09adbe58ada8d4ca8bd7738e5\", element=\"3167a628-34b6-4ec4-8a0a-282a919f33ac\")>,\n",
       " <selenium.webdriver.remote.webelement.WebElement (session=\"73ba1df09adbe58ada8d4ca8bd7738e5\", element=\"4e2fa801-c43e-442f-9a40-0b41fc1f7190\")>,\n",
       " <selenium.webdriver.remote.webelement.WebElement (session=\"73ba1df09adbe58ada8d4ca8bd7738e5\", element=\"6364c338-2aac-471c-b32d-9251c2d5c31a\")>,\n",
       " <selenium.webdriver.remote.webelement.WebElement (session=\"73ba1df09adbe58ada8d4ca8bd7738e5\", element=\"f9f5ab6a-a330-4c7f-9154-1847db8ae15f\")>,\n",
       " <selenium.webdriver.remote.webelement.WebElement (session=\"73ba1df09adbe58ada8d4ca8bd7738e5\", element=\"77e0b80d-ebee-4561-b8a9-7135c6a59f1d\")>,\n",
       " <selenium.webdriver.remote.webelement.WebElement (session=\"73ba1df09adbe58ada8d4ca8bd7738e5\", element=\"c46f539a-2cb1-4685-9ab2-27c8fe11f321\")>,\n",
       " <selenium.webdriver.remote.webelement.WebElement (session=\"73ba1df09adbe58ada8d4ca8bd7738e5\", element=\"4ddeecb9-51af-4bc4-a3c0-954c79a186c9\")>,\n",
       " <selenium.webdriver.remote.webelement.WebElement (session=\"73ba1df09adbe58ada8d4ca8bd7738e5\", element=\"d908f68f-f952-4718-83bb-c4bde7a4cda1\")>,\n",
       " <selenium.webdriver.remote.webelement.WebElement (session=\"73ba1df09adbe58ada8d4ca8bd7738e5\", element=\"3e494126-f3b3-4997-8ce1-5747e1466b0b\")>,\n",
       " <selenium.webdriver.remote.webelement.WebElement (session=\"73ba1df09adbe58ada8d4ca8bd7738e5\", element=\"1f6aa806-4dde-4b17-b6e2-e7456387f269\")>,\n",
       " <selenium.webdriver.remote.webelement.WebElement (session=\"73ba1df09adbe58ada8d4ca8bd7738e5\", element=\"f92330c7-1dab-4ae9-aff0-c1be67da4a26\")>,\n",
       " <selenium.webdriver.remote.webelement.WebElement (session=\"73ba1df09adbe58ada8d4ca8bd7738e5\", element=\"15355d89-33ed-4693-8c57-3f98eeafbe2e\")>,\n",
       " <selenium.webdriver.remote.webelement.WebElement (session=\"73ba1df09adbe58ada8d4ca8bd7738e5\", element=\"f9a34d4a-d6ce-46cb-908f-c96f78250e2f\")>,\n",
       " <selenium.webdriver.remote.webelement.WebElement (session=\"73ba1df09adbe58ada8d4ca8bd7738e5\", element=\"448304e3-8d5d-487f-9bec-1fae4f16b557\")>,\n",
       " <selenium.webdriver.remote.webelement.WebElement (session=\"73ba1df09adbe58ada8d4ca8bd7738e5\", element=\"d106bf4f-4044-4588-b2ab-68d3a3c7055f\")>,\n",
       " <selenium.webdriver.remote.webelement.WebElement (session=\"73ba1df09adbe58ada8d4ca8bd7738e5\", element=\"747d4875-2034-4708-bc72-2a439d9be7f9\")>,\n",
       " <selenium.webdriver.remote.webelement.WebElement (session=\"73ba1df09adbe58ada8d4ca8bd7738e5\", element=\"9f4ebb5a-b286-42b1-9ccb-fdd1ab56a505\")>,\n",
       " <selenium.webdriver.remote.webelement.WebElement (session=\"73ba1df09adbe58ada8d4ca8bd7738e5\", element=\"53ccced3-7c3a-4272-8277-dfac8df586b1\")>,\n",
       " <selenium.webdriver.remote.webelement.WebElement (session=\"73ba1df09adbe58ada8d4ca8bd7738e5\", element=\"ca168059-b8db-46a9-b49b-94fb102be50e\")>,\n",
       " <selenium.webdriver.remote.webelement.WebElement (session=\"73ba1df09adbe58ada8d4ca8bd7738e5\", element=\"b60a65e9-ece0-40fc-b04c-a5649216438d\")>,\n",
       " <selenium.webdriver.remote.webelement.WebElement (session=\"73ba1df09adbe58ada8d4ca8bd7738e5\", element=\"0a8ae285-aa76-4316-90dc-b55c9621a2e5\")>,\n",
       " <selenium.webdriver.remote.webelement.WebElement (session=\"73ba1df09adbe58ada8d4ca8bd7738e5\", element=\"549e9c9e-f006-47c3-a785-1972dc4335dc\")>]"
      ]
     },
     "execution_count": 443,
     "metadata": {},
     "output_type": "execute_result"
    }
   ],
   "source": [
    "brand_disc"
   ]
  },
  {
   "cell_type": "code",
   "execution_count": 444,
   "metadata": {
    "scrolled": true
   },
   "outputs": [
    {
     "data": {
      "text/plain": [
       "['40% off',\n",
       " '75% off',\n",
       " '75% off',\n",
       " '53% off',\n",
       " '66% off',\n",
       " '14% off',\n",
       " '64% off',\n",
       " '55% off',\n",
       " '51% off',\n",
       " '57% off',\n",
       " '50% off',\n",
       " '61% off',\n",
       " '80% off',\n",
       " '55% off',\n",
       " '60% off',\n",
       " '62% off',\n",
       " '81% off',\n",
       " '62% off',\n",
       " '57% off',\n",
       " '56% off',\n",
       " '68% off',\n",
       " '82% off',\n",
       " '75% off',\n",
       " '67% off',\n",
       " '41% off',\n",
       " '57% off',\n",
       " '62% off',\n",
       " '40% off',\n",
       " '57% off',\n",
       " '60% off',\n",
       " '60% off',\n",
       " '69% off',\n",
       " '62% off',\n",
       " '60% off',\n",
       " '70% off',\n",
       " '1% off',\n",
       " '65% off',\n",
       " '65% off',\n",
       " '62% off',\n",
       " '68% off']"
      ]
     },
     "execution_count": 444,
     "metadata": {},
     "output_type": "execute_result"
    }
   ],
   "source": [
    "discount=[]\n",
    "for i in brand_disc:\n",
    "   discount.append(i.text)\n",
    "len(discount)  \n",
    "discount"
   ]
  },
  {
   "cell_type": "code",
   "execution_count": 445,
   "metadata": {},
   "outputs": [
    {
     "data": {
      "text/html": [
       "<div>\n",
       "<style scoped>\n",
       "    .dataframe tbody tr th:only-of-type {\n",
       "        vertical-align: middle;\n",
       "    }\n",
       "\n",
       "    .dataframe tbody tr th {\n",
       "        vertical-align: top;\n",
       "    }\n",
       "\n",
       "    .dataframe thead th {\n",
       "        text-align: right;\n",
       "    }\n",
       "</style>\n",
       "<table border=\"1\" class=\"dataframe\">\n",
       "  <thead>\n",
       "    <tr style=\"text-align: right;\">\n",
       "      <th></th>\n",
       "      <th>Brand_name</th>\n",
       "      <th>Brand_Description</th>\n",
       "      <th>Brand_Price</th>\n",
       "      <th>Brand_Discount</th>\n",
       "    </tr>\n",
       "  </thead>\n",
       "  <tbody>\n",
       "    <tr>\n",
       "      <th>0</th>\n",
       "      <td>PUMA</td>\n",
       "      <td>BMW MMS X-Ray Speed Sneakers For Men</td>\n",
       "      <td>₹4,149</td>\n",
       "      <td>40% off</td>\n",
       "    </tr>\n",
       "    <tr>\n",
       "      <th>1</th>\n",
       "      <td>Gentax</td>\n",
       "      <td>Unique &amp; Perfect Collection Combo Pack of 02 S...</td>\n",
       "      <td>₹248</td>\n",
       "      <td>75% off</td>\n",
       "    </tr>\n",
       "    <tr>\n",
       "      <th>2</th>\n",
       "      <td>Chevit</td>\n",
       "      <td>Comfortable Outdoors/Gym&amp;Workout/Running Shoes...</td>\n",
       "      <td>₹374</td>\n",
       "      <td>75% off</td>\n",
       "    </tr>\n",
       "    <tr>\n",
       "      <th>3</th>\n",
       "      <td>Brucharm</td>\n",
       "      <td>Casual , Partywear Sneakers Shoes For Men's An...</td>\n",
       "      <td>₹840</td>\n",
       "      <td>53% off</td>\n",
       "    </tr>\n",
       "    <tr>\n",
       "      <th>4</th>\n",
       "      <td>D-SNEAKERZ</td>\n",
       "      <td>SM-671 Sneakers For Men</td>\n",
       "      <td>₹334</td>\n",
       "      <td>66% off</td>\n",
       "    </tr>\n",
       "    <tr>\n",
       "      <th>5</th>\n",
       "      <td>SPARX</td>\n",
       "      <td>Men Casual Shoe New Trend With Fashion Panda D...</td>\n",
       "      <td>₹939</td>\n",
       "      <td>14% off</td>\n",
       "    </tr>\n",
       "    <tr>\n",
       "      <th>6</th>\n",
       "      <td>LuvShus</td>\n",
       "      <td>Sneakers For Men</td>\n",
       "      <td>₹354</td>\n",
       "      <td>64% off</td>\n",
       "    </tr>\n",
       "    <tr>\n",
       "      <th>7</th>\n",
       "      <td>Red Rose</td>\n",
       "      <td>Summits - Brisbane Sneakers For Men</td>\n",
       "      <td>₹449</td>\n",
       "      <td>55% off</td>\n",
       "    </tr>\n",
       "    <tr>\n",
       "      <th>8</th>\n",
       "      <td>Skechers</td>\n",
       "      <td>Sneakers For Men</td>\n",
       "      <td>₹2,078</td>\n",
       "      <td>51% off</td>\n",
       "    </tr>\n",
       "    <tr>\n",
       "      <th>9</th>\n",
       "      <td>Robbie jones</td>\n",
       "      <td>Sneakers For Men</td>\n",
       "      <td>₹424</td>\n",
       "      <td>57% off</td>\n",
       "    </tr>\n",
       "    <tr>\n",
       "      <th>10</th>\n",
       "      <td>AMICO</td>\n",
       "      <td>Sneakers For Men</td>\n",
       "      <td>₹499</td>\n",
       "      <td>50% off</td>\n",
       "    </tr>\n",
       "    <tr>\n",
       "      <th>11</th>\n",
       "      <td>HRX by Hrithik Roshan</td>\n",
       "      <td>Sneakers For Men</td>\n",
       "      <td>₹1,549</td>\n",
       "      <td>61% off</td>\n",
       "    </tr>\n",
       "    <tr>\n",
       "      <th>12</th>\n",
       "      <td>HOTSTYLE</td>\n",
       "      <td>white Casual shoes,Sneakers for men's Sneakers...</td>\n",
       "      <td>₹195</td>\n",
       "      <td>80% off</td>\n",
       "    </tr>\n",
       "    <tr>\n",
       "      <th>13</th>\n",
       "      <td>Xtoon</td>\n",
       "      <td>Comfortable &amp; Ultra Light Weight Sneaker Sneak...</td>\n",
       "      <td>₹448</td>\n",
       "      <td>55% off</td>\n",
       "    </tr>\n",
       "    <tr>\n",
       "      <th>14</th>\n",
       "      <td>LE GREEM</td>\n",
       "      <td>Sneakers For Men</td>\n",
       "      <td>₹399</td>\n",
       "      <td>60% off</td>\n",
       "    </tr>\n",
       "    <tr>\n",
       "      <th>15</th>\n",
       "      <td>PROVOGUE</td>\n",
       "      <td>Sneakers For Men</td>\n",
       "      <td>₹709</td>\n",
       "      <td>62% off</td>\n",
       "    </tr>\n",
       "    <tr>\n",
       "      <th>16</th>\n",
       "      <td>Navtrend</td>\n",
       "      <td>GEL-NANDI 360 Sneakers For Men</td>\n",
       "      <td>₹548</td>\n",
       "      <td>81% off</td>\n",
       "    </tr>\n",
       "    <tr>\n",
       "      <th>17</th>\n",
       "      <td>Arohi</td>\n",
       "      <td>Combo Pack Of 2 Latest Stylish Casual Shoes fo...</td>\n",
       "      <td>₹379</td>\n",
       "      <td>62% off</td>\n",
       "    </tr>\n",
       "    <tr>\n",
       "      <th>18</th>\n",
       "      <td>Robbie jones</td>\n",
       "      <td>Sneakers For Men</td>\n",
       "      <td>₹424</td>\n",
       "      <td>57% off</td>\n",
       "    </tr>\n",
       "    <tr>\n",
       "      <th>19</th>\n",
       "      <td>asics</td>\n",
       "      <td>Casual Sneakers White Shoes For Men Sneakers F...</td>\n",
       "      <td>₹4,801</td>\n",
       "      <td>56% off</td>\n",
       "    </tr>\n",
       "    <tr>\n",
       "      <th>20</th>\n",
       "      <td>Absolute comfort</td>\n",
       "      <td>Sneakers For Men</td>\n",
       "      <td>₹159</td>\n",
       "      <td>68% off</td>\n",
       "    </tr>\n",
       "    <tr>\n",
       "      <th>21</th>\n",
       "      <td>BRUTON</td>\n",
       "      <td>CL LTHR Sneakers For Men</td>\n",
       "      <td>₹449</td>\n",
       "      <td>82% off</td>\n",
       "    </tr>\n",
       "    <tr>\n",
       "      <th>22</th>\n",
       "      <td>T-ROCK</td>\n",
       "      <td>Sneakers For Men</td>\n",
       "      <td>₹249</td>\n",
       "      <td>75% off</td>\n",
       "    </tr>\n",
       "    <tr>\n",
       "      <th>23</th>\n",
       "      <td>SLAZENGER</td>\n",
       "      <td>CR-1 Sneakers For Men</td>\n",
       "      <td>₹749</td>\n",
       "      <td>67% off</td>\n",
       "    </tr>\n",
       "    <tr>\n",
       "      <th>24</th>\n",
       "      <td>PUMA</td>\n",
       "      <td>Sneakers For Men</td>\n",
       "      <td>₹1,749</td>\n",
       "      <td>41% off</td>\n",
       "    </tr>\n",
       "    <tr>\n",
       "      <th>25</th>\n",
       "      <td>Robbie jones</td>\n",
       "      <td>Sneakers For Men</td>\n",
       "      <td>₹424</td>\n",
       "      <td>57% off</td>\n",
       "    </tr>\n",
       "    <tr>\n",
       "      <th>26</th>\n",
       "      <td>DUCATI</td>\n",
       "      <td>Sneakers For Men</td>\n",
       "      <td>₹1,239</td>\n",
       "      <td>62% off</td>\n",
       "    </tr>\n",
       "    <tr>\n",
       "      <th>27</th>\n",
       "      <td>REEBOK CLASSICS</td>\n",
       "      <td>Fashion Outdoor Canvas Casual Light Weight Lac...</td>\n",
       "      <td>₹3,547</td>\n",
       "      <td>40% off</td>\n",
       "    </tr>\n",
       "    <tr>\n",
       "      <th>28</th>\n",
       "      <td>Trendmode</td>\n",
       "      <td>Sneakers For Men</td>\n",
       "      <td>₹300</td>\n",
       "      <td>57% off</td>\n",
       "    </tr>\n",
       "    <tr>\n",
       "      <th>29</th>\n",
       "      <td>HOTSTYLE</td>\n",
       "      <td>RC1975 022 Corporate Casuals For Men</td>\n",
       "      <td>₹199</td>\n",
       "      <td>60% off</td>\n",
       "    </tr>\n",
       "    <tr>\n",
       "      <th>30</th>\n",
       "      <td>KNIGHT WALKERS</td>\n",
       "      <td>Shoes in Black Color Party wear/Outdoor/Casual...</td>\n",
       "      <td>₹598</td>\n",
       "      <td>60% off</td>\n",
       "    </tr>\n",
       "    <tr>\n",
       "      <th>31</th>\n",
       "      <td>DUCATI</td>\n",
       "      <td>Sneakers For Men</td>\n",
       "      <td>₹1,329</td>\n",
       "      <td>69% off</td>\n",
       "    </tr>\n",
       "    <tr>\n",
       "      <th>32</th>\n",
       "      <td>Magnolia</td>\n",
       "      <td>Khalifa/Walking/Outdoor/Sneakers Sneakers For Men</td>\n",
       "      <td>₹374</td>\n",
       "      <td>62% off</td>\n",
       "    </tr>\n",
       "  </tbody>\n",
       "</table>\n",
       "</div>"
      ],
      "text/plain": [
       "               Brand_name                                  Brand_Description  \\\n",
       "0                    PUMA               BMW MMS X-Ray Speed Sneakers For Men   \n",
       "1                  Gentax  Unique & Perfect Collection Combo Pack of 02 S...   \n",
       "2                  Chevit  Comfortable Outdoors/Gym&Workout/Running Shoes...   \n",
       "3                Brucharm  Casual , Partywear Sneakers Shoes For Men's An...   \n",
       "4              D-SNEAKERZ                            SM-671 Sneakers For Men   \n",
       "5                   SPARX  Men Casual Shoe New Trend With Fashion Panda D...   \n",
       "6                 LuvShus                                   Sneakers For Men   \n",
       "7                Red Rose                Summits - Brisbane Sneakers For Men   \n",
       "8                Skechers                                   Sneakers For Men   \n",
       "9            Robbie jones                                   Sneakers For Men   \n",
       "10                  AMICO                                   Sneakers For Men   \n",
       "11  HRX by Hrithik Roshan                                   Sneakers For Men   \n",
       "12               HOTSTYLE  white Casual shoes,Sneakers for men's Sneakers...   \n",
       "13                  Xtoon  Comfortable & Ultra Light Weight Sneaker Sneak...   \n",
       "14               LE GREEM                                   Sneakers For Men   \n",
       "15               PROVOGUE                                   Sneakers For Men   \n",
       "16               Navtrend                     GEL-NANDI 360 Sneakers For Men   \n",
       "17                  Arohi  Combo Pack Of 2 Latest Stylish Casual Shoes fo...   \n",
       "18           Robbie jones                                   Sneakers For Men   \n",
       "19                  asics  Casual Sneakers White Shoes For Men Sneakers F...   \n",
       "20       Absolute comfort                                   Sneakers For Men   \n",
       "21                 BRUTON                           CL LTHR Sneakers For Men   \n",
       "22                 T-ROCK                                   Sneakers For Men   \n",
       "23              SLAZENGER                              CR-1 Sneakers For Men   \n",
       "24                   PUMA                                   Sneakers For Men   \n",
       "25           Robbie jones                                   Sneakers For Men   \n",
       "26                 DUCATI                                   Sneakers For Men   \n",
       "27        REEBOK CLASSICS  Fashion Outdoor Canvas Casual Light Weight Lac...   \n",
       "28              Trendmode                                   Sneakers For Men   \n",
       "29               HOTSTYLE               RC1975 022 Corporate Casuals For Men   \n",
       "30         KNIGHT WALKERS  Shoes in Black Color Party wear/Outdoor/Casual...   \n",
       "31                 DUCATI                                   Sneakers For Men   \n",
       "32               Magnolia  Khalifa/Walking/Outdoor/Sneakers Sneakers For Men   \n",
       "\n",
       "   Brand_Price Brand_Discount  \n",
       "0       ₹4,149        40% off  \n",
       "1         ₹248        75% off  \n",
       "2         ₹374        75% off  \n",
       "3         ₹840        53% off  \n",
       "4         ₹334        66% off  \n",
       "5         ₹939        14% off  \n",
       "6         ₹354        64% off  \n",
       "7         ₹449        55% off  \n",
       "8       ₹2,078        51% off  \n",
       "9         ₹424        57% off  \n",
       "10        ₹499        50% off  \n",
       "11      ₹1,549        61% off  \n",
       "12        ₹195        80% off  \n",
       "13        ₹448        55% off  \n",
       "14        ₹399        60% off  \n",
       "15        ₹709        62% off  \n",
       "16        ₹548        81% off  \n",
       "17        ₹379        62% off  \n",
       "18        ₹424        57% off  \n",
       "19      ₹4,801        56% off  \n",
       "20        ₹159        68% off  \n",
       "21        ₹449        82% off  \n",
       "22        ₹249        75% off  \n",
       "23        ₹749        67% off  \n",
       "24      ₹1,749        41% off  \n",
       "25        ₹424        57% off  \n",
       "26      ₹1,239        62% off  \n",
       "27      ₹3,547        40% off  \n",
       "28        ₹300        57% off  \n",
       "29        ₹199        60% off  \n",
       "30        ₹598        60% off  \n",
       "31      ₹1,329        69% off  \n",
       "32        ₹374        62% off  "
      ]
     },
     "execution_count": 445,
     "metadata": {},
     "output_type": "execute_result"
    }
   ],
   "source": [
    "sneakers_3=pd.DataFrame()\n",
    "sneakers_3['Brand_name']=brand[0:33]\n",
    "sneakers_3['Brand_Description']=descp\n",
    "sneakers_3['Brand_Price']=price[0:33]\n",
    "sneakers_3['Brand_Discount']=discount[0:33]\n",
    "sneakers_3"
   ]
  },
  {
   "cell_type": "code",
   "execution_count": 449,
   "metadata": {},
   "outputs": [
    {
     "data": {
      "text/html": [
       "<div>\n",
       "<style scoped>\n",
       "    .dataframe tbody tr th:only-of-type {\n",
       "        vertical-align: middle;\n",
       "    }\n",
       "\n",
       "    .dataframe tbody tr th {\n",
       "        vertical-align: top;\n",
       "    }\n",
       "\n",
       "    .dataframe thead th {\n",
       "        text-align: right;\n",
       "    }\n",
       "</style>\n",
       "<table border=\"1\" class=\"dataframe\">\n",
       "  <thead>\n",
       "    <tr style=\"text-align: right;\">\n",
       "      <th></th>\n",
       "      <th>Brand_name</th>\n",
       "      <th>Brand_Description</th>\n",
       "      <th>Brand_Price</th>\n",
       "      <th>Brand_Discount</th>\n",
       "    </tr>\n",
       "  </thead>\n",
       "  <tbody>\n",
       "    <tr>\n",
       "      <th>0</th>\n",
       "      <td>Roadster</td>\n",
       "      <td>Men Blue Solid Sneakers Sneakers For Men</td>\n",
       "      <td>₹1,139</td>\n",
       "      <td>59% off</td>\n",
       "    </tr>\n",
       "    <tr>\n",
       "      <th>1</th>\n",
       "      <td>Smoky</td>\n",
       "      <td>Trendy Sneakers For Men</td>\n",
       "      <td>₹499</td>\n",
       "      <td>58% off</td>\n",
       "    </tr>\n",
       "    <tr>\n",
       "      <th>2</th>\n",
       "      <td>URBANBOX</td>\n",
       "      <td>Super Stylish &amp; Trendy Combo Pack of 02 Pairs ...</td>\n",
       "      <td>₹197</td>\n",
       "      <td>80% off</td>\n",
       "    </tr>\n",
       "    <tr>\n",
       "      <th>3</th>\n",
       "      <td>Chevit</td>\n",
       "      <td>Kwik FIT casual sneaker shoes and partywear sh...</td>\n",
       "      <td>₹469</td>\n",
       "      <td>70% off</td>\n",
       "    </tr>\n",
       "    <tr>\n",
       "      <th>4</th>\n",
       "      <td>KWIK FIT</td>\n",
       "      <td>casual sneaker shoes for men luxury fashion ca...</td>\n",
       "      <td>₹347</td>\n",
       "      <td>82% off</td>\n",
       "    </tr>\n",
       "    <tr>\n",
       "      <th>...</th>\n",
       "      <td>...</td>\n",
       "      <td>...</td>\n",
       "      <td>...</td>\n",
       "      <td>...</td>\n",
       "    </tr>\n",
       "    <tr>\n",
       "      <th>28</th>\n",
       "      <td>Trendmode</td>\n",
       "      <td>Sneakers For Men</td>\n",
       "      <td>₹300</td>\n",
       "      <td>57% off</td>\n",
       "    </tr>\n",
       "    <tr>\n",
       "      <th>29</th>\n",
       "      <td>HOTSTYLE</td>\n",
       "      <td>RC1975 022 Corporate Casuals For Men</td>\n",
       "      <td>₹199</td>\n",
       "      <td>60% off</td>\n",
       "    </tr>\n",
       "    <tr>\n",
       "      <th>30</th>\n",
       "      <td>KNIGHT WALKERS</td>\n",
       "      <td>Shoes in Black Color Party wear/Outdoor/Casual...</td>\n",
       "      <td>₹598</td>\n",
       "      <td>60% off</td>\n",
       "    </tr>\n",
       "    <tr>\n",
       "      <th>31</th>\n",
       "      <td>DUCATI</td>\n",
       "      <td>Sneakers For Men</td>\n",
       "      <td>₹1,329</td>\n",
       "      <td>69% off</td>\n",
       "    </tr>\n",
       "    <tr>\n",
       "      <th>32</th>\n",
       "      <td>Magnolia</td>\n",
       "      <td>Khalifa/Walking/Outdoor/Sneakers Sneakers For Men</td>\n",
       "      <td>₹374</td>\n",
       "      <td>62% off</td>\n",
       "    </tr>\n",
       "  </tbody>\n",
       "</table>\n",
       "<p>98 rows × 4 columns</p>\n",
       "</div>"
      ],
      "text/plain": [
       "        Brand_name                                  Brand_Description  \\\n",
       "0         Roadster           Men Blue Solid Sneakers Sneakers For Men   \n",
       "1            Smoky                            Trendy Sneakers For Men   \n",
       "2         URBANBOX  Super Stylish & Trendy Combo Pack of 02 Pairs ...   \n",
       "3           Chevit  Kwik FIT casual sneaker shoes and partywear sh...   \n",
       "4         KWIK FIT  casual sneaker shoes for men luxury fashion ca...   \n",
       "..             ...                                                ...   \n",
       "28       Trendmode                                   Sneakers For Men   \n",
       "29        HOTSTYLE               RC1975 022 Corporate Casuals For Men   \n",
       "30  KNIGHT WALKERS  Shoes in Black Color Party wear/Outdoor/Casual...   \n",
       "31          DUCATI                                   Sneakers For Men   \n",
       "32        Magnolia  Khalifa/Walking/Outdoor/Sneakers Sneakers For Men   \n",
       "\n",
       "   Brand_Price Brand_Discount  \n",
       "0       ₹1,139        59% off  \n",
       "1         ₹499        58% off  \n",
       "2         ₹197        80% off  \n",
       "3         ₹469        70% off  \n",
       "4         ₹347        82% off  \n",
       "..         ...            ...  \n",
       "28        ₹300        57% off  \n",
       "29        ₹199        60% off  \n",
       "30        ₹598        60% off  \n",
       "31      ₹1,329        69% off  \n",
       "32        ₹374        62% off  \n",
       "\n",
       "[98 rows x 4 columns]"
      ]
     },
     "execution_count": 449,
     "metadata": {},
     "output_type": "execute_result"
    }
   ],
   "source": []
  },
  {
   "cell_type": "code",
   "execution_count": 457,
   "metadata": {},
   "outputs": [],
   "source": [
    "next_pg=driver.find_element_by_xpath(\"/html/body/div[1]/div/div[3]/div[1]/div[2]/div[12]/div/div/nav/a[5]\")\n",
    "next_pg.click()"
   ]
  },
  {
   "cell_type": "code",
   "execution_count": 458,
   "metadata": {},
   "outputs": [
    {
     "data": {
      "text/plain": [
       "40"
      ]
     },
     "execution_count": 458,
     "metadata": {},
     "output_type": "execute_result"
    }
   ],
   "source": [
    "##extracting brand name \n",
    "brand_name=driver.find_elements_by_xpath(\"//div[@class='_2WkVRV']\")\n",
    "len(brand_name)"
   ]
  },
  {
   "cell_type": "code",
   "execution_count": 460,
   "metadata": {
    "scrolled": true
   },
   "outputs": [
    {
     "data": {
      "text/plain": [
       "[<selenium.webdriver.remote.webelement.WebElement (session=\"73ba1df09adbe58ada8d4ca8bd7738e5\", element=\"2e159091-63f3-41b1-9cf1-5825a0d41796\")>,\n",
       " <selenium.webdriver.remote.webelement.WebElement (session=\"73ba1df09adbe58ada8d4ca8bd7738e5\", element=\"b4589bfa-89bf-4fed-ba70-7dcbc0447058\")>,\n",
       " <selenium.webdriver.remote.webelement.WebElement (session=\"73ba1df09adbe58ada8d4ca8bd7738e5\", element=\"157842ad-8624-4ae8-85cb-e6062f914668\")>,\n",
       " <selenium.webdriver.remote.webelement.WebElement (session=\"73ba1df09adbe58ada8d4ca8bd7738e5\", element=\"0c5923f9-e8f7-41bb-8df6-6c2fcdfe1962\")>,\n",
       " <selenium.webdriver.remote.webelement.WebElement (session=\"73ba1df09adbe58ada8d4ca8bd7738e5\", element=\"ed42a05c-be1d-420c-8417-e1407c6ae7ce\")>,\n",
       " <selenium.webdriver.remote.webelement.WebElement (session=\"73ba1df09adbe58ada8d4ca8bd7738e5\", element=\"a307de74-cd82-4387-b6ee-ced9ab618f39\")>,\n",
       " <selenium.webdriver.remote.webelement.WebElement (session=\"73ba1df09adbe58ada8d4ca8bd7738e5\", element=\"c067c52d-286f-40fe-8fc5-148ea809a8a8\")>,\n",
       " <selenium.webdriver.remote.webelement.WebElement (session=\"73ba1df09adbe58ada8d4ca8bd7738e5\", element=\"8cfbd1d0-3f12-468a-8647-15c0f6a2261c\")>,\n",
       " <selenium.webdriver.remote.webelement.WebElement (session=\"73ba1df09adbe58ada8d4ca8bd7738e5\", element=\"9b0b0f06-444a-4bde-8fc8-2205d3d9b5c0\")>,\n",
       " <selenium.webdriver.remote.webelement.WebElement (session=\"73ba1df09adbe58ada8d4ca8bd7738e5\", element=\"01cf8e26-b059-401c-ae1b-58a64b9cec02\")>,\n",
       " <selenium.webdriver.remote.webelement.WebElement (session=\"73ba1df09adbe58ada8d4ca8bd7738e5\", element=\"d495c82a-9f1d-4f92-8fa0-ee15f0e71ef4\")>,\n",
       " <selenium.webdriver.remote.webelement.WebElement (session=\"73ba1df09adbe58ada8d4ca8bd7738e5\", element=\"480f94dd-0e77-4022-8bdd-e428a842242f\")>,\n",
       " <selenium.webdriver.remote.webelement.WebElement (session=\"73ba1df09adbe58ada8d4ca8bd7738e5\", element=\"6de6df06-db6c-46bf-b665-c97c118e4036\")>,\n",
       " <selenium.webdriver.remote.webelement.WebElement (session=\"73ba1df09adbe58ada8d4ca8bd7738e5\", element=\"341d7e0d-fea2-430a-b8cd-aa9465b43d05\")>,\n",
       " <selenium.webdriver.remote.webelement.WebElement (session=\"73ba1df09adbe58ada8d4ca8bd7738e5\", element=\"79e0ca80-114c-490b-b52e-edc7f07b1ba5\")>,\n",
       " <selenium.webdriver.remote.webelement.WebElement (session=\"73ba1df09adbe58ada8d4ca8bd7738e5\", element=\"13eff19c-8a16-4260-9c2e-acdd8ef3a719\")>,\n",
       " <selenium.webdriver.remote.webelement.WebElement (session=\"73ba1df09adbe58ada8d4ca8bd7738e5\", element=\"53e26fda-095a-4570-81b9-f56da92c98fd\")>,\n",
       " <selenium.webdriver.remote.webelement.WebElement (session=\"73ba1df09adbe58ada8d4ca8bd7738e5\", element=\"6d4ca743-ce3e-4bf5-84d7-f89ed1009288\")>,\n",
       " <selenium.webdriver.remote.webelement.WebElement (session=\"73ba1df09adbe58ada8d4ca8bd7738e5\", element=\"e1924c4b-e7bc-4db0-b9cc-a1ea55a14265\")>,\n",
       " <selenium.webdriver.remote.webelement.WebElement (session=\"73ba1df09adbe58ada8d4ca8bd7738e5\", element=\"5b3f849c-842b-44ca-812b-431ec4f99f6a\")>,\n",
       " <selenium.webdriver.remote.webelement.WebElement (session=\"73ba1df09adbe58ada8d4ca8bd7738e5\", element=\"79fe01e0-affe-4313-941e-a7da113ec12a\")>,\n",
       " <selenium.webdriver.remote.webelement.WebElement (session=\"73ba1df09adbe58ada8d4ca8bd7738e5\", element=\"2c52ae53-77f2-41e5-a10b-c6c7f2777c2b\")>,\n",
       " <selenium.webdriver.remote.webelement.WebElement (session=\"73ba1df09adbe58ada8d4ca8bd7738e5\", element=\"d5f55805-2e1f-4025-b030-eefccb32a44f\")>,\n",
       " <selenium.webdriver.remote.webelement.WebElement (session=\"73ba1df09adbe58ada8d4ca8bd7738e5\", element=\"286d7b69-5240-4510-a52e-c39e84cd2c05\")>,\n",
       " <selenium.webdriver.remote.webelement.WebElement (session=\"73ba1df09adbe58ada8d4ca8bd7738e5\", element=\"615b7c0f-6637-4eb3-a3d5-6b8184128bca\")>,\n",
       " <selenium.webdriver.remote.webelement.WebElement (session=\"73ba1df09adbe58ada8d4ca8bd7738e5\", element=\"091f5639-0f84-49c9-8d63-0d7262a7798f\")>,\n",
       " <selenium.webdriver.remote.webelement.WebElement (session=\"73ba1df09adbe58ada8d4ca8bd7738e5\", element=\"2da17869-8bb9-4b70-90be-656fa4d71542\")>,\n",
       " <selenium.webdriver.remote.webelement.WebElement (session=\"73ba1df09adbe58ada8d4ca8bd7738e5\", element=\"f77ad9e8-42f1-4562-8b5a-d523203759db\")>,\n",
       " <selenium.webdriver.remote.webelement.WebElement (session=\"73ba1df09adbe58ada8d4ca8bd7738e5\", element=\"19e72138-84a6-4b51-a962-67fd6ab88f69\")>,\n",
       " <selenium.webdriver.remote.webelement.WebElement (session=\"73ba1df09adbe58ada8d4ca8bd7738e5\", element=\"9d282228-4ac3-46f0-9a85-6beaebf42a6c\")>,\n",
       " <selenium.webdriver.remote.webelement.WebElement (session=\"73ba1df09adbe58ada8d4ca8bd7738e5\", element=\"9a09f6b8-bb49-42cf-9cb9-1cadcca5314a\")>,\n",
       " <selenium.webdriver.remote.webelement.WebElement (session=\"73ba1df09adbe58ada8d4ca8bd7738e5\", element=\"838c0c86-97f1-476d-a821-1ecfb5140fc6\")>,\n",
       " <selenium.webdriver.remote.webelement.WebElement (session=\"73ba1df09adbe58ada8d4ca8bd7738e5\", element=\"ad71c110-be51-4f33-b309-4749c0aa7689\")>,\n",
       " <selenium.webdriver.remote.webelement.WebElement (session=\"73ba1df09adbe58ada8d4ca8bd7738e5\", element=\"1124c650-0e91-4445-a929-3355dd588a13\")>,\n",
       " <selenium.webdriver.remote.webelement.WebElement (session=\"73ba1df09adbe58ada8d4ca8bd7738e5\", element=\"82f11f8c-b646-4844-a76d-7d5d7354c21e\")>,\n",
       " <selenium.webdriver.remote.webelement.WebElement (session=\"73ba1df09adbe58ada8d4ca8bd7738e5\", element=\"e44680a2-860a-428f-81f7-841750ce8830\")>,\n",
       " <selenium.webdriver.remote.webelement.WebElement (session=\"73ba1df09adbe58ada8d4ca8bd7738e5\", element=\"63929d94-2e76-498d-8b95-9d3f935c7e37\")>,\n",
       " <selenium.webdriver.remote.webelement.WebElement (session=\"73ba1df09adbe58ada8d4ca8bd7738e5\", element=\"f0289f4e-e7af-4b2e-bab2-7658740a21c3\")>,\n",
       " <selenium.webdriver.remote.webelement.WebElement (session=\"73ba1df09adbe58ada8d4ca8bd7738e5\", element=\"494eeced-4773-4051-b6cb-4b1aa0f7ef9e\")>,\n",
       " <selenium.webdriver.remote.webelement.WebElement (session=\"73ba1df09adbe58ada8d4ca8bd7738e5\", element=\"83410579-538e-4dd9-ba4e-37f311dfc948\")>]"
      ]
     },
     "execution_count": 460,
     "metadata": {},
     "output_type": "execute_result"
    }
   ],
   "source": [
    "brand_name"
   ]
  },
  {
   "cell_type": "code",
   "execution_count": 462,
   "metadata": {
    "scrolled": true
   },
   "outputs": [
    {
     "data": {
      "text/plain": [
       "['Airland',\n",
       " 'CLYMB',\n",
       " 'Gentax',\n",
       " 'EMPTILE',\n",
       " 'EMPTILE',\n",
       " 'ZF - ALFIYA',\n",
       " 'PUMA',\n",
       " 'Ardeo',\n",
       " 'Chevit',\n",
       " 'AMICO',\n",
       " 'HIGHLANDER',\n",
       " 'Strollin',\n",
       " 'CLYMB',\n",
       " 'aadi',\n",
       " 'World Wear Footwear',\n",
       " 'Ardeo',\n",
       " 'Rzisbo',\n",
       " 'Chevit',\n",
       " 'Noztile',\n",
       " 'Ardeo',\n",
       " 'RED TAPE',\n",
       " 'World Wear Footwear',\n",
       " 'T-ROCK',\n",
       " 'RapidBox',\n",
       " 'India hub',\n",
       " 'WHITE WALKERS',\n",
       " 'Extoes',\n",
       " 'Navtrend',\n",
       " 'India hub',\n",
       " 'RODDICK SHOES',\n",
       " 'DUCATI',\n",
       " 'Numenzo',\n",
       " 'Robbie jones',\n",
       " 'WHITE WALKERS',\n",
       " 'luxury fashion',\n",
       " 'Nilatin',\n",
       " 'Kraasa',\n",
       " 'PUMA',\n",
       " 'ASIAN',\n",
       " 'Numenzo']"
      ]
     },
     "execution_count": 462,
     "metadata": {},
     "output_type": "execute_result"
    }
   ],
   "source": [
    "brand=[]\n",
    "for i in brand_name:\n",
    "    brand.append(i.text)\n",
    "len(brand)  \n",
    "brand"
   ]
  },
  {
   "cell_type": "code",
   "execution_count": 463,
   "metadata": {},
   "outputs": [
    {
     "data": {
      "text/plain": [
       "31"
      ]
     },
     "execution_count": 463,
     "metadata": {},
     "output_type": "execute_result"
    }
   ],
   "source": [
    "#### extracting product description \n",
    "brand_descp=driver.find_elements_by_xpath((\"//a[@class='IRpwTa']\"))\n",
    "len(brand_descp)"
   ]
  },
  {
   "cell_type": "code",
   "execution_count": 465,
   "metadata": {
    "scrolled": true
   },
   "outputs": [
    {
     "data": {
      "text/plain": [
       "[<selenium.webdriver.remote.webelement.WebElement (session=\"73ba1df09adbe58ada8d4ca8bd7738e5\", element=\"8c45d989-7ca9-46f9-a015-1c913fba8d75\")>,\n",
       " <selenium.webdriver.remote.webelement.WebElement (session=\"73ba1df09adbe58ada8d4ca8bd7738e5\", element=\"615f082e-c34c-42b3-a4cf-1e9027dc31bb\")>,\n",
       " <selenium.webdriver.remote.webelement.WebElement (session=\"73ba1df09adbe58ada8d4ca8bd7738e5\", element=\"f64d9672-79f3-4be2-8596-1f9c90859078\")>,\n",
       " <selenium.webdriver.remote.webelement.WebElement (session=\"73ba1df09adbe58ada8d4ca8bd7738e5\", element=\"f92cd38a-d15e-4729-88ce-a4aa966d2883\")>,\n",
       " <selenium.webdriver.remote.webelement.WebElement (session=\"73ba1df09adbe58ada8d4ca8bd7738e5\", element=\"bee22491-fcce-44f1-894c-86381d7b1387\")>,\n",
       " <selenium.webdriver.remote.webelement.WebElement (session=\"73ba1df09adbe58ada8d4ca8bd7738e5\", element=\"dbc2e9e3-cab1-4f64-b840-4cd243fa695c\")>,\n",
       " <selenium.webdriver.remote.webelement.WebElement (session=\"73ba1df09adbe58ada8d4ca8bd7738e5\", element=\"6ab0c984-7d73-4f7e-9ca8-623310d4c108\")>,\n",
       " <selenium.webdriver.remote.webelement.WebElement (session=\"73ba1df09adbe58ada8d4ca8bd7738e5\", element=\"69d5201e-a15b-4409-9720-47378fa4a675\")>,\n",
       " <selenium.webdriver.remote.webelement.WebElement (session=\"73ba1df09adbe58ada8d4ca8bd7738e5\", element=\"53ceebf6-b191-4d8b-94e6-fd82e0ccb7d1\")>,\n",
       " <selenium.webdriver.remote.webelement.WebElement (session=\"73ba1df09adbe58ada8d4ca8bd7738e5\", element=\"2d50a78a-6210-4832-910c-2c067c99226f\")>,\n",
       " <selenium.webdriver.remote.webelement.WebElement (session=\"73ba1df09adbe58ada8d4ca8bd7738e5\", element=\"33a2cafd-9046-424b-b255-d9b546fe38ac\")>,\n",
       " <selenium.webdriver.remote.webelement.WebElement (session=\"73ba1df09adbe58ada8d4ca8bd7738e5\", element=\"0a9b7a48-9b97-45e5-983f-a72ee8a3540c\")>,\n",
       " <selenium.webdriver.remote.webelement.WebElement (session=\"73ba1df09adbe58ada8d4ca8bd7738e5\", element=\"a4b12efe-48a4-4306-ba17-585d45e0db4e\")>,\n",
       " <selenium.webdriver.remote.webelement.WebElement (session=\"73ba1df09adbe58ada8d4ca8bd7738e5\", element=\"34e078a7-571c-4867-b6eb-ab62f5ce6008\")>,\n",
       " <selenium.webdriver.remote.webelement.WebElement (session=\"73ba1df09adbe58ada8d4ca8bd7738e5\", element=\"680fda62-15a1-42b8-958d-b91c30b22aa2\")>,\n",
       " <selenium.webdriver.remote.webelement.WebElement (session=\"73ba1df09adbe58ada8d4ca8bd7738e5\", element=\"501287e1-7706-4894-838e-8a4065cbd672\")>,\n",
       " <selenium.webdriver.remote.webelement.WebElement (session=\"73ba1df09adbe58ada8d4ca8bd7738e5\", element=\"a136f423-4127-4bab-abbe-8acdd0506543\")>,\n",
       " <selenium.webdriver.remote.webelement.WebElement (session=\"73ba1df09adbe58ada8d4ca8bd7738e5\", element=\"1bcda0e5-fd98-483e-8863-0a70adde5d91\")>,\n",
       " <selenium.webdriver.remote.webelement.WebElement (session=\"73ba1df09adbe58ada8d4ca8bd7738e5\", element=\"7063a7eb-e2f4-4185-b86b-0d74aa789702\")>,\n",
       " <selenium.webdriver.remote.webelement.WebElement (session=\"73ba1df09adbe58ada8d4ca8bd7738e5\", element=\"576763f2-f866-4db9-80c3-01cf63da11a5\")>,\n",
       " <selenium.webdriver.remote.webelement.WebElement (session=\"73ba1df09adbe58ada8d4ca8bd7738e5\", element=\"8f3fa446-3945-494f-93fa-7645570123fd\")>,\n",
       " <selenium.webdriver.remote.webelement.WebElement (session=\"73ba1df09adbe58ada8d4ca8bd7738e5\", element=\"e5ac2bc9-695e-4820-97c6-b5e85b41b1bc\")>,\n",
       " <selenium.webdriver.remote.webelement.WebElement (session=\"73ba1df09adbe58ada8d4ca8bd7738e5\", element=\"5d4359b0-a48a-4520-af1d-d11d8fdb2801\")>,\n",
       " <selenium.webdriver.remote.webelement.WebElement (session=\"73ba1df09adbe58ada8d4ca8bd7738e5\", element=\"c64061b6-34cc-4d39-a034-a5c28808d78d\")>,\n",
       " <selenium.webdriver.remote.webelement.WebElement (session=\"73ba1df09adbe58ada8d4ca8bd7738e5\", element=\"bdd6000a-fa42-4ac3-ac42-6ac7eb2c2bdb\")>,\n",
       " <selenium.webdriver.remote.webelement.WebElement (session=\"73ba1df09adbe58ada8d4ca8bd7738e5\", element=\"0bca4212-0ab7-451e-a77c-a204093dec16\")>,\n",
       " <selenium.webdriver.remote.webelement.WebElement (session=\"73ba1df09adbe58ada8d4ca8bd7738e5\", element=\"d28e78db-0cc6-406b-b4ae-22da87bbeff3\")>,\n",
       " <selenium.webdriver.remote.webelement.WebElement (session=\"73ba1df09adbe58ada8d4ca8bd7738e5\", element=\"101d4ca5-2f83-406a-bdf1-7823386ae39c\")>,\n",
       " <selenium.webdriver.remote.webelement.WebElement (session=\"73ba1df09adbe58ada8d4ca8bd7738e5\", element=\"fa318381-72c4-49fb-88e7-2b4af770893f\")>,\n",
       " <selenium.webdriver.remote.webelement.WebElement (session=\"73ba1df09adbe58ada8d4ca8bd7738e5\", element=\"a2c77453-c24b-468f-816e-ad55d52ed176\")>,\n",
       " <selenium.webdriver.remote.webelement.WebElement (session=\"73ba1df09adbe58ada8d4ca8bd7738e5\", element=\"0508be55-ca5d-4769-8628-b13af4e7c17a\")>]"
      ]
     },
     "execution_count": 465,
     "metadata": {},
     "output_type": "execute_result"
    }
   ],
   "source": [
    "brand_descp"
   ]
  },
  {
   "cell_type": "code",
   "execution_count": 466,
   "metadata": {
    "scrolled": true
   },
   "outputs": [
    {
     "data": {
      "text/plain": [
       "['Sneakers For Men',\n",
       " 'Khalifa/Walking/Outdoor/Sneakers Sneakers For Men',\n",
       " \"Trendy white casual for men's and boys Sneakers For Men\",\n",
       " 'all white heartbeat casual shoe Sneakers For Men',\n",
       " 'Sneakers For Men',\n",
       " 'Puma Smash v2 L Sneakers For Men',\n",
       " \"Men's Combo Pack of 02 Shoes for Men Casual Sneakers Ou...\",\n",
       " 'Sneakers For Men',\n",
       " 'Sneakers For Men',\n",
       " 'Sneakers For Men',\n",
       " 'Sports/Running/Training/Gym Sneakers For Men',\n",
       " 'Sneakers For Men',\n",
       " 'Latest Collection Black-349 Trendy & Stylish Casual Sne...',\n",
       " 'Sneakers For Men',\n",
       " 'CH-527 Trendy Star Perfect Casuals Sneakers For Men',\n",
       " 'Sneakers For Men',\n",
       " 'Exclusive Affordable Collection of Trendy & Stylish Cas...',\n",
       " 'Stylish White Casual Sneakers shoes Men and Boys Sneake...',\n",
       " 'Stylish & Trending Outdoor Walking Comfortable Sneakers...',\n",
       " 'Sneakers For Men',\n",
       " 'luxury fashionable casual sneaker shoes Sneakers For Me...',\n",
       " 'Fashion Outdoor Canvas Casual Light Weight Lace-up Even...',\n",
       " 'Sneakers For Men',\n",
       " 'Sneakers For Men',\n",
       " 'Sneakers For Men',\n",
       " 'Stylish & Trending Outdoor Walking Comfortable Sneakers...',\n",
       " 'Fashionable sneaker shoes Sneakers For Men',\n",
       " 'Sneakers For Men',\n",
       " 'Puma Smash v2 L Sneakers For Men',\n",
       " 'Skypy-31 Walking Shoes,Training Shoes,Sneakers,Loafers,...',\n",
       " 'Sneakers For Men']"
      ]
     },
     "execution_count": 466,
     "metadata": {},
     "output_type": "execute_result"
    }
   ],
   "source": [
    "descp=[]\n",
    "for i in brand_descp:\n",
    "   descp.append(i.text)\n",
    "len(descp)  \n",
    "descp"
   ]
  },
  {
   "cell_type": "code",
   "execution_count": 467,
   "metadata": {},
   "outputs": [
    {
     "data": {
      "text/plain": [
       "40"
      ]
     },
     "execution_count": 467,
     "metadata": {},
     "output_type": "execute_result"
    }
   ],
   "source": [
    "#### extracting product price\n",
    "brand_price=driver.find_elements_by_xpath(\"//div[@class='_30jeq3']\")\n",
    "len(brand_price)"
   ]
  },
  {
   "cell_type": "code",
   "execution_count": 468,
   "metadata": {
    "scrolled": true
   },
   "outputs": [
    {
     "data": {
      "text/plain": [
       "[<selenium.webdriver.remote.webelement.WebElement (session=\"73ba1df09adbe58ada8d4ca8bd7738e5\", element=\"3fedec63-8e9a-4d99-88db-8310ba1c3ab5\")>,\n",
       " <selenium.webdriver.remote.webelement.WebElement (session=\"73ba1df09adbe58ada8d4ca8bd7738e5\", element=\"06680200-ac68-42d3-9a5f-7ec1be92c4d7\")>,\n",
       " <selenium.webdriver.remote.webelement.WebElement (session=\"73ba1df09adbe58ada8d4ca8bd7738e5\", element=\"3ddabb7c-f716-4ac2-8886-cd8f7f5314c9\")>,\n",
       " <selenium.webdriver.remote.webelement.WebElement (session=\"73ba1df09adbe58ada8d4ca8bd7738e5\", element=\"54e53267-a010-4914-8e65-9bd6d6e1f170\")>,\n",
       " <selenium.webdriver.remote.webelement.WebElement (session=\"73ba1df09adbe58ada8d4ca8bd7738e5\", element=\"e0671cf5-cf70-423d-9461-470aadfe54f2\")>,\n",
       " <selenium.webdriver.remote.webelement.WebElement (session=\"73ba1df09adbe58ada8d4ca8bd7738e5\", element=\"a72b773f-4e34-40eb-8c32-1f403dfa1018\")>,\n",
       " <selenium.webdriver.remote.webelement.WebElement (session=\"73ba1df09adbe58ada8d4ca8bd7738e5\", element=\"71646d54-ccc2-4c3f-9ab3-71af823e0ed2\")>,\n",
       " <selenium.webdriver.remote.webelement.WebElement (session=\"73ba1df09adbe58ada8d4ca8bd7738e5\", element=\"5ae14d37-6d09-45ef-b47a-04e2c56fa94a\")>,\n",
       " <selenium.webdriver.remote.webelement.WebElement (session=\"73ba1df09adbe58ada8d4ca8bd7738e5\", element=\"b9dd4828-6bed-4f98-bbe1-82a649973c2c\")>,\n",
       " <selenium.webdriver.remote.webelement.WebElement (session=\"73ba1df09adbe58ada8d4ca8bd7738e5\", element=\"ebdde3a8-5152-470c-b3c7-24cb4f24b141\")>,\n",
       " <selenium.webdriver.remote.webelement.WebElement (session=\"73ba1df09adbe58ada8d4ca8bd7738e5\", element=\"bf4dc625-e121-4219-968a-e21ba717f480\")>,\n",
       " <selenium.webdriver.remote.webelement.WebElement (session=\"73ba1df09adbe58ada8d4ca8bd7738e5\", element=\"37cda35e-e601-4dca-89da-a3f86dc3de62\")>,\n",
       " <selenium.webdriver.remote.webelement.WebElement (session=\"73ba1df09adbe58ada8d4ca8bd7738e5\", element=\"ee6b4cdb-1b99-4c24-91bb-4a2c827eab51\")>,\n",
       " <selenium.webdriver.remote.webelement.WebElement (session=\"73ba1df09adbe58ada8d4ca8bd7738e5\", element=\"d396c9a2-2c6b-462c-84fb-813d30ee10e4\")>,\n",
       " <selenium.webdriver.remote.webelement.WebElement (session=\"73ba1df09adbe58ada8d4ca8bd7738e5\", element=\"dd040319-1dca-4528-8885-2a7344964977\")>,\n",
       " <selenium.webdriver.remote.webelement.WebElement (session=\"73ba1df09adbe58ada8d4ca8bd7738e5\", element=\"b9ab12e2-41b4-4287-8a63-1171ab38e005\")>,\n",
       " <selenium.webdriver.remote.webelement.WebElement (session=\"73ba1df09adbe58ada8d4ca8bd7738e5\", element=\"6476c1e4-43a7-4fc1-a736-15e70ff26c77\")>,\n",
       " <selenium.webdriver.remote.webelement.WebElement (session=\"73ba1df09adbe58ada8d4ca8bd7738e5\", element=\"84c396b7-d9c1-43b8-af41-2d6e52dc82c8\")>,\n",
       " <selenium.webdriver.remote.webelement.WebElement (session=\"73ba1df09adbe58ada8d4ca8bd7738e5\", element=\"57e5b61b-604f-4ff8-878f-427846216c59\")>,\n",
       " <selenium.webdriver.remote.webelement.WebElement (session=\"73ba1df09adbe58ada8d4ca8bd7738e5\", element=\"d8ea5a39-ca73-4c30-8796-f3a776bee4e9\")>,\n",
       " <selenium.webdriver.remote.webelement.WebElement (session=\"73ba1df09adbe58ada8d4ca8bd7738e5\", element=\"409d1ae1-3707-4e5c-a44c-e7d2540867c9\")>,\n",
       " <selenium.webdriver.remote.webelement.WebElement (session=\"73ba1df09adbe58ada8d4ca8bd7738e5\", element=\"394f2eac-f1f2-4c9b-8d5a-31d4e4633c59\")>,\n",
       " <selenium.webdriver.remote.webelement.WebElement (session=\"73ba1df09adbe58ada8d4ca8bd7738e5\", element=\"e6142e69-1dd5-4757-a8a9-ed5a2c6741cd\")>,\n",
       " <selenium.webdriver.remote.webelement.WebElement (session=\"73ba1df09adbe58ada8d4ca8bd7738e5\", element=\"f85196de-359c-4856-a280-5f38053cf850\")>,\n",
       " <selenium.webdriver.remote.webelement.WebElement (session=\"73ba1df09adbe58ada8d4ca8bd7738e5\", element=\"7e40013a-a7d7-44fd-9ceb-61c0f08c9cfb\")>,\n",
       " <selenium.webdriver.remote.webelement.WebElement (session=\"73ba1df09adbe58ada8d4ca8bd7738e5\", element=\"a51d0157-249c-4e06-86eb-aca60e3a6809\")>,\n",
       " <selenium.webdriver.remote.webelement.WebElement (session=\"73ba1df09adbe58ada8d4ca8bd7738e5\", element=\"2e364cf6-061f-4db5-95ae-a25f5d162eb3\")>,\n",
       " <selenium.webdriver.remote.webelement.WebElement (session=\"73ba1df09adbe58ada8d4ca8bd7738e5\", element=\"ea10284f-fc1f-4c85-933b-2bd362eb6d3f\")>,\n",
       " <selenium.webdriver.remote.webelement.WebElement (session=\"73ba1df09adbe58ada8d4ca8bd7738e5\", element=\"668f58bc-f468-48d1-aef6-a9406dd0d603\")>,\n",
       " <selenium.webdriver.remote.webelement.WebElement (session=\"73ba1df09adbe58ada8d4ca8bd7738e5\", element=\"498b6b8d-302e-4549-a6a6-635a11163623\")>,\n",
       " <selenium.webdriver.remote.webelement.WebElement (session=\"73ba1df09adbe58ada8d4ca8bd7738e5\", element=\"77b91dde-9a6a-48a4-be90-8b7f90824009\")>,\n",
       " <selenium.webdriver.remote.webelement.WebElement (session=\"73ba1df09adbe58ada8d4ca8bd7738e5\", element=\"8d748b09-65a5-4f15-88c3-0c738352d303\")>,\n",
       " <selenium.webdriver.remote.webelement.WebElement (session=\"73ba1df09adbe58ada8d4ca8bd7738e5\", element=\"a04992cb-4eae-4148-a4c4-914f59e6de21\")>,\n",
       " <selenium.webdriver.remote.webelement.WebElement (session=\"73ba1df09adbe58ada8d4ca8bd7738e5\", element=\"81253b53-d9f7-4f42-98a7-f9d168741265\")>,\n",
       " <selenium.webdriver.remote.webelement.WebElement (session=\"73ba1df09adbe58ada8d4ca8bd7738e5\", element=\"d0245402-177b-480d-9671-aca763a60ef6\")>,\n",
       " <selenium.webdriver.remote.webelement.WebElement (session=\"73ba1df09adbe58ada8d4ca8bd7738e5\", element=\"ef27a3ee-16c2-4bd2-bc18-d9b51825152b\")>,\n",
       " <selenium.webdriver.remote.webelement.WebElement (session=\"73ba1df09adbe58ada8d4ca8bd7738e5\", element=\"60e1715a-5cd5-423f-8d90-f66f08752b84\")>,\n",
       " <selenium.webdriver.remote.webelement.WebElement (session=\"73ba1df09adbe58ada8d4ca8bd7738e5\", element=\"571e54fd-be3c-427f-a00a-4099ea12f8a2\")>,\n",
       " <selenium.webdriver.remote.webelement.WebElement (session=\"73ba1df09adbe58ada8d4ca8bd7738e5\", element=\"d2d42354-9cf4-4d6d-a57e-5960831bee5d\")>,\n",
       " <selenium.webdriver.remote.webelement.WebElement (session=\"73ba1df09adbe58ada8d4ca8bd7738e5\", element=\"875cc9da-e142-49d8-b677-f6691680d471\")>]"
      ]
     },
     "execution_count": 468,
     "metadata": {},
     "output_type": "execute_result"
    }
   ],
   "source": [
    "brand_price"
   ]
  },
  {
   "cell_type": "code",
   "execution_count": 470,
   "metadata": {
    "scrolled": true
   },
   "outputs": [
    {
     "data": {
      "text/plain": [
       "['₹171',\n",
       " '₹566',\n",
       " '₹248',\n",
       " '₹398',\n",
       " '₹349',\n",
       " '₹349',\n",
       " '₹2,049',\n",
       " '₹429',\n",
       " '₹429',\n",
       " '₹499',\n",
       " '₹945',\n",
       " '₹369',\n",
       " '₹186',\n",
       " '₹191',\n",
       " '₹199',\n",
       " '₹398',\n",
       " '₹489',\n",
       " '₹244',\n",
       " '₹349',\n",
       " '₹449',\n",
       " '₹1,099',\n",
       " '₹151',\n",
       " '₹349',\n",
       " '₹590',\n",
       " '₹390',\n",
       " '₹549',\n",
       " '₹183',\n",
       " '₹549',\n",
       " '₹374',\n",
       " '₹399',\n",
       " '₹3,449',\n",
       " '₹379',\n",
       " '₹424',\n",
       " '₹549',\n",
       " '₹449',\n",
       " '₹449',\n",
       " '₹399',\n",
       " '₹2,049',\n",
       " '₹498',\n",
       " '₹399']"
      ]
     },
     "execution_count": 470,
     "metadata": {},
     "output_type": "execute_result"
    }
   ],
   "source": [
    "price=[]\n",
    "for i in brand_price:\n",
    "   price.append(i.text)\n",
    "len(price)  \n",
    "price"
   ]
  },
  {
   "cell_type": "code",
   "execution_count": 471,
   "metadata": {},
   "outputs": [
    {
     "data": {
      "text/plain": [
       "40"
      ]
     },
     "execution_count": 471,
     "metadata": {},
     "output_type": "execute_result"
    }
   ],
   "source": [
    "\n",
    "#### extracting product discount\n",
    "brand_disc=driver.find_elements_by_xpath(\"//div[@class='_3Ay6Sb']\")\n",
    "len(brand_disc)"
   ]
  },
  {
   "cell_type": "code",
   "execution_count": 473,
   "metadata": {
    "scrolled": true
   },
   "outputs": [
    {
     "data": {
      "text/plain": [
       "[<selenium.webdriver.remote.webelement.WebElement (session=\"73ba1df09adbe58ada8d4ca8bd7738e5\", element=\"a675215f-0539-4480-9070-eda2bb4c8750\")>,\n",
       " <selenium.webdriver.remote.webelement.WebElement (session=\"73ba1df09adbe58ada8d4ca8bd7738e5\", element=\"d490ea4b-74cf-4057-8576-47d95f968985\")>,\n",
       " <selenium.webdriver.remote.webelement.WebElement (session=\"73ba1df09adbe58ada8d4ca8bd7738e5\", element=\"14f4243d-93ff-4987-ad16-5a8d2a103075\")>,\n",
       " <selenium.webdriver.remote.webelement.WebElement (session=\"73ba1df09adbe58ada8d4ca8bd7738e5\", element=\"f14612f9-f937-4e69-8a88-81f701359c1d\")>,\n",
       " <selenium.webdriver.remote.webelement.WebElement (session=\"73ba1df09adbe58ada8d4ca8bd7738e5\", element=\"b7f5cd7d-7d88-42b9-aa0d-005d8ed8d976\")>,\n",
       " <selenium.webdriver.remote.webelement.WebElement (session=\"73ba1df09adbe58ada8d4ca8bd7738e5\", element=\"b547e509-2279-4dea-94cf-b6ae508215f8\")>,\n",
       " <selenium.webdriver.remote.webelement.WebElement (session=\"73ba1df09adbe58ada8d4ca8bd7738e5\", element=\"f801ce1f-929e-4573-9438-4f0d6152ee64\")>,\n",
       " <selenium.webdriver.remote.webelement.WebElement (session=\"73ba1df09adbe58ada8d4ca8bd7738e5\", element=\"24e54e71-4ef0-41ba-9b4e-6452fda2701b\")>,\n",
       " <selenium.webdriver.remote.webelement.WebElement (session=\"73ba1df09adbe58ada8d4ca8bd7738e5\", element=\"96c37b35-f2b1-44bd-8b59-ca053a9fb79d\")>,\n",
       " <selenium.webdriver.remote.webelement.WebElement (session=\"73ba1df09adbe58ada8d4ca8bd7738e5\", element=\"861566d3-c8b2-4cba-baac-9beb1707d002\")>,\n",
       " <selenium.webdriver.remote.webelement.WebElement (session=\"73ba1df09adbe58ada8d4ca8bd7738e5\", element=\"99235657-538d-4501-a58e-3b3aac0f72a4\")>,\n",
       " <selenium.webdriver.remote.webelement.WebElement (session=\"73ba1df09adbe58ada8d4ca8bd7738e5\", element=\"e6df7b4a-a137-49ca-8052-12a926958d21\")>,\n",
       " <selenium.webdriver.remote.webelement.WebElement (session=\"73ba1df09adbe58ada8d4ca8bd7738e5\", element=\"82bb1cd5-45c3-4b58-831b-c85c07c1c2d2\")>,\n",
       " <selenium.webdriver.remote.webelement.WebElement (session=\"73ba1df09adbe58ada8d4ca8bd7738e5\", element=\"71bd7b0e-776e-4050-b672-a812fef1fe1f\")>,\n",
       " <selenium.webdriver.remote.webelement.WebElement (session=\"73ba1df09adbe58ada8d4ca8bd7738e5\", element=\"013a2737-1e81-4dca-b3ea-860e39582ad4\")>,\n",
       " <selenium.webdriver.remote.webelement.WebElement (session=\"73ba1df09adbe58ada8d4ca8bd7738e5\", element=\"355dff49-4cb2-4aa4-bd9f-a63425514297\")>,\n",
       " <selenium.webdriver.remote.webelement.WebElement (session=\"73ba1df09adbe58ada8d4ca8bd7738e5\", element=\"f0b3e9a6-b9f5-49e1-bc4e-9d5c93e7c805\")>,\n",
       " <selenium.webdriver.remote.webelement.WebElement (session=\"73ba1df09adbe58ada8d4ca8bd7738e5\", element=\"37dff51b-f895-4bb2-95f0-c9deb49b577c\")>,\n",
       " <selenium.webdriver.remote.webelement.WebElement (session=\"73ba1df09adbe58ada8d4ca8bd7738e5\", element=\"d77f5ab3-aff8-45fe-86ff-2fccea136a22\")>,\n",
       " <selenium.webdriver.remote.webelement.WebElement (session=\"73ba1df09adbe58ada8d4ca8bd7738e5\", element=\"06f2599d-79e1-4f9f-8bdb-824cae54a80e\")>,\n",
       " <selenium.webdriver.remote.webelement.WebElement (session=\"73ba1df09adbe58ada8d4ca8bd7738e5\", element=\"157f3a18-0ac0-4a73-9d2a-22f4e94999fc\")>,\n",
       " <selenium.webdriver.remote.webelement.WebElement (session=\"73ba1df09adbe58ada8d4ca8bd7738e5\", element=\"9a3d1cd1-d1e3-4171-89fb-b6ba786fb7fd\")>,\n",
       " <selenium.webdriver.remote.webelement.WebElement (session=\"73ba1df09adbe58ada8d4ca8bd7738e5\", element=\"a03dc7cb-3422-4303-9596-52faea8ef655\")>,\n",
       " <selenium.webdriver.remote.webelement.WebElement (session=\"73ba1df09adbe58ada8d4ca8bd7738e5\", element=\"5b915775-3f45-43f4-b413-9267dd5ca5f4\")>,\n",
       " <selenium.webdriver.remote.webelement.WebElement (session=\"73ba1df09adbe58ada8d4ca8bd7738e5\", element=\"e5a32b0c-213d-4346-a0fd-d6e8d34eca1a\")>,\n",
       " <selenium.webdriver.remote.webelement.WebElement (session=\"73ba1df09adbe58ada8d4ca8bd7738e5\", element=\"af30f51d-8c8a-4f01-9962-81669450ba15\")>,\n",
       " <selenium.webdriver.remote.webelement.WebElement (session=\"73ba1df09adbe58ada8d4ca8bd7738e5\", element=\"4d4608a6-9f69-451b-8291-4732ecd64311\")>,\n",
       " <selenium.webdriver.remote.webelement.WebElement (session=\"73ba1df09adbe58ada8d4ca8bd7738e5\", element=\"93d1099c-e3dc-4393-acd1-dd392c1ce6d0\")>,\n",
       " <selenium.webdriver.remote.webelement.WebElement (session=\"73ba1df09adbe58ada8d4ca8bd7738e5\", element=\"a33b1ecd-285a-461e-9182-54cecf987639\")>,\n",
       " <selenium.webdriver.remote.webelement.WebElement (session=\"73ba1df09adbe58ada8d4ca8bd7738e5\", element=\"dd0f9b4c-55bb-4ec7-b5c4-c4a363debfa9\")>,\n",
       " <selenium.webdriver.remote.webelement.WebElement (session=\"73ba1df09adbe58ada8d4ca8bd7738e5\", element=\"8ad9d42c-71d3-43b8-b353-f1e4a6df218a\")>,\n",
       " <selenium.webdriver.remote.webelement.WebElement (session=\"73ba1df09adbe58ada8d4ca8bd7738e5\", element=\"b3ce70c8-5849-4671-895c-5743094f08f7\")>,\n",
       " <selenium.webdriver.remote.webelement.WebElement (session=\"73ba1df09adbe58ada8d4ca8bd7738e5\", element=\"f2ba4bcf-4a6d-417e-9573-6ed6ed245015\")>,\n",
       " <selenium.webdriver.remote.webelement.WebElement (session=\"73ba1df09adbe58ada8d4ca8bd7738e5\", element=\"6e601d14-180c-408b-a09a-ba4ac8891d5a\")>,\n",
       " <selenium.webdriver.remote.webelement.WebElement (session=\"73ba1df09adbe58ada8d4ca8bd7738e5\", element=\"c1400825-0b1a-4c51-825f-5bacf343be7b\")>,\n",
       " <selenium.webdriver.remote.webelement.WebElement (session=\"73ba1df09adbe58ada8d4ca8bd7738e5\", element=\"37017545-5648-495d-b02e-2522d4461439\")>,\n",
       " <selenium.webdriver.remote.webelement.WebElement (session=\"73ba1df09adbe58ada8d4ca8bd7738e5\", element=\"c19a7af8-2503-4651-882c-d1476a1ef6b4\")>,\n",
       " <selenium.webdriver.remote.webelement.WebElement (session=\"73ba1df09adbe58ada8d4ca8bd7738e5\", element=\"10a3b6d2-e381-4032-a7cd-2e67aac03155\")>,\n",
       " <selenium.webdriver.remote.webelement.WebElement (session=\"73ba1df09adbe58ada8d4ca8bd7738e5\", element=\"27da28cf-baf9-41d6-90a8-e00c27d6ff43\")>,\n",
       " <selenium.webdriver.remote.webelement.WebElement (session=\"73ba1df09adbe58ada8d4ca8bd7738e5\", element=\"8626058e-eff2-46e6-9903-40e375cd12de\")>]"
      ]
     },
     "execution_count": 473,
     "metadata": {},
     "output_type": "execute_result"
    }
   ],
   "source": [
    "brand_disc"
   ]
  },
  {
   "cell_type": "code",
   "execution_count": 474,
   "metadata": {
    "scrolled": true
   },
   "outputs": [
    {
     "data": {
      "text/plain": [
       "['65% off',\n",
       " '62% off',\n",
       " '75% off',\n",
       " '80% off',\n",
       " '65% off',\n",
       " '65% off',\n",
       " '41% off',\n",
       " '73% off',\n",
       " '76% off',\n",
       " '50% off',\n",
       " '52% off',\n",
       " '63% off',\n",
       " '81% off',\n",
       " '80% off',\n",
       " '60% off',\n",
       " '75% off',\n",
       " '51% off',\n",
       " '69% off',\n",
       " '82% off',\n",
       " '71% off',\n",
       " '76% off',\n",
       " '69% off',\n",
       " '65% off',\n",
       " '40% off',\n",
       " '69% off',\n",
       " '54% off',\n",
       " '63% off',\n",
       " '81% off',\n",
       " '71% off',\n",
       " '60% off',\n",
       " '1% off',\n",
       " '70% off',\n",
       " '57% off',\n",
       " '54% off',\n",
       " '77% off',\n",
       " '77% off',\n",
       " '60% off',\n",
       " '41% off',\n",
       " '37% off',\n",
       " '60% off']"
      ]
     },
     "execution_count": 474,
     "metadata": {},
     "output_type": "execute_result"
    }
   ],
   "source": [
    "discount=[]\n",
    "for i in brand_disc:\n",
    "   discount.append(i.text)\n",
    "len(discount)  \n",
    "discount"
   ]
  },
  {
   "cell_type": "code",
   "execution_count": 476,
   "metadata": {},
   "outputs": [
    {
     "data": {
      "text/html": [
       "<div>\n",
       "<style scoped>\n",
       "    .dataframe tbody tr th:only-of-type {\n",
       "        vertical-align: middle;\n",
       "    }\n",
       "\n",
       "    .dataframe tbody tr th {\n",
       "        vertical-align: top;\n",
       "    }\n",
       "\n",
       "    .dataframe thead th {\n",
       "        text-align: right;\n",
       "    }\n",
       "</style>\n",
       "<table border=\"1\" class=\"dataframe\">\n",
       "  <thead>\n",
       "    <tr style=\"text-align: right;\">\n",
       "      <th></th>\n",
       "      <th>Brand_name</th>\n",
       "      <th>Brand_Description</th>\n",
       "      <th>Brand_Price</th>\n",
       "      <th>Brand_Discount</th>\n",
       "    </tr>\n",
       "  </thead>\n",
       "  <tbody>\n",
       "    <tr>\n",
       "      <th>0</th>\n",
       "      <td>Airland</td>\n",
       "      <td>Sneakers For Men</td>\n",
       "      <td>₹171</td>\n",
       "      <td>65% off</td>\n",
       "    </tr>\n",
       "    <tr>\n",
       "      <th>1</th>\n",
       "      <td>CLYMB</td>\n",
       "      <td>Khalifa/Walking/Outdoor/Sneakers Sneakers For Men</td>\n",
       "      <td>₹566</td>\n",
       "      <td>62% off</td>\n",
       "    </tr>\n",
       "    <tr>\n",
       "      <th>2</th>\n",
       "      <td>Gentax</td>\n",
       "      <td>Trendy white casual for men's and boys Sneaker...</td>\n",
       "      <td>₹248</td>\n",
       "      <td>75% off</td>\n",
       "    </tr>\n",
       "    <tr>\n",
       "      <th>3</th>\n",
       "      <td>EMPTILE</td>\n",
       "      <td>all white heartbeat casual shoe Sneakers For Men</td>\n",
       "      <td>₹398</td>\n",
       "      <td>80% off</td>\n",
       "    </tr>\n",
       "    <tr>\n",
       "      <th>4</th>\n",
       "      <td>EMPTILE</td>\n",
       "      <td>Sneakers For Men</td>\n",
       "      <td>₹349</td>\n",
       "      <td>65% off</td>\n",
       "    </tr>\n",
       "    <tr>\n",
       "      <th>5</th>\n",
       "      <td>ZF - ALFIYA</td>\n",
       "      <td>Puma Smash v2 L Sneakers For Men</td>\n",
       "      <td>₹349</td>\n",
       "      <td>65% off</td>\n",
       "    </tr>\n",
       "    <tr>\n",
       "      <th>6</th>\n",
       "      <td>PUMA</td>\n",
       "      <td>Men's Combo Pack of 02 Shoes for Men Casual Sn...</td>\n",
       "      <td>₹2,049</td>\n",
       "      <td>41% off</td>\n",
       "    </tr>\n",
       "    <tr>\n",
       "      <th>7</th>\n",
       "      <td>Ardeo</td>\n",
       "      <td>Sneakers For Men</td>\n",
       "      <td>₹429</td>\n",
       "      <td>73% off</td>\n",
       "    </tr>\n",
       "    <tr>\n",
       "      <th>8</th>\n",
       "      <td>Chevit</td>\n",
       "      <td>Sneakers For Men</td>\n",
       "      <td>₹429</td>\n",
       "      <td>76% off</td>\n",
       "    </tr>\n",
       "    <tr>\n",
       "      <th>9</th>\n",
       "      <td>AMICO</td>\n",
       "      <td>Sneakers For Men</td>\n",
       "      <td>₹499</td>\n",
       "      <td>50% off</td>\n",
       "    </tr>\n",
       "    <tr>\n",
       "      <th>10</th>\n",
       "      <td>HIGHLANDER</td>\n",
       "      <td>Sports/Running/Training/Gym Sneakers For Men</td>\n",
       "      <td>₹945</td>\n",
       "      <td>52% off</td>\n",
       "    </tr>\n",
       "    <tr>\n",
       "      <th>11</th>\n",
       "      <td>Strollin</td>\n",
       "      <td>Sneakers For Men</td>\n",
       "      <td>₹369</td>\n",
       "      <td>63% off</td>\n",
       "    </tr>\n",
       "    <tr>\n",
       "      <th>12</th>\n",
       "      <td>CLYMB</td>\n",
       "      <td>Latest Collection Black-349 Trendy &amp; Stylish C...</td>\n",
       "      <td>₹186</td>\n",
       "      <td>81% off</td>\n",
       "    </tr>\n",
       "    <tr>\n",
       "      <th>13</th>\n",
       "      <td>aadi</td>\n",
       "      <td>Sneakers For Men</td>\n",
       "      <td>₹191</td>\n",
       "      <td>80% off</td>\n",
       "    </tr>\n",
       "    <tr>\n",
       "      <th>14</th>\n",
       "      <td>World Wear Footwear</td>\n",
       "      <td>CH-527 Trendy Star Perfect Casuals Sneakers Fo...</td>\n",
       "      <td>₹199</td>\n",
       "      <td>60% off</td>\n",
       "    </tr>\n",
       "    <tr>\n",
       "      <th>15</th>\n",
       "      <td>Ardeo</td>\n",
       "      <td>Sneakers For Men</td>\n",
       "      <td>₹398</td>\n",
       "      <td>75% off</td>\n",
       "    </tr>\n",
       "    <tr>\n",
       "      <th>16</th>\n",
       "      <td>Rzisbo</td>\n",
       "      <td>Exclusive Affordable Collection of Trendy &amp; St...</td>\n",
       "      <td>₹489</td>\n",
       "      <td>51% off</td>\n",
       "    </tr>\n",
       "    <tr>\n",
       "      <th>17</th>\n",
       "      <td>Chevit</td>\n",
       "      <td>Stylish White Casual Sneakers shoes Men and Bo...</td>\n",
       "      <td>₹244</td>\n",
       "      <td>69% off</td>\n",
       "    </tr>\n",
       "    <tr>\n",
       "      <th>18</th>\n",
       "      <td>Noztile</td>\n",
       "      <td>Stylish &amp; Trending Outdoor Walking Comfortable...</td>\n",
       "      <td>₹349</td>\n",
       "      <td>82% off</td>\n",
       "    </tr>\n",
       "    <tr>\n",
       "      <th>19</th>\n",
       "      <td>Ardeo</td>\n",
       "      <td>Sneakers For Men</td>\n",
       "      <td>₹449</td>\n",
       "      <td>71% off</td>\n",
       "    </tr>\n",
       "    <tr>\n",
       "      <th>20</th>\n",
       "      <td>RED TAPE</td>\n",
       "      <td>luxury fashionable casual sneaker shoes Sneake...</td>\n",
       "      <td>₹1,099</td>\n",
       "      <td>76% off</td>\n",
       "    </tr>\n",
       "    <tr>\n",
       "      <th>21</th>\n",
       "      <td>World Wear Footwear</td>\n",
       "      <td>Fashion Outdoor Canvas Casual Light Weight Lac...</td>\n",
       "      <td>₹151</td>\n",
       "      <td>69% off</td>\n",
       "    </tr>\n",
       "    <tr>\n",
       "      <th>22</th>\n",
       "      <td>T-ROCK</td>\n",
       "      <td>Sneakers For Men</td>\n",
       "      <td>₹349</td>\n",
       "      <td>65% off</td>\n",
       "    </tr>\n",
       "    <tr>\n",
       "      <th>23</th>\n",
       "      <td>RapidBox</td>\n",
       "      <td>Sneakers For Men</td>\n",
       "      <td>₹590</td>\n",
       "      <td>40% off</td>\n",
       "    </tr>\n",
       "    <tr>\n",
       "      <th>24</th>\n",
       "      <td>India hub</td>\n",
       "      <td>Sneakers For Men</td>\n",
       "      <td>₹390</td>\n",
       "      <td>69% off</td>\n",
       "    </tr>\n",
       "    <tr>\n",
       "      <th>25</th>\n",
       "      <td>WHITE WALKERS</td>\n",
       "      <td>Stylish &amp; Trending Outdoor Walking Comfortable...</td>\n",
       "      <td>₹549</td>\n",
       "      <td>54% off</td>\n",
       "    </tr>\n",
       "    <tr>\n",
       "      <th>26</th>\n",
       "      <td>Extoes</td>\n",
       "      <td>Fashionable sneaker shoes Sneakers For Men</td>\n",
       "      <td>₹183</td>\n",
       "      <td>63% off</td>\n",
       "    </tr>\n",
       "    <tr>\n",
       "      <th>27</th>\n",
       "      <td>Navtrend</td>\n",
       "      <td>Sneakers For Men</td>\n",
       "      <td>₹549</td>\n",
       "      <td>81% off</td>\n",
       "    </tr>\n",
       "    <tr>\n",
       "      <th>28</th>\n",
       "      <td>India hub</td>\n",
       "      <td>Puma Smash v2 L Sneakers For Men</td>\n",
       "      <td>₹374</td>\n",
       "      <td>71% off</td>\n",
       "    </tr>\n",
       "    <tr>\n",
       "      <th>29</th>\n",
       "      <td>RODDICK SHOES</td>\n",
       "      <td>Skypy-31 Walking Shoes,Training Shoes,Sneakers...</td>\n",
       "      <td>₹399</td>\n",
       "      <td>60% off</td>\n",
       "    </tr>\n",
       "    <tr>\n",
       "      <th>30</th>\n",
       "      <td>DUCATI</td>\n",
       "      <td>Sneakers For Men</td>\n",
       "      <td>₹3,449</td>\n",
       "      <td>1% off</td>\n",
       "    </tr>\n",
       "  </tbody>\n",
       "</table>\n",
       "</div>"
      ],
      "text/plain": [
       "             Brand_name                                  Brand_Description  \\\n",
       "0               Airland                                   Sneakers For Men   \n",
       "1                 CLYMB  Khalifa/Walking/Outdoor/Sneakers Sneakers For Men   \n",
       "2                Gentax  Trendy white casual for men's and boys Sneaker...   \n",
       "3               EMPTILE   all white heartbeat casual shoe Sneakers For Men   \n",
       "4               EMPTILE                                   Sneakers For Men   \n",
       "5           ZF - ALFIYA                   Puma Smash v2 L Sneakers For Men   \n",
       "6                  PUMA  Men's Combo Pack of 02 Shoes for Men Casual Sn...   \n",
       "7                 Ardeo                                   Sneakers For Men   \n",
       "8                Chevit                                   Sneakers For Men   \n",
       "9                 AMICO                                   Sneakers For Men   \n",
       "10           HIGHLANDER       Sports/Running/Training/Gym Sneakers For Men   \n",
       "11             Strollin                                   Sneakers For Men   \n",
       "12                CLYMB  Latest Collection Black-349 Trendy & Stylish C...   \n",
       "13                 aadi                                   Sneakers For Men   \n",
       "14  World Wear Footwear  CH-527 Trendy Star Perfect Casuals Sneakers Fo...   \n",
       "15                Ardeo                                   Sneakers For Men   \n",
       "16               Rzisbo  Exclusive Affordable Collection of Trendy & St...   \n",
       "17               Chevit  Stylish White Casual Sneakers shoes Men and Bo...   \n",
       "18              Noztile  Stylish & Trending Outdoor Walking Comfortable...   \n",
       "19                Ardeo                                   Sneakers For Men   \n",
       "20             RED TAPE  luxury fashionable casual sneaker shoes Sneake...   \n",
       "21  World Wear Footwear  Fashion Outdoor Canvas Casual Light Weight Lac...   \n",
       "22               T-ROCK                                   Sneakers For Men   \n",
       "23             RapidBox                                   Sneakers For Men   \n",
       "24            India hub                                   Sneakers For Men   \n",
       "25        WHITE WALKERS  Stylish & Trending Outdoor Walking Comfortable...   \n",
       "26               Extoes         Fashionable sneaker shoes Sneakers For Men   \n",
       "27             Navtrend                                   Sneakers For Men   \n",
       "28            India hub                   Puma Smash v2 L Sneakers For Men   \n",
       "29        RODDICK SHOES  Skypy-31 Walking Shoes,Training Shoes,Sneakers...   \n",
       "30               DUCATI                                   Sneakers For Men   \n",
       "\n",
       "   Brand_Price Brand_Discount  \n",
       "0         ₹171        65% off  \n",
       "1         ₹566        62% off  \n",
       "2         ₹248        75% off  \n",
       "3         ₹398        80% off  \n",
       "4         ₹349        65% off  \n",
       "5         ₹349        65% off  \n",
       "6       ₹2,049        41% off  \n",
       "7         ₹429        73% off  \n",
       "8         ₹429        76% off  \n",
       "9         ₹499        50% off  \n",
       "10        ₹945        52% off  \n",
       "11        ₹369        63% off  \n",
       "12        ₹186        81% off  \n",
       "13        ₹191        80% off  \n",
       "14        ₹199        60% off  \n",
       "15        ₹398        75% off  \n",
       "16        ₹489        51% off  \n",
       "17        ₹244        69% off  \n",
       "18        ₹349        82% off  \n",
       "19        ₹449        71% off  \n",
       "20      ₹1,099        76% off  \n",
       "21        ₹151        69% off  \n",
       "22        ₹349        65% off  \n",
       "23        ₹590        40% off  \n",
       "24        ₹390        69% off  \n",
       "25        ₹549        54% off  \n",
       "26        ₹183        63% off  \n",
       "27        ₹549        81% off  \n",
       "28        ₹374        71% off  \n",
       "29        ₹399        60% off  \n",
       "30      ₹3,449         1% off  "
      ]
     },
     "execution_count": 476,
     "metadata": {},
     "output_type": "execute_result"
    }
   ],
   "source": [
    "sneakers_4=pd.DataFrame()\n",
    "sneakers_4['Brand_name']=brand[0:31]\n",
    "sneakers_4['Brand_Description']=descp\n",
    "sneakers_4['Brand_Price']=price[0:31]\n",
    "sneakers_4['Brand_Discount']=discount[0:31]\n",
    "sneakers_4"
   ]
  },
  {
   "cell_type": "code",
   "execution_count": 478,
   "metadata": {},
   "outputs": [
    {
     "data": {
      "text/html": [
       "<div>\n",
       "<style scoped>\n",
       "    .dataframe tbody tr th:only-of-type {\n",
       "        vertical-align: middle;\n",
       "    }\n",
       "\n",
       "    .dataframe tbody tr th {\n",
       "        vertical-align: top;\n",
       "    }\n",
       "\n",
       "    .dataframe thead th {\n",
       "        text-align: right;\n",
       "    }\n",
       "</style>\n",
       "<table border=\"1\" class=\"dataframe\">\n",
       "  <thead>\n",
       "    <tr style=\"text-align: right;\">\n",
       "      <th></th>\n",
       "      <th>Brand_name</th>\n",
       "      <th>Brand_Description</th>\n",
       "      <th>Brand_Price</th>\n",
       "      <th>Brand_Discount</th>\n",
       "    </tr>\n",
       "  </thead>\n",
       "  <tbody>\n",
       "    <tr>\n",
       "      <th>0</th>\n",
       "      <td>Roadster</td>\n",
       "      <td>Men Blue Solid Sneakers Sneakers For Men</td>\n",
       "      <td>₹1,139</td>\n",
       "      <td>59% off</td>\n",
       "    </tr>\n",
       "    <tr>\n",
       "      <th>1</th>\n",
       "      <td>Smoky</td>\n",
       "      <td>Trendy Sneakers For Men</td>\n",
       "      <td>₹499</td>\n",
       "      <td>58% off</td>\n",
       "    </tr>\n",
       "    <tr>\n",
       "      <th>2</th>\n",
       "      <td>URBANBOX</td>\n",
       "      <td>Super Stylish &amp; Trendy Combo Pack of 02 Pairs ...</td>\n",
       "      <td>₹197</td>\n",
       "      <td>80% off</td>\n",
       "    </tr>\n",
       "    <tr>\n",
       "      <th>3</th>\n",
       "      <td>Chevit</td>\n",
       "      <td>Kwik FIT casual sneaker shoes and partywear sh...</td>\n",
       "      <td>₹469</td>\n",
       "      <td>70% off</td>\n",
       "    </tr>\n",
       "    <tr>\n",
       "      <th>4</th>\n",
       "      <td>KWIK FIT</td>\n",
       "      <td>casual sneaker shoes for men luxury fashion ca...</td>\n",
       "      <td>₹347</td>\n",
       "      <td>82% off</td>\n",
       "    </tr>\n",
       "    <tr>\n",
       "      <th>...</th>\n",
       "      <td>...</td>\n",
       "      <td>...</td>\n",
       "      <td>...</td>\n",
       "      <td>...</td>\n",
       "    </tr>\n",
       "    <tr>\n",
       "      <th>30</th>\n",
       "      <td>KNIGHT WALKERS</td>\n",
       "      <td>Shoes in Black Color Party wear/Outdoor/Casual...</td>\n",
       "      <td>₹598</td>\n",
       "      <td>60% off</td>\n",
       "    </tr>\n",
       "    <tr>\n",
       "      <th>31</th>\n",
       "      <td>DUCATI</td>\n",
       "      <td>Sneakers For Men</td>\n",
       "      <td>₹1,329</td>\n",
       "      <td>69% off</td>\n",
       "    </tr>\n",
       "    <tr>\n",
       "      <th>32</th>\n",
       "      <td>Magnolia</td>\n",
       "      <td>Khalifa/Walking/Outdoor/Sneakers Sneakers For Men</td>\n",
       "      <td>₹374</td>\n",
       "      <td>62% off</td>\n",
       "    </tr>\n",
       "    <tr>\n",
       "      <th>0</th>\n",
       "      <td>Airland</td>\n",
       "      <td>Sneakers For Men</td>\n",
       "      <td>₹171</td>\n",
       "      <td>65% off</td>\n",
       "    </tr>\n",
       "    <tr>\n",
       "      <th>1</th>\n",
       "      <td>CLYMB</td>\n",
       "      <td>Khalifa/Walking/Outdoor/Sneakers Sneakers For Men</td>\n",
       "      <td>₹566</td>\n",
       "      <td>62% off</td>\n",
       "    </tr>\n",
       "  </tbody>\n",
       "</table>\n",
       "<p>100 rows × 4 columns</p>\n",
       "</div>"
      ],
      "text/plain": [
       "        Brand_name                                  Brand_Description  \\\n",
       "0         Roadster           Men Blue Solid Sneakers Sneakers For Men   \n",
       "1            Smoky                            Trendy Sneakers For Men   \n",
       "2         URBANBOX  Super Stylish & Trendy Combo Pack of 02 Pairs ...   \n",
       "3           Chevit  Kwik FIT casual sneaker shoes and partywear sh...   \n",
       "4         KWIK FIT  casual sneaker shoes for men luxury fashion ca...   \n",
       "..             ...                                                ...   \n",
       "30  KNIGHT WALKERS  Shoes in Black Color Party wear/Outdoor/Casual...   \n",
       "31          DUCATI                                   Sneakers For Men   \n",
       "32        Magnolia  Khalifa/Walking/Outdoor/Sneakers Sneakers For Men   \n",
       "0          Airland                                   Sneakers For Men   \n",
       "1            CLYMB  Khalifa/Walking/Outdoor/Sneakers Sneakers For Men   \n",
       "\n",
       "   Brand_Price Brand_Discount  \n",
       "0       ₹1,139        59% off  \n",
       "1         ₹499        58% off  \n",
       "2         ₹197        80% off  \n",
       "3         ₹469        70% off  \n",
       "4         ₹347        82% off  \n",
       "..         ...            ...  \n",
       "30        ₹598        60% off  \n",
       "31      ₹1,329        69% off  \n",
       "32        ₹374        62% off  \n",
       "0         ₹171        65% off  \n",
       "1         ₹566        62% off  \n",
       "\n",
       "[100 rows x 4 columns]"
      ]
     },
     "execution_count": 478,
     "metadata": {},
     "output_type": "execute_result"
    }
   ],
   "source": [
    "df_sneakers= pd.concat([sneakers_1,sneakers_2,sneakers_3,sneakers_4])\n",
    "df_sneakers[0:100]"
   ]
  },
  {
   "cell_type": "code",
   "execution_count": 496,
   "metadata": {},
   "outputs": [],
   "source": [
    "#####7\n",
    "\n",
    "import selenium\n",
    "from selenium import webdriver \n",
    "import pandas as pd \n",
    "import warnings\n",
    "warnings.filterwarnings('ignore')\n",
    "\n",
    "\n"
   ]
  },
  {
   "cell_type": "code",
   "execution_count": 497,
   "metadata": {},
   "outputs": [],
   "source": [
    "driver=webdriver.Chrome(r\"C:/Users/Lenovo/Downloads/chromedriver_win32/chromedriver.exe\")\n"
   ]
  },
  {
   "cell_type": "code",
   "execution_count": 498,
   "metadata": {},
   "outputs": [],
   "source": [
    "url = \"https://www.myntra.com/shoes\"\n",
    "driver.get(url)"
   ]
  },
  {
   "cell_type": "code",
   "execution_count": 499,
   "metadata": {},
   "outputs": [],
   "source": [
    "price_filter=driver.find_element_by_xpath(\"/html/body/div[2]/div/div[1]/main/div[3]/div[1]/section/div/div[5]/ul/li[2]/label/div\")\n",
    "price_filter.click()"
   ]
  },
  {
   "cell_type": "code",
   "execution_count": 500,
   "metadata": {},
   "outputs": [],
   "source": [
    "col_filter=driver.find_element_by_xpath(\"/html/body/div[2]/div/div[1]/main/div[3]/div[1]/section/div/div[6]/ul/li[1]/label/div\")\n",
    "col_filter.click()"
   ]
  },
  {
   "cell_type": "code",
   "execution_count": 501,
   "metadata": {},
   "outputs": [
    {
     "data": {
      "text/plain": [
       "50"
      ]
     },
     "execution_count": 501,
     "metadata": {},
     "output_type": "execute_result"
    }
   ],
   "source": [
    "\n",
    "#### extracting product brand\n",
    "brand_name=driver.find_elements_by_xpath(\"//h3[@class='product-brand']\")\n",
    "len(brand_name)"
   ]
  },
  {
   "cell_type": "code",
   "execution_count": 502,
   "metadata": {
    "scrolled": true
   },
   "outputs": [
    {
     "data": {
      "text/plain": [
       "[<selenium.webdriver.remote.webelement.WebElement (session=\"eebdf315801fb8030942b5ac158ec2ff\", element=\"1bc80b42-7dc2-4241-9ab9-8ebc70723b6e\")>,\n",
       " <selenium.webdriver.remote.webelement.WebElement (session=\"eebdf315801fb8030942b5ac158ec2ff\", element=\"76277b8e-4b75-40dd-8dfc-91c69a737497\")>,\n",
       " <selenium.webdriver.remote.webelement.WebElement (session=\"eebdf315801fb8030942b5ac158ec2ff\", element=\"1997feaa-5b41-4fac-be66-eefb3e0424c2\")>,\n",
       " <selenium.webdriver.remote.webelement.WebElement (session=\"eebdf315801fb8030942b5ac158ec2ff\", element=\"d592a7e9-915b-4261-b2a7-f3a7ff103a1d\")>,\n",
       " <selenium.webdriver.remote.webelement.WebElement (session=\"eebdf315801fb8030942b5ac158ec2ff\", element=\"62cb4956-f074-4bc9-b6e4-73a062a6cba7\")>,\n",
       " <selenium.webdriver.remote.webelement.WebElement (session=\"eebdf315801fb8030942b5ac158ec2ff\", element=\"66f874c6-c055-4aef-82e5-ce20af7ecc12\")>,\n",
       " <selenium.webdriver.remote.webelement.WebElement (session=\"eebdf315801fb8030942b5ac158ec2ff\", element=\"9d5d7078-d229-4029-80b1-6ef66363d493\")>,\n",
       " <selenium.webdriver.remote.webelement.WebElement (session=\"eebdf315801fb8030942b5ac158ec2ff\", element=\"872e2c51-d45d-4875-ad5f-29039400d090\")>,\n",
       " <selenium.webdriver.remote.webelement.WebElement (session=\"eebdf315801fb8030942b5ac158ec2ff\", element=\"dedf8583-3e9c-42d2-bba2-b8686ccbefb2\")>,\n",
       " <selenium.webdriver.remote.webelement.WebElement (session=\"eebdf315801fb8030942b5ac158ec2ff\", element=\"56fe3caf-d80d-4aac-b599-59f53f86e509\")>,\n",
       " <selenium.webdriver.remote.webelement.WebElement (session=\"eebdf315801fb8030942b5ac158ec2ff\", element=\"3a66b541-c268-4f52-ae73-97dbce255335\")>,\n",
       " <selenium.webdriver.remote.webelement.WebElement (session=\"eebdf315801fb8030942b5ac158ec2ff\", element=\"120ca857-b11b-409f-ba75-8388da31ad17\")>,\n",
       " <selenium.webdriver.remote.webelement.WebElement (session=\"eebdf315801fb8030942b5ac158ec2ff\", element=\"f64690ba-0d94-4ec3-b54d-fd232ab54b6b\")>,\n",
       " <selenium.webdriver.remote.webelement.WebElement (session=\"eebdf315801fb8030942b5ac158ec2ff\", element=\"32b99bcf-7197-4b1e-ad5e-8e91b38e9040\")>,\n",
       " <selenium.webdriver.remote.webelement.WebElement (session=\"eebdf315801fb8030942b5ac158ec2ff\", element=\"97a1c12a-12a7-4eb1-883e-f09eb84ffdd0\")>,\n",
       " <selenium.webdriver.remote.webelement.WebElement (session=\"eebdf315801fb8030942b5ac158ec2ff\", element=\"54c32ac7-835e-4083-80ed-6ecc54771280\")>,\n",
       " <selenium.webdriver.remote.webelement.WebElement (session=\"eebdf315801fb8030942b5ac158ec2ff\", element=\"0a3f206f-09bb-4e91-9f0a-982884679c23\")>,\n",
       " <selenium.webdriver.remote.webelement.WebElement (session=\"eebdf315801fb8030942b5ac158ec2ff\", element=\"b6d037a5-23c4-40e0-8d59-c8379f226943\")>,\n",
       " <selenium.webdriver.remote.webelement.WebElement (session=\"eebdf315801fb8030942b5ac158ec2ff\", element=\"9a505ec0-bead-4b61-add1-a6c3db8e09fb\")>,\n",
       " <selenium.webdriver.remote.webelement.WebElement (session=\"eebdf315801fb8030942b5ac158ec2ff\", element=\"413864e1-bf68-42c0-8425-b38d38c5831f\")>,\n",
       " <selenium.webdriver.remote.webelement.WebElement (session=\"eebdf315801fb8030942b5ac158ec2ff\", element=\"772eb1a7-2a90-4b9f-bd3a-75a442958b7f\")>,\n",
       " <selenium.webdriver.remote.webelement.WebElement (session=\"eebdf315801fb8030942b5ac158ec2ff\", element=\"a34bcab3-f667-4210-8015-0e23353cca42\")>,\n",
       " <selenium.webdriver.remote.webelement.WebElement (session=\"eebdf315801fb8030942b5ac158ec2ff\", element=\"10d81011-8297-4b6b-b26d-d0e6c3562778\")>,\n",
       " <selenium.webdriver.remote.webelement.WebElement (session=\"eebdf315801fb8030942b5ac158ec2ff\", element=\"a286f3e1-4d20-4e1b-8942-176f7a558426\")>,\n",
       " <selenium.webdriver.remote.webelement.WebElement (session=\"eebdf315801fb8030942b5ac158ec2ff\", element=\"fb249fa7-1f7d-4e0a-87ff-93db7ba16a93\")>,\n",
       " <selenium.webdriver.remote.webelement.WebElement (session=\"eebdf315801fb8030942b5ac158ec2ff\", element=\"358e2185-6e55-43c5-869d-deaeda12a2c8\")>,\n",
       " <selenium.webdriver.remote.webelement.WebElement (session=\"eebdf315801fb8030942b5ac158ec2ff\", element=\"841d1fca-ab8d-4942-bbf8-5577641bcda8\")>,\n",
       " <selenium.webdriver.remote.webelement.WebElement (session=\"eebdf315801fb8030942b5ac158ec2ff\", element=\"fd037dad-4a91-4b02-a815-0a0664999e1c\")>,\n",
       " <selenium.webdriver.remote.webelement.WebElement (session=\"eebdf315801fb8030942b5ac158ec2ff\", element=\"455d8473-5780-4ed4-9b10-e34671243ff6\")>,\n",
       " <selenium.webdriver.remote.webelement.WebElement (session=\"eebdf315801fb8030942b5ac158ec2ff\", element=\"4b209cc7-6d6d-47cb-a180-86252c570b9b\")>,\n",
       " <selenium.webdriver.remote.webelement.WebElement (session=\"eebdf315801fb8030942b5ac158ec2ff\", element=\"7607a27d-cc1b-4e1e-b103-b8c5ba30d285\")>,\n",
       " <selenium.webdriver.remote.webelement.WebElement (session=\"eebdf315801fb8030942b5ac158ec2ff\", element=\"e5b27a93-bd4a-4ebe-b501-3dee13ebe5a1\")>,\n",
       " <selenium.webdriver.remote.webelement.WebElement (session=\"eebdf315801fb8030942b5ac158ec2ff\", element=\"3750d997-5d40-4c74-bc05-30b6de74521c\")>,\n",
       " <selenium.webdriver.remote.webelement.WebElement (session=\"eebdf315801fb8030942b5ac158ec2ff\", element=\"32c17c4f-ea7b-4174-bdb6-79943a6e4703\")>,\n",
       " <selenium.webdriver.remote.webelement.WebElement (session=\"eebdf315801fb8030942b5ac158ec2ff\", element=\"ba499213-d937-47a6-bebf-3210edc1eec1\")>,\n",
       " <selenium.webdriver.remote.webelement.WebElement (session=\"eebdf315801fb8030942b5ac158ec2ff\", element=\"82a50132-376e-460e-b7b7-deaccb630ec5\")>,\n",
       " <selenium.webdriver.remote.webelement.WebElement (session=\"eebdf315801fb8030942b5ac158ec2ff\", element=\"836d85ce-7d7f-4877-9ebe-d4146e9b9c3a\")>,\n",
       " <selenium.webdriver.remote.webelement.WebElement (session=\"eebdf315801fb8030942b5ac158ec2ff\", element=\"cec240c7-425b-4531-838c-8f2b6fd71621\")>,\n",
       " <selenium.webdriver.remote.webelement.WebElement (session=\"eebdf315801fb8030942b5ac158ec2ff\", element=\"46405e40-727a-4eb1-af62-a8d48b85ed92\")>,\n",
       " <selenium.webdriver.remote.webelement.WebElement (session=\"eebdf315801fb8030942b5ac158ec2ff\", element=\"22ba2647-9824-46f5-8c04-87294d1e221e\")>,\n",
       " <selenium.webdriver.remote.webelement.WebElement (session=\"eebdf315801fb8030942b5ac158ec2ff\", element=\"8d6512de-108b-4fdd-8570-0830063781cb\")>,\n",
       " <selenium.webdriver.remote.webelement.WebElement (session=\"eebdf315801fb8030942b5ac158ec2ff\", element=\"f8ece5cb-e999-42d7-b441-59d8114a0cdd\")>,\n",
       " <selenium.webdriver.remote.webelement.WebElement (session=\"eebdf315801fb8030942b5ac158ec2ff\", element=\"06842b59-b07f-4598-af86-647a9f4ac9c3\")>,\n",
       " <selenium.webdriver.remote.webelement.WebElement (session=\"eebdf315801fb8030942b5ac158ec2ff\", element=\"becdcf85-39a1-4658-947a-80b577b8bc1c\")>,\n",
       " <selenium.webdriver.remote.webelement.WebElement (session=\"eebdf315801fb8030942b5ac158ec2ff\", element=\"4b849d76-f3fa-4484-a557-b1917ffbda4e\")>,\n",
       " <selenium.webdriver.remote.webelement.WebElement (session=\"eebdf315801fb8030942b5ac158ec2ff\", element=\"088c356d-ab43-4ed7-9947-6c251afac08e\")>,\n",
       " <selenium.webdriver.remote.webelement.WebElement (session=\"eebdf315801fb8030942b5ac158ec2ff\", element=\"3cbe8c35-af89-45e6-855f-1bd9ea0e9aa3\")>,\n",
       " <selenium.webdriver.remote.webelement.WebElement (session=\"eebdf315801fb8030942b5ac158ec2ff\", element=\"e6e4892b-b0f1-417a-9f25-deb3eed4ff3a\")>,\n",
       " <selenium.webdriver.remote.webelement.WebElement (session=\"eebdf315801fb8030942b5ac158ec2ff\", element=\"f89996c6-6d1d-4811-9463-dd9b497cb675\")>,\n",
       " <selenium.webdriver.remote.webelement.WebElement (session=\"eebdf315801fb8030942b5ac158ec2ff\", element=\"6156686c-7da2-4c72-8411-97b13bede56c\")>]"
      ]
     },
     "execution_count": 502,
     "metadata": {},
     "output_type": "execute_result"
    }
   ],
   "source": [
    "brand_name"
   ]
  },
  {
   "cell_type": "code",
   "execution_count": 503,
   "metadata": {
    "scrolled": true
   },
   "outputs": [
    {
     "data": {
      "text/plain": [
       "['ALDO',\n",
       " 'ALDO',\n",
       " 'Nike',\n",
       " 'ALDO',\n",
       " 'ALDO',\n",
       " 'ALDO',\n",
       " 'ALDO',\n",
       " 'Skechers',\n",
       " 'Puma',\n",
       " 'Puma',\n",
       " 'Hush Puppies',\n",
       " 'Puma',\n",
       " 'ADIDAS',\n",
       " 'Puma',\n",
       " 'Skechers',\n",
       " 'PUMA Motorsport',\n",
       " 'Hush Puppies',\n",
       " 'ADIDAS',\n",
       " 'ASICS',\n",
       " 'Bugatti',\n",
       " 'PUMA Motorsport',\n",
       " 'Tommy Hilfiger',\n",
       " 'Bugatti',\n",
       " 'Hush Puppies',\n",
       " 'Clarks',\n",
       " 'ADIDAS',\n",
       " 'Saint G',\n",
       " 'Tommy Hilfiger',\n",
       " 'Puma',\n",
       " 'Bugatti',\n",
       " 'Bugatti',\n",
       " 'Bugatti',\n",
       " 'Puma',\n",
       " 'Columbia',\n",
       " 'ADIDAS Originals',\n",
       " 'Skechers',\n",
       " 'DEL MONDO',\n",
       " 'Bugatti',\n",
       " 'ROSSO BRUNELLO',\n",
       " 'ADIDAS',\n",
       " 'DAVINCHI',\n",
       " 'Bugatti',\n",
       " 'Puma',\n",
       " 'DAVINCHI',\n",
       " 'PERFLY By Decathlon',\n",
       " 'Puma',\n",
       " 'TRIBAN By Decathlon',\n",
       " 'Puma',\n",
       " 'Saint G',\n",
       " 'FILA']"
      ]
     },
     "execution_count": 503,
     "metadata": {},
     "output_type": "execute_result"
    }
   ],
   "source": [
    "brand=[]\n",
    "for i in brand_name:\n",
    "   brand.append(i.text)\n",
    "len(brand)  \n",
    "brand"
   ]
  },
  {
   "cell_type": "code",
   "execution_count": 504,
   "metadata": {},
   "outputs": [
    {
     "data": {
      "text/plain": [
       "50"
      ]
     },
     "execution_count": 504,
     "metadata": {},
     "output_type": "execute_result"
    }
   ],
   "source": [
    "\n",
    "#### extracting product description\n",
    "brand_descp=driver.find_elements_by_xpath(\"//h4[@class='product-product']\")\n",
    "len(brand_descp)"
   ]
  },
  {
   "cell_type": "code",
   "execution_count": 506,
   "metadata": {
    "scrolled": true
   },
   "outputs": [
    {
     "data": {
      "text/plain": [
       "[<selenium.webdriver.remote.webelement.WebElement (session=\"eebdf315801fb8030942b5ac158ec2ff\", element=\"b45847ad-9d3e-4a1e-b5df-f1f82a148c80\")>,\n",
       " <selenium.webdriver.remote.webelement.WebElement (session=\"eebdf315801fb8030942b5ac158ec2ff\", element=\"7f9e1af9-a93e-4132-827e-1bbc0712b737\")>,\n",
       " <selenium.webdriver.remote.webelement.WebElement (session=\"eebdf315801fb8030942b5ac158ec2ff\", element=\"b308e6b9-2636-4dd8-9e8f-1f0c0a44c08d\")>,\n",
       " <selenium.webdriver.remote.webelement.WebElement (session=\"eebdf315801fb8030942b5ac158ec2ff\", element=\"a6881c84-5750-48d7-a584-98da17ece1a9\")>,\n",
       " <selenium.webdriver.remote.webelement.WebElement (session=\"eebdf315801fb8030942b5ac158ec2ff\", element=\"ff5b039d-a661-47b5-8d0f-98e6af061c4a\")>,\n",
       " <selenium.webdriver.remote.webelement.WebElement (session=\"eebdf315801fb8030942b5ac158ec2ff\", element=\"b7be4c9e-640c-4178-9d20-a38c5bb38d61\")>,\n",
       " <selenium.webdriver.remote.webelement.WebElement (session=\"eebdf315801fb8030942b5ac158ec2ff\", element=\"fa840e72-56b4-4e78-86a1-d5f32d14ddee\")>,\n",
       " <selenium.webdriver.remote.webelement.WebElement (session=\"eebdf315801fb8030942b5ac158ec2ff\", element=\"fbc7816c-3ff6-4ea0-8421-7633a41ab18e\")>,\n",
       " <selenium.webdriver.remote.webelement.WebElement (session=\"eebdf315801fb8030942b5ac158ec2ff\", element=\"da3e96e2-2401-4e4b-a28e-9ae15e888718\")>,\n",
       " <selenium.webdriver.remote.webelement.WebElement (session=\"eebdf315801fb8030942b5ac158ec2ff\", element=\"05169c86-068b-4491-860a-8ec62f0161b7\")>,\n",
       " <selenium.webdriver.remote.webelement.WebElement (session=\"eebdf315801fb8030942b5ac158ec2ff\", element=\"f19264f9-30f5-4838-aa33-89ef7563c7d7\")>,\n",
       " <selenium.webdriver.remote.webelement.WebElement (session=\"eebdf315801fb8030942b5ac158ec2ff\", element=\"558eb460-81ee-4852-bea0-0d7ed9ea6dda\")>,\n",
       " <selenium.webdriver.remote.webelement.WebElement (session=\"eebdf315801fb8030942b5ac158ec2ff\", element=\"6324006f-c167-4f12-b906-45059ec3a6ae\")>,\n",
       " <selenium.webdriver.remote.webelement.WebElement (session=\"eebdf315801fb8030942b5ac158ec2ff\", element=\"16f0303c-c32c-4485-ad1d-153f9c2d0792\")>,\n",
       " <selenium.webdriver.remote.webelement.WebElement (session=\"eebdf315801fb8030942b5ac158ec2ff\", element=\"a3f648b0-2903-43ad-8eea-e5b635afbb13\")>,\n",
       " <selenium.webdriver.remote.webelement.WebElement (session=\"eebdf315801fb8030942b5ac158ec2ff\", element=\"d98fc9ab-fe80-4b10-933e-8bf30994e679\")>,\n",
       " <selenium.webdriver.remote.webelement.WebElement (session=\"eebdf315801fb8030942b5ac158ec2ff\", element=\"0c33d26a-9be5-426f-b580-76d37fc16073\")>,\n",
       " <selenium.webdriver.remote.webelement.WebElement (session=\"eebdf315801fb8030942b5ac158ec2ff\", element=\"7fc06343-2a68-42d0-9aad-3d35e34a313f\")>,\n",
       " <selenium.webdriver.remote.webelement.WebElement (session=\"eebdf315801fb8030942b5ac158ec2ff\", element=\"4c42a77b-5c0b-4f25-8ab2-ec2e220b4235\")>,\n",
       " <selenium.webdriver.remote.webelement.WebElement (session=\"eebdf315801fb8030942b5ac158ec2ff\", element=\"e0078edb-ac90-4e8c-9b0a-1a3c3d80e082\")>,\n",
       " <selenium.webdriver.remote.webelement.WebElement (session=\"eebdf315801fb8030942b5ac158ec2ff\", element=\"030e1c39-569c-46b2-ab8b-bac994beb668\")>,\n",
       " <selenium.webdriver.remote.webelement.WebElement (session=\"eebdf315801fb8030942b5ac158ec2ff\", element=\"5aef69fe-baf0-474f-9d22-80ae863b6ac9\")>,\n",
       " <selenium.webdriver.remote.webelement.WebElement (session=\"eebdf315801fb8030942b5ac158ec2ff\", element=\"7305d9a6-a803-4edc-9854-2d40d2254b8d\")>,\n",
       " <selenium.webdriver.remote.webelement.WebElement (session=\"eebdf315801fb8030942b5ac158ec2ff\", element=\"7bf10651-ed43-42b2-a021-8112361722db\")>,\n",
       " <selenium.webdriver.remote.webelement.WebElement (session=\"eebdf315801fb8030942b5ac158ec2ff\", element=\"a836efac-0e42-4e78-9ce3-f439c5be7b0b\")>,\n",
       " <selenium.webdriver.remote.webelement.WebElement (session=\"eebdf315801fb8030942b5ac158ec2ff\", element=\"7f0746c7-69d8-4ca5-bf4e-432f7454d7e7\")>,\n",
       " <selenium.webdriver.remote.webelement.WebElement (session=\"eebdf315801fb8030942b5ac158ec2ff\", element=\"d7850bb0-69a2-4ac4-a361-650566507dce\")>,\n",
       " <selenium.webdriver.remote.webelement.WebElement (session=\"eebdf315801fb8030942b5ac158ec2ff\", element=\"9c053ba2-c43b-4675-872e-7f513b364a38\")>,\n",
       " <selenium.webdriver.remote.webelement.WebElement (session=\"eebdf315801fb8030942b5ac158ec2ff\", element=\"0ea15856-0d24-4f91-bc84-ffce51338560\")>,\n",
       " <selenium.webdriver.remote.webelement.WebElement (session=\"eebdf315801fb8030942b5ac158ec2ff\", element=\"226a14e6-e60e-4db5-82b5-1f865d459f66\")>,\n",
       " <selenium.webdriver.remote.webelement.WebElement (session=\"eebdf315801fb8030942b5ac158ec2ff\", element=\"3e2f9aea-4e2c-4da9-a4be-544ff982c4ca\")>,\n",
       " <selenium.webdriver.remote.webelement.WebElement (session=\"eebdf315801fb8030942b5ac158ec2ff\", element=\"d49f42eb-9f02-4ed4-81c7-c354bbb50ec6\")>,\n",
       " <selenium.webdriver.remote.webelement.WebElement (session=\"eebdf315801fb8030942b5ac158ec2ff\", element=\"b353c07e-ee40-4c60-86a0-3fe6bc4b7989\")>,\n",
       " <selenium.webdriver.remote.webelement.WebElement (session=\"eebdf315801fb8030942b5ac158ec2ff\", element=\"14dd22d2-27f6-4a47-9cb3-d5adeb81febc\")>,\n",
       " <selenium.webdriver.remote.webelement.WebElement (session=\"eebdf315801fb8030942b5ac158ec2ff\", element=\"61b425c9-3306-4c34-baec-39e37048729e\")>,\n",
       " <selenium.webdriver.remote.webelement.WebElement (session=\"eebdf315801fb8030942b5ac158ec2ff\", element=\"10c04cdc-02ee-410c-aef2-35a886a3f36f\")>,\n",
       " <selenium.webdriver.remote.webelement.WebElement (session=\"eebdf315801fb8030942b5ac158ec2ff\", element=\"0896fdd9-ffc8-41f7-b6fe-5173693b51a9\")>,\n",
       " <selenium.webdriver.remote.webelement.WebElement (session=\"eebdf315801fb8030942b5ac158ec2ff\", element=\"d9e682bf-630b-419a-b6fa-e19da426403a\")>,\n",
       " <selenium.webdriver.remote.webelement.WebElement (session=\"eebdf315801fb8030942b5ac158ec2ff\", element=\"fd392460-7176-4201-8b10-302c2c53f8a1\")>,\n",
       " <selenium.webdriver.remote.webelement.WebElement (session=\"eebdf315801fb8030942b5ac158ec2ff\", element=\"3d19856a-2de5-45f8-b617-ad26ed1ebfc2\")>,\n",
       " <selenium.webdriver.remote.webelement.WebElement (session=\"eebdf315801fb8030942b5ac158ec2ff\", element=\"9a448843-1678-468b-aa0f-90be4fa1408a\")>,\n",
       " <selenium.webdriver.remote.webelement.WebElement (session=\"eebdf315801fb8030942b5ac158ec2ff\", element=\"f79683ba-d18e-47fa-8a0e-061c8f2ac0bc\")>,\n",
       " <selenium.webdriver.remote.webelement.WebElement (session=\"eebdf315801fb8030942b5ac158ec2ff\", element=\"e19b8800-5cd6-491c-9091-787be00e229d\")>,\n",
       " <selenium.webdriver.remote.webelement.WebElement (session=\"eebdf315801fb8030942b5ac158ec2ff\", element=\"03b4d052-78c7-44c6-8128-17442424549f\")>,\n",
       " <selenium.webdriver.remote.webelement.WebElement (session=\"eebdf315801fb8030942b5ac158ec2ff\", element=\"e7182b95-4cf2-4f33-a24d-f8bbfa230b5a\")>,\n",
       " <selenium.webdriver.remote.webelement.WebElement (session=\"eebdf315801fb8030942b5ac158ec2ff\", element=\"af88309c-606e-4a11-a96d-88092ce822ec\")>,\n",
       " <selenium.webdriver.remote.webelement.WebElement (session=\"eebdf315801fb8030942b5ac158ec2ff\", element=\"a0c17806-ae1b-4f4c-ade8-e89be5620744\")>,\n",
       " <selenium.webdriver.remote.webelement.WebElement (session=\"eebdf315801fb8030942b5ac158ec2ff\", element=\"81d064f3-cca8-4fa3-b4a6-71b525c201dd\")>,\n",
       " <selenium.webdriver.remote.webelement.WebElement (session=\"eebdf315801fb8030942b5ac158ec2ff\", element=\"06091d8d-ea34-4512-95dc-be3c3ff7caa9\")>,\n",
       " <selenium.webdriver.remote.webelement.WebElement (session=\"eebdf315801fb8030942b5ac158ec2ff\", element=\"93d6cef5-687d-4f23-8702-58ce559f9c31\")>]"
      ]
     },
     "execution_count": 506,
     "metadata": {},
     "output_type": "execute_result"
    }
   ],
   "source": [
    "brand_descp"
   ]
  },
  {
   "cell_type": "code",
   "execution_count": 507,
   "metadata": {
    "scrolled": true
   },
   "outputs": [
    {
     "data": {
      "text/plain": [
       "['Men Sneakers',\n",
       " 'Men Driving Shoes',\n",
       " 'Men Zoom Fly 4 Running Shoes',\n",
       " 'Men Leather Loafers',\n",
       " 'Men Printed Sneakers',\n",
       " 'Men Woven Design Sneakers',\n",
       " 'Men Leather Driving Shoes',\n",
       " 'Men Max Cushioning Running',\n",
       " 'Men Jamming 2.0 Running Shoes',\n",
       " 'Men Colourblocked RS-Z Core',\n",
       " 'Men Solid Leather Formal Slip-Ons',\n",
       " 'Electrify Nitro Running Shoes',\n",
       " 'Men Dropset Training Shoes',\n",
       " 'Eternity Nitro Running Shoes',\n",
       " 'Men Walking Shoes',\n",
       " 'Unisex Ferrari IONSpeed',\n",
       " 'Men Solid Leather Formal Derbys',\n",
       " 'Men Sl20.3 Running Shoes',\n",
       " 'Men Running Shoes',\n",
       " 'Men Solid Sneakers',\n",
       " 'Unisex Speed Fusion Sneakers',\n",
       " 'Men Textured Loafers',\n",
       " 'Men Black Formal Derby Shoes',\n",
       " 'Men Solid Leather Formal Slip-Ons',\n",
       " 'Men Leather Derbys',\n",
       " 'Men Solar Glide 5 Running Shoe',\n",
       " 'Women Leather Kitten Heels',\n",
       " 'Men Leather Sneakers',\n",
       " 'Women Velocity NITRO Runners',\n",
       " 'Men Solid Formal Oxfords',\n",
       " 'Men Solid Leather Formal Derbys',\n",
       " 'Men Black Walking Shoes',\n",
       " 'Men KING Top Football Shoes',\n",
       " 'Men FACET OUTDRY Trekking Shoe',\n",
       " 'Women New Her Court Sneakers',\n",
       " 'Men Sky Vault Walking Shoes',\n",
       " 'Men Leather Sneakers',\n",
       " 'Men Leather Driving Shoes',\n",
       " 'Men Solid Leather Formal Derbys',\n",
       " 'Women Dropset Training Shoes',\n",
       " 'Men Solid Leather Formal Loafers',\n",
       " 'Men Leather Monks',\n",
       " 'Women LQDC OP Training Shoes',\n",
       " 'Men Solid Leather Formal Derbys',\n",
       " 'Men Textile Badminton Shoes',\n",
       " 'Unisex KING Top FG Shoes',\n",
       " 'Unisex Training or Gym Shoes',\n",
       " 'Women Eternity NITRO Shoes',\n",
       " 'Women Leather Block Heels',\n",
       " 'Women Colourblocked Leather Sneakers']"
      ]
     },
     "execution_count": 507,
     "metadata": {},
     "output_type": "execute_result"
    }
   ],
   "source": [
    "Description=[]\n",
    "for i in brand_descp:\n",
    "   Description.append(i.text)\n",
    "len(Description)  \n",
    "Description"
   ]
  },
  {
   "cell_type": "code",
   "execution_count": 508,
   "metadata": {},
   "outputs": [
    {
     "data": {
      "text/plain": [
       "29"
      ]
     },
     "execution_count": 508,
     "metadata": {},
     "output_type": "execute_result"
    }
   ],
   "source": [
    "\n",
    "#### extracting product price\n",
    "brand_price=driver.find_elements_by_xpath(\"//span[@class='product-discountedPrice']\")\n",
    "len(brand_price)"
   ]
  },
  {
   "cell_type": "code",
   "execution_count": 509,
   "metadata": {
    "scrolled": true
   },
   "outputs": [
    {
     "data": {
      "text/plain": [
       "[<selenium.webdriver.remote.webelement.WebElement (session=\"eebdf315801fb8030942b5ac158ec2ff\", element=\"fd351ad3-c01d-4a32-87a0-62c2a5414c34\")>,\n",
       " <selenium.webdriver.remote.webelement.WebElement (session=\"eebdf315801fb8030942b5ac158ec2ff\", element=\"c36d2de4-8227-43ee-92ec-f0043c2f6042\")>,\n",
       " <selenium.webdriver.remote.webelement.WebElement (session=\"eebdf315801fb8030942b5ac158ec2ff\", element=\"418b8338-b085-4b09-b30c-55bb7164d59d\")>,\n",
       " <selenium.webdriver.remote.webelement.WebElement (session=\"eebdf315801fb8030942b5ac158ec2ff\", element=\"20c35e76-b273-4f55-b8ad-35b4524f08d3\")>,\n",
       " <selenium.webdriver.remote.webelement.WebElement (session=\"eebdf315801fb8030942b5ac158ec2ff\", element=\"a39ba334-d1da-4901-8f8f-4bee3023c349\")>,\n",
       " <selenium.webdriver.remote.webelement.WebElement (session=\"eebdf315801fb8030942b5ac158ec2ff\", element=\"44ada3d4-208d-4eeb-91e3-3da14c9a5aab\")>,\n",
       " <selenium.webdriver.remote.webelement.WebElement (session=\"eebdf315801fb8030942b5ac158ec2ff\", element=\"241a7ac0-e30c-48e4-a5ef-b7ae6b655544\")>,\n",
       " <selenium.webdriver.remote.webelement.WebElement (session=\"eebdf315801fb8030942b5ac158ec2ff\", element=\"09d07d0e-e794-41c4-abb1-5f94c1d5966d\")>,\n",
       " <selenium.webdriver.remote.webelement.WebElement (session=\"eebdf315801fb8030942b5ac158ec2ff\", element=\"4dabc4ae-9e4a-46b4-9a73-c5cc057b2d69\")>,\n",
       " <selenium.webdriver.remote.webelement.WebElement (session=\"eebdf315801fb8030942b5ac158ec2ff\", element=\"a1a99a2b-3356-494d-9e18-1d020179b69c\")>,\n",
       " <selenium.webdriver.remote.webelement.WebElement (session=\"eebdf315801fb8030942b5ac158ec2ff\", element=\"32436ef2-5717-4eac-8cb2-a886d00d6941\")>,\n",
       " <selenium.webdriver.remote.webelement.WebElement (session=\"eebdf315801fb8030942b5ac158ec2ff\", element=\"79588ad6-252a-4cb6-a03a-8f17548476dc\")>,\n",
       " <selenium.webdriver.remote.webelement.WebElement (session=\"eebdf315801fb8030942b5ac158ec2ff\", element=\"294684ca-1dea-4a04-ab15-f73ee8aac4ea\")>,\n",
       " <selenium.webdriver.remote.webelement.WebElement (session=\"eebdf315801fb8030942b5ac158ec2ff\", element=\"8a4eb5d1-8d06-47c7-a999-705d0c31ef90\")>,\n",
       " <selenium.webdriver.remote.webelement.WebElement (session=\"eebdf315801fb8030942b5ac158ec2ff\", element=\"e807a2fa-b52e-45c2-ab9a-3d0fd38817c4\")>,\n",
       " <selenium.webdriver.remote.webelement.WebElement (session=\"eebdf315801fb8030942b5ac158ec2ff\", element=\"9abbf178-f4a5-4241-be27-1aba48176633\")>,\n",
       " <selenium.webdriver.remote.webelement.WebElement (session=\"eebdf315801fb8030942b5ac158ec2ff\", element=\"2696f1a6-220e-4f3b-ac4f-f45e2eb2d470\")>,\n",
       " <selenium.webdriver.remote.webelement.WebElement (session=\"eebdf315801fb8030942b5ac158ec2ff\", element=\"26251378-92ab-4307-ac6f-381a74d4a0e7\")>,\n",
       " <selenium.webdriver.remote.webelement.WebElement (session=\"eebdf315801fb8030942b5ac158ec2ff\", element=\"c3cca1a7-94d7-456d-aa71-21a2ab868208\")>,\n",
       " <selenium.webdriver.remote.webelement.WebElement (session=\"eebdf315801fb8030942b5ac158ec2ff\", element=\"8851720e-d156-48e0-bf75-5826b415fa47\")>,\n",
       " <selenium.webdriver.remote.webelement.WebElement (session=\"eebdf315801fb8030942b5ac158ec2ff\", element=\"ffe619fe-8247-4393-855d-e43238ee7d42\")>,\n",
       " <selenium.webdriver.remote.webelement.WebElement (session=\"eebdf315801fb8030942b5ac158ec2ff\", element=\"1035f4cc-c4de-4e3f-8142-d7c2c0aa929d\")>,\n",
       " <selenium.webdriver.remote.webelement.WebElement (session=\"eebdf315801fb8030942b5ac158ec2ff\", element=\"a9b5b1f2-aee1-4718-9336-5157170d1499\")>,\n",
       " <selenium.webdriver.remote.webelement.WebElement (session=\"eebdf315801fb8030942b5ac158ec2ff\", element=\"1c301da2-6f52-435a-8066-14a46146aa2d\")>,\n",
       " <selenium.webdriver.remote.webelement.WebElement (session=\"eebdf315801fb8030942b5ac158ec2ff\", element=\"3a737fd1-3a87-4bc7-bc8e-a4febc6122a8\")>,\n",
       " <selenium.webdriver.remote.webelement.WebElement (session=\"eebdf315801fb8030942b5ac158ec2ff\", element=\"8d61612e-2cfe-4347-bae6-aa8f38035281\")>,\n",
       " <selenium.webdriver.remote.webelement.WebElement (session=\"eebdf315801fb8030942b5ac158ec2ff\", element=\"171459bd-f7f1-424f-971d-6daa7fe6e8f5\")>,\n",
       " <selenium.webdriver.remote.webelement.WebElement (session=\"eebdf315801fb8030942b5ac158ec2ff\", element=\"4e919463-6e2f-4024-87bd-6dca46b8c1b7\")>,\n",
       " <selenium.webdriver.remote.webelement.WebElement (session=\"eebdf315801fb8030942b5ac158ec2ff\", element=\"469ba445-ecf2-432b-8a33-2d09c73f22db\")>]"
      ]
     },
     "execution_count": 509,
     "metadata": {},
     "output_type": "execute_result"
    }
   ],
   "source": [
    "brand_price"
   ]
  },
  {
   "cell_type": "code",
   "execution_count": 510,
   "metadata": {
    "scrolled": true
   },
   "outputs": [
    {
     "data": {
      "text/plain": [
       "['Rs. 8399',\n",
       " 'Rs. 13045',\n",
       " 'Rs. 11199',\n",
       " 'Rs. 9099',\n",
       " 'Rs. 10499',\n",
       " 'Rs. 7649',\n",
       " 'Rs. 11049',\n",
       " 'Rs. 8499',\n",
       " 'Rs. 7649',\n",
       " 'Rs. 8499',\n",
       " 'Rs. 10399',\n",
       " 'Rs. 10399',\n",
       " 'Rs. 7199',\n",
       " 'Rs. 7649',\n",
       " 'Rs. 8499',\n",
       " 'Rs. 10199',\n",
       " 'Rs. 8499',\n",
       " 'Rs. 11199',\n",
       " 'Rs. 7699',\n",
       " 'Rs. 7199',\n",
       " 'Rs. 10199',\n",
       " 'Rs. 8249',\n",
       " 'Rs. 10399',\n",
       " 'Rs. 8499',\n",
       " 'Rs. 9211',\n",
       " 'Rs. 8399',\n",
       " 'Rs. 8029',\n",
       " 'Rs. 7799',\n",
       " 'Rs. 8550']"
      ]
     },
     "execution_count": 510,
     "metadata": {},
     "output_type": "execute_result"
    }
   ],
   "source": [
    "Price=[]\n",
    "for i in brand_price:\n",
    "   Price.append(i.text)\n",
    "len(Price)  \n",
    "Price"
   ]
  },
  {
   "cell_type": "code",
   "execution_count": 512,
   "metadata": {},
   "outputs": [
    {
     "data": {
      "text/plain": [
       "50"
      ]
     },
     "execution_count": 512,
     "metadata": {},
     "output_type": "execute_result"
    }
   ],
   "source": [
    "#### extracting product price\n",
    "brand_price_1_1=driver.find_elements_by_xpath(\"//div[@class='product-price']\")\n",
    "len(brand_price_1_1)"
   ]
  },
  {
   "cell_type": "code",
   "execution_count": 515,
   "metadata": {
    "scrolled": true
   },
   "outputs": [
    {
     "data": {
      "text/plain": [
       "[<selenium.webdriver.remote.webelement.WebElement (session=\"eebdf315801fb8030942b5ac158ec2ff\", element=\"f755b77c-9200-49e3-bb3f-8467774130ed\")>,\n",
       " <selenium.webdriver.remote.webelement.WebElement (session=\"eebdf315801fb8030942b5ac158ec2ff\", element=\"c9b80daa-657e-4cf4-a622-69617d7d0c78\")>,\n",
       " <selenium.webdriver.remote.webelement.WebElement (session=\"eebdf315801fb8030942b5ac158ec2ff\", element=\"7c46d6d7-ea91-4cb2-ac8b-6c004d2039d4\")>,\n",
       " <selenium.webdriver.remote.webelement.WebElement (session=\"eebdf315801fb8030942b5ac158ec2ff\", element=\"fc3c9387-ab09-4c3b-8040-2ac483c42b0d\")>,\n",
       " <selenium.webdriver.remote.webelement.WebElement (session=\"eebdf315801fb8030942b5ac158ec2ff\", element=\"c1319f36-5d7b-4fe6-9f3f-c7dc1266dc7d\")>,\n",
       " <selenium.webdriver.remote.webelement.WebElement (session=\"eebdf315801fb8030942b5ac158ec2ff\", element=\"0ca2fb73-856a-43a7-a3c9-c270264d359e\")>,\n",
       " <selenium.webdriver.remote.webelement.WebElement (session=\"eebdf315801fb8030942b5ac158ec2ff\", element=\"29f1a792-3d94-4693-8c11-790bd0b00b16\")>,\n",
       " <selenium.webdriver.remote.webelement.WebElement (session=\"eebdf315801fb8030942b5ac158ec2ff\", element=\"98ad8a1a-bc85-4b25-8399-0c02b4689201\")>,\n",
       " <selenium.webdriver.remote.webelement.WebElement (session=\"eebdf315801fb8030942b5ac158ec2ff\", element=\"386790f8-b967-488a-8893-754af78e39a7\")>,\n",
       " <selenium.webdriver.remote.webelement.WebElement (session=\"eebdf315801fb8030942b5ac158ec2ff\", element=\"9d0a46af-a416-404a-83b0-89bb492d0406\")>,\n",
       " <selenium.webdriver.remote.webelement.WebElement (session=\"eebdf315801fb8030942b5ac158ec2ff\", element=\"affd11dc-f00a-490e-ae6c-e1a925299335\")>,\n",
       " <selenium.webdriver.remote.webelement.WebElement (session=\"eebdf315801fb8030942b5ac158ec2ff\", element=\"2060f29c-8d9f-4919-9e32-b18bc76de0b3\")>,\n",
       " <selenium.webdriver.remote.webelement.WebElement (session=\"eebdf315801fb8030942b5ac158ec2ff\", element=\"a19f327f-efd2-4e3f-93d5-4b6dbb410359\")>,\n",
       " <selenium.webdriver.remote.webelement.WebElement (session=\"eebdf315801fb8030942b5ac158ec2ff\", element=\"1e7fca68-d510-454f-9c35-efde72fad008\")>,\n",
       " <selenium.webdriver.remote.webelement.WebElement (session=\"eebdf315801fb8030942b5ac158ec2ff\", element=\"9c89f3c4-1f2d-4060-a42e-6d7b22d6e866\")>,\n",
       " <selenium.webdriver.remote.webelement.WebElement (session=\"eebdf315801fb8030942b5ac158ec2ff\", element=\"5c21c10e-85af-4a17-a78a-8018d4e6f280\")>,\n",
       " <selenium.webdriver.remote.webelement.WebElement (session=\"eebdf315801fb8030942b5ac158ec2ff\", element=\"9d8e3f08-804c-4bad-8b09-bd20e56490dd\")>,\n",
       " <selenium.webdriver.remote.webelement.WebElement (session=\"eebdf315801fb8030942b5ac158ec2ff\", element=\"2dff22f8-f506-4e33-b34e-790765a7b2df\")>,\n",
       " <selenium.webdriver.remote.webelement.WebElement (session=\"eebdf315801fb8030942b5ac158ec2ff\", element=\"14052b7f-c1f8-4041-ba00-96e1b397d33c\")>,\n",
       " <selenium.webdriver.remote.webelement.WebElement (session=\"eebdf315801fb8030942b5ac158ec2ff\", element=\"4b995445-c761-4da0-8ae1-02239385f532\")>,\n",
       " <selenium.webdriver.remote.webelement.WebElement (session=\"eebdf315801fb8030942b5ac158ec2ff\", element=\"270aa8fb-70cb-4b85-a9ab-81837658149f\")>,\n",
       " <selenium.webdriver.remote.webelement.WebElement (session=\"eebdf315801fb8030942b5ac158ec2ff\", element=\"705efdbc-807b-448f-82df-962fe22bb06a\")>,\n",
       " <selenium.webdriver.remote.webelement.WebElement (session=\"eebdf315801fb8030942b5ac158ec2ff\", element=\"5ccfe0cc-c7e7-4b7c-94fc-5706e4b3b457\")>,\n",
       " <selenium.webdriver.remote.webelement.WebElement (session=\"eebdf315801fb8030942b5ac158ec2ff\", element=\"48be921c-57b8-4290-aaf8-ffaa03074e81\")>,\n",
       " <selenium.webdriver.remote.webelement.WebElement (session=\"eebdf315801fb8030942b5ac158ec2ff\", element=\"cf38fcfd-a57d-4b25-a5c5-df243c9e8f35\")>,\n",
       " <selenium.webdriver.remote.webelement.WebElement (session=\"eebdf315801fb8030942b5ac158ec2ff\", element=\"3d0ed729-f55b-4660-a90b-328b2c6a2381\")>,\n",
       " <selenium.webdriver.remote.webelement.WebElement (session=\"eebdf315801fb8030942b5ac158ec2ff\", element=\"1a1e532a-c18b-41c0-a520-d0cf069f10ea\")>,\n",
       " <selenium.webdriver.remote.webelement.WebElement (session=\"eebdf315801fb8030942b5ac158ec2ff\", element=\"51b2505a-6edc-464c-b980-fdcd3918f7d5\")>,\n",
       " <selenium.webdriver.remote.webelement.WebElement (session=\"eebdf315801fb8030942b5ac158ec2ff\", element=\"f3fafb2a-a849-40e9-9474-8137d2b6b843\")>,\n",
       " <selenium.webdriver.remote.webelement.WebElement (session=\"eebdf315801fb8030942b5ac158ec2ff\", element=\"f0eef951-72c3-4cff-9ba6-91eec599efb9\")>,\n",
       " <selenium.webdriver.remote.webelement.WebElement (session=\"eebdf315801fb8030942b5ac158ec2ff\", element=\"32356455-5c9b-4783-8fb6-0501ed4abb25\")>,\n",
       " <selenium.webdriver.remote.webelement.WebElement (session=\"eebdf315801fb8030942b5ac158ec2ff\", element=\"22fd093b-476a-45fd-8f4f-b1ab31cbfacf\")>,\n",
       " <selenium.webdriver.remote.webelement.WebElement (session=\"eebdf315801fb8030942b5ac158ec2ff\", element=\"ac679a97-01fe-4d08-8d51-f2cac365a757\")>,\n",
       " <selenium.webdriver.remote.webelement.WebElement (session=\"eebdf315801fb8030942b5ac158ec2ff\", element=\"2df84585-b5ce-4be9-b0b0-5eb626a136df\")>,\n",
       " <selenium.webdriver.remote.webelement.WebElement (session=\"eebdf315801fb8030942b5ac158ec2ff\", element=\"7bb6b1e4-e8e8-4e35-8e4f-84670783b525\")>,\n",
       " <selenium.webdriver.remote.webelement.WebElement (session=\"eebdf315801fb8030942b5ac158ec2ff\", element=\"0d33626a-106f-450a-92f6-82c638b46969\")>,\n",
       " <selenium.webdriver.remote.webelement.WebElement (session=\"eebdf315801fb8030942b5ac158ec2ff\", element=\"c03a2e95-4415-4dd6-9304-b18fa2fe03f0\")>,\n",
       " <selenium.webdriver.remote.webelement.WebElement (session=\"eebdf315801fb8030942b5ac158ec2ff\", element=\"15886944-1c34-41fe-8096-39d10ad013b8\")>,\n",
       " <selenium.webdriver.remote.webelement.WebElement (session=\"eebdf315801fb8030942b5ac158ec2ff\", element=\"745f015d-0c90-494b-9692-aa96402e8611\")>,\n",
       " <selenium.webdriver.remote.webelement.WebElement (session=\"eebdf315801fb8030942b5ac158ec2ff\", element=\"7a964d8b-76d3-4091-9b8f-9d6c49451ad1\")>,\n",
       " <selenium.webdriver.remote.webelement.WebElement (session=\"eebdf315801fb8030942b5ac158ec2ff\", element=\"93f28fcb-a0c6-4254-91f6-8629e5a52d8a\")>,\n",
       " <selenium.webdriver.remote.webelement.WebElement (session=\"eebdf315801fb8030942b5ac158ec2ff\", element=\"b9d5c9cd-6830-48b2-92fc-29012be713d6\")>,\n",
       " <selenium.webdriver.remote.webelement.WebElement (session=\"eebdf315801fb8030942b5ac158ec2ff\", element=\"96cdcb68-07ac-4f73-bf2e-c43b3d07dd7e\")>,\n",
       " <selenium.webdriver.remote.webelement.WebElement (session=\"eebdf315801fb8030942b5ac158ec2ff\", element=\"a4044436-145c-4287-944a-c4a36dfa3b8c\")>,\n",
       " <selenium.webdriver.remote.webelement.WebElement (session=\"eebdf315801fb8030942b5ac158ec2ff\", element=\"2e5a40d0-62f5-4374-bb82-32ec86eb9019\")>,\n",
       " <selenium.webdriver.remote.webelement.WebElement (session=\"eebdf315801fb8030942b5ac158ec2ff\", element=\"98089749-8449-4238-8043-f5aa42212f5b\")>,\n",
       " <selenium.webdriver.remote.webelement.WebElement (session=\"eebdf315801fb8030942b5ac158ec2ff\", element=\"615f40ed-2143-4b94-a979-1c58e245c4a0\")>,\n",
       " <selenium.webdriver.remote.webelement.WebElement (session=\"eebdf315801fb8030942b5ac158ec2ff\", element=\"3c7eee82-9cd3-480e-9aad-fbea65e25705\")>,\n",
       " <selenium.webdriver.remote.webelement.WebElement (session=\"eebdf315801fb8030942b5ac158ec2ff\", element=\"3dee4298-46b0-48c6-8be2-32f3ad742318\")>,\n",
       " <selenium.webdriver.remote.webelement.WebElement (session=\"eebdf315801fb8030942b5ac158ec2ff\", element=\"b96c3cf1-86ab-4585-a180-907278c52b05\")>]"
      ]
     },
     "execution_count": 515,
     "metadata": {},
     "output_type": "execute_result"
    }
   ],
   "source": [
    "brand_price_1_1"
   ]
  },
  {
   "cell_type": "code",
   "execution_count": 516,
   "metadata": {
    "scrolled": true
   },
   "outputs": [
    {
     "data": {
      "text/plain": [
       "['Rs. 9999',\n",
       " 'Rs. 8399Rs. 11999(30% OFF)',\n",
       " 'Rs. 13045Rs. 14495(10% OFF)',\n",
       " 'Rs. 11199Rs. 15999(30% OFF)',\n",
       " 'Rs. 9099Rs. 12999(30% OFF)',\n",
       " 'Rs. 13999',\n",
       " 'Rs. 10499Rs. 14999(30% OFF)',\n",
       " 'Rs. 7649Rs. 8999(15% OFF)',\n",
       " 'Rs. 11049Rs. 12999(15% OFF)',\n",
       " 'Rs. 8499Rs. 9999(15% OFF)',\n",
       " 'Rs. 7649Rs. 8999(15% OFF)',\n",
       " 'Rs. 8499Rs. 9999(15% OFF)',\n",
       " 'Rs. 10399Rs. 12999(20% OFF)',\n",
       " 'Rs. 10399Rs. 12999(20% OFF)',\n",
       " 'Rs. 7199Rs. 8999(20% OFF)',\n",
       " 'Rs. 7649Rs. 8999(15% OFF)',\n",
       " 'Rs. 8499Rs. 9999(15% OFF)',\n",
       " 'Rs. 10199Rs. 11999(15% OFF)',\n",
       " 'Rs. 7999',\n",
       " 'Rs. 10499',\n",
       " 'Rs. 7999',\n",
       " 'Rs. 8999',\n",
       " 'Rs. 11999',\n",
       " 'Rs. 8499Rs. 9999(15% OFF)',\n",
       " 'Rs. 7499',\n",
       " 'Rs. 11199Rs. 13999(20% OFF)',\n",
       " 'Rs. 7500',\n",
       " 'Rs. 8599',\n",
       " 'Rs. 7699Rs. 10999(30% OFF)',\n",
       " 'Rs. 8999',\n",
       " 'Rs. 9499',\n",
       " 'Rs. 7199Rs. 8999(20% OFF)',\n",
       " 'Rs. 10199Rs. 11999(15% OFF)',\n",
       " 'Rs. 12999',\n",
       " 'Rs. 8249Rs. 10999(25% OFF)',\n",
       " 'Rs. 8999',\n",
       " 'Rs. 7890',\n",
       " 'Rs. 8499',\n",
       " 'Rs. 10999',\n",
       " 'Rs. 10399Rs. 12999(20% OFF)',\n",
       " 'Rs. 8490',\n",
       " 'Rs. 8999',\n",
       " 'Rs. 8499Rs. 9999(15% OFF)',\n",
       " 'Rs. 7990',\n",
       " 'Rs. 9211Rs. 9799(6% OFF)',\n",
       " 'Rs. 8399Rs. 11999(30% OFF)',\n",
       " 'Rs. 8029Rs. 10999(27% OFF)',\n",
       " 'Rs. 7799Rs. 12999(40% OFF)',\n",
       " 'Rs. 8550Rs. 9500(10% OFF)',\n",
       " 'Rs. 9999']"
      ]
     },
     "execution_count": 516,
     "metadata": {},
     "output_type": "execute_result"
    }
   ],
   "source": [
    "Price_1_1=[]\n",
    "for i in brand_price_1_1:\n",
    "   Price_1_1.append(i.text)\n",
    "len(Price_1_1)  \n",
    "Price_1_1"
   ]
  },
  {
   "cell_type": "code",
   "execution_count": 517,
   "metadata": {
    "scrolled": true
   },
   "outputs": [
    {
     "data": {
      "text/html": [
       "<div>\n",
       "<style scoped>\n",
       "    .dataframe tbody tr th:only-of-type {\n",
       "        vertical-align: middle;\n",
       "    }\n",
       "\n",
       "    .dataframe tbody tr th {\n",
       "        vertical-align: top;\n",
       "    }\n",
       "\n",
       "    .dataframe thead th {\n",
       "        text-align: right;\n",
       "    }\n",
       "</style>\n",
       "<table border=\"1\" class=\"dataframe\">\n",
       "  <thead>\n",
       "    <tr style=\"text-align: right;\">\n",
       "      <th></th>\n",
       "      <th>Brand_name</th>\n",
       "      <th>Brand_Description</th>\n",
       "      <th>Brand_Price</th>\n",
       "    </tr>\n",
       "  </thead>\n",
       "  <tbody>\n",
       "    <tr>\n",
       "      <th>0</th>\n",
       "      <td>ALDO</td>\n",
       "      <td>Men Sneakers</td>\n",
       "      <td>Rs. 9999</td>\n",
       "    </tr>\n",
       "    <tr>\n",
       "      <th>1</th>\n",
       "      <td>ALDO</td>\n",
       "      <td>Men Driving Shoes</td>\n",
       "      <td>Rs. 8399Rs. 11999(30% OFF)</td>\n",
       "    </tr>\n",
       "    <tr>\n",
       "      <th>2</th>\n",
       "      <td>Nike</td>\n",
       "      <td>Men Zoom Fly 4 Running Shoes</td>\n",
       "      <td>Rs. 13045Rs. 14495(10% OFF)</td>\n",
       "    </tr>\n",
       "    <tr>\n",
       "      <th>3</th>\n",
       "      <td>ALDO</td>\n",
       "      <td>Men Leather Loafers</td>\n",
       "      <td>Rs. 11199Rs. 15999(30% OFF)</td>\n",
       "    </tr>\n",
       "    <tr>\n",
       "      <th>4</th>\n",
       "      <td>ALDO</td>\n",
       "      <td>Men Printed Sneakers</td>\n",
       "      <td>Rs. 9099Rs. 12999(30% OFF)</td>\n",
       "    </tr>\n",
       "    <tr>\n",
       "      <th>5</th>\n",
       "      <td>ALDO</td>\n",
       "      <td>Men Woven Design Sneakers</td>\n",
       "      <td>Rs. 13999</td>\n",
       "    </tr>\n",
       "    <tr>\n",
       "      <th>6</th>\n",
       "      <td>ALDO</td>\n",
       "      <td>Men Leather Driving Shoes</td>\n",
       "      <td>Rs. 10499Rs. 14999(30% OFF)</td>\n",
       "    </tr>\n",
       "    <tr>\n",
       "      <th>7</th>\n",
       "      <td>Skechers</td>\n",
       "      <td>Men Max Cushioning Running</td>\n",
       "      <td>Rs. 7649Rs. 8999(15% OFF)</td>\n",
       "    </tr>\n",
       "    <tr>\n",
       "      <th>8</th>\n",
       "      <td>Puma</td>\n",
       "      <td>Men Jamming 2.0 Running Shoes</td>\n",
       "      <td>Rs. 11049Rs. 12999(15% OFF)</td>\n",
       "    </tr>\n",
       "    <tr>\n",
       "      <th>9</th>\n",
       "      <td>Puma</td>\n",
       "      <td>Men Colourblocked RS-Z Core</td>\n",
       "      <td>Rs. 8499Rs. 9999(15% OFF)</td>\n",
       "    </tr>\n",
       "    <tr>\n",
       "      <th>10</th>\n",
       "      <td>Hush Puppies</td>\n",
       "      <td>Men Solid Leather Formal Slip-Ons</td>\n",
       "      <td>Rs. 7649Rs. 8999(15% OFF)</td>\n",
       "    </tr>\n",
       "    <tr>\n",
       "      <th>11</th>\n",
       "      <td>Puma</td>\n",
       "      <td>Electrify Nitro Running Shoes</td>\n",
       "      <td>Rs. 8499Rs. 9999(15% OFF)</td>\n",
       "    </tr>\n",
       "    <tr>\n",
       "      <th>12</th>\n",
       "      <td>ADIDAS</td>\n",
       "      <td>Men Dropset Training Shoes</td>\n",
       "      <td>Rs. 10399Rs. 12999(20% OFF)</td>\n",
       "    </tr>\n",
       "    <tr>\n",
       "      <th>13</th>\n",
       "      <td>Puma</td>\n",
       "      <td>Eternity Nitro Running Shoes</td>\n",
       "      <td>Rs. 10399Rs. 12999(20% OFF)</td>\n",
       "    </tr>\n",
       "    <tr>\n",
       "      <th>14</th>\n",
       "      <td>Skechers</td>\n",
       "      <td>Men Walking Shoes</td>\n",
       "      <td>Rs. 7199Rs. 8999(20% OFF)</td>\n",
       "    </tr>\n",
       "    <tr>\n",
       "      <th>15</th>\n",
       "      <td>PUMA Motorsport</td>\n",
       "      <td>Unisex Ferrari IONSpeed</td>\n",
       "      <td>Rs. 7649Rs. 8999(15% OFF)</td>\n",
       "    </tr>\n",
       "    <tr>\n",
       "      <th>16</th>\n",
       "      <td>Hush Puppies</td>\n",
       "      <td>Men Solid Leather Formal Derbys</td>\n",
       "      <td>Rs. 8499Rs. 9999(15% OFF)</td>\n",
       "    </tr>\n",
       "    <tr>\n",
       "      <th>17</th>\n",
       "      <td>ADIDAS</td>\n",
       "      <td>Men Sl20.3 Running Shoes</td>\n",
       "      <td>Rs. 10199Rs. 11999(15% OFF)</td>\n",
       "    </tr>\n",
       "    <tr>\n",
       "      <th>18</th>\n",
       "      <td>ASICS</td>\n",
       "      <td>Men Running Shoes</td>\n",
       "      <td>Rs. 7999</td>\n",
       "    </tr>\n",
       "    <tr>\n",
       "      <th>19</th>\n",
       "      <td>Bugatti</td>\n",
       "      <td>Men Solid Sneakers</td>\n",
       "      <td>Rs. 10499</td>\n",
       "    </tr>\n",
       "    <tr>\n",
       "      <th>20</th>\n",
       "      <td>PUMA Motorsport</td>\n",
       "      <td>Unisex Speed Fusion Sneakers</td>\n",
       "      <td>Rs. 7999</td>\n",
       "    </tr>\n",
       "    <tr>\n",
       "      <th>21</th>\n",
       "      <td>Tommy Hilfiger</td>\n",
       "      <td>Men Textured Loafers</td>\n",
       "      <td>Rs. 8999</td>\n",
       "    </tr>\n",
       "    <tr>\n",
       "      <th>22</th>\n",
       "      <td>Bugatti</td>\n",
       "      <td>Men Black Formal Derby Shoes</td>\n",
       "      <td>Rs. 11999</td>\n",
       "    </tr>\n",
       "    <tr>\n",
       "      <th>23</th>\n",
       "      <td>Hush Puppies</td>\n",
       "      <td>Men Solid Leather Formal Slip-Ons</td>\n",
       "      <td>Rs. 8499Rs. 9999(15% OFF)</td>\n",
       "    </tr>\n",
       "    <tr>\n",
       "      <th>24</th>\n",
       "      <td>Clarks</td>\n",
       "      <td>Men Leather Derbys</td>\n",
       "      <td>Rs. 7499</td>\n",
       "    </tr>\n",
       "    <tr>\n",
       "      <th>25</th>\n",
       "      <td>ADIDAS</td>\n",
       "      <td>Men Solar Glide 5 Running Shoe</td>\n",
       "      <td>Rs. 11199Rs. 13999(20% OFF)</td>\n",
       "    </tr>\n",
       "    <tr>\n",
       "      <th>26</th>\n",
       "      <td>Saint G</td>\n",
       "      <td>Women Leather Kitten Heels</td>\n",
       "      <td>Rs. 7500</td>\n",
       "    </tr>\n",
       "    <tr>\n",
       "      <th>27</th>\n",
       "      <td>Tommy Hilfiger</td>\n",
       "      <td>Men Leather Sneakers</td>\n",
       "      <td>Rs. 8599</td>\n",
       "    </tr>\n",
       "    <tr>\n",
       "      <th>28</th>\n",
       "      <td>Puma</td>\n",
       "      <td>Women Velocity NITRO Runners</td>\n",
       "      <td>Rs. 7699Rs. 10999(30% OFF)</td>\n",
       "    </tr>\n",
       "    <tr>\n",
       "      <th>29</th>\n",
       "      <td>Bugatti</td>\n",
       "      <td>Men Solid Formal Oxfords</td>\n",
       "      <td>Rs. 8999</td>\n",
       "    </tr>\n",
       "    <tr>\n",
       "      <th>30</th>\n",
       "      <td>Bugatti</td>\n",
       "      <td>Men Solid Leather Formal Derbys</td>\n",
       "      <td>Rs. 9499</td>\n",
       "    </tr>\n",
       "    <tr>\n",
       "      <th>31</th>\n",
       "      <td>Bugatti</td>\n",
       "      <td>Men Black Walking Shoes</td>\n",
       "      <td>Rs. 7199Rs. 8999(20% OFF)</td>\n",
       "    </tr>\n",
       "    <tr>\n",
       "      <th>32</th>\n",
       "      <td>Puma</td>\n",
       "      <td>Men KING Top Football Shoes</td>\n",
       "      <td>Rs. 10199Rs. 11999(15% OFF)</td>\n",
       "    </tr>\n",
       "    <tr>\n",
       "      <th>33</th>\n",
       "      <td>Columbia</td>\n",
       "      <td>Men FACET OUTDRY Trekking Shoe</td>\n",
       "      <td>Rs. 12999</td>\n",
       "    </tr>\n",
       "    <tr>\n",
       "      <th>34</th>\n",
       "      <td>ADIDAS Originals</td>\n",
       "      <td>Women New Her Court Sneakers</td>\n",
       "      <td>Rs. 8249Rs. 10999(25% OFF)</td>\n",
       "    </tr>\n",
       "    <tr>\n",
       "      <th>35</th>\n",
       "      <td>Skechers</td>\n",
       "      <td>Men Sky Vault Walking Shoes</td>\n",
       "      <td>Rs. 8999</td>\n",
       "    </tr>\n",
       "    <tr>\n",
       "      <th>36</th>\n",
       "      <td>DEL MONDO</td>\n",
       "      <td>Men Leather Sneakers</td>\n",
       "      <td>Rs. 7890</td>\n",
       "    </tr>\n",
       "    <tr>\n",
       "      <th>37</th>\n",
       "      <td>Bugatti</td>\n",
       "      <td>Men Leather Driving Shoes</td>\n",
       "      <td>Rs. 8499</td>\n",
       "    </tr>\n",
       "    <tr>\n",
       "      <th>38</th>\n",
       "      <td>ROSSO BRUNELLO</td>\n",
       "      <td>Men Solid Leather Formal Derbys</td>\n",
       "      <td>Rs. 10999</td>\n",
       "    </tr>\n",
       "    <tr>\n",
       "      <th>39</th>\n",
       "      <td>ADIDAS</td>\n",
       "      <td>Women Dropset Training Shoes</td>\n",
       "      <td>Rs. 10399Rs. 12999(20% OFF)</td>\n",
       "    </tr>\n",
       "    <tr>\n",
       "      <th>40</th>\n",
       "      <td>DAVINCHI</td>\n",
       "      <td>Men Solid Leather Formal Loafers</td>\n",
       "      <td>Rs. 8490</td>\n",
       "    </tr>\n",
       "    <tr>\n",
       "      <th>41</th>\n",
       "      <td>Bugatti</td>\n",
       "      <td>Men Leather Monks</td>\n",
       "      <td>Rs. 8999</td>\n",
       "    </tr>\n",
       "    <tr>\n",
       "      <th>42</th>\n",
       "      <td>Puma</td>\n",
       "      <td>Women LQDC OP Training Shoes</td>\n",
       "      <td>Rs. 8499Rs. 9999(15% OFF)</td>\n",
       "    </tr>\n",
       "    <tr>\n",
       "      <th>43</th>\n",
       "      <td>DAVINCHI</td>\n",
       "      <td>Men Solid Leather Formal Derbys</td>\n",
       "      <td>Rs. 7990</td>\n",
       "    </tr>\n",
       "    <tr>\n",
       "      <th>44</th>\n",
       "      <td>PERFLY By Decathlon</td>\n",
       "      <td>Men Textile Badminton Shoes</td>\n",
       "      <td>Rs. 9211Rs. 9799(6% OFF)</td>\n",
       "    </tr>\n",
       "    <tr>\n",
       "      <th>45</th>\n",
       "      <td>Puma</td>\n",
       "      <td>Unisex KING Top FG Shoes</td>\n",
       "      <td>Rs. 8399Rs. 11999(30% OFF)</td>\n",
       "    </tr>\n",
       "    <tr>\n",
       "      <th>46</th>\n",
       "      <td>TRIBAN By Decathlon</td>\n",
       "      <td>Unisex Training or Gym Shoes</td>\n",
       "      <td>Rs. 8029Rs. 10999(27% OFF)</td>\n",
       "    </tr>\n",
       "    <tr>\n",
       "      <th>47</th>\n",
       "      <td>Puma</td>\n",
       "      <td>Women Eternity NITRO Shoes</td>\n",
       "      <td>Rs. 7799Rs. 12999(40% OFF)</td>\n",
       "    </tr>\n",
       "    <tr>\n",
       "      <th>48</th>\n",
       "      <td>Saint G</td>\n",
       "      <td>Women Leather Block Heels</td>\n",
       "      <td>Rs. 8550Rs. 9500(10% OFF)</td>\n",
       "    </tr>\n",
       "    <tr>\n",
       "      <th>49</th>\n",
       "      <td>FILA</td>\n",
       "      <td>Women Colourblocked Leather Sneakers</td>\n",
       "      <td>Rs. 9999</td>\n",
       "    </tr>\n",
       "  </tbody>\n",
       "</table>\n",
       "</div>"
      ],
      "text/plain": [
       "             Brand_name                     Brand_Description  \\\n",
       "0                  ALDO                          Men Sneakers   \n",
       "1                  ALDO                     Men Driving Shoes   \n",
       "2                  Nike          Men Zoom Fly 4 Running Shoes   \n",
       "3                  ALDO                   Men Leather Loafers   \n",
       "4                  ALDO                  Men Printed Sneakers   \n",
       "5                  ALDO             Men Woven Design Sneakers   \n",
       "6                  ALDO             Men Leather Driving Shoes   \n",
       "7              Skechers            Men Max Cushioning Running   \n",
       "8                  Puma         Men Jamming 2.0 Running Shoes   \n",
       "9                  Puma           Men Colourblocked RS-Z Core   \n",
       "10         Hush Puppies     Men Solid Leather Formal Slip-Ons   \n",
       "11                 Puma         Electrify Nitro Running Shoes   \n",
       "12               ADIDAS            Men Dropset Training Shoes   \n",
       "13                 Puma          Eternity Nitro Running Shoes   \n",
       "14             Skechers                     Men Walking Shoes   \n",
       "15      PUMA Motorsport               Unisex Ferrari IONSpeed   \n",
       "16         Hush Puppies       Men Solid Leather Formal Derbys   \n",
       "17               ADIDAS              Men Sl20.3 Running Shoes   \n",
       "18                ASICS                     Men Running Shoes   \n",
       "19              Bugatti                    Men Solid Sneakers   \n",
       "20      PUMA Motorsport          Unisex Speed Fusion Sneakers   \n",
       "21       Tommy Hilfiger                  Men Textured Loafers   \n",
       "22              Bugatti          Men Black Formal Derby Shoes   \n",
       "23         Hush Puppies     Men Solid Leather Formal Slip-Ons   \n",
       "24               Clarks                    Men Leather Derbys   \n",
       "25               ADIDAS        Men Solar Glide 5 Running Shoe   \n",
       "26              Saint G            Women Leather Kitten Heels   \n",
       "27       Tommy Hilfiger                  Men Leather Sneakers   \n",
       "28                 Puma          Women Velocity NITRO Runners   \n",
       "29              Bugatti              Men Solid Formal Oxfords   \n",
       "30              Bugatti       Men Solid Leather Formal Derbys   \n",
       "31              Bugatti               Men Black Walking Shoes   \n",
       "32                 Puma           Men KING Top Football Shoes   \n",
       "33             Columbia        Men FACET OUTDRY Trekking Shoe   \n",
       "34     ADIDAS Originals          Women New Her Court Sneakers   \n",
       "35             Skechers           Men Sky Vault Walking Shoes   \n",
       "36            DEL MONDO                  Men Leather Sneakers   \n",
       "37              Bugatti             Men Leather Driving Shoes   \n",
       "38       ROSSO BRUNELLO       Men Solid Leather Formal Derbys   \n",
       "39               ADIDAS          Women Dropset Training Shoes   \n",
       "40             DAVINCHI      Men Solid Leather Formal Loafers   \n",
       "41              Bugatti                     Men Leather Monks   \n",
       "42                 Puma          Women LQDC OP Training Shoes   \n",
       "43             DAVINCHI       Men Solid Leather Formal Derbys   \n",
       "44  PERFLY By Decathlon           Men Textile Badminton Shoes   \n",
       "45                 Puma              Unisex KING Top FG Shoes   \n",
       "46  TRIBAN By Decathlon          Unisex Training or Gym Shoes   \n",
       "47                 Puma            Women Eternity NITRO Shoes   \n",
       "48              Saint G             Women Leather Block Heels   \n",
       "49                 FILA  Women Colourblocked Leather Sneakers   \n",
       "\n",
       "                    Brand_Price  \n",
       "0                      Rs. 9999  \n",
       "1    Rs. 8399Rs. 11999(30% OFF)  \n",
       "2   Rs. 13045Rs. 14495(10% OFF)  \n",
       "3   Rs. 11199Rs. 15999(30% OFF)  \n",
       "4    Rs. 9099Rs. 12999(30% OFF)  \n",
       "5                     Rs. 13999  \n",
       "6   Rs. 10499Rs. 14999(30% OFF)  \n",
       "7     Rs. 7649Rs. 8999(15% OFF)  \n",
       "8   Rs. 11049Rs. 12999(15% OFF)  \n",
       "9     Rs. 8499Rs. 9999(15% OFF)  \n",
       "10    Rs. 7649Rs. 8999(15% OFF)  \n",
       "11    Rs. 8499Rs. 9999(15% OFF)  \n",
       "12  Rs. 10399Rs. 12999(20% OFF)  \n",
       "13  Rs. 10399Rs. 12999(20% OFF)  \n",
       "14    Rs. 7199Rs. 8999(20% OFF)  \n",
       "15    Rs. 7649Rs. 8999(15% OFF)  \n",
       "16    Rs. 8499Rs. 9999(15% OFF)  \n",
       "17  Rs. 10199Rs. 11999(15% OFF)  \n",
       "18                     Rs. 7999  \n",
       "19                    Rs. 10499  \n",
       "20                     Rs. 7999  \n",
       "21                     Rs. 8999  \n",
       "22                    Rs. 11999  \n",
       "23    Rs. 8499Rs. 9999(15% OFF)  \n",
       "24                     Rs. 7499  \n",
       "25  Rs. 11199Rs. 13999(20% OFF)  \n",
       "26                     Rs. 7500  \n",
       "27                     Rs. 8599  \n",
       "28   Rs. 7699Rs. 10999(30% OFF)  \n",
       "29                     Rs. 8999  \n",
       "30                     Rs. 9499  \n",
       "31    Rs. 7199Rs. 8999(20% OFF)  \n",
       "32  Rs. 10199Rs. 11999(15% OFF)  \n",
       "33                    Rs. 12999  \n",
       "34   Rs. 8249Rs. 10999(25% OFF)  \n",
       "35                     Rs. 8999  \n",
       "36                     Rs. 7890  \n",
       "37                     Rs. 8499  \n",
       "38                    Rs. 10999  \n",
       "39  Rs. 10399Rs. 12999(20% OFF)  \n",
       "40                     Rs. 8490  \n",
       "41                     Rs. 8999  \n",
       "42    Rs. 8499Rs. 9999(15% OFF)  \n",
       "43                     Rs. 7990  \n",
       "44     Rs. 9211Rs. 9799(6% OFF)  \n",
       "45   Rs. 8399Rs. 11999(30% OFF)  \n",
       "46   Rs. 8029Rs. 10999(27% OFF)  \n",
       "47   Rs. 7799Rs. 12999(40% OFF)  \n",
       "48    Rs. 8550Rs. 9500(10% OFF)  \n",
       "49                     Rs. 9999  "
      ]
     },
     "execution_count": 517,
     "metadata": {},
     "output_type": "execute_result"
    }
   ],
   "source": [
    "sneakers_1=pd.DataFrame()\n",
    "sneakers_1['Brand_name']=brand\n",
    "sneakers_1['Brand_Description']=Description\n",
    "sneakers_1['Brand_Price']=Price_1_1\n",
    "sneakers_1"
   ]
  },
  {
   "cell_type": "code",
   "execution_count": 518,
   "metadata": {},
   "outputs": [],
   "source": [
    "next_pg=driver.find_element_by_xpath(\"/html/body/div[2]/div/div[1]/main/div[3]/div[2]/div/div[2]/section/div[2]/ul/li[3]\")\n",
    "next_pg.click()"
   ]
  },
  {
   "cell_type": "code",
   "execution_count": 519,
   "metadata": {},
   "outputs": [
    {
     "data": {
      "text/plain": [
       "50"
      ]
     },
     "execution_count": 519,
     "metadata": {},
     "output_type": "execute_result"
    }
   ],
   "source": [
    "\n",
    "#### extracting product brand\n",
    "brand_name=driver.find_elements_by_xpath(\"//h3[@class='product-brand']\")\n",
    "len(brand_name)"
   ]
  },
  {
   "cell_type": "code",
   "execution_count": 521,
   "metadata": {
    "scrolled": true
   },
   "outputs": [
    {
     "data": {
      "text/plain": [
       "[<selenium.webdriver.remote.webelement.WebElement (session=\"eebdf315801fb8030942b5ac158ec2ff\", element=\"6156686c-7da2-4c72-8411-97b13bede56c\")>,\n",
       " <selenium.webdriver.remote.webelement.WebElement (session=\"eebdf315801fb8030942b5ac158ec2ff\", element=\"2349083b-9c41-472c-9acb-7165d4d3e71a\")>,\n",
       " <selenium.webdriver.remote.webelement.WebElement (session=\"eebdf315801fb8030942b5ac158ec2ff\", element=\"9e558d4a-fa56-4fab-8426-4befeb33aafc\")>,\n",
       " <selenium.webdriver.remote.webelement.WebElement (session=\"eebdf315801fb8030942b5ac158ec2ff\", element=\"6cb5e156-2192-4960-a1a5-aee28e85ec1e\")>,\n",
       " <selenium.webdriver.remote.webelement.WebElement (session=\"eebdf315801fb8030942b5ac158ec2ff\", element=\"8b62b395-64c9-4d3c-8cb1-61196937958f\")>,\n",
       " <selenium.webdriver.remote.webelement.WebElement (session=\"eebdf315801fb8030942b5ac158ec2ff\", element=\"26719a9c-bc94-4182-9d2a-908f986e4076\")>,\n",
       " <selenium.webdriver.remote.webelement.WebElement (session=\"eebdf315801fb8030942b5ac158ec2ff\", element=\"01d14707-5a81-469e-9a91-9ea12095a7b5\")>,\n",
       " <selenium.webdriver.remote.webelement.WebElement (session=\"eebdf315801fb8030942b5ac158ec2ff\", element=\"672e2fa5-ca59-4688-96ae-e103b1e86ab4\")>,\n",
       " <selenium.webdriver.remote.webelement.WebElement (session=\"eebdf315801fb8030942b5ac158ec2ff\", element=\"57b4e1ae-e444-487d-9707-452a77b9c068\")>,\n",
       " <selenium.webdriver.remote.webelement.WebElement (session=\"eebdf315801fb8030942b5ac158ec2ff\", element=\"fc85a7c7-4708-405b-9c13-674f95f84952\")>,\n",
       " <selenium.webdriver.remote.webelement.WebElement (session=\"eebdf315801fb8030942b5ac158ec2ff\", element=\"c56cc8a3-3af6-4087-b8ae-9d7ef3e00e7f\")>,\n",
       " <selenium.webdriver.remote.webelement.WebElement (session=\"eebdf315801fb8030942b5ac158ec2ff\", element=\"463512d8-b534-4aaa-b488-bdacde907588\")>,\n",
       " <selenium.webdriver.remote.webelement.WebElement (session=\"eebdf315801fb8030942b5ac158ec2ff\", element=\"8690b682-c762-4818-87e2-aa51e6c4ba0f\")>,\n",
       " <selenium.webdriver.remote.webelement.WebElement (session=\"eebdf315801fb8030942b5ac158ec2ff\", element=\"92f645e0-5503-4134-a81f-226213793bac\")>,\n",
       " <selenium.webdriver.remote.webelement.WebElement (session=\"eebdf315801fb8030942b5ac158ec2ff\", element=\"a7915da7-9e77-42ab-ba44-2cfe4a10bc28\")>,\n",
       " <selenium.webdriver.remote.webelement.WebElement (session=\"eebdf315801fb8030942b5ac158ec2ff\", element=\"04dfe7c9-59b5-4c2b-bb17-55d839b3e4a7\")>,\n",
       " <selenium.webdriver.remote.webelement.WebElement (session=\"eebdf315801fb8030942b5ac158ec2ff\", element=\"8f955733-1467-4aa6-9b23-9fef113b41a4\")>,\n",
       " <selenium.webdriver.remote.webelement.WebElement (session=\"eebdf315801fb8030942b5ac158ec2ff\", element=\"b3ba91c6-0a17-4fca-a1a2-88d9e77abcef\")>,\n",
       " <selenium.webdriver.remote.webelement.WebElement (session=\"eebdf315801fb8030942b5ac158ec2ff\", element=\"1e6e3ffc-6743-4fed-8c5e-7df0e3a04e19\")>,\n",
       " <selenium.webdriver.remote.webelement.WebElement (session=\"eebdf315801fb8030942b5ac158ec2ff\", element=\"200b875e-702c-4911-8c1a-b289e0d9bc8c\")>,\n",
       " <selenium.webdriver.remote.webelement.WebElement (session=\"eebdf315801fb8030942b5ac158ec2ff\", element=\"4dd75062-9bf2-4794-a18b-6f20ca866932\")>,\n",
       " <selenium.webdriver.remote.webelement.WebElement (session=\"eebdf315801fb8030942b5ac158ec2ff\", element=\"189f878e-23ec-4dac-b55d-9140090e6c81\")>,\n",
       " <selenium.webdriver.remote.webelement.WebElement (session=\"eebdf315801fb8030942b5ac158ec2ff\", element=\"4704a539-0347-4a8b-8bd3-932430bed901\")>,\n",
       " <selenium.webdriver.remote.webelement.WebElement (session=\"eebdf315801fb8030942b5ac158ec2ff\", element=\"c4fbb7ed-8d69-4b5e-bad4-16748c0c8ae1\")>,\n",
       " <selenium.webdriver.remote.webelement.WebElement (session=\"eebdf315801fb8030942b5ac158ec2ff\", element=\"190e0e7b-21ea-4f1c-ac7a-212c0d97ba83\")>,\n",
       " <selenium.webdriver.remote.webelement.WebElement (session=\"eebdf315801fb8030942b5ac158ec2ff\", element=\"9ebb484d-e260-43c5-98c3-df731cad5d81\")>,\n",
       " <selenium.webdriver.remote.webelement.WebElement (session=\"eebdf315801fb8030942b5ac158ec2ff\", element=\"7e6afeb6-3877-413f-b8e7-8ab198d4c383\")>,\n",
       " <selenium.webdriver.remote.webelement.WebElement (session=\"eebdf315801fb8030942b5ac158ec2ff\", element=\"f0e69666-1dfe-417c-a791-60ffb4c878bc\")>,\n",
       " <selenium.webdriver.remote.webelement.WebElement (session=\"eebdf315801fb8030942b5ac158ec2ff\", element=\"f12d7cb7-e408-4d97-bd4c-867a76022dfb\")>,\n",
       " <selenium.webdriver.remote.webelement.WebElement (session=\"eebdf315801fb8030942b5ac158ec2ff\", element=\"c0269765-0541-4318-8ba9-3b684a293608\")>,\n",
       " <selenium.webdriver.remote.webelement.WebElement (session=\"eebdf315801fb8030942b5ac158ec2ff\", element=\"6fde652e-03d3-452e-8c53-8cc482405f91\")>,\n",
       " <selenium.webdriver.remote.webelement.WebElement (session=\"eebdf315801fb8030942b5ac158ec2ff\", element=\"ee9385b7-26b1-4e38-8720-a7ce926154e5\")>,\n",
       " <selenium.webdriver.remote.webelement.WebElement (session=\"eebdf315801fb8030942b5ac158ec2ff\", element=\"c28d84eb-4c15-4cd7-9071-cdc1756e3161\")>,\n",
       " <selenium.webdriver.remote.webelement.WebElement (session=\"eebdf315801fb8030942b5ac158ec2ff\", element=\"48326bf7-1084-4f07-bade-3876904c8fb3\")>,\n",
       " <selenium.webdriver.remote.webelement.WebElement (session=\"eebdf315801fb8030942b5ac158ec2ff\", element=\"197bc131-da2a-487d-9eac-bf4eaafe0537\")>,\n",
       " <selenium.webdriver.remote.webelement.WebElement (session=\"eebdf315801fb8030942b5ac158ec2ff\", element=\"29b722d8-2281-4891-ae1c-84f75bd30715\")>,\n",
       " <selenium.webdriver.remote.webelement.WebElement (session=\"eebdf315801fb8030942b5ac158ec2ff\", element=\"0639d4db-17c1-4b60-a52c-72dd647cf905\")>,\n",
       " <selenium.webdriver.remote.webelement.WebElement (session=\"eebdf315801fb8030942b5ac158ec2ff\", element=\"f22d7811-064b-4b9d-a889-da7ace143850\")>,\n",
       " <selenium.webdriver.remote.webelement.WebElement (session=\"eebdf315801fb8030942b5ac158ec2ff\", element=\"c640cbde-504e-4541-8d3e-1245b6369a70\")>,\n",
       " <selenium.webdriver.remote.webelement.WebElement (session=\"eebdf315801fb8030942b5ac158ec2ff\", element=\"65a9c6db-1247-430e-bfec-392f12a77c30\")>,\n",
       " <selenium.webdriver.remote.webelement.WebElement (session=\"eebdf315801fb8030942b5ac158ec2ff\", element=\"fd8099eb-c7d3-4fed-b8ff-cb4753a4a2ce\")>,\n",
       " <selenium.webdriver.remote.webelement.WebElement (session=\"eebdf315801fb8030942b5ac158ec2ff\", element=\"3acecced-0000-44be-b385-1e3c2f616a2d\")>,\n",
       " <selenium.webdriver.remote.webelement.WebElement (session=\"eebdf315801fb8030942b5ac158ec2ff\", element=\"be5b5e8d-bf60-4fc2-b912-338af3693946\")>,\n",
       " <selenium.webdriver.remote.webelement.WebElement (session=\"eebdf315801fb8030942b5ac158ec2ff\", element=\"29d19338-b4f0-4c86-a47e-2926e1627984\")>,\n",
       " <selenium.webdriver.remote.webelement.WebElement (session=\"eebdf315801fb8030942b5ac158ec2ff\", element=\"bcab4772-7a53-4989-b76f-a161eda5becd\")>,\n",
       " <selenium.webdriver.remote.webelement.WebElement (session=\"eebdf315801fb8030942b5ac158ec2ff\", element=\"6d37a5a1-3afe-4980-84a7-5bbd90b81fbe\")>,\n",
       " <selenium.webdriver.remote.webelement.WebElement (session=\"eebdf315801fb8030942b5ac158ec2ff\", element=\"b89cc9aa-2e95-4ae1-8645-999bb2a766c5\")>,\n",
       " <selenium.webdriver.remote.webelement.WebElement (session=\"eebdf315801fb8030942b5ac158ec2ff\", element=\"6e429bab-8d8e-45bd-9b2f-1262050ad3c2\")>,\n",
       " <selenium.webdriver.remote.webelement.WebElement (session=\"eebdf315801fb8030942b5ac158ec2ff\", element=\"4711caad-ec34-43a5-b214-1d908ab4fbc4\")>,\n",
       " <selenium.webdriver.remote.webelement.WebElement (session=\"eebdf315801fb8030942b5ac158ec2ff\", element=\"6b705172-1535-4457-bc7e-0af72f314d2a\")>]"
      ]
     },
     "execution_count": 521,
     "metadata": {},
     "output_type": "execute_result"
    }
   ],
   "source": [
    "brand_name"
   ]
  },
  {
   "cell_type": "code",
   "execution_count": 523,
   "metadata": {
    "scrolled": true
   },
   "outputs": [
    {
     "data": {
      "text/plain": [
       "['FILA',\n",
       " 'Bugatti',\n",
       " 'ASICS',\n",
       " 'Saint G',\n",
       " 'ALDO',\n",
       " 'Bugatti',\n",
       " 'Geox',\n",
       " 'Geox',\n",
       " 'Bugatti',\n",
       " 'DAVINCHI',\n",
       " 'ALDO',\n",
       " 'J.FONTINI',\n",
       " 'Bugatti',\n",
       " 'Birkenstock',\n",
       " 'Hush Puppies',\n",
       " 'Royal Enfield',\n",
       " 'ALDO',\n",
       " 'Bugatti',\n",
       " 'MANGO',\n",
       " 'J.FONTINI',\n",
       " 'Pavers England',\n",
       " 'Saint G',\n",
       " 'ALDO',\n",
       " 'Saint G',\n",
       " 'ALDO',\n",
       " 'Cole Haan',\n",
       " 'Heel & Buckle London',\n",
       " 'J.FONTINI',\n",
       " 'Florsheim',\n",
       " 'J.FONTINI',\n",
       " 'ASICS',\n",
       " 'J.FONTINI',\n",
       " 'DAVINCHI',\n",
       " 'DAVINCHI',\n",
       " 'J.FONTINI',\n",
       " 'J.FONTINI',\n",
       " 'Columbia',\n",
       " 'DAVINCHI',\n",
       " 'Columbia',\n",
       " 'Geox',\n",
       " 'DAVINCHI',\n",
       " 'DAVINCHI',\n",
       " 'Birkenstock',\n",
       " 'Geox',\n",
       " 'Bugatti',\n",
       " 'Saint G',\n",
       " 'J.FONTINI',\n",
       " 'Sole To Soul',\n",
       " 'ALDO',\n",
       " 'ALDO']"
      ]
     },
     "execution_count": 523,
     "metadata": {},
     "output_type": "execute_result"
    }
   ],
   "source": [
    "brand=[]\n",
    "for i in brand_name:\n",
    "   brand.append(i.text)\n",
    "len(brand)  \n",
    "brand"
   ]
  },
  {
   "cell_type": "code",
   "execution_count": 524,
   "metadata": {},
   "outputs": [
    {
     "data": {
      "text/plain": [
       "50"
      ]
     },
     "execution_count": 524,
     "metadata": {},
     "output_type": "execute_result"
    }
   ],
   "source": [
    "\n",
    "#### extracting product description\n",
    "brand_descp=driver.find_elements_by_xpath(\"//h4[@class='product-product']\")\n",
    "len(brand_descp)"
   ]
  },
  {
   "cell_type": "code",
   "execution_count": 525,
   "metadata": {
    "scrolled": true
   },
   "outputs": [
    {
     "data": {
      "text/plain": [
       "[<selenium.webdriver.remote.webelement.WebElement (session=\"eebdf315801fb8030942b5ac158ec2ff\", element=\"93d6cef5-687d-4f23-8702-58ce559f9c31\")>,\n",
       " <selenium.webdriver.remote.webelement.WebElement (session=\"eebdf315801fb8030942b5ac158ec2ff\", element=\"a41225f2-37ba-4d8a-bc29-e0ac2f490b22\")>,\n",
       " <selenium.webdriver.remote.webelement.WebElement (session=\"eebdf315801fb8030942b5ac158ec2ff\", element=\"0529db2c-334c-42e4-8da6-dbe0f873bfcb\")>,\n",
       " <selenium.webdriver.remote.webelement.WebElement (session=\"eebdf315801fb8030942b5ac158ec2ff\", element=\"fe8a1895-82fe-4bba-8a1c-ba80a828a43d\")>,\n",
       " <selenium.webdriver.remote.webelement.WebElement (session=\"eebdf315801fb8030942b5ac158ec2ff\", element=\"072475c1-8cd1-4611-a034-455b2a48fdea\")>,\n",
       " <selenium.webdriver.remote.webelement.WebElement (session=\"eebdf315801fb8030942b5ac158ec2ff\", element=\"4378d4d1-2314-436a-a427-4b444ed7a2e1\")>,\n",
       " <selenium.webdriver.remote.webelement.WebElement (session=\"eebdf315801fb8030942b5ac158ec2ff\", element=\"5d14e1e5-750b-4e26-ad7d-b1c9055bc5ab\")>,\n",
       " <selenium.webdriver.remote.webelement.WebElement (session=\"eebdf315801fb8030942b5ac158ec2ff\", element=\"8d90bbfe-89e5-4443-b537-afa9ceca5c95\")>,\n",
       " <selenium.webdriver.remote.webelement.WebElement (session=\"eebdf315801fb8030942b5ac158ec2ff\", element=\"3b4ae3fe-aabe-4d10-8cc8-062c47e23722\")>,\n",
       " <selenium.webdriver.remote.webelement.WebElement (session=\"eebdf315801fb8030942b5ac158ec2ff\", element=\"d66318a0-3364-4b74-8960-5c4d569feee8\")>,\n",
       " <selenium.webdriver.remote.webelement.WebElement (session=\"eebdf315801fb8030942b5ac158ec2ff\", element=\"6d2d58d7-dc62-421a-a18f-d4c2c22451e0\")>,\n",
       " <selenium.webdriver.remote.webelement.WebElement (session=\"eebdf315801fb8030942b5ac158ec2ff\", element=\"3ef518bb-c875-493d-889e-2471706cc177\")>,\n",
       " <selenium.webdriver.remote.webelement.WebElement (session=\"eebdf315801fb8030942b5ac158ec2ff\", element=\"f749043a-2dfe-4d20-8a2f-782bb67289c6\")>,\n",
       " <selenium.webdriver.remote.webelement.WebElement (session=\"eebdf315801fb8030942b5ac158ec2ff\", element=\"940ac530-3556-4b59-afb9-b6b6cb4cc9aa\")>,\n",
       " <selenium.webdriver.remote.webelement.WebElement (session=\"eebdf315801fb8030942b5ac158ec2ff\", element=\"68f6a6c5-8953-420e-b5ba-cedc5f6254bb\")>,\n",
       " <selenium.webdriver.remote.webelement.WebElement (session=\"eebdf315801fb8030942b5ac158ec2ff\", element=\"3a76e0cd-b9fc-4e2f-ac90-f242960c0bc6\")>,\n",
       " <selenium.webdriver.remote.webelement.WebElement (session=\"eebdf315801fb8030942b5ac158ec2ff\", element=\"3e52d510-2a2a-46b3-96d0-f9bef193d70c\")>,\n",
       " <selenium.webdriver.remote.webelement.WebElement (session=\"eebdf315801fb8030942b5ac158ec2ff\", element=\"6ec5a46b-a619-4e39-a0ec-6ddb5c3b8570\")>,\n",
       " <selenium.webdriver.remote.webelement.WebElement (session=\"eebdf315801fb8030942b5ac158ec2ff\", element=\"69adbef8-3172-4a42-b120-00baf5640146\")>,\n",
       " <selenium.webdriver.remote.webelement.WebElement (session=\"eebdf315801fb8030942b5ac158ec2ff\", element=\"0126400a-07ec-4edc-bf90-42ef1bd47d50\")>,\n",
       " <selenium.webdriver.remote.webelement.WebElement (session=\"eebdf315801fb8030942b5ac158ec2ff\", element=\"4704c7d2-fcd5-448c-bab3-04198c9df460\")>,\n",
       " <selenium.webdriver.remote.webelement.WebElement (session=\"eebdf315801fb8030942b5ac158ec2ff\", element=\"e5007b06-205d-40ce-be8e-371eb07a52e3\")>,\n",
       " <selenium.webdriver.remote.webelement.WebElement (session=\"eebdf315801fb8030942b5ac158ec2ff\", element=\"1ada6b24-f47d-4625-bb03-ca5002546818\")>,\n",
       " <selenium.webdriver.remote.webelement.WebElement (session=\"eebdf315801fb8030942b5ac158ec2ff\", element=\"52e466e8-e9bb-48b9-a6a9-1172a98dde5e\")>,\n",
       " <selenium.webdriver.remote.webelement.WebElement (session=\"eebdf315801fb8030942b5ac158ec2ff\", element=\"bf18edbb-071f-4984-8aff-669cabcd7ced\")>,\n",
       " <selenium.webdriver.remote.webelement.WebElement (session=\"eebdf315801fb8030942b5ac158ec2ff\", element=\"4543fc5d-fa22-4bcf-8d86-9c60df7e8365\")>,\n",
       " <selenium.webdriver.remote.webelement.WebElement (session=\"eebdf315801fb8030942b5ac158ec2ff\", element=\"bb00ef36-0f91-4cc2-af03-b53ad3c93dc8\")>,\n",
       " <selenium.webdriver.remote.webelement.WebElement (session=\"eebdf315801fb8030942b5ac158ec2ff\", element=\"1237f110-af4d-453a-adf8-f87c8ee49867\")>,\n",
       " <selenium.webdriver.remote.webelement.WebElement (session=\"eebdf315801fb8030942b5ac158ec2ff\", element=\"8a7a3ed0-466b-4857-8e14-d8f20b055190\")>,\n",
       " <selenium.webdriver.remote.webelement.WebElement (session=\"eebdf315801fb8030942b5ac158ec2ff\", element=\"a17c4153-ccf9-4b8a-98b0-9447d0b54102\")>,\n",
       " <selenium.webdriver.remote.webelement.WebElement (session=\"eebdf315801fb8030942b5ac158ec2ff\", element=\"6cdf1835-66ac-4903-8d79-0e9c581faeca\")>,\n",
       " <selenium.webdriver.remote.webelement.WebElement (session=\"eebdf315801fb8030942b5ac158ec2ff\", element=\"5ab6cc1c-bdb9-41cb-b8bf-e35d57422ba3\")>,\n",
       " <selenium.webdriver.remote.webelement.WebElement (session=\"eebdf315801fb8030942b5ac158ec2ff\", element=\"f96134b5-27b0-4c10-903a-22ac067b0198\")>,\n",
       " <selenium.webdriver.remote.webelement.WebElement (session=\"eebdf315801fb8030942b5ac158ec2ff\", element=\"e0e59ee5-9a77-4a7e-a31b-847eca403eb6\")>,\n",
       " <selenium.webdriver.remote.webelement.WebElement (session=\"eebdf315801fb8030942b5ac158ec2ff\", element=\"26abdd1e-1dfc-458c-8ef8-ddddd7d5b90b\")>,\n",
       " <selenium.webdriver.remote.webelement.WebElement (session=\"eebdf315801fb8030942b5ac158ec2ff\", element=\"37211cb1-ad08-45f3-b94e-a26540b27a69\")>,\n",
       " <selenium.webdriver.remote.webelement.WebElement (session=\"eebdf315801fb8030942b5ac158ec2ff\", element=\"e7e97c2d-c1bd-40af-b876-05eec79914ae\")>,\n",
       " <selenium.webdriver.remote.webelement.WebElement (session=\"eebdf315801fb8030942b5ac158ec2ff\", element=\"2ea45cab-daa6-440f-9475-153635d2db2c\")>,\n",
       " <selenium.webdriver.remote.webelement.WebElement (session=\"eebdf315801fb8030942b5ac158ec2ff\", element=\"3577d83b-f8ec-47db-a46b-b6e55f15291c\")>,\n",
       " <selenium.webdriver.remote.webelement.WebElement (session=\"eebdf315801fb8030942b5ac158ec2ff\", element=\"5e89c498-99ac-492a-b481-e95392c5ebbd\")>,\n",
       " <selenium.webdriver.remote.webelement.WebElement (session=\"eebdf315801fb8030942b5ac158ec2ff\", element=\"78a4ab61-a45f-41be-a2e9-6e8d71f88341\")>,\n",
       " <selenium.webdriver.remote.webelement.WebElement (session=\"eebdf315801fb8030942b5ac158ec2ff\", element=\"f1c50ef0-aebf-4c39-8118-d35093b6cb37\")>,\n",
       " <selenium.webdriver.remote.webelement.WebElement (session=\"eebdf315801fb8030942b5ac158ec2ff\", element=\"61985f61-ff78-45d1-bbe6-2841828e3481\")>,\n",
       " <selenium.webdriver.remote.webelement.WebElement (session=\"eebdf315801fb8030942b5ac158ec2ff\", element=\"c39c02b3-cff0-46cd-8ae2-bc39a778ac4b\")>,\n",
       " <selenium.webdriver.remote.webelement.WebElement (session=\"eebdf315801fb8030942b5ac158ec2ff\", element=\"3134d011-1cd6-4bd8-a3b3-4d4f6b3e7370\")>,\n",
       " <selenium.webdriver.remote.webelement.WebElement (session=\"eebdf315801fb8030942b5ac158ec2ff\", element=\"59dd76b2-c426-49f1-a36a-12404763795e\")>,\n",
       " <selenium.webdriver.remote.webelement.WebElement (session=\"eebdf315801fb8030942b5ac158ec2ff\", element=\"5fda4ba1-e15b-45d4-8d6d-5cdc762ec8ab\")>,\n",
       " <selenium.webdriver.remote.webelement.WebElement (session=\"eebdf315801fb8030942b5ac158ec2ff\", element=\"80d60293-ba93-43a0-9263-4734969284c7\")>,\n",
       " <selenium.webdriver.remote.webelement.WebElement (session=\"eebdf315801fb8030942b5ac158ec2ff\", element=\"ceb037a5-01a3-4c1e-a354-3cdb616f16bf\")>,\n",
       " <selenium.webdriver.remote.webelement.WebElement (session=\"eebdf315801fb8030942b5ac158ec2ff\", element=\"65309aa9-bd56-4d1c-bc59-2b5d057bff08\")>]"
      ]
     },
     "execution_count": 525,
     "metadata": {},
     "output_type": "execute_result"
    }
   ],
   "source": [
    "brand_descp"
   ]
  },
  {
   "cell_type": "code",
   "execution_count": 526,
   "metadata": {
    "scrolled": true
   },
   "outputs": [
    {
     "data": {
      "text/plain": [
       "['Women Colourblocked Leather Sneakers',\n",
       " 'Leather Heeled Knee Boots',\n",
       " 'Women Running Shoes',\n",
       " 'Men Mid-Top Chelsea Boots',\n",
       " 'Embellished Wedge Pumps',\n",
       " 'Men Textured Leather High-Top Flat Boots',\n",
       " 'Men Leather Driving Shoes',\n",
       " 'Men Leather Formal Slip-Ons',\n",
       " 'Women Leather Heeled Boots',\n",
       " 'Men Textured Formal Leather Loafers',\n",
       " 'Embellished Block Heels',\n",
       " 'Men Solid Loafers',\n",
       " 'Men Sneakers',\n",
       " 'Unisex Clogs Casual Shoes',\n",
       " 'Men Solid Formal Slip-Ons',\n",
       " 'Cabo WP Riding Boots',\n",
       " 'Block Sandals With Buckles',\n",
       " 'Leather Block Heeled Boots',\n",
       " 'Embellish Mid-Top Heeled Boots',\n",
       " 'Men Leather Formal Loafers',\n",
       " 'Men Leather Driving Shoes',\n",
       " 'Leather Block Sandals',\n",
       " 'Wedge Sandals',\n",
       " 'Women Leather Mules',\n",
       " 'Women Solid Sneakers',\n",
       " 'Men GENERATION ZEROGRAND STITCHLITE',\n",
       " 'Men Formal Leather Derby',\n",
       " 'Men Textured Leather Loafers',\n",
       " 'Men Leather Formal Monks',\n",
       " 'Men Textured Leather Loafers',\n",
       " 'Women Running Shoes',\n",
       " 'Men Leather Formal Loafers',\n",
       " 'Men Formal Leather Slip-Ons',\n",
       " 'Ustraa black',\n",
       " 'Men Textured Leather Formal Loafers',\n",
       " 'Men Solid Leather Formal Loafers',\n",
       " 'Women REDMOND V2 TrekkingShoe',\n",
       " 'Solid Slip On Shoes',\n",
       " 'PEAKFREAK OUTDRY Trekking Shoe',\n",
       " 'Women Leather Pumps',\n",
       " 'Men Solid Leather Formal Derbys',\n",
       " 'Men Textured Formal Leather Loafers',\n",
       " 'Unisex Boston Super Grip Clogs',\n",
       " 'Men Printed Slip-On Sneakers',\n",
       " 'Men Walking Shoes',\n",
       " 'Men Leather Chelsea Boots',\n",
       " 'Men Black Leather Loafers',\n",
       " 'Platform Peep Toes with Buckles',\n",
       " 'Wedge Sandals',\n",
       " 'Leather Slim Heels']"
      ]
     },
     "execution_count": 526,
     "metadata": {},
     "output_type": "execute_result"
    }
   ],
   "source": [
    "Description=[]\n",
    "for i in brand_descp:\n",
    "   Description.append(i.text)\n",
    "len(Description)  \n",
    "Description"
   ]
  },
  {
   "cell_type": "code",
   "execution_count": 527,
   "metadata": {},
   "outputs": [
    {
     "data": {
      "text/plain": [
       "50"
      ]
     },
     "execution_count": 527,
     "metadata": {},
     "output_type": "execute_result"
    }
   ],
   "source": [
    "#### extracting product price\n",
    "brand_price_1_1=driver.find_elements_by_xpath(\"//div[@class='product-price']\")\n",
    "len(brand_price_1_1)"
   ]
  },
  {
   "cell_type": "code",
   "execution_count": 528,
   "metadata": {
    "scrolled": true
   },
   "outputs": [
    {
     "data": {
      "text/plain": [
       "[<selenium.webdriver.remote.webelement.WebElement (session=\"eebdf315801fb8030942b5ac158ec2ff\", element=\"b96c3cf1-86ab-4585-a180-907278c52b05\")>,\n",
       " <selenium.webdriver.remote.webelement.WebElement (session=\"eebdf315801fb8030942b5ac158ec2ff\", element=\"8d38c1dd-9622-4930-9f64-a13a7adca524\")>,\n",
       " <selenium.webdriver.remote.webelement.WebElement (session=\"eebdf315801fb8030942b5ac158ec2ff\", element=\"09c85478-b390-4518-a72b-a85778a2dc95\")>,\n",
       " <selenium.webdriver.remote.webelement.WebElement (session=\"eebdf315801fb8030942b5ac158ec2ff\", element=\"5bba5a4e-651d-4c6f-bbf7-40f83148e000\")>,\n",
       " <selenium.webdriver.remote.webelement.WebElement (session=\"eebdf315801fb8030942b5ac158ec2ff\", element=\"df6375e9-f8fd-4836-b7b7-8381ad19d850\")>,\n",
       " <selenium.webdriver.remote.webelement.WebElement (session=\"eebdf315801fb8030942b5ac158ec2ff\", element=\"4fdf3a0d-750d-4318-b471-e4c3f60c7126\")>,\n",
       " <selenium.webdriver.remote.webelement.WebElement (session=\"eebdf315801fb8030942b5ac158ec2ff\", element=\"a7e30a3a-9bfe-4582-8808-42de4855301b\")>,\n",
       " <selenium.webdriver.remote.webelement.WebElement (session=\"eebdf315801fb8030942b5ac158ec2ff\", element=\"f9004bf9-af6c-4c9c-8a2e-f6fd94733554\")>,\n",
       " <selenium.webdriver.remote.webelement.WebElement (session=\"eebdf315801fb8030942b5ac158ec2ff\", element=\"3bfad238-7972-40d1-8a3a-b3ad4b685175\")>,\n",
       " <selenium.webdriver.remote.webelement.WebElement (session=\"eebdf315801fb8030942b5ac158ec2ff\", element=\"77fa892f-0229-4b09-902a-494a8661a89f\")>,\n",
       " <selenium.webdriver.remote.webelement.WebElement (session=\"eebdf315801fb8030942b5ac158ec2ff\", element=\"38a206b7-b3d0-497f-aca6-1a263ea8f7e8\")>,\n",
       " <selenium.webdriver.remote.webelement.WebElement (session=\"eebdf315801fb8030942b5ac158ec2ff\", element=\"7fc18805-bdb8-498c-9a55-f6a5eb758eab\")>,\n",
       " <selenium.webdriver.remote.webelement.WebElement (session=\"eebdf315801fb8030942b5ac158ec2ff\", element=\"a743530e-5a8d-4ed1-ab14-70a56e8c22a8\")>,\n",
       " <selenium.webdriver.remote.webelement.WebElement (session=\"eebdf315801fb8030942b5ac158ec2ff\", element=\"4849c73c-528c-4aa9-8a8e-7b536634c1c1\")>,\n",
       " <selenium.webdriver.remote.webelement.WebElement (session=\"eebdf315801fb8030942b5ac158ec2ff\", element=\"79713969-6d89-42bb-bc8f-723a90df6340\")>,\n",
       " <selenium.webdriver.remote.webelement.WebElement (session=\"eebdf315801fb8030942b5ac158ec2ff\", element=\"b1d1c5a5-c702-4a6d-9672-b71d5affc756\")>,\n",
       " <selenium.webdriver.remote.webelement.WebElement (session=\"eebdf315801fb8030942b5ac158ec2ff\", element=\"1c50c46d-0051-403c-9171-b4c680c8b242\")>,\n",
       " <selenium.webdriver.remote.webelement.WebElement (session=\"eebdf315801fb8030942b5ac158ec2ff\", element=\"ee35323c-0ccd-4688-bc0d-0bc1bf5b95a7\")>,\n",
       " <selenium.webdriver.remote.webelement.WebElement (session=\"eebdf315801fb8030942b5ac158ec2ff\", element=\"53edc19a-5139-4d35-bf9f-2633fd4ed86a\")>,\n",
       " <selenium.webdriver.remote.webelement.WebElement (session=\"eebdf315801fb8030942b5ac158ec2ff\", element=\"45aeb70f-1d78-439f-bd91-dfe3be987bef\")>,\n",
       " <selenium.webdriver.remote.webelement.WebElement (session=\"eebdf315801fb8030942b5ac158ec2ff\", element=\"10ae2cae-2b71-4e71-ab4f-f74cafb0da15\")>,\n",
       " <selenium.webdriver.remote.webelement.WebElement (session=\"eebdf315801fb8030942b5ac158ec2ff\", element=\"8c374b13-2425-49be-8173-1f5c5f014eb3\")>,\n",
       " <selenium.webdriver.remote.webelement.WebElement (session=\"eebdf315801fb8030942b5ac158ec2ff\", element=\"a2840750-0dad-47a3-a3eb-615d8a92bd0e\")>,\n",
       " <selenium.webdriver.remote.webelement.WebElement (session=\"eebdf315801fb8030942b5ac158ec2ff\", element=\"100ba8f0-2e2d-4c43-9d7a-f641ed244924\")>,\n",
       " <selenium.webdriver.remote.webelement.WebElement (session=\"eebdf315801fb8030942b5ac158ec2ff\", element=\"41f45875-3670-4071-8b99-4e501d9b5082\")>,\n",
       " <selenium.webdriver.remote.webelement.WebElement (session=\"eebdf315801fb8030942b5ac158ec2ff\", element=\"500dee9f-416a-4f2e-a1d7-ff4720aa40f7\")>,\n",
       " <selenium.webdriver.remote.webelement.WebElement (session=\"eebdf315801fb8030942b5ac158ec2ff\", element=\"2714e6b1-977d-4a9a-b4a8-7a3fecd15d70\")>,\n",
       " <selenium.webdriver.remote.webelement.WebElement (session=\"eebdf315801fb8030942b5ac158ec2ff\", element=\"f380e0c5-00c9-4d39-b8e4-1706dcaa5b2d\")>,\n",
       " <selenium.webdriver.remote.webelement.WebElement (session=\"eebdf315801fb8030942b5ac158ec2ff\", element=\"57aeeda4-cfb9-4db5-b8e3-96baa0150109\")>,\n",
       " <selenium.webdriver.remote.webelement.WebElement (session=\"eebdf315801fb8030942b5ac158ec2ff\", element=\"7f9a72b9-626f-4282-8ea4-08bd5a8478a6\")>,\n",
       " <selenium.webdriver.remote.webelement.WebElement (session=\"eebdf315801fb8030942b5ac158ec2ff\", element=\"d4723e22-b6ca-41cd-b08f-be7077df3fe3\")>,\n",
       " <selenium.webdriver.remote.webelement.WebElement (session=\"eebdf315801fb8030942b5ac158ec2ff\", element=\"94e8abe6-5957-4a9a-af65-f820fb6ccd6b\")>,\n",
       " <selenium.webdriver.remote.webelement.WebElement (session=\"eebdf315801fb8030942b5ac158ec2ff\", element=\"e982f83a-6eb8-4e07-89bd-9c11edb257df\")>,\n",
       " <selenium.webdriver.remote.webelement.WebElement (session=\"eebdf315801fb8030942b5ac158ec2ff\", element=\"bd0b7ef4-bee1-4378-9857-e9e68c10b877\")>,\n",
       " <selenium.webdriver.remote.webelement.WebElement (session=\"eebdf315801fb8030942b5ac158ec2ff\", element=\"370656d9-6485-4da7-898c-d5722433de83\")>,\n",
       " <selenium.webdriver.remote.webelement.WebElement (session=\"eebdf315801fb8030942b5ac158ec2ff\", element=\"38f66b1a-e4c6-495e-9f30-152e9dfa22a7\")>,\n",
       " <selenium.webdriver.remote.webelement.WebElement (session=\"eebdf315801fb8030942b5ac158ec2ff\", element=\"6cb7dbdc-ff04-4135-ba2d-aa2b7277f0d8\")>,\n",
       " <selenium.webdriver.remote.webelement.WebElement (session=\"eebdf315801fb8030942b5ac158ec2ff\", element=\"27964a7d-f38a-4db7-bf6f-b6f014c7e7fe\")>,\n",
       " <selenium.webdriver.remote.webelement.WebElement (session=\"eebdf315801fb8030942b5ac158ec2ff\", element=\"f98b04cf-d3ff-4f51-b715-9ff4a8b0ae5d\")>,\n",
       " <selenium.webdriver.remote.webelement.WebElement (session=\"eebdf315801fb8030942b5ac158ec2ff\", element=\"3281e995-3839-4374-9561-a33463bfb379\")>,\n",
       " <selenium.webdriver.remote.webelement.WebElement (session=\"eebdf315801fb8030942b5ac158ec2ff\", element=\"5edc702b-9471-4874-8c9b-ad0266c83bf0\")>,\n",
       " <selenium.webdriver.remote.webelement.WebElement (session=\"eebdf315801fb8030942b5ac158ec2ff\", element=\"c7568cad-3cd9-432d-9bd5-8e372a830060\")>,\n",
       " <selenium.webdriver.remote.webelement.WebElement (session=\"eebdf315801fb8030942b5ac158ec2ff\", element=\"8c27fced-9a74-4d09-a162-60a8f7867820\")>,\n",
       " <selenium.webdriver.remote.webelement.WebElement (session=\"eebdf315801fb8030942b5ac158ec2ff\", element=\"c5a36dae-7092-49b7-8ea1-6179c2cd95fa\")>,\n",
       " <selenium.webdriver.remote.webelement.WebElement (session=\"eebdf315801fb8030942b5ac158ec2ff\", element=\"d4aab747-1d78-4f9a-9f1e-ee9a38c04e4f\")>,\n",
       " <selenium.webdriver.remote.webelement.WebElement (session=\"eebdf315801fb8030942b5ac158ec2ff\", element=\"fa60b687-d98f-42ea-83dd-d16998a460ea\")>,\n",
       " <selenium.webdriver.remote.webelement.WebElement (session=\"eebdf315801fb8030942b5ac158ec2ff\", element=\"98b2ee29-fc49-4246-951b-6fa8e36f9444\")>,\n",
       " <selenium.webdriver.remote.webelement.WebElement (session=\"eebdf315801fb8030942b5ac158ec2ff\", element=\"5b2b5625-84b9-4860-85c3-075fcce5da99\")>,\n",
       " <selenium.webdriver.remote.webelement.WebElement (session=\"eebdf315801fb8030942b5ac158ec2ff\", element=\"4a5c50a4-59ad-4af6-9770-7fc70ee3c509\")>,\n",
       " <selenium.webdriver.remote.webelement.WebElement (session=\"eebdf315801fb8030942b5ac158ec2ff\", element=\"8765c48c-2cef-4c9d-8cc8-a233c6a9483b\")>]"
      ]
     },
     "execution_count": 528,
     "metadata": {},
     "output_type": "execute_result"
    }
   ],
   "source": [
    "brand_price_1_1"
   ]
  },
  {
   "cell_type": "code",
   "execution_count": 529,
   "metadata": {
    "scrolled": true
   },
   "outputs": [
    {
     "data": {
      "text/plain": [
       "['Rs. 9999',\n",
       " 'Rs. 10399Rs. 12999(20% OFF)',\n",
       " 'Rs. 7999',\n",
       " 'Rs. 10500Rs. 10900(Rs. 400 OFF)',\n",
       " 'Rs. 9999',\n",
       " 'Rs. 9599Rs. 11999(20% OFF)',\n",
       " 'Rs. 9499',\n",
       " 'Rs. 8999',\n",
       " 'Rs. 8799Rs. 10999(20% OFF)',\n",
       " 'Rs. 8990',\n",
       " 'Rs. 9999',\n",
       " 'Rs. 8990',\n",
       " 'Rs. 8799Rs. 10999(20% OFF)',\n",
       " 'Rs. 8490',\n",
       " 'Rs. 8499Rs. 9999(15% OFF)',\n",
       " 'Rs. 8075Rs. 8500(5% OFF)',\n",
       " 'Rs. 10999',\n",
       " 'Rs. 7999Rs. 9999(20% OFF)',\n",
       " 'Rs. 7990',\n",
       " 'Rs. 7490',\n",
       " 'Rs. 7499',\n",
       " 'Rs. 9810Rs. 10900(10% OFF)',\n",
       " 'Rs. 7999',\n",
       " 'Rs. 7216Rs. 8200(12% OFF)',\n",
       " 'Rs. 9999',\n",
       " 'Rs. 11999',\n",
       " 'Rs. 7990',\n",
       " 'Rs. 7990',\n",
       " 'Rs. 9995',\n",
       " 'Rs. 8490',\n",
       " 'Rs. 7999',\n",
       " 'Rs. 7490',\n",
       " 'Rs. 8990',\n",
       " 'Rs. 8990',\n",
       " 'Rs. 8990',\n",
       " 'Rs. 9990',\n",
       " 'Rs. 7999',\n",
       " 'Rs. 7990',\n",
       " 'Rs. 9999',\n",
       " 'Rs. 8999',\n",
       " 'Rs. 9990',\n",
       " 'Rs. 8990',\n",
       " 'Rs. 9290',\n",
       " 'Rs. 10999',\n",
       " 'Rs. 7199Rs. 8999(20% OFF)',\n",
       " 'Rs. 10710Rs. 11900(10% OFF)',\n",
       " 'Rs. 8490',\n",
       " 'Rs. 7690',\n",
       " 'Rs. 7999',\n",
       " 'Rs. 7199Rs. 11999(40% OFF)']"
      ]
     },
     "execution_count": 529,
     "metadata": {},
     "output_type": "execute_result"
    }
   ],
   "source": [
    "Price_1_1=[]\n",
    "for i in brand_price_1_1:\n",
    "   Price_1_1.append(i.text)\n",
    "len(Price_1_1)  \n",
    "Price_1_1"
   ]
  },
  {
   "cell_type": "code",
   "execution_count": 530,
   "metadata": {
    "scrolled": true
   },
   "outputs": [
    {
     "data": {
      "text/html": [
       "<div>\n",
       "<style scoped>\n",
       "    .dataframe tbody tr th:only-of-type {\n",
       "        vertical-align: middle;\n",
       "    }\n",
       "\n",
       "    .dataframe tbody tr th {\n",
       "        vertical-align: top;\n",
       "    }\n",
       "\n",
       "    .dataframe thead th {\n",
       "        text-align: right;\n",
       "    }\n",
       "</style>\n",
       "<table border=\"1\" class=\"dataframe\">\n",
       "  <thead>\n",
       "    <tr style=\"text-align: right;\">\n",
       "      <th></th>\n",
       "      <th>Brand_name</th>\n",
       "      <th>Brand_Description</th>\n",
       "      <th>Brand_Price</th>\n",
       "    </tr>\n",
       "  </thead>\n",
       "  <tbody>\n",
       "    <tr>\n",
       "      <th>0</th>\n",
       "      <td>FILA</td>\n",
       "      <td>Women Colourblocked Leather Sneakers</td>\n",
       "      <td>Rs. 9999</td>\n",
       "    </tr>\n",
       "    <tr>\n",
       "      <th>1</th>\n",
       "      <td>Bugatti</td>\n",
       "      <td>Leather Heeled Knee Boots</td>\n",
       "      <td>Rs. 10399Rs. 12999(20% OFF)</td>\n",
       "    </tr>\n",
       "    <tr>\n",
       "      <th>2</th>\n",
       "      <td>ASICS</td>\n",
       "      <td>Women Running Shoes</td>\n",
       "      <td>Rs. 7999</td>\n",
       "    </tr>\n",
       "    <tr>\n",
       "      <th>3</th>\n",
       "      <td>Saint G</td>\n",
       "      <td>Men Mid-Top Chelsea Boots</td>\n",
       "      <td>Rs. 10500Rs. 10900(Rs. 400 OFF)</td>\n",
       "    </tr>\n",
       "    <tr>\n",
       "      <th>4</th>\n",
       "      <td>ALDO</td>\n",
       "      <td>Embellished Wedge Pumps</td>\n",
       "      <td>Rs. 9999</td>\n",
       "    </tr>\n",
       "    <tr>\n",
       "      <th>5</th>\n",
       "      <td>Bugatti</td>\n",
       "      <td>Men Textured Leather High-Top Flat Boots</td>\n",
       "      <td>Rs. 9599Rs. 11999(20% OFF)</td>\n",
       "    </tr>\n",
       "    <tr>\n",
       "      <th>6</th>\n",
       "      <td>Geox</td>\n",
       "      <td>Men Leather Driving Shoes</td>\n",
       "      <td>Rs. 9499</td>\n",
       "    </tr>\n",
       "    <tr>\n",
       "      <th>7</th>\n",
       "      <td>Geox</td>\n",
       "      <td>Men Leather Formal Slip-Ons</td>\n",
       "      <td>Rs. 8999</td>\n",
       "    </tr>\n",
       "    <tr>\n",
       "      <th>8</th>\n",
       "      <td>Bugatti</td>\n",
       "      <td>Women Leather Heeled Boots</td>\n",
       "      <td>Rs. 8799Rs. 10999(20% OFF)</td>\n",
       "    </tr>\n",
       "    <tr>\n",
       "      <th>9</th>\n",
       "      <td>DAVINCHI</td>\n",
       "      <td>Men Textured Formal Leather Loafers</td>\n",
       "      <td>Rs. 8990</td>\n",
       "    </tr>\n",
       "    <tr>\n",
       "      <th>10</th>\n",
       "      <td>ALDO</td>\n",
       "      <td>Embellished Block Heels</td>\n",
       "      <td>Rs. 9999</td>\n",
       "    </tr>\n",
       "    <tr>\n",
       "      <th>11</th>\n",
       "      <td>J.FONTINI</td>\n",
       "      <td>Men Solid Loafers</td>\n",
       "      <td>Rs. 8990</td>\n",
       "    </tr>\n",
       "    <tr>\n",
       "      <th>12</th>\n",
       "      <td>Bugatti</td>\n",
       "      <td>Men Sneakers</td>\n",
       "      <td>Rs. 8799Rs. 10999(20% OFF)</td>\n",
       "    </tr>\n",
       "    <tr>\n",
       "      <th>13</th>\n",
       "      <td>Birkenstock</td>\n",
       "      <td>Unisex Clogs Casual Shoes</td>\n",
       "      <td>Rs. 8490</td>\n",
       "    </tr>\n",
       "    <tr>\n",
       "      <th>14</th>\n",
       "      <td>Hush Puppies</td>\n",
       "      <td>Men Solid Formal Slip-Ons</td>\n",
       "      <td>Rs. 8499Rs. 9999(15% OFF)</td>\n",
       "    </tr>\n",
       "    <tr>\n",
       "      <th>15</th>\n",
       "      <td>Royal Enfield</td>\n",
       "      <td>Cabo WP Riding Boots</td>\n",
       "      <td>Rs. 8075Rs. 8500(5% OFF)</td>\n",
       "    </tr>\n",
       "    <tr>\n",
       "      <th>16</th>\n",
       "      <td>ALDO</td>\n",
       "      <td>Block Sandals With Buckles</td>\n",
       "      <td>Rs. 10999</td>\n",
       "    </tr>\n",
       "    <tr>\n",
       "      <th>17</th>\n",
       "      <td>Bugatti</td>\n",
       "      <td>Leather Block Heeled Boots</td>\n",
       "      <td>Rs. 7999Rs. 9999(20% OFF)</td>\n",
       "    </tr>\n",
       "    <tr>\n",
       "      <th>18</th>\n",
       "      <td>MANGO</td>\n",
       "      <td>Embellish Mid-Top Heeled Boots</td>\n",
       "      <td>Rs. 7990</td>\n",
       "    </tr>\n",
       "    <tr>\n",
       "      <th>19</th>\n",
       "      <td>J.FONTINI</td>\n",
       "      <td>Men Leather Formal Loafers</td>\n",
       "      <td>Rs. 7490</td>\n",
       "    </tr>\n",
       "    <tr>\n",
       "      <th>20</th>\n",
       "      <td>Pavers England</td>\n",
       "      <td>Men Leather Driving Shoes</td>\n",
       "      <td>Rs. 7499</td>\n",
       "    </tr>\n",
       "    <tr>\n",
       "      <th>21</th>\n",
       "      <td>Saint G</td>\n",
       "      <td>Leather Block Sandals</td>\n",
       "      <td>Rs. 9810Rs. 10900(10% OFF)</td>\n",
       "    </tr>\n",
       "    <tr>\n",
       "      <th>22</th>\n",
       "      <td>ALDO</td>\n",
       "      <td>Wedge Sandals</td>\n",
       "      <td>Rs. 7999</td>\n",
       "    </tr>\n",
       "    <tr>\n",
       "      <th>23</th>\n",
       "      <td>Saint G</td>\n",
       "      <td>Women Leather Mules</td>\n",
       "      <td>Rs. 7216Rs. 8200(12% OFF)</td>\n",
       "    </tr>\n",
       "    <tr>\n",
       "      <th>24</th>\n",
       "      <td>ALDO</td>\n",
       "      <td>Women Solid Sneakers</td>\n",
       "      <td>Rs. 9999</td>\n",
       "    </tr>\n",
       "    <tr>\n",
       "      <th>25</th>\n",
       "      <td>Cole Haan</td>\n",
       "      <td>Men GENERATION ZEROGRAND STITCHLITE</td>\n",
       "      <td>Rs. 11999</td>\n",
       "    </tr>\n",
       "    <tr>\n",
       "      <th>26</th>\n",
       "      <td>Heel &amp; Buckle London</td>\n",
       "      <td>Men Formal Leather Derby</td>\n",
       "      <td>Rs. 7990</td>\n",
       "    </tr>\n",
       "    <tr>\n",
       "      <th>27</th>\n",
       "      <td>J.FONTINI</td>\n",
       "      <td>Men Textured Leather Loafers</td>\n",
       "      <td>Rs. 7990</td>\n",
       "    </tr>\n",
       "    <tr>\n",
       "      <th>28</th>\n",
       "      <td>Florsheim</td>\n",
       "      <td>Men Leather Formal Monks</td>\n",
       "      <td>Rs. 9995</td>\n",
       "    </tr>\n",
       "    <tr>\n",
       "      <th>29</th>\n",
       "      <td>J.FONTINI</td>\n",
       "      <td>Men Textured Leather Loafers</td>\n",
       "      <td>Rs. 8490</td>\n",
       "    </tr>\n",
       "    <tr>\n",
       "      <th>30</th>\n",
       "      <td>ASICS</td>\n",
       "      <td>Women Running Shoes</td>\n",
       "      <td>Rs. 7999</td>\n",
       "    </tr>\n",
       "    <tr>\n",
       "      <th>31</th>\n",
       "      <td>J.FONTINI</td>\n",
       "      <td>Men Leather Formal Loafers</td>\n",
       "      <td>Rs. 7490</td>\n",
       "    </tr>\n",
       "    <tr>\n",
       "      <th>32</th>\n",
       "      <td>DAVINCHI</td>\n",
       "      <td>Men Formal Leather Slip-Ons</td>\n",
       "      <td>Rs. 8990</td>\n",
       "    </tr>\n",
       "    <tr>\n",
       "      <th>33</th>\n",
       "      <td>DAVINCHI</td>\n",
       "      <td>Ustraa black</td>\n",
       "      <td>Rs. 8990</td>\n",
       "    </tr>\n",
       "    <tr>\n",
       "      <th>34</th>\n",
       "      <td>J.FONTINI</td>\n",
       "      <td>Men Textured Leather Formal Loafers</td>\n",
       "      <td>Rs. 8990</td>\n",
       "    </tr>\n",
       "    <tr>\n",
       "      <th>35</th>\n",
       "      <td>J.FONTINI</td>\n",
       "      <td>Men Solid Leather Formal Loafers</td>\n",
       "      <td>Rs. 9990</td>\n",
       "    </tr>\n",
       "    <tr>\n",
       "      <th>36</th>\n",
       "      <td>Columbia</td>\n",
       "      <td>Women REDMOND V2 TrekkingShoe</td>\n",
       "      <td>Rs. 7999</td>\n",
       "    </tr>\n",
       "    <tr>\n",
       "      <th>37</th>\n",
       "      <td>DAVINCHI</td>\n",
       "      <td>Solid Slip On Shoes</td>\n",
       "      <td>Rs. 7990</td>\n",
       "    </tr>\n",
       "    <tr>\n",
       "      <th>38</th>\n",
       "      <td>Columbia</td>\n",
       "      <td>PEAKFREAK OUTDRY Trekking Shoe</td>\n",
       "      <td>Rs. 9999</td>\n",
       "    </tr>\n",
       "    <tr>\n",
       "      <th>39</th>\n",
       "      <td>Geox</td>\n",
       "      <td>Women Leather Pumps</td>\n",
       "      <td>Rs. 8999</td>\n",
       "    </tr>\n",
       "    <tr>\n",
       "      <th>40</th>\n",
       "      <td>DAVINCHI</td>\n",
       "      <td>Men Solid Leather Formal Derbys</td>\n",
       "      <td>Rs. 9990</td>\n",
       "    </tr>\n",
       "    <tr>\n",
       "      <th>41</th>\n",
       "      <td>DAVINCHI</td>\n",
       "      <td>Men Textured Formal Leather Loafers</td>\n",
       "      <td>Rs. 8990</td>\n",
       "    </tr>\n",
       "    <tr>\n",
       "      <th>42</th>\n",
       "      <td>Birkenstock</td>\n",
       "      <td>Unisex Boston Super Grip Clogs</td>\n",
       "      <td>Rs. 9290</td>\n",
       "    </tr>\n",
       "    <tr>\n",
       "      <th>43</th>\n",
       "      <td>Geox</td>\n",
       "      <td>Men Printed Slip-On Sneakers</td>\n",
       "      <td>Rs. 10999</td>\n",
       "    </tr>\n",
       "    <tr>\n",
       "      <th>44</th>\n",
       "      <td>Bugatti</td>\n",
       "      <td>Men Walking Shoes</td>\n",
       "      <td>Rs. 7199Rs. 8999(20% OFF)</td>\n",
       "    </tr>\n",
       "    <tr>\n",
       "      <th>45</th>\n",
       "      <td>Saint G</td>\n",
       "      <td>Men Leather Chelsea Boots</td>\n",
       "      <td>Rs. 10710Rs. 11900(10% OFF)</td>\n",
       "    </tr>\n",
       "    <tr>\n",
       "      <th>46</th>\n",
       "      <td>J.FONTINI</td>\n",
       "      <td>Men Black Leather Loafers</td>\n",
       "      <td>Rs. 8490</td>\n",
       "    </tr>\n",
       "    <tr>\n",
       "      <th>47</th>\n",
       "      <td>Sole To Soul</td>\n",
       "      <td>Platform Peep Toes with Buckles</td>\n",
       "      <td>Rs. 7690</td>\n",
       "    </tr>\n",
       "    <tr>\n",
       "      <th>48</th>\n",
       "      <td>ALDO</td>\n",
       "      <td>Wedge Sandals</td>\n",
       "      <td>Rs. 7999</td>\n",
       "    </tr>\n",
       "    <tr>\n",
       "      <th>49</th>\n",
       "      <td>ALDO</td>\n",
       "      <td>Leather Slim Heels</td>\n",
       "      <td>Rs. 7199Rs. 11999(40% OFF)</td>\n",
       "    </tr>\n",
       "  </tbody>\n",
       "</table>\n",
       "</div>"
      ],
      "text/plain": [
       "              Brand_name                         Brand_Description  \\\n",
       "0                   FILA      Women Colourblocked Leather Sneakers   \n",
       "1                Bugatti                 Leather Heeled Knee Boots   \n",
       "2                  ASICS                       Women Running Shoes   \n",
       "3                Saint G                 Men Mid-Top Chelsea Boots   \n",
       "4                   ALDO                   Embellished Wedge Pumps   \n",
       "5                Bugatti  Men Textured Leather High-Top Flat Boots   \n",
       "6                   Geox                 Men Leather Driving Shoes   \n",
       "7                   Geox               Men Leather Formal Slip-Ons   \n",
       "8                Bugatti                Women Leather Heeled Boots   \n",
       "9               DAVINCHI       Men Textured Formal Leather Loafers   \n",
       "10                  ALDO                   Embellished Block Heels   \n",
       "11             J.FONTINI                         Men Solid Loafers   \n",
       "12               Bugatti                              Men Sneakers   \n",
       "13           Birkenstock                 Unisex Clogs Casual Shoes   \n",
       "14          Hush Puppies                 Men Solid Formal Slip-Ons   \n",
       "15         Royal Enfield                      Cabo WP Riding Boots   \n",
       "16                  ALDO                Block Sandals With Buckles   \n",
       "17               Bugatti                Leather Block Heeled Boots   \n",
       "18                 MANGO            Embellish Mid-Top Heeled Boots   \n",
       "19             J.FONTINI                Men Leather Formal Loafers   \n",
       "20        Pavers England                 Men Leather Driving Shoes   \n",
       "21               Saint G                     Leather Block Sandals   \n",
       "22                  ALDO                             Wedge Sandals   \n",
       "23               Saint G                       Women Leather Mules   \n",
       "24                  ALDO                      Women Solid Sneakers   \n",
       "25             Cole Haan       Men GENERATION ZEROGRAND STITCHLITE   \n",
       "26  Heel & Buckle London                  Men Formal Leather Derby   \n",
       "27             J.FONTINI              Men Textured Leather Loafers   \n",
       "28             Florsheim                  Men Leather Formal Monks   \n",
       "29             J.FONTINI              Men Textured Leather Loafers   \n",
       "30                 ASICS                       Women Running Shoes   \n",
       "31             J.FONTINI                Men Leather Formal Loafers   \n",
       "32              DAVINCHI               Men Formal Leather Slip-Ons   \n",
       "33              DAVINCHI                              Ustraa black   \n",
       "34             J.FONTINI       Men Textured Leather Formal Loafers   \n",
       "35             J.FONTINI          Men Solid Leather Formal Loafers   \n",
       "36              Columbia             Women REDMOND V2 TrekkingShoe   \n",
       "37              DAVINCHI                       Solid Slip On Shoes   \n",
       "38              Columbia            PEAKFREAK OUTDRY Trekking Shoe   \n",
       "39                  Geox                       Women Leather Pumps   \n",
       "40              DAVINCHI           Men Solid Leather Formal Derbys   \n",
       "41              DAVINCHI       Men Textured Formal Leather Loafers   \n",
       "42           Birkenstock            Unisex Boston Super Grip Clogs   \n",
       "43                  Geox              Men Printed Slip-On Sneakers   \n",
       "44               Bugatti                         Men Walking Shoes   \n",
       "45               Saint G                 Men Leather Chelsea Boots   \n",
       "46             J.FONTINI                 Men Black Leather Loafers   \n",
       "47          Sole To Soul           Platform Peep Toes with Buckles   \n",
       "48                  ALDO                             Wedge Sandals   \n",
       "49                  ALDO                        Leather Slim Heels   \n",
       "\n",
       "                        Brand_Price  \n",
       "0                          Rs. 9999  \n",
       "1       Rs. 10399Rs. 12999(20% OFF)  \n",
       "2                          Rs. 7999  \n",
       "3   Rs. 10500Rs. 10900(Rs. 400 OFF)  \n",
       "4                          Rs. 9999  \n",
       "5        Rs. 9599Rs. 11999(20% OFF)  \n",
       "6                          Rs. 9499  \n",
       "7                          Rs. 8999  \n",
       "8        Rs. 8799Rs. 10999(20% OFF)  \n",
       "9                          Rs. 8990  \n",
       "10                         Rs. 9999  \n",
       "11                         Rs. 8990  \n",
       "12       Rs. 8799Rs. 10999(20% OFF)  \n",
       "13                         Rs. 8490  \n",
       "14        Rs. 8499Rs. 9999(15% OFF)  \n",
       "15         Rs. 8075Rs. 8500(5% OFF)  \n",
       "16                        Rs. 10999  \n",
       "17        Rs. 7999Rs. 9999(20% OFF)  \n",
       "18                         Rs. 7990  \n",
       "19                         Rs. 7490  \n",
       "20                         Rs. 7499  \n",
       "21       Rs. 9810Rs. 10900(10% OFF)  \n",
       "22                         Rs. 7999  \n",
       "23        Rs. 7216Rs. 8200(12% OFF)  \n",
       "24                         Rs. 9999  \n",
       "25                        Rs. 11999  \n",
       "26                         Rs. 7990  \n",
       "27                         Rs. 7990  \n",
       "28                         Rs. 9995  \n",
       "29                         Rs. 8490  \n",
       "30                         Rs. 7999  \n",
       "31                         Rs. 7490  \n",
       "32                         Rs. 8990  \n",
       "33                         Rs. 8990  \n",
       "34                         Rs. 8990  \n",
       "35                         Rs. 9990  \n",
       "36                         Rs. 7999  \n",
       "37                         Rs. 7990  \n",
       "38                         Rs. 9999  \n",
       "39                         Rs. 8999  \n",
       "40                         Rs. 9990  \n",
       "41                         Rs. 8990  \n",
       "42                         Rs. 9290  \n",
       "43                        Rs. 10999  \n",
       "44        Rs. 7199Rs. 8999(20% OFF)  \n",
       "45      Rs. 10710Rs. 11900(10% OFF)  \n",
       "46                         Rs. 8490  \n",
       "47                         Rs. 7690  \n",
       "48                         Rs. 7999  \n",
       "49       Rs. 7199Rs. 11999(40% OFF)  "
      ]
     },
     "execution_count": 530,
     "metadata": {},
     "output_type": "execute_result"
    }
   ],
   "source": [
    "sneakers_2=pd.DataFrame()\n",
    "sneakers_2['Brand_name']=brand\n",
    "sneakers_2['Brand_Description']=Description\n",
    "sneakers_2['Brand_Price']=Price_1_1\n",
    "sneakers_2"
   ]
  },
  {
   "cell_type": "code",
   "execution_count": 533,
   "metadata": {},
   "outputs": [
    {
     "data": {
      "text/html": [
       "<div>\n",
       "<style scoped>\n",
       "    .dataframe tbody tr th:only-of-type {\n",
       "        vertical-align: middle;\n",
       "    }\n",
       "\n",
       "    .dataframe tbody tr th {\n",
       "        vertical-align: top;\n",
       "    }\n",
       "\n",
       "    .dataframe thead th {\n",
       "        text-align: right;\n",
       "    }\n",
       "</style>\n",
       "<table border=\"1\" class=\"dataframe\">\n",
       "  <thead>\n",
       "    <tr style=\"text-align: right;\">\n",
       "      <th></th>\n",
       "      <th>Brand_name</th>\n",
       "      <th>Brand_Description</th>\n",
       "      <th>Brand_Price</th>\n",
       "    </tr>\n",
       "  </thead>\n",
       "  <tbody>\n",
       "    <tr>\n",
       "      <th>0</th>\n",
       "      <td>ALDO</td>\n",
       "      <td>Men Sneakers</td>\n",
       "      <td>Rs. 9999</td>\n",
       "    </tr>\n",
       "    <tr>\n",
       "      <th>1</th>\n",
       "      <td>ALDO</td>\n",
       "      <td>Men Driving Shoes</td>\n",
       "      <td>Rs. 8399Rs. 11999(30% OFF)</td>\n",
       "    </tr>\n",
       "    <tr>\n",
       "      <th>2</th>\n",
       "      <td>Nike</td>\n",
       "      <td>Men Zoom Fly 4 Running Shoes</td>\n",
       "      <td>Rs. 13045Rs. 14495(10% OFF)</td>\n",
       "    </tr>\n",
       "    <tr>\n",
       "      <th>3</th>\n",
       "      <td>ALDO</td>\n",
       "      <td>Men Leather Loafers</td>\n",
       "      <td>Rs. 11199Rs. 15999(30% OFF)</td>\n",
       "    </tr>\n",
       "    <tr>\n",
       "      <th>4</th>\n",
       "      <td>ALDO</td>\n",
       "      <td>Men Printed Sneakers</td>\n",
       "      <td>Rs. 9099Rs. 12999(30% OFF)</td>\n",
       "    </tr>\n",
       "    <tr>\n",
       "      <th>...</th>\n",
       "      <td>...</td>\n",
       "      <td>...</td>\n",
       "      <td>...</td>\n",
       "    </tr>\n",
       "    <tr>\n",
       "      <th>45</th>\n",
       "      <td>Saint G</td>\n",
       "      <td>Men Leather Chelsea Boots</td>\n",
       "      <td>Rs. 10710Rs. 11900(10% OFF)</td>\n",
       "    </tr>\n",
       "    <tr>\n",
       "      <th>46</th>\n",
       "      <td>J.FONTINI</td>\n",
       "      <td>Men Black Leather Loafers</td>\n",
       "      <td>Rs. 8490</td>\n",
       "    </tr>\n",
       "    <tr>\n",
       "      <th>47</th>\n",
       "      <td>Sole To Soul</td>\n",
       "      <td>Platform Peep Toes with Buckles</td>\n",
       "      <td>Rs. 7690</td>\n",
       "    </tr>\n",
       "    <tr>\n",
       "      <th>48</th>\n",
       "      <td>ALDO</td>\n",
       "      <td>Wedge Sandals</td>\n",
       "      <td>Rs. 7999</td>\n",
       "    </tr>\n",
       "    <tr>\n",
       "      <th>49</th>\n",
       "      <td>ALDO</td>\n",
       "      <td>Leather Slim Heels</td>\n",
       "      <td>Rs. 7199Rs. 11999(40% OFF)</td>\n",
       "    </tr>\n",
       "  </tbody>\n",
       "</table>\n",
       "<p>100 rows × 3 columns</p>\n",
       "</div>"
      ],
      "text/plain": [
       "      Brand_name                Brand_Description                  Brand_Price\n",
       "0           ALDO                     Men Sneakers                     Rs. 9999\n",
       "1           ALDO                Men Driving Shoes   Rs. 8399Rs. 11999(30% OFF)\n",
       "2           Nike     Men Zoom Fly 4 Running Shoes  Rs. 13045Rs. 14495(10% OFF)\n",
       "3           ALDO              Men Leather Loafers  Rs. 11199Rs. 15999(30% OFF)\n",
       "4           ALDO             Men Printed Sneakers   Rs. 9099Rs. 12999(30% OFF)\n",
       "..           ...                              ...                          ...\n",
       "45       Saint G        Men Leather Chelsea Boots  Rs. 10710Rs. 11900(10% OFF)\n",
       "46     J.FONTINI        Men Black Leather Loafers                     Rs. 8490\n",
       "47  Sole To Soul  Platform Peep Toes with Buckles                     Rs. 7690\n",
       "48          ALDO                    Wedge Sandals                     Rs. 7999\n",
       "49          ALDO               Leather Slim Heels   Rs. 7199Rs. 11999(40% OFF)\n",
       "\n",
       "[100 rows x 3 columns]"
      ]
     },
     "execution_count": 533,
     "metadata": {},
     "output_type": "execute_result"
    }
   ],
   "source": [
    "df_sneakers= pd.concat([sneakers_1,sneakers_2])\n",
    "df_sneakers"
   ]
  },
  {
   "cell_type": "code",
   "execution_count": null,
   "metadata": {},
   "outputs": [],
   "source": [
    "\n",
    "\n"
   ]
  },
  {
   "cell_type": "code",
   "execution_count": 534,
   "metadata": {},
   "outputs": [],
   "source": [
    "#####8\n",
    "\n",
    "import selenium\n",
    "from selenium import webdriver \n",
    "import pandas as pd \n",
    "import warnings\n",
    "warnings.filterwarnings('ignore')\n",
    "\n"
   ]
  },
  {
   "cell_type": "code",
   "execution_count": 535,
   "metadata": {},
   "outputs": [],
   "source": [
    "driver=webdriver.Chrome(r\"C:/Users/Lenovo/Downloads/chromedriver_win32/chromedriver.exe\")\n"
   ]
  },
  {
   "cell_type": "code",
   "execution_count": 536,
   "metadata": {},
   "outputs": [],
   "source": [
    "url = \"https://www.amazon.in/\"\n",
    "driver.get(url)"
   ]
  },
  {
   "cell_type": "code",
   "execution_count": 537,
   "metadata": {},
   "outputs": [],
   "source": [
    "srch_btn=driver.find_element_by_xpath(\"/html/body/div[1]/header/div/div[1]/div[2]/div/form/div[2]/div[1]/input\")\n",
    "srch_btn.click()"
   ]
  },
  {
   "cell_type": "code",
   "execution_count": 538,
   "metadata": {},
   "outputs": [],
   "source": [
    "srch_btn.send_keys(\"Laptop\")"
   ]
  },
  {
   "cell_type": "code",
   "execution_count": 539,
   "metadata": {},
   "outputs": [],
   "source": [
    "srch_btn=driver.find_element_by_xpath(\"/html/body/div[1]/header/div/div[1]/div[2]/div/form/div[3]\")\n",
    "srch_btn.click()"
   ]
  },
  {
   "cell_type": "code",
   "execution_count": null,
   "metadata": {},
   "outputs": [],
   "source": []
  },
  {
   "cell_type": "code",
   "execution_count": null,
   "metadata": {},
   "outputs": [],
   "source": []
  },
  {
   "cell_type": "code",
   "execution_count": 540,
   "metadata": {},
   "outputs": [],
   "source": [
    "cpu_type=driver.find_element_by_xpath(\"/html/body/div[1]/div[2]/div[1]/div[2]/div/div[3]/span/div[1]/div/div/div[6]/ul[4]/li[11]/span/a/div/label/i\")\n",
    "cpu_type.click()"
   ]
  },
  {
   "cell_type": "code",
   "execution_count": 541,
   "metadata": {},
   "outputs": [
    {
     "data": {
      "text/plain": [
       "30"
      ]
     },
     "execution_count": 541,
     "metadata": {},
     "output_type": "execute_result"
    }
   ],
   "source": [
    "#### extracting product brand\n",
    "brand_name=driver.find_elements_by_xpath(\"//span[@class='a-size-medium a-color-base a-text-normal']\")\n",
    "len(brand_name)"
   ]
  },
  {
   "cell_type": "code",
   "execution_count": 542,
   "metadata": {
    "scrolled": true
   },
   "outputs": [
    {
     "data": {
      "text/plain": [
       "[<selenium.webdriver.remote.webelement.WebElement (session=\"9082de2a7d5581de5f27c0db23a2df20\", element=\"26703dae-2fb6-4af6-a9d3-80c177d4698a\")>,\n",
       " <selenium.webdriver.remote.webelement.WebElement (session=\"9082de2a7d5581de5f27c0db23a2df20\", element=\"6b4a2a5b-5dc9-43b0-9da7-43ae899259f1\")>,\n",
       " <selenium.webdriver.remote.webelement.WebElement (session=\"9082de2a7d5581de5f27c0db23a2df20\", element=\"057622a7-135e-4071-8a6f-a29269a54e3b\")>,\n",
       " <selenium.webdriver.remote.webelement.WebElement (session=\"9082de2a7d5581de5f27c0db23a2df20\", element=\"a450438f-550d-4c20-9fe1-2cdea624fdb3\")>,\n",
       " <selenium.webdriver.remote.webelement.WebElement (session=\"9082de2a7d5581de5f27c0db23a2df20\", element=\"b4a59b8b-ad22-42f7-8978-43bd2b5559cd\")>,\n",
       " <selenium.webdriver.remote.webelement.WebElement (session=\"9082de2a7d5581de5f27c0db23a2df20\", element=\"c99e69f4-78dd-419a-b086-e7912164b83e\")>,\n",
       " <selenium.webdriver.remote.webelement.WebElement (session=\"9082de2a7d5581de5f27c0db23a2df20\", element=\"45ff7962-f334-42d2-a711-6a12bb03a05c\")>,\n",
       " <selenium.webdriver.remote.webelement.WebElement (session=\"9082de2a7d5581de5f27c0db23a2df20\", element=\"efeede20-1764-405d-93be-035ee634dbf2\")>,\n",
       " <selenium.webdriver.remote.webelement.WebElement (session=\"9082de2a7d5581de5f27c0db23a2df20\", element=\"cf264b2f-51e9-470f-b172-488fc8edd472\")>,\n",
       " <selenium.webdriver.remote.webelement.WebElement (session=\"9082de2a7d5581de5f27c0db23a2df20\", element=\"8822ffe7-98d2-448e-8b0d-566b453d5f48\")>,\n",
       " <selenium.webdriver.remote.webelement.WebElement (session=\"9082de2a7d5581de5f27c0db23a2df20\", element=\"96a8c901-99d5-4857-9f33-25417e2fd89e\")>,\n",
       " <selenium.webdriver.remote.webelement.WebElement (session=\"9082de2a7d5581de5f27c0db23a2df20\", element=\"f11a9608-fb94-4233-8dbd-c4da7089533f\")>,\n",
       " <selenium.webdriver.remote.webelement.WebElement (session=\"9082de2a7d5581de5f27c0db23a2df20\", element=\"d89831b9-fd4b-4498-bec7-9b6e525598f0\")>,\n",
       " <selenium.webdriver.remote.webelement.WebElement (session=\"9082de2a7d5581de5f27c0db23a2df20\", element=\"dc2a5f46-c43c-4c76-a916-c146bb308a15\")>,\n",
       " <selenium.webdriver.remote.webelement.WebElement (session=\"9082de2a7d5581de5f27c0db23a2df20\", element=\"570e4490-3934-4711-a912-55f5cfe6e97b\")>,\n",
       " <selenium.webdriver.remote.webelement.WebElement (session=\"9082de2a7d5581de5f27c0db23a2df20\", element=\"d1f13bf1-8a7e-48c0-8349-245c85757452\")>,\n",
       " <selenium.webdriver.remote.webelement.WebElement (session=\"9082de2a7d5581de5f27c0db23a2df20\", element=\"6d0c7400-6c54-44f6-908d-ba08f529e56b\")>,\n",
       " <selenium.webdriver.remote.webelement.WebElement (session=\"9082de2a7d5581de5f27c0db23a2df20\", element=\"80af6e6f-2564-4214-b6bd-b728a80a9cf0\")>,\n",
       " <selenium.webdriver.remote.webelement.WebElement (session=\"9082de2a7d5581de5f27c0db23a2df20\", element=\"30acf52a-041e-4916-8f29-6ae574ae4863\")>,\n",
       " <selenium.webdriver.remote.webelement.WebElement (session=\"9082de2a7d5581de5f27c0db23a2df20\", element=\"69f36704-4ce7-42e6-93bd-902f1df88329\")>,\n",
       " <selenium.webdriver.remote.webelement.WebElement (session=\"9082de2a7d5581de5f27c0db23a2df20\", element=\"0a30f538-f61f-4e59-afe2-11d4d40fc160\")>,\n",
       " <selenium.webdriver.remote.webelement.WebElement (session=\"9082de2a7d5581de5f27c0db23a2df20\", element=\"ad4cb681-22c3-49fc-996e-b84986b69e53\")>,\n",
       " <selenium.webdriver.remote.webelement.WebElement (session=\"9082de2a7d5581de5f27c0db23a2df20\", element=\"2fb5cd7e-1598-474c-8ec4-ff54c2c6f368\")>,\n",
       " <selenium.webdriver.remote.webelement.WebElement (session=\"9082de2a7d5581de5f27c0db23a2df20\", element=\"ff9085d0-4a15-4c4a-9759-27e99f56a22d\")>,\n",
       " <selenium.webdriver.remote.webelement.WebElement (session=\"9082de2a7d5581de5f27c0db23a2df20\", element=\"f6a9cabb-3237-476b-ad53-13480b00a1c3\")>,\n",
       " <selenium.webdriver.remote.webelement.WebElement (session=\"9082de2a7d5581de5f27c0db23a2df20\", element=\"33b7c606-0ffc-48e4-b664-db3127e4aee7\")>,\n",
       " <selenium.webdriver.remote.webelement.WebElement (session=\"9082de2a7d5581de5f27c0db23a2df20\", element=\"46bfe259-1405-407f-9e50-b9be545c9d85\")>,\n",
       " <selenium.webdriver.remote.webelement.WebElement (session=\"9082de2a7d5581de5f27c0db23a2df20\", element=\"cf2e930e-a8c2-490c-b0a6-a84c0efed301\")>,\n",
       " <selenium.webdriver.remote.webelement.WebElement (session=\"9082de2a7d5581de5f27c0db23a2df20\", element=\"5c222f4d-ef02-4ab1-a5d9-9f0fe43189f0\")>,\n",
       " <selenium.webdriver.remote.webelement.WebElement (session=\"9082de2a7d5581de5f27c0db23a2df20\", element=\"08fd01c7-9b2d-4158-a7bd-6ab9add8fcc9\")>]"
      ]
     },
     "execution_count": 542,
     "metadata": {},
     "output_type": "execute_result"
    }
   ],
   "source": [
    "brand_name"
   ]
  },
  {
   "cell_type": "code",
   "execution_count": 543,
   "metadata": {
    "scrolled": true
   },
   "outputs": [
    {
     "data": {
      "text/plain": [
       "['Dell 15 (2021) Inspiron 5518 Intel Thunderbolt 4.0 i7-11390H 15.6 Inches Notebook Computer (16GB, 1TB SSD, Windows 11 + MS Office 21, NVIDIA MX450 2GB, FHD Display, Silver Color, FPR + Backlit KB)',\n",
       " 'Fujitsu UH-X 11th Gen Intel i7 Core 13.3 inches FHD IPS 400Nits Business Laptop (16GB/512GB SSD/Windows 10/Office/Iris Xe Graphics/Backlit Kb/ Fingerprint Reader/Black/0.878kg), 4ZR1D67596',\n",
       " 'ASUS VivoBook 14 (2021), 14-inch (35.56 cms) FHD, Intel Core i7-1065G7 10th Gen, Thin and Light Laptop (16GB/512GB SSD/Integrated Graphics/Office 2021/Windows 11/Silver/1.6 Kg), X415JA-EK701WS',\n",
       " 'HP Pavilion 14, 11th Gen Intel Core i7-16GB RAM/1TB SSD 14 inch(35.6 cm) Laptop/Intel Iris Xe Graphics/Backlit Keyboard/Alexa/B&O Audio/Fast Charge/FPR/Win 11/MS Office, 14-dv1029TU,Natural Silver',\n",
       " 'Lenovo ThinkBook 15 Intel 11th Gen Core i7 15.6\"(39.62 cm)FHD Thin and Light Laptop (16GB/512GB SSD/Windows 11 Home/MS Office H&S 2021/Iris® Xe Graphics/Backlit/Mineral Grey/1.7 Kg) 20VE00W4IH',\n",
       " 'LG Gram Intel Evo 11th Gen Core i7 17 inches Ultra-Light Laptop (16 GB RAM, 512 GB SSD, New Windows 11 Home Preload, Iris Xe Graphics, USC -C x 2 (with Power), 1.35 kg, 17Z90P-G.AH85A2, Black)',\n",
       " 'Lenovo IdeaPad 5 Pro 11th Gen Intel Core i7 14 inches QHD IPS Thin and Light Laptop (16GB/512GB SSD/Iris Xe Graphics/Windows 11/Office 2021/Backlit/300Nits/Storm Grey/1.41Kg), 82L3006YIN',\n",
       " 'Dell 15 (2021) Inspiron 5518 Intel Thunderbolt 4.0 i7-11390H 15.6 Inches Notebook Computer (16GB, 1TB SSD, Windows 11 + MS Office 21, NVIDIA MX450 2GB, FHD Display, Silver Color, FPR + Backlit KB)',\n",
       " 'Fujitsu UH-X 11th Gen Intel i7 Core 13.3 inches FHD IPS 400Nits Business Laptop (16GB/512GB SSD/Windows 10/Office/Iris Xe Graphics/Backlit Kb/ Fingerprint Reader/Black/0.878kg), 4ZR1D67596',\n",
       " 'HP Pavilion x360 11th Gen Intel Core i7 14 inches FHD, IPS, Convertible Laptop (16 GB RAM/512GB SSD, B&O/Win 11 Home/Backlit keyboard/FPR/ Alexa-Built in/MS Office/Natural Silver/1.52 Kg) -14-dy1013TU',\n",
       " 'ASUS TUF Gaming F15 (2021), 15.6\" (39.62 cms) FHD 144Hz, Intel Core i7-11600H 11th Gen, 4GB RTX 3050 Graphics, Gaming Laptop (16GB/512GB SSD/Windows 10/Office 2019/Gray/2.3 Kg), FX566HCB-HN299TS',\n",
       " '(Refurbished) Dell Latitude E7470 Intel Core i7 6th Gen 14 inches Laptop /16 GB RAM/512 GB SSD/Windows 10 Pro/MS Office/HD Display/Integrated Graphics, 1.9 kg',\n",
       " 'HP Pavilion 11th Gen Intel Core i7 Processor 15.6 inches FHD Gaming Laptop (16GB/512GB SSD/Windows 11/NVIDIA RTX 3050 Graphics/MS Office/ Shadow Black & Ultra Violet/2.23Kg), 15-dk2096TX',\n",
       " 'Lenovo IdeaPad Gaming 3 Intel Core i7 10th Gen 39.62 cm (15.6\") FHD IPS 250Nits Gaming Laptop (8GB/512GB SSD/Win10/NVIDIA GTX 1650 4GB GDDR6 Graphics/120Hz/Onyx Black/2.2Kg), 81Y4019EIN',\n",
       " 'MSI Modern 14, Intel i7-1195G7, 14\" FHD IPS-Level 60Hz Panel Laptop (8GB/512GB NVMe SSD/Windows 10 Home/Nvidia MX450 2GB Graphics/Carbon Grey/1.3Kg), B11SBU-688IN',\n",
       " 'AGB Octev GA-9009 15.6\"Laptop (Intel Core i7-1165G7 11th Gen, 16GB RAM / 1TB SSD / Intel Iris Xe / MX 450 / Win 10 Pro / Aluminium Body',\n",
       " '(Refurbished) Dell Intel Core i7 6th Gen 14-Inch(35.56 cms) 1366 x 768 HD Laptop (16GB RAM /2TB HDD/Windows 10 Pro/MS Office/ Intel HD Integrated Graphics/ 1.5Kg,Black) Latitude E5470',\n",
       " 'HP Envy x360 11th Gen Intel Core i7- 13.3-inch(33.8cm) FHD OLED Multi-touch Gorilla Glass 2-in-1 Laptop(16GB RAM/512GB SSD/Win 11/Intel Iris Xe Graphics/Alexa/B&O/FPR/Pen/MSO 2021/1.30kg), 13-bd1003TU',\n",
       " 'Lenovo ThinkBook Yoga 14s Intel Core i7 11th Gen 14\"(35.56cm) FHD IPS 300 nits 100% sRGB Dolby Vision 2-in-1 Touchscreen Laptop (16GB RAM/512GB SSD/Windows 10/MS Office/Active Pen/1.50 kg) 20WEA01EIH',\n",
       " 'Dell 14 (2021) Intel i7-1195G7 14.0 inches FHD Display 2in1 Touch Screen Laptop (16GB/512GB SSD/Windows 10 + MS Office Backlit KB, FPR + Active Pen/Platinum Silver, Inspiron 5410, D560596WIN9S), 1.5kg',\n",
       " '(Refurbished) Life Digital Laptop 15.6-inch (39.62 cms) (Intel Core i7, 8GB RAM, 512GB SSD, Windows 10), ZED AIR CX7',\n",
       " 'Infinix INBook X1 Pro Core i7 10th Gen - (16 GB/512 GB SSD/Windows 11 Home) XL12 Thin and Light Laptop (14 Inch, Starfall Grey, 1.48 kg)',\n",
       " 'Lenovo Legion 5 11th Gen Intel i7-11800H 15.6\" (39.62cm) FHD IPS Gaming Laptop (8GB/512GB SSD/Win11/Office 2021/NVIDIA RTX 3050Ti 4GB/120Hz/2.4Kg), 82JK007XIN + Legion Headset & 8K DPI Mouse',\n",
       " '(Refurbished) Dell 7480 Intel Core i7 14-Inch (35.56 cms) Full HD (1920 X 1080) Laptop (16 GB/256 SSD/Windows 10 Pro/Integrated_graphics/Black/2.16 Kg), TFJ45',\n",
       " 'Samsung Galaxy Book2 Pro 360 Intel 12th Gen i7 EvoTM  33.78 cm (13.3\") Touchscreen 2-in-1 AMOLED Thin & Light Laptop (16 GB/512 GB SSD/Windows 11/MSO Home & Student 2021/Silver/1.04Kg), NP930QED-KB2IN',\n",
       " '(Refurbished) Dell Latitude E6440 14 inches Laptop (Intel Core i7 4610M/16GB/512GB SSD/Windows 10 Pro/MS Office Pro 2019/Integrated graphics), Metalic Grey, 1.9kg',\n",
       " 'Samsung Galaxy Book2 Pro Intel 12th Gen i7 EvoTM 39.62cm (15.6\") AMOLED Thin & Light Laptop (16 GB/512 GB SSD/Windows 11/MS Office Home & Student 2021/Graphite/1.11Kg), NP950XED-KA1IN',\n",
       " '(Refurbished) Dell Latitude E6430 14.1 Inch Business Laptop computer, Intel Dual Core i7-3520M 2.9Ghz Processor, 16GB RAM, 240GB SSD, DVD, Rj-45, HDMI, Windows 10 Professional',\n",
       " 'Acer Predator Helios 300 11th Gen Intel Core i9-11900H 15.6 inches FHD IPS Display Gaming Laptop (16GB/1TB SSD/Windows 11 Home/6GB Graphics/NVIDIA GeForce RTX 3060/300 Hz, Black, 2.3Kg) PH315-54',\n",
       " 'AGB Octev VR-1818 15.6\"Laptop (Intel Core i7-1165G7 11th Gen, 32GB RAM / 1TB SSD / Intel Iris Xe / MX 450 / Win 10 Pro / Aluminium Body']"
      ]
     },
     "execution_count": 543,
     "metadata": {},
     "output_type": "execute_result"
    }
   ],
   "source": [
    "brand=[]\n",
    "for i in brand_name:\n",
    "   brand.append(i.text)\n",
    "len(brand)  \n",
    "brand"
   ]
  },
  {
   "cell_type": "code",
   "execution_count": 581,
   "metadata": {},
   "outputs": [
    {
     "data": {
      "text/plain": [
       "1"
      ]
     },
     "execution_count": 581,
     "metadata": {},
     "output_type": "execute_result"
    }
   ],
   "source": [
    "###exctracting product ratings \n",
    "#### extracting product brand\n",
    "brand_ratings=driver.find_elements_by_xpath(\"//i[@class='a-icon a-icon-star a-star-3-5']\")\n",
    "len(brand_ratings)"
   ]
  },
  {
   "cell_type": "code",
   "execution_count": 579,
   "metadata": {
    "scrolled": false
   },
   "outputs": [
    {
     "data": {
      "text/plain": [
       "[<selenium.webdriver.remote.webelement.WebElement (session=\"9082de2a7d5581de5f27c0db23a2df20\", element=\"079dda35-155d-45f2-9616-91b35798a1ed\")>,\n",
       " <selenium.webdriver.remote.webelement.WebElement (session=\"9082de2a7d5581de5f27c0db23a2df20\", element=\"c8dab52f-04b3-467f-aab2-136b5379b5d1\")>,\n",
       " <selenium.webdriver.remote.webelement.WebElement (session=\"9082de2a7d5581de5f27c0db23a2df20\", element=\"05381f60-5d08-4206-9fe5-9ea26527c8a2\")>,\n",
       " <selenium.webdriver.remote.webelement.WebElement (session=\"9082de2a7d5581de5f27c0db23a2df20\", element=\"332678cf-c4d3-4554-b026-6795f4872dfc\")>,\n",
       " <selenium.webdriver.remote.webelement.WebElement (session=\"9082de2a7d5581de5f27c0db23a2df20\", element=\"08b8631b-ee62-4fb0-838e-dbe032fe3b30\")>,\n",
       " <selenium.webdriver.remote.webelement.WebElement (session=\"9082de2a7d5581de5f27c0db23a2df20\", element=\"fa294d45-ad2a-4d2e-beca-2a67d76bbbd4\")>,\n",
       " <selenium.webdriver.remote.webelement.WebElement (session=\"9082de2a7d5581de5f27c0db23a2df20\", element=\"bd0ea28f-825a-40ad-924b-7b300f0bd06d\")>,\n",
       " <selenium.webdriver.remote.webelement.WebElement (session=\"9082de2a7d5581de5f27c0db23a2df20\", element=\"cec35a16-4139-4293-aa72-a890086a8097\")>,\n",
       " <selenium.webdriver.remote.webelement.WebElement (session=\"9082de2a7d5581de5f27c0db23a2df20\", element=\"a8c9f3c1-f3d4-4b31-89b5-a08ed9b348cc\")>]"
      ]
     },
     "execution_count": 579,
     "metadata": {},
     "output_type": "execute_result"
    }
   ],
   "source": [
    "brand_ratings"
   ]
  },
  {
   "cell_type": "code",
   "execution_count": 580,
   "metadata": {
    "scrolled": true
   },
   "outputs": [
    {
     "data": {
      "text/plain": [
       "['', '', '', '', '', '', '', '', '']"
      ]
     },
     "execution_count": 580,
     "metadata": {},
     "output_type": "execute_result"
    }
   ],
   "source": [
    "rating=[]\n",
    "for i in brand_ratings:\n",
    "   rating.append(i.text)\n",
    "len(rating)  \n",
    "rating"
   ]
  },
  {
   "cell_type": "code",
   "execution_count": 582,
   "metadata": {},
   "outputs": [
    {
     "data": {
      "text/plain": [
       "30"
      ]
     },
     "execution_count": 582,
     "metadata": {},
     "output_type": "execute_result"
    }
   ],
   "source": [
    "########## extracting product price\n",
    "brand_price=driver.find_elements_by_xpath(\"//span[@class='a-price-whole']\")\n",
    "len(brand_price)"
   ]
  },
  {
   "cell_type": "code",
   "execution_count": 584,
   "metadata": {
    "scrolled": true
   },
   "outputs": [
    {
     "data": {
      "text/plain": [
       "[<selenium.webdriver.remote.webelement.WebElement (session=\"9082de2a7d5581de5f27c0db23a2df20\", element=\"e2837346-a637-4a55-9585-dbf4f5c5dbc0\")>,\n",
       " <selenium.webdriver.remote.webelement.WebElement (session=\"9082de2a7d5581de5f27c0db23a2df20\", element=\"0f6e8a89-e566-4d94-97e1-81e6c9fec20f\")>,\n",
       " <selenium.webdriver.remote.webelement.WebElement (session=\"9082de2a7d5581de5f27c0db23a2df20\", element=\"65c4dc10-6e5a-4bba-ba37-bce347cc99da\")>,\n",
       " <selenium.webdriver.remote.webelement.WebElement (session=\"9082de2a7d5581de5f27c0db23a2df20\", element=\"a3fec6af-28fa-4f98-9279-edc044838490\")>,\n",
       " <selenium.webdriver.remote.webelement.WebElement (session=\"9082de2a7d5581de5f27c0db23a2df20\", element=\"fffa9061-739e-4a97-b7aa-b46afd89cf6f\")>,\n",
       " <selenium.webdriver.remote.webelement.WebElement (session=\"9082de2a7d5581de5f27c0db23a2df20\", element=\"e0452349-5206-4e41-88a5-a352fb97579c\")>,\n",
       " <selenium.webdriver.remote.webelement.WebElement (session=\"9082de2a7d5581de5f27c0db23a2df20\", element=\"0a6059ea-4ec6-4528-b1d8-0421683d597a\")>,\n",
       " <selenium.webdriver.remote.webelement.WebElement (session=\"9082de2a7d5581de5f27c0db23a2df20\", element=\"788ef1cf-bc78-49fa-a8aa-210eef92cdc9\")>,\n",
       " <selenium.webdriver.remote.webelement.WebElement (session=\"9082de2a7d5581de5f27c0db23a2df20\", element=\"46a2d789-584f-45db-9691-782234c78494\")>,\n",
       " <selenium.webdriver.remote.webelement.WebElement (session=\"9082de2a7d5581de5f27c0db23a2df20\", element=\"db5d483f-25de-480b-a6c6-0660b5e619e8\")>,\n",
       " <selenium.webdriver.remote.webelement.WebElement (session=\"9082de2a7d5581de5f27c0db23a2df20\", element=\"9ee25614-9ca5-4d7b-a580-a5848f4d55ad\")>,\n",
       " <selenium.webdriver.remote.webelement.WebElement (session=\"9082de2a7d5581de5f27c0db23a2df20\", element=\"e4bf6ead-39fc-4463-81c9-d0677a9f39b7\")>,\n",
       " <selenium.webdriver.remote.webelement.WebElement (session=\"9082de2a7d5581de5f27c0db23a2df20\", element=\"5617dd0a-6fa1-4d16-aae6-add71491de91\")>,\n",
       " <selenium.webdriver.remote.webelement.WebElement (session=\"9082de2a7d5581de5f27c0db23a2df20\", element=\"490fbf25-e0bb-4e3f-8dac-ae5088d5cc8b\")>,\n",
       " <selenium.webdriver.remote.webelement.WebElement (session=\"9082de2a7d5581de5f27c0db23a2df20\", element=\"ad74f137-db8a-4935-8d62-302b99b66f3a\")>,\n",
       " <selenium.webdriver.remote.webelement.WebElement (session=\"9082de2a7d5581de5f27c0db23a2df20\", element=\"3486588f-c1ce-4d9f-bc76-08b9cfe19388\")>,\n",
       " <selenium.webdriver.remote.webelement.WebElement (session=\"9082de2a7d5581de5f27c0db23a2df20\", element=\"05b35d10-e154-4993-8d35-f849be4dc570\")>,\n",
       " <selenium.webdriver.remote.webelement.WebElement (session=\"9082de2a7d5581de5f27c0db23a2df20\", element=\"918000f1-9da4-4119-a0b7-9b24fa747e6c\")>,\n",
       " <selenium.webdriver.remote.webelement.WebElement (session=\"9082de2a7d5581de5f27c0db23a2df20\", element=\"5b9ee5aa-f4a7-4de1-9350-266a24427c71\")>,\n",
       " <selenium.webdriver.remote.webelement.WebElement (session=\"9082de2a7d5581de5f27c0db23a2df20\", element=\"ec289128-f065-4260-a9e9-22fd737f81db\")>,\n",
       " <selenium.webdriver.remote.webelement.WebElement (session=\"9082de2a7d5581de5f27c0db23a2df20\", element=\"5e0f3575-3bf4-4cdf-91ac-4a77f4a34748\")>,\n",
       " <selenium.webdriver.remote.webelement.WebElement (session=\"9082de2a7d5581de5f27c0db23a2df20\", element=\"2ced5dd9-7383-4739-ac02-edbfef5e06e3\")>,\n",
       " <selenium.webdriver.remote.webelement.WebElement (session=\"9082de2a7d5581de5f27c0db23a2df20\", element=\"95a916e9-97cc-47be-aa41-68ef8d2fab51\")>,\n",
       " <selenium.webdriver.remote.webelement.WebElement (session=\"9082de2a7d5581de5f27c0db23a2df20\", element=\"48eedc34-ffa1-4270-bc4e-00afd07062c7\")>,\n",
       " <selenium.webdriver.remote.webelement.WebElement (session=\"9082de2a7d5581de5f27c0db23a2df20\", element=\"23427ff5-b656-4ecc-b359-2992fc5ca8b7\")>,\n",
       " <selenium.webdriver.remote.webelement.WebElement (session=\"9082de2a7d5581de5f27c0db23a2df20\", element=\"5679d2ae-047b-44f6-acde-f925bb05a01d\")>,\n",
       " <selenium.webdriver.remote.webelement.WebElement (session=\"9082de2a7d5581de5f27c0db23a2df20\", element=\"a31b2027-0158-4fd8-8abc-cb7c1df9649d\")>,\n",
       " <selenium.webdriver.remote.webelement.WebElement (session=\"9082de2a7d5581de5f27c0db23a2df20\", element=\"748fc0f5-6960-4673-9244-decb16398d67\")>,\n",
       " <selenium.webdriver.remote.webelement.WebElement (session=\"9082de2a7d5581de5f27c0db23a2df20\", element=\"798c4b8b-2cf6-4070-9153-1adff7611c9e\")>,\n",
       " <selenium.webdriver.remote.webelement.WebElement (session=\"9082de2a7d5581de5f27c0db23a2df20\", element=\"8a10816b-3a90-4f98-89c6-69e696a6351c\")>]"
      ]
     },
     "execution_count": 584,
     "metadata": {},
     "output_type": "execute_result"
    }
   ],
   "source": [
    "brand_price"
   ]
  },
  {
   "cell_type": "code",
   "execution_count": 585,
   "metadata": {},
   "outputs": [
    {
     "data": {
      "text/plain": [
       "['97,149',\n",
       " '79,990',\n",
       " '57,990',\n",
       " '86,990',\n",
       " '86,990',\n",
       " '96,519',\n",
       " '80,879',\n",
       " '97,149',\n",
       " '79,990',\n",
       " '88,190',\n",
       " '89,990',\n",
       " '44,930',\n",
       " '89,990',\n",
       " '68,990',\n",
       " '76,490',\n",
       " '88,999',\n",
       " '48,699',\n",
       " '94,990',\n",
       " '89,990',\n",
       " '93,990',\n",
       " '30,990',\n",
       " '57,999',\n",
       " '1,16,088',\n",
       " '46,500',\n",
       " '1,20,990',\n",
       " '49,299',\n",
       " '1,24,990',\n",
       " '36,994',\n",
       " '1,38,200',\n",
       " '1,10,000']"
      ]
     },
     "execution_count": 585,
     "metadata": {},
     "output_type": "execute_result"
    }
   ],
   "source": [
    "Price=[]\n",
    "for i in brand_price:\n",
    "   Price.append(i.text)\n",
    "len(Price)  \n",
    "Price"
   ]
  },
  {
   "cell_type": "code",
   "execution_count": 587,
   "metadata": {},
   "outputs": [
    {
     "data": {
      "text/html": [
       "<div>\n",
       "<style scoped>\n",
       "    .dataframe tbody tr th:only-of-type {\n",
       "        vertical-align: middle;\n",
       "    }\n",
       "\n",
       "    .dataframe tbody tr th {\n",
       "        vertical-align: top;\n",
       "    }\n",
       "\n",
       "    .dataframe thead th {\n",
       "        text-align: right;\n",
       "    }\n",
       "</style>\n",
       "<table border=\"1\" class=\"dataframe\">\n",
       "  <thead>\n",
       "    <tr style=\"text-align: right;\">\n",
       "      <th></th>\n",
       "      <th>Brand_name</th>\n",
       "      <th>Brand_Price</th>\n",
       "    </tr>\n",
       "  </thead>\n",
       "  <tbody>\n",
       "    <tr>\n",
       "      <th>0</th>\n",
       "      <td>Dell 15 (2021) Inspiron 5518 Intel Thunderbolt...</td>\n",
       "      <td>97,149</td>\n",
       "    </tr>\n",
       "    <tr>\n",
       "      <th>1</th>\n",
       "      <td>Fujitsu UH-X 11th Gen Intel i7 Core 13.3 inche...</td>\n",
       "      <td>79,990</td>\n",
       "    </tr>\n",
       "    <tr>\n",
       "      <th>2</th>\n",
       "      <td>ASUS VivoBook 14 (2021), 14-inch (35.56 cms) F...</td>\n",
       "      <td>57,990</td>\n",
       "    </tr>\n",
       "    <tr>\n",
       "      <th>3</th>\n",
       "      <td>HP Pavilion 14, 11th Gen Intel Core i7-16GB RA...</td>\n",
       "      <td>86,990</td>\n",
       "    </tr>\n",
       "    <tr>\n",
       "      <th>4</th>\n",
       "      <td>Lenovo ThinkBook 15 Intel 11th Gen Core i7 15....</td>\n",
       "      <td>86,990</td>\n",
       "    </tr>\n",
       "    <tr>\n",
       "      <th>5</th>\n",
       "      <td>LG Gram Intel Evo 11th Gen Core i7 17 inches U...</td>\n",
       "      <td>96,519</td>\n",
       "    </tr>\n",
       "    <tr>\n",
       "      <th>6</th>\n",
       "      <td>Lenovo IdeaPad 5 Pro 11th Gen Intel Core i7 14...</td>\n",
       "      <td>80,879</td>\n",
       "    </tr>\n",
       "    <tr>\n",
       "      <th>7</th>\n",
       "      <td>Dell 15 (2021) Inspiron 5518 Intel Thunderbolt...</td>\n",
       "      <td>97,149</td>\n",
       "    </tr>\n",
       "    <tr>\n",
       "      <th>8</th>\n",
       "      <td>Fujitsu UH-X 11th Gen Intel i7 Core 13.3 inche...</td>\n",
       "      <td>79,990</td>\n",
       "    </tr>\n",
       "    <tr>\n",
       "      <th>9</th>\n",
       "      <td>HP Pavilion x360 11th Gen Intel Core i7 14 inc...</td>\n",
       "      <td>88,190</td>\n",
       "    </tr>\n",
       "  </tbody>\n",
       "</table>\n",
       "</div>"
      ],
      "text/plain": [
       "                                          Brand_name Brand_Price\n",
       "0  Dell 15 (2021) Inspiron 5518 Intel Thunderbolt...      97,149\n",
       "1  Fujitsu UH-X 11th Gen Intel i7 Core 13.3 inche...      79,990\n",
       "2  ASUS VivoBook 14 (2021), 14-inch (35.56 cms) F...      57,990\n",
       "3  HP Pavilion 14, 11th Gen Intel Core i7-16GB RA...      86,990\n",
       "4  Lenovo ThinkBook 15 Intel 11th Gen Core i7 15....      86,990\n",
       "5  LG Gram Intel Evo 11th Gen Core i7 17 inches U...      96,519\n",
       "6  Lenovo IdeaPad 5 Pro 11th Gen Intel Core i7 14...      80,879\n",
       "7  Dell 15 (2021) Inspiron 5518 Intel Thunderbolt...      97,149\n",
       "8  Fujitsu UH-X 11th Gen Intel i7 Core 13.3 inche...      79,990\n",
       "9  HP Pavilion x360 11th Gen Intel Core i7 14 inc...      88,190"
      ]
     },
     "execution_count": 587,
     "metadata": {},
     "output_type": "execute_result"
    }
   ],
   "source": [
    "laptop=pd.DataFrame()\n",
    "laptop['Brand_name']=brand\n",
    "\n",
    "laptop['Brand_Price']=Price\n",
    "laptop[0:10]"
   ]
  },
  {
   "cell_type": "code",
   "execution_count": null,
   "metadata": {},
   "outputs": [],
   "source": []
  },
  {
   "cell_type": "code",
   "execution_count": null,
   "metadata": {},
   "outputs": [],
   "source": []
  },
  {
   "cell_type": "code",
   "execution_count": null,
   "metadata": {},
   "outputs": [],
   "source": []
  },
  {
   "cell_type": "code",
   "execution_count": 10,
   "metadata": {},
   "outputs": [],
   "source": [
    "######9\n",
    "import selenium\n",
    "from selenium import webdriver \n",
    "import pandas as pd \n",
    "import warnings\n",
    "warnings.filterwarnings('ignore')"
   ]
  },
  {
   "cell_type": "code",
   "execution_count": 11,
   "metadata": {},
   "outputs": [],
   "source": [
    "driver=webdriver.Chrome(r\"C:/Users/Lenovo/Downloads/chromedriver_win32/chromedriver.exe\")"
   ]
  },
  {
   "cell_type": "code",
   "execution_count": 12,
   "metadata": {},
   "outputs": [],
   "source": [
    "url = \"https://www.ambitionbox.com/\"\n",
    "driver.get(url)"
   ]
  },
  {
   "cell_type": "code",
   "execution_count": null,
   "metadata": {},
   "outputs": [],
   "source": []
  },
  {
   "cell_type": "code",
   "execution_count": null,
   "metadata": {},
   "outputs": [],
   "source": []
  },
  {
   "cell_type": "code",
   "execution_count": 16,
   "metadata": {},
   "outputs": [
    {
     "data": {
      "text/plain": [
       "<selenium.webdriver.remote.webelement.WebElement (session=\"0e5834b6e0fb27ea2459129a63a01ad6\", element=\"42c16aa2-99a5-4ed6-b025-98b53a53157d\")>"
      ]
     },
     "execution_count": 16,
     "metadata": {},
     "output_type": "execute_result"
    }
   ],
   "source": [
    "#scraping the job-designation\n",
    "search_desg=driver.find_element_by_xpath(\"/html/body/section[1]/div/div[2]/form/input\")\n",
    "search_desg"
   ]
  },
  {
   "cell_type": "code",
   "execution_count": 17,
   "metadata": {},
   "outputs": [],
   "source": [
    "search_desg.send_keys(\"Data Scientist\")"
   ]
  },
  {
   "cell_type": "code",
   "execution_count": null,
   "metadata": {},
   "outputs": [],
   "source": [
    "search_desg=driver.find_element_by_xpath(\"/html/body/div/div[2]/div[3]/div/div/div[6]\")\n",
    "search_btn.click()"
   ]
  },
  {
   "cell_type": "code",
   "execution_count": 9,
   "metadata": {},
   "outputs": [
    {
     "data": {
      "text/plain": [
       "<selenium.webdriver.remote.webelement.WebElement (session=\"a6fb0296f86a4ceb176199fef8231ea4\", element=\"70756ffa-81d5-4bde-888b-2fdd63605115\")>"
      ]
     },
     "execution_count": 9,
     "metadata": {},
     "output_type": "execute_result"
    }
   ],
   "source": [
    "#scraping the job-salaries/body/secti\n",
    "search_desg=driver.find_element_by_xpath(\"/html/body/div[2]/nav/nav/a[4]\")\n",
    "search_desg"
   ]
  },
  {
   "cell_type": "code",
   "execution_count": null,
   "metadata": {},
   "outputs": [],
   "source": []
  },
  {
   "cell_type": "code",
   "execution_count": null,
   "metadata": {},
   "outputs": [],
   "source": []
  }
 ],
 "metadata": {
  "kernelspec": {
   "display_name": "Python 3",
   "language": "python",
   "name": "python3"
  },
  "language_info": {
   "codemirror_mode": {
    "name": "ipython",
    "version": 3
   },
   "file_extension": ".py",
   "mimetype": "text/x-python",
   "name": "python",
   "nbconvert_exporter": "python",
   "pygments_lexer": "ipython3",
   "version": "3.8.5"
  }
 },
 "nbformat": 4,
 "nbformat_minor": 4
}
